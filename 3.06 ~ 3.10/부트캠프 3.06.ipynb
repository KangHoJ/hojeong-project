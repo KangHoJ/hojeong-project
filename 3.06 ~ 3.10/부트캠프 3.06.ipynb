{
 "cells": [
  {
   "cell_type": "markdown",
   "id": "10a7cca5-530b-4200-a6bf-1ffb8f862312",
   "metadata": {},
   "source": [
    "## Pandas "
   ]
  },
  {
   "cell_type": "code",
   "execution_count": 5,
   "id": "69f9f1b7-3278-4bd1-a655-f6d692ac0e48",
   "metadata": {},
   "outputs": [
    {
     "data": {
      "text/plain": [
       "1    하나\n",
       "2     둘\n",
       "3     셋\n",
       "dtype: object"
      ]
     },
     "execution_count": 5,
     "metadata": {},
     "output_type": "execute_result"
    }
   ],
   "source": [
    "import pandas as pd\n",
    "s = pd.Series(['하나','둘','셋'],index = [i for i in range(1,4)])\n",
    "s"
   ]
  },
  {
   "cell_type": "code",
   "execution_count": 6,
   "id": "7b69f671-832c-497b-90e6-fda35586f8c5",
   "metadata": {},
   "outputs": [
    {
     "data": {
      "text/plain": [
       "서울    9904312\n",
       "부산    3448737\n",
       "인천    2890451\n",
       "대구    2466052\n",
       "dtype: int64"
      ]
     },
     "execution_count": 6,
     "metadata": {},
     "output_type": "execute_result"
    }
   ],
   "source": [
    "s2 = pd.Series([9_904_312, 3_448_737,2_890_451,2_466_052],index=['서울','부산','인천','대구'])\n",
    "s2"
   ]
  },
  {
   "cell_type": "markdown",
   "id": "86e6030d-fbbd-451d-8044-9405d0e84b4f",
   "metadata": {},
   "source": [
    "### 연습문제"
   ]
  },
  {
   "cell_type": "code",
   "execution_count": 10,
   "id": "25ba4997-a3f3-46ee-be9f-86b09b39da1a",
   "metadata": {},
   "outputs": [
    {
     "data": {
      "text/plain": [
       "0    10\n",
       "1    20\n",
       "2    30\n",
       "3    40\n",
       "4    50\n",
       "5    60\n",
       "6    70\n",
       "7    80\n",
       "8    90\n",
       "dtype: int64"
      ]
     },
     "execution_count": 10,
     "metadata": {},
     "output_type": "execute_result"
    }
   ],
   "source": [
    "s3 = pd.Series([10,20,30,40,50,60,70,80,90],index=None)\n",
    "s3"
   ]
  },
  {
   "cell_type": "code",
   "execution_count": 24,
   "id": "c6de88e4-5fb5-4e69-a9fe-eb8d55c7296b",
   "metadata": {},
   "outputs": [
    {
     "name": "stdout",
     "output_type": "stream",
     "text": [
      "RangeIndex(start=0, stop=9, step=1, name='도시')\n",
      "[10 20 30 40 50 60 70 80 90]\n"
     ]
    },
    {
     "data": {
      "text/plain": [
       "numpy.ndarray"
      ]
     },
     "execution_count": 24,
     "metadata": {},
     "output_type": "execute_result"
    }
   ],
   "source": [
    "print(s3.index)\n",
    "print(s3.values)\n",
    "type(s3.values) # 값이 ndarray 형태 "
   ]
  },
  {
   "cell_type": "code",
   "execution_count": 30,
   "id": "c19d5b73-23ed-40d6-a777-51f5b5b7da58",
   "metadata": {},
   "outputs": [
    {
     "data": {
      "text/plain": [
       "도시\n",
       "0    False\n",
       "1    False\n",
       "2    False\n",
       "3    False\n",
       "4    False\n",
       "5     True\n",
       "6     True\n",
       "7     True\n",
       "8     True\n",
       "Name: 인구, dtype: bool"
      ]
     },
     "execution_count": 30,
     "metadata": {},
     "output_type": "execute_result"
    }
   ],
   "source": [
    "s3[s3>50].count()\n",
    "# 방법 2  sum(s3>50)"
   ]
  },
  {
   "cell_type": "code",
   "execution_count": 21,
   "id": "4930512f-ce12-48fa-9d64-016c96770778",
   "metadata": {},
   "outputs": [
    {
     "data": {
      "text/plain": [
       "도시\n",
       "0    10\n",
       "1    20\n",
       "2    30\n",
       "3    40\n",
       "4    50\n",
       "5    60\n",
       "6    70\n",
       "7    80\n",
       "8    90\n",
       "Name: 인구, dtype: int64"
      ]
     },
     "execution_count": 21,
     "metadata": {},
     "output_type": "execute_result"
    }
   ],
   "source": [
    "s3.name='인구'       #데이터 이름 주기\n",
    "s3.index.name='도시' #index에 이름 주기 \n",
    "s3"
   ]
  },
  {
   "cell_type": "code",
   "execution_count": 22,
   "id": "91b574ae-e06f-438a-a740-0e23fef26571",
   "metadata": {},
   "outputs": [
    {
     "data": {
      "text/plain": [
       "a    1\n",
       "b    2\n",
       "c    3\n",
       "dtype: int64"
      ]
     },
     "execution_count": 22,
     "metadata": {},
     "output_type": "execute_result"
    }
   ],
   "source": [
    "d = {'a':1 , 'b':2 , 'c':3}  # 딕셔너리 series 로 만들기 \n",
    "ser = pd.Series(data=d,index=['a','b','c'])\n",
    "ser"
   ]
  },
  {
   "cell_type": "code",
   "execution_count": null,
   "id": "44c6c6b7-67e4-47f3-b2c6-117d87b46ad8",
   "metadata": {},
   "outputs": [
    {
     "data": {
      "text/plain": [
       "x   NaN\n",
       "y   NaN\n",
       "z   NaN\n",
       "dtype: float64"
      ]
     },
     "execution_count": 23,
     "metadata": {},
     "output_type": "execute_result"
    }
   ],
   "source": [
    "d = {'a':1 , 'b':2 , 'c':3}  \n",
    "ser = pd.Series(data=d,index=['x','y','z'])\n",
    "ser # 딕셔너리로 series만들면 index 가 딕셔너리의 key로 자동지정"
   ]
  },
  {
   "cell_type": "code",
   "execution_count": 265,
   "id": "620b6638-4a1d-4b09-bfae-83c666f902a9",
   "metadata": {},
   "outputs": [
    {
     "data": {
      "text/plain": [
       "서울    1904312\n",
       "부산    1448737\n",
       "인천    3890451\n",
       "대구    4466052\n",
       "dtype: int64"
      ]
     },
     "execution_count": 265,
     "metadata": {},
     "output_type": "execute_result"
    }
   ],
   "source": [
    "s4 = pd.Series({'서울':1_904_312,'부산':1_448_737,'인천':3_890_451,'대구':4_466_052})\n",
    "s4"
   ]
  },
  {
   "cell_type": "markdown",
   "id": "d37f4098-30ff-40fe-9695-ac3f1a192cc1",
   "metadata": {},
   "source": [
    "### 연습문제"
   ]
  },
  {
   "cell_type": "code",
   "execution_count": 27,
   "id": "2fdee496-e9ba-44c9-b075-4e85f0e3ec5d",
   "metadata": {
    "tags": []
   },
   "outputs": [
    {
     "data": {
      "text/plain": [
       "철수     88\n",
       "영희     95\n",
       "길동    100\n",
       "몽룡     34\n",
       "dtype: int64"
      ]
     },
     "execution_count": 27,
     "metadata": {},
     "output_type": "execute_result"
    }
   ],
   "source": [
    "s5 = pd.Series({'철수':88,'영희':95,'길동':100,'몽룡':34})\n",
    "s5"
   ]
  },
  {
   "cell_type": "code",
   "execution_count": 31,
   "id": "6c04eabe-917d-41c5-b765-677e04c443ca",
   "metadata": {},
   "outputs": [
    {
     "data": {
      "text/plain": [
       "True"
      ]
     },
     "execution_count": 31,
     "metadata": {},
     "output_type": "execute_result"
    }
   ],
   "source": [
    "'철수' in s5"
   ]
  },
  {
   "cell_type": "code",
   "execution_count": 66,
   "id": "12554234-e622-4064-abf6-8d3760a6cc27",
   "metadata": {},
   "outputs": [
    {
     "data": {
      "text/plain": [
       "True"
      ]
     },
     "execution_count": 66,
     "metadata": {},
     "output_type": "execute_result"
    }
   ],
   "source": [
    "88 in s5.values"
   ]
  },
  {
   "cell_type": "code",
   "execution_count": 64,
   "id": "b03e7ba1-f291-4ed3-acd4-5ece51f11828",
   "metadata": {},
   "outputs": [
    {
     "data": {
      "text/plain": [
       "{0: '영',\n",
       " 1: '일',\n",
       " 2: '이',\n",
       " 3: '삼',\n",
       " 4: '사',\n",
       " 5: '오',\n",
       " 6: '육',\n",
       " 7: '칠',\n",
       " 8: '팔',\n",
       " 9: '구'}"
      ]
     },
     "execution_count": 64,
     "metadata": {},
     "output_type": "execute_result"
    }
   ],
   "source": [
    "test = dict(zip(range(10),list('영일이삼사오육칠팔구')))\n",
    "test"
   ]
  },
  {
   "cell_type": "code",
   "execution_count": 33,
   "id": "0ebcc987-7004-4cfe-9d48-2b6287a387ce",
   "metadata": {},
   "outputs": [
    {
     "name": "stdout",
     "output_type": "stream",
     "text": [
      "철수 88\n",
      "영희 95\n",
      "길동 100\n",
      "몽룡 34\n"
     ]
    }
   ],
   "source": [
    "for k,v in s5.items():\n",
    "    print(f'{k} {v}')"
   ]
  },
  {
   "cell_type": "code",
   "execution_count": 76,
   "id": "05972d46-9f3d-46c9-9852-4765a596efbf",
   "metadata": {},
   "outputs": [
    {
     "name": "stdout",
     "output_type": "stream",
     "text": [
      "88\n",
      "95\n",
      "100\n",
      "34\n"
     ]
    }
   ],
   "source": [
    "for _ , v in s5.items(): # values 만 가져오고 싶을떄 \n",
    "    print(f'{v}')"
   ]
  },
  {
   "cell_type": "markdown",
   "id": "26345a2e-c5a9-4a8e-aac0-acca3cb9832c",
   "metadata": {},
   "source": [
    "### 연습문제"
   ]
  },
  {
   "cell_type": "code",
   "execution_count": 82,
   "id": "930fb631-07b6-44e3-b650-110f62149845",
   "metadata": {},
   "outputs": [
    {
     "name": "stdout",
     "output_type": "stream",
     "text": [
      "인천의 인구는 300만이 넘습니다.\n",
      "대구의 인구는 300만이 넘습니다.\n"
     ]
    }
   ],
   "source": [
    "for k,v in s4.items():\n",
    "    if v >3000000:\n",
    "        print(f'{k}의 인구는 300만이 넘습니다.')"
   ]
  },
  {
   "cell_type": "markdown",
   "id": "bfc6d240-05a8-4838-bedf-ca169e4643c5",
   "metadata": {},
   "source": [
    "### series 슬라이싱"
   ]
  },
  {
   "cell_type": "code",
   "execution_count": 266,
   "id": "855a5d44-0af5-4f10-a37e-aab551752973",
   "metadata": {},
   "outputs": [
    {
     "data": {
      "text/plain": [
       "(1448737, 1448737)"
      ]
     },
     "execution_count": 266,
     "metadata": {},
     "output_type": "execute_result"
    }
   ],
   "source": [
    "s4[1] ,s4['부산'] # 슬라이싱도 가능하다(값을 가져올떄)"
   ]
  },
  {
   "cell_type": "code",
   "execution_count": 45,
   "id": "e2aa5b98-c1f4-4bad-97a5-658483a951b3",
   "metadata": {},
   "outputs": [
    {
     "data": {
      "text/plain": [
       "서울    1904312\n",
       "대구    4466052\n",
       "부산    1448737\n",
       "dtype: int64"
      ]
     },
     "execution_count": 267,
     "metadata": {},
     "output_type": "execute_result"
    }
   ],
   "source": [
    "s4[[0,3,1]]\n",
    "s4[['서울','대구','부산']]"
   ]
  },
  {
   "cell_type": "code",
   "execution_count": 46,
   "id": "da67fd6e-ce53-45bc-bef3-43a35225e206",
   "metadata": {},
   "outputs": [
    {
     "data": {
      "text/plain": [
       "서울    9904312\n",
       "dtype: int64"
      ]
     },
     "execution_count": 46,
     "metadata": {},
     "output_type": "execute_result"
    }
   ],
   "source": [
    "s4[[0]] #하나의 series를 가져올떄"
   ]
  },
  {
   "cell_type": "markdown",
   "id": "3de52c5a-0632-49c4-b125-160fb718644d",
   "metadata": {},
   "source": [
    "### 연습문제"
   ]
  },
  {
   "cell_type": "code",
   "execution_count": 47,
   "id": "3811db1b-ae28-4aa2-98d1-10391486ae54",
   "metadata": {},
   "outputs": [
    {
     "data": {
      "text/plain": [
       "인천    2890451\n",
       "dtype: int64"
      ]
     },
     "execution_count": 47,
     "metadata": {},
     "output_type": "execute_result"
    }
   ],
   "source": [
    "s4[[2]]"
   ]
  },
  {
   "cell_type": "code",
   "execution_count": 48,
   "id": "3609f9f8-8214-4f0e-b98c-46eb425eb093",
   "metadata": {},
   "outputs": [
    {
     "data": {
      "text/plain": [
       "부산    3448737\n",
       "인천    2890451\n",
       "dtype: int64"
      ]
     },
     "execution_count": 48,
     "metadata": {},
     "output_type": "execute_result"
    }
   ],
   "source": [
    "s4[1:3]"
   ]
  },
  {
   "cell_type": "code",
   "execution_count": 54,
   "id": "e52d51fa-c84f-4547-8b74-bc41e306a01f",
   "metadata": {},
   "outputs": [
    {
     "data": {
      "text/plain": [
       "부산    3448737\n",
       "인천    2890451\n",
       "대구    2466052\n",
       "dtype: int64"
      ]
     },
     "execution_count": 54,
     "metadata": {},
     "output_type": "execute_result"
    }
   ],
   "source": [
    "s4[[1,2,3]]"
   ]
  },
  {
   "cell_type": "markdown",
   "id": "bbe6fc3d-f651-478e-a867-c43bba19acf6",
   "metadata": {},
   "source": [
    "### series 연산"
   ]
  },
  {
   "cell_type": "code",
   "execution_count": 55,
   "id": "5c679636-bceb-459e-8bc8-2bbeba2a00a5",
   "metadata": {},
   "outputs": [
    {
     "data": {
      "text/plain": [
       "도시\n",
       "서울     999999\n",
       "부산    3333333\n",
       "인천    2222222\n",
       "대구    1111111\n",
       "Name: 인구, dtype: int64"
      ]
     },
     "execution_count": 55,
     "metadata": {},
     "output_type": "execute_result"
    }
   ],
   "source": [
    "a= pd.Series([999999,3333333,2222222,1111111],index=['서울','부산','인천','대구'])\n",
    "a.name='인구'\n",
    "a.index.name='도시'\n",
    "a"
   ]
  },
  {
   "cell_type": "code",
   "execution_count": 61,
   "id": "30ffb3ea-60eb-492c-a469-0143b7a3d0f0",
   "metadata": {},
   "outputs": [
    {
     "data": {
      "text/plain": [
       "서울    5555555\n",
       "부산    3333333\n",
       "인천    2222222\n",
       "대전    1542353\n",
       "dtype: int64"
      ]
     },
     "execution_count": 61,
     "metadata": {},
     "output_type": "execute_result"
    }
   ],
   "source": [
    "a2 = pd.Series({'서울':5555555,'부산':3333333,'인천':2222222,'대전':1542353})\n",
    "a2"
   ]
  },
  {
   "cell_type": "code",
   "execution_count": 84,
   "id": "5c4165e6-ca46-4b35-87f6-6feedd465cdf",
   "metadata": {},
   "outputs": [
    {
     "data": {
      "text/plain": [
       "대구          NaN\n",
       "대전          NaN\n",
       "부산          0.0\n",
       "서울   -4555556.0\n",
       "인천          0.0\n",
       "dtype: float64"
      ]
     },
     "execution_count": 84,
     "metadata": {},
     "output_type": "execute_result"
    }
   ],
   "source": [
    "k = a-a2 # 한쪽에 없는 값은 NAN으로 나옴\n",
    "k"
   ]
  },
  {
   "cell_type": "code",
   "execution_count": 85,
   "id": "eb09a12a-3f4d-41f4-9296-0f474cf4eaf4",
   "metadata": {},
   "outputs": [
    {
     "data": {
      "text/plain": [
       "대구     True\n",
       "대전     True\n",
       "부산    False\n",
       "서울    False\n",
       "인천    False\n",
       "dtype: bool"
      ]
     },
     "execution_count": 85,
     "metadata": {},
     "output_type": "execute_result"
    }
   ],
   "source": [
    "k.isnull() # null값 있으면 True"
   ]
  },
  {
   "cell_type": "code",
   "execution_count": 86,
   "id": "b2cdb9f7-4d56-462c-ba17-e11ccf43a180",
   "metadata": {},
   "outputs": [
    {
     "data": {
      "text/plain": [
       "대구    False\n",
       "대전    False\n",
       "부산     True\n",
       "서울     True\n",
       "인천     True\n",
       "dtype: bool"
      ]
     },
     "execution_count": 86,
     "metadata": {},
     "output_type": "execute_result"
    }
   ],
   "source": [
    "k.notnull()"
   ]
  },
  {
   "cell_type": "code",
   "execution_count": 89,
   "id": "f4a6dd67-9533-40d9-adcd-487986144678",
   "metadata": {},
   "outputs": [
    {
     "data": {
      "text/plain": [
       "부산          0.0\n",
       "서울   -4555556.0\n",
       "인천          0.0\n",
       "dtype: float64"
      ]
     },
     "execution_count": 89,
     "metadata": {},
     "output_type": "execute_result"
    }
   ],
   "source": [
    "k[k.notnull()] # null이 아닌값들 출력 "
   ]
  },
  {
   "cell_type": "code",
   "execution_count": null,
   "id": "6ff04692-99f4-4f18-a14f-73709bc18a09",
   "metadata": {},
   "outputs": [],
   "source": [
    "del rs['서울']"
   ]
  },
  {
   "cell_type": "markdown",
   "id": "ede7c6d5-bf2b-4ee2-b57a-6aff3037538b",
   "metadata": {},
   "source": [
    "### 가벼운 실습"
   ]
  },
  {
   "cell_type": "code",
   "execution_count": 94,
   "id": "41fdfc82-6359-485a-97b2-bc6d73c57b2b",
   "metadata": {},
   "outputs": [
    {
     "data": {
      "text/plain": [
       "부산    1.636984\n",
       "서울    2.832690\n",
       "인천    9.818107\n",
       "dtype: float64"
      ]
     },
     "execution_count": 94,
     "metadata": {},
     "output_type": "execute_result"
    }
   ],
   "source": [
    "c = pd.Series({'서울':9904312,'부산':3448737,'인천':2890451,'대구':2466052}) #2015년 인구\n",
    "c2 = pd.Series({'서울':9631482,'부산':3393191,'인천':2632035,'대전':1490158}) # 2010년 인구\n",
    "rs = (c-c2) / c2*100 # 인구 증가율\n",
    "rs = rs[rs.notnull()] # null이 아닌 즉 TRUE인 값에 대해서만 출력 \n",
    "rs"
   ]
  },
  {
   "cell_type": "markdown",
   "id": "d6d74e6f-bc0e-4160-b88a-c65071211915",
   "metadata": {},
   "source": [
    "### 연습문제"
   ]
  },
  {
   "cell_type": "code",
   "execution_count": 124,
   "id": "c6e9111a-025b-430b-b776-73708136125f",
   "metadata": {},
   "outputs": [
    {
     "data": {
      "text/plain": [
       "서울    272830.0\n",
       "dtype: float64"
      ]
     },
     "execution_count": 124,
     "metadata": {},
     "output_type": "execute_result"
    }
   ],
   "source": [
    "c = pd.Series({'서울':9904312,'부산':3448737,'인천':2890451,'대구':2466052}) #2015년 인구\n",
    "c2 = pd.Series({'서울':9631482,'부산':3393191,'인천':2632035,'대전':1490158}) # 2010년 인구\n",
    "rk = c-c2\n",
    "rk2 = rk[rk.notnull()]\n",
    "rk3 = rk2.argmax() # 최대값의 index를 반환해줌 \n",
    "rk2[[rk3]]"
   ]
  },
  {
   "cell_type": "markdown",
   "id": "e13de06d-6d0f-442b-bfae-0c8d9ee3efe9",
   "metadata": {},
   "source": [
    "### 연습문제"
   ]
  },
  {
   "cell_type": "code",
   "execution_count": 114,
   "id": "0f1369f6-ac9d-48c7-a500-86a2968304dd",
   "metadata": {},
   "outputs": [
    {
     "data": {
      "text/plain": [
       "부산    1.63\n",
       "서울    2.83\n",
       "인천    9.82\n",
       "dtype: float64"
      ]
     },
     "execution_count": 114,
     "metadata": {},
     "output_type": "execute_result"
    }
   ],
   "source": [
    "rs['서울'] = 2.83 \n",
    "rs['인천'] = 9.82\n",
    "rs\n",
    "\n",
    "#방법 2\n",
    "rs['서울':'인천'] = (2.83,9.82)\n",
    "rs"
   ]
  },
  {
   "cell_type": "markdown",
   "id": "e83078d6-56c9-4b49-a6a8-c4fa20315c0c",
   "metadata": {},
   "source": [
    "### 연습문제"
   ]
  },
  {
   "cell_type": "code",
   "execution_count": 122,
   "id": "7fb3bc16-ef2b-405a-a570-061f53896516",
   "metadata": {},
   "outputs": [
    {
     "data": {
      "text/plain": [
       "카카오      60200\n",
       "삼성전자     61200\n",
       "네이버     200100\n",
       "dtype: int64"
      ]
     },
     "execution_count": 122,
     "metadata": {},
     "output_type": "execute_result"
    }
   ],
   "source": [
    "fin1 = {\"카카오\":60010, \"삼성전자\":61000, \"LG전자\": 90000}\n",
    "fin2_value = [60200, 61200, 200100]\n",
    "fin2_index = [\"카카오\", \"삼성전자\", \"네이버\"]\n",
    "\n",
    "ser_finance1 = pd.Series(fin1)\n",
    "ser_finance2 = pd.Series(fin2_value,fin2_index)"
   ]
  },
  {
   "cell_type": "markdown",
   "id": "b2ec5a4b-8438-4284-a551-cc4df1b0b176",
   "metadata": {},
   "source": [
    "### 연습문제"
   ]
  },
  {
   "cell_type": "code",
   "execution_count": 194,
   "id": "b5dc3428-bf55-48ae-a17c-f1ec51152d82",
   "metadata": {},
   "outputs": [
    {
     "name": "stdout",
     "output_type": "stream",
     "text": [
      "LG전자      NaN\n",
      "네이버       NaN\n",
      "삼성전자   -200.0\n",
      "카카오    -190.0\n",
      "dtype: float64\n"
     ]
    },
    {
     "data": {
      "text/plain": [
       "LG전자         NaN\n",
       "네이버          NaN\n",
       "삼성전자    0.996732\n",
       "카카오     0.996844\n",
       "dtype: float64"
      ]
     },
     "execution_count": 194,
     "metadata": {},
     "output_type": "execute_result"
    }
   ],
   "source": [
    "ser_finance1 - ser_finance2\n",
    "ser_finance1 + ser_finance2\n",
    "ser_finance1 * ser_finance2\n",
    "ser_finance1 / ser_finance2\n",
    "# 결과가 모두다 float형태로 나오는데 Nan이 있기 때문에"
   ]
  },
  {
   "cell_type": "markdown",
   "id": "9c6619aa-a5e3-4db6-bdca-34f0e3848296",
   "metadata": {},
   "source": [
    "### 연습문제"
   ]
  },
  {
   "cell_type": "code",
   "execution_count": 126,
   "id": "3091b26f-f3af-4532-b96b-1c8be8e713ff",
   "metadata": {
    "jupyter": {
     "source_hidden": true
    },
    "tags": []
   },
   "outputs": [
    {
     "data": {
      "text/plain": [
       "삼성전자   -200.0\n",
       "카카오    -190.0\n",
       "dtype: float64"
      ]
     },
     "execution_count": 126,
     "metadata": {},
     "output_type": "execute_result"
    }
   ],
   "source": [
    "result = ser_finance1 - ser_finance2\n",
    "result[result.notnull()]"
   ]
  },
  {
   "cell_type": "markdown",
   "id": "0d586b16-5b71-42a7-8b7b-c6a40189bb34",
   "metadata": {},
   "source": [
    "### DataFrame class"
   ]
  },
  {
   "cell_type": "code",
   "execution_count": 227,
   "id": "1cf8705e-e8bf-4d14-8596-2868d3e39bd8",
   "metadata": {},
   "outputs": [
    {
     "data": {
      "text/html": [
       "<div>\n",
       "<style scoped>\n",
       "    .dataframe tbody tr th:only-of-type {\n",
       "        vertical-align: middle;\n",
       "    }\n",
       "\n",
       "    .dataframe tbody tr th {\n",
       "        vertical-align: top;\n",
       "    }\n",
       "\n",
       "    .dataframe thead th {\n",
       "        text-align: right;\n",
       "    }\n",
       "</style>\n",
       "<table border=\"1\" class=\"dataframe\">\n",
       "  <thead>\n",
       "    <tr style=\"text-align: right;\">\n",
       "      <th></th>\n",
       "      <th>col1</th>\n",
       "      <th>col2</th>\n",
       "    </tr>\n",
       "  </thead>\n",
       "  <tbody>\n",
       "    <tr>\n",
       "      <th>0</th>\n",
       "      <td>1</td>\n",
       "      <td>3</td>\n",
       "    </tr>\n",
       "    <tr>\n",
       "      <th>1</th>\n",
       "      <td>2</td>\n",
       "      <td>4</td>\n",
       "    </tr>\n",
       "  </tbody>\n",
       "</table>\n",
       "</div>"
      ],
      "text/plain": [
       "   col1  col2\n",
       "0     1     3\n",
       "1     2     4"
      ]
     },
     "execution_count": 227,
     "metadata": {},
     "output_type": "execute_result"
    }
   ],
   "source": [
    "d = {'col1':[1,2] ,'col2':[3,4]}\n",
    "df = pd.DataFrame(data=d)\n",
    "df"
   ]
  },
  {
   "cell_type": "code",
   "execution_count": 231,
   "id": "3bda9990-df65-46d4-8e67-1041cedf8c35",
   "metadata": {},
   "outputs": [
    {
     "data": {
      "text/html": [
       "<div>\n",
       "<style scoped>\n",
       "    .dataframe tbody tr th:only-of-type {\n",
       "        vertical-align: middle;\n",
       "    }\n",
       "\n",
       "    .dataframe tbody tr th {\n",
       "        vertical-align: top;\n",
       "    }\n",
       "\n",
       "    .dataframe thead th {\n",
       "        text-align: right;\n",
       "    }\n",
       "</style>\n",
       "<table border=\"1\" class=\"dataframe\">\n",
       "  <thead>\n",
       "    <tr style=\"text-align: right;\">\n",
       "      <th></th>\n",
       "      <th>지역</th>\n",
       "      <th>2015</th>\n",
       "      <th>2010</th>\n",
       "      <th>2005</th>\n",
       "      <th>2000</th>\n",
       "      <th>2010-2015 증가율</th>\n",
       "    </tr>\n",
       "  </thead>\n",
       "  <tbody>\n",
       "    <tr>\n",
       "      <th>서울</th>\n",
       "      <td>수도권</td>\n",
       "      <td>9904312</td>\n",
       "      <td>9631482</td>\n",
       "      <td>9762546</td>\n",
       "      <td>9853972</td>\n",
       "      <td>0.0283</td>\n",
       "    </tr>\n",
       "    <tr>\n",
       "      <th>부산</th>\n",
       "      <td>경상권</td>\n",
       "      <td>3448737</td>\n",
       "      <td>3393191</td>\n",
       "      <td>3512547</td>\n",
       "      <td>3655437</td>\n",
       "      <td>0.0163</td>\n",
       "    </tr>\n",
       "    <tr>\n",
       "      <th>인천</th>\n",
       "      <td>수도권</td>\n",
       "      <td>2890451</td>\n",
       "      <td>2632035</td>\n",
       "      <td>2517680</td>\n",
       "      <td>2466338</td>\n",
       "      <td>0.0982</td>\n",
       "    </tr>\n",
       "    <tr>\n",
       "      <th>대구</th>\n",
       "      <td>경상권</td>\n",
       "      <td>2466052</td>\n",
       "      <td>2431774</td>\n",
       "      <td>2456016</td>\n",
       "      <td>2473990</td>\n",
       "      <td>0.0141</td>\n",
       "    </tr>\n",
       "  </tbody>\n",
       "</table>\n",
       "</div>"
      ],
      "text/plain": [
       "     지역     2015     2010     2005     2000  2010-2015 증가율\n",
       "서울  수도권  9904312  9631482  9762546  9853972         0.0283\n",
       "부산  경상권  3448737  3393191  3512547  3655437         0.0163\n",
       "인천  수도권  2890451  2632035  2517680  2466338         0.0982\n",
       "대구  경상권  2466052  2431774  2456016  2473990         0.0141"
      ]
     },
     "execution_count": 231,
     "metadata": {},
     "output_type": "execute_result"
    }
   ],
   "source": [
    "data = {\n",
    "    \"2015\" : [9904312, 3448737, 2890451, 2466052],\n",
    "    \"2010\" : [9631482, 3393191, 2632035, 2431774],\n",
    "    \"2005\" : [9762546, 3512547, 2517680, 2456016],\n",
    "    \"2000\" : [9853972, 3655437, 2466338, 2473990],\n",
    "    \"지역\" : [\"수도권\", \"경상권\", \"수도권\", \"경상권\"],\n",
    "    \"2010-2015 증가율\" :[0.0283, 0.0163, 0.0982, 0.0141]\n",
    "}\n",
    "columns = [\"지역\", \"2015\", \"2010\", \"2005\", \"2000\", \"2010-2015 증가율\"]\n",
    "index = [\"서울\", \"부산\", \"인천\", \"대구\"]\n",
    "df = pd.DataFrame(data, index = index, columns = columns)\n",
    "df"
   ]
  },
  {
   "cell_type": "code",
   "execution_count": null,
   "id": "3469142a-2da1-457f-9a2e-c6fe213724d7",
   "metadata": {},
   "outputs": [],
   "source": [
    "df.values\n",
    "df.columns\n",
    "df.index "
   ]
  },
  {
   "cell_type": "code",
   "execution_count": 232,
   "id": "ff85991e-3d7c-4940-b996-83e29156d37a",
   "metadata": {},
   "outputs": [
    {
     "data": {
      "text/html": [
       "<div>\n",
       "<style scoped>\n",
       "    .dataframe tbody tr th:only-of-type {\n",
       "        vertical-align: middle;\n",
       "    }\n",
       "\n",
       "    .dataframe tbody tr th {\n",
       "        vertical-align: top;\n",
       "    }\n",
       "\n",
       "    .dataframe thead th {\n",
       "        text-align: right;\n",
       "    }\n",
       "</style>\n",
       "<table border=\"1\" class=\"dataframe\">\n",
       "  <thead>\n",
       "    <tr style=\"text-align: right;\">\n",
       "      <th>특성</th>\n",
       "      <th>지역</th>\n",
       "      <th>2015</th>\n",
       "      <th>2010</th>\n",
       "      <th>2005</th>\n",
       "      <th>2000</th>\n",
       "      <th>2010-2015 증가율</th>\n",
       "    </tr>\n",
       "    <tr>\n",
       "      <th>도시</th>\n",
       "      <th></th>\n",
       "      <th></th>\n",
       "      <th></th>\n",
       "      <th></th>\n",
       "      <th></th>\n",
       "      <th></th>\n",
       "    </tr>\n",
       "  </thead>\n",
       "  <tbody>\n",
       "    <tr>\n",
       "      <th>서울</th>\n",
       "      <td>수도권</td>\n",
       "      <td>9904312</td>\n",
       "      <td>9631482</td>\n",
       "      <td>9762546</td>\n",
       "      <td>9853972</td>\n",
       "      <td>0.0283</td>\n",
       "    </tr>\n",
       "    <tr>\n",
       "      <th>부산</th>\n",
       "      <td>경상권</td>\n",
       "      <td>3448737</td>\n",
       "      <td>3393191</td>\n",
       "      <td>3512547</td>\n",
       "      <td>3655437</td>\n",
       "      <td>0.0163</td>\n",
       "    </tr>\n",
       "    <tr>\n",
       "      <th>인천</th>\n",
       "      <td>수도권</td>\n",
       "      <td>2890451</td>\n",
       "      <td>2632035</td>\n",
       "      <td>2517680</td>\n",
       "      <td>2466338</td>\n",
       "      <td>0.0982</td>\n",
       "    </tr>\n",
       "    <tr>\n",
       "      <th>대구</th>\n",
       "      <td>경상권</td>\n",
       "      <td>2466052</td>\n",
       "      <td>2431774</td>\n",
       "      <td>2456016</td>\n",
       "      <td>2473990</td>\n",
       "      <td>0.0141</td>\n",
       "    </tr>\n",
       "  </tbody>\n",
       "</table>\n",
       "</div>"
      ],
      "text/plain": [
       "특성   지역     2015     2010     2005     2000  2010-2015 증가율\n",
       "도시                                                        \n",
       "서울  수도권  9904312  9631482  9762546  9853972         0.0283\n",
       "부산  경상권  3448737  3393191  3512547  3655437         0.0163\n",
       "인천  수도권  2890451  2632035  2517680  2466338         0.0982\n",
       "대구  경상권  2466052  2431774  2456016  2473990         0.0141"
      ]
     },
     "execution_count": 232,
     "metadata": {},
     "output_type": "execute_result"
    }
   ],
   "source": [
    "df.index.name='도시'\n",
    "df.columns.name ='특성'\n",
    "df"
   ]
  },
  {
   "cell_type": "code",
   "execution_count": 233,
   "id": "1dc9c845-22b0-4114-822e-aa5f4d8886c2",
   "metadata": {},
   "outputs": [
    {
     "data": {
      "text/plain": [
       "특성\n",
       "지역                object\n",
       "2015               int64\n",
       "2010               int64\n",
       "2005               int64\n",
       "2000               int64\n",
       "2010-2015 증가율    float64\n",
       "dtype: object"
      ]
     },
     "execution_count": 233,
     "metadata": {},
     "output_type": "execute_result"
    }
   ],
   "source": [
    "df.dtypes"
   ]
  },
  {
   "cell_type": "markdown",
   "id": "313d1985-f065-4410-8f1b-e7a04a03115e",
   "metadata": {},
   "source": [
    "### 연습문제"
   ]
  },
  {
   "cell_type": "code",
   "execution_count": 264,
   "id": "4285d1ba-f16d-4256-98f8-f0e86e7be670",
   "metadata": {},
   "outputs": [
    {
     "data": {
      "text/html": [
       "<div>\n",
       "<style scoped>\n",
       "    .dataframe tbody tr th:only-of-type {\n",
       "        vertical-align: middle;\n",
       "    }\n",
       "\n",
       "    .dataframe tbody tr th {\n",
       "        vertical-align: top;\n",
       "    }\n",
       "\n",
       "    .dataframe thead th {\n",
       "        text-align: right;\n",
       "    }\n",
       "</style>\n",
       "<table border=\"1\" class=\"dataframe\">\n",
       "  <thead>\n",
       "    <tr style=\"text-align: right;\">\n",
       "      <th></th>\n",
       "      <th>이름</th>\n",
       "      <th>네이버 리뷰수</th>\n",
       "      <th>블로그 리뷰수</th>\n",
       "      <th>평점</th>\n",
       "      <th>오픈시간</th>\n",
       "      <th>종료시간</th>\n",
       "      <th>휴무일</th>\n",
       "      <th>가격</th>\n",
       "      <th>거리</th>\n",
       "      <th>죵료시간점수</th>\n",
       "      <th>거리점수</th>\n",
       "      <th>가격점수</th>\n",
       "      <th>최종점수</th>\n",
       "    </tr>\n",
       "  </thead>\n",
       "  <tbody>\n",
       "    <tr>\n",
       "      <th>헬스장1</th>\n",
       "      <td>바디앤짐</td>\n",
       "      <td>81</td>\n",
       "      <td>73</td>\n",
       "      <td>4.30</td>\n",
       "      <td>06시</td>\n",
       "      <td>24시</td>\n",
       "      <td>매달2,4번째 일요일</td>\n",
       "      <td>3개월21만원</td>\n",
       "      <td>302</td>\n",
       "      <td>3.0</td>\n",
       "      <td>1.0</td>\n",
       "      <td>3.0</td>\n",
       "      <td>2.8</td>\n",
       "    </tr>\n",
       "    <tr>\n",
       "      <th>헬스장2</th>\n",
       "      <td>프레토휘트니스</td>\n",
       "      <td>75</td>\n",
       "      <td>107</td>\n",
       "      <td>4.27</td>\n",
       "      <td>06시</td>\n",
       "      <td>24시</td>\n",
       "      <td>매달2,4번째 일요일</td>\n",
       "      <td>3개월22만원</td>\n",
       "      <td>269</td>\n",
       "      <td>3.0</td>\n",
       "      <td>2.0</td>\n",
       "      <td>2.0</td>\n",
       "      <td>2.7</td>\n",
       "    </tr>\n",
       "    <tr>\n",
       "      <th>헬스장3</th>\n",
       "      <td>비비짐</td>\n",
       "      <td>54</td>\n",
       "      <td>36</td>\n",
       "      <td>5.00</td>\n",
       "      <td>06</td>\n",
       "      <td>23시</td>\n",
       "      <td>매달1,3,5번쨰 일요일</td>\n",
       "      <td>3개월24만원</td>\n",
       "      <td>449</td>\n",
       "      <td>2.0</td>\n",
       "      <td>1.0</td>\n",
       "      <td>1.0</td>\n",
       "      <td>1.5</td>\n",
       "    </tr>\n",
       "    <tr>\n",
       "      <th>헬스장4</th>\n",
       "      <td>바디디자인샵</td>\n",
       "      <td>12</td>\n",
       "      <td>2</td>\n",
       "      <td>4.83</td>\n",
       "      <td>06시</td>\n",
       "      <td>22시</td>\n",
       "      <td>매주일요일</td>\n",
       "      <td>3개월24만원</td>\n",
       "      <td>235</td>\n",
       "      <td>1.0</td>\n",
       "      <td>2.0</td>\n",
       "      <td>1.0</td>\n",
       "      <td>1.6</td>\n",
       "    </tr>\n",
       "  </tbody>\n",
       "</table>\n",
       "</div>"
      ],
      "text/plain": [
       "           이름  네이버 리뷰수  블로그 리뷰수    평점 오픈시간 종료시간            휴무일       가격   거리  \\\n",
       "헬스장1     바디앤짐       81       73  4.30  06시  24시    매달2,4번째 일요일  3개월21만원  302   \n",
       "헬스장2  프레토휘트니스       75      107  4.27  06시  24시    매달2,4번째 일요일  3개월22만원  269   \n",
       "헬스장3      비비짐       54       36  5.00   06  23시  매달1,3,5번쨰 일요일  3개월24만원  449   \n",
       "헬스장4   바디디자인샵       12        2  4.83  06시  22시          매주일요일  3개월24만원  235   \n",
       "\n",
       "      죵료시간점수  거리점수  가격점수  최종점수  \n",
       "헬스장1     3.0   1.0   3.0   2.8  \n",
       "헬스장2     3.0   2.0   2.0   2.7  \n",
       "헬스장3     2.0   1.0   1.0   1.5  \n",
       "헬스장4     1.0   2.0   1.0   1.6  "
      ]
     },
     "execution_count": 264,
     "metadata": {},
     "output_type": "execute_result"
    }
   ],
   "source": [
    "data = {\n",
    "    \"이름\" : ['바디앤짐', '프레토휘트니스', '비비짐', '바디디자인샵'],\n",
    "    \"네이버 리뷰수\" : [81, 75, 54,12],\n",
    "    \"블로그 리뷰수\" : [73, 107, 36, 2],\n",
    "    \"평점\" : [4.3, 4.27, 5, 4.83],\n",
    "    \"오픈시간\" : [\"06시\", \"06시\", \"06\", \"06시\"],\n",
    "    \"종료시간\" :['24시','24시' , '23시', '22시'],\n",
    "    '휴무일' : ['매달2,4번째 일요일','매달2,4번째 일요일','매달1,3,5번쨰 일요일','매주일요일'],\n",
    "    '가격' : ['3개월21만원' , '3개월22만원','3개월24만원','3개월24만원'],\n",
    "    '거리' : [302,269,449,235]\n",
    "}\n",
    "columns = [\"이름\", \"네이버 리뷰수\", \"블로그 리뷰수\", \"평점\", \"오픈시간\", \"종료시간\",'휴무일','가격','거리']\n",
    "index = ['헬스장1','헬스장2','헬스장3','헬스장4']\n",
    "df = pd.DataFrame(data, index = index, columns = columns)\n",
    "df\n",
    "\n",
    "\n",
    "df.loc[df['종료시간']=='24시','죵료시간점수'] =3\n",
    "df.loc[df['종료시간']=='23시','죵료시간점수'] =2\n",
    "df.loc[df['종료시간']=='22시','죵료시간점수'] =1\n",
    "df\n",
    "\n",
    "df.loc[df['거리']<=300,'거리점수'] =2\n",
    "df.loc[df['거리']>300,'거리점수']=1\n",
    "df\n",
    "\n",
    "df.loc[df['가격']=='3개월24만원','가격점수'] =1\n",
    "df.loc[df['가격']=='3개월22만원','가격점수'] =2\n",
    "df.loc[df['가격']=='3개월21만원','가격점수'] =3\n",
    "df\n",
    "\n",
    "df['최종점수'] = df['죵료시간점수'] * 0.3 +df['거리점수'] * 0.4 +df['가격점수'] * 0.5\n",
    "df"
   ]
  },
  {
   "cell_type": "code",
   "execution_count": 134,
   "id": "62d1e626-7305-4b8b-bdc7-2b9ec77e4741",
   "metadata": {},
   "outputs": [
    {
     "data": {
      "text/html": [
       "<div>\n",
       "<style scoped>\n",
       "    .dataframe tbody tr th:only-of-type {\n",
       "        vertical-align: middle;\n",
       "    }\n",
       "\n",
       "    .dataframe tbody tr th {\n",
       "        vertical-align: top;\n",
       "    }\n",
       "\n",
       "    .dataframe thead th {\n",
       "        text-align: right;\n",
       "    }\n",
       "</style>\n",
       "<table border=\"1\" class=\"dataframe\">\n",
       "  <thead>\n",
       "    <tr style=\"text-align: right;\">\n",
       "      <th></th>\n",
       "      <th>서울</th>\n",
       "      <th>부산</th>\n",
       "      <th>인천</th>\n",
       "      <th>대구</th>\n",
       "    </tr>\n",
       "  </thead>\n",
       "  <tbody>\n",
       "    <tr>\n",
       "      <th>지역</th>\n",
       "      <td>수도권</td>\n",
       "      <td>경상권</td>\n",
       "      <td>수도권</td>\n",
       "      <td>전라권</td>\n",
       "    </tr>\n",
       "    <tr>\n",
       "      <th>2015</th>\n",
       "      <td>9904312</td>\n",
       "      <td>3448737</td>\n",
       "      <td>2890451</td>\n",
       "      <td>2466052</td>\n",
       "    </tr>\n",
       "    <tr>\n",
       "      <th>2010</th>\n",
       "      <td>9631482</td>\n",
       "      <td>3393191</td>\n",
       "      <td>2632023</td>\n",
       "      <td>2121211</td>\n",
       "    </tr>\n",
       "    <tr>\n",
       "      <th>2005</th>\n",
       "      <td>9762222</td>\n",
       "      <td>111111</td>\n",
       "      <td>1111111</td>\n",
       "      <td>11111111</td>\n",
       "    </tr>\n",
       "  </tbody>\n",
       "</table>\n",
       "</div>"
      ],
      "text/plain": [
       "           서울       부산       인천        대구\n",
       "지역        수도권      경상권      수도권       전라권\n",
       "2015  9904312  3448737  2890451   2466052\n",
       "2010  9631482  3393191  2632023   2121211\n",
       "2005  9762222   111111  1111111  11111111"
      ]
     },
     "execution_count": 134,
     "metadata": {},
     "output_type": "execute_result"
    }
   ],
   "source": [
    "df2 = df.T # 행렬전환\n",
    "df2"
   ]
  },
  {
   "cell_type": "code",
   "execution_count": 135,
   "id": "3bbeaa68-ae83-4b8d-adef-eb13cb595bcb",
   "metadata": {},
   "outputs": [
    {
     "data": {
      "text/html": [
       "<div>\n",
       "<style scoped>\n",
       "    .dataframe tbody tr th:only-of-type {\n",
       "        vertical-align: middle;\n",
       "    }\n",
       "\n",
       "    .dataframe tbody tr th {\n",
       "        vertical-align: top;\n",
       "    }\n",
       "\n",
       "    .dataframe thead th {\n",
       "        text-align: right;\n",
       "    }\n",
       "</style>\n",
       "<table border=\"1\" class=\"dataframe\">\n",
       "  <thead>\n",
       "    <tr style=\"text-align: right;\">\n",
       "      <th></th>\n",
       "      <th>서울</th>\n",
       "      <th>부산</th>\n",
       "      <th>인천</th>\n",
       "      <th>대구</th>\n",
       "    </tr>\n",
       "  </thead>\n",
       "  <tbody>\n",
       "    <tr>\n",
       "      <th>지역</th>\n",
       "      <td>수도권</td>\n",
       "      <td>경상권경상권</td>\n",
       "      <td>수도권</td>\n",
       "      <td>전라권</td>\n",
       "    </tr>\n",
       "    <tr>\n",
       "      <th>2015</th>\n",
       "      <td>9904312</td>\n",
       "      <td>6897474</td>\n",
       "      <td>2890451</td>\n",
       "      <td>2466052</td>\n",
       "    </tr>\n",
       "    <tr>\n",
       "      <th>2010</th>\n",
       "      <td>9631482</td>\n",
       "      <td>6786382</td>\n",
       "      <td>2632023</td>\n",
       "      <td>2121211</td>\n",
       "    </tr>\n",
       "    <tr>\n",
       "      <th>2005</th>\n",
       "      <td>9762222</td>\n",
       "      <td>222222</td>\n",
       "      <td>1111111</td>\n",
       "      <td>11111111</td>\n",
       "    </tr>\n",
       "  </tbody>\n",
       "</table>\n",
       "</div>"
      ],
      "text/plain": [
       "           서울       부산       인천        대구\n",
       "지역        수도권   경상권경상권      수도권       전라권\n",
       "2015  9904312  6897474  2890451   2466052\n",
       "2010  9631482  6786382  2632023   2121211\n",
       "2005  9762222   222222  1111111  11111111"
      ]
     },
     "execution_count": 135,
     "metadata": {},
     "output_type": "execute_result"
    }
   ],
   "source": [
    "df2['부산']=df2['부산'] * 2 #갱신\n",
    "df2"
   ]
  },
  {
   "cell_type": "code",
   "execution_count": 140,
   "id": "45f3cd3e-c920-49a5-bbce-15cbe356f601",
   "metadata": {},
   "outputs": [
    {
     "data": {
      "text/html": [
       "<div>\n",
       "<style scoped>\n",
       "    .dataframe tbody tr th:only-of-type {\n",
       "        vertical-align: middle;\n",
       "    }\n",
       "\n",
       "    .dataframe tbody tr th {\n",
       "        vertical-align: top;\n",
       "    }\n",
       "\n",
       "    .dataframe thead th {\n",
       "        text-align: right;\n",
       "    }\n",
       "</style>\n",
       "<table border=\"1\" class=\"dataframe\">\n",
       "  <thead>\n",
       "    <tr style=\"text-align: right;\">\n",
       "      <th></th>\n",
       "      <th>지역</th>\n",
       "      <th>2015</th>\n",
       "      <th>2010</th>\n",
       "      <th>2005</th>\n",
       "      <th>2005~2010증가율</th>\n",
       "    </tr>\n",
       "  </thead>\n",
       "  <tbody>\n",
       "    <tr>\n",
       "      <th>서울</th>\n",
       "      <td>수도권</td>\n",
       "      <td>9904312</td>\n",
       "      <td>9631482</td>\n",
       "      <td>9762222</td>\n",
       "      <td>-1.34</td>\n",
       "    </tr>\n",
       "    <tr>\n",
       "      <th>부산</th>\n",
       "      <td>경상권</td>\n",
       "      <td>3448737</td>\n",
       "      <td>3393191</td>\n",
       "      <td>111111</td>\n",
       "      <td>2953.87</td>\n",
       "    </tr>\n",
       "    <tr>\n",
       "      <th>인천</th>\n",
       "      <td>수도권</td>\n",
       "      <td>2890451</td>\n",
       "      <td>2632023</td>\n",
       "      <td>1111111</td>\n",
       "      <td>136.88</td>\n",
       "    </tr>\n",
       "    <tr>\n",
       "      <th>대구</th>\n",
       "      <td>전라권</td>\n",
       "      <td>2466052</td>\n",
       "      <td>2121211</td>\n",
       "      <td>11111111</td>\n",
       "      <td>-80.91</td>\n",
       "    </tr>\n",
       "  </tbody>\n",
       "</table>\n",
       "</div>"
      ],
      "text/plain": [
       "     지역     2015     2010      2005  2005~2010증가율\n",
       "서울  수도권  9904312  9631482   9762222         -1.34\n",
       "부산  경상권  3448737  3393191    111111       2953.87\n",
       "인천  수도권  2890451  2632023   1111111        136.88\n",
       "대구  전라권  2466052  2121211  11111111        -80.91"
      ]
     },
     "execution_count": 140,
     "metadata": {},
     "output_type": "execute_result"
    }
   ],
   "source": [
    "df['2005~2010증가율'] = ((df['2010'] - df['2005']) / df['2005'] * 100).round(2)\n",
    "df"
   ]
  },
  {
   "cell_type": "code",
   "execution_count": 143,
   "id": "0b2ef04a-ba33-4d08-859e-deb645a63764",
   "metadata": {},
   "outputs": [
    {
     "data": {
      "text/plain": [
       "서울    수도권\n",
       "부산    경상권\n",
       "인천    수도권\n",
       "대구    전라권\n",
       "Name: 지역, dtype: object"
      ]
     },
     "execution_count": 143,
     "metadata": {},
     "output_type": "execute_result"
    }
   ],
   "source": [
    "df['지역'] # 지역 column의 값을 봄\n",
    "df[['지역']] # 지역 column dataframe 형태로 봄 \n",
    "df[['2010','2015']] # 2010 2015 column의 값을 봄 "
   ]
  },
  {
   "cell_type": "code",
   "execution_count": 154,
   "id": "7039783c-70bb-43d2-8338-054a580e7427",
   "metadata": {},
   "outputs": [
    {
     "name": "stdout",
     "output_type": "stream",
     "text": [
      "0    0\n",
      "1    4\n",
      "2    8\n",
      "Name: 0, dtype: int32\n"
     ]
    }
   ],
   "source": [
    "import numpy as np\n",
    "df3 = pd.DataFrame(np.arange(12).reshape(3,4))\n",
    "df3\n",
    "print(df3[0]) # 1열만 뽑아줌 "
   ]
  },
  {
   "cell_type": "markdown",
   "id": "017aa684-b3a3-494f-87a6-b750c64d623a",
   "metadata": {},
   "source": [
    "### DataFrame row 슬라이싱"
   ]
  },
  {
   "cell_type": "code",
   "execution_count": 188,
   "id": "db778aa7-d3ec-446a-afc8-42175a38b5a6",
   "metadata": {},
   "outputs": [
    {
     "data": {
      "text/html": [
       "<div>\n",
       "<style scoped>\n",
       "    .dataframe tbody tr th:only-of-type {\n",
       "        vertical-align: middle;\n",
       "    }\n",
       "\n",
       "    .dataframe tbody tr th {\n",
       "        vertical-align: top;\n",
       "    }\n",
       "\n",
       "    .dataframe thead th {\n",
       "        text-align: right;\n",
       "    }\n",
       "</style>\n",
       "<table border=\"1\" class=\"dataframe\">\n",
       "  <thead>\n",
       "    <tr style=\"text-align: right;\">\n",
       "      <th></th>\n",
       "      <th>지역</th>\n",
       "      <th>2015</th>\n",
       "    </tr>\n",
       "  </thead>\n",
       "  <tbody>\n",
       "    <tr>\n",
       "      <th>서울</th>\n",
       "      <td>수도권</td>\n",
       "      <td>9904312</td>\n",
       "    </tr>\n",
       "    <tr>\n",
       "      <th>부산</th>\n",
       "      <td>경상권</td>\n",
       "      <td>3448737</td>\n",
       "    </tr>\n",
       "    <tr>\n",
       "      <th>인천</th>\n",
       "      <td>수도권</td>\n",
       "      <td>2890451</td>\n",
       "    </tr>\n",
       "  </tbody>\n",
       "</table>\n",
       "</div>"
      ],
      "text/plain": [
       "     지역     2015\n",
       "서울  수도권  9904312\n",
       "부산  경상권  3448737\n",
       "인천  수도권  2890451"
      ]
     },
     "execution_count": 188,
     "metadata": {},
     "output_type": "execute_result"
    }
   ],
   "source": [
    "df[:2] # 1행,2행 출력\n",
    "df[['지역','2015']][:3]# 1~3행 지역,2015칼럼 출력 "
   ]
  },
  {
   "cell_type": "code",
   "execution_count": 189,
   "id": "04114e2f-47f1-4bb8-b8bc-1c5688190912",
   "metadata": {},
   "outputs": [
    {
     "data": {
      "text/plain": [
       "pandas.core.frame.DataFrame"
      ]
     },
     "execution_count": 189,
     "metadata": {},
     "output_type": "execute_result"
    }
   ],
   "source": [
    "type(df[['지역','2015']][:3])"
   ]
  },
  {
   "cell_type": "code",
   "execution_count": 190,
   "id": "ba5a287f-f10d-42a2-8723-3626ba015090",
   "metadata": {},
   "outputs": [
    {
     "data": {
      "text/plain": [
       "서울    9904312\n",
       "Name: 2015, dtype: int64"
      ]
     },
     "execution_count": 190,
     "metadata": {},
     "output_type": "execute_result"
    }
   ],
   "source": [
    "df['2015'][:1]"
   ]
  },
  {
   "cell_type": "code",
   "execution_count": 191,
   "id": "b2ecffbd-5baa-4556-9fe1-fc27e6fdaac1",
   "metadata": {},
   "outputs": [
    {
     "data": {
      "text/plain": [
       "pandas.core.series.Series"
      ]
     },
     "execution_count": 191,
     "metadata": {},
     "output_type": "execute_result"
    }
   ],
   "source": [
    "type(df['2015'][:1])"
   ]
  },
  {
   "cell_type": "code",
   "execution_count": 192,
   "id": "46cce035-782f-44d3-8e87-7e065508c756",
   "metadata": {},
   "outputs": [
    {
     "data": {
      "text/plain": [
       "9904312"
      ]
     },
     "execution_count": 192,
     "metadata": {},
     "output_type": "execute_result"
    }
   ],
   "source": [
    "df['2015']['서울']"
   ]
  },
  {
   "cell_type": "code",
   "execution_count": 193,
   "id": "63508a63-79b0-4c33-894a-5f5896a7a6a6",
   "metadata": {},
   "outputs": [
    {
     "data": {
      "text/plain": [
       "numpy.int64"
      ]
     },
     "execution_count": 193,
     "metadata": {},
     "output_type": "execute_result"
    }
   ],
   "source": [
    "type(df['2015']['서울'])"
   ]
  },
  {
   "cell_type": "code",
   "execution_count": null,
   "id": "f629bbd6-d89e-4da1-88a2-8eb6527c4a05",
   "metadata": {},
   "outputs": [],
   "source": [
    "df[1:2] ## == df['부산':'부산']"
   ]
  },
  {
   "cell_type": "code",
   "execution_count": 269,
   "id": "76df592b-235c-4957-9852-864e9b2a166b",
   "metadata": {},
   "outputs": [
    {
     "data": {
      "text/html": [
       "<div>\n",
       "<style scoped>\n",
       "    .dataframe tbody tr th:only-of-type {\n",
       "        vertical-align: middle;\n",
       "    }\n",
       "\n",
       "    .dataframe tbody tr th {\n",
       "        vertical-align: top;\n",
       "    }\n",
       "\n",
       "    .dataframe thead th {\n",
       "        text-align: right;\n",
       "    }\n",
       "</style>\n",
       "<table border=\"1\" class=\"dataframe\">\n",
       "  <thead>\n",
       "    <tr style=\"text-align: right;\">\n",
       "      <th></th>\n",
       "      <th>국어</th>\n",
       "      <th>영어</th>\n",
       "      <th>수학</th>\n",
       "    </tr>\n",
       "  </thead>\n",
       "  <tbody>\n",
       "    <tr>\n",
       "      <th>춘향</th>\n",
       "      <td>80</td>\n",
       "      <td>90</td>\n",
       "      <td>90</td>\n",
       "    </tr>\n",
       "    <tr>\n",
       "      <th>몽룡</th>\n",
       "      <td>90</td>\n",
       "      <td>70</td>\n",
       "      <td>60</td>\n",
       "    </tr>\n",
       "    <tr>\n",
       "      <th>향단</th>\n",
       "      <td>70</td>\n",
       "      <td>60</td>\n",
       "      <td>80</td>\n",
       "    </tr>\n",
       "    <tr>\n",
       "      <th>방자</th>\n",
       "      <td>30</td>\n",
       "      <td>40</td>\n",
       "      <td>70</td>\n",
       "    </tr>\n",
       "  </tbody>\n",
       "</table>\n",
       "</div>"
      ],
      "text/plain": [
       "    국어  영어  수학\n",
       "춘향  80  90  90\n",
       "몽룡  90  70  60\n",
       "향단  70  60  80\n",
       "방자  30  40  70"
      ]
     },
     "execution_count": 269,
     "metadata": {},
     "output_type": "execute_result"
    }
   ],
   "source": [
    "data = {\n",
    " \"국어\": [80, 90, 70, 30],\n",
    " \"영어\": [90, 70, 60, 40],\n",
    " \"수학\": [90, 60, 80, 70],\n",
    "}\n",
    "columns = [\"국어\", \"영어\", \"수학\"]\n",
    "index = [\"춘향\", \"몽룡\", \"향단\", \"방자\"]\n",
    "df = pd.DataFrame(data, index=index, columns=columns)\n",
    "df"
   ]
  },
  {
   "cell_type": "markdown",
   "id": "162c668e-5c5a-4311-af2f-7cdf85078ae4",
   "metadata": {},
   "source": [
    "### 연습문제"
   ]
  },
  {
   "cell_type": "code",
   "execution_count": 290,
   "id": "85dd8f68-3b33-4a4c-953b-d38b22b8d520",
   "metadata": {},
   "outputs": [
    {
     "data": {
      "text/plain": [
       "국어    70\n",
       "영어    60\n",
       "수학    80\n",
       "Name: 향단, dtype: int64"
      ]
     },
     "execution_count": 290,
     "metadata": {},
     "output_type": "execute_result"
    }
   ],
   "source": [
    "df['수학'] #1번\n",
    "df[['국어','영어']] #2번\n",
    "df['평균'] = (df['국어'] + df['영어'] + df['수학']) / 3 #3번\n",
    "df[:1] #4번\n",
    "df2 = df.T\n",
    "df2\n",
    "df2['향단']"
   ]
  },
  {
   "cell_type": "code",
   "execution_count": 230,
   "id": "657f2aa0-52af-4579-8d08-e9d940aec73e",
   "metadata": {},
   "outputs": [
    {
     "data": {
      "text/html": [
       "<div>\n",
       "<style scoped>\n",
       "    .dataframe tbody tr th:only-of-type {\n",
       "        vertical-align: middle;\n",
       "    }\n",
       "\n",
       "    .dataframe tbody tr th {\n",
       "        vertical-align: top;\n",
       "    }\n",
       "\n",
       "    .dataframe thead th {\n",
       "        text-align: right;\n",
       "    }\n",
       "</style>\n",
       "<table border=\"1\" class=\"dataframe\">\n",
       "  <thead>\n",
       "    <tr style=\"text-align: right;\">\n",
       "      <th></th>\n",
       "      <th>A</th>\n",
       "      <th>B</th>\n",
       "      <th>C</th>\n",
       "      <th>D</th>\n",
       "    </tr>\n",
       "  </thead>\n",
       "  <tbody>\n",
       "    <tr>\n",
       "      <th>2013-02-26</th>\n",
       "      <td>1.764052</td>\n",
       "      <td>0.400157</td>\n",
       "      <td>0.978738</td>\n",
       "      <td>2.240893</td>\n",
       "    </tr>\n",
       "    <tr>\n",
       "      <th>2013-02-27</th>\n",
       "      <td>1.867558</td>\n",
       "      <td>-0.977278</td>\n",
       "      <td>0.950088</td>\n",
       "      <td>-0.151357</td>\n",
       "    </tr>\n",
       "    <tr>\n",
       "      <th>2013-02-28</th>\n",
       "      <td>-0.103219</td>\n",
       "      <td>0.410599</td>\n",
       "      <td>0.144044</td>\n",
       "      <td>1.454274</td>\n",
       "    </tr>\n",
       "    <tr>\n",
       "      <th>2013-03-01</th>\n",
       "      <td>0.761038</td>\n",
       "      <td>0.121675</td>\n",
       "      <td>0.443863</td>\n",
       "      <td>0.333674</td>\n",
       "    </tr>\n",
       "    <tr>\n",
       "      <th>2013-03-02</th>\n",
       "      <td>1.494079</td>\n",
       "      <td>-0.205158</td>\n",
       "      <td>0.313068</td>\n",
       "      <td>-0.854096</td>\n",
       "    </tr>\n",
       "    <tr>\n",
       "      <th>2013-03-03</th>\n",
       "      <td>-2.552990</td>\n",
       "      <td>0.653619</td>\n",
       "      <td>0.864436</td>\n",
       "      <td>-0.742165</td>\n",
       "    </tr>\n",
       "  </tbody>\n",
       "</table>\n",
       "</div>"
      ],
      "text/plain": [
       "                   A         B         C         D\n",
       "2013-02-26  1.764052  0.400157  0.978738  2.240893\n",
       "2013-02-27  1.867558 -0.977278  0.950088 -0.151357\n",
       "2013-02-28 -0.103219  0.410599  0.144044  1.454274\n",
       "2013-03-01  0.761038  0.121675  0.443863  0.333674\n",
       "2013-03-02  1.494079 -0.205158  0.313068 -0.854096\n",
       "2013-03-03 -2.552990  0.653619  0.864436 -0.742165"
      ]
     },
     "execution_count": 230,
     "metadata": {},
     "output_type": "execute_result"
    }
   ],
   "source": [
    "np.random.seed(0)\n",
    "data = np.random.randn(24).reshape(6,4)\n",
    "index = pd.date_range('20130226',periods=6)\n",
    "columns=['A','B','C','D']\n",
    "df = pd.DataFrame(data,index,columns)\n",
    "df"
   ]
  },
  {
   "cell_type": "code",
   "execution_count": null,
   "id": "3bb98164-90bd-47b8-a33d-e36a9bd53b97",
   "metadata": {},
   "outputs": [],
   "source": []
  },
  {
   "cell_type": "code",
   "execution_count": null,
   "id": "c62f0387-5565-4b82-a2fd-f346f45cc994",
   "metadata": {},
   "outputs": [],
   "source": []
  },
  {
   "cell_type": "code",
   "execution_count": null,
   "id": "d7689f53-af38-4b8d-af7f-6d1de45655f7",
   "metadata": {},
   "outputs": [],
   "source": []
  }
 ],
 "metadata": {
  "kernelspec": {
   "display_name": "Python 3 (ipykernel)",
   "language": "python",
   "name": "python3"
  },
  "language_info": {
   "codemirror_mode": {
    "name": "ipython",
    "version": 3
   },
   "file_extension": ".py",
   "mimetype": "text/x-python",
   "name": "python",
   "nbconvert_exporter": "python",
   "pygments_lexer": "ipython3",
   "version": "3.9.12"
  }
 },
 "nbformat": 4,
 "nbformat_minor": 5
}
