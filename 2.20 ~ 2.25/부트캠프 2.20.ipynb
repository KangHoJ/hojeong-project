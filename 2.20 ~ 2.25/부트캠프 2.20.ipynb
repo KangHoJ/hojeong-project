{
 "cells": [
  {
   "cell_type": "markdown",
   "id": "3aa98cba-8610-489d-8532-2a8136e326f3",
   "metadata": {
    "tags": []
   },
   "source": [
    "## 리스트 컴프리헨션"
   ]
  },
  {
   "cell_type": "code",
   "execution_count": 3,
   "id": "aaba27c6-7d37-43ae-9b1f-34b32f5c0080",
   "metadata": {},
   "outputs": [
    {
     "name": "stdout",
     "output_type": "stream",
     "text": [
      "[0, 2, 4, 6, 8]\n"
     ]
    }
   ],
   "source": [
    "list_p = [ i for i in range(10) if i % 2 ==0]\n",
    "print(list_p)"
   ]
  },
  {
   "cell_type": "code",
   "execution_count": 5,
   "id": "97499967-bbbb-4cac-9b62-cae953a13972",
   "metadata": {
    "scrolled": true
   },
   "outputs": [
    {
     "name": "stdout",
     "output_type": "stream",
     "text": [
      "1\n",
      "2\n",
      "3\n",
      "4\n",
      "5\n",
      "3\n",
      "4\n"
     ]
    }
   ],
   "source": [
    "a = [[1,2,3,4,5],[3,4]]\n",
    "for item in a:   #요소 두개를 가져옴\n",
    "    for i in item: # 요소 하나당 다 뽑아냄 \n",
    "        print(i)"
   ]
  },
  {
   "cell_type": "code",
   "execution_count": 8,
   "id": "c99ed8f8-82c8-4141-981d-c28f1793211c",
   "metadata": {},
   "outputs": [
    {
     "name": "stdout",
     "output_type": "stream",
     "text": [
      "[1, 2, 3, 4, 5]\n",
      "2\n"
     ]
    }
   ],
   "source": [
    "print(a[0])\n",
    "print(a[0][1])"
   ]
  },
  {
   "cell_type": "code",
   "execution_count": 1,
   "id": "6afe3f2b-f88e-45b5-adca-4419ea252997",
   "metadata": {},
   "outputs": [
    {
     "data": {
      "text/plain": [
       "2"
      ]
     },
     "execution_count": 1,
     "metadata": {},
     "output_type": "execute_result"
    }
   ],
   "source": [
    "easy_list = [[1,2,3,4,5],[3,4]]\n",
    "i = 0 \n",
    "\n",
    "while i <len(easy_list):\n",
    "    j = 0\n",
    "    while j < len(easy_list[i]):\n",
    "        print(easy_list[i][j])\n",
    "        j +=1\n",
    "    i+=1\n",
    "    "
   ]
  },
  {
   "cell_type": "code",
   "execution_count": 10,
   "id": "7df5f7ea-1297-4182-bfa8-15462654e1ba",
   "metadata": {},
   "outputs": [],
   "source": [
    "gen = ( i for i in range(10))"
   ]
  },
  {
   "cell_type": "code",
   "execution_count": 11,
   "id": "009e68cd-25e6-47cc-8f4f-a89f32ec92cf",
   "metadata": {},
   "outputs": [
    {
     "data": {
      "text/plain": [
       "generator"
      ]
     },
     "execution_count": 11,
     "metadata": {},
     "output_type": "execute_result"
    }
   ],
   "source": [
    "type(gen)"
   ]
  },
  {
   "cell_type": "code",
   "execution_count": 12,
   "id": "04b4078f-200c-48ef-ba92-af2952fc4c60",
   "metadata": {},
   "outputs": [
    {
     "data": {
      "text/plain": [
       "tuple"
      ]
     },
     "execution_count": 12,
     "metadata": {},
     "output_type": "execute_result"
    }
   ],
   "source": [
    "tup = tuple(i for i in range(10))\n",
    "type(tup)"
   ]
  },
  {
   "cell_type": "code",
   "execution_count": 16,
   "id": "5cbf88bb-2c98-4606-a592-ecfddc7c8885",
   "metadata": {},
   "outputs": [
    {
     "data": {
      "text/plain": [
       "list"
      ]
     },
     "execution_count": 16,
     "metadata": {},
     "output_type": "execute_result"
    }
   ],
   "source": [
    "lis = list(i for i in range(10))\n",
    "type(lis)"
   ]
  },
  {
   "cell_type": "markdown",
   "id": "34da511f-2ee6-40c7-80d9-1b230e75e1ff",
   "metadata": {},
   "source": [
    "## 각종 연습문제"
   ]
  },
  {
   "cell_type": "code",
   "execution_count": 39,
   "id": "c3abbe7b-2f96-4e70-8406-4ec90a8f2435",
   "metadata": {},
   "outputs": [
    {
     "name": "stdout",
     "output_type": "stream",
     "text": [
      "['aplha', 'bravo', 'delta', 'hotel', 'indea']\n"
     ]
    }
   ],
   "source": [
    "a = ['aplha','bravo','charlie','delta','echo','foxtrot','golf','hotel','indea']\n",
    "b = [ a[i] for i in range(len(a)) if len(a[i]) == 5 ]\n",
    "print(b)"
   ]
  },
  {
   "cell_type": "code",
   "execution_count": 40,
   "id": "1fb02bb9-c015-4b3a-bfd3-5d6ec450cd1d",
   "metadata": {},
   "outputs": [
    {
     "name": "stdout",
     "output_type": "stream",
     "text": [
      "['aplha', 'bravo', 'delta', 'hotel', 'indea']\n"
     ]
    }
   ],
   "source": [
    "a = ['aplha','bravo','charlie','delta','echo','foxtrot','golf','hotel','indea']\n",
    "b = [ s for s in a if len(s) == 5 ] \n",
    "print(b)"
   ]
  },
  {
   "cell_type": "code",
   "execution_count": 89,
   "id": "5223bd11-7d99-4961-b602-4fb5333e16dd",
   "metadata": {},
   "outputs": [
    {
     "name": "stdin",
     "output_type": "stream",
     "text": [
      "정수 두 개 입력하세요 11 19\n"
     ]
    },
    {
     "data": {
      "text/plain": [
       "[2048, 8192, 16384, 32768, 65536, 262144]"
      ]
     },
     "execution_count": 89,
     "metadata": {},
     "output_type": "execute_result"
    }
   ],
   "source": [
    "while True :\n",
    "    number,number2 = map(int, input(\"정수 두 개 입력하세요\").split(' '))\n",
    "    if number > number2:\n",
    "        print(\"첫 번째 입력 값은 두 번째 입력 값보다 작게 입력하세요.\")\n",
    "    elif number >= 20 and number <0 :\n",
    "        print(\"첫번째 값의 범위는 1~20입니다\")\n",
    "    elif number2 <10 and number >30 :\n",
    "        print(\"두번째 값의 범위는 1~20입니다\")\n",
    "    else : \n",
    "        break\n",
    "\n",
    "\n",
    "j = [2**i for i in range(number,number2,1)] \n",
    "del j[1] , j[-2]\n",
    "j"
   ]
  },
  {
   "cell_type": "code",
   "execution_count": 111,
   "id": "ef4be831-c2b7-48da-8259-33dd8abd988d",
   "metadata": {},
   "outputs": [
    {
     "name": "stdin",
     "output_type": "stream",
     "text": [
      "2부터 입력하신 수까지의 모든 소수를 찾는 프로그램입니다. 찾는 범위를 입력하세요: 100\n"
     ]
    },
    {
     "name": "stdout",
     "output_type": "stream",
     "text": [
      "[100]\n"
     ]
    }
   ],
   "source": [
    "# 소수 구하기 문제 -> 못 풀었음\n",
    "\n",
    "number = int(input('2부터 입력하신 수까지의 모든 소수를 찾는 프로그램입니다. 찾는 범위를 입력하세요:'))\n",
    "\n",
    "result = []\n",
    "\n",
    "for j in range(2,number+1):\n",
    "    for k in range(1,number+1):\n",
    "        if number % number-k != 0  :\n",
    "            break     \n",
    "\n",
    "result.append(number) \n",
    "    \n",
    "print(result)"
   ]
  },
  {
   "cell_type": "code",
   "execution_count": 120,
   "id": "23abbc01-ea61-42fa-b995-0fb4a2b71dd1",
   "metadata": {},
   "outputs": [
    {
     "name": "stdout",
     "output_type": "stream",
     "text": [
      "2부터 입력하신 수까지 ~\n"
     ]
    },
    {
     "name": "stdin",
     "output_type": "stream",
     "text": [
      "찾는 범위를 입력하세요 100\n"
     ]
    },
    {
     "name": "stdout",
     "output_type": "stream",
     "text": [
      "2 3 5 7 11 13 17 \n",
      "19 23 29 31 37 41 43 \n",
      "47 53 59 61 67 71 73 \n",
      "79 83 89 97 "
     ]
    }
   ],
   "source": [
    "print('2부터 입력하신 수까지 ~')\n",
    "inData = int(input('찾는 범위를 입력하세요'))\n",
    "i= 2\n",
    "line= 0\n",
    "while i <= inData:\n",
    "    j = 2\n",
    "    while j <= i :           # j랑 i랑 같아지는 시점까지 반복\n",
    "        if i % j ==0:        # i % j를 계속 나누게 되는데 자기자신을 나누기 전까지 0이 안니오면 반복 / 나오면 break\n",
    "            break\n",
    "        j +=1                \n",
    "    if i == j:\n",
    "        print(i , end = ' ')\n",
    "        \n",
    "        line = line +1\n",
    "        if line ==7:\n",
    "            line = 0\n",
    "            print()\n",
    "    i+=1"
   ]
  },
  {
   "cell_type": "markdown",
   "id": "4fa7caa3-cb5b-45dd-a95a-0ad893aefb67",
   "metadata": {},
   "source": [
    "- random "
   ]
  },
  {
   "cell_type": "code",
   "execution_count": 150,
   "id": "da8c7b4d-9968-40d2-a0e3-c692eac59a6e",
   "metadata": {},
   "outputs": [
    {
     "name": "stdout",
     "output_type": "stream",
     "text": [
      "94\n"
     ]
    },
    {
     "name": "stdin",
     "output_type": "stream",
     "text": [
      "숫자를 입력하세요 1\n"
     ]
    },
    {
     "name": "stdout",
     "output_type": "stream",
     "text": [
      "그보다 작습니다\n"
     ]
    },
    {
     "name": "stdin",
     "output_type": "stream",
     "text": [
      "숫자를 입력하세요 94\n"
     ]
    },
    {
     "name": "stdout",
     "output_type": "stream",
     "text": [
      "맞췄습니다!\n",
      "2번만에 맞추셨습니다\n",
      "입력한 숫자는 [1, 94] 다음과 같습니다 \n"
     ]
    }
   ],
   "source": [
    "import random\n",
    "a = random.randint(1,100)\n",
    "print(a)\n",
    "\n",
    "list=[]\n",
    "\n",
    "while True :\n",
    "    number = int(input('숫자를 입력하세요'))\n",
    "    list.append(number)\n",
    "    if number < 1 or number > 100:\n",
    "        print('1~100 사이의 숫자를 입력하세요')\n",
    "    elif number < a:\n",
    "        print(\"그보다 작습니다\")\n",
    "    elif number > a:\n",
    "        print('그보다 큽니다')\n",
    "    elif number == a:\n",
    "        print('맞췄습니다!')\n",
    "        print('{}번만에 맞추셨습니다'.format(len(list)))\n",
    "        break\n",
    "\n",
    "print('입력한 숫자는 {} 다음과 같습니다 '.format(list))\n",
    "\n",
    "\n"
   ]
  },
  {
   "cell_type": "markdown",
   "id": "8c39dda7-8036-4f8c-8864-f8e52b603c18",
   "metadata": {},
   "source": [
    "## 자료형 set"
   ]
  },
  {
   "cell_type": "markdown",
   "id": "c7f76d48",
   "metadata": {},
   "source": [
    "- 세트 자료형은 비시퀀스형이며 중복이 없다!\n",
    "- set_variable = {expression for 변수 in iterable if 조건식}\n",
    "- 세트자료형.add(요소) -> 요소 추가(한번에 하나만 넣을 수 있다)\n",
    "- 세트자료형,remove(요소) -> 요소 삭제\n",
    "- 세트자료형.discard(요소) -> 요소 삭제 (에러 발생 x)\n",
    "- 세트자료형.pop() -> 하나 없어짐 \n",
    "- 세트자료형.clear() -> 요소 다 없어짐\n",
    "- len을 사용해 크기 구하는것도 가능"
   ]
  },
  {
   "cell_type": "code",
   "execution_count": 158,
   "id": "faddf28a-eeef-4051-b7ad-140236f07376",
   "metadata": {},
   "outputs": [
    {
     "name": "stdout",
     "output_type": "stream",
     "text": [
      "set() <class 'set'>\n",
      "{1}\n"
     ]
    }
   ],
   "source": [
    "set_variable = set()\n",
    "print(set_variable,type(set_variable))\n",
    "\n",
    "{set_variable.add(1) for i in range(5)}\n",
    "print(set_variable)"
   ]
  },
  {
   "cell_type": "code",
   "execution_count": 161,
   "id": "c2ffa576-635e-4ffe-8023-76149a424489",
   "metadata": {},
   "outputs": [
    {
     "name": "stdout",
     "output_type": "stream",
     "text": [
      "A: {1, 2, 3, 4} b {2, 4, 5}\n",
      "set union(A,B): {1, 2, 3, 4, 5}\n",
      "A|B: {1, 2, 3, 4, 5}\n"
     ]
    }
   ],
   "source": [
    "A = {i for i in range(1,5)}\n",
    "B = {k for k in range(2,6) if k !=3}\n",
    "print('A:',A,'b',B)\n",
    "print('set union(A,B):',set.union(A,B)) #합친것 중에서 중복을 제거하고 출력\n",
    "print('A|B:',A|B) # 합친것 중에서 중복을 제거하고 출력"
   ]
  },
  {
   "cell_type": "code",
   "execution_count": 163,
   "id": "0626f5f4-6303-4e63-bca8-ccba64818530",
   "metadata": {},
   "outputs": [
    {
     "name": "stdout",
     "output_type": "stream",
     "text": [
      "A: {1, 2, 3, 4} b {2, 4, 5}\n",
      "set intersection(A,B): {2, 4}\n",
      "A&B: {2, 4}\n"
     ]
    }
   ],
   "source": [
    "A = {i for i in range(1,5)}\n",
    "B = {k for k in range(2,6) if k !=3}\n",
    "print('A:',A,'b',B)\n",
    "print('set intersection(A,B):',set.intersection(A,B)) #교집합 출력\n",
    "print('A&B:',A&B) # 교집합 출력"
   ]
  },
  {
   "cell_type": "code",
   "execution_count": 165,
   "id": "1bb2e369-5d65-47b8-99fa-794b0330bbd1",
   "metadata": {},
   "outputs": [
    {
     "name": "stdout",
     "output_type": "stream",
     "text": [
      "A: {1, 2, 3, 4} b {2, 4, 5}\n",
      "set difference(A,B): {1, 3}\n",
      "A - B: {1, 3}\n"
     ]
    }
   ],
   "source": [
    "A = {i for i in range(1,5)}\n",
    "B = {k for k in range(2,6) if k !=3}\n",
    "print('A:',A,'b',B)\n",
    "print('set difference(A,B):',set.difference(A,B)) #차집합 출력\n",
    "print('A - B:',A - B) # 차집합 출력"
   ]
  },
  {
   "cell_type": "code",
   "execution_count": 167,
   "id": "5ce29df7-90e7-406e-af53-f5b8d01f6eac",
   "metadata": {},
   "outputs": [
    {
     "name": "stdout",
     "output_type": "stream",
     "text": [
      "A: {1, 2, 3, 4} b {2, 4, 5}\n",
      "set symmetric_diffrence(A,B): {1, 3, 5}\n",
      "A ^ B: {1, 3, 5}\n"
     ]
    }
   ],
   "source": [
    "A = {i for i in range(1,5)}\n",
    "B = {k for k in range(2,6) if k !=3}\n",
    "print('A:',A,'b',B)\n",
    "print('set symmetric_diffrence(A,B):',set.symmetric_difference(A,B)) #교집합 뺴고 출력\n",
    "print('A ^ B:',A ^ B) # 교집합 빼고 출력"
   ]
  },
  {
   "cell_type": "code",
   "execution_count": 168,
   "id": "1d1f394a-4bea-46be-8eab-69d095a7b3b7",
   "metadata": {},
   "outputs": [
    {
     "name": "stdout",
     "output_type": "stream",
     "text": [
      "A: {1, 2, 3, 4} b {2, 4, 5}\n",
      "A.update(B): {1, 2, 3, 4, 5}\n"
     ]
    }
   ],
   "source": [
    "A = {i for i in range(1,5)}\n",
    "B = {k for k in range(2,6) if k !=3}\n",
    "print('A:',A,'b',B)\n",
    "A.update(B) # A에 B를 합집합 시켜줌\n",
    "print('A.update(B):',A) # A에 B를 합집합 시켜줌"
   ]
  },
  {
   "cell_type": "code",
   "execution_count": 169,
   "id": "1d96bace-4c56-4708-b879-9f7b9bdbd6ed",
   "metadata": {},
   "outputs": [
    {
     "name": "stdout",
     "output_type": "stream",
     "text": [
      "A: {1, 2, 3, 4} b {2, 4, 5}\n",
      "A.update(B): {2, 4}\n"
     ]
    }
   ],
   "source": [
    "A = {i for i in range(1,5)}\n",
    "B = {k for k in range(2,6) if k !=3}\n",
    "print('A:',A,'b',B)\n",
    "A.intersection_update(B) # 교집합 결과를 A에 합쳐줌\n",
    "print('A.update(B):',A) # 교집합 결과를 A에 합쳐줌"
   ]
  },
  {
   "cell_type": "code",
   "execution_count": 170,
   "id": "2812e7e4-622d-4c25-ab3e-063e98ec1aed",
   "metadata": {},
   "outputs": [
    {
     "name": "stdout",
     "output_type": "stream",
     "text": [
      "A: {1, 2, 3, 4} b {2, 4, 5}\n",
      "A.update(B): {1, 3}\n"
     ]
    }
   ],
   "source": [
    "A = {i for i in range(1,5)}\n",
    "B = {k for k in range(2,6) if k !=3}\n",
    "print('A:',A,'b',B)\n",
    "A.difference_update(B) # 차집합 결과를 A에 합쳐줌\n",
    "print('A.update(B):',A) # 차집합 결과를 A에 합쳐줌"
   ]
  },
  {
   "cell_type": "code",
   "execution_count": 2,
   "id": "e1476618-181f-4c25-abff-fb505d30023d",
   "metadata": {},
   "outputs": [
    {
     "name": "stdout",
     "output_type": "stream",
     "text": [
      "A: {1, 2, 3, 4} b {2, 4, 5}\n",
      "A.update(B): {1, 3, 5}\n"
     ]
    }
   ],
   "source": [
    "A = {i for i in range(1,5)}\n",
    "B = {k for k in range(2,6) if k !=3}\n",
    "print('A:',A,'b',B)\n",
    "A.symmetric_difference_update(B) # 교집합 뺴고 합쳐줌\n",
    "print('A.update(B):',A) # 교집합 뺴고 합쳐줌"
   ]
  },
  {
   "cell_type": "code",
   "execution_count": 177,
   "id": "3e1d1fff-1de8-4da5-96de-d2a807db5792",
   "metadata": {},
   "outputs": [
    {
     "name": "stdout",
     "output_type": "stream",
     "text": [
      "A: {0, 1, 2} b {0, 1, 2}\n",
      "a.issubset(B): True\n",
      "A: {0, 1, 2} b {0, 1}\n",
      "a.issubset(B): False\n",
      "A: {0, 1} b {0, 1}\n",
      "a.issuperset(B): True\n",
      "A: {0, 1, 2} b {0, 1}\n",
      "a.issuperset(B): True\n"
     ]
    }
   ],
   "source": [
    "A = {i for i in range(0,3)}\n",
    "B = {k for k in range(0,3)}\n",
    "print('A:',A,'b',B)\n",
    "print('a.issubset(B):',A.issubset(B)) #부분집합이면 True 출력\n",
    "\n",
    "A = {i for i in range(0,3)}\n",
    "B = {k for k in range(0,2)}\n",
    "print('A:',A,'b',B)\n",
    "print('a.issubset(B):',A.issubset(B)) #부분집합이 아니면 False 출력\n",
    "\n",
    "A = {i for i in range(0,2)}\n",
    "B = {k for k in range(0,2)}\n",
    "print('A:',A,'b',B)\n",
    "print('a.issuperset(B):',A.issuperset(B)) # 동일할때 True 출력\n",
    "\n",
    "A = {i for i in range(0,3)}\n",
    "B = {k for k in range(0,2)}\n",
    "print('A:',A,'b',B)\n",
    "print('a.issuperset(B):',A.issuperset(B)) "
   ]
  },
  {
   "cell_type": "code",
   "execution_count": 178,
   "id": "7346b352-79c2-4d13-9e43-275896cd1985",
   "metadata": {},
   "outputs": [
    {
     "name": "stdout",
     "output_type": "stream",
     "text": [
      "A: {0, 1, 2} b {3, 4, 5}\n",
      "a.isdisjoint(B): True\n"
     ]
    }
   ],
   "source": [
    "A = {i for i in range(0,3)}\n",
    "B = {k for k in range(3,6)}\n",
    "print('A:',A,'b',B)\n",
    "print('a.isdisjoint(B):',A.isdist(B)) # 완전 겹치지 않을때 True"
   ]
  },
  {
   "cell_type": "code",
   "execution_count": 186,
   "id": "87cfb05b-fb7f-4ea3-babc-4f97ae7aa1e6",
   "metadata": {},
   "outputs": [
    {
     "data": {
      "text/plain": [
       "{1, 2, 3, 4}"
      ]
     },
     "execution_count": 186,
     "metadata": {},
     "output_type": "execute_result"
    }
   ],
   "source": [
    "list_sample = [1, 2, 2, 3, 3, 3, 4, 4, 4, 4]\n",
    "\n",
    "set(list_sample) # 중복 제거"
   ]
  },
  {
   "cell_type": "code",
   "execution_count": null,
   "id": "affe24de-4227-49ff-9446-be6aed303596",
   "metadata": {},
   "outputs": [],
   "source": [
    "ㅇ"
   ]
  },
  {
   "cell_type": "code",
   "execution_count": null,
   "id": "5fd44f19-e7b2-45c4-82cb-141398610a63",
   "metadata": {},
   "outputs": [],
   "source": []
  },
  {
   "cell_type": "code",
   "execution_count": null,
   "id": "67791103-b6da-4451-8e91-cf7419bdb189",
   "metadata": {},
   "outputs": [],
   "source": []
  }
 ],
 "metadata": {
  "kernelspec": {
   "display_name": "Python 3 (ipykernel)",
   "language": "python",
   "name": "python3"
  },
  "language_info": {
   "codemirror_mode": {
    "name": "ipython",
    "version": 3
   },
   "file_extension": ".py",
   "mimetype": "text/x-python",
   "name": "python",
   "nbconvert_exporter": "python",
   "pygments_lexer": "ipython3",
   "version": "3.9.12"
  }
 },
 "nbformat": 4,
 "nbformat_minor": 5
}
