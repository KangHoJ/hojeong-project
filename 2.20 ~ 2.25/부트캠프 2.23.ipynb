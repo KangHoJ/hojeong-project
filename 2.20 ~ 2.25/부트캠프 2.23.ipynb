{
 "cells": [
  {
   "cell_type": "code",
   "execution_count": 2,
   "id": "85fd8cdc-006d-4b63-bfaf-892378f56ec1",
   "metadata": {},
   "outputs": [],
   "source": [
    "import pymysql"
   ]
  },
  {
   "cell_type": "code",
   "execution_count": 16,
   "id": "22fe1318-8137-48d8-8744-0a4c65d64f57",
   "metadata": {},
   "outputs": [],
   "source": [
    "import pymysql.cursors\n",
    "\n",
    "# database 접속할 객체를 만듭니다.\n",
    "connection = pymysql.connect(host='localhost',\n",
    "                             user='root',\n",
    "                             password='python1234',\n",
    "                             database='python',\n",
    "                             cursorclass=pymysql.cursors.DictCursor)"
   ]
  },
  {
   "cell_type": "code",
   "execution_count": 14,
   "id": "2b69c1f7-8047-42d0-bcd7-98278e6a62cf",
   "metadata": {},
   "outputs": [],
   "source": [
    "with connection:\n",
    "    with connection.cursor() as cursor:\n",
    "        # 새로운 값을 삽입합니다.\n",
    "        sql = \"INSERT INTO `users` (`email`, `password`) VALUES (%s, %s)\"\n",
    "        cursor.execute(sql, ('webmaster@python.org', 'very-secret'))\n",
    "\n",
    "    connection.commit()"
   ]
  },
  {
   "cell_type": "code",
   "execution_count": 17,
   "id": "7f5abf64-36b6-456a-b11e-263c29bc9688",
   "metadata": {},
   "outputs": [
    {
     "name": "stdout",
     "output_type": "stream",
     "text": [
      "{'id': 1, 'password': 'very-secret'}\n"
     ]
    }
   ],
   "source": [
    "with connection:    # with는 무조건 실행해야 하는것을 해줌 \n",
    "    with connection.cursor() as cursor:\n",
    "        # 데이터를 불러옵니다.\n",
    "        sql = \"SELECT `id`, `password` FROM `users` WHERE `email`=%s\"\n",
    "        cursor.execute(sql, ('webmaster@python.org',)) # =%s 가 하나이므로 한개하고 , \n",
    "        result = cursor.fetchone()  # fetchall 은 전체를 가져옴 \n",
    "        print(result)"
   ]
  },
  {
   "cell_type": "code",
   "execution_count": null,
   "id": "046ab73b-54da-4ee4-a702-bb341d4e265c",
   "metadata": {},
   "outputs": [],
   "source": []
  },
  {
   "cell_type": "code",
   "execution_count": null,
   "id": "6d33a49b-033f-49be-8baa-117358d7d08b",
   "metadata": {},
   "outputs": [],
   "source": []
  },
  {
   "cell_type": "code",
   "execution_count": null,
   "id": "9707b31f-3f25-42fd-a893-b7cc03fa95d4",
   "metadata": {},
   "outputs": [],
   "source": []
  },
  {
   "cell_type": "code",
   "execution_count": null,
   "id": "87de5cdf-4364-43a3-8c34-96df6c45667a",
   "metadata": {},
   "outputs": [],
   "source": []
  },
  {
   "cell_type": "code",
   "execution_count": null,
   "id": "6acc91ae-befa-4417-82f9-ed4fa27c9e20",
   "metadata": {},
   "outputs": [],
   "source": []
  },
  {
   "cell_type": "code",
   "execution_count": null,
   "id": "e3ad1694-d11e-4006-ae52-7fe681f40a2b",
   "metadata": {},
   "outputs": [],
   "source": []
  }
 ],
 "metadata": {
  "kernelspec": {
   "display_name": "Python 3 (ipykernel)",
   "language": "python",
   "name": "python3"
  },
  "language_info": {
   "codemirror_mode": {
    "name": "ipython",
    "version": 3
   },
   "file_extension": ".py",
   "mimetype": "text/x-python",
   "name": "python",
   "nbconvert_exporter": "python",
   "pygments_lexer": "ipython3",
   "version": "3.9.12"
  }
 },
 "nbformat": 4,
 "nbformat_minor": 5
}
