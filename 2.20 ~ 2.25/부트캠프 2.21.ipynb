{
 "cells": [
  {
   "cell_type": "code",
   "execution_count": 10,
   "id": "0e5c2f1a-a206-4e4b-8951-bede29d7cd87",
   "metadata": {},
   "outputs": [
    {
     "data": {
      "text/plain": [
       "{15, 30, 45, 60, 75, 90}"
      ]
     },
     "execution_count": 10,
     "metadata": {},
     "output_type": "execute_result"
    }
   ],
   "source": [
    "set_3 = { i for i in range(1,100) if i % 3 == 0 }\n",
    "set_5 = { i for i in range(1,100) if i % 5 == 0}\n",
    "result_set = set_3 & set_5\n",
    "result_set"
   ]
  },
  {
   "cell_type": "code",
   "execution_count": 21,
   "id": "b4a005fa-441c-4c7c-b9ed-987a18b2a694",
   "metadata": {},
   "outputs": [
    {
     "name": "stdout",
     "output_type": "stream",
     "text": [
      "개인정보 조회, 구매 관리, 근태 관리, 시스템 관리, 인사 관리, 회계 관리, "
     ]
    }
   ],
   "source": [
    "role_admin = (\"회계 관리\", \"인사 관리\", \"구매 관리\", \"시스템 관리\")\n",
    "role_hr = (\"인사 관리\", \"개인정보 조회\", \"회계 관리\", \"근태 관리\")\n",
    "role_user = (\"개인정보 조회\", \"근태 관리\")\n",
    "role_set = role_admin + role_hr + role_user\n",
    "set_role=set(role_set)\n",
    "k=list(set_role)\n",
    "k.sort()\n",
    "for i in range(len(k)):\n",
    "    print(k[i]+ ',',end=' ')"
   ]
  },
  {
   "cell_type": "markdown",
   "id": "ad130869-a11e-4e67-8ad6-7abf17e6781f",
   "metadata": {},
   "source": [
    "## 함수"
   ]
  },
  {
   "cell_type": "code",
   "execution_count": null,
   "id": "f3fc858e-d9c8-4586-930e-4558feca77af",
   "metadata": {},
   "outputs": [],
   "source": [
    "'''\n",
    "def 함수명(인자,인자,...)\n",
    "        함수 코드 ..\n",
    "        return 반환값  ( 함수를 빠져나가는 느낌)\n",
    "\n",
    "- 메서드는 객체의 종류에따라 쓸 수 있는것이 달라진다\n",
    "'''"
   ]
  },
  {
   "cell_type": "code",
   "execution_count": null,
   "id": "2fdcd3a1-d033-4617-8aa3-d32b25b04bab",
   "metadata": {},
   "outputs": [],
   "source": [
    "'''\n",
    "\n",
    "함수인자 \n",
    "- 위치-키워드(positional or keyword)\n",
    "- 위치 전용(positional-only) ->  / 문자를 기준으로 좌측에 위치한 인자\n",
    "- 키워드 전용(keyword-only)  ->  * 문자를 기준으로 우측에 위치한 인자\n",
    "- 가변 위치(var positional)  ->  위치 매개변수를 개수에 상관없이 받을 수 있음 ( 변수명 앞에 *를 붙여 표기) \n",
    "- 가변 키워드(var keyword)   ->  변수명 앞에 **를 붙여 표기\n"
   ]
  },
  {
   "cell_type": "code",
   "execution_count": 28,
   "id": "c40f0156-e1ed-434f-b1db-37e11e0be95c",
   "metadata": {},
   "outputs": [],
   "source": [
    "def print_ten(some_str):\n",
    "    ''' print('hello')를 열번 출력합니다.'''\n",
    "    for i in range(3):\n",
    "        print('hello')\n"
   ]
  },
  {
   "cell_type": "code",
   "execution_count": 29,
   "id": "aa274991-6ffc-400c-917a-c15b802a5d1a",
   "metadata": {},
   "outputs": [
    {
     "name": "stdout",
     "output_type": "stream",
     "text": [
      "hello\n",
      "hello\n",
      "hello\n"
     ]
    }
   ],
   "source": [
    "print_ten('문자열')"
   ]
  },
  {
   "cell_type": "code",
   "execution_count": 26,
   "id": "748b824c-a54d-4f09-895e-25f2ba6c1fee",
   "metadata": {},
   "outputs": [
    {
     "name": "stdout",
     "output_type": "stream",
     "text": [
      " print('hello')를 열번 출력합니다.\n"
     ]
    }
   ],
   "source": [
    "print(print_ten.__doc__)"
   ]
  },
  {
   "cell_type": "code",
   "execution_count": 31,
   "id": "218dd25b-db51-4744-b3e4-64d005db2aeb",
   "metadata": {},
   "outputs": [
    {
     "name": "stdout",
     "output_type": "stream",
     "text": [
      "파이썬씨 안녕하세요.약 32일 되었습니다.\n"
     ]
    }
   ],
   "source": [
    "def greeting(name,age): # name , age는 파라미터\n",
    "    print('{}씨 안녕하세요.약 {}일 되었습니다.'.format(name,age))\n",
    "greeting('파이썬',32) # 파이썬,32는 argument"
   ]
  },
  {
   "cell_type": "code",
   "execution_count": 32,
   "id": "66962705-2374-4bd4-929d-e146ebdfaf99",
   "metadata": {},
   "outputs": [
    {
     "name": "stdout",
     "output_type": "stream",
     "text": [
      "파이썬씨 안녕하세요.약 32일 되었습니다.\n",
      "파이썬씨 안녕하세요.약 32일 되었습니다.\n",
      "파이썬씨 안녕하세요.약 32일 되었습니다.\n",
      "파이썬씨 안녕하세요.약 32일 되었습니다.\n"
     ]
    }
   ],
   "source": [
    "# 위치 or 키워드 인자\n",
    "greeting('파이썬',32)\n",
    "greeting(name='파이썬',age=32)\n",
    "greeting('파이썬', age=32)\n",
    "greeting(age =32 , name='파이썬')"
   ]
  },
  {
   "cell_type": "code",
   "execution_count": 33,
   "id": "0c2c94b9-7a63-444d-83c6-b72a966e9f85",
   "metadata": {},
   "outputs": [
    {
     "name": "stdout",
     "output_type": "stream",
     "text": [
      "값만 입력해야 합니다\n"
     ]
    }
   ],
   "source": [
    "# 위치 전용 인자\n",
    "def posonly(posonly,/):\n",
    "    print(posonly)\n",
    "\n",
    "posonly('값만 입력해야 합니다')"
   ]
  },
  {
   "cell_type": "code",
   "execution_count": 34,
   "id": "7a382b8b-41c2-46ea-91a2-4e35795f4a1b",
   "metadata": {},
   "outputs": [
    {
     "name": "stdout",
     "output_type": "stream",
     "text": [
      "키워드로만 입력해야 합니다.\n"
     ]
    }
   ],
   "source": [
    "# 키워드 전용 인자\n",
    "def keyonly(*,keyonly='default'):\n",
    "    print(keyonly)\n",
    "keyonly(keyonly='키워드로만 입력해야 합니다.')"
   ]
  },
  {
   "cell_type": "code",
   "execution_count": null,
   "id": "67077d23-23a0-4846-9ac0-016367497da3",
   "metadata": {},
   "outputs": [],
   "source": [
    "# 가변 위치 인자\n",
    "def var_positional(*args):\n",
    "    print(type(args))\n",
    "    return sum([i for i in args])\n",
    "\n",
    "print(var_positional(1,2,3,4,5))"
   ]
  },
  {
   "cell_type": "code",
   "execution_count": null,
   "id": "44b016f4-6614-442d-907b-d33b920638bb",
   "metadata": {},
   "outputs": [],
   "source": [
    "# 가변 키워드 인자\n",
    "def var_keywowrd(**kargs):\n",
    "    print(type(kargs))\n",
    "    return kargs\n",
    "\n",
    "print(var_keywowrd(key='value',key2='value2'))"
   ]
  },
  {
   "cell_type": "code",
   "execution_count": 39,
   "id": "98bac24b-a8c6-4108-b84e-8320f2a24179",
   "metadata": {},
   "outputs": [
    {
     "data": {
      "text/plain": [
       "90"
      ]
     },
     "execution_count": 40,
     "metadata": {},
     "output_type": "execute_result"
    }
   ],
   "source": [
    "def plus_ten(number):\n",
    "    return number +10\n",
    "\n",
    "plus_ten(70)"
   ]
  },
  {
   "cell_type": "code",
   "execution_count": 43,
   "id": "a37aa272-6fec-447e-b978-6b316eab7287",
   "metadata": {},
   "outputs": [
    {
     "data": {
      "text/plain": [
       "21.11111111111111"
      ]
     },
     "execution_count": 43,
     "metadata": {},
     "output_type": "execute_result"
    }
   ],
   "source": [
    "def to_celsius(fahrenheit):\n",
    "    '''\n",
    "    섭씨 온도를 구하기 공식\n",
    "    '''\n",
    "    return (fahrenheit - 32) * 5 / 9\n",
    "\n",
    "to_celsius(70)"
   ]
  },
  {
   "cell_type": "code",
   "execution_count": 65,
   "id": "e2e7de74-93b6-41dc-a885-a998966f7cb0",
   "metadata": {},
   "outputs": [
    {
     "name": "stdout",
     "output_type": "stream",
     "text": [
      "number가 짝수면 '짝수', 홀수면 '홀수' 반환\n",
      "짝수\n",
      "홀수\n",
      "None\n"
     ]
    }
   ],
   "source": [
    "def odd_even(number):\n",
    "    '''number가 짝수면 '짝수', 홀수면 '홀수' 반환'''\n",
    "    if type(number) != int or (type(number)==int and number < 0 ) :\n",
    "        return \n",
    "    elif number % 2 == 0:\n",
    "        return '짝수'\n",
    "    elif number % 2 !=0:\n",
    "        return '홀수'\n",
    "    else:\n",
    "        return \n",
    "\n",
    "print(odd_even.__doc__)\n",
    "print(odd_even(10))\n",
    "print(odd_even(9))\n",
    "print(odd_even('가'))"
   ]
  },
  {
   "cell_type": "code",
   "execution_count": 71,
   "id": "f57cf32e-f324-4d2e-b23a-d5846d4700b7",
   "metadata": {},
   "outputs": [
    {
     "name": "stdin",
     "output_type": "stream",
     "text": [
      "숫자를 입력하세요 10\n"
     ]
    }
   ],
   "source": [
    "number = input('숫자를 입력하세요')"
   ]
  },
  {
   "cell_type": "code",
   "execution_count": 72,
   "id": "27a61a62-370b-415a-a742-8864fb667463",
   "metadata": {},
   "outputs": [
    {
     "data": {
      "text/plain": [
       "10"
      ]
     },
     "execution_count": 72,
     "metadata": {},
     "output_type": "execute_result"
    }
   ],
   "source": [
    "int(float(number))"
   ]
  },
  {
   "cell_type": "code",
   "execution_count": 73,
   "id": "90b9fd55-d1dd-43bc-8e14-bbe2018fd2ff",
   "metadata": {},
   "outputs": [
    {
     "ename": "AttributeError",
     "evalue": "'int' object has no attribute 'isdecimal'",
     "output_type": "error",
     "traceback": [
      "\u001b[1;31m---------------------------------------------------------------------------\u001b[0m",
      "\u001b[1;31mAttributeError\u001b[0m                            Traceback (most recent call last)",
      "Input \u001b[1;32mIn [73]\u001b[0m, in \u001b[0;36m<cell line: 6>\u001b[1;34m()\u001b[0m\n\u001b[0;32m      3\u001b[0m         \u001b[38;5;28;01mreturn\u001b[39;00m \u001b[38;5;28mint\u001b[39m(number)\n\u001b[0;32m      4\u001b[0m     \u001b[38;5;28;01mreturn\u001b[39;00m\n\u001b[1;32m----> 6\u001b[0m \u001b[38;5;28mprint\u001b[39m(\u001b[43mto_int\u001b[49m\u001b[43m(\u001b[49m\u001b[38;5;241;43m10\u001b[39;49m\u001b[43m)\u001b[49m)\n",
      "Input \u001b[1;32mIn [73]\u001b[0m, in \u001b[0;36mto_int\u001b[1;34m(number)\u001b[0m\n\u001b[0;32m      1\u001b[0m \u001b[38;5;28;01mdef\u001b[39;00m \u001b[38;5;21mto_int\u001b[39m(number):\n\u001b[1;32m----> 2\u001b[0m     \u001b[38;5;28;01mif\u001b[39;00m \u001b[43mnumber\u001b[49m\u001b[38;5;241;43m.\u001b[39;49m\u001b[43misdecimal\u001b[49m():\n\u001b[0;32m      3\u001b[0m         \u001b[38;5;28;01mreturn\u001b[39;00m \u001b[38;5;28mint\u001b[39m(number)\n\u001b[0;32m      4\u001b[0m     \u001b[38;5;28;01mreturn\u001b[39;00m\n",
      "\u001b[1;31mAttributeError\u001b[0m: 'int' object has no attribute 'isdecimal'"
     ]
    }
   ],
   "source": [
    "def to_int(number):\n",
    "    if number.isdecimal():\n",
    "        return int(number)\n",
    "    return\n",
    "\n",
    "print(to_int(10))"
   ]
  },
  {
   "cell_type": "code",
   "execution_count": 77,
   "id": "b681d814-b4f2-4043-8e3a-13431734962b",
   "metadata": {},
   "outputs": [
    {
     "data": {
      "text/plain": [
       "'평년'"
      ]
     },
     "execution_count": 77,
     "metadata": {},
     "output_type": "execute_result"
    }
   ],
   "source": [
    "def chcek_leap_year(year):\n",
    "    if year % 100 == 0 and year % 400 != 0:\n",
    "        return \"평년\"\n",
    "    elif year % 4 == 0:\n",
    "        return \"윤년\"\n",
    "    else :\n",
    "        return '평년'\n",
    "    \n",
    "\n",
    "chcek_leap_year(1900)"
   ]
  },
  {
   "cell_type": "code",
   "execution_count": 87,
   "id": "287d0bf4-0d0f-4430-8ff6-1d9fd79b7349",
   "metadata": {},
   "outputs": [
    {
     "data": {
      "text/plain": [
       "30"
      ]
     },
     "execution_count": 87,
     "metadata": {},
     "output_type": "execute_result"
    }
   ],
   "source": [
    "def days(m):\n",
    "        if m in [1,3,4,7,8,10,12] :\n",
    "            return 31\n",
    "        elif m in [4,6,9,11]  :\n",
    "            return 30\n",
    "        elif m == 2:\n",
    "            return 28\n",
    "\n",
    "days(11)"
   ]
  },
  {
   "cell_type": "code",
   "execution_count": 92,
   "id": "e94b2b06-7ea8-41dd-9a7e-6a68c37d0fd6",
   "metadata": {},
   "outputs": [
    {
     "data": {
      "text/plain": [
       "29"
      ]
     },
     "execution_count": 92,
     "metadata": {},
     "output_type": "execute_result"
    }
   ],
   "source": [
    "def days(y,m):\n",
    "    if m in [1,3,4,7,8,10,12] :\n",
    "        return 31\n",
    "    elif m in [4,6,9,11] :\n",
    "        return 30\n",
    "    elif (y % 100 == 0 and y % 400 != 0 or y % 4 != 0) and m ==2 :\n",
    "        return 28\n",
    "    elif (y % 4 ==0) and m==2 :\n",
    "        return 29\n",
    "    \n",
    "days(2000,2)"
   ]
  },
  {
   "cell_type": "code",
   "execution_count": null,
   "id": "a7b2d5aa-bd2b-4a21-ad0d-39ddd70e4841",
   "metadata": {},
   "outputs": [],
   "source": [
    "'''\n",
    "변수의 범위 - 전역 변수(global variable) , 지역 변수\n",
    "\n",
    "\n",
    "- global 키워드는 전역 변수를 매칭해준다\n",
    "- 중첩된 함수마다 같은 이름의 변수가 있다면 nonlocal 키워드를 사용하면 가장 가까운 변수 매칭\n",
    "- 변수를 찾을때 좁은범위 -> 넓은범위로 찾는다 "
   ]
  },
  {
   "cell_type": "code",
   "execution_count": 94,
   "id": "7bf52139-242f-4575-8dc6-f7deff9579eb",
   "metadata": {},
   "outputs": [
    {
     "name": "stdout",
     "output_type": "stream",
     "text": [
      "global 키워드 활용해서 변경 완료\n"
     ]
    }
   ],
   "source": [
    "global_variable = '변경이 됩니까?'\n",
    "\n",
    "def heartbreaker():\n",
    "    global global_variable  # global 을 사용하여 접근 \n",
    "    global_variable = 'global 키워드 활용해서 변경 완료'\n",
    "    \n",
    "heartbreaker()\n",
    "print(global_variable)"
   ]
  },
  {
   "cell_type": "code",
   "execution_count": 95,
   "id": "ad1ae488-8629-4c93-9b97-daa490f9e908",
   "metadata": {},
   "outputs": [
    {
     "data": {
      "text/plain": [
       "20"
      ]
     },
     "execution_count": 95,
     "metadata": {},
     "output_type": "execute_result"
    }
   ],
   "source": [
    "# 람다(lambda)\n",
    "#lambda[parameters]:expression\n",
    "(lambda x: x + 10)(10)"
   ]
  },
  {
   "cell_type": "code",
   "execution_count": 96,
   "id": "b9150d9a-73ee-4665-aa87-ec47f2df2981",
   "metadata": {},
   "outputs": [
    {
     "name": "stdout",
     "output_type": "stream",
     "text": [
      "20\n"
     ]
    }
   ],
   "source": [
    "twice = lambda x: x*2\n",
    "print(twice(10))"
   ]
  },
  {
   "cell_type": "code",
   "execution_count": null,
   "id": "3d805e95-b0c3-454c-865b-b78a3fc99db4",
   "metadata": {},
   "outputs": [],
   "source": [
    "'''\n",
    "조건 표현식 (if 랑 else를 한번에 사용하는법)\n",
    "-> True일때 값 if 조건식 else False일떄 값 "
   ]
  },
  {
   "cell_type": "code",
   "execution_count": null,
   "id": "d5df259d-61a2-498f-ba57-bae0e930d736",
   "metadata": {},
   "outputs": [],
   "source": [
    "score = 90\n",
    "'A' if 90<score<=100 else 'B' if 80 < score else 'C'"
   ]
  },
  {
   "cell_type": "code",
   "execution_count": 99,
   "id": "a478b431-275e-4d26-9205-718339cea28a",
   "metadata": {},
   "outputs": [
    {
     "name": "stdout",
     "output_type": "stream",
     "text": [
      "[2, 8, 18, 32, 50]\n"
     ]
    }
   ],
   "source": [
    "a = [ i for i in range(1,6)]\n",
    "b = [ j for j in range(2,11,2)]\n",
    "print(list(map(lambda x,y: x*y , a,b)))"
   ]
  },
  {
   "cell_type": "code",
   "execution_count": 100,
   "id": "58b4bda1-0a97-43b6-8713-ce3b6463c8e7",
   "metadata": {},
   "outputs": [
    {
     "data": {
      "text/plain": [
       "[3, 9, 9]"
      ]
     },
     "execution_count": 100,
     "metadata": {},
     "output_type": "execute_result"
    }
   ],
   "source": [
    "a = [ 3,2,8,22,10,7,0,11,9,9]\n",
    "list(filter(lambda x: x % 3 ==0 and 0 < x < 10 , a)) \n",
    "# filter 를 통해 True 값이면 출력해줌 "
   ]
  },
  {
   "cell_type": "markdown",
   "id": "b728ad14-3372-445e-a431-1684e83582b9",
   "metadata": {
    "tags": []
   },
   "source": [
    "#### class (객체를 만들기 위한 주형)"
   ]
  },
  {
   "cell_type": "code",
   "execution_count": null,
   "id": "1cdc2674-df93-4d80-8918-41eb629e9a2c",
   "metadata": {},
   "outputs": [],
   "source": [
    "class ClassName:\n",
    "    def method_nemae(self):\n",
    "        method_body\n",
    "        \n",
    "    class_body"
   ]
  },
  {
   "cell_type": "code",
   "execution_count": null,
   "id": "ad1a891c-c911-4f45-a6be-7eca52047e37",
   "metadata": {},
   "outputs": [],
   "source": []
  },
  {
   "cell_type": "code",
   "execution_count": null,
   "id": "ae8beca0-182c-499d-9651-bf2ea6a17ae1",
   "metadata": {},
   "outputs": [],
   "source": []
  }
 ],
 "metadata": {
  "kernelspec": {
   "display_name": "Python 3 (ipykernel)",
   "language": "python",
   "name": "python3"
  },
  "language_info": {
   "codemirror_mode": {
    "name": "ipython",
    "version": 3
   },
   "file_extension": ".py",
   "mimetype": "text/x-python",
   "name": "python",
   "nbconvert_exporter": "python",
   "pygments_lexer": "ipython3",
   "version": "3.9.12"
  }
 },
 "nbformat": 4,
 "nbformat_minor": 5
}
