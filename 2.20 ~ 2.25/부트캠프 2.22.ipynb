{
 "cells": [
  {
   "cell_type": "markdown",
   "id": "29eaa9a1-07d2-4774-994f-969039622bb8",
   "metadata": {},
   "source": [
    "#### 클래스(class)"
   ]
  },
  {
   "cell_type": "code",
   "execution_count": 7,
   "id": "92f9fa06-1e50-4460-a858-251e8306c22a",
   "metadata": {},
   "outputs": [],
   "source": [
    "class student:\n",
    "    def __init__(self): # 생성자 : 객체가 최초 생성될떄 단 한 번 실행되는 메서드 \n",
    "        self.name = '홍길동' #self라는 것은 내 자신의 인스턴스\n"
   ]
  },
  {
   "cell_type": "code",
   "execution_count": 8,
   "id": "809cd7e8-2962-4aab-ad9a-1640a86b5db8",
   "metadata": {},
   "outputs": [],
   "source": [
    "s1 = student() # class로 부터 객체가 생성\n",
    "\n",
    "s2 = student()\n",
    "\n",
    "\n",
    "# 각각 객체가 만들어짐 "
   ]
  },
  {
   "cell_type": "code",
   "execution_count": 9,
   "id": "33715325-3b48-4d8d-8501-d175d01bb475",
   "metadata": {},
   "outputs": [
    {
     "name": "stdout",
     "output_type": "stream",
     "text": [
      "홍길동\n",
      "홍길동\n"
     ]
    }
   ],
   "source": [
    "print(s1.name)\n",
    "print(s2.name)"
   ]
  },
  {
   "cell_type": "code",
   "execution_count": 1,
   "id": "41689c13-730a-420c-af19-4641b451463b",
   "metadata": {},
   "outputs": [
    {
     "name": "stdout",
     "output_type": "stream",
     "text": [
      "안녕하세요\n"
     ]
    }
   ],
   "source": [
    "class person:\n",
    "    def __init__(self):   # james = person() 처럼 인스턴스를 만들떄 호출되는 메서드\n",
    "        self.hello ='안녕하세요' # hello처럼 속성을 추가 \n",
    "    def greeting(self):\n",
    "        print(self.hello)\n",
    "        \n",
    "james = person()\n",
    "james.greeting()"
   ]
  },
  {
   "cell_type": "code",
   "execution_count": 16,
   "id": "ef5659dd-27ab-4151-9252-41aa35b9a92d",
   "metadata": {},
   "outputs": [],
   "source": [
    "class Person:\n",
    "    def __init__(self,name,age):\n",
    "        self.a = name\n",
    "        self.b = age\n",
    "        \n"
   ]
  },
  {
   "cell_type": "code",
   "execution_count": 22,
   "id": "0fdb8d28-6b89-4883-a5a2-f358f091950e",
   "metadata": {},
   "outputs": [
    {
     "name": "stdout",
     "output_type": "stream",
     "text": [
      "홍길동\n",
      "22\n"
     ]
    }
   ],
   "source": [
    "p1 = Person('홍길동',22)\n",
    "print(p1.a)\n",
    "print(p1.b)"
   ]
  },
  {
   "cell_type": "code",
   "execution_count": 23,
   "id": "a350f074-870f-44f3-9136-3e8d45756e8a",
   "metadata": {},
   "outputs": [
    {
     "name": "stdout",
     "output_type": "stream",
     "text": [
      "홍길다\n",
      "32\n"
     ]
    }
   ],
   "source": [
    "p2 = Person('홍길다',32)\n",
    "print(p2.a)\n",
    "print(p2.b)"
   ]
  },
  {
   "cell_type": "code",
   "execution_count": null,
   "id": "dd323912-a7ee-4b21-8abd-8e867fc45a4e",
   "metadata": {},
   "outputs": [],
   "source": [
    "class Person:\n",
    "    def __init__(self,name,age,address):\n",
    "        self.hello = '안녕하세요'\n",
    "        self.name = name\n",
    "        self.age = age\n",
    "        self.address = address\n",
    "        \n",
    "    def greeting(self):\n",
    "        print('{}제 이름은 {}입니다.'.format(self.hello,self.name))\n",
    "    \n",
    "\n",
    "maria = person('마리아',20,'서울시 서초구 반포동')\n",
    "maria.greeting()\n",
    "\n",
    "print('이름',maria.name)\n",
    "print('이름',maria.age)\n",
    "print('이름',maria.address)"
   ]
  },
  {
   "cell_type": "code",
   "execution_count": 42,
   "id": "bde33feb-8168-4717-be93-76f2410cf743",
   "metadata": {},
   "outputs": [
    {
     "name": "stdin",
     "output_type": "stream",
     "text": [
      "이름은 무엇인가요? 1\n",
      "나이은 무엇인가요? 1\n",
      "주소은 무엇인가요? 1\n",
      "이름은 무엇인가요? 1\n",
      "나이은 무엇인가요? 1\n",
      "주소은 무엇인가요? 1\n"
     ]
    },
    {
     "name": "stdout",
     "output_type": "stream",
     "text": [
      "첫번쨰 이름: 마리아 \n",
      "첫번쨰 이름: 20 \n",
      "첫번쨰 이름: 서울시 강남구 \n",
      "두번쨰 이름: 제임스 \n",
      "두번쨰 이름: 21 \n",
      "두번쨰 이름: 서울시 구로구 \n"
     ]
    }
   ],
   "source": [
    "# 어떠한 값을 입력하더라도 정의된 값으로 출력된다 .\n",
    "class person:\n",
    "    def __init__(self,name,age,address):\n",
    "        self.name = name\n",
    "        self.age = age\n",
    "        self.address = address\n",
    "        \n",
    "        \n",
    "    def greeting(self):\n",
    "        input('이름은 무엇인가요?')\n",
    "        input('나이은 무엇인가요?')\n",
    "        input('주소은 무엇인가요?')\n",
    "        \n",
    "        \n",
    "    \n",
    "maria = person('마리아',20,'서울시 강남구')\n",
    "maria.greeting()\n",
    "james = person('제임스',21,'서울시 구로구')\n",
    "james.greeting()\n",
    "\n",
    "\n",
    "print('첫번쨰 이름: {} '.format(maria.name))\n",
    "print('첫번쨰 이름: {} '.format(maria.age))\n",
    "print('첫번쨰 이름: {} '.format(maria.address))\n",
    "print('두번쨰 이름: {} '.format(james.name))\n",
    "print('두번쨰 이름: {} '.format(james.age))\n",
    "print('두번쨰 이름: {} '.format(james.address))\n"
   ]
  },
  {
   "cell_type": "code",
   "execution_count": 47,
   "id": "565c5ad3-2bca-4a92-9ae4-917444f8674e",
   "metadata": {},
   "outputs": [
    {
     "name": "stdin",
     "output_type": "stream",
     "text": [
      "이름은 무엇인가요? 마리아\n",
      "나이은 무엇인가요? 20\n",
      "주소은 무엇인가요? 서울시 강남구\n",
      "이름은 무엇인가요? 제임스\n",
      "나이은 무엇인가요? 21\n",
      "주소은 무엇인가요? 서울시 구로구\n"
     ]
    },
    {
     "name": "stdout",
     "output_type": "stream",
     "text": [
      "첫번쨰 이름: 마리아 \n",
      "첫번쨰 이름: 20 \n",
      "첫번쨰 이름: 서울시 강남구 \n",
      "두번쨰 이름: 제임스 \n",
      "두번쨰 이름: 21 \n",
      "두번쨰 이름: 서울시 구로구 \n"
     ]
    }
   ],
   "source": [
    "# 방법 2 -> 입력한 값을 출력할 수 있게 해줌 \n",
    "class person:\n",
    "    def __init__(self):\n",
    "        pass\n",
    "        \n",
    "    def greeting(self):\n",
    "        self.name = input('이름은 무엇인가요?')\n",
    "        self.age = input('나이은 무엇인가요?')\n",
    "        self.address = input('주소은 무엇인가요?')\n",
    "        \n",
    "        \n",
    "    \n",
    "maria = person()\n",
    "maria.greeting()\n",
    "james = person()\n",
    "james.greeting()\n",
    "\n",
    "\n",
    "print('첫번쨰 이름: {} '.format(maria.name))\n",
    "print('첫번쨰 이름: {} '.format(maria.age))\n",
    "print('첫번쨰 이름: {} '.format(maria.address))\n",
    "print('두번쨰 이름: {} '.format(james.name))\n",
    "print('두번쨰 이름: {} '.format(james.age))\n",
    "print('두번쨰 이름: {} '.format(james.address))\n"
   ]
  },
  {
   "cell_type": "code",
   "execution_count": 49,
   "id": "498e3eda-3df1-492a-b8fc-65361e2fe201",
   "metadata": {},
   "outputs": [],
   "source": [
    "# 비공개 속성 사용하기\n",
    "class ClassExam:\n",
    "    def __init__(self):\n",
    "        self.__secret = '비밀입니다.'  "
   ]
  },
  {
   "cell_type": "code",
   "execution_count": 68,
   "id": "199140da-1d0f-4c4c-a785-5a4aff9672ff",
   "metadata": {},
   "outputs": [
    {
     "name": "stdin",
     "output_type": "stream",
     "text": [
      "체력을 입력하세요 10\n",
      "마나를 입력하세요 10\n",
      "AP를 입력하세요 10\n"
     ]
    },
    {
     "name": "stdout",
     "output_type": "stream",
     "text": [
      "티버 : 피해량 406.5\n"
     ]
    }
   ],
   "source": [
    "# 못풀었음 \n",
    "class Annie:\n",
    "    def __init__(self):\n",
    "        self.hp = input('체력을 입력하세요')\n",
    "        self.mp = input('마나를 입력하세요')\n",
    "        self.ap = input('AP를 입력하세요')\n",
    "        \n",
    "    def tibbers(self):\n",
    "        self.damage = float(self.ap) * 0.65 + 400\n",
    "        \n",
    "tiber = Annie()\n",
    "tiber.tibbers()\n",
    "print('티버 : 피해량 {}'.format(tiber.damage))        \n"
   ]
  },
  {
   "cell_type": "code",
   "execution_count": 2,
   "id": "3bef9318-f5a2-44a1-a7c8-040f4cd37975",
   "metadata": {},
   "outputs": [
    {
     "ename": "TypeError",
     "evalue": "__init__() missing 3 required positional arguments: 'hp', 'mp', and 'ap'",
     "output_type": "error",
     "traceback": [
      "\u001b[1;31m---------------------------------------------------------------------------\u001b[0m",
      "\u001b[1;31mTypeError\u001b[0m                                 Traceback (most recent call last)",
      "Input \u001b[1;32mIn [2]\u001b[0m, in \u001b[0;36m<cell line: 11>\u001b[1;34m()\u001b[0m\n\u001b[0;32m      8\u001b[0m     \u001b[38;5;28;01mdef\u001b[39;00m \u001b[38;5;21mtibbers\u001b[39m(\u001b[38;5;28mself\u001b[39m):\n\u001b[0;32m      9\u001b[0m         \u001b[38;5;28;01mreturn\u001b[39;00m \u001b[38;5;28mself\u001b[39m\u001b[38;5;241m.\u001b[39map \u001b[38;5;241m*\u001b[39m \u001b[38;5;241m0.65\u001b[39m \u001b[38;5;241m+\u001b[39m \u001b[38;5;241m400\u001b[39m\n\u001b[1;32m---> 11\u001b[0m a \u001b[38;5;241m=\u001b[39m \u001b[43mAnnie\u001b[49m\u001b[43m(\u001b[49m\u001b[43m)\u001b[49m\n\u001b[0;32m     12\u001b[0m hp , mp , ap \u001b[38;5;241m=\u001b[39m \u001b[38;5;28mmap\u001b[39m(\u001b[38;5;28mfloat\u001b[39m, \u001b[38;5;28minput\u001b[39m(\u001b[38;5;124m'\u001b[39m\u001b[38;5;124m애니\u001b[39m\u001b[38;5;124m'\u001b[39m)\u001b[38;5;241m.\u001b[39msplit())\n\u001b[0;32m     13\u001b[0m a2 \u001b[38;5;241m=\u001b[39m Annie(hp,mp,ap)\n",
      "\u001b[1;31mTypeError\u001b[0m: __init__() missing 3 required positional arguments: 'hp', 'mp', and 'ap'"
     ]
    }
   ],
   "source": [
    "# 못풀었음 \n",
    "class Annie:\n",
    "    def __init__(self,hp,mp,ap):\n",
    "        self.hp = hp\n",
    "        self.mp = mp\n",
    "        self.ap = ap\n",
    "        \n",
    "    def tibbers(self):\n",
    "        return self.ap * 0.65 + 400\n",
    "\n",
    "a = Annie()\n",
    "hp , mp , ap = map(float, input('애니').split())\n",
    "a2 = Annie(hp,mp,ap)\n",
    "a2.tibbers()\n"
   ]
  },
  {
   "cell_type": "code",
   "execution_count": null,
   "id": "c1ec39ce-2d95-49b3-83f9-6edf27cd8543",
   "metadata": {},
   "outputs": [],
   "source": [
    "''' SQL -> DQL , DDL , DCL , DML\n",
    "DQL -> 테이블 조회\n",
    "DDL -> CREATE(생성),ALTER(수정),DROP(삭제)\n",
    "DCL -> GRANT(승인) , REVOKE(제약)\n",
    "DML -> INSERT(삽입),UPDATE(수정),DELETE(삭제)\n",
    "\n",
    "\n",
    "\n",
    "CHAR -> 고정된 길이의 문자열 저장\n",
    "VARCHAR -> 가변 문자열 저장\n",
    "TEXT -> 매우 큰 문자열 저장\n",
    "\n",
    "< MariaDB server 데이터 타입>\n",
    "INT , BIGINT , FLOAT , DECIMAL ,DATATIME\n",
    "\n",
    "\n",
    "\n",
    "'''"
   ]
  },
  {
   "cell_type": "code",
   "execution_count": null,
   "id": "092bcbed-6d5b-470a-a090-c9202d09f07b",
   "metadata": {},
   "outputs": [],
   "source": []
  },
  {
   "cell_type": "code",
   "execution_count": null,
   "id": "6afed8ca-985f-4efa-80dc-87654f59d3ed",
   "metadata": {},
   "outputs": [],
   "source": []
  }
 ],
 "metadata": {
  "kernelspec": {
   "display_name": "Python 3 (ipykernel)",
   "language": "python",
   "name": "python3"
  },
  "language_info": {
   "codemirror_mode": {
    "name": "ipython",
    "version": 3
   },
   "file_extension": ".py",
   "mimetype": "text/x-python",
   "name": "python",
   "nbconvert_exporter": "python",
   "pygments_lexer": "ipython3",
   "version": "3.9.12"
  }
 },
 "nbformat": 4,
 "nbformat_minor": 5
}
