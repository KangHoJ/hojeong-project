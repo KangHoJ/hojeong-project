{
 "cells": [
  {
   "cell_type": "markdown",
   "id": "1cbae2c6-2060-494b-800d-d6d6e1c7f843",
   "metadata": {},
   "source": [
    "# 기본 세팅"
   ]
  },
  {
   "cell_type": "code",
   "execution_count": 1,
   "id": "c70c66f2-61ed-4837-abf4-c6b21b071ce9",
   "metadata": {},
   "outputs": [],
   "source": [
    "import numpy as np \n",
    "import pandas as pd\n",
    "\n",
    "import matplotlib.pyplot as plt\n",
    "import seaborn as sns\n",
    "\n",
    "plt.style.use('fivethirtyeight')\n",
    "plt.ion()\n",
    "\n",
    "import warnings\n",
    "warnings.filterwarnings('ignore')"
   ]
  },
  {
   "cell_type": "code",
   "execution_count": 6,
   "id": "b3043b4a-5dd8-471b-9763-d26a8d096e71",
   "metadata": {},
   "outputs": [
    {
     "data": {
      "text/plain": [
       "'C:\\\\Users\\\\User\\\\Desktop\\\\model_results.csv'"
      ]
     },
     "execution_count": 6,
     "metadata": {},
     "output_type": "execute_result"
    }
   ],
   "source": [
    "import easydict\n",
    "args = easydict.EasyDict() #dict values 에 .으로 접근 가능하다 \n",
    "\n",
    "# path 정보\n",
    "args.default_path = 'C:\\\\Users\\\\User\\\\Desktop\\\\' # 파일 위치 \n",
    "args.train_csv = args.default_path+'train.csv'\n",
    "args.test_csv = args.default_path+'test.csv'\n",
    "args.default_submission_csv = args.default_path+'submission_0330.csv'\n",
    "\n",
    "args.submission_csv = args.default_path+'submission_0330.csv' # 새로운 파일 \n",
    "args.save_results = args.default_path+\"model_results.csv\" # 정보저장 파일 \n",
    "\n",
    "# 데이터 분석을 위한 변수들\n",
    "args.random_state = 21\n",
    "args.results = []\n",
    "\n",
    "args.save_results"
   ]
  },
  {
   "cell_type": "markdown",
   "id": "07495f3c-9be9-4135-869b-6da9fc6aef5d",
   "metadata": {},
   "source": [
    "# 이전 파일 부르기"
   ]
  },
  {
   "cell_type": "code",
   "execution_count": null,
   "id": "f5de5f6b-5ff9-445d-a060-c65b86a711f1",
   "metadata": {},
   "outputs": [],
   "source": [
    "ori_train = pd.read_csv(args.train_csv)\n",
    "ori_test = pd.read_csv(args.test_csv)\n",
    "ori_train.shape, ori_test.shape"
   ]
  },
  {
   "cell_type": "code",
   "execution_count": 13,
   "id": "71433e4a-b146-4f2a-9b70-d3ebb85f7240",
   "metadata": {},
   "outputs": [
    {
     "data": {
      "text/html": [
       "<div>\n",
       "<style scoped>\n",
       "    .dataframe tbody tr th:only-of-type {\n",
       "        vertical-align: middle;\n",
       "    }\n",
       "\n",
       "    .dataframe tbody tr th {\n",
       "        vertical-align: top;\n",
       "    }\n",
       "\n",
       "    .dataframe thead th {\n",
       "        text-align: right;\n",
       "    }\n",
       "</style>\n",
       "<table border=\"1\" class=\"dataframe\">\n",
       "  <thead>\n",
       "    <tr style=\"text-align: right;\">\n",
       "      <th></th>\n",
       "      <th>Unnamed: 0</th>\n",
       "      <th>model</th>\n",
       "      <th>score_tr</th>\n",
       "      <th>score_te</th>\n",
       "      <th>auc_te</th>\n",
       "      <th>len_features</th>\n",
       "      <th>feaute_importances</th>\n",
       "      <th>create_dt</th>\n",
       "    </tr>\n",
       "  </thead>\n",
       "  <tbody>\n",
       "    <tr>\n",
       "      <th>0</th>\n",
       "      <td>1</td>\n",
       "      <td>modelV1</td>\n",
       "      <td>0.982839</td>\n",
       "      <td>0.781818</td>\n",
       "      <td>0.773645</td>\n",
       "      <td>10</td>\n",
       "      <td>['gender_female', 'fare', 'age', 'pclass', 'si...</td>\n",
       "      <td>217</td>\n",
       "    </tr>\n",
       "    <tr>\n",
       "      <th>1</th>\n",
       "      <td>0</td>\n",
       "      <td>modelV0</td>\n",
       "      <td>0.982839</td>\n",
       "      <td>0.778182</td>\n",
       "      <td>0.768612</td>\n",
       "      <td>10</td>\n",
       "      <td>['gender_female', 'fare', 'age', 'pclass', 'si...</td>\n",
       "      <td>217</td>\n",
       "    </tr>\n",
       "    <tr>\n",
       "      <th>2</th>\n",
       "      <td>2</td>\n",
       "      <td>modelV2</td>\n",
       "      <td>0.982839</td>\n",
       "      <td>0.774545</td>\n",
       "      <td>0.763580</td>\n",
       "      <td>10</td>\n",
       "      <td>['gender_female', 'fare', 'age', 'pclass', 'si...</td>\n",
       "      <td>217</td>\n",
       "    </tr>\n",
       "  </tbody>\n",
       "</table>\n",
       "</div>"
      ],
      "text/plain": [
       "   Unnamed: 0    model  score_tr  score_te    auc_te  len_features  \\\n",
       "0           1  modelV1  0.982839  0.781818  0.773645            10   \n",
       "1           0  modelV0  0.982839  0.778182  0.768612            10   \n",
       "2           2  modelV2  0.982839  0.774545  0.763580            10   \n",
       "\n",
       "                                  feaute_importances  create_dt  \n",
       "0  ['gender_female', 'fare', 'age', 'pclass', 'si...        217  \n",
       "1  ['gender_female', 'fare', 'age', 'pclass', 'si...        217  \n",
       "2  ['gender_female', 'fare', 'age', 'pclass', 'si...        217  "
      ]
     },
     "execution_count": 13,
     "metadata": {},
     "output_type": "execute_result"
    }
   ],
   "source": [
    "pre__result = pd.read_csv(args.save_results)\n",
    "pre__result"
   ]
  },
  {
   "cell_type": "markdown",
   "id": "94562f1a-19d1-4459-bc3c-df0d7abe2d5f",
   "metadata": {
    "tags": []
   },
   "source": [
    "# *Base ModelV1*"
   ]
  },
  {
   "cell_type": "code",
   "execution_count": null,
   "id": "54497393-11aa-4de9-89eb-e300f8775099",
   "metadata": {},
   "outputs": [
    {
     "data": {
      "text/plain": [
       "((641, 10), (275, 10), (393, 10))"
      ]
     },
     "execution_count": 136,
     "metadata": {},
     "output_type": "execute_result"
    }
   ],
   "source": [
    "train = X_tr.copy() \n",
    "test = X_te.copy()\n",
    "ori_te = ori_test.copy()\n",
    "\n",
    "train.shape, test.shape, ori_te.shape"
   ]
  },
  {
   "cell_type": "markdown",
   "id": "f08e51fc-551c-4246-a27a-a4e0b5611162",
   "metadata": {
    "tags": []
   },
   "source": [
    "### Data preprocessing"
   ]
  },
  {
   "cell_type": "code",
   "execution_count": null,
   "id": "8f421b26-53b3-471d-9eb9-8d8dd580e6a8",
   "metadata": {
    "tags": []
   },
   "outputs": [
    {
     "name": "stdout",
     "output_type": "stream",
     "text": [
      "before: (641, 10) / (275, 10)\n",
      "after: (641, 7) / (275, 7)\n"
     ]
    }
   ],
   "source": [
    "print(f'before: {train.shape} / {test.shape}')\n",
    "drop_cols = ['name', 'ticket', 'cabin']\n",
    "\n",
    "train.drop(drop_cols, axis=1, inplace=True)\n",
    "test.drop(drop_cols, axis=1, inplace=True)\n",
    "ori_te.drop(drop_cols, axis=1, inplace=True)\n",
    "\n",
    "\n",
    "print(f'after: {train.shape} / {test.shape}')"
   ]
  },
  {
   "cell_type": "markdown",
   "id": "32af3e85-06e3-48e0-a1a6-fe08bf13c160",
   "metadata": {
    "tags": []
   },
   "source": [
    "#### 결측치 처리"
   ]
  },
  {
   "cell_type": "code",
   "execution_count": null,
   "id": "712c454e-f1d5-4187-b4b5-3e5c21876d6b",
   "metadata": {},
   "outputs": [
    {
     "data": {
      "text/plain": [
       "(28.0, 14.4, 'S')"
      ]
     },
     "execution_count": 138,
     "metadata": {},
     "output_type": "execute_result"
    }
   ],
   "source": [
    "age_median = train['age'].median()\n",
    "fare_median = train['fare'].median()\n",
    "embarked_mode = train['embarked'].mode().values[0]\n",
    "\n",
    "age_median, fare_median, embarked_mode"
   ]
  },
  {
   "cell_type": "code",
   "execution_count": null,
   "id": "914c50ac-4c39-423e-81fb-bcd8cfa336d7",
   "metadata": {},
   "outputs": [
    {
     "data": {
      "text/plain": [
       "(0, 0, 0)"
      ]
     },
     "execution_count": 139,
     "metadata": {},
     "output_type": "execute_result"
    }
   ],
   "source": [
    "train['age'].fillna(age_median, inplace=True)\n",
    "test['age'].fillna(age_median, inplace=True)\n",
    "ori_te['age'].fillna(age_median, inplace=True)\n",
    "\n",
    "train['fare'].fillna(fare_median, inplace=True)\n",
    "test['fare'].fillna(fare_median, inplace=True)\n",
    "ori_te['fare'].fillna(fare_median, inplace=True)\n",
    "\n",
    "train['embarked'].fillna(embarked_mode, inplace=True)\n",
    "test['embarked'].fillna(embarked_mode, inplace=True)\n",
    "ori_te['embarked'].fillna(embarked_mode, inplace=True)\n",
    "\n",
    "train.isnull().sum().sum(), test.isnull().sum().sum(), ori_te.isnull().sum().sum()"
   ]
  },
  {
   "cell_type": "markdown",
   "id": "9e8ac2b8-88f4-42b2-bb31-cb128bdf0743",
   "metadata": {},
   "source": [
    "### data encoding"
   ]
  },
  {
   "cell_type": "code",
   "execution_count": null,
   "id": "9dc6254b-ecd8-4940-8428-b3bdb11b21ca",
   "metadata": {},
   "outputs": [
    {
     "data": {
      "text/plain": [
       "['pclass', 'sibsp', 'parch', 'age', 'fare']"
      ]
     },
     "execution_count": 140,
     "metadata": {},
     "output_type": "execute_result"
    }
   ],
   "source": [
    "enc_cols = ['gender', 'embarked']\n",
    "normal_cols = list(set(train.columns) - set(enc_cols))\n",
    "normal_cols"
   ]
  },
  {
   "cell_type": "code",
   "execution_count": null,
   "id": "fb794aef-d8c4-4d7f-8da0-eac902320111",
   "metadata": {},
   "outputs": [
    {
     "name": "stdout",
     "output_type": "stream",
     "text": [
      "before: (641, 7) / (275, 7) / (393, 7)\n",
      "after: (641, 10) / (275, 10) / (393, 10)\n"
     ]
    }
   ],
   "source": [
    "enc = OneHotEncoder()\n",
    "\n",
    "tmp_tr = pd.DataFrame(\n",
    "    enc.fit_transform(train[enc_cols]).toarray(), #범주형 encoder 적용시켜서 temp_tr에 저장\n",
    "    columns = enc.get_feature_names_out() # feature name을 뽑아냄 \n",
    ")  \n",
    "enc_tr = pd.concat(\n",
    "    [train[normal_cols].reset_index(drop=True), tmp_tr.reset_index(drop=True)]\n",
    "    , axis=1\n",
    ") \n",
    "# 수치형 데이터(train[normal_cols]) + encoding 된 문자형 데이터(tmp_tr) 를 합쳐서 enc_tr\n",
    "\n",
    "\n",
    "\n",
    "# test (ori_te 에서 나온 te  -> 모델의 학습을 평가(잘했는지 못했는지))\n",
    "tmp_te = pd.DataFrame(\n",
    "    enc.transform(test[enc_cols]).toarray(), \n",
    "    columns = enc.get_feature_names_out()\n",
    ")\n",
    "enc_te = pd.concat(\n",
    "    [test[normal_cols].reset_index(drop=True), tmp_te.reset_index(drop=True)]\n",
    "    , axis=1\n",
    ")\n",
    "\n",
    "\n",
    "# ori_test\n",
    "tmp_te = pd.DataFrame(\n",
    "    enc.transform(ori_te[enc_cols]).toarray(), \n",
    "    columns = enc.get_feature_names_out()\n",
    ")\n",
    "enc_ori_te = pd.concat(\n",
    "    [ori_te[normal_cols].reset_index(drop=True), tmp_te.reset_index(drop=True)]\n",
    "    , axis=1\n",
    ")\n",
    "print(f'before: {train.shape} / {test.shape} / {ori_te.shape}')\n",
    "print(f'after: {enc_tr.shape} / {enc_te.shape} / {enc_ori_te.shape}')\n",
    "# gender가 두개로 , embarked가 3개로 "
   ]
  },
  {
   "cell_type": "markdown",
   "id": "417120dd-8baa-4046-a804-37953eadd6ef",
   "metadata": {},
   "source": [
    "### Scaler"
   ]
  },
  {
   "cell_type": "code",
   "execution_count": null,
   "id": "c580928d-549b-4c97-b64a-d22a95d8b644",
   "metadata": {},
   "outputs": [
    {
     "data": {
      "text/plain": [
       "Index(['pclass', 'sibsp', 'parch', 'age', 'fare', 'gender_female',\n",
       "       'gender_male', 'embarked_C', 'embarked_Q', 'embarked_S'],\n",
       "      dtype='object')"
      ]
     },
     "execution_count": 142,
     "metadata": {},
     "output_type": "execute_result"
    }
   ],
   "source": [
    "enc_tr.columns"
   ]
  },
  {
   "cell_type": "code",
   "execution_count": null,
   "id": "f07aa2f3-fefc-4aee-afe6-76e05254d80f",
   "metadata": {},
   "outputs": [
    {
     "data": {
      "text/plain": [
       "['pclass',\n",
       " 'sibsp',\n",
       " 'gender_male',\n",
       " 'parch',\n",
       " 'gender_female',\n",
       " 'embarked_Q',\n",
       " 'embarked_S',\n",
       " 'embarked_C']"
      ]
     },
     "execution_count": 143,
     "metadata": {},
     "output_type": "execute_result"
    }
   ],
   "source": [
    "scaling_cols = ['age', 'fare']\n",
    "not_scaling_cols = list(set(enc_tr.columns) - set(scaling_cols))\n",
    "not_scaling_cols "
   ]
  },
  {
   "cell_type": "code",
   "execution_count": null,
   "id": "144109ee-e56f-43da-a140-0c5a55596708",
   "metadata": {},
   "outputs": [],
   "source": [
    "from sklearn.preprocessing import StandardScaler"
   ]
  },
  {
   "cell_type": "code",
   "execution_count": null,
   "id": "408a0f69-9ab3-4a00-aadb-484450a23949",
   "metadata": {},
   "outputs": [],
   "source": [
    "std = StandardScaler()\n",
    "\n",
    "_scaled_tr = std.fit_transform(enc_tr[scaling_cols])\n",
    "_scaled_te = std.transform(enc_te[scaling_cols])\n",
    "_scaled_ori_te = std.transform(enc_ori_te[scaling_cols])"
   ]
  },
  {
   "cell_type": "code",
   "execution_count": null,
   "id": "81711ea3-9a94-4de5-9b7a-792dcf59d46e",
   "metadata": {},
   "outputs": [
    {
     "name": "stdout",
     "output_type": "stream",
     "text": [
      "before: (641, 10) / (275, 10) / (393, 10)\n",
      "after: (641, 10) / (275, 10) / (393, 10)\n"
     ]
    }
   ],
   "source": [
    "print(f'before: {enc_tr.shape} / {enc_te.shape} / {enc_ori_te.shape}')\n",
    "# train\n",
    "tmp_tr = pd.DataFrame(\n",
    "    _scaled_tr, \n",
    "    columns = scaling_cols\n",
    ")\n",
    "scaled_tr = pd.concat(\n",
    "    [enc_tr[not_scaling_cols].reset_index(drop=True), tmp_tr.reset_index(drop=True)]\n",
    "    , axis=1\n",
    ").reset_index(drop=True)\n",
    "\n",
    "# test\n",
    "tmp_te = pd.DataFrame(\n",
    "    _scaled_te, \n",
    "    columns = scaling_cols\n",
    ")\n",
    "scaled_te = pd.concat(\n",
    "    [enc_te[not_scaling_cols].reset_index(drop=True), tmp_te.reset_index(drop=True)]\n",
    "    , axis=1\n",
    ").reset_index(drop=True)\n",
    "\n",
    "# ori_test\n",
    "tmp_te = pd.DataFrame(\n",
    "    _scaled_ori_te, \n",
    "    columns = scaling_cols\n",
    ")\n",
    "scaled_ori_te = pd.concat(\n",
    "    [enc_ori_te[not_scaling_cols].reset_index(drop=True), tmp_te.reset_index(drop=True)]\n",
    "    , axis=1\n",
    ").reset_index(drop=True)\n",
    "\n",
    "\n",
    "print(f'after: {scaled_tr.shape} / {scaled_te.shape} / {scaled_ori_te.shape}')"
   ]
  },
  {
   "cell_type": "markdown",
   "id": "cac25dda-25b4-4bfc-a1b7-8b0f775ad192",
   "metadata": {},
   "source": [
    "### Training"
   ]
  },
  {
   "cell_type": "code",
   "execution_count": null,
   "id": "bc6b7d94-5d39-42be-aaad-b7742f1ffaaf",
   "metadata": {},
   "outputs": [
    {
     "data": {
      "text/plain": [
       "DecisionTreeClassifier(random_state=21)"
      ]
     },
     "execution_count": 147,
     "metadata": {},
     "output_type": "execute_result"
    }
   ],
   "source": [
    "modelV1 = DecisionTreeClassifier(random_state=21)\n",
    "\n",
    "modelV1.fit(scaled_tr, y_tr)"
   ]
  },
  {
   "cell_type": "markdown",
   "id": "7b3256f6-c50d-4fcb-aa07-d049065acbab",
   "metadata": {},
   "source": [
    "### Evaluation"
   ]
  },
  {
   "cell_type": "code",
   "execution_count": null,
   "id": "da3cce89-7ed6-4b1c-be99-e8e75480ba86",
   "metadata": {},
   "outputs": [
    {
     "data": {
      "text/plain": [
       "(0.982839313572543, 0.7818181818181819)"
      ]
     },
     "execution_count": 148,
     "metadata": {},
     "output_type": "execute_result"
    }
   ],
   "source": [
    "score_tr = modelV1.score(scaled_tr, y_tr)\n",
    "score_te = modelV1.score(scaled_te, y_te) \n",
    "\n",
    "score_tr, score_te  "
   ]
  },
  {
   "cell_type": "code",
   "execution_count": null,
   "id": "70d3e754-b3de-4fab-aaef-07de7d6aadde",
   "metadata": {},
   "outputs": [
    {
     "name": "stdout",
     "output_type": "stream",
     "text": [
      "model: 0.7736448493027441\n"
     ]
    }
   ],
   "source": [
    "from sklearn.metrics import roc_curve, auc \n",
    "\n",
    "y_pred = modelV1.predict_proba(scaled_te)[:,1]\n",
    "fpr, tpr, thresholds = roc_curve(y_te,y_pred)\n",
    "auc_te = auc(fpr, tpr)\n",
    "print(f'model: {auc_te}')"
   ]
  },
  {
   "cell_type": "code",
   "execution_count": null,
   "id": "8d1208e5-4091-418b-9122-c4e072b2e11a",
   "metadata": {
    "tags": []
   },
   "outputs": [],
   "source": [
    "ori_te_pred = modelV1.predict_proba(scaled_ori_te)[:,1]"
   ]
  },
  {
   "cell_type": "code",
   "execution_count": null,
   "id": "7f33a5a3-eb97-49fd-a94f-8ab7ac770f4c",
   "metadata": {},
   "outputs": [
    {
     "name": "stdout",
     "output_type": "stream",
     "text": [
      "(10, 2)\n"
     ]
    }
   ],
   "source": [
    "df_feature_importances = pd.DataFrame(modelV1.feature_importances_, scaled_tr.columns).sort_values(by=[0], ascending=False).reset_index()\n",
    "print(f'{df_feature_importances.shape}')"
   ]
  },
  {
   "cell_type": "code",
   "execution_count": null,
   "id": "cb9e3ade-544f-4668-960f-894095feda54",
   "metadata": {},
   "outputs": [],
   "source": [
    "args.results.append(\n",
    "    {\n",
    "        'model': 'modelV1',\n",
    "        'score_tr': score_tr,\n",
    "        'score_te': score_te,\n",
    "        'auc_te': auc_te,\n",
    "        'ori_te_pred': ori_te_pred,\n",
    "        'len_features': X_tr.shape[1],\n",
    "        'feaute_importances': list(df_feature_importances['index'].values[:X_tr.shape[1]]),\n",
    "        'create_dt': '0330'\n",
    "    }\n",
    ")"
   ]
  },
  {
   "cell_type": "code",
   "execution_count": null,
   "id": "fd6e2252-f038-4cd8-af77-9014d9b3c3d5",
   "metadata": {},
   "outputs": [],
   "source": []
  },
  {
   "cell_type": "code",
   "execution_count": null,
   "id": "ec364d8f-57a3-46ec-9ecf-108d3661913c",
   "metadata": {},
   "outputs": [],
   "source": []
  }
 ],
 "metadata": {
  "kernelspec": {
   "display_name": "Python 3 (ipykernel)",
   "language": "python",
   "name": "python3"
  },
  "language_info": {
   "codemirror_mode": {
    "name": "ipython",
    "version": 3
   },
   "file_extension": ".py",
   "mimetype": "text/x-python",
   "name": "python",
   "nbconvert_exporter": "python",
   "pygments_lexer": "ipython3",
   "version": "3.9.12"
  }
 },
 "nbformat": 4,
 "nbformat_minor": 5
}
