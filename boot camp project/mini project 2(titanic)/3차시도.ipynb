{
 "cells": [
  {
   "cell_type": "markdown",
   "id": "e13e02a7-742a-4031-8154-3dc8255e7263",
   "metadata": {},
   "source": [
    "# 기본 세팅"
   ]
  },
  {
   "cell_type": "markdown",
   "id": "510fdd7e-3aed-4ef5-8b49-488935667489",
   "metadata": {
    "tags": []
   },
   "source": [
    "## 폰트 설정"
   ]
  },
  {
   "cell_type": "code",
   "execution_count": 132,
   "id": "7df8e3ae-e9a2-41ad-9f3b-fdc1770a0852",
   "metadata": {
    "collapsed": true,
    "jupyter": {
     "outputs_hidden": true
    },
    "tags": []
   },
   "outputs": [
    {
     "name": "stdout",
     "output_type": "stream",
     "text": [
      "NanumGothicOTF Eco\n",
      "Noto Sans KR\n",
      "NanumBarunGothicOTF\n",
      "NanumSquare_ac\n",
      "NanumGothicOTF Eco\n",
      "NanumSquare\n",
      "NanumSquareRound\n",
      "NanumBarunGothicOTF\n",
      "NanumGothic\n",
      "NanumSquare Neo ExtraBold\n",
      "NanumBarunpenOTF\n",
      "NanumMyeongjo\n",
      "D2Coding\n",
      "NanumSquare Neo Regular\n",
      "NanumSquareOTF\n",
      "NanumBarunGothicOTF YetHangul\n",
      "NanumSquareOTF\n",
      "NanumBarunGothic\n",
      "NanumSquareOTF_ac\n",
      "NanumMyeongjo YetHangul\n",
      "Noto Sans KR\n",
      "NanumSquare Neo OTF Bold\n",
      "NanumBarunGothic\n",
      "NanumBarunpen\n",
      "NanumMyeongjoOTF Eco\n",
      "NanumSquare_ac\n",
      "NanumGothic Eco\n",
      "NanumSquare Neo OTF ExtraBold\n",
      "Noto Sans KR\n",
      "NanumMyeongjo Eco\n",
      "NanumGothicOTF Eco\n",
      "NanumGothic Eco\n",
      "NanumSquare Neo Bold\n",
      "NanumSquare Neo Light\n",
      "Nanum Pen Script\n",
      "NanumSquareRoundOTF\n",
      "NanumSquare\n",
      "NanumGothicOTF\n",
      "NanumGothicOTF\n",
      "NanumSquareRound\n",
      "NanumSquareOTF_ac\n",
      "NanumSquare Neo Heavy\n",
      "NanumSquare_ac\n",
      "NanumGothic Eco\n",
      "NanumSquare_ac\n",
      "NanumGothic\n",
      "NanumSquareOTF_ac\n",
      "D2Coding ligature\n",
      "NanumSquareRoundOTF\n",
      "NanumMyeongjoOTF Eco\n",
      "NanumSquareOTF_ac\n",
      "Noto Sans KR\n",
      "NanumSquareOTF\n",
      "D2Coding ligature\n",
      "NanumMyeongjo\n",
      "Nanum Pen Script OTF\n",
      "NanumMyeongjoOTF\n",
      "NanumSquareOTF\n",
      "NanumMyeongjoOTF YetHangul\n",
      "NanumSquare Neo OTF Light\n",
      "NanumMyeongjoOTF\n",
      "NanumBarunGothic\n",
      "NanumBarunpenOTF\n",
      "NanumBarunpen\n",
      "NanumSquareRound\n",
      "NanumSquare\n",
      "NanumGothicOTF\n",
      "NanumBarunGothicOTF\n",
      "NanumSquareRoundOTF\n",
      "NanumSquare Neo OTF Heavy\n",
      "Nanum Brush Script\n",
      "Noto Sans KR\n",
      "NanumGothic\n",
      "NanumSquareRoundOTF\n",
      "D2Coding ligature\n",
      "NanumBarunGothic\n",
      "Noto Sans KR\n",
      "NanumMyeongjo Eco\n",
      "NanumSquare\n",
      "NanumSquareRound\n",
      "NanumGothicOTF\n",
      "NanumMyeongjoOTF Eco\n",
      "NanumMyeongjoOTF\n",
      "NanumMyeongjo\n",
      "NanumSquare Neo OTF Regular\n",
      "Nanum Brush Script OTF\n",
      "NanumBarunGothic YetHangul\n",
      "NanumBarunGothicOTF\n",
      "NanumGothic\n",
      "NanumMyeongjo Eco\n"
     ]
    }
   ],
   "source": [
    "import matplotlib as mpl\n",
    "# Add every font at the specified location\n",
    "font_dir = ['./fonts']\n",
    "for font in mpl.font_manager.findSystemFonts(fontpaths=font_dir):\n",
    " print(mpl.font_manager.FontProperties(fname=font).get_name())\n",
    " mpl.font_manager.fontManager.addfont(font)"
   ]
  },
  {
   "cell_type": "code",
   "execution_count": 133,
   "id": "7b69efb7-9bdf-4246-9765-8cb60873df7a",
   "metadata": {
    "collapsed": true,
    "jupyter": {
     "outputs_hidden": true
    },
    "tags": []
   },
   "outputs": [
    {
     "name": "stdout",
     "output_type": "stream",
     "text": [
      "['C:\\\\Windows\\\\Fonts\\\\Candaraz.ttf', 'C:\\\\Windows\\\\Fonts\\\\H2GPRM.TTF', 'C:\\\\Windows\\\\Fonts\\\\DUBAI-REGULAR.TTF', 'C:\\\\Windows\\\\Fonts\\\\verdanab.ttf', 'C:\\\\Windows\\\\Fonts\\\\l_10646.ttf', 'C:\\\\Windows\\\\Fonts\\\\calibrii.ttf', 'C:\\\\Windows\\\\Fonts\\\\comici.ttf', 'C:\\\\Windows\\\\Fonts\\\\SitkaB.ttc', 'C:\\\\Windows\\\\Fonts\\\\REFSAN.TTF', 'C:\\\\Windows\\\\Fonts\\\\gadugib.ttf', 'C:\\\\Windows\\\\Fonts\\\\ebrimabd.ttf', 'C:\\\\Windows\\\\Fonts\\\\mmrtext.ttf', 'C:\\\\Windows\\\\Fonts\\\\Candara.ttf', 'C:\\\\Windows\\\\Fonts\\\\Hancom Gothic Regular.ttf', 'C:\\\\Windows\\\\Fonts\\\\HMFMOLD.TTF', 'C:\\\\Windows\\\\Fonts\\\\cambriab.ttf', 'C:\\\\Windows\\\\Fonts\\\\corbelb.ttf', 'C:\\\\Windows\\\\Fonts\\\\MTEXTRA.TTF', 'C:\\\\Windows\\\\Fonts\\\\gulim.ttc', 'C:\\\\Windows\\\\Fonts\\\\HMFMPYUN.TTF', 'C:\\\\Windows\\\\Fonts\\\\palab.ttf', 'C:\\\\Windows\\\\Fonts\\\\constanz.ttf', 'C:\\\\Windows\\\\Fonts\\\\mvboli.ttf', 'C:\\\\Windows\\\\Fonts\\\\calibrib.ttf', 'C:\\\\Windows\\\\Fonts\\\\ARIALNB.TTF', 'C:\\\\Windows\\\\Fonts\\\\seguibli.ttf', 'C:\\\\Windows\\\\Fonts\\\\bahnschrift.ttf', 'C:\\\\Windows\\\\Fonts\\\\seguihis.ttf', 'C:\\\\Windows\\\\Fonts\\\\segmdl2.ttf', 'C:\\\\Windows\\\\Fonts\\\\verdana.ttf', 'C:\\\\Windows\\\\Fonts\\\\GOTHICB.TTF', 'C:\\\\Windows\\\\Fonts\\\\trebucit.ttf', 'C:\\\\Windows\\\\Fonts\\\\segoeuii.ttf', 'C:\\\\Windows\\\\Fonts\\\\sylfaen.ttf', 'C:\\\\Windows\\\\Fonts\\\\seguisb.ttf', 'C:\\\\Windows\\\\Fonts\\\\comicz.ttf', 'C:\\\\Windows\\\\Fonts\\\\ARIALNBI.TTF', 'C:\\\\Windows\\\\Fonts\\\\constanb.ttf', 'C:\\\\Windows\\\\Fonts\\\\BOOKOSI.TTF', 'C:\\\\Windows\\\\Fonts\\\\simsunb.ttf', 'C:\\\\Windows\\\\Fonts\\\\timesi.ttf', 'C:\\\\Windows\\\\Fonts\\\\HMKMRHD.TTF', 'C:\\\\Windows\\\\Fonts\\\\HMFMMUEX.TTC', 'C:\\\\Windows\\\\Fonts\\\\SitkaZ.ttc', 'C:\\\\Windows\\\\Fonts\\\\HANDotumExt.ttf', 'C:\\\\Windows\\\\Fonts\\\\micross.ttf', 'C:\\\\Windows\\\\Fonts\\\\NirmalaB.ttf', 'C:\\\\Windows\\\\Fonts\\\\seguiemj.ttf', 'C:\\\\Windows\\\\Fonts\\\\YuGothL.ttc', 'C:\\\\Windows\\\\Fonts\\\\framd.ttf', 'C:\\\\Windows\\\\Fonts\\\\simsun.ttc', 'C:\\\\Windows\\\\Fonts\\\\H2GSRB.TTF', 'C:\\\\Windows\\\\Fonts\\\\msjhbd.ttc', 'C:\\\\Windows\\\\Fonts\\\\Candaral.ttf', 'C:\\\\Windows\\\\Fonts\\\\H2PORM.TTF', 'C:\\\\Windows\\\\Fonts\\\\seguibl.ttf', 'C:\\\\Windows\\\\Fonts\\\\MalangmalangR.ttf', 'C:\\\\Windows\\\\Fonts\\\\phagspa.ttf', 'C:\\\\Windows\\\\Fonts\\\\H2PORL.TTF', 'C:\\\\Windows\\\\Fonts\\\\BSSYM7.TTF', 'C:\\\\Windows\\\\Fonts\\\\framdit.ttf', 'C:\\\\Windows\\\\Fonts\\\\segoescb.ttf', 'C:\\\\Windows\\\\Fonts\\\\javatext.ttf', 'C:\\\\Windows\\\\Fonts\\\\ARIALN.TTF', 'C:\\\\Windows\\\\Fonts\\\\lucon.ttf', 'C:\\\\Windows\\\\Fonts\\\\YuGothB.ttc', 'C:\\\\Windows\\\\Fonts\\\\HanSantteutDotum-Regular.ttf', 'C:\\\\Windows\\\\Fonts\\\\ANTQUAI.TTF', 'C:\\\\Windows\\\\Fonts\\\\couri.ttf', 'C:\\\\Windows\\\\Fonts\\\\H2GTRM.TTF', 'C:\\\\Windows\\\\Fonts\\\\Candarali.ttf', 'C:\\\\Windows\\\\Fonts\\\\ntailu.ttf', 'C:\\\\Windows\\\\Fonts\\\\ntailub.ttf', 'C:\\\\Windows\\\\Fonts\\\\HANDotumB.ttf', 'C:\\\\Windows\\\\Fonts\\\\HANDotum.ttf', 'C:\\\\Windows\\\\Fonts\\\\segoeuib.ttf', 'C:\\\\Windows\\\\Fonts\\\\comicbd.ttf', 'C:\\\\Windows\\\\Fonts\\\\H2MJRE.TTF', 'C:\\\\Windows\\\\Fonts\\\\impact.ttf', 'C:\\\\Windows\\\\Fonts\\\\segoeuiz.ttf', 'C:\\\\Windows\\\\Fonts\\\\trebucbi.ttf', 'C:\\\\Windows\\\\Fonts\\\\wingding.ttf', 'C:\\\\Windows\\\\Fonts\\\\consolaz.ttf', 'C:\\\\Windows\\\\Fonts\\\\georgiab.ttf', 'C:\\\\Windows\\\\Fonts\\\\GARABD.TTF', 'C:\\\\Windows\\\\Fonts\\\\malgunbd.ttf', 'C:\\\\Windows\\\\Fonts\\\\ariblk.ttf', 'C:\\\\Windows\\\\Fonts\\\\LeelawUI.ttf', 'C:\\\\Windows\\\\Fonts\\\\msjh.ttc', 'C:\\\\Windows\\\\Fonts\\\\H2SA1M.TTF', 'C:\\\\Windows\\\\Fonts\\\\consolab.ttf', 'C:\\\\Windows\\\\Fonts\\\\gadugi.ttf', 'C:\\\\Windows\\\\Fonts\\\\ariali.ttf', 'C:\\\\Windows\\\\Fonts\\\\corbelz.ttf', 'C:\\\\Windows\\\\Fonts\\\\msgothic.ttc', 'C:\\\\Windows\\\\Fonts\\\\segoesc.ttf', 'C:\\\\Windows\\\\Fonts\\\\webdings.ttf', 'C:\\\\Windows\\\\Fonts\\\\palai.ttf', 'C:\\\\Windows\\\\Fonts\\\\HANBatang.ttf', 'C:\\\\Windows\\\\Fonts\\\\LEELAWDB.TTF', 'C:\\\\Windows\\\\Fonts\\\\H2GTRE.TTF', 'C:\\\\Windows\\\\Fonts\\\\WINGDNG3.TTF', 'C:\\\\Windows\\\\Fonts\\\\MalangmalangB.ttf', 'C:\\\\Windows\\\\Fonts\\\\JUMJA.TTF', 'C:\\\\Windows\\\\Fonts\\\\verdanai.ttf', 'C:\\\\Windows\\\\Fonts\\\\seguisbi.ttf', 'C:\\\\Windows\\\\Fonts\\\\LEELAWAD.TTF', 'C:\\\\Windows\\\\Fonts\\\\Inkfree.ttf', 'C:\\\\Windows\\\\Fonts\\\\segoeuisl.ttf', 'C:\\\\Windows\\\\Fonts\\\\courbd.ttf', 'C:\\\\Windows\\\\Fonts\\\\LeelaUIb.ttf', 'C:\\\\Windows\\\\Fonts\\\\holomdl2.ttf', 'C:\\\\Windows\\\\Fonts\\\\himalaya.ttf', 'C:\\\\Windows\\\\Fonts\\\\msyh.ttc', 'C:\\\\Windows\\\\Fonts\\\\tahomabd.ttf', 'C:\\\\Windows\\\\Fonts\\\\segoeprb.ttf', 'C:\\\\Windows\\\\Fonts\\\\Hancom Gothic Bold.ttf', 'C:\\\\Windows\\\\Fonts\\\\msyi.ttf', 'C:\\\\Windows\\\\Fonts\\\\NGULIM.TTF', 'C:\\\\Windows\\\\Fonts\\\\HYHWPEQ.TTF', 'C:\\\\Windows\\\\Fonts\\\\times.ttf', 'C:\\\\Windows\\\\Fonts\\\\CENTURY.TTF', 'C:\\\\Windows\\\\Fonts\\\\msyhbd.ttc', 'C:\\\\Windows\\\\Fonts\\\\NirmalaS.ttf', 'C:\\\\Windows\\\\Fonts\\\\HanSantteutDotum-Bold.ttf', 'C:\\\\Windows\\\\Fonts\\\\Hancom HMJE_V.ttf', 'C:\\\\Windows\\\\Fonts\\\\trebuc.ttf', 'C:\\\\Windows\\\\Fonts\\\\cambriai.ttf', 'C:\\\\Windows\\\\Fonts\\\\seguisym.ttf', 'C:\\\\Windows\\\\Fonts\\\\calibrili.ttf', 'C:\\\\Windows\\\\Fonts\\\\MSUIGHUR.TTF', 'C:\\\\Windows\\\\Fonts\\\\HancomEQN.ttf', 'C:\\\\Windows\\\\Fonts\\\\taile.ttf', 'C:\\\\Windows\\\\Fonts\\\\segoepr.ttf', 'C:\\\\Windows\\\\Fonts\\\\HANBatangExtB.ttf', 'C:\\\\Windows\\\\Fonts\\\\YuGothR.ttc', 'C:\\\\Windows\\\\Fonts\\\\BOOKOSB.TTF', 'C:\\\\Windows\\\\Fonts\\\\Sitka.ttc', 'C:\\\\Windows\\\\Fonts\\\\seguili.ttf', 'C:\\\\Windows\\\\Fonts\\\\GARA.TTF', 'C:\\\\Windows\\\\Fonts\\\\corbelli.ttf', 'C:\\\\Windows\\\\Fonts\\\\arial.ttf', 'C:\\\\Windows\\\\Fonts\\\\REFSPCL.TTF', 'C:\\\\Windows\\\\Fonts\\\\taileb.ttf', 'C:\\\\Windows\\\\Fonts\\\\Candarai.ttf', 'C:\\\\Windows\\\\Fonts\\\\phagspab.ttf', 'C:\\\\Windows\\\\Fonts\\\\msyhl.ttc', 'C:\\\\Windows\\\\Fonts\\\\georgia.ttf', 'C:\\\\Windows\\\\Fonts\\\\YuGothM.ttc', 'C:\\\\Windows\\\\Fonts\\\\arialbd.ttf', 'C:\\\\Windows\\\\Fonts\\\\HANBatangExt.ttf', 'C:\\\\Windows\\\\Fonts\\\\BKANT.TTF', 'C:\\\\Windows\\\\Fonts\\\\comic.ttf', 'C:\\\\Windows\\\\Fonts\\\\symbol.ttf', 'C:\\\\Windows\\\\Fonts\\\\HANWing2.ttf', 'C:\\\\Windows\\\\Fonts\\\\GOTHIC.TTF', 'C:\\\\Windows\\\\Fonts\\\\mingliub.ttc', 'C:\\\\Windows\\\\Fonts\\\\batang.ttc', 'C:\\\\Windows\\\\Fonts\\\\HMKMMAG.TTF', 'C:\\\\Windows\\\\Fonts\\\\cambriaz.ttf', 'C:\\\\Windows\\\\Fonts\\\\H2MJSM.TTF', 'C:\\\\Windows\\\\Fonts\\\\HANBatangB.ttf', 'C:\\\\Windows\\\\Fonts\\\\constan.ttf', 'C:\\\\Windows\\\\Fonts\\\\SitkaI.ttc', 'C:\\\\Windows\\\\Fonts\\\\HANBatangExtBB.ttf', 'C:\\\\Windows\\\\Fonts\\\\DUBAI-BOLD.TTF', 'C:\\\\Windows\\\\Fonts\\\\cambria.ttc', 'C:\\\\Windows\\\\Fonts\\\\msjhl.ttc', 'C:\\\\Windows\\\\Fonts\\\\tahoma.ttf', 'C:\\\\Windows\\\\Fonts\\\\DUBAI-MEDIUM.TTF', 'C:\\\\Windows\\\\Fonts\\\\calibri.ttf', 'C:\\\\Windows\\\\Fonts\\\\cour.ttf', 'C:\\\\Windows\\\\Fonts\\\\HMKMAMI.TTF', 'C:\\\\Windows\\\\Fonts\\\\segoeui.ttf', 'C:\\\\Windows\\\\Fonts\\\\arialbi.ttf', 'C:\\\\Windows\\\\Fonts\\\\MSUIGHUB.TTF', 'C:\\\\Windows\\\\Fonts\\\\GOTHICBI.TTF', 'C:\\\\Windows\\\\Fonts\\\\verdanaz.ttf', 'C:\\\\Windows\\\\Fonts\\\\timesbi.ttf', 'C:\\\\Windows\\\\Fonts\\\\timesbd.ttf', 'C:\\\\Windows\\\\Fonts\\\\palabi.ttf', 'C:\\\\Windows\\\\Fonts\\\\courbi.ttf', 'C:\\\\Windows\\\\Fonts\\\\calibril.ttf', 'C:\\\\Windows\\\\Fonts\\\\monbaiti.ttf', 'C:\\\\Windows\\\\Fonts\\\\ebrima.ttf', 'C:\\\\Windows\\\\Fonts\\\\ANTQUAB.TTF', 'C:\\\\Windows\\\\Fonts\\\\Gabriola.ttf', 'C:\\\\Windows\\\\Fonts\\\\H2MKPB.TTF', 'C:\\\\Windows\\\\Fonts\\\\ANTQUABI.TTF', 'C:\\\\Windows\\\\Fonts\\\\calibriz.ttf', 'C:\\\\Windows\\\\Fonts\\\\DUBAI-LIGHT.TTF', 'C:\\\\Windows\\\\Fonts\\\\corbell.ttf', 'C:\\\\Windows\\\\Fonts\\\\georgiai.ttf', 'C:\\\\Windows\\\\Fonts\\\\segoeuil.ttf', 'C:\\\\Windows\\\\Fonts\\\\corbeli.ttf', 'C:\\\\Windows\\\\Fonts\\\\consola.ttf', 'C:\\\\Windows\\\\Fonts\\\\seguisli.ttf', 'C:\\\\Windows\\\\Fonts\\\\mmrtextb.ttf', 'C:\\\\Windows\\\\Fonts\\\\corbel.ttf', 'C:\\\\Windows\\\\Fonts\\\\pala.ttf', 'C:\\\\Windows\\\\Fonts\\\\BOOKOS.TTF', 'C:\\\\Windows\\\\Fonts\\\\constani.ttf', 'C:\\\\Windows\\\\Fonts\\\\WINGDNG2.TTF', 'C:\\\\Windows\\\\Fonts\\\\GARAIT.TTF', 'C:\\\\Windows\\\\Fonts\\\\BOOKOSBI.TTF', 'C:\\\\Windows\\\\Fonts\\\\H2HDRM.TTF', 'C:\\\\Users\\\\User\\\\AppData\\\\Local\\\\Microsoft\\\\Windows\\\\Fonts\\\\Cafe24Ohsquare.ttf', 'C:\\\\Windows\\\\Fonts\\\\Candarab.ttf', 'C:\\\\Windows\\\\Fonts\\\\MTCORSVA.TTF', 'C:\\\\Windows\\\\Fonts\\\\malgun.ttf', 'C:\\\\Windows\\\\Fonts\\\\marlett.ttf', 'C:\\\\Windows\\\\Fonts\\\\consolai.ttf', 'C:\\\\Windows\\\\Fonts\\\\LeelUIsl.ttf', 'C:\\\\Windows\\\\Fonts\\\\trebucbd.ttf', 'C:\\\\Windows\\\\Fonts\\\\georgiaz.ttf', 'C:\\\\Windows\\\\Fonts\\\\HancomHoonminjeongeumH.ttf', 'C:\\\\Windows\\\\Fonts\\\\malgunsl.ttf', 'C:\\\\Windows\\\\Fonts\\\\Nirmala.ttf', 'C:\\\\Windows\\\\Fonts\\\\GOTHICI.TTF', 'C:\\\\Windows\\\\Fonts\\\\ARIALNI.TTF']\n"
     ]
    }
   ],
   "source": [
    "# 시스템 폰트 경로 리스트\n",
    "font_list = mpl.font_manager.findSystemFonts()\n",
    "print(font_list)\n",
    "# 폰트 설정하기\n",
    "prop = mpl.font_manager.FontProperties(fname='원하는 폰트 경로')\n",
    "plt.rcParams['font.family'] = prop.get_family()"
   ]
  },
  {
   "cell_type": "code",
   "execution_count": 134,
   "id": "5a2a7751-8216-4a31-ac5d-5eb14905b5f3",
   "metadata": {},
   "outputs": [
    {
     "name": "stdout",
     "output_type": "stream",
     "text": [
      "['Noto Sans KR']\n"
     ]
    }
   ],
   "source": [
    "# Set font family globally\n",
    "mpl.rcParams['font.family'] = 'Noto Sans KR'\n",
    "print(mpl.rcParams['font.family'])"
   ]
  },
  {
   "cell_type": "code",
   "execution_count": 131,
   "id": "7aaa642c-e932-4601-b556-3fac40cd7a68",
   "metadata": {},
   "outputs": [
    {
     "name": "stdout",
     "output_type": "stream",
     "text": [
      "C:\\Users\\User\\Desktop\\boot camp\n"
     ]
    }
   ],
   "source": [
    "%cd C:\\\\Users\\\\User\\\\Desktop\\\\boot camp"
   ]
  },
  {
   "cell_type": "markdown",
   "id": "ee63e4e6-16dd-4919-a9c3-5e337b3ff19e",
   "metadata": {},
   "source": [
    "## 데이터 로드"
   ]
  },
  {
   "cell_type": "code",
   "execution_count": 5,
   "id": "7f68a4dc-1a48-4d5b-b51e-668e688275c8",
   "metadata": {
    "tags": []
   },
   "outputs": [],
   "source": [
    "import easydict\n",
    "args = easydict.EasyDict() #dict values 에 .으로 접근 가능하다 \n",
    "\n",
    "# path 정보\n",
    "args.default_path = 'C:\\\\Users\\\\User\\\\Desktop\\\\' # 파일 위치 \n",
    "args.train_csv = args.default_path+'train.csv'\n",
    "args.test_csv = args.default_path+'test.csv'\n",
    "args.default_submission_csv = args.default_path+'submission.csv'\n",
    "\n",
    "args.submission_csv = args.default_path+'submission_0331.csv' # 새로운 파일 \n",
    "args.save_results = args.default_path+\"model_results.csv\" # 정보저장 파일 \n",
    "\n",
    "# 데이터 분석을 위한 변수들\n",
    "args.random_state = 42\n",
    "args.results = []"
   ]
  },
  {
   "cell_type": "code",
   "execution_count": 6,
   "id": "7ae256fd-50a4-460e-b93c-53cfe71986fe",
   "metadata": {
    "tags": []
   },
   "outputs": [],
   "source": [
    "import numpy as np \n",
    "import pandas as pd\n",
    "\n",
    "import matplotlib.pyplot as plt\n",
    "import seaborn as sns\n",
    "\n",
    "plt.style.use('fivethirtyeight')\n",
    "plt.ion()\n",
    "\n",
    "import warnings\n",
    "warnings.filterwarnings('ignore')"
   ]
  },
  {
   "cell_type": "code",
   "execution_count": 7,
   "id": "5a110cff-d47e-4123-99fe-04448ac230b8",
   "metadata": {},
   "outputs": [
    {
     "data": {
      "text/plain": [
       "((916, 12), (393, 11))"
      ]
     },
     "execution_count": 7,
     "metadata": {},
     "output_type": "execute_result"
    }
   ],
   "source": [
    "ori_result = pd.read_csv(args.save_results)\n",
    "ori_train = pd.read_csv(args.train_csv)\n",
    "ori_test = pd.read_csv(args.test_csv)\n",
    "ori_train.shape, ori_test.shape"
   ]
  },
  {
   "cell_type": "code",
   "execution_count": 8,
   "id": "20821344-3b5c-4dd4-8285-1ae248dffa52",
   "metadata": {},
   "outputs": [
    {
     "data": {
      "text/html": [
       "<div>\n",
       "<style scoped>\n",
       "    .dataframe tbody tr th:only-of-type {\n",
       "        vertical-align: middle;\n",
       "    }\n",
       "\n",
       "    .dataframe tbody tr th {\n",
       "        vertical-align: top;\n",
       "    }\n",
       "\n",
       "    .dataframe thead th {\n",
       "        text-align: right;\n",
       "    }\n",
       "</style>\n",
       "<table border=\"1\" class=\"dataframe\">\n",
       "  <thead>\n",
       "    <tr style=\"text-align: right;\">\n",
       "      <th></th>\n",
       "      <th>Unnamed: 0</th>\n",
       "      <th>model</th>\n",
       "      <th>score_tr</th>\n",
       "      <th>score_te</th>\n",
       "      <th>auc_te</th>\n",
       "      <th>len_features</th>\n",
       "      <th>feaute_importances</th>\n",
       "      <th>create_dt</th>\n",
       "    </tr>\n",
       "  </thead>\n",
       "  <tbody>\n",
       "    <tr>\n",
       "      <th>0</th>\n",
       "      <td>2</td>\n",
       "      <td>modelV2</td>\n",
       "      <td>0.982839</td>\n",
       "      <td>0.821818</td>\n",
       "      <td>0.894709</td>\n",
       "      <td>10</td>\n",
       "      <td>['gender_female', 'gender_male', 'fare', 'age'...</td>\n",
       "      <td>330</td>\n",
       "    </tr>\n",
       "    <tr>\n",
       "      <th>1</th>\n",
       "      <td>1</td>\n",
       "      <td>modelV1</td>\n",
       "      <td>0.982839</td>\n",
       "      <td>0.825455</td>\n",
       "      <td>0.893922</td>\n",
       "      <td>10</td>\n",
       "      <td>['gender_female', 'gender_male', 'fare', 'age'...</td>\n",
       "      <td>330</td>\n",
       "    </tr>\n",
       "    <tr>\n",
       "      <th>2</th>\n",
       "      <td>0</td>\n",
       "      <td>modelV0</td>\n",
       "      <td>0.982839</td>\n",
       "      <td>0.814545</td>\n",
       "      <td>0.892628</td>\n",
       "      <td>10</td>\n",
       "      <td>['gender_male', 'fare', 'age', 'gender_female'...</td>\n",
       "      <td>330</td>\n",
       "    </tr>\n",
       "  </tbody>\n",
       "</table>\n",
       "</div>"
      ],
      "text/plain": [
       "   Unnamed: 0    model  score_tr  score_te    auc_te  len_features  \\\n",
       "0           2  modelV2  0.982839  0.821818  0.894709            10   \n",
       "1           1  modelV1  0.982839  0.825455  0.893922            10   \n",
       "2           0  modelV0  0.982839  0.814545  0.892628            10   \n",
       "\n",
       "                                  feaute_importances  create_dt  \n",
       "0  ['gender_female', 'gender_male', 'fare', 'age'...        330  \n",
       "1  ['gender_female', 'gender_male', 'fare', 'age'...        330  \n",
       "2  ['gender_male', 'fare', 'age', 'gender_female'...        330  "
      ]
     },
     "execution_count": 8,
     "metadata": {},
     "output_type": "execute_result"
    }
   ],
   "source": [
    "ori_result"
   ]
  },
  {
   "cell_type": "markdown",
   "id": "200cb7b3-f6da-4b9c-b972-1b4896b8d51b",
   "metadata": {
    "tags": []
   },
   "source": [
    "# 데이터 확인 "
   ]
  },
  {
   "cell_type": "code",
   "execution_count": 10,
   "id": "7d158bd9-1054-4071-ac8f-1d5176299b7d",
   "metadata": {},
   "outputs": [
    {
     "data": {
      "text/plain": [
       "Index(['passengerid', 'survived', 'pclass', 'name', 'gender', 'age', 'sibsp',\n",
       "       'parch', 'ticket', 'fare', 'cabin', 'embarked'],\n",
       "      dtype='object')"
      ]
     },
     "execution_count": 10,
     "metadata": {},
     "output_type": "execute_result"
    }
   ],
   "source": [
    "ori_train.columns"
   ]
  },
  {
   "cell_type": "code",
   "execution_count": 11,
   "id": "1a653d10-bc32-46f4-a877-12f98579c0b2",
   "metadata": {},
   "outputs": [
    {
     "data": {
      "text/html": [
       "<div>\n",
       "<style scoped>\n",
       "    .dataframe tbody tr th:only-of-type {\n",
       "        vertical-align: middle;\n",
       "    }\n",
       "\n",
       "    .dataframe tbody tr th {\n",
       "        vertical-align: top;\n",
       "    }\n",
       "\n",
       "    .dataframe thead th {\n",
       "        text-align: right;\n",
       "    }\n",
       "</style>\n",
       "<table border=\"1\" class=\"dataframe\">\n",
       "  <thead>\n",
       "    <tr style=\"text-align: right;\">\n",
       "      <th></th>\n",
       "      <th>passengerid</th>\n",
       "      <th>survived</th>\n",
       "      <th>pclass</th>\n",
       "      <th>name</th>\n",
       "      <th>gender</th>\n",
       "      <th>age</th>\n",
       "      <th>sibsp</th>\n",
       "      <th>parch</th>\n",
       "      <th>ticket</th>\n",
       "      <th>fare</th>\n",
       "      <th>cabin</th>\n",
       "      <th>embarked</th>\n",
       "    </tr>\n",
       "  </thead>\n",
       "  <tbody>\n",
       "    <tr>\n",
       "      <th>0</th>\n",
       "      <td>0</td>\n",
       "      <td>0</td>\n",
       "      <td>2</td>\n",
       "      <td>Wheeler, Mr. Edwin Frederick\"\"</td>\n",
       "      <td>male</td>\n",
       "      <td>NaN</td>\n",
       "      <td>0</td>\n",
       "      <td>0</td>\n",
       "      <td>SC/PARIS 2159</td>\n",
       "      <td>12.875</td>\n",
       "      <td>NaN</td>\n",
       "      <td>S</td>\n",
       "    </tr>\n",
       "    <tr>\n",
       "      <th>1</th>\n",
       "      <td>1</td>\n",
       "      <td>0</td>\n",
       "      <td>3</td>\n",
       "      <td>Henry, Miss. Delia</td>\n",
       "      <td>female</td>\n",
       "      <td>NaN</td>\n",
       "      <td>0</td>\n",
       "      <td>0</td>\n",
       "      <td>382649</td>\n",
       "      <td>7.750</td>\n",
       "      <td>NaN</td>\n",
       "      <td>Q</td>\n",
       "    </tr>\n",
       "  </tbody>\n",
       "</table>\n",
       "</div>"
      ],
      "text/plain": [
       "   passengerid  survived  pclass                            name  gender  age  \\\n",
       "0            0         0       2  Wheeler, Mr. Edwin Frederick\"\"    male  NaN   \n",
       "1            1         0       3              Henry, Miss. Delia  female  NaN   \n",
       "\n",
       "   sibsp  parch         ticket    fare cabin embarked  \n",
       "0      0      0  SC/PARIS 2159  12.875   NaN        S  \n",
       "1      0      0         382649   7.750   NaN        Q  "
      ]
     },
     "execution_count": 11,
     "metadata": {},
     "output_type": "execute_result"
    }
   ],
   "source": [
    "ori_train.head(2)"
   ]
  },
  {
   "cell_type": "code",
   "execution_count": 12,
   "id": "fbebce1b-c2d4-41df-be1b-79eddf34f5eb",
   "metadata": {},
   "outputs": [
    {
     "data": {
      "text/plain": [
       "Index(['passengerid', 'pclass', 'name', 'gender', 'age', 'sibsp', 'parch',\n",
       "       'ticket', 'fare', 'cabin', 'embarked'],\n",
       "      dtype='object')"
      ]
     },
     "execution_count": 12,
     "metadata": {},
     "output_type": "execute_result"
    }
   ],
   "source": [
    "ori_test.columns # survived 가 빠짐 "
   ]
  },
  {
   "cell_type": "code",
   "execution_count": 13,
   "id": "437ba783-6302-4053-864c-231f5ce68efd",
   "metadata": {},
   "outputs": [
    {
     "data": {
      "text/html": [
       "<div>\n",
       "<style scoped>\n",
       "    .dataframe tbody tr th:only-of-type {\n",
       "        vertical-align: middle;\n",
       "    }\n",
       "\n",
       "    .dataframe tbody tr th {\n",
       "        vertical-align: top;\n",
       "    }\n",
       "\n",
       "    .dataframe thead th {\n",
       "        text-align: right;\n",
       "    }\n",
       "</style>\n",
       "<table border=\"1\" class=\"dataframe\">\n",
       "  <thead>\n",
       "    <tr style=\"text-align: right;\">\n",
       "      <th></th>\n",
       "      <th>passengerid</th>\n",
       "      <th>pclass</th>\n",
       "      <th>name</th>\n",
       "      <th>gender</th>\n",
       "      <th>age</th>\n",
       "      <th>sibsp</th>\n",
       "      <th>parch</th>\n",
       "      <th>ticket</th>\n",
       "      <th>fare</th>\n",
       "      <th>cabin</th>\n",
       "      <th>embarked</th>\n",
       "    </tr>\n",
       "  </thead>\n",
       "  <tbody>\n",
       "    <tr>\n",
       "      <th>0</th>\n",
       "      <td>916</td>\n",
       "      <td>3</td>\n",
       "      <td>McGowan, Miss. Anna \"Annie\"</td>\n",
       "      <td>female</td>\n",
       "      <td>15.0</td>\n",
       "      <td>0</td>\n",
       "      <td>0</td>\n",
       "      <td>330923</td>\n",
       "      <td>8.0292</td>\n",
       "      <td>NaN</td>\n",
       "      <td>Q</td>\n",
       "    </tr>\n",
       "    <tr>\n",
       "      <th>1</th>\n",
       "      <td>917</td>\n",
       "      <td>2</td>\n",
       "      <td>Pinsky, Mrs. (Rosa)</td>\n",
       "      <td>female</td>\n",
       "      <td>32.0</td>\n",
       "      <td>0</td>\n",
       "      <td>0</td>\n",
       "      <td>234604</td>\n",
       "      <td>13.0000</td>\n",
       "      <td>NaN</td>\n",
       "      <td>S</td>\n",
       "    </tr>\n",
       "  </tbody>\n",
       "</table>\n",
       "</div>"
      ],
      "text/plain": [
       "   passengerid  pclass                         name  gender   age  sibsp  \\\n",
       "0          916       3  McGowan, Miss. Anna \"Annie\"  female  15.0      0   \n",
       "1          917       2          Pinsky, Mrs. (Rosa)  female  32.0      0   \n",
       "\n",
       "   parch  ticket     fare cabin embarked  \n",
       "0      0  330923   8.0292   NaN        Q  \n",
       "1      0  234604  13.0000   NaN        S  "
      ]
     },
     "execution_count": 13,
     "metadata": {},
     "output_type": "execute_result"
    }
   ],
   "source": [
    "ori_test.head(2)"
   ]
  },
  {
   "cell_type": "code",
   "execution_count": 14,
   "id": "557e1b79-7332-405f-aaa7-c6d2657e6538",
   "metadata": {},
   "outputs": [
    {
     "data": {
      "text/plain": [
       "((916, 11), (393, 10))"
      ]
     },
     "execution_count": 14,
     "metadata": {},
     "output_type": "execute_result"
    }
   ],
   "source": [
    "ori_train.drop('passengerid', axis=1, inplace=True)\n",
    "ori_test.drop('passengerid', axis=1, inplace=True)\n",
    "ori_train.shape , ori_test.shape"
   ]
  },
  {
   "cell_type": "code",
   "execution_count": 15,
   "id": "a5aa818e-792d-484e-871c-482e5b88ed38",
   "metadata": {},
   "outputs": [
    {
     "data": {
      "text/plain": [
       "((916, 10), (393, 9))"
      ]
     },
     "execution_count": 15,
     "metadata": {},
     "output_type": "execute_result"
    }
   ],
   "source": [
    "# 결측치가 많아서 삭제\n",
    "ori_train.drop('cabin', axis=1, inplace=True)\n",
    "ori_test.drop('cabin', axis=1, inplace=True)\n",
    "ori_train.shape, ori_test.shape"
   ]
  },
  {
   "cell_type": "markdown",
   "id": "d801e585-b384-4814-ad8f-be66566d4f80",
   "metadata": {
    "tags": []
   },
   "source": [
    "# train_test_split\n"
   ]
  },
  {
   "cell_type": "code",
   "execution_count": 16,
   "id": "d6e60a61-ab45-41f0-a251-24602dc1d454",
   "metadata": {},
   "outputs": [
    {
     "data": {
      "text/plain": [
       "((916, 10), (393, 9))"
      ]
     },
     "execution_count": 16,
     "metadata": {},
     "output_type": "execute_result"
    }
   ],
   "source": [
    "ori_tr = ori_train.copy()\n",
    "ori_te = ori_test.copy()\n",
    "\n",
    "ori_tr.shape, ori_te.shape"
   ]
  },
  {
   "cell_type": "code",
   "execution_count": 17,
   "id": "1f238a1e-827a-415f-ab08-8fe6d33011b0",
   "metadata": {},
   "outputs": [],
   "source": [
    "from sklearn.model_selection import train_test_split"
   ]
  },
  {
   "cell_type": "code",
   "execution_count": 18,
   "id": "97cb476d-a4a7-47bd-b392-1cea45f0b128",
   "metadata": {},
   "outputs": [
    {
     "data": {
      "text/plain": [
       "((641, 10), (275, 10))"
      ]
     },
     "execution_count": 18,
     "metadata": {},
     "output_type": "execute_result"
    }
   ],
   "source": [
    "train, test = train_test_split(ori_train, test_size=0.3, stratify=ori_train['survived'], random_state=args.random_state)\n",
    "\n",
    "train.shape, test.shape"
   ]
  },
  {
   "cell_type": "code",
   "execution_count": 19,
   "id": "9ca67252-2706-4b15-b413-f9556d2b65a5",
   "metadata": {},
   "outputs": [],
   "source": [
    "corr_all = train.corr()"
   ]
  },
  {
   "cell_type": "code",
   "execution_count": 20,
   "id": "55488406-4860-49c8-94e1-2758cdb44b84",
   "metadata": {},
   "outputs": [
    {
     "name": "stderr",
     "output_type": "stream",
     "text": [
      "findfont: Font family ['Noto Sans KR'] not found. Falling back to DejaVu Sans.\n"
     ]
    },
    {
     "data": {
      "text/plain": [
       "<AxesSubplot:>"
      ]
     },
     "execution_count": 20,
     "metadata": {},
     "output_type": "execute_result"
    },
    {
     "data": {
      "image/png": "[encoded data removed]",
      "text/plain": [
       "<Figure size 432x288 with 2 Axes>"
      ]
     },
     "metadata": {},
     "output_type": "display_data"
    }
   ],
   "source": [
    "sns.heatmap(corr_all, annot=True, cmap='coolwarm')"
   ]
  },
  {
   "cell_type": "markdown",
   "id": "4c6723a7-8d63-4f11-a5ca-c2f423d21fb5",
   "metadata": {
    "tags": []
   },
   "source": [
    "# EDA(continuous features)"
   ]
  },
  {
   "cell_type": "code",
   "execution_count": 71,
   "id": "0321a917-bad7-46de-a466-8a631f5aed1f",
   "metadata": {},
   "outputs": [
    {
     "data": {
      "text/plain": [
       "(28.0, 14.5, 'S')"
      ]
     },
     "execution_count": 71,
     "metadata": {},
     "output_type": "execute_result"
    }
   ],
   "source": [
    "age_median = train['age'].median()\n",
    "fare_median = train['fare'].median()\n",
    "embarked_mode = train['embarked'].mode().values[0]\n",
    "\n",
    "age_median, fare_median, embarked_mode"
   ]
  },
  {
   "cell_type": "code",
   "execution_count": 72,
   "id": "0973e312-7656-4c3c-8f12-67bf245dcef1",
   "metadata": {},
   "outputs": [],
   "source": [
    "train['age'].fillna(age_median, inplace=True)\n",
    "test['age'].fillna(age_median, inplace=True)\n",
    "ori_te['age'].fillna(age_median, inplace=True)\n",
    "\n",
    "train['fare'].fillna(fare_median, inplace=True)\n",
    "test['fare'].fillna(fare_median, inplace=True)\n",
    "ori_te['fare'].fillna(fare_median, inplace=True)\n",
    "\n",
    "train['embarked'].fillna(embarked_mode, inplace=True)\n",
    "test['embarked'].fillna(embarked_mode, inplace=True)\n",
    "ori_te['embarked'].fillna(embarked_mode, inplace=True)\n"
   ]
  },
  {
   "cell_type": "markdown",
   "id": "7ce957a8-62d5-4617-817c-47d4a4024459",
   "metadata": {},
   "source": [
    "## age "
   ]
  },
  {
   "cell_type": "code",
   "execution_count": 73,
   "id": "28859372-ab6b-4fd6-8f6d-99ad0385aea9",
   "metadata": {},
   "outputs": [
    {
     "data": {
      "text/html": [
       "<div>\n",
       "<style scoped>\n",
       "    .dataframe tbody tr th:only-of-type {\n",
       "        vertical-align: middle;\n",
       "    }\n",
       "\n",
       "    .dataframe tbody tr th {\n",
       "        vertical-align: top;\n",
       "    }\n",
       "\n",
       "    .dataframe thead th {\n",
       "        text-align: right;\n",
       "    }\n",
       "</style>\n",
       "<table border=\"1\" class=\"dataframe\">\n",
       "  <thead>\n",
       "    <tr style=\"text-align: right;\">\n",
       "      <th></th>\n",
       "      <th>survived</th>\n",
       "      <th>pclass</th>\n",
       "      <th>age</th>\n",
       "      <th>sibsp</th>\n",
       "      <th>parch</th>\n",
       "      <th>fare</th>\n",
       "      <th>infant</th>\n",
       "    </tr>\n",
       "  </thead>\n",
       "  <tbody>\n",
       "    <tr>\n",
       "      <th>survived</th>\n",
       "      <td>1.000000</td>\n",
       "      <td>-0.214195</td>\n",
       "      <td>-0.034229</td>\n",
       "      <td>0.015226</td>\n",
       "      <td>0.075825</td>\n",
       "      <td>0.176041</td>\n",
       "      <td>0.092450</td>\n",
       "    </tr>\n",
       "    <tr>\n",
       "      <th>pclass</th>\n",
       "      <td>-0.214195</td>\n",
       "      <td>1.000000</td>\n",
       "      <td>-0.408701</td>\n",
       "      <td>0.077389</td>\n",
       "      <td>0.071752</td>\n",
       "      <td>-0.555652</td>\n",
       "      <td>0.127257</td>\n",
       "    </tr>\n",
       "    <tr>\n",
       "      <th>age</th>\n",
       "      <td>-0.034229</td>\n",
       "      <td>-0.408701</td>\n",
       "      <td>1.000000</td>\n",
       "      <td>-0.199523</td>\n",
       "      <td>-0.178265</td>\n",
       "      <td>0.148851</td>\n",
       "      <td>-0.424700</td>\n",
       "    </tr>\n",
       "    <tr>\n",
       "      <th>sibsp</th>\n",
       "      <td>0.015226</td>\n",
       "      <td>0.077389</td>\n",
       "      <td>-0.199523</td>\n",
       "      <td>1.000000</td>\n",
       "      <td>0.399212</td>\n",
       "      <td>0.161138</td>\n",
       "      <td>0.257015</td>\n",
       "    </tr>\n",
       "    <tr>\n",
       "      <th>parch</th>\n",
       "      <td>0.075825</td>\n",
       "      <td>0.071752</td>\n",
       "      <td>-0.178265</td>\n",
       "      <td>0.399212</td>\n",
       "      <td>1.000000</td>\n",
       "      <td>0.189171</td>\n",
       "      <td>0.281306</td>\n",
       "    </tr>\n",
       "    <tr>\n",
       "      <th>fare</th>\n",
       "      <td>0.176041</td>\n",
       "      <td>-0.555652</td>\n",
       "      <td>0.148851</td>\n",
       "      <td>0.161138</td>\n",
       "      <td>0.189171</td>\n",
       "      <td>1.000000</td>\n",
       "      <td>-0.019858</td>\n",
       "    </tr>\n",
       "    <tr>\n",
       "      <th>infant</th>\n",
       "      <td>0.092450</td>\n",
       "      <td>0.127257</td>\n",
       "      <td>-0.424700</td>\n",
       "      <td>0.257015</td>\n",
       "      <td>0.281306</td>\n",
       "      <td>-0.019858</td>\n",
       "      <td>1.000000</td>\n",
       "    </tr>\n",
       "  </tbody>\n",
       "</table>\n",
       "</div>"
      ],
      "text/plain": [
       "          survived    pclass       age     sibsp     parch      fare    infant\n",
       "survived  1.000000 -0.214195 -0.034229  0.015226  0.075825  0.176041  0.092450\n",
       "pclass   -0.214195  1.000000 -0.408701  0.077389  0.071752 -0.555652  0.127257\n",
       "age      -0.034229 -0.408701  1.000000 -0.199523 -0.178265  0.148851 -0.424700\n",
       "sibsp     0.015226  0.077389 -0.199523  1.000000  0.399212  0.161138  0.257015\n",
       "parch     0.075825  0.071752 -0.178265  0.399212  1.000000  0.189171  0.281306\n",
       "fare      0.176041 -0.555652  0.148851  0.161138  0.189171  1.000000 -0.019858\n",
       "infant    0.092450  0.127257 -0.424700  0.257015  0.281306 -0.019858  1.000000"
      ]
     },
     "execution_count": 73,
     "metadata": {},
     "output_type": "execute_result"
    }
   ],
   "source": [
    "train.corr()"
   ]
  },
  {
   "cell_type": "code",
   "execution_count": 74,
   "id": "3399fff2-2811-44c0-a11a-047576ceea55",
   "metadata": {
    "tags": []
   },
   "outputs": [
    {
     "data": {
      "text/html": [
       "<div>\n",
       "<style scoped>\n",
       "    .dataframe tbody tr th:only-of-type {\n",
       "        vertical-align: middle;\n",
       "    }\n",
       "\n",
       "    .dataframe tbody tr th {\n",
       "        vertical-align: top;\n",
       "    }\n",
       "\n",
       "    .dataframe thead th {\n",
       "        text-align: right;\n",
       "    }\n",
       "</style>\n",
       "<table border=\"1\" class=\"dataframe\">\n",
       "  <thead>\n",
       "    <tr style=\"text-align: right;\">\n",
       "      <th></th>\n",
       "      <th>age</th>\n",
       "      <th>fare</th>\n",
       "      <th>survived</th>\n",
       "    </tr>\n",
       "  </thead>\n",
       "  <tbody>\n",
       "    <tr>\n",
       "      <th>count</th>\n",
       "      <td>641.000000</td>\n",
       "      <td>641.000000</td>\n",
       "      <td>641.000000</td>\n",
       "    </tr>\n",
       "    <tr>\n",
       "      <th>mean</th>\n",
       "      <td>29.512356</td>\n",
       "      <td>31.941796</td>\n",
       "      <td>0.377535</td>\n",
       "    </tr>\n",
       "    <tr>\n",
       "      <th>std</th>\n",
       "      <td>13.147607</td>\n",
       "      <td>47.068732</td>\n",
       "      <td>0.485149</td>\n",
       "    </tr>\n",
       "    <tr>\n",
       "      <th>min</th>\n",
       "      <td>0.170000</td>\n",
       "      <td>0.000000</td>\n",
       "      <td>0.000000</td>\n",
       "    </tr>\n",
       "    <tr>\n",
       "      <th>25%</th>\n",
       "      <td>22.000000</td>\n",
       "      <td>7.925000</td>\n",
       "      <td>0.000000</td>\n",
       "    </tr>\n",
       "    <tr>\n",
       "      <th>50%</th>\n",
       "      <td>28.000000</td>\n",
       "      <td>14.500000</td>\n",
       "      <td>0.000000</td>\n",
       "    </tr>\n",
       "    <tr>\n",
       "      <th>75%</th>\n",
       "      <td>35.000000</td>\n",
       "      <td>30.000000</td>\n",
       "      <td>1.000000</td>\n",
       "    </tr>\n",
       "    <tr>\n",
       "      <th>max</th>\n",
       "      <td>80.000000</td>\n",
       "      <td>512.329200</td>\n",
       "      <td>1.000000</td>\n",
       "    </tr>\n",
       "  </tbody>\n",
       "</table>\n",
       "</div>"
      ],
      "text/plain": [
       "              age        fare    survived\n",
       "count  641.000000  641.000000  641.000000\n",
       "mean    29.512356   31.941796    0.377535\n",
       "std     13.147607   47.068732    0.485149\n",
       "min      0.170000    0.000000    0.000000\n",
       "25%     22.000000    7.925000    0.000000\n",
       "50%     28.000000   14.500000    0.000000\n",
       "75%     35.000000   30.000000    1.000000\n",
       "max     80.000000  512.329200    1.000000"
      ]
     },
     "execution_count": 74,
     "metadata": {},
     "output_type": "execute_result"
    }
   ],
   "source": [
    "continous_cols = ['age', 'fare'] + ['survived'] # 연속형이랑 타겟만 따로 만듬\n",
    "\n",
    "train[continous_cols].describe()\n",
    "# survived 가 0.337535이니까 산사람 맞추는게 어려움 -> 따라서 산사람 맞추는 feature를 만드는게 좋음 "
   ]
  },
  {
   "cell_type": "code",
   "execution_count": 75,
   "id": "347c320e-7ff5-4156-ba4e-d438b9a58276",
   "metadata": {},
   "outputs": [],
   "source": [
    "corr =train[['fare','pclass','age']].corr()"
   ]
  },
  {
   "cell_type": "code",
   "execution_count": 76,
   "id": "0c040cf7-c7e8-46bf-9742-2a93c72e67ff",
   "metadata": {},
   "outputs": [
    {
     "data": {
      "text/plain": [
       "<AxesSubplot:>"
      ]
     },
     "execution_count": 76,
     "metadata": {},
     "output_type": "execute_result"
    },
    {
     "data": {
      "image/png": "[encoded data removed]",
      "text/plain": [
       "<Figure size 432x288 with 2 Axes>"
      ]
     },
     "metadata": {},
     "output_type": "display_data"
    }
   ],
   "source": [
    "sns.heatmap(corr, annot=True, cmap='coolwarm')"
   ]
  },
  {
   "cell_type": "code",
   "execution_count": 77,
   "id": "9061ea09-8b12-45de-ae81-126fd4a5c52f",
   "metadata": {},
   "outputs": [
    {
     "data": {
      "text/plain": [
       "<seaborn.axisgrid.FacetGrid at 0x1a586c26340>"
      ]
     },
     "execution_count": 77,
     "metadata": {},
     "output_type": "execute_result"
    },
    {
     "data": {
      "image/png": "[encoded data removed]",
      "text/plain": [
       "<Figure size 431.325x360 with 1 Axes>"
      ]
     },
     "metadata": {},
     "output_type": "display_data"
    }
   ],
   "source": [
    "sns.displot(train, x='age', hue=\"survived\", multiple=\"dodge\", bins=20)\n",
    "# 아이 세대만 죽은사람보다 산 사람이 많다"
   ]
  },
  {
   "cell_type": "code",
   "execution_count": 78,
   "id": "fda198e1-937a-41b6-a536-3869a6518b36",
   "metadata": {},
   "outputs": [
    {
     "data": {
      "text/plain": [
       "<seaborn.axisgrid.FacetGrid at 0x1a589cae520>"
      ]
     },
     "execution_count": 78,
     "metadata": {},
     "output_type": "execute_result"
    },
    {
     "data": {
      "image/png": "[encoded data removed]",
      "text/plain": [
       "<Figure size 431.325x360 with 1 Axes>"
      ]
     },
     "metadata": {},
     "output_type": "display_data"
    }
   ],
   "source": [
    "sns.displot(train, x='fare', hue=\"survived\", multiple=\"dodge\", bins=20)"
   ]
  },
  {
   "cell_type": "code",
   "execution_count": 79,
   "id": "93bf5c34-380f-448b-80e2-2eddffdca530",
   "metadata": {},
   "outputs": [
    {
     "data": {
      "text/plain": [
       "0.6"
      ]
     },
     "execution_count": 79,
     "metadata": {},
     "output_type": "execute_result"
    }
   ],
   "source": [
    "c1 = train['age'] <= 5\n",
    "train.loc[c1]['survived'].mean() # 5보다 적은 나이사람들 생존 0, 1로 표현의 평균"
   ]
  },
  {
   "cell_type": "code",
   "execution_count": 80,
   "id": "d71d203f-388f-43d2-8cd8-38d30accad4a",
   "metadata": {},
   "outputs": [
    {
     "data": {
      "text/plain": [
       "0.3125"
      ]
     },
     "execution_count": 80,
     "metadata": {},
     "output_type": "execute_result"
    }
   ],
   "source": [
    "c1 = train['age'] <= 10\n",
    "c2 = train['age'] > 5\n",
    "c = c1 & c2\n",
    "train.loc[c]['survived'].mean() # 5~10살 사이의 사람들 생존 평균"
   ]
  },
  {
   "cell_type": "code",
   "execution_count": 81,
   "id": "534cd423-ec87-4e49-a13a-676036e3d6f2",
   "metadata": {},
   "outputs": [
    {
     "data": {
      "text/plain": [
       "0.3685064935064935"
      ]
     },
     "execution_count": 81,
     "metadata": {},
     "output_type": "execute_result"
    }
   ],
   "source": [
    "c3 = train['age'] > 5\n",
    "train.loc[c3]['survived'].mean() \n",
    "# 5살보다 많은 사람들의 평균이 5보다 적은 사람들의 평균보다 생존이 훨 적다 "
   ]
  },
  {
   "cell_type": "markdown",
   "id": "e22723ff-d7de-445b-80a6-056ad72a73b9",
   "metadata": {},
   "source": [
    "### age feature(5살보다 많은지 적은지)"
   ]
  },
  {
   "cell_type": "code",
   "execution_count": 85,
   "id": "696b3711-af7c-4cf0-bf79-8e677573e11d",
   "metadata": {},
   "outputs": [
    {
     "data": {
      "text/plain": [
       "<seaborn.axisgrid.FacetGrid at 0x1a589cde4f0>"
      ]
     },
     "execution_count": 85,
     "metadata": {},
     "output_type": "execute_result"
    },
    {
     "data": {
      "image/png": "[encoded data removed]",
      "text/plain": [
       "<Figure size 431.325x360 with 1 Axes>"
      ]
     },
     "metadata": {},
     "output_type": "display_data"
    }
   ],
   "source": [
    "sns.displot(train, x=\"age\", hue=\"survived\", multiple=\"dodge\",bins=20)"
   ]
  },
  {
   "cell_type": "code",
   "execution_count": 86,
   "id": "052a79e0-0f22-458c-8957-e7463425c9ac",
   "metadata": {},
   "outputs": [
    {
     "data": {
      "text/plain": [
       "<seaborn.axisgrid.FacetGrid at 0x1a586c61220>"
      ]
     },
     "execution_count": 86,
     "metadata": {},
     "output_type": "execute_result"
    },
    {
     "data": {
      "image/png": "[encoded data removed]",
      "text/plain": [
       "<Figure size 791.325x360 with 2 Axes>"
      ]
     },
     "metadata": {},
     "output_type": "display_data"
    }
   ],
   "source": [
    "sns.displot(train, x=\"age\", hue=\"survived\", multiple=\"dodge\", bins=20, col=\"gender\")\n",
    "# 여자가 많이 생존 했고 특히 60대 이상은 전부 생존했다(우연 ?)"
   ]
  },
  {
   "cell_type": "code",
   "execution_count": 98,
   "id": "09f7d74f-5b1f-4b39-bbaf-225b748ba7ca",
   "metadata": {},
   "outputs": [],
   "source": [
    "train['age'] = train['age'].astype('int')"
   ]
  },
  {
   "cell_type": "code",
   "execution_count": 102,
   "id": "98e819dd-d999-46e6-8332-6b0f32f25c21",
   "metadata": {},
   "outputs": [
    {
     "data": {
      "text/plain": [
       "539    28\n",
       "339    36\n",
       "505    22\n",
       "492    26\n",
       "897    28\n",
       "       ..\n",
       "538    24\n",
       "761    15\n",
       "879    10\n",
       "214    24\n",
       "636    70\n",
       "Name: age, Length: 641, dtype: int32"
      ]
     },
     "execution_count": 102,
     "metadata": {},
     "output_type": "execute_result"
    }
   ],
   "source": [
    "train['age']"
   ]
  },
  {
   "cell_type": "code",
   "execution_count": 105,
   "id": "65d4e35c-8a77-41f8-a113-f3d5e017e6c9",
   "metadata": {
    "tags": []
   },
   "outputs": [],
   "source": [
    "def add_new_age(age):\n",
    "    if age <= 5   :\n",
    "      result = '유아'\n",
    "    elif (age>5) & (age <=12):\n",
    "      result = '어린이'\n",
    "    elif (age>12) & (age <=18):\n",
    "      result = '청소년'\n",
    "    elif (age>18) & (age <=39):\n",
    "      result = '성인'\n",
    "    elif (age>39) & (age <=49):\n",
    "      result = '중년'\n",
    "    elif (age>49) & (age <=64):\n",
    "      result = '장년'\n",
    "    else :\n",
    "      result = '노인'\n",
    "    return result\n",
    "\n",
    "train['new_age'] = train['age'].map(lambda x: add_new_age(x))\n",
    "test['new_age'] = test['age'].map(lambda x: add_new_age(x))\n",
    "ori_te['new_age'] = ori_te['age'].map(lambda x: add_new_age(x))\n"
   ]
  },
  {
   "cell_type": "code",
   "execution_count": 122,
   "id": "d2e8421b-bb6a-496b-b94f-b12e72fffa59",
   "metadata": {},
   "outputs": [
    {
     "name": "stdout",
     "output_type": "stream",
     "text": [
      "14 / \n",
      " ['male_성인' 'female_성인' 'male_중년' 'female_중년' 'female_장년' 'male_청소년'\n",
      " 'female_유아' 'male_어린이' 'female_청소년' 'female_어린이' 'male_장년' 'male_유아'\n",
      " 'male_노인' 'female_노인'] \n",
      "\n"
     ]
    }
   ],
   "source": [
    "train['gender_new_age'] = train.apply(lambda row: row['gender']+'_'+row['new_age'], axis=1)\n",
    "test['gender_new_age'] = test.apply(lambda row: row['gender']+'_'+row['new_age'], axis=1)\n",
    "ori_te['gender_new_age'] = ori_te.apply(lambda row: row['gender']+'_'+row['new_age'], axis=1)\n",
    "\n",
    "print(f\"{train['gender_new_age'].nunique()} / \\n {train['gender_new_age'].unique()} \\n\")"
   ]
  },
  {
   "cell_type": "code",
   "execution_count": 123,
   "id": "67dc6283-714c-442b-a93e-a7e2071b212b",
   "metadata": {},
   "outputs": [],
   "source": [
    "train['pclass_new_age'] = train.apply(lambda row: str(row['pclass'])+'_'+row['new_age'], axis=1)\n",
    "test['pclass_new_age'] = test.apply(lambda row: str(row['pclass'])+'_'+row['new_age'], axis=1)\n",
    "ori_te['pclass_new_age'] = ori_te.apply(lambda row: str(row['pclass'])+'_'+row['new_age'], axis=1)"
   ]
  },
  {
   "cell_type": "code",
   "execution_count": 127,
   "id": "72527a5e-408d-4f31-9f8b-7ced9625ebb2",
   "metadata": {
    "collapsed": true,
    "jupyter": {
     "outputs_hidden": true
    },
    "tags": []
   },
   "outputs": [
    {
     "data": {
      "text/plain": [
       "<seaborn.axisgrid.FacetGrid at 0x1a58b36e8e0>"
      ]
     },
     "execution_count": 127,
     "metadata": {},
     "output_type": "execute_result"
    },
    {
     "data": {
      "image/png": "[encoded data removed]",
      "text/plain": [
       "<Figure size 431.325x360 with 1 Axes>"
      ]
     },
     "metadata": {},
     "output_type": "display_data"
    }
   ],
   "source": [
    "sns.displot(train, x=\"pclass_new_age\", hue=\"survived\", multiple=\"dodge\", bins=20)"
   ]
  },
  {
   "cell_type": "code",
   "execution_count": 117,
   "id": "18b377fe-8758-470e-b5c4-180b8eb82bf7",
   "metadata": {
    "collapsed": true,
    "jupyter": {
     "outputs_hidden": true
    },
    "tags": []
   },
   "outputs": [
    {
     "data": {
      "text/plain": [
       "<seaborn.axisgrid.FacetGrid at 0x1a58b369940>"
      ]
     },
     "execution_count": 117,
     "metadata": {},
     "output_type": "execute_result"
    },
    {
     "data": {
      "image/png": "[encoded data removed]",
      "text/plain": [
       "<Figure size 791.325x360 with 2 Axes>"
      ]
     },
     "metadata": {},
     "output_type": "display_data"
    }
   ],
   "source": [
    "sns.displot(train, x=\"new_age\", hue=\"survived\", multiple=\"dodge\", bins=20, col=\"gender\")"
   ]
  },
  {
   "cell_type": "code",
   "execution_count": 87,
   "id": "b4d1df8e-de2c-4d40-a746-afc7159cc266",
   "metadata": {},
   "outputs": [
    {
     "name": "stdout",
     "output_type": "stream",
     "text": [
      "2 / \n",
      " [0 1] \n",
      "\n"
     ]
    },
    {
     "data": {
      "text/plain": [
       "((641, 18), (275, 18), (393, 17))"
      ]
     },
     "execution_count": 87,
     "metadata": {},
     "output_type": "execute_result"
    }
   ],
   "source": [
    "def add_infant(age):\n",
    "  result = 0\n",
    "  try:\n",
    "    if age <= 5:\n",
    "      result = 1\n",
    "  except:\n",
    "    pass\n",
    "  return result\n",
    "\n",
    "train['infant'] = train['age'].map(lambda x: add_infant(x))\n",
    "test['infant'] = test['age'].map(lambda x: add_infant(x))\n",
    "ori_te['infant'] = ori_te['age'].map(lambda x: add_infant(x))\n",
    "\n",
    "print(f\"{train['infant'].nunique()} / \\n {train['infant'].unique()} \\n\")\n",
    "train.shape, test.shape, ori_te.shape"
   ]
  },
  {
   "cell_type": "code",
   "execution_count": 27,
   "id": "b085378a-bef8-43d5-ac82-844ab45628a0",
   "metadata": {},
   "outputs": [
    {
     "name": "stdout",
     "output_type": "stream",
     "text": [
      "4 / \n",
      " ['male_0' 'female_0' 'female_1' 'male_1'] \n",
      "\n"
     ]
    },
    {
     "data": {
      "text/plain": [
       "((641, 12), (275, 12), (393, 11))"
      ]
     },
     "execution_count": 27,
     "metadata": {},
     "output_type": "execute_result"
    }
   ],
   "source": [
    "train['gender_infant'] = train.apply(lambda row: row['gender']+'_'+str(row['infant']), axis=1)\n",
    "test['gender_infant'] = test.apply(lambda row: row['gender']+'_'+str(row['infant']), axis=1)\n",
    "ori_te['gender_infant'] = ori_te.apply(lambda row: row['gender']+'_'+str(row['infant']), axis=1)\n",
    "# 성별과 5살 미만인지 유무에 따라 새로운 feature를 만듬 \n",
    "\n",
    "print(f\"{train['gender_infant'].nunique()} / \\n {train['gender_infant'].unique()} \\n\")\n",
    "train.shape, test.shape, ori_te.shape"
   ]
  },
  {
   "cell_type": "code",
   "execution_count": 28,
   "id": "ec8fd298-391d-4fcf-a91e-52c0dc58b065",
   "metadata": {
    "collapsed": true,
    "jupyter": {
     "outputs_hidden": true
    },
    "tags": []
   },
   "outputs": [
    {
     "data": {
      "text/plain": [
       "<seaborn.axisgrid.FacetGrid at 0x1a58a08ed00>"
      ]
     },
     "execution_count": 116,
     "metadata": {},
     "output_type": "execute_result"
    },
    {
     "data": {
      "image/png": "[encoded data removed]",
      "text/plain": [
       "<Figure size 791.325x360 with 2 Axes>"
      ]
     },
     "metadata": {},
     "output_type": "display_data"
    }
   ],
   "source": [
    "sns.displot(train, x=\"gender_infant\", hue=\"survived\", multiple=\"dodge\")"
   ]
  },
  {
   "cell_type": "code",
   "execution_count": 29,
   "id": "6d3914df-5736-4ecf-af61-1f64d3ee3b39",
   "metadata": {
    "collapsed": true,
    "jupyter": {
     "outputs_hidden": true
    },
    "tags": []
   },
   "outputs": [
    {
     "data": {
      "text/plain": [
       "<seaborn.axisgrid.FacetGrid at 0x1a5803be340>"
      ]
     },
     "execution_count": 29,
     "metadata": {},
     "output_type": "execute_result"
    },
    {
     "data": {
      "image/png": "[encoded data removed]",
      "text/plain": [
       "<Figure size 1151.33x360 with 3 Axes>"
      ]
     },
     "metadata": {},
     "output_type": "display_data"
    }
   ],
   "source": [
    "sns.displot(train, x=\"infant\", hue=\"survived\", multiple=\"dodge\", bins=20, col=\"pclass\")"
   ]
  },
  {
   "cell_type": "code",
   "execution_count": 37,
   "id": "589ff772-2590-41d1-8162-e63fc63d9066",
   "metadata": {},
   "outputs": [],
   "source": [
    "def add_pclass_1(pclass):\n",
    "  result = 'high pclass(1)'\n",
    "  try:\n",
    "    if pclass == 3 or pclass == 2 :\n",
    "      result = 'low pcalss(2,3)'\n",
    "  except:\n",
    "    pass\n",
    "  return result"
   ]
  },
  {
   "cell_type": "code",
   "execution_count": 39,
   "id": "d3ea579f-1a6f-4824-87c1-d28f9df56009",
   "metadata": {
    "tags": []
   },
   "outputs": [],
   "source": [
    "train['pclass_3'] = train['pclass'].map(lambda x: add_pclass_3(x))\n",
    "test['pclass_3'] = test['pclass'].map(lambda x: add_pclass_3(x))\n",
    "ori_te['pclass_3'] = ori_te['pclass'].map(lambda x: add_pclass_3(x))"
   ]
  },
  {
   "cell_type": "code",
   "execution_count": 40,
   "id": "5f139c76-8379-4a62-ac2e-1dca88f1e741",
   "metadata": {},
   "outputs": [],
   "source": [
    "train['pclass1_gender'] = train.apply(lambda row: row['gender']+'_'+row['pclass_1'], axis=1)\n",
    "test['pclass1_gender'] = test.apply(lambda row: row['gender']+'_'+row['pclass_1'], axis=1)\n",
    "ori_te['pclass1_gender'] = ori_te.apply(lambda row: row['gender']+'_'+row['pclass_1'], axis=1)"
   ]
  },
  {
   "cell_type": "code",
   "execution_count": 38,
   "id": "9bfc48c9-d093-4f8f-9ec9-42114974e49c",
   "metadata": {},
   "outputs": [],
   "source": [
    "def add_pclass_3(pclass):\n",
    "  result = 'high pcalss(3)'\n",
    "  try:\n",
    "    if pclass == 1 or pclass == 2 :\n",
    "      result = 'low pcalss(1,2)'\n",
    "  except:\n",
    "    pass\n",
    "  return result"
   ]
  },
  {
   "cell_type": "code",
   "execution_count": 34,
   "id": "3ab3400d-b203-4e7f-b210-1edc864a96f4",
   "metadata": {},
   "outputs": [],
   "source": [
    "train['pclass_1'] = train['pclass'].map(lambda x: add_pclass_1(x))\n",
    "test['pclass_1'] = test['pclass'].map(lambda x: add_pclass_1(x))\n",
    "ori_te['pclass_1'] = ori_te['pclass'].map(lambda x: add_pclass_1(x))"
   ]
  },
  {
   "cell_type": "code",
   "execution_count": 42,
   "id": "56e721d6-c93a-4c46-9be3-5fedd163211e",
   "metadata": {},
   "outputs": [],
   "source": [
    "train['pclass3_infant'] = train.apply(lambda row: str(row['infant'])+'_'+row['pclass_3'], axis=1)\n",
    "test['pclass3_infant'] = test.apply(lambda row: str(row['infant'])+'_'+row['pclass_3'], axis=1)\n",
    "ori_te['pclass3_infant'] = ori_te.apply(lambda row: str(row['infant'])+'_'+row['pclass_3'], axis=1)"
   ]
  },
  {
   "cell_type": "code",
   "execution_count": 43,
   "id": "7879683d-a092-45e3-9fa8-e14b7579f597",
   "metadata": {
    "collapsed": true,
    "jupyter": {
     "outputs_hidden": true
    },
    "tags": []
   },
   "outputs": [
    {
     "data": {
      "text/plain": [
       "<seaborn.axisgrid.FacetGrid at 0x1a5801aef40>"
      ]
     },
     "execution_count": 43,
     "metadata": {},
     "output_type": "execute_result"
    },
    {
     "data": {
      "image/png": "[encoded data removed]",
      "text/plain": [
       "<Figure size 431.325x360 with 1 Axes>"
      ]
     },
     "metadata": {},
     "output_type": "display_data"
    }
   ],
   "source": [
    "sns.displot(train, x=\"pclass1_gender\", hue=\"survived\", multiple=\"dodge\")"
   ]
  },
  {
   "cell_type": "code",
   "execution_count": 44,
   "id": "62061ffa-ecd4-4b4a-8ca6-03b945795702",
   "metadata": {
    "collapsed": true,
    "jupyter": {
     "outputs_hidden": true
    },
    "tags": []
   },
   "outputs": [
    {
     "data": {
      "text/plain": [
       "<seaborn.axisgrid.FacetGrid at 0x1a5fec8a6d0>"
      ]
     },
     "execution_count": 44,
     "metadata": {},
     "output_type": "execute_result"
    },
    {
     "data": {
      "image/png": "[encoded data removed]",
      "text/plain": [
       "<Figure size 431.325x360 with 1 Axes>"
      ]
     },
     "metadata": {},
     "output_type": "display_data"
    }
   ],
   "source": [
    "sns.displot(train, x=\"pclass3_infant\", hue=\"survived\", multiple=\"dodge\")"
   ]
  },
  {
   "cell_type": "code",
   "execution_count": null,
   "id": "2bc78d98-3a1c-4520-8ad0-97b4c75fb26b",
   "metadata": {},
   "outputs": [],
   "source": [
    "sns.displot(train, x=\"infant\", hue=\"survived\", multiple=\"dodge\", bins=20, col='pclass',row='gender')\n",
    "            # sns.displot(train, x=\"age\", hue=\"survived\", multiple=\"dodge\", bins=20, col=\"pclass\", row='gender')"
   ]
  },
  {
   "cell_type": "code",
   "execution_count": null,
   "id": "043faa4c-bdd0-43e4-a5c7-2b6878d16e7c",
   "metadata": {},
   "outputs": [],
   "source": [
    "sns.displot(train, x=\"infant\", hue=\"survived\", multiple=\"dodge\", bins=20, col=\"sibsp\")\n",
    "# 자매,부모가 많은(2명이상인) 남자들은 생존자 x "
   ]
  },
  {
   "cell_type": "code",
   "execution_count": null,
   "id": "902a6824-0472-4abd-922b-b9679bd4771c",
   "metadata": {},
   "outputs": [],
   "source": [
    "def add_sibsp(sibsp):\n",
    "  result = 'small sib'\n",
    "  try:\n",
    "    if sibsp >=2 :\n",
    "      result = 'large sib'\n",
    "  except:\n",
    "    pass\n",
    "  return result\n",
    "\n",
    "train['sibsp_2_high'] = train['sibsp'].map(lambda x: add_sibsp(x))\n",
    "test['sibsp_2_high'] = test['sibsp'].map(lambda x: add_sibsp(x))\n",
    "ori_te['sibsp_2_high'] = ori_te['sibsp'].map(lambda x: add_sibsp(x))"
   ]
  },
  {
   "cell_type": "code",
   "execution_count": null,
   "id": "f8b45fe7-8c07-4abc-9f74-9a3891ac97d0",
   "metadata": {},
   "outputs": [],
   "source": [
    "train['sibsp_2_high_infant'] = train.apply(lambda row: row['sibsp_2_high']+'_'+str(row['infant']), axis=1)\n",
    "test['sibsp_2_high_infant'] = test.apply(lambda row: row['sibsp_2_high']+'_'+str(row['infant']), axis=1)\n",
    "ori_te['sibsp_2_high_infant'] = ori_te.apply(lambda row: row['sibsp_2_high']+'_'+str(row['infant']), axis=1)"
   ]
  },
  {
   "cell_type": "code",
   "execution_count": null,
   "id": "37c73d48-fac0-41fc-8f0c-a364af0c6d96",
   "metadata": {},
   "outputs": [],
   "source": []
  },
  {
   "cell_type": "code",
   "execution_count": null,
   "id": "04104102-4f01-4a77-baf1-7b92b3aaaffa",
   "metadata": {},
   "outputs": [],
   "source": []
  },
  {
   "cell_type": "code",
   "execution_count": null,
   "id": "ab680fb1-e3d7-41fe-94f1-960ce7300e9c",
   "metadata": {},
   "outputs": [],
   "source": []
  },
  {
   "cell_type": "code",
   "execution_count": null,
   "id": "efbab360-fa88-4dd8-b220-296c41d2d1cf",
   "metadata": {},
   "outputs": [],
   "source": []
  },
  {
   "cell_type": "code",
   "execution_count": null,
   "id": "c1e4334a-e6f7-4460-bba3-f732d836daf8",
   "metadata": {},
   "outputs": [],
   "source": []
  },
  {
   "cell_type": "code",
   "execution_count": null,
   "id": "730f1d06-5e19-4356-af7f-c15255455081",
   "metadata": {},
   "outputs": [],
   "source": []
  },
  {
   "cell_type": "code",
   "execution_count": null,
   "id": "669a01d5-14bf-4b8c-bca9-0a7afe22c39f",
   "metadata": {},
   "outputs": [],
   "source": []
  },
  {
   "cell_type": "code",
   "execution_count": null,
   "id": "8d6e70cd-4158-483a-b813-77f0fdb5de91",
   "metadata": {},
   "outputs": [],
   "source": []
  },
  {
   "cell_type": "code",
   "execution_count": null,
   "id": "ec951185-064f-4e11-b54c-dbbec47db490",
   "metadata": {},
   "outputs": [],
   "source": []
  },
  {
   "cell_type": "code",
   "execution_count": null,
   "id": "e1b8ad26-1b92-483a-8477-1aeab598b7c0",
   "metadata": {},
   "outputs": [],
   "source": [
    "age_median = train['age'].median()\n",
    "fare_median = train['fare'].median()\n",
    "embarked_mode = train['embarked'].mode().values[0]\n",
    "\n",
    "train['age'].fillna(age_median, inplace=True)\n",
    "test['age'].fillna(age_median, inplace=True)\n",
    "ori_te['age'].fillna(age_median, inplace=True)\n",
    "\n",
    "train['fare'].fillna(fare_median, inplace=True)\n",
    "test['fare'].fillna(fare_median, inplace=True)\n",
    "ori_te['fare'].fillna(fare_median, inplace=True)\n",
    "\n",
    "train['embarked'].fillna(embarked_mode, inplace=True)\n",
    "test['embarked'].fillna(embarked_mode, inplace=True)\n",
    "ori_te['embarked'].fillna(embarked_mode, inplace=True)\n",
    "\n",
    "train.isnull().sum().sum(), test.isnull().sum().sum(), ori_te.isnull().sum().sum()"
   ]
  },
  {
   "cell_type": "markdown",
   "id": "a81fa211-3278-4aee-954f-876fa7aba7e8",
   "metadata": {
    "jp-MarkdownHeadingCollapsed": true,
    "tags": []
   },
   "source": [
    "### data encoding"
   ]
  },
  {
   "cell_type": "code",
   "execution_count": null,
   "id": "497e7393-adb8-46f4-b5fe-9662076bece1",
   "metadata": {},
   "outputs": [],
   "source": [
    "enc_cols = ['gender', 'embarked']\n",
    "normal_cols = list(set(train.columns) - set(enc_cols))\n",
    "normal_cols"
   ]
  },
  {
   "cell_type": "code",
   "execution_count": null,
   "id": "5f41175a-a7e8-4d0f-ab2a-4a6a4a49fb12",
   "metadata": {
    "tags": []
   },
   "outputs": [],
   "source": [
    "from sklearn.preprocessing import OneHotEncoder\n",
    "enc = OneHotEncoder()\n",
    "\n",
    "tmp_tr = pd.DataFrame(\n",
    "    enc.fit_transform(train[enc_cols]).toarray(), #범주형 encoder 적용시켜서 temp_tr에 저장\n",
    "    columns = enc.get_feature_names_out() # feature name을 뽑아냄 \n",
    ")  \n",
    "enc_tr = pd.concat(\n",
    "    [train[normal_cols].reset_index(drop=True), tmp_tr.reset_index(drop=True)]\n",
    "    , axis=1\n",
    ") \n",
    "# 수치형 데이터(train[normal_cols]) + encoding 된 문자형 데이터(tmp_tr) 를 합쳐서 enc_tr\n",
    "\n",
    "\n",
    "\n",
    "# test (ori_te 에서 나온 te  -> 모델의 학습을 평가(잘했는지 못했는지))\n",
    "tmp_te = pd.DataFrame(\n",
    "    enc.transform(test[enc_cols]).toarray(), \n",
    "    columns = enc.get_feature_names_out()\n",
    ")\n",
    "enc_te = pd.concat(\n",
    "    [test[normal_cols].reset_index(drop=True), tmp_te.reset_index(drop=True)]\n",
    "    , axis=1\n",
    ")\n",
    "\n",
    "\n",
    "# ori_test\n",
    "tmp_te = pd.DataFrame(\n",
    "    enc.transform(ori_te[enc_cols]).toarray(), \n",
    "    columns = enc.get_feature_names_out()\n",
    ")\n",
    "enc_ori_te = pd.concat(\n",
    "    [ori_te[normal_cols].reset_index(drop=True), tmp_te.reset_index(drop=True)]\n",
    "    , axis=1\n",
    ")\n",
    "print(f'before: {train.shape} / {test.shape} / {ori_te.shape}')\n",
    "print(f'after: {enc_tr.shape} / {enc_te.shape} / {enc_ori_te.shape}')\n",
    "# gender가 두개로 , embarked가 3개로 "
   ]
  },
  {
   "cell_type": "markdown",
   "id": "3f61e814-43f4-4225-8da6-e599f01ec88f",
   "metadata": {
    "jp-MarkdownHeadingCollapsed": true,
    "tags": []
   },
   "source": [
    "### scaler"
   ]
  },
  {
   "cell_type": "code",
   "execution_count": null,
   "id": "7b1966a5-f66e-4f72-9c5f-70669c60b3b7",
   "metadata": {},
   "outputs": [],
   "source": [
    "scaling_cols = ['age', 'fare']\n",
    "not_scaling_cols = list(set(enc_tr.columns) - set(scaling_cols))\n",
    "\n",
    "from sklearn.preprocessing import RobustScaler\n",
    "\n",
    "rbs = RobustScaler()\n",
    "_scaled_tr = rbs.fit_transform(enc_tr[scaling_cols])\n",
    "_scaled_te = rbs.transform(enc_te[scaling_cols])\n",
    "_scaled_ori_te = rbs.transform(enc_ori_te[scaling_cols])\n",
    "\n",
    "print(f'before: {enc_tr.shape} / {enc_te.shape}')\n",
    "# train\n",
    "tmp_tr = pd.DataFrame(\n",
    "    _scaled_tr, \n",
    "    columns = scaling_cols\n",
    ")\n",
    "scaled_tr = pd.concat(\n",
    "    [enc_tr[not_scaling_cols].reset_index(drop=True), tmp_tr.reset_index(drop=True)]\n",
    "    , axis=1\n",
    ").reset_index(drop=True)\n",
    "# test\n",
    "tmp_te = pd.DataFrame(\n",
    "    _scaled_te, \n",
    "    columns = scaling_cols\n",
    ")\n",
    "scaled_te = pd.concat(\n",
    "    [enc_te[not_scaling_cols].reset_index(drop=True), tmp_te.reset_index(drop=True)]\n",
    "    , axis=1\n",
    ").reset_index(drop=True)\n",
    "# ori_test\n",
    "tmp_te = pd.DataFrame(\n",
    "    _scaled_ori_te, \n",
    "    columns = scaling_cols\n",
    ")\n",
    "scaled_ori_te = pd.concat(\n",
    "    [enc_ori_te[not_scaling_cols].reset_index(drop=True), tmp_te.reset_index(drop=True)]\n",
    "    , axis=1\n",
    ").reset_index(drop=True)\n",
    "\n",
    "print(f'after: {scaled_tr.shape} / {scaled_te.shape}')"
   ]
  },
  {
   "cell_type": "code",
   "execution_count": null,
   "id": "fa2c74e8-440b-48f9-af0c-f6d70c350607",
   "metadata": {},
   "outputs": [],
   "source": [
    "scaled_tr.shape, scaled_te.shape, scaled_ori_te.shape"
   ]
  },
  {
   "cell_type": "code",
   "execution_count": null,
   "id": "0b61640d-842c-451d-84bc-b839920c2f3d",
   "metadata": {},
   "outputs": [],
   "source": [
    "scaled_tr.head(2)"
   ]
  },
  {
   "cell_type": "markdown",
   "id": "85ae950d-735f-489f-9c5a-641456ce9132",
   "metadata": {
    "jp-MarkdownHeadingCollapsed": true,
    "tags": []
   },
   "source": [
    "### Training"
   ]
  },
  {
   "cell_type": "code",
   "execution_count": null,
   "id": "35b9f568-8005-4685-8eee-d58270f29f70",
   "metadata": {},
   "outputs": [],
   "source": [
    "from sklearn.ensemble import RandomForestClassifier\n",
    "\n",
    "modelV2 = RandomForestClassifier(random_state=21)\n",
    "\n",
    "modelV2.fit(scaled_tr, y_tr)"
   ]
  },
  {
   "cell_type": "markdown",
   "id": "08808e61-8b56-4ed4-a05d-d41cbc2ee611",
   "metadata": {
    "jp-MarkdownHeadingCollapsed": true,
    "tags": []
   },
   "source": [
    "### Evaluation"
   ]
  },
  {
   "cell_type": "code",
   "execution_count": null,
   "id": "fa23c42f-7832-406a-8433-23132349b569",
   "metadata": {},
   "outputs": [],
   "source": [
    "score_tr = modelV2.score(scaled_tr, y_tr)\n",
    "score_te = modelV2.score(scaled_te, y_te) \n",
    "\n",
    "score_tr, score_te  "
   ]
  },
  {
   "cell_type": "code",
   "execution_count": null,
   "id": "6effddc4-a15e-4a7a-b6f5-58d6fb64a274",
   "metadata": {},
   "outputs": [],
   "source": [
    "from sklearn.metrics import roc_curve, auc \n",
    "\n",
    "y_pred = modelV2.predict_proba(scaled_te)[:,1]\n",
    "fpr, tpr, thresholds = roc_curve(y_te,y_pred)\n",
    "auc_te = auc(fpr, tpr)\n",
    "print(f'model: {auc_te}')"
   ]
  },
  {
   "cell_type": "code",
   "execution_count": null,
   "id": "ff2fd144-3d16-42c2-b22e-11cf2d0b8de9",
   "metadata": {},
   "outputs": [],
   "source": [
    "ori_te_pred = modelV2.predict_proba(scaled_ori_te)[:,1]"
   ]
  },
  {
   "cell_type": "code",
   "execution_count": null,
   "id": "6c130375-16ac-4138-9baf-84df62b1ab6e",
   "metadata": {},
   "outputs": [],
   "source": [
    "df_feature_importances = pd.DataFrame(modelV2.feature_importances_, scaled_tr.columns).sort_values(by=[0], ascending=False).reset_index()\n",
    "print(f'{df_feature_importances.shape}')"
   ]
  },
  {
   "cell_type": "code",
   "execution_count": null,
   "id": "b36f9e4a-eac0-4f3e-9b45-1ba19d8b6142",
   "metadata": {},
   "outputs": [],
   "source": [
    "args.results.append(\n",
    "    {\n",
    "        'model': 'modelV2',\n",
    "        'score_tr': score_tr,\n",
    "        'score_te': score_te,\n",
    "        'auc_te': auc_te,\n",
    "        'ori_te_pred': ori_te_pred,\n",
    "        'len_features': X_tr.shape[1],\n",
    "        'feaute_importances': list(df_feature_importances['index'].values[:X_tr.shape[1]]),\n",
    "        'create_dt': '0330'\n",
    "    }\n",
    ")"
   ]
  },
  {
   "cell_type": "markdown",
   "id": "ac695d17-30a0-45d2-934e-a0b973fb759c",
   "metadata": {
    "tags": []
   },
   "source": [
    "# Submission"
   ]
  },
  {
   "cell_type": "code",
   "execution_count": null,
   "id": "54494612-6004-4b66-8688-86ed2f4d21e1",
   "metadata": {},
   "outputs": [],
   "source": [
    "# df_results = pd.DataFrame(args.results).sort_values(by=['auc_te'], ascending=False)\n",
    "# df_results"
   ]
  },
  {
   "cell_type": "code",
   "execution_count": null,
   "id": "a482ebbc-7959-4a6c-8bb8-7ac92c1afa42",
   "metadata": {},
   "outputs": [],
   "source": [
    "# submission = pd.read_csv(args.default_submission_csv)\n",
    "# submission.head(2)"
   ]
  },
  {
   "cell_type": "code",
   "execution_count": null,
   "id": "e9f52666-306a-484e-a152-e767c5460192",
   "metadata": {
    "tags": []
   },
   "outputs": [],
   "source": [
    "# submission['survived'] = df_results.loc[0, ['ori_te_pred']].values[0] # 인덱스 2번에 헤당하는 ori_te_pred 뽑고 values는 array를 하나 풀어주기 위한 용도\n",
    "# print(f'{submission.isnull().sum().sum()}')\n",
    "# submission.head()"
   ]
  },
  {
   "cell_type": "code",
   "execution_count": null,
   "id": "2c0ec371-e6d5-476f-9d7e-f56a46e61029",
   "metadata": {},
   "outputs": [],
   "source": [
    "# submission.to_csv(args.submission_csv, header=True, index=False) # 앞에서 지정한 submission_0330.csv로 저장된다"
   ]
  },
  {
   "cell_type": "markdown",
   "id": "9926eb29-bc74-45ed-a7bf-9236ac6e6cf8",
   "metadata": {},
   "source": [
    "## 기존 결과 저장"
   ]
  },
  {
   "cell_type": "code",
   "execution_count": null,
   "id": "83108d17-a8c5-4732-bab5-f44ce3049ae9",
   "metadata": {},
   "outputs": [],
   "source": [
    "# args.save_results"
   ]
  },
  {
   "cell_type": "code",
   "execution_count": null,
   "id": "ddf20960-7ea2-45c7-9de3-51dcdb35fdba",
   "metadata": {},
   "outputs": [],
   "source": [
    "# df_results.columns"
   ]
  },
  {
   "cell_type": "code",
   "execution_count": null,
   "id": "6ede0bf9-bc90-42ad-9d31-99859f2a74de",
   "metadata": {},
   "outputs": [],
   "source": [
    "# df_results.drop(['ori_te_pred'], axis=1, inplace=True) "
   ]
  },
  {
   "cell_type": "code",
   "execution_count": null,
   "id": "a98ab054-16f7-42d2-905a-b1be29d9a63f",
   "metadata": {},
   "outputs": [],
   "source": [
    "# df_results.head()"
   ]
  }
 ],
 "metadata": {
  "kernelspec": {
   "display_name": "Python 3 (ipykernel)",
   "language": "python",
   "name": "python3"
  },
  "language_info": {
   "codemirror_mode": {
    "name": "ipython",
    "version": 3
   },
   "file_extension": ".py",
   "mimetype": "text/x-python",
   "name": "python",
   "nbconvert_exporter": "python",
   "pygments_lexer": "ipython3",
   "version": "3.9.12"
  }
 },
 "nbformat": 4,
 "nbformat_minor": 5
}
