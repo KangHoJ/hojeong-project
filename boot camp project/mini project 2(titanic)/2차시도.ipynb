{
 "cells": [
  {
   "cell_type": "code",
   "execution_count": 2,
   "id": "4234d8c5-492e-4e86-a6d7-952d5b7d754b",
   "metadata": {},
   "outputs": [],
   "source": [
    "import numpy as np \n",
    "import pandas as pd\n",
    "\n",
    "import matplotlib.pyplot as plt\n",
    "import seaborn as sns\n",
    "\n",
    "plt.style.use('fivethirtyeight')\n",
    "plt.ion()\n",
    "\n",
    "import warnings\n",
    "warnings.filterwarnings('ignore')"
   ]
  },
  {
   "cell_type": "code",
   "execution_count": 3,
   "id": "40b28306-4193-46c1-bb91-a93d3075d0a3",
   "metadata": {},
   "outputs": [
    {
     "data": {
      "text/plain": [
       "'C:\\\\Users\\\\User\\\\Desktop\\\\model_results.csv'"
      ]
     },
     "execution_count": 3,
     "metadata": {},
     "output_type": "execute_result"
    }
   ],
   "source": [
    "import easydict\n",
    "args = easydict.EasyDict() #dict values 에 .으로 접근 가능하다 \n",
    "\n",
    "# path 정보\n",
    "args.default_path = 'C:\\\\Users\\\\User\\\\Desktop\\\\' # 파일 위치 \n",
    "args.train_csv = args.default_path+'train.csv'\n",
    "args.test_csv = args.default_path+'test.csv'\n",
    "args.default_submission_csv = args.default_path+'submission.csv'\n",
    "\n",
    "args.submission_csv = args.default_path+'submission_0331.csv' # 새로운 파일 \n",
    "args.save_results = args.default_path+\"model_results.csv\" # 정보저장 파일 \n",
    "\n",
    "# 데이터 분석을 위한 변수들\n",
    "args.random_state = 21\n",
    "args.results = []\n",
    "\n",
    "args.save_results"
   ]
  },
  {
   "cell_type": "markdown",
   "id": "5d67c525-a55a-45c5-b7ac-3d37fbd49f4b",
   "metadata": {},
   "source": [
    "### 데이터 로드"
   ]
  },
  {
   "cell_type": "code",
   "execution_count": 4,
   "id": "be0a832f-8e54-4d5c-a705-1864a36c7ea0",
   "metadata": {},
   "outputs": [
    {
     "data": {
      "text/plain": [
       "((916, 12), (393, 11))"
      ]
     },
     "execution_count": 4,
     "metadata": {},
     "output_type": "execute_result"
    }
   ],
   "source": [
    "ori_train = pd.read_csv(args.train_csv)\n",
    "ori_test = pd.read_csv(args.test_csv)\n",
    "ori_train.shape, ori_test.shape"
   ]
  },
  {
   "cell_type": "markdown",
   "id": "4d20a7bc-e86b-4816-8e2e-77add5fbf767",
   "metadata": {
    "tags": []
   },
   "source": [
    "### 폰트 설정"
   ]
  },
  {
   "cell_type": "code",
   "execution_count": 5,
   "id": "35239694-9c04-4874-bf0c-176bcbdc5ffc",
   "metadata": {},
   "outputs": [],
   "source": [
    "import matplotlib as mpl\n",
    "# Add every font at the specified location\n",
    "font_dir = ['./fonts']\n",
    "for font in mpl.font_manager.findSystemFonts(fontpaths=font_dir):\n",
    " print(mpl.font_manager.FontProperties(fname=font).get_name())\n",
    " mpl.font_manager.fontManager.addfont(font)"
   ]
  },
  {
   "cell_type": "code",
   "execution_count": 6,
   "id": "ce67a108-3e01-43f3-a093-7a4c402c2ed0",
   "metadata": {
    "tags": []
   },
   "outputs": [
    {
     "name": "stdout",
     "output_type": "stream",
     "text": [
      "['C:\\\\Windows\\\\Fonts\\\\segoeui.ttf', 'C:\\\\Windows\\\\Fonts\\\\seguisli.ttf', 'C:\\\\Windows\\\\Fonts\\\\segoeuil.ttf', 'C:\\\\Windows\\\\Fonts\\\\seguibl.ttf', 'C:\\\\Windows\\\\Fonts\\\\H2GSRB.TTF', 'C:\\\\Windows\\\\Fonts\\\\segoeuib.ttf', 'C:\\\\Windows\\\\Fonts\\\\NirmalaS.ttf', 'C:\\\\Windows\\\\Fonts\\\\gulim.ttc', 'C:\\\\Windows\\\\Fonts\\\\REFSAN.TTF', 'C:\\\\Windows\\\\Fonts\\\\WINGDNG3.TTF', 'C:\\\\Windows\\\\Fonts\\\\segoeuiz.ttf', 'C:\\\\Windows\\\\Fonts\\\\wingding.ttf', 'C:\\\\Windows\\\\Fonts\\\\arialbd.ttf', 'C:\\\\Windows\\\\Fonts\\\\HancomHoonminjeongeumH.ttf', 'C:\\\\Windows\\\\Fonts\\\\msyhbd.ttc', 'C:\\\\Windows\\\\Fonts\\\\WINGDNG2.TTF', 'C:\\\\Windows\\\\Fonts\\\\comicz.ttf', 'C:\\\\Windows\\\\Fonts\\\\framdit.ttf', 'C:\\\\Windows\\\\Fonts\\\\H2SA1M.TTF', 'C:\\\\Windows\\\\Fonts\\\\Hancom Gothic Bold.ttf', 'C:\\\\Windows\\\\Fonts\\\\timesbd.ttf', 'C:\\\\Windows\\\\Fonts\\\\georgia.ttf', 'C:\\\\Windows\\\\Fonts\\\\monbaiti.ttf', 'C:\\\\Windows\\\\Fonts\\\\cambriaz.ttf', 'C:\\\\Windows\\\\Fonts\\\\msgothic.ttc', 'C:\\\\Windows\\\\Fonts\\\\DUBAI-BOLD.TTF', 'C:\\\\Windows\\\\Fonts\\\\ANTQUAI.TTF', 'C:\\\\Windows\\\\Fonts\\\\segoeprb.ttf', 'C:\\\\Windows\\\\Fonts\\\\JUMJA.TTF', 'C:\\\\Windows\\\\Fonts\\\\ANTQUABI.TTF', 'C:\\\\Windows\\\\Fonts\\\\cambriai.ttf', 'C:\\\\Windows\\\\Fonts\\\\MalangmalangB.ttf', 'C:\\\\Windows\\\\Fonts\\\\Candarai.ttf', 'C:\\\\Windows\\\\Fonts\\\\phagspa.ttf', 'C:\\\\Windows\\\\Fonts\\\\georgiaz.ttf', 'C:\\\\Windows\\\\Fonts\\\\georgiab.ttf', 'C:\\\\Windows\\\\Fonts\\\\HMFMPYUN.TTF', 'C:\\\\Windows\\\\Fonts\\\\ARIALN.TTF', 'C:\\\\Windows\\\\Fonts\\\\phagspab.ttf', 'C:\\\\Windows\\\\Fonts\\\\ebrimabd.ttf', 'C:\\\\Windows\\\\Fonts\\\\couri.ttf', 'C:\\\\Windows\\\\Fonts\\\\GOTHIC.TTF', 'C:\\\\Windows\\\\Fonts\\\\GARAIT.TTF', 'C:\\\\Windows\\\\Fonts\\\\batang.ttc', 'C:\\\\Windows\\\\Fonts\\\\Hancom Gothic Regular.ttf', 'C:\\\\Windows\\\\Fonts\\\\trebucbd.ttf', 'C:\\\\Windows\\\\Fonts\\\\msyh.ttc', 'C:\\\\Windows\\\\Fonts\\\\consolai.ttf', 'C:\\\\Windows\\\\Fonts\\\\segoeuii.ttf', 'C:\\\\Windows\\\\Fonts\\\\marlett.ttf', 'C:\\\\Windows\\\\Fonts\\\\courbi.ttf', 'C:\\\\Windows\\\\Fonts\\\\Candara.ttf', 'C:\\\\Windows\\\\Fonts\\\\taileb.ttf', 'C:\\\\Windows\\\\Fonts\\\\consolab.ttf', 'C:\\\\Windows\\\\Fonts\\\\comici.ttf', 'C:\\\\Windows\\\\Fonts\\\\mmrtext.ttf', 'C:\\\\Windows\\\\Fonts\\\\ntailu.ttf', 'C:\\\\Windows\\\\Fonts\\\\SitkaI.ttc', 'C:\\\\Windows\\\\Fonts\\\\MSUIGHUB.TTF', 'C:\\\\Windows\\\\Fonts\\\\corbell.ttf', 'C:\\\\Windows\\\\Fonts\\\\impact.ttf', 'C:\\\\Windows\\\\Fonts\\\\ARIALNBI.TTF', 'C:\\\\Windows\\\\Fonts\\\\seguihis.ttf', 'C:\\\\Windows\\\\Fonts\\\\DUBAI-LIGHT.TTF', 'C:\\\\Windows\\\\Fonts\\\\constani.ttf', 'C:\\\\Windows\\\\Fonts\\\\Candaraz.ttf', 'C:\\\\Windows\\\\Fonts\\\\arial.ttf', 'C:\\\\Windows\\\\Fonts\\\\msjh.ttc', 'C:\\\\Windows\\\\Fonts\\\\micross.ttf', 'C:\\\\Windows\\\\Fonts\\\\ebrima.ttf', 'C:\\\\Windows\\\\Fonts\\\\segoeuisl.ttf', 'C:\\\\Users\\\\User\\\\AppData\\\\Local\\\\Microsoft\\\\Windows\\\\Fonts\\\\Cafe24Ohsquare.ttf', 'C:\\\\Windows\\\\Fonts\\\\H2PORM.TTF', 'C:\\\\Windows\\\\Fonts\\\\HMKMMAG.TTF', 'C:\\\\Windows\\\\Fonts\\\\msjhbd.ttc', 'C:\\\\Windows\\\\Fonts\\\\GOTHICBI.TTF', 'C:\\\\Windows\\\\Fonts\\\\pala.ttf', 'C:\\\\Windows\\\\Fonts\\\\YuGothR.ttc', 'C:\\\\Windows\\\\Fonts\\\\GARABD.TTF', 'C:\\\\Windows\\\\Fonts\\\\trebuc.ttf', 'C:\\\\Windows\\\\Fonts\\\\constanb.ttf', 'C:\\\\Windows\\\\Fonts\\\\Sitka.ttc', 'C:\\\\Windows\\\\Fonts\\\\YuGothL.ttc', 'C:\\\\Windows\\\\Fonts\\\\malgunbd.ttf', 'C:\\\\Windows\\\\Fonts\\\\msyhl.ttc', 'C:\\\\Windows\\\\Fonts\\\\tahoma.ttf', 'C:\\\\Windows\\\\Fonts\\\\bahnschrift.ttf', 'C:\\\\Windows\\\\Fonts\\\\timesbi.ttf', 'C:\\\\Windows\\\\Fonts\\\\calibriz.ttf', 'C:\\\\Windows\\\\Fonts\\\\himalaya.ttf', 'C:\\\\Windows\\\\Fonts\\\\Hancom HMJE_V.ttf', 'C:\\\\Windows\\\\Fonts\\\\H2MKPB.TTF', 'C:\\\\Windows\\\\Fonts\\\\ariali.ttf', 'C:\\\\Windows\\\\Fonts\\\\verdanaz.ttf', 'C:\\\\Windows\\\\Fonts\\\\gadugi.ttf', 'C:\\\\Windows\\\\Fonts\\\\l_10646.ttf', 'C:\\\\Windows\\\\Fonts\\\\MSUIGHUR.TTF', 'C:\\\\Windows\\\\Fonts\\\\webdings.ttf', 'C:\\\\Windows\\\\Fonts\\\\H2MJSM.TTF', 'C:\\\\Windows\\\\Fonts\\\\Candaral.ttf', 'C:\\\\Windows\\\\Fonts\\\\GARA.TTF', 'C:\\\\Windows\\\\Fonts\\\\LeelaUIb.ttf', 'C:\\\\Windows\\\\Fonts\\\\HanSantteutDotum-Bold.ttf', 'C:\\\\Windows\\\\Fonts\\\\malgunsl.ttf', 'C:\\\\Windows\\\\Fonts\\\\segoepr.ttf', 'C:\\\\Windows\\\\Fonts\\\\MalangmalangR.ttf', 'C:\\\\Windows\\\\Fonts\\\\HANBatangExt.ttf', 'C:\\\\Windows\\\\Fonts\\\\verdana.ttf', 'C:\\\\Windows\\\\Fonts\\\\ARIALNB.TTF', 'C:\\\\Windows\\\\Fonts\\\\seguisb.ttf', 'C:\\\\Windows\\\\Fonts\\\\seguili.ttf', 'C:\\\\Windows\\\\Fonts\\\\Candarali.ttf', 'C:\\\\Windows\\\\Fonts\\\\corbeli.ttf', 'C:\\\\Windows\\\\Fonts\\\\corbelli.ttf', 'C:\\\\Windows\\\\Fonts\\\\consola.ttf', 'C:\\\\Windows\\\\Fonts\\\\ARIALNI.TTF', 'C:\\\\Windows\\\\Fonts\\\\times.ttf', 'C:\\\\Windows\\\\Fonts\\\\LeelUIsl.ttf', 'C:\\\\Windows\\\\Fonts\\\\HANBatangB.ttf', 'C:\\\\Windows\\\\Fonts\\\\corbelb.ttf', 'C:\\\\Windows\\\\Fonts\\\\symbol.ttf', 'C:\\\\Windows\\\\Fonts\\\\arialbi.ttf', 'C:\\\\Windows\\\\Fonts\\\\mingliub.ttc', 'C:\\\\Windows\\\\Fonts\\\\timesi.ttf', 'C:\\\\Windows\\\\Fonts\\\\H2GTRM.TTF', 'C:\\\\Windows\\\\Fonts\\\\framd.ttf', 'C:\\\\Windows\\\\Fonts\\\\REFSPCL.TTF', 'C:\\\\Windows\\\\Fonts\\\\HANWing2.ttf', 'C:\\\\Windows\\\\Fonts\\\\Gabriola.ttf', 'C:\\\\Windows\\\\Fonts\\\\H2PORL.TTF', 'C:\\\\Windows\\\\Fonts\\\\ariblk.ttf', 'C:\\\\Windows\\\\Fonts\\\\BOOKOSB.TTF', 'C:\\\\Windows\\\\Fonts\\\\consolaz.ttf', 'C:\\\\Windows\\\\Fonts\\\\MTEXTRA.TTF', 'C:\\\\Windows\\\\Fonts\\\\BOOKOSI.TTF', 'C:\\\\Windows\\\\Fonts\\\\simsun.ttc', 'C:\\\\Windows\\\\Fonts\\\\msjhl.ttc', 'C:\\\\Windows\\\\Fonts\\\\HMKMRHD.TTF', 'C:\\\\Windows\\\\Fonts\\\\H2GPRM.TTF', 'C:\\\\Windows\\\\Fonts\\\\trebucbi.ttf', 'C:\\\\Windows\\\\Fonts\\\\HanSantteutDotum-Regular.ttf', 'C:\\\\Windows\\\\Fonts\\\\BSSYM7.TTF', 'C:\\\\Windows\\\\Fonts\\\\LEELAWDB.TTF', 'C:\\\\Windows\\\\Fonts\\\\verdanai.ttf', 'C:\\\\Windows\\\\Fonts\\\\HMFMMUEX.TTC', 'C:\\\\Windows\\\\Fonts\\\\seguiemj.ttf', 'C:\\\\Windows\\\\Fonts\\\\BKANT.TTF', 'C:\\\\Windows\\\\Fonts\\\\MTCORSVA.TTF', 'C:\\\\Windows\\\\Fonts\\\\calibrii.ttf', 'C:\\\\Windows\\\\Fonts\\\\DUBAI-MEDIUM.TTF', 'C:\\\\Windows\\\\Fonts\\\\H2HDRM.TTF', 'C:\\\\Windows\\\\Fonts\\\\cour.ttf', 'C:\\\\Windows\\\\Fonts\\\\HMKMAMI.TTF', 'C:\\\\Windows\\\\Fonts\\\\taile.ttf', 'C:\\\\Windows\\\\Fonts\\\\seguisbi.ttf', 'C:\\\\Windows\\\\Fonts\\\\ntailub.ttf', 'C:\\\\Windows\\\\Fonts\\\\YuGothM.ttc', 'C:\\\\Windows\\\\Fonts\\\\segoesc.ttf', 'C:\\\\Windows\\\\Fonts\\\\cambriab.ttf', 'C:\\\\Windows\\\\Fonts\\\\HANDotumExt.ttf', 'C:\\\\Windows\\\\Fonts\\\\HANBatangExtBB.ttf', 'C:\\\\Windows\\\\Fonts\\\\segmdl2.ttf', 'C:\\\\Windows\\\\Fonts\\\\simsunb.ttf', 'C:\\\\Windows\\\\Fonts\\\\tahomabd.ttf', 'C:\\\\Windows\\\\Fonts\\\\palai.ttf', 'C:\\\\Windows\\\\Fonts\\\\HancomEQN.ttf', 'C:\\\\Windows\\\\Fonts\\\\comic.ttf', 'C:\\\\Windows\\\\Fonts\\\\calibri.ttf', 'C:\\\\Windows\\\\Fonts\\\\HANBatangExtB.ttf', 'C:\\\\Windows\\\\Fonts\\\\sylfaen.ttf', 'C:\\\\Windows\\\\Fonts\\\\NirmalaB.ttf', 'C:\\\\Windows\\\\Fonts\\\\calibril.ttf', 'C:\\\\Windows\\\\Fonts\\\\seguibli.ttf', 'C:\\\\Windows\\\\Fonts\\\\mmrtextb.ttf', 'C:\\\\Windows\\\\Fonts\\\\NGULIM.TTF', 'C:\\\\Windows\\\\Fonts\\\\SitkaZ.ttc', 'C:\\\\Windows\\\\Fonts\\\\H2MJRE.TTF', 'C:\\\\Windows\\\\Fonts\\\\corbelz.ttf', 'C:\\\\Windows\\\\Fonts\\\\Inkfree.ttf', 'C:\\\\Windows\\\\Fonts\\\\BOOKOS.TTF', 'C:\\\\Windows\\\\Fonts\\\\constan.ttf', 'C:\\\\Windows\\\\Fonts\\\\Nirmala.ttf', 'C:\\\\Windows\\\\Fonts\\\\segoescb.ttf', 'C:\\\\Windows\\\\Fonts\\\\GOTHICI.TTF', 'C:\\\\Windows\\\\Fonts\\\\georgiai.ttf', 'C:\\\\Windows\\\\Fonts\\\\lucon.ttf', 'C:\\\\Windows\\\\Fonts\\\\calibrili.ttf', 'C:\\\\Windows\\\\Fonts\\\\SitkaB.ttc', 'C:\\\\Windows\\\\Fonts\\\\HANDotumB.ttf', 'C:\\\\Windows\\\\Fonts\\\\trebucit.ttf', 'C:\\\\Windows\\\\Fonts\\\\DUBAI-REGULAR.TTF', 'C:\\\\Windows\\\\Fonts\\\\verdanab.ttf', 'C:\\\\Windows\\\\Fonts\\\\msyi.ttf', 'C:\\\\Windows\\\\Fonts\\\\Candarab.ttf', 'C:\\\\Windows\\\\Fonts\\\\constanz.ttf', 'C:\\\\Windows\\\\Fonts\\\\HANBatang.ttf', 'C:\\\\Windows\\\\Fonts\\\\HMFMOLD.TTF', 'C:\\\\Windows\\\\Fonts\\\\cambria.ttc', 'C:\\\\Windows\\\\Fonts\\\\H2GTRE.TTF', 'C:\\\\Windows\\\\Fonts\\\\calibrib.ttf', 'C:\\\\Windows\\\\Fonts\\\\palab.ttf', 'C:\\\\Windows\\\\Fonts\\\\LEELAWAD.TTF', 'C:\\\\Windows\\\\Fonts\\\\CENTURY.TTF', 'C:\\\\Windows\\\\Fonts\\\\HANDotum.ttf', 'C:\\\\Windows\\\\Fonts\\\\gadugib.ttf', 'C:\\\\Windows\\\\Fonts\\\\mvboli.ttf', 'C:\\\\Windows\\\\Fonts\\\\HYHWPEQ.TTF', 'C:\\\\Windows\\\\Fonts\\\\comicbd.ttf', 'C:\\\\Windows\\\\Fonts\\\\javatext.ttf', 'C:\\\\Windows\\\\Fonts\\\\seguisym.ttf', 'C:\\\\Windows\\\\Fonts\\\\malgun.ttf', 'C:\\\\Windows\\\\Fonts\\\\palabi.ttf', 'C:\\\\Windows\\\\Fonts\\\\LeelawUI.ttf', 'C:\\\\Windows\\\\Fonts\\\\YuGothB.ttc', 'C:\\\\Windows\\\\Fonts\\\\GOTHICB.TTF', 'C:\\\\Windows\\\\Fonts\\\\courbd.ttf', 'C:\\\\Windows\\\\Fonts\\\\corbel.ttf', 'C:\\\\Windows\\\\Fonts\\\\holomdl2.ttf', 'C:\\\\Windows\\\\Fonts\\\\ANTQUAB.TTF', 'C:\\\\Windows\\\\Fonts\\\\BOOKOSBI.TTF']\n"
     ]
    }
   ],
   "source": [
    "# 시스템 폰트 경로 리스트\n",
    "font_list = mpl.font_manager.findSystemFonts()\n",
    "print(font_list)\n",
    "# 폰트 설정하기\n",
    "prop = mpl.font_manager.FontProperties(fname='원하는 폰트 경로')\n",
    "plt.rcParams['font.family'] = prop.get_family()"
   ]
  },
  {
   "cell_type": "code",
   "execution_count": 7,
   "id": "16b1aeab-4bb0-441a-9332-963f5dde443a",
   "metadata": {},
   "outputs": [
    {
     "name": "stdout",
     "output_type": "stream",
     "text": [
      "['Noto Sans KR']\n"
     ]
    }
   ],
   "source": [
    "# Set font family globally\n",
    "mpl.rcParams['font.family'] = 'Noto Sans KR'\n",
    "print(mpl.rcParams['font.family'])"
   ]
  },
  {
   "cell_type": "markdown",
   "id": "11f91809-6125-40e1-a43b-86448fe31c67",
   "metadata": {
    "tags": []
   },
   "source": [
    "# 데이터 확인 "
   ]
  },
  {
   "cell_type": "code",
   "execution_count": 8,
   "id": "d2cd8eff-310f-41c1-9b43-ed61642fd9c6",
   "metadata": {},
   "outputs": [
    {
     "data": {
      "text/plain": [
       "Index(['passengerid', 'survived', 'pclass', 'name', 'gender', 'age', 'sibsp',\n",
       "       'parch', 'ticket', 'fare', 'cabin', 'embarked'],\n",
       "      dtype='object')"
      ]
     },
     "execution_count": 8,
     "metadata": {},
     "output_type": "execute_result"
    }
   ],
   "source": [
    "ori_train.columns"
   ]
  },
  {
   "cell_type": "code",
   "execution_count": 9,
   "id": "73d95090-9cb6-480c-9a20-417d4b28d31c",
   "metadata": {},
   "outputs": [
    {
     "data": {
      "text/html": [
       "<div>\n",
       "<style scoped>\n",
       "    .dataframe tbody tr th:only-of-type {\n",
       "        vertical-align: middle;\n",
       "    }\n",
       "\n",
       "    .dataframe tbody tr th {\n",
       "        vertical-align: top;\n",
       "    }\n",
       "\n",
       "    .dataframe thead th {\n",
       "        text-align: right;\n",
       "    }\n",
       "</style>\n",
       "<table border=\"1\" class=\"dataframe\">\n",
       "  <thead>\n",
       "    <tr style=\"text-align: right;\">\n",
       "      <th></th>\n",
       "      <th>passengerid</th>\n",
       "      <th>survived</th>\n",
       "      <th>pclass</th>\n",
       "      <th>name</th>\n",
       "      <th>gender</th>\n",
       "      <th>age</th>\n",
       "      <th>sibsp</th>\n",
       "      <th>parch</th>\n",
       "      <th>ticket</th>\n",
       "      <th>fare</th>\n",
       "      <th>cabin</th>\n",
       "      <th>embarked</th>\n",
       "    </tr>\n",
       "  </thead>\n",
       "  <tbody>\n",
       "    <tr>\n",
       "      <th>0</th>\n",
       "      <td>0</td>\n",
       "      <td>0</td>\n",
       "      <td>2</td>\n",
       "      <td>Wheeler, Mr. Edwin Frederick\"\"</td>\n",
       "      <td>male</td>\n",
       "      <td>NaN</td>\n",
       "      <td>0</td>\n",
       "      <td>0</td>\n",
       "      <td>SC/PARIS 2159</td>\n",
       "      <td>12.875</td>\n",
       "      <td>NaN</td>\n",
       "      <td>S</td>\n",
       "    </tr>\n",
       "    <tr>\n",
       "      <th>1</th>\n",
       "      <td>1</td>\n",
       "      <td>0</td>\n",
       "      <td>3</td>\n",
       "      <td>Henry, Miss. Delia</td>\n",
       "      <td>female</td>\n",
       "      <td>NaN</td>\n",
       "      <td>0</td>\n",
       "      <td>0</td>\n",
       "      <td>382649</td>\n",
       "      <td>7.750</td>\n",
       "      <td>NaN</td>\n",
       "      <td>Q</td>\n",
       "    </tr>\n",
       "  </tbody>\n",
       "</table>\n",
       "</div>"
      ],
      "text/plain": [
       "   passengerid  survived  pclass                            name  gender  age  \\\n",
       "0            0         0       2  Wheeler, Mr. Edwin Frederick\"\"    male  NaN   \n",
       "1            1         0       3              Henry, Miss. Delia  female  NaN   \n",
       "\n",
       "   sibsp  parch         ticket    fare cabin embarked  \n",
       "0      0      0  SC/PARIS 2159  12.875   NaN        S  \n",
       "1      0      0         382649   7.750   NaN        Q  "
      ]
     },
     "execution_count": 9,
     "metadata": {},
     "output_type": "execute_result"
    }
   ],
   "source": [
    "ori_train.head(2)"
   ]
  },
  {
   "cell_type": "code",
   "execution_count": 10,
   "id": "8736db89-1e19-4079-946d-0229ba4a550f",
   "metadata": {},
   "outputs": [
    {
     "data": {
      "text/plain": [
       "Index(['passengerid', 'pclass', 'name', 'gender', 'age', 'sibsp', 'parch',\n",
       "       'ticket', 'fare', 'cabin', 'embarked'],\n",
       "      dtype='object')"
      ]
     },
     "execution_count": 10,
     "metadata": {},
     "output_type": "execute_result"
    }
   ],
   "source": [
    "ori_test.columns # survived 가 빠짐 "
   ]
  },
  {
   "cell_type": "code",
   "execution_count": 11,
   "id": "31e7c4a6-51cd-4b3d-a64c-e66dd7092162",
   "metadata": {},
   "outputs": [
    {
     "data": {
      "text/html": [
       "<div>\n",
       "<style scoped>\n",
       "    .dataframe tbody tr th:only-of-type {\n",
       "        vertical-align: middle;\n",
       "    }\n",
       "\n",
       "    .dataframe tbody tr th {\n",
       "        vertical-align: top;\n",
       "    }\n",
       "\n",
       "    .dataframe thead th {\n",
       "        text-align: right;\n",
       "    }\n",
       "</style>\n",
       "<table border=\"1\" class=\"dataframe\">\n",
       "  <thead>\n",
       "    <tr style=\"text-align: right;\">\n",
       "      <th></th>\n",
       "      <th>passengerid</th>\n",
       "      <th>pclass</th>\n",
       "      <th>name</th>\n",
       "      <th>gender</th>\n",
       "      <th>age</th>\n",
       "      <th>sibsp</th>\n",
       "      <th>parch</th>\n",
       "      <th>ticket</th>\n",
       "      <th>fare</th>\n",
       "      <th>cabin</th>\n",
       "      <th>embarked</th>\n",
       "    </tr>\n",
       "  </thead>\n",
       "  <tbody>\n",
       "    <tr>\n",
       "      <th>0</th>\n",
       "      <td>916</td>\n",
       "      <td>3</td>\n",
       "      <td>McGowan, Miss. Anna \"Annie\"</td>\n",
       "      <td>female</td>\n",
       "      <td>15.0</td>\n",
       "      <td>0</td>\n",
       "      <td>0</td>\n",
       "      <td>330923</td>\n",
       "      <td>8.0292</td>\n",
       "      <td>NaN</td>\n",
       "      <td>Q</td>\n",
       "    </tr>\n",
       "    <tr>\n",
       "      <th>1</th>\n",
       "      <td>917</td>\n",
       "      <td>2</td>\n",
       "      <td>Pinsky, Mrs. (Rosa)</td>\n",
       "      <td>female</td>\n",
       "      <td>32.0</td>\n",
       "      <td>0</td>\n",
       "      <td>0</td>\n",
       "      <td>234604</td>\n",
       "      <td>13.0000</td>\n",
       "      <td>NaN</td>\n",
       "      <td>S</td>\n",
       "    </tr>\n",
       "  </tbody>\n",
       "</table>\n",
       "</div>"
      ],
      "text/plain": [
       "   passengerid  pclass                         name  gender   age  sibsp  \\\n",
       "0          916       3  McGowan, Miss. Anna \"Annie\"  female  15.0      0   \n",
       "1          917       2          Pinsky, Mrs. (Rosa)  female  32.0      0   \n",
       "\n",
       "   parch  ticket     fare cabin embarked  \n",
       "0      0  330923   8.0292   NaN        Q  \n",
       "1      0  234604  13.0000   NaN        S  "
      ]
     },
     "execution_count": 11,
     "metadata": {},
     "output_type": "execute_result"
    }
   ],
   "source": [
    "ori_test.head(2)"
   ]
  },
  {
   "cell_type": "markdown",
   "id": "73aa6356-2bb7-415f-986e-f0f3b7c43764",
   "metadata": {
    "tags": []
   },
   "source": [
    "# EDA"
   ]
  },
  {
   "cell_type": "markdown",
   "id": "b361b8c2-eda1-45fb-9aec-f0b12b12795a",
   "metadata": {},
   "source": [
    "### 데이터 바꾸기"
   ]
  },
  {
   "cell_type": "code",
   "execution_count": 12,
   "id": "755a7cad-56a0-4d1c-95cd-aaf6ccaa0b94",
   "metadata": {},
   "outputs": [
    {
     "data": {
      "text/html": [
       "<div>\n",
       "<style scoped>\n",
       "    .dataframe tbody tr th:only-of-type {\n",
       "        vertical-align: middle;\n",
       "    }\n",
       "\n",
       "    .dataframe tbody tr th {\n",
       "        vertical-align: top;\n",
       "    }\n",
       "\n",
       "    .dataframe thead th {\n",
       "        text-align: right;\n",
       "    }\n",
       "</style>\n",
       "<table border=\"1\" class=\"dataframe\">\n",
       "  <thead>\n",
       "    <tr style=\"text-align: right;\">\n",
       "      <th></th>\n",
       "      <th>survived</th>\n",
       "      <th>pclass</th>\n",
       "      <th>name</th>\n",
       "      <th>gender</th>\n",
       "      <th>age</th>\n",
       "      <th>sibsp</th>\n",
       "      <th>parch</th>\n",
       "      <th>ticket</th>\n",
       "      <th>fare</th>\n",
       "      <th>cabin</th>\n",
       "      <th>embarked</th>\n",
       "    </tr>\n",
       "  </thead>\n",
       "  <tbody>\n",
       "    <tr>\n",
       "      <th>0</th>\n",
       "      <td>0</td>\n",
       "      <td>2</td>\n",
       "      <td>Wheeler, Mr. Edwin Frederick\"\"</td>\n",
       "      <td>male</td>\n",
       "      <td>NaN</td>\n",
       "      <td>0</td>\n",
       "      <td>0</td>\n",
       "      <td>SC/PARIS 2159</td>\n",
       "      <td>12.8750</td>\n",
       "      <td>NaN</td>\n",
       "      <td>S</td>\n",
       "    </tr>\n",
       "    <tr>\n",
       "      <th>1</th>\n",
       "      <td>0</td>\n",
       "      <td>3</td>\n",
       "      <td>Henry, Miss. Delia</td>\n",
       "      <td>female</td>\n",
       "      <td>NaN</td>\n",
       "      <td>0</td>\n",
       "      <td>0</td>\n",
       "      <td>382649</td>\n",
       "      <td>7.7500</td>\n",
       "      <td>NaN</td>\n",
       "      <td>Q</td>\n",
       "    </tr>\n",
       "    <tr>\n",
       "      <th>2</th>\n",
       "      <td>1</td>\n",
       "      <td>1</td>\n",
       "      <td>Hays, Mrs. Charles Melville (Clara Jennings Gr...</td>\n",
       "      <td>female</td>\n",
       "      <td>52.0</td>\n",
       "      <td>1</td>\n",
       "      <td>1</td>\n",
       "      <td>12749</td>\n",
       "      <td>93.5000</td>\n",
       "      <td>B69</td>\n",
       "      <td>S</td>\n",
       "    </tr>\n",
       "    <tr>\n",
       "      <th>3</th>\n",
       "      <td>1</td>\n",
       "      <td>3</td>\n",
       "      <td>Andersson, Mr. August Edvard (\"Wennerstrom\")</td>\n",
       "      <td>male</td>\n",
       "      <td>27.0</td>\n",
       "      <td>0</td>\n",
       "      <td>0</td>\n",
       "      <td>350043</td>\n",
       "      <td>7.7958</td>\n",
       "      <td>NaN</td>\n",
       "      <td>S</td>\n",
       "    </tr>\n",
       "    <tr>\n",
       "      <th>4</th>\n",
       "      <td>0</td>\n",
       "      <td>2</td>\n",
       "      <td>Hold, Mr. Stephen</td>\n",
       "      <td>male</td>\n",
       "      <td>44.0</td>\n",
       "      <td>1</td>\n",
       "      <td>0</td>\n",
       "      <td>26707</td>\n",
       "      <td>26.0000</td>\n",
       "      <td>NaN</td>\n",
       "      <td>S</td>\n",
       "    </tr>\n",
       "  </tbody>\n",
       "</table>\n",
       "</div>"
      ],
      "text/plain": [
       "   survived  pclass                                               name  \\\n",
       "0         0       2                     Wheeler, Mr. Edwin Frederick\"\"   \n",
       "1         0       3                                 Henry, Miss. Delia   \n",
       "2         1       1  Hays, Mrs. Charles Melville (Clara Jennings Gr...   \n",
       "3         1       3       Andersson, Mr. August Edvard (\"Wennerstrom\")   \n",
       "4         0       2                                  Hold, Mr. Stephen   \n",
       "\n",
       "   gender   age  sibsp  parch         ticket     fare cabin embarked  \n",
       "0    male   NaN      0      0  SC/PARIS 2159  12.8750   NaN        S  \n",
       "1  female   NaN      0      0         382649   7.7500   NaN        Q  \n",
       "2  female  52.0      1      1          12749  93.5000   B69        S  \n",
       "3    male  27.0      0      0         350043   7.7958   NaN        S  \n",
       "4    male  44.0      1      0          26707  26.0000   NaN        S  "
      ]
     },
     "execution_count": 12,
     "metadata": {},
     "output_type": "execute_result"
    }
   ],
   "source": [
    "ori_train.drop('passengerid', axis=1, inplace=True)\n",
    "ori_train\n",
    "ori_train.head()"
   ]
  },
  {
   "cell_type": "code",
   "execution_count": 13,
   "id": "be623ba6-78e9-4589-8c29-64b5cf05634b",
   "metadata": {},
   "outputs": [
    {
     "name": "stdout",
     "output_type": "stream",
     "text": [
      "(393, 10)\n"
     ]
    },
    {
     "data": {
      "text/html": [
       "<div>\n",
       "<style scoped>\n",
       "    .dataframe tbody tr th:only-of-type {\n",
       "        vertical-align: middle;\n",
       "    }\n",
       "\n",
       "    .dataframe tbody tr th {\n",
       "        vertical-align: top;\n",
       "    }\n",
       "\n",
       "    .dataframe thead th {\n",
       "        text-align: right;\n",
       "    }\n",
       "</style>\n",
       "<table border=\"1\" class=\"dataframe\">\n",
       "  <thead>\n",
       "    <tr style=\"text-align: right;\">\n",
       "      <th></th>\n",
       "      <th>pclass</th>\n",
       "      <th>name</th>\n",
       "      <th>gender</th>\n",
       "      <th>age</th>\n",
       "      <th>sibsp</th>\n",
       "      <th>parch</th>\n",
       "      <th>ticket</th>\n",
       "      <th>fare</th>\n",
       "      <th>cabin</th>\n",
       "      <th>embarked</th>\n",
       "    </tr>\n",
       "    <tr>\n",
       "      <th>passengerid</th>\n",
       "      <th></th>\n",
       "      <th></th>\n",
       "      <th></th>\n",
       "      <th></th>\n",
       "      <th></th>\n",
       "      <th></th>\n",
       "      <th></th>\n",
       "      <th></th>\n",
       "      <th></th>\n",
       "      <th></th>\n",
       "    </tr>\n",
       "  </thead>\n",
       "  <tbody>\n",
       "    <tr>\n",
       "      <th>916</th>\n",
       "      <td>3</td>\n",
       "      <td>McGowan, Miss. Anna \"Annie\"</td>\n",
       "      <td>female</td>\n",
       "      <td>15.0</td>\n",
       "      <td>0</td>\n",
       "      <td>0</td>\n",
       "      <td>330923</td>\n",
       "      <td>8.0292</td>\n",
       "      <td>NaN</td>\n",
       "      <td>Q</td>\n",
       "    </tr>\n",
       "    <tr>\n",
       "      <th>917</th>\n",
       "      <td>2</td>\n",
       "      <td>Pinsky, Mrs. (Rosa)</td>\n",
       "      <td>female</td>\n",
       "      <td>32.0</td>\n",
       "      <td>0</td>\n",
       "      <td>0</td>\n",
       "      <td>234604</td>\n",
       "      <td>13.0000</td>\n",
       "      <td>NaN</td>\n",
       "      <td>S</td>\n",
       "    </tr>\n",
       "    <tr>\n",
       "      <th>918</th>\n",
       "      <td>3</td>\n",
       "      <td>McCarthy, Miss. Catherine Katie\"\"</td>\n",
       "      <td>female</td>\n",
       "      <td>NaN</td>\n",
       "      <td>0</td>\n",
       "      <td>0</td>\n",
       "      <td>383123</td>\n",
       "      <td>7.7500</td>\n",
       "      <td>NaN</td>\n",
       "      <td>Q</td>\n",
       "    </tr>\n",
       "    <tr>\n",
       "      <th>919</th>\n",
       "      <td>3</td>\n",
       "      <td>Franklin, Mr. Charles (Charles Fardon)</td>\n",
       "      <td>male</td>\n",
       "      <td>NaN</td>\n",
       "      <td>0</td>\n",
       "      <td>0</td>\n",
       "      <td>SOTON/O.Q. 3101314</td>\n",
       "      <td>7.2500</td>\n",
       "      <td>NaN</td>\n",
       "      <td>S</td>\n",
       "    </tr>\n",
       "    <tr>\n",
       "      <th>920</th>\n",
       "      <td>1</td>\n",
       "      <td>Wick, Mrs. George Dennick (Mary Hitchcock)</td>\n",
       "      <td>female</td>\n",
       "      <td>45.0</td>\n",
       "      <td>1</td>\n",
       "      <td>1</td>\n",
       "      <td>36928</td>\n",
       "      <td>164.8667</td>\n",
       "      <td>NaN</td>\n",
       "      <td>S</td>\n",
       "    </tr>\n",
       "  </tbody>\n",
       "</table>\n",
       "</div>"
      ],
      "text/plain": [
       "             pclass                                        name  gender   age  \\\n",
       "passengerid                                                                     \n",
       "916               3                 McGowan, Miss. Anna \"Annie\"  female  15.0   \n",
       "917               2                         Pinsky, Mrs. (Rosa)  female  32.0   \n",
       "918               3           McCarthy, Miss. Catherine Katie\"\"  female   NaN   \n",
       "919               3      Franklin, Mr. Charles (Charles Fardon)    male   NaN   \n",
       "920               1  Wick, Mrs. George Dennick (Mary Hitchcock)  female  45.0   \n",
       "\n",
       "             sibsp  parch              ticket      fare cabin embarked  \n",
       "passengerid                                                             \n",
       "916              0      0              330923    8.0292   NaN        Q  \n",
       "917              0      0              234604   13.0000   NaN        S  \n",
       "918              0      0              383123    7.7500   NaN        Q  \n",
       "919              0      0  SOTON/O.Q. 3101314    7.2500   NaN        S  \n",
       "920              1      1               36928  164.8667   NaN        S  "
      ]
     },
     "execution_count": 13,
     "metadata": {},
     "output_type": "execute_result"
    }
   ],
   "source": [
    "ori_test.set_index(['passengerid'], inplace=True) \n",
    "print(f'{ori_test.shape}')\n",
    "ori_test.head()"
   ]
  },
  {
   "cell_type": "markdown",
   "id": "92fdca99-a25c-4a19-9d08-5d52552c4e88",
   "metadata": {
    "tags": []
   },
   "source": [
    "### 수치형 데이터 분석"
   ]
  },
  {
   "cell_type": "code",
   "execution_count": 14,
   "id": "f9bacb69-bb1a-4b1b-8ffa-af3936335718",
   "metadata": {},
   "outputs": [],
   "source": [
    "df_number = ori_train.select_dtypes(include=np.number)"
   ]
  },
  {
   "cell_type": "code",
   "execution_count": 15,
   "id": "4c4834ba-1b85-433f-a4c7-8a4d6faef968",
   "metadata": {},
   "outputs": [
    {
     "data": {
      "text/plain": [
       "Index(['survived', 'pclass', 'age', 'sibsp', 'parch', 'fare'], dtype='object')"
      ]
     },
     "execution_count": 15,
     "metadata": {},
     "output_type": "execute_result"
    }
   ],
   "source": [
    "df_number.columns"
   ]
  },
  {
   "cell_type": "code",
   "execution_count": 16,
   "id": "7801a279-bab0-4a34-958c-207f98a25572",
   "metadata": {},
   "outputs": [
    {
     "data": {
      "text/html": [
       "<div>\n",
       "<style scoped>\n",
       "    .dataframe tbody tr th:only-of-type {\n",
       "        vertical-align: middle;\n",
       "    }\n",
       "\n",
       "    .dataframe tbody tr th {\n",
       "        vertical-align: top;\n",
       "    }\n",
       "\n",
       "    .dataframe thead th {\n",
       "        text-align: right;\n",
       "    }\n",
       "</style>\n",
       "<table border=\"1\" class=\"dataframe\">\n",
       "  <thead>\n",
       "    <tr style=\"text-align: right;\">\n",
       "      <th></th>\n",
       "      <th>survived</th>\n",
       "      <th>pclass</th>\n",
       "      <th>age</th>\n",
       "      <th>sibsp</th>\n",
       "      <th>parch</th>\n",
       "      <th>fare</th>\n",
       "    </tr>\n",
       "  </thead>\n",
       "  <tbody>\n",
       "    <tr>\n",
       "      <th>count</th>\n",
       "      <td>916.000000</td>\n",
       "      <td>916.000000</td>\n",
       "      <td>736.000000</td>\n",
       "      <td>916.000000</td>\n",
       "      <td>916.000000</td>\n",
       "      <td>916.000000</td>\n",
       "    </tr>\n",
       "    <tr>\n",
       "      <th>mean</th>\n",
       "      <td>0.377729</td>\n",
       "      <td>2.292576</td>\n",
       "      <td>29.698370</td>\n",
       "      <td>0.507642</td>\n",
       "      <td>0.361354</td>\n",
       "      <td>32.402710</td>\n",
       "    </tr>\n",
       "    <tr>\n",
       "      <th>std</th>\n",
       "      <td>0.485084</td>\n",
       "      <td>0.838675</td>\n",
       "      <td>14.185627</td>\n",
       "      <td>1.044866</td>\n",
       "      <td>0.828054</td>\n",
       "      <td>50.506411</td>\n",
       "    </tr>\n",
       "    <tr>\n",
       "      <th>min</th>\n",
       "      <td>0.000000</td>\n",
       "      <td>1.000000</td>\n",
       "      <td>0.170000</td>\n",
       "      <td>0.000000</td>\n",
       "      <td>0.000000</td>\n",
       "      <td>0.000000</td>\n",
       "    </tr>\n",
       "    <tr>\n",
       "      <th>25%</th>\n",
       "      <td>0.000000</td>\n",
       "      <td>2.000000</td>\n",
       "      <td>21.000000</td>\n",
       "      <td>0.000000</td>\n",
       "      <td>0.000000</td>\n",
       "      <td>7.895800</td>\n",
       "    </tr>\n",
       "    <tr>\n",
       "      <th>50%</th>\n",
       "      <td>0.000000</td>\n",
       "      <td>3.000000</td>\n",
       "      <td>28.000000</td>\n",
       "      <td>0.000000</td>\n",
       "      <td>0.000000</td>\n",
       "      <td>14.458300</td>\n",
       "    </tr>\n",
       "    <tr>\n",
       "      <th>75%</th>\n",
       "      <td>1.000000</td>\n",
       "      <td>3.000000</td>\n",
       "      <td>38.000000</td>\n",
       "      <td>1.000000</td>\n",
       "      <td>0.000000</td>\n",
       "      <td>30.017700</td>\n",
       "    </tr>\n",
       "    <tr>\n",
       "      <th>max</th>\n",
       "      <td>1.000000</td>\n",
       "      <td>3.000000</td>\n",
       "      <td>80.000000</td>\n",
       "      <td>8.000000</td>\n",
       "      <td>9.000000</td>\n",
       "      <td>512.329200</td>\n",
       "    </tr>\n",
       "  </tbody>\n",
       "</table>\n",
       "</div>"
      ],
      "text/plain": [
       "         survived      pclass         age       sibsp       parch        fare\n",
       "count  916.000000  916.000000  736.000000  916.000000  916.000000  916.000000\n",
       "mean     0.377729    2.292576   29.698370    0.507642    0.361354   32.402710\n",
       "std      0.485084    0.838675   14.185627    1.044866    0.828054   50.506411\n",
       "min      0.000000    1.000000    0.170000    0.000000    0.000000    0.000000\n",
       "25%      0.000000    2.000000   21.000000    0.000000    0.000000    7.895800\n",
       "50%      0.000000    3.000000   28.000000    0.000000    0.000000   14.458300\n",
       "75%      1.000000    3.000000   38.000000    1.000000    0.000000   30.017700\n",
       "max      1.000000    3.000000   80.000000    8.000000    9.000000  512.329200"
      ]
     },
     "execution_count": 16,
     "metadata": {},
     "output_type": "execute_result"
    }
   ],
   "source": [
    "df_number.describe() # age가 수가 적음(결측치가 있을 것이다)"
   ]
  },
  {
   "cell_type": "code",
   "execution_count": 112,
   "id": "fb78788f-cc8c-40c3-bf1e-df9cae83743e",
   "metadata": {},
   "outputs": [
    {
     "data": {
      "text/plain": [
       "3    495\n",
       "1    227\n",
       "2    194\n",
       "Name: pclass, dtype: int64"
      ]
     },
     "execution_count": 112,
     "metadata": {},
     "output_type": "execute_result"
    }
   ],
   "source": [
    "df_number['pclass'].value_counts()"
   ]
  },
  {
   "cell_type": "code",
   "execution_count": 19,
   "id": "571f5ca9-6c63-4331-964b-2b561f11e52e",
   "metadata": {},
   "outputs": [
    {
     "data": {
      "text/plain": [
       "survived     0.280808\n",
       "pclass       3.000000\n",
       "age         24.643483\n",
       "sibsp        0.587879\n",
       "parch        0.408081\n",
       "fare        13.566363\n",
       "dtype: float64"
      ]
     },
     "execution_count": 19,
     "metadata": {},
     "output_type": "execute_result"
    }
   ],
   "source": [
    "df_number[df_number['pclass']==3].mean()"
   ]
  },
  {
   "cell_type": "code",
   "execution_count": 20,
   "id": "b0442036-5c1e-48c8-9b9b-b713b8f1dff5",
   "metadata": {},
   "outputs": [
    {
     "data": {
      "text/plain": [
       "survived     0.391753\n",
       "pclass       2.000000\n",
       "age         29.844262\n",
       "sibsp        0.386598\n",
       "parch        0.319588\n",
       "fare        20.388036\n",
       "dtype: float64"
      ]
     },
     "execution_count": 20,
     "metadata": {},
     "output_type": "execute_result"
    }
   ],
   "source": [
    "df_number[df_number['pclass']==2].mean()"
   ]
  },
  {
   "cell_type": "code",
   "execution_count": 21,
   "id": "52047083-68a2-4bee-a470-7d2f3a7b08b8",
   "metadata": {},
   "outputs": [
    {
     "data": {
      "text/plain": [
       "survived     0.577093\n",
       "pclass       1.000000\n",
       "age         38.697563\n",
       "sibsp        0.436123\n",
       "parch        0.295154\n",
       "fare        83.745613\n",
       "dtype: float64"
      ]
     },
     "execution_count": 21,
     "metadata": {},
     "output_type": "execute_result"
    }
   ],
   "source": [
    "df_number[df_number['pclass']==1].mean()"
   ]
  },
  {
   "cell_type": "markdown",
   "id": "3aa7bbe5-c6ee-4ace-9b2c-6efb1f5ad48b",
   "metadata": {
    "tags": []
   },
   "source": [
    "### 범주형 데이터 분석"
   ]
  },
  {
   "cell_type": "code",
   "execution_count": 22,
   "id": "9b1a4251-6ae0-43a0-941a-cecea8a928e6",
   "metadata": {},
   "outputs": [],
   "source": [
    "df_object = ori_train.select_dtypes(exclude=np.number)"
   ]
  },
  {
   "cell_type": "code",
   "execution_count": 23,
   "id": "81623fbe-d984-4e4c-8477-74bdb5cc6615",
   "metadata": {},
   "outputs": [
    {
     "data": {
      "text/plain": [
       "Index(['name', 'gender', 'ticket', 'cabin', 'embarked', 'survived'], dtype='object')"
      ]
     },
     "execution_count": 23,
     "metadata": {},
     "output_type": "execute_result"
    }
   ],
   "source": [
    "df_object = df_object.join(df_number['survived']) # survived 추가\n",
    "df_object['survived'] = df_object['survived'].astype('object') # 데이터 타입 변경\n",
    "df_object.columns"
   ]
  },
  {
   "cell_type": "code",
   "execution_count": 24,
   "id": "e47f5672-dbec-43ae-ab91-7875b2dbe838",
   "metadata": {},
   "outputs": [
    {
     "data": {
      "text/plain": [
       "male      589\n",
       "female    327\n",
       "Name: gender, dtype: int64"
      ]
     },
     "execution_count": 24,
     "metadata": {},
     "output_type": "execute_result"
    }
   ],
   "source": [
    "df_object['gender'].value_counts()"
   ]
  },
  {
   "cell_type": "code",
   "execution_count": 25,
   "id": "81064c55-bbf2-4bc0-bb86-4b89c4dbf067",
   "metadata": {},
   "outputs": [
    {
     "data": {
      "text/plain": [
       "S    645\n",
       "C    189\n",
       "Q     81\n",
       "Name: embarked, dtype: int64"
      ]
     },
     "execution_count": 25,
     "metadata": {},
     "output_type": "execute_result"
    }
   ],
   "source": [
    "df_object['embarked'].value_counts()"
   ]
  },
  {
   "cell_type": "markdown",
   "id": "fc72bce4-81f8-4b9d-b901-3cf682bc242d",
   "metadata": {
    "tags": []
   },
   "source": [
    "# train_test_split\n"
   ]
  },
  {
   "cell_type": "code",
   "execution_count": 26,
   "id": "724ca0b1-accf-47ef-a608-2330560b3a84",
   "metadata": {},
   "outputs": [],
   "source": [
    "y = ori_train['survived']\n",
    "X = ori_train.drop(['survived'], axis=1)"
   ]
  },
  {
   "cell_type": "code",
   "execution_count": 27,
   "id": "10ef6b86-c692-42db-b3b3-719d30e4a1f9",
   "metadata": {},
   "outputs": [
    {
     "data": {
      "text/plain": [
       "((641, 10), (275, 10), (641,), (275,))"
      ]
     },
     "execution_count": 27,
     "metadata": {},
     "output_type": "execute_result"
    }
   ],
   "source": [
    "from sklearn.model_selection import train_test_split\n",
    "X_tr, X_te, y_tr, y_te = train_test_split(X, y, test_size=0.3, stratify=ori_train['survived'], random_state=21)\n",
    "# stratify 는 층을 나누는데 비율로 똑같이 나눠줘라는 뜻\n",
    "# X_tr , X_te 는 feature와 target칼럼이 있고 Y_tr , Y_te는 target 칼럼만 있음\n",
    "X_tr.shape, X_te.shape, y_tr.shape, y_te.shape"
   ]
  },
  {
   "cell_type": "code",
   "execution_count": 28,
   "id": "7f8a7daf-09f5-4472-80e4-9899f448ab11",
   "metadata": {},
   "outputs": [
    {
     "data": {
      "text/plain": [
       "((641, 10), (275, 10), (393, 10))"
      ]
     },
     "execution_count": 28,
     "metadata": {},
     "output_type": "execute_result"
    }
   ],
   "source": [
    "train = X_tr.copy()\n",
    "test = X_te.copy()\n",
    "ori_te = ori_test.copy()\n",
    "\n",
    "train.shape , test.shape , ori_te.shape"
   ]
  },
  {
   "cell_type": "code",
   "execution_count": 29,
   "id": "8a8f0367-8c47-4daf-a34e-24b3f78c8b69",
   "metadata": {
    "tags": []
   },
   "outputs": [],
   "source": [
    "train.drop(['ticket','cabin','name'], axis=1, inplace=True)"
   ]
  },
  {
   "cell_type": "code",
   "execution_count": 30,
   "id": "d36229dd-a1ad-452a-9c24-b29f00ad35ca",
   "metadata": {},
   "outputs": [],
   "source": [
    "test.drop(['ticket','cabin','name'], axis=1, inplace=True)"
   ]
  },
  {
   "cell_type": "code",
   "execution_count": 31,
   "id": "79c404ba-154b-49d9-9792-b1bd59427b8f",
   "metadata": {},
   "outputs": [
    {
     "data": {
      "text/plain": [
       "((393, 10), (393, 10))"
      ]
     },
     "execution_count": 31,
     "metadata": {},
     "output_type": "execute_result"
    }
   ],
   "source": [
    "ori_te.shape , ori_test.shape"
   ]
  },
  {
   "cell_type": "markdown",
   "id": "3166a8ba-2170-46c3-a4db-55fc165be1c5",
   "metadata": {
    "tags": []
   },
   "source": [
    "# *Base ModelV0*"
   ]
  },
  {
   "cell_type": "markdown",
   "id": "8e6d02a7-c120-4840-a105-682a5800971b",
   "metadata": {},
   "source": [
    "### data processing"
   ]
  },
  {
   "cell_type": "markdown",
   "id": "0194b85a-1d6d-4212-aa0f-279a3d2eeb41",
   "metadata": {},
   "source": [
    "#### 결측치 처리"
   ]
  },
  {
   "cell_type": "code",
   "execution_count": 32,
   "id": "95a66bcf-de2c-466d-bb25-90d28550b638",
   "metadata": {},
   "outputs": [
    {
     "data": {
      "text/plain": [
       "pclass        0\n",
       "gender        0\n",
       "age         129\n",
       "sibsp         0\n",
       "parch         0\n",
       "fare          0\n",
       "embarked      0\n",
       "dtype: int64"
      ]
     },
     "execution_count": 32,
     "metadata": {},
     "output_type": "execute_result"
    }
   ],
   "source": [
    "train.isnull().sum()"
   ]
  },
  {
   "cell_type": "code",
   "execution_count": 33,
   "id": "6dcb9d62-6905-49dc-9f83-f5a84dcb3bf5",
   "metadata": {},
   "outputs": [
    {
     "data": {
      "text/plain": [
       "pclass       0\n",
       "gender       0\n",
       "age         51\n",
       "sibsp        0\n",
       "parch        0\n",
       "fare         0\n",
       "embarked     1\n",
       "dtype: int64"
      ]
     },
     "execution_count": 33,
     "metadata": {},
     "output_type": "execute_result"
    }
   ],
   "source": [
    "test.isnull().sum()"
   ]
  },
  {
   "cell_type": "code",
   "execution_count": 34,
   "id": "9d2ae5d4-6055-470c-a4db-0cc9daaf796f",
   "metadata": {},
   "outputs": [
    {
     "data": {
      "text/plain": [
       "pclass        0\n",
       "name          0\n",
       "gender        0\n",
       "age          83\n",
       "sibsp         0\n",
       "parch         0\n",
       "ticket        0\n",
       "fare          1\n",
       "cabin       296\n",
       "embarked      1\n",
       "dtype: int64"
      ]
     },
     "execution_count": 34,
     "metadata": {},
     "output_type": "execute_result"
    }
   ],
   "source": [
    "ori_te.isnull().sum()"
   ]
  },
  {
   "cell_type": "code",
   "execution_count": 35,
   "id": "f19671cc-0382-4836-b6b5-369202a7db6a",
   "metadata": {},
   "outputs": [
    {
     "data": {
      "text/plain": [
       "(28.0, 14.4, 'S')"
      ]
     },
     "execution_count": 35,
     "metadata": {},
     "output_type": "execute_result"
    }
   ],
   "source": [
    "age_median = train['age'].median()\n",
    "fare_median = train['fare'].median()\n",
    "embarked_mode = train['embarked'].mode().values[0]\n",
    "\n",
    "age_median, fare_median, embarked_mode"
   ]
  },
  {
   "cell_type": "code",
   "execution_count": 36,
   "id": "25d2d833-9c4a-417c-8fe1-5a20870daf9f",
   "metadata": {},
   "outputs": [],
   "source": [
    "train['age'].fillna(age_median, inplace=True)\n",
    "test['age'].fillna(age_median, inplace=True)\n",
    "ori_te['age'].fillna(age_median, inplace=True)\n",
    "\n",
    "train['fare'].fillna(fare_median, inplace=True)\n",
    "test['fare'].fillna(fare_median, inplace=True)\n",
    "ori_te['fare'].fillna(fare_median, inplace=True)\n",
    "\n",
    "train['embarked'].fillna(embarked_mode, inplace=True)\n",
    "test['embarked'].fillna(embarked_mode, inplace=True)\n",
    "ori_te['embarked'].fillna(embarked_mode, inplace=True)\n"
   ]
  },
  {
   "cell_type": "markdown",
   "id": "5cc8f339-3016-4b14-b898-7977a4226964",
   "metadata": {},
   "source": [
    "### data encoding"
   ]
  },
  {
   "cell_type": "code",
   "execution_count": 37,
   "id": "f471e8a6-9084-47fc-a7ae-2290b6d0c553",
   "metadata": {},
   "outputs": [],
   "source": [
    "from sklearn.preprocessing import OneHotEncoder"
   ]
  },
  {
   "cell_type": "code",
   "execution_count": 38,
   "id": "870a22cd-4e4c-4c94-9ce6-dd3f912e9bab",
   "metadata": {},
   "outputs": [
    {
     "data": {
      "text/plain": [
       "Index(['pclass', 'gender', 'age', 'sibsp', 'parch', 'fare', 'embarked'], dtype='object')"
      ]
     },
     "execution_count": 38,
     "metadata": {},
     "output_type": "execute_result"
    }
   ],
   "source": [
    "train.columns \n",
    "# train data 중에서 70퍼인 train (641,8)"
   ]
  },
  {
   "cell_type": "code",
   "execution_count": 39,
   "id": "2bd22ad5-2164-4ab4-8e2d-255e611c3f4b",
   "metadata": {},
   "outputs": [
    {
     "data": {
      "text/plain": [
       "['fare', 'sibsp', 'age', 'parch', 'pclass']"
      ]
     },
     "execution_count": 39,
     "metadata": {},
     "output_type": "execute_result"
    }
   ],
   "source": [
    "enc_cols = ['gender', 'embarked'] # 문자형 데이터\n",
    "normal_cols = list(set(train.columns) - set(enc_cols))\n",
    "normal_cols # gender , embarked 를 뺸 있는 list(수치형데이터)"
   ]
  },
  {
   "cell_type": "code",
   "execution_count": 40,
   "id": "f0f9cf4a-2e21-43ec-949a-41f4d4b495e1",
   "metadata": {},
   "outputs": [
    {
     "name": "stdout",
     "output_type": "stream",
     "text": [
      "before: (641, 7) / (275, 7) / (393, 10)\n",
      "after: (641, 10) / (275, 10) / (393, 10)\n"
     ]
    }
   ],
   "source": [
    "enc = OneHotEncoder()\n",
    "\n",
    "tmp_tr = pd.DataFrame(\n",
    "    enc.fit_transform(train[enc_cols]).toarray(), #범주형 encoder 적용시켜서 temp_tr에 저장\n",
    "    columns = enc.get_feature_names_out() # feature name을 뽑아냄 \n",
    ")  \n",
    "enc_tr = pd.concat(\n",
    "    [train[normal_cols].reset_index(drop=True), tmp_tr.reset_index(drop=True)]\n",
    "    , axis=1\n",
    ") \n",
    "# 수치형 데이터(train[normal_cols]) + encoding 된 문자형 데이터(tmp_tr) 를 합쳐서 enc_tr\n",
    "\n",
    "\n",
    "\n",
    "# test (ori_te 에서 나온 te  -> 모델의 학습을 평가(잘했는지 못했는지))\n",
    "tmp_te = pd.DataFrame(\n",
    "    enc.transform(test[enc_cols]).toarray(), \n",
    "    columns = enc.get_feature_names_out()\n",
    ")\n",
    "enc_te = pd.concat(\n",
    "    [test[normal_cols].reset_index(drop=True), tmp_te.reset_index(drop=True)]\n",
    "    , axis=1\n",
    ")\n",
    "\n",
    "\n",
    "# ori_test\n",
    "tmp_te = pd.DataFrame(\n",
    "    enc.transform(ori_te[enc_cols]).toarray(), \n",
    "    columns = enc.get_feature_names_out()\n",
    ")\n",
    "enc_ori_te = pd.concat(\n",
    "    [ori_te[normal_cols].reset_index(drop=True), tmp_te.reset_index(drop=True)]\n",
    "    , axis=1\n",
    ")\n",
    "print(f'before: {train.shape} / {test.shape} / {ori_te.shape}')\n",
    "print(f'after: {enc_tr.shape} / {enc_te.shape} / {enc_ori_te.shape}') # gender가 두개로 , embarked가 3개로 "
   ]
  },
  {
   "cell_type": "markdown",
   "id": "48433b2b-6450-4561-b0cc-195148b25be6",
   "metadata": {},
   "source": [
    "### Training"
   ]
  },
  {
   "cell_type": "code",
   "execution_count": 41,
   "id": "5b2d8561-64bc-4ee1-b285-e1a5a4733c31",
   "metadata": {},
   "outputs": [],
   "source": [
    "from sklearn.ensemble import RandomForestClassifier\n",
    "from sklearn.tree import DecisionTreeClassifier"
   ]
  },
  {
   "cell_type": "code",
   "execution_count": 42,
   "id": "fee78cd1-44fa-4c0a-8b33-700b58b89703",
   "metadata": {},
   "outputs": [
    {
     "name": "stdout",
     "output_type": "stream",
     "text": [
      "(641, 10) / (641,)\n"
     ]
    },
    {
     "data": {
      "text/plain": [
       "RandomForestClassifier(random_state=21)"
      ]
     },
     "execution_count": 42,
     "metadata": {},
     "output_type": "execute_result"
    }
   ],
   "source": [
    "modelV0 = RandomForestClassifier(random_state=21)\n",
    "\n",
    "print(f'{enc_tr.shape} / {y_tr.shape}')\n",
    "modelV0.fit(enc_tr, y_tr) # 적합 시킨다 "
   ]
  },
  {
   "cell_type": "markdown",
   "id": "a7cf01ed-1688-4e57-8d9e-31a2d95018dd",
   "metadata": {},
   "source": [
    "### Evaluation"
   ]
  },
  {
   "cell_type": "code",
   "execution_count": 43,
   "id": "054ea3a8-52f1-40a8-8bbb-16f5a51003f4",
   "metadata": {},
   "outputs": [
    {
     "data": {
      "text/plain": [
       "(0.982839313572543, 0.8145454545454546)"
      ]
     },
     "execution_count": 43,
     "metadata": {},
     "output_type": "execute_result"
    }
   ],
   "source": [
    "score_tr = modelV0.score(enc_tr, y_tr) # 인코딩된 train 데이터로 Y_tr 타겟팅 \n",
    "score_te = modelV0.score(enc_te, y_te) # 인코딩된 test 데이터로 Y_te 타겟팅\n",
    "\n",
    "score_tr, score_te  "
   ]
  },
  {
   "cell_type": "code",
   "execution_count": 44,
   "id": "41962d3c-59f3-4992-9254-bbd4a26be59a",
   "metadata": {},
   "outputs": [
    {
     "name": "stdout",
     "output_type": "stream",
     "text": [
      "model: 0.8926282051282051\n"
     ]
    }
   ],
   "source": [
    "from sklearn.metrics import roc_curve, auc \n",
    "\n",
    "y_pred = modelV0.predict_proba(enc_te)[:,1] # 인코딩된 모델을 예측함\n",
    "# 학습률 평가 \n",
    "fpr, tpr, thresholds = roc_curve(y_te,y_pred)\n",
    "auc_te = auc(fpr, tpr)\n",
    "print(f'model: {auc_te}')"
   ]
  },
  {
   "cell_type": "code",
   "execution_count": 45,
   "id": "431adc23-0e31-4b54-a371-8626d01f38de",
   "metadata": {},
   "outputs": [],
   "source": [
    "ori_te_pred = modelV0.predict_proba(enc_ori_te)[:,1] # enc_ori_te (실제 test 데이터에 적용을 시킴)"
   ]
  },
  {
   "cell_type": "code",
   "execution_count": 46,
   "id": "7a71e083-7450-428e-88d4-06a80cf3b23c",
   "metadata": {
    "tags": []
   },
   "outputs": [
    {
     "name": "stdout",
     "output_type": "stream",
     "text": [
      "(10, 2)\n"
     ]
    },
    {
     "data": {
      "text/html": [
       "<div>\n",
       "<style scoped>\n",
       "    .dataframe tbody tr th:only-of-type {\n",
       "        vertical-align: middle;\n",
       "    }\n",
       "\n",
       "    .dataframe tbody tr th {\n",
       "        vertical-align: top;\n",
       "    }\n",
       "\n",
       "    .dataframe thead th {\n",
       "        text-align: right;\n",
       "    }\n",
       "</style>\n",
       "<table border=\"1\" class=\"dataframe\">\n",
       "  <thead>\n",
       "    <tr style=\"text-align: right;\">\n",
       "      <th></th>\n",
       "      <th>index</th>\n",
       "      <th>0</th>\n",
       "    </tr>\n",
       "  </thead>\n",
       "  <tbody>\n",
       "    <tr>\n",
       "      <th>0</th>\n",
       "      <td>gender_male</td>\n",
       "      <td>0.255023</td>\n",
       "    </tr>\n",
       "    <tr>\n",
       "      <th>1</th>\n",
       "      <td>fare</td>\n",
       "      <td>0.206527</td>\n",
       "    </tr>\n",
       "    <tr>\n",
       "      <th>2</th>\n",
       "      <td>age</td>\n",
       "      <td>0.188579</td>\n",
       "    </tr>\n",
       "    <tr>\n",
       "      <th>3</th>\n",
       "      <td>gender_female</td>\n",
       "      <td>0.182717</td>\n",
       "    </tr>\n",
       "    <tr>\n",
       "      <th>4</th>\n",
       "      <td>pclass</td>\n",
       "      <td>0.061065</td>\n",
       "    </tr>\n",
       "    <tr>\n",
       "      <th>5</th>\n",
       "      <td>sibsp</td>\n",
       "      <td>0.044225</td>\n",
       "    </tr>\n",
       "    <tr>\n",
       "      <th>6</th>\n",
       "      <td>parch</td>\n",
       "      <td>0.032670</td>\n",
       "    </tr>\n",
       "    <tr>\n",
       "      <th>7</th>\n",
       "      <td>embarked_S</td>\n",
       "      <td>0.011767</td>\n",
       "    </tr>\n",
       "    <tr>\n",
       "      <th>8</th>\n",
       "      <td>embarked_C</td>\n",
       "      <td>0.009472</td>\n",
       "    </tr>\n",
       "    <tr>\n",
       "      <th>9</th>\n",
       "      <td>embarked_Q</td>\n",
       "      <td>0.007954</td>\n",
       "    </tr>\n",
       "  </tbody>\n",
       "</table>\n",
       "</div>"
      ],
      "text/plain": [
       "           index         0\n",
       "0    gender_male  0.255023\n",
       "1           fare  0.206527\n",
       "2            age  0.188579\n",
       "3  gender_female  0.182717\n",
       "4         pclass  0.061065\n",
       "5          sibsp  0.044225\n",
       "6          parch  0.032670\n",
       "7     embarked_S  0.011767\n",
       "8     embarked_C  0.009472\n",
       "9     embarked_Q  0.007954"
      ]
     },
     "execution_count": 46,
     "metadata": {},
     "output_type": "execute_result"
    }
   ],
   "source": [
    "df_feature_importances = pd.DataFrame(modelV0.feature_importances_, enc_tr.columns).sort_values(by=[0], ascending=False).reset_index()\n",
    "\n",
    "print(f'{df_feature_importances.shape}')\n",
    "df_feature_importances"
   ]
  },
  {
   "cell_type": "code",
   "execution_count": 47,
   "id": "cc563887-91a0-4519-a4e6-10b11e454037",
   "metadata": {
    "tags": []
   },
   "outputs": [],
   "source": [
    "args.results.append(\n",
    "    {\n",
    "        'model': 'modelV0',\n",
    "        'score_tr': score_tr,\n",
    "        'score_te': score_te,\n",
    "        'auc_te': auc_te,\n",
    "        'ori_te_pred': ori_te_pred,\n",
    "        'len_features': X_tr.shape[1],\n",
    "        'feaute_importances': list(df_feature_importances['index'].values[:X_tr.shape[1]]),\n",
    "        'create_dt': '0330'\n",
    "    }\n",
    ")"
   ]
  },
  {
   "cell_type": "markdown",
   "id": "675e1256-dd87-4625-90b4-3b7b5dc25da3",
   "metadata": {
    "tags": []
   },
   "source": [
    "# *Base ModelV1*"
   ]
  },
  {
   "cell_type": "code",
   "execution_count": 48,
   "id": "37e757fa-a734-4cf0-851b-56c7f2d4061d",
   "metadata": {},
   "outputs": [
    {
     "data": {
      "text/plain": [
       "((641, 10), (275, 10), (393, 10))"
      ]
     },
     "execution_count": 48,
     "metadata": {},
     "output_type": "execute_result"
    }
   ],
   "source": [
    "train = X_tr.copy() \n",
    "test = X_te.copy()\n",
    "ori_te = ori_test.copy()\n",
    "\n",
    "train.shape, test.shape, ori_te.shape"
   ]
  },
  {
   "cell_type": "markdown",
   "id": "6d99f485-9a81-44c2-ab57-3d050d0a39be",
   "metadata": {
    "tags": []
   },
   "source": [
    "### Data preprocessing"
   ]
  },
  {
   "cell_type": "code",
   "execution_count": 49,
   "id": "2d3173f2-0c2e-473b-859f-ee82eaf7970c",
   "metadata": {
    "tags": []
   },
   "outputs": [
    {
     "name": "stdout",
     "output_type": "stream",
     "text": [
      "before: (641, 10) / (275, 10)\n",
      "after: (641, 7) / (275, 7)\n"
     ]
    }
   ],
   "source": [
    "print(f'before: {train.shape} / {test.shape}')\n",
    "drop_cols = ['name', 'ticket', 'cabin']\n",
    "\n",
    "train.drop(drop_cols, axis=1, inplace=True)\n",
    "test.drop(drop_cols, axis=1, inplace=True)\n",
    "ori_te.drop(drop_cols, axis=1, inplace=True)\n",
    "\n",
    "\n",
    "print(f'after: {train.shape} / {test.shape}')"
   ]
  },
  {
   "cell_type": "markdown",
   "id": "962e1f86-b608-453b-a3d2-1b0d19239074",
   "metadata": {
    "tags": []
   },
   "source": [
    "#### 결측치 처리"
   ]
  },
  {
   "cell_type": "code",
   "execution_count": 50,
   "id": "39da240a-70d4-4d6f-8e65-ad4344dcfb5b",
   "metadata": {},
   "outputs": [
    {
     "data": {
      "text/plain": [
       "(28.0, 14.4, 'S')"
      ]
     },
     "execution_count": 50,
     "metadata": {},
     "output_type": "execute_result"
    }
   ],
   "source": [
    "age_median = train['age'].median()\n",
    "fare_median = train['fare'].median()\n",
    "embarked_mode = train['embarked'].mode().values[0]\n",
    "\n",
    "age_median, fare_median, embarked_mode"
   ]
  },
  {
   "cell_type": "code",
   "execution_count": 51,
   "id": "9b251440-56ab-420c-83ca-918f917def25",
   "metadata": {},
   "outputs": [
    {
     "data": {
      "text/plain": [
       "(0, 0, 0)"
      ]
     },
     "execution_count": 51,
     "metadata": {},
     "output_type": "execute_result"
    }
   ],
   "source": [
    "train['age'].fillna(age_median, inplace=True)\n",
    "test['age'].fillna(age_median, inplace=True)\n",
    "ori_te['age'].fillna(age_median, inplace=True)\n",
    "\n",
    "train['fare'].fillna(fare_median, inplace=True)\n",
    "test['fare'].fillna(fare_median, inplace=True)\n",
    "ori_te['fare'].fillna(fare_median, inplace=True)\n",
    "\n",
    "train['embarked'].fillna(embarked_mode, inplace=True)\n",
    "test['embarked'].fillna(embarked_mode, inplace=True)\n",
    "ori_te['embarked'].fillna(embarked_mode, inplace=True)\n",
    "\n",
    "train.isnull().sum().sum(), test.isnull().sum().sum(), ori_te.isnull().sum().sum()"
   ]
  },
  {
   "cell_type": "markdown",
   "id": "b791d967-b94c-4119-9966-f3e0e8cffac8",
   "metadata": {},
   "source": [
    "### data encoding"
   ]
  },
  {
   "cell_type": "code",
   "execution_count": 52,
   "id": "2a9e221f-4248-4b69-aa72-7578bcb3aeee",
   "metadata": {},
   "outputs": [
    {
     "data": {
      "text/plain": [
       "['fare', 'sibsp', 'age', 'parch', 'pclass']"
      ]
     },
     "execution_count": 52,
     "metadata": {},
     "output_type": "execute_result"
    }
   ],
   "source": [
    "enc_cols = ['gender', 'embarked']\n",
    "normal_cols = list(set(train.columns) - set(enc_cols))\n",
    "normal_cols"
   ]
  },
  {
   "cell_type": "code",
   "execution_count": 53,
   "id": "8a554204-f391-4e20-8478-3f99c40d2b8b",
   "metadata": {},
   "outputs": [
    {
     "name": "stdout",
     "output_type": "stream",
     "text": [
      "before: (641, 7) / (275, 7) / (393, 7)\n",
      "after: (641, 10) / (275, 10) / (393, 10)\n"
     ]
    }
   ],
   "source": [
    "enc = OneHotEncoder()\n",
    "\n",
    "tmp_tr = pd.DataFrame(\n",
    "    enc.fit_transform(train[enc_cols]).toarray(), #범주형 encoder 적용시켜서 temp_tr에 저장\n",
    "    columns = enc.get_feature_names_out() # feature name을 뽑아냄 \n",
    ")  \n",
    "enc_tr = pd.concat(\n",
    "    [train[normal_cols].reset_index(drop=True), tmp_tr.reset_index(drop=True)]\n",
    "    , axis=1\n",
    ") \n",
    "# 수치형 데이터(train[normal_cols]) + encoding 된 문자형 데이터(tmp_tr) 를 합쳐서 enc_tr\n",
    "\n",
    "\n",
    "\n",
    "# test (ori_te 에서 나온 te  -> 모델의 학습을 평가(잘했는지 못했는지))\n",
    "tmp_te = pd.DataFrame(\n",
    "    enc.transform(test[enc_cols]).toarray(), \n",
    "    columns = enc.get_feature_names_out()\n",
    ")\n",
    "enc_te = pd.concat(\n",
    "    [test[normal_cols].reset_index(drop=True), tmp_te.reset_index(drop=True)]\n",
    "    , axis=1\n",
    ")\n",
    "\n",
    "\n",
    "# ori_test\n",
    "tmp_te = pd.DataFrame(\n",
    "    enc.transform(ori_te[enc_cols]).toarray(), \n",
    "    columns = enc.get_feature_names_out()\n",
    ")\n",
    "enc_ori_te = pd.concat(\n",
    "    [ori_te[normal_cols].reset_index(drop=True), tmp_te.reset_index(drop=True)]\n",
    "    , axis=1\n",
    ")\n",
    "print(f'before: {train.shape} / {test.shape} / {ori_te.shape}')\n",
    "print(f'after: {enc_tr.shape} / {enc_te.shape} / {enc_ori_te.shape}')\n",
    "# gender가 두개로 , embarked가 3개로 "
   ]
  },
  {
   "cell_type": "markdown",
   "id": "57777dae-76d9-4a62-b8ab-ebe2359134af",
   "metadata": {},
   "source": [
    "### Scaler"
   ]
  },
  {
   "cell_type": "code",
   "execution_count": 54,
   "id": "3484d944-3b2b-47d2-8de0-6f50bf1866c6",
   "metadata": {},
   "outputs": [
    {
     "data": {
      "text/plain": [
       "Index(['fare', 'sibsp', 'age', 'parch', 'pclass', 'gender_female',\n",
       "       'gender_male', 'embarked_C', 'embarked_Q', 'embarked_S'],\n",
       "      dtype='object')"
      ]
     },
     "execution_count": 54,
     "metadata": {},
     "output_type": "execute_result"
    }
   ],
   "source": [
    "enc_tr.columns"
   ]
  },
  {
   "cell_type": "code",
   "execution_count": 55,
   "id": "9245c073-e19e-4f39-af3d-60000f7b99ba",
   "metadata": {},
   "outputs": [
    {
     "data": {
      "text/plain": [
       "['sibsp',\n",
       " 'embarked_C',\n",
       " 'gender_female',\n",
       " 'embarked_S',\n",
       " 'embarked_Q',\n",
       " 'parch',\n",
       " 'pclass',\n",
       " 'gender_male']"
      ]
     },
     "execution_count": 55,
     "metadata": {},
     "output_type": "execute_result"
    }
   ],
   "source": [
    "scaling_cols = ['age', 'fare']\n",
    "not_scaling_cols = list(set(enc_tr.columns) - set(scaling_cols))\n",
    "not_scaling_cols "
   ]
  },
  {
   "cell_type": "code",
   "execution_count": 56,
   "id": "90421504-0d3c-435a-bdfd-ba0bb544c06a",
   "metadata": {},
   "outputs": [],
   "source": [
    "from sklearn.preprocessing import StandardScaler"
   ]
  },
  {
   "cell_type": "code",
   "execution_count": 57,
   "id": "d94e52dc-70d4-4157-b799-f3b630a40dd9",
   "metadata": {},
   "outputs": [],
   "source": [
    "std = StandardScaler()\n",
    "\n",
    "_scaled_tr = std.fit_transform(enc_tr[scaling_cols])\n",
    "_scaled_te = std.transform(enc_te[scaling_cols])\n",
    "_scaled_ori_te = std.transform(enc_ori_te[scaling_cols])"
   ]
  },
  {
   "cell_type": "code",
   "execution_count": 58,
   "id": "4c5a65b8-1f19-413c-842c-b67b716370b5",
   "metadata": {},
   "outputs": [
    {
     "name": "stdout",
     "output_type": "stream",
     "text": [
      "before: (641, 10) / (275, 10) / (393, 10)\n",
      "after: (641, 10) / (275, 10) / (393, 10)\n"
     ]
    }
   ],
   "source": [
    "print(f'before: {enc_tr.shape} / {enc_te.shape} / {enc_ori_te.shape}')\n",
    "# train\n",
    "tmp_tr = pd.DataFrame(\n",
    "    _scaled_tr, \n",
    "    columns = scaling_cols\n",
    ")\n",
    "scaled_tr = pd.concat(\n",
    "    [enc_tr[not_scaling_cols].reset_index(drop=True), tmp_tr.reset_index(drop=True)]\n",
    "    , axis=1\n",
    ").reset_index(drop=True)\n",
    "\n",
    "# test\n",
    "tmp_te = pd.DataFrame(\n",
    "    _scaled_te, \n",
    "    columns = scaling_cols\n",
    ")\n",
    "scaled_te = pd.concat(\n",
    "    [enc_te[not_scaling_cols].reset_index(drop=True), tmp_te.reset_index(drop=True)]\n",
    "    , axis=1\n",
    ").reset_index(drop=True)\n",
    "\n",
    "# ori_test\n",
    "tmp_te = pd.DataFrame(\n",
    "    _scaled_ori_te, \n",
    "    columns = scaling_cols\n",
    ")\n",
    "scaled_ori_te = pd.concat(\n",
    "    [enc_ori_te[not_scaling_cols].reset_index(drop=True), tmp_te.reset_index(drop=True)]\n",
    "    , axis=1\n",
    ").reset_index(drop=True)\n",
    "\n",
    "\n",
    "print(f'after: {scaled_tr.shape} / {scaled_te.shape} / {scaled_ori_te.shape}')"
   ]
  },
  {
   "cell_type": "markdown",
   "id": "0816b960-5ed1-4a09-88e1-cb4ecfcaeb0a",
   "metadata": {},
   "source": [
    "### Training"
   ]
  },
  {
   "cell_type": "code",
   "execution_count": 59,
   "id": "9f344985-880b-439e-850d-ff547147570a",
   "metadata": {},
   "outputs": [
    {
     "data": {
      "text/plain": [
       "RandomForestClassifier(random_state=21)"
      ]
     },
     "execution_count": 59,
     "metadata": {},
     "output_type": "execute_result"
    }
   ],
   "source": [
    "from sklearn.ensemble import RandomForestClassifier\n",
    "\n",
    "modelV1 = RandomForestClassifier(random_state=21)\n",
    "\n",
    "modelV1.fit(scaled_tr, y_tr)"
   ]
  },
  {
   "cell_type": "markdown",
   "id": "eb215102-4cc0-45fe-86ff-6af856e5bbb7",
   "metadata": {},
   "source": [
    "### Evaluation"
   ]
  },
  {
   "cell_type": "code",
   "execution_count": 60,
   "id": "37421934-47e9-44ce-9ae9-e4a9a75bc98a",
   "metadata": {},
   "outputs": [
    {
     "data": {
      "text/plain": [
       "(0.982839313572543, 0.8254545454545454)"
      ]
     },
     "execution_count": 60,
     "metadata": {},
     "output_type": "execute_result"
    }
   ],
   "source": [
    "score_tr = modelV1.score(scaled_tr, y_tr)\n",
    "score_te = modelV1.score(scaled_te, y_te) \n",
    "\n",
    "score_tr, score_te  "
   ]
  },
  {
   "cell_type": "code",
   "execution_count": 61,
   "id": "e8493c28-a3ba-4456-9e05-36db0c6eb13a",
   "metadata": {},
   "outputs": [
    {
     "name": "stdout",
     "output_type": "stream",
     "text": [
      "model: 0.893921502474134\n"
     ]
    }
   ],
   "source": [
    "from sklearn.metrics import roc_curve, auc \n",
    "\n",
    "y_pred = modelV1.predict_proba(scaled_te)[:,1]\n",
    "fpr, tpr, thresholds = roc_curve(y_te,y_pred)\n",
    "auc_te = auc(fpr, tpr)\n",
    "print(f'model: {auc_te}')"
   ]
  },
  {
   "cell_type": "code",
   "execution_count": 62,
   "id": "4084829c-535f-495e-9629-65966f9a6efc",
   "metadata": {
    "tags": []
   },
   "outputs": [],
   "source": [
    "ori_te_pred = modelV1.predict_proba(scaled_ori_te)[:,1]"
   ]
  },
  {
   "cell_type": "code",
   "execution_count": 63,
   "id": "4c8ac77d-0327-4a97-852e-19b46e06c8db",
   "metadata": {},
   "outputs": [
    {
     "name": "stdout",
     "output_type": "stream",
     "text": [
      "(10, 2)\n"
     ]
    }
   ],
   "source": [
    "df_feature_importances = pd.DataFrame(modelV1.feature_importances_, scaled_tr.columns).sort_values(by=[0], ascending=False).reset_index()\n",
    "print(f'{df_feature_importances.shape}')"
   ]
  },
  {
   "cell_type": "code",
   "execution_count": 64,
   "id": "2a0edd15-7a72-4df8-aa09-765c7165d780",
   "metadata": {
    "tags": []
   },
   "outputs": [],
   "source": [
    "args.results.append(\n",
    "    {\n",
    "        'model': 'modelV1',\n",
    "        'score_tr': score_tr,\n",
    "        'score_te': score_te,\n",
    "        'auc_te': auc_te,\n",
    "        'ori_te_pred': ori_te_pred,\n",
    "        'len_features': X_tr.shape[1],\n",
    "        'feaute_importances': list(df_feature_importances['index'].values[:X_tr.shape[1]]),\n",
    "        'create_dt': '0330'\n",
    "    }\n",
    ")"
   ]
  },
  {
   "cell_type": "markdown",
   "id": "1ca52501-a879-48f8-ba18-a0bc4612d235",
   "metadata": {},
   "source": [
    "# Base ModelV2"
   ]
  },
  {
   "cell_type": "code",
   "execution_count": 65,
   "id": "96ea6df8-adb8-4f4b-a4fe-45f33a51e963",
   "metadata": {},
   "outputs": [
    {
     "data": {
      "text/plain": [
       "((641, 10), (275, 10), (393, 10))"
      ]
     },
     "execution_count": 65,
     "metadata": {},
     "output_type": "execute_result"
    }
   ],
   "source": [
    "train = X_tr.copy() \n",
    "test = X_te.copy()\n",
    "ori_te = ori_test.copy()\n",
    "\n",
    "train.shape, test.shape, ori_te.shape"
   ]
  },
  {
   "cell_type": "markdown",
   "id": "26341b97-b964-4d89-b2f3-057162488164",
   "metadata": {},
   "source": [
    "### Data processing"
   ]
  },
  {
   "cell_type": "code",
   "execution_count": 66,
   "id": "b9cb6f19-d0d2-48b6-b968-7c3ab52cd35b",
   "metadata": {},
   "outputs": [
    {
     "name": "stdout",
     "output_type": "stream",
     "text": [
      "before: (641, 10) / (275, 10)\n",
      "after: (641, 7) / (275, 7)\n"
     ]
    }
   ],
   "source": [
    "print(f'before: {train.shape} / {test.shape}')\n",
    "drop_cols = ['name', 'ticket', 'cabin']\n",
    "\n",
    "train.drop(drop_cols, axis=1, inplace=True)\n",
    "test.drop(drop_cols, axis=1, inplace=True)\n",
    "ori_te.drop(drop_cols, axis=1, inplace=True)\n",
    "\n",
    "print(f'after: {train.shape} / {test.shape}')"
   ]
  },
  {
   "cell_type": "markdown",
   "id": "62783b44-0982-43e0-89b8-8a6d96b70c16",
   "metadata": {},
   "source": [
    "#### 결측치 처리"
   ]
  },
  {
   "cell_type": "code",
   "execution_count": 67,
   "id": "977d2230-0380-4c17-a233-51ab95ac93ff",
   "metadata": {},
   "outputs": [
    {
     "data": {
      "text/plain": [
       "(0, 0, 0)"
      ]
     },
     "execution_count": 67,
     "metadata": {},
     "output_type": "execute_result"
    }
   ],
   "source": [
    "age_median = train['age'].median()\n",
    "fare_median = train['fare'].median()\n",
    "embarked_mode = train['embarked'].mode().values[0]\n",
    "\n",
    "train['age'].fillna(age_median, inplace=True)\n",
    "test['age'].fillna(age_median, inplace=True)\n",
    "ori_te['age'].fillna(age_median, inplace=True)\n",
    "\n",
    "train['fare'].fillna(fare_median, inplace=True)\n",
    "test['fare'].fillna(fare_median, inplace=True)\n",
    "ori_te['fare'].fillna(fare_median, inplace=True)\n",
    "\n",
    "train['embarked'].fillna(embarked_mode, inplace=True)\n",
    "test['embarked'].fillna(embarked_mode, inplace=True)\n",
    "ori_te['embarked'].fillna(embarked_mode, inplace=True)\n",
    "\n",
    "train.isnull().sum().sum(), test.isnull().sum().sum(), ori_te.isnull().sum().sum()"
   ]
  },
  {
   "cell_type": "markdown",
   "id": "ad004831-82f3-4ae2-a232-165037c86cc6",
   "metadata": {},
   "source": [
    "### scaler"
   ]
  },
  {
   "cell_type": "code",
   "execution_count": 68,
   "id": "7f807909-7c47-4206-924e-62dfcdf2a39d",
   "metadata": {},
   "outputs": [
    {
     "name": "stdout",
     "output_type": "stream",
     "text": [
      "before: (641, 10) / (275, 10)\n",
      "after: (641, 10) / (275, 10)\n"
     ]
    }
   ],
   "source": [
    "scaling_cols = ['age', 'fare']\n",
    "not_scaling_cols = list(set(enc_tr.columns) - set(scaling_cols))\n",
    "\n",
    "from sklearn.preprocessing import RobustScaler\n",
    "\n",
    "rbs = RobustScaler()\n",
    "_scaled_tr = rbs.fit_transform(enc_tr[scaling_cols])\n",
    "_scaled_te = rbs.transform(enc_te[scaling_cols])\n",
    "_scaled_ori_te = rbs.transform(enc_ori_te[scaling_cols])\n",
    "\n",
    "print(f'before: {enc_tr.shape} / {enc_te.shape}')\n",
    "# train\n",
    "tmp_tr = pd.DataFrame(\n",
    "    _scaled_tr, \n",
    "    columns = scaling_cols\n",
    ")\n",
    "scaled_tr = pd.concat(\n",
    "    [enc_tr[not_scaling_cols].reset_index(drop=True), tmp_tr.reset_index(drop=True)]\n",
    "    , axis=1\n",
    ").reset_index(drop=True)\n",
    "# test\n",
    "tmp_te = pd.DataFrame(\n",
    "    _scaled_te, \n",
    "    columns = scaling_cols\n",
    ")\n",
    "scaled_te = pd.concat(\n",
    "    [enc_te[not_scaling_cols].reset_index(drop=True), tmp_te.reset_index(drop=True)]\n",
    "    , axis=1\n",
    ").reset_index(drop=True)\n",
    "# ori_test\n",
    "tmp_te = pd.DataFrame(\n",
    "    _scaled_ori_te, \n",
    "    columns = scaling_cols\n",
    ")\n",
    "scaled_ori_te = pd.concat(\n",
    "    [enc_ori_te[not_scaling_cols].reset_index(drop=True), tmp_te.reset_index(drop=True)]\n",
    "    , axis=1\n",
    ").reset_index(drop=True)\n",
    "\n",
    "print(f'after: {scaled_tr.shape} / {scaled_te.shape}')"
   ]
  },
  {
   "cell_type": "code",
   "execution_count": 69,
   "id": "35c0853b-a1df-4637-8fda-6ac8f69e9b45",
   "metadata": {},
   "outputs": [
    {
     "data": {
      "text/plain": [
       "((641, 10), (275, 10), (393, 10))"
      ]
     },
     "execution_count": 69,
     "metadata": {},
     "output_type": "execute_result"
    }
   ],
   "source": [
    "scaled_tr.shape, scaled_te.shape, scaled_ori_te.shape"
   ]
  },
  {
   "cell_type": "markdown",
   "id": "9d1a972c-caf9-4b60-8f59-9e38ca97470a",
   "metadata": {},
   "source": [
    "### Training"
   ]
  },
  {
   "cell_type": "code",
   "execution_count": 70,
   "id": "7b6d6a7b-8be6-4aac-9882-cfa38b6158b3",
   "metadata": {},
   "outputs": [
    {
     "data": {
      "text/plain": [
       "RandomForestClassifier(random_state=21)"
      ]
     },
     "execution_count": 70,
     "metadata": {},
     "output_type": "execute_result"
    }
   ],
   "source": [
    "from sklearn.tree import DecisionTreeClassifier\n",
    "\n",
    "modelV2 = RandomForestClassifier(random_state=21)\n",
    "\n",
    "modelV2.fit(scaled_tr, y_tr)"
   ]
  },
  {
   "cell_type": "markdown",
   "id": "4d0c2aa5-50c6-44bd-a8ab-f9ab0d76d3c1",
   "metadata": {},
   "source": [
    "### Evaluation"
   ]
  },
  {
   "cell_type": "code",
   "execution_count": 71,
   "id": "a330a3d5-87f4-443f-a2a0-cd363a4fc416",
   "metadata": {},
   "outputs": [
    {
     "data": {
      "text/plain": [
       "(0.982839313572543, 0.8218181818181818)"
      ]
     },
     "execution_count": 71,
     "metadata": {},
     "output_type": "execute_result"
    }
   ],
   "source": [
    "score_tr = modelV2.score(scaled_tr, y_tr)\n",
    "score_te = modelV2.score(scaled_te, y_te) \n",
    "\n",
    "score_tr, score_te  "
   ]
  },
  {
   "cell_type": "code",
   "execution_count": 72,
   "id": "8685390e-0f09-4d06-a4b0-c0a380f46ba8",
   "metadata": {},
   "outputs": [
    {
     "name": "stdout",
     "output_type": "stream",
     "text": [
      "model: 0.8947087269455691\n"
     ]
    }
   ],
   "source": [
    "from sklearn.metrics import roc_curve, auc \n",
    "\n",
    "y_pred = modelV2.predict_proba(scaled_te)[:,1]\n",
    "fpr, tpr, thresholds = roc_curve(y_te,y_pred)\n",
    "auc_te = auc(fpr, tpr)\n",
    "print(f'model: {auc_te}')"
   ]
  },
  {
   "cell_type": "code",
   "execution_count": 73,
   "id": "2354cf23-e4dc-46b0-bbca-9760446dbeab",
   "metadata": {},
   "outputs": [],
   "source": [
    "ori_te_pred = modelV2.predict_proba(scaled_ori_te)[:,1]"
   ]
  },
  {
   "cell_type": "code",
   "execution_count": 74,
   "id": "d469d0c0-7ab8-4732-9c27-19fddb28e8fb",
   "metadata": {},
   "outputs": [
    {
     "name": "stdout",
     "output_type": "stream",
     "text": [
      "(10, 2)\n"
     ]
    }
   ],
   "source": [
    "df_feature_importances = pd.DataFrame(modelV2.feature_importances_, scaled_tr.columns).sort_values(by=[0], ascending=False).reset_index()\n",
    "print(f'{df_feature_importances.shape}')"
   ]
  },
  {
   "cell_type": "code",
   "execution_count": 75,
   "id": "82c2bafe-0037-41aa-97cd-f97cfdcddb4b",
   "metadata": {},
   "outputs": [],
   "source": [
    "args.results.append(\n",
    "    {\n",
    "        'model': 'modelV2',\n",
    "        'score_tr': score_tr,\n",
    "        'score_te': score_te,\n",
    "        'auc_te': auc_te,\n",
    "        'ori_te_pred': ori_te_pred,\n",
    "        'len_features': X_tr.shape[1],\n",
    "        'feaute_importances': list(df_feature_importances['index'].values[:X_tr.shape[1]]),\n",
    "        'create_dt': '0330'\n",
    "    }\n",
    ")"
   ]
  },
  {
   "cell_type": "markdown",
   "id": "76c2184d-c053-4f12-aaac-ada6cae4efff",
   "metadata": {},
   "source": [
    "# Submission"
   ]
  },
  {
   "cell_type": "code",
   "execution_count": 76,
   "id": "7592c621-8b0c-412a-ba1d-a3640b9e33fe",
   "metadata": {},
   "outputs": [
    {
     "data": {
      "text/html": [
       "<div>\n",
       "<style scoped>\n",
       "    .dataframe tbody tr th:only-of-type {\n",
       "        vertical-align: middle;\n",
       "    }\n",
       "\n",
       "    .dataframe tbody tr th {\n",
       "        vertical-align: top;\n",
       "    }\n",
       "\n",
       "    .dataframe thead th {\n",
       "        text-align: right;\n",
       "    }\n",
       "</style>\n",
       "<table border=\"1\" class=\"dataframe\">\n",
       "  <thead>\n",
       "    <tr style=\"text-align: right;\">\n",
       "      <th></th>\n",
       "      <th>model</th>\n",
       "      <th>score_tr</th>\n",
       "      <th>score_te</th>\n",
       "      <th>auc_te</th>\n",
       "      <th>ori_te_pred</th>\n",
       "      <th>len_features</th>\n",
       "      <th>feaute_importances</th>\n",
       "      <th>create_dt</th>\n",
       "    </tr>\n",
       "  </thead>\n",
       "  <tbody>\n",
       "    <tr>\n",
       "      <th>2</th>\n",
       "      <td>modelV2</td>\n",
       "      <td>0.982839</td>\n",
       "      <td>0.821818</td>\n",
       "      <td>0.894709</td>\n",
       "      <td>[0.74, 0.99, 1.0, 0.003333333333333333, 0.91, ...</td>\n",
       "      <td>10</td>\n",
       "      <td>[gender_female, gender_male, fare, age, pclass...</td>\n",
       "      <td>0330</td>\n",
       "    </tr>\n",
       "    <tr>\n",
       "      <th>1</th>\n",
       "      <td>modelV1</td>\n",
       "      <td>0.982839</td>\n",
       "      <td>0.825455</td>\n",
       "      <td>0.893922</td>\n",
       "      <td>[0.74, 0.99, 1.0, 0.003333333333333333, 0.91, ...</td>\n",
       "      <td>10</td>\n",
       "      <td>[gender_female, gender_male, fare, age, pclass...</td>\n",
       "      <td>0330</td>\n",
       "    </tr>\n",
       "    <tr>\n",
       "      <th>0</th>\n",
       "      <td>modelV0</td>\n",
       "      <td>0.982839</td>\n",
       "      <td>0.814545</td>\n",
       "      <td>0.892628</td>\n",
       "      <td>[0.72, 0.98, 1.0, 0.003333333333333333, 0.96, ...</td>\n",
       "      <td>10</td>\n",
       "      <td>[gender_male, fare, age, gender_female, pclass...</td>\n",
       "      <td>0330</td>\n",
       "    </tr>\n",
       "  </tbody>\n",
       "</table>\n",
       "</div>"
      ],
      "text/plain": [
       "     model  score_tr  score_te    auc_te  \\\n",
       "2  modelV2  0.982839  0.821818  0.894709   \n",
       "1  modelV1  0.982839  0.825455  0.893922   \n",
       "0  modelV0  0.982839  0.814545  0.892628   \n",
       "\n",
       "                                         ori_te_pred  len_features  \\\n",
       "2  [0.74, 0.99, 1.0, 0.003333333333333333, 0.91, ...            10   \n",
       "1  [0.74, 0.99, 1.0, 0.003333333333333333, 0.91, ...            10   \n",
       "0  [0.72, 0.98, 1.0, 0.003333333333333333, 0.96, ...            10   \n",
       "\n",
       "                                  feaute_importances create_dt  \n",
       "2  [gender_female, gender_male, fare, age, pclass...      0330  \n",
       "1  [gender_female, gender_male, fare, age, pclass...      0330  \n",
       "0  [gender_male, fare, age, gender_female, pclass...      0330  "
      ]
     },
     "execution_count": 76,
     "metadata": {},
     "output_type": "execute_result"
    }
   ],
   "source": [
    "df_results = pd.DataFrame(args.results).sort_values(by=['auc_te'], ascending=False)\n",
    "df_results"
   ]
  },
  {
   "cell_type": "code",
   "execution_count": 77,
   "id": "8eed7057-8d16-40da-af3b-fca8c73180ab",
   "metadata": {},
   "outputs": [
    {
     "data": {
      "text/html": [
       "<div>\n",
       "<style scoped>\n",
       "    .dataframe tbody tr th:only-of-type {\n",
       "        vertical-align: middle;\n",
       "    }\n",
       "\n",
       "    .dataframe tbody tr th {\n",
       "        vertical-align: top;\n",
       "    }\n",
       "\n",
       "    .dataframe thead th {\n",
       "        text-align: right;\n",
       "    }\n",
       "</style>\n",
       "<table border=\"1\" class=\"dataframe\">\n",
       "  <thead>\n",
       "    <tr style=\"text-align: right;\">\n",
       "      <th></th>\n",
       "      <th>passengerid</th>\n",
       "      <th>survived</th>\n",
       "    </tr>\n",
       "  </thead>\n",
       "  <tbody>\n",
       "    <tr>\n",
       "      <th>0</th>\n",
       "      <td>916</td>\n",
       "      <td>0.5</td>\n",
       "    </tr>\n",
       "    <tr>\n",
       "      <th>1</th>\n",
       "      <td>917</td>\n",
       "      <td>0.5</td>\n",
       "    </tr>\n",
       "  </tbody>\n",
       "</table>\n",
       "</div>"
      ],
      "text/plain": [
       "   passengerid  survived\n",
       "0          916       0.5\n",
       "1          917       0.5"
      ]
     },
     "execution_count": 77,
     "metadata": {},
     "output_type": "execute_result"
    }
   ],
   "source": [
    "submission = pd.read_csv(args.default_submission_csv)\n",
    "submission.head(2)"
   ]
  },
  {
   "cell_type": "code",
   "execution_count": 97,
   "id": "764d49d2-bdca-4500-8cd7-ea48221e3bec",
   "metadata": {
    "tags": []
   },
   "outputs": [
    {
     "name": "stdout",
     "output_type": "stream",
     "text": [
      "0\n"
     ]
    },
    {
     "data": {
      "text/html": [
       "<div>\n",
       "<style scoped>\n",
       "    .dataframe tbody tr th:only-of-type {\n",
       "        vertical-align: middle;\n",
       "    }\n",
       "\n",
       "    .dataframe tbody tr th {\n",
       "        vertical-align: top;\n",
       "    }\n",
       "\n",
       "    .dataframe thead th {\n",
       "        text-align: right;\n",
       "    }\n",
       "</style>\n",
       "<table border=\"1\" class=\"dataframe\">\n",
       "  <thead>\n",
       "    <tr style=\"text-align: right;\">\n",
       "      <th></th>\n",
       "      <th>passengerid</th>\n",
       "      <th>survived</th>\n",
       "    </tr>\n",
       "  </thead>\n",
       "  <tbody>\n",
       "    <tr>\n",
       "      <th>0</th>\n",
       "      <td>916</td>\n",
       "      <td>0.740000</td>\n",
       "    </tr>\n",
       "    <tr>\n",
       "      <th>1</th>\n",
       "      <td>917</td>\n",
       "      <td>0.990000</td>\n",
       "    </tr>\n",
       "    <tr>\n",
       "      <th>2</th>\n",
       "      <td>918</td>\n",
       "      <td>1.000000</td>\n",
       "    </tr>\n",
       "    <tr>\n",
       "      <th>3</th>\n",
       "      <td>919</td>\n",
       "      <td>0.003333</td>\n",
       "    </tr>\n",
       "    <tr>\n",
       "      <th>4</th>\n",
       "      <td>920</td>\n",
       "      <td>0.910000</td>\n",
       "    </tr>\n",
       "  </tbody>\n",
       "</table>\n",
       "</div>"
      ],
      "text/plain": [
       "   passengerid  survived\n",
       "0          916  0.740000\n",
       "1          917  0.990000\n",
       "2          918  1.000000\n",
       "3          919  0.003333\n",
       "4          920  0.910000"
      ]
     },
     "execution_count": 97,
     "metadata": {},
     "output_type": "execute_result"
    }
   ],
   "source": [
    "submission['survived'] = df_results.loc[2, ['ori_te_pred']].values[0] # 인덱스 2번에 헤당하는 ori_te_pred 뽑고 values는 array를 하나 풀어주기 위한 용도\n",
    "print(f'{submission.isnull().sum().sum()}')\n",
    "submission.head()"
   ]
  },
  {
   "cell_type": "code",
   "execution_count": 98,
   "id": "c489e763-36ff-450e-bb1f-cf94e08a5d80",
   "metadata": {},
   "outputs": [],
   "source": [
    "submission.to_csv(args.submission_csv, header=True, index=False) # 앞에서 지정한 submission_0330.csv로 저장된다"
   ]
  },
  {
   "cell_type": "markdown",
   "id": "c49ae2c8-da14-4ebf-9de3-a29b7b7c99a7",
   "metadata": {},
   "source": [
    "## 기존 결과 저장"
   ]
  },
  {
   "cell_type": "code",
   "execution_count": 99,
   "id": "493c4385-5074-4ae9-818d-59b83faaf646",
   "metadata": {},
   "outputs": [
    {
     "data": {
      "text/plain": [
       "'C:\\\\Users\\\\User\\\\Desktop\\\\model_results.csv'"
      ]
     },
     "execution_count": 99,
     "metadata": {},
     "output_type": "execute_result"
    }
   ],
   "source": [
    "args.save_results"
   ]
  },
  {
   "cell_type": "code",
   "execution_count": 100,
   "id": "76eca8e8-f4ed-431c-98d2-508751f5f268",
   "metadata": {},
   "outputs": [
    {
     "data": {
      "text/plain": [
       "Index(['model', 'score_tr', 'score_te', 'auc_te', 'ori_te_pred',\n",
       "       'len_features', 'feaute_importances', 'create_dt'],\n",
       "      dtype='object')"
      ]
     },
     "execution_count": 100,
     "metadata": {},
     "output_type": "execute_result"
    }
   ],
   "source": [
    "df_results.columns"
   ]
  },
  {
   "cell_type": "code",
   "execution_count": 101,
   "id": "4b3df5ae-0cde-4196-be27-43d8dc9d4bf0",
   "metadata": {},
   "outputs": [],
   "source": [
    "df_results.drop(['ori_te_pred'], axis=1, inplace=True) "
   ]
  },
  {
   "cell_type": "code",
   "execution_count": 107,
   "id": "09874454-58db-4bd2-b4d2-1397383fe3a6",
   "metadata": {},
   "outputs": [
    {
     "data": {
      "text/html": [
       "<div>\n",
       "<style scoped>\n",
       "    .dataframe tbody tr th:only-of-type {\n",
       "        vertical-align: middle;\n",
       "    }\n",
       "\n",
       "    .dataframe tbody tr th {\n",
       "        vertical-align: top;\n",
       "    }\n",
       "\n",
       "    .dataframe thead th {\n",
       "        text-align: right;\n",
       "    }\n",
       "</style>\n",
       "<table border=\"1\" class=\"dataframe\">\n",
       "  <thead>\n",
       "    <tr style=\"text-align: right;\">\n",
       "      <th></th>\n",
       "      <th>model</th>\n",
       "      <th>score_tr</th>\n",
       "      <th>score_te</th>\n",
       "      <th>auc_te</th>\n",
       "      <th>len_features</th>\n",
       "      <th>feaute_importances</th>\n",
       "      <th>create_dt</th>\n",
       "    </tr>\n",
       "  </thead>\n",
       "  <tbody>\n",
       "    <tr>\n",
       "      <th>2</th>\n",
       "      <td>modelV2</td>\n",
       "      <td>0.982839</td>\n",
       "      <td>0.821818</td>\n",
       "      <td>0.894709</td>\n",
       "      <td>10</td>\n",
       "      <td>[gender_female, gender_male, fare, age, pclass...</td>\n",
       "      <td>0330</td>\n",
       "    </tr>\n",
       "    <tr>\n",
       "      <th>1</th>\n",
       "      <td>modelV1</td>\n",
       "      <td>0.982839</td>\n",
       "      <td>0.825455</td>\n",
       "      <td>0.893922</td>\n",
       "      <td>10</td>\n",
       "      <td>[gender_female, gender_male, fare, age, pclass...</td>\n",
       "      <td>0330</td>\n",
       "    </tr>\n",
       "    <tr>\n",
       "      <th>0</th>\n",
       "      <td>modelV0</td>\n",
       "      <td>0.982839</td>\n",
       "      <td>0.814545</td>\n",
       "      <td>0.892628</td>\n",
       "      <td>10</td>\n",
       "      <td>[gender_male, fare, age, gender_female, pclass...</td>\n",
       "      <td>0330</td>\n",
       "    </tr>\n",
       "  </tbody>\n",
       "</table>\n",
       "</div>"
      ],
      "text/plain": [
       "     model  score_tr  score_te    auc_te  len_features  \\\n",
       "2  modelV2  0.982839  0.821818  0.894709            10   \n",
       "1  modelV1  0.982839  0.825455  0.893922            10   \n",
       "0  modelV0  0.982839  0.814545  0.892628            10   \n",
       "\n",
       "                                  feaute_importances create_dt  \n",
       "2  [gender_female, gender_male, fare, age, pclass...      0330  \n",
       "1  [gender_female, gender_male, fare, age, pclass...      0330  \n",
       "0  [gender_male, fare, age, gender_female, pclass...      0330  "
      ]
     },
     "execution_count": 107,
     "metadata": {},
     "output_type": "execute_result"
    }
   ],
   "source": [
    "df_results.head()"
   ]
  }
 ],
 "metadata": {
  "kernelspec": {
   "display_name": "Python 3 (ipykernel)",
   "language": "python",
   "name": "python3"
  },
  "language_info": {
   "codemirror_mode": {
    "name": "ipython",
    "version": 3
   },
   "file_extension": ".py",
   "mimetype": "text/x-python",
   "name": "python",
   "nbconvert_exporter": "python",
   "pygments_lexer": "ipython3",
   "version": "3.9.12"
  }
 },
 "nbformat": 4,
 "nbformat_minor": 5
}
