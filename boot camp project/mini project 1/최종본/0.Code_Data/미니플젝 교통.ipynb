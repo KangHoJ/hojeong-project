{
 "cells": [
  {
   "cell_type": "code",
   "execution_count": 7,
   "id": "35c868b3-d03f-44cc-950a-60575ab3324e",
   "metadata": {},
   "outputs": [],
   "source": [
    "import pandas as pd\n",
    "import matplotlib as mpl\n",
    "import matplotlib.pyplot as plt\n",
    "import seaborn as sns\n",
    "import numpy as np\n"
   ]
  },
  {
   "cell_type": "code",
   "execution_count": 2,
   "id": "49b32cea-51e2-4066-bc24-5cd1540ef384",
   "metadata": {},
   "outputs": [
    {
     "data": {
      "text/plain": [
       "'C:\\\\Users\\\\User\\\\Desktop\\\\boot camp project\\\\mini project 1'"
      ]
     },
     "execution_count": 2,
     "metadata": {},
     "output_type": "execute_result"
    }
   ],
   "source": [
    "%pwd"
   ]
  },
  {
   "cell_type": "code",
   "execution_count": 43,
   "id": "15caf460-4096-4d48-a05f-44be2c5850ae",
   "metadata": {},
   "outputs": [
    {
     "name": "stdout",
     "output_type": "stream",
     "text": [
      "C:\\Users\\User\\Desktop\\boot camp\n"
     ]
    }
   ],
   "source": [
    "%cd C:\\\\Users\\\\User\\\\Desktop\\\\boot camp"
   ]
  },
  {
   "cell_type": "code",
   "execution_count": 44,
   "id": "7d9c7dbf-bf2f-4649-af6d-fab97209a5bb",
   "metadata": {
    "collapsed": true,
    "jupyter": {
     "outputs_hidden": true
    },
    "tags": []
   },
   "outputs": [
    {
     "name": "stdout",
     "output_type": "stream",
     "text": [
      "NanumSquareOTF_ac\n",
      "NanumSquareOTF\n",
      "NanumMyeongjoOTF YetHangul\n",
      "NanumSquare_ac\n",
      "NanumSquareOTF\n",
      "NanumGothic\n",
      "NanumBarunGothic\n",
      "NanumSquareRound\n",
      "D2Coding ligature\n",
      "Noto Sans KR\n",
      "NanumSquareOTF\n",
      "NanumSquare\n",
      "NanumMyeongjo\n",
      "NanumSquareRound\n",
      "NanumBarunGothic\n",
      "NanumBarunGothic\n",
      "NanumSquare Neo OTF Bold\n",
      "NanumSquare Neo OTF ExtraBold\n",
      "NanumBarunGothicOTF\n",
      "NanumBarunGothicOTF YetHangul\n",
      "NanumSquareRound\n",
      "NanumBarunGothicOTF\n",
      "NanumGothicOTF Eco\n",
      "NanumGothicOTF\n",
      "NanumSquare Neo ExtraBold\n",
      "NanumSquare Neo Heavy\n",
      "NanumSquare Neo Regular\n",
      "Nanum Brush Script OTF\n",
      "NanumMyeongjoOTF\n",
      "NanumBarunGothicOTF\n",
      "NanumSquare Neo Light\n",
      "NanumSquareRoundOTF\n",
      "NanumMyeongjo Eco\n",
      "NanumMyeongjo\n",
      "NanumGothic Eco\n",
      "NanumSquareOTF_ac\n",
      "NanumBarunGothic\n",
      "NanumSquareOTF_ac\n",
      "NanumMyeongjo\n",
      "NanumSquare_ac\n",
      "NanumSquare\n",
      "NanumMyeongjo YetHangul\n",
      "NanumMyeongjo Eco\n",
      "NanumMyeongjoOTF\n",
      "NanumSquare Neo OTF Heavy\n",
      "NanumBarunpen\n",
      "NanumGothic\n",
      "NanumGothicOTF Eco\n",
      "Nanum Brush Script\n",
      "NanumGothicOTF Eco\n",
      "NanumSquare\n",
      "NanumSquare\n",
      "NanumBarunpen\n",
      "NanumSquare Neo OTF Regular\n",
      "NanumGothic\n",
      "NanumSquare Neo OTF Light\n",
      "NanumMyeongjoOTF Eco\n",
      "NanumGothicOTF\n",
      "Noto Sans KR\n",
      "NanumGothicOTF\n",
      "NanumMyeongjoOTF\n",
      "Noto Sans KR\n",
      "NanumSquareRoundOTF\n",
      "Nanum Pen Script OTF\n",
      "NanumSquare_ac\n",
      "NanumBarunGothicOTF\n",
      "Noto Sans KR\n",
      "D2Coding ligature\n",
      "NanumSquareRound\n",
      "Noto Sans KR\n",
      "NanumSquare Neo Bold\n",
      "NanumMyeongjoOTF Eco\n",
      "NanumMyeongjoOTF Eco\n",
      "NanumBarunpenOTF\n",
      "NanumGothicOTF\n",
      "D2Coding\n",
      "NanumSquareRoundOTF\n",
      "NanumSquareOTF_ac\n",
      "NanumSquareOTF\n",
      "D2Coding ligature\n",
      "NanumBarunpenOTF\n",
      "NanumMyeongjo Eco\n",
      "NanumSquareRoundOTF\n",
      "Nanum Pen Script\n",
      "NanumBarunGothic YetHangul\n",
      "NanumGothic\n",
      "NanumGothic Eco\n",
      "NanumSquare_ac\n",
      "NanumGothic Eco\n",
      "Noto Sans KR\n"
     ]
    }
   ],
   "source": [
    "import matplotlib as mpl\n",
    "import matplotlib.pyplot as plt\n",
    "# Add every font at the specified location\n",
    "font_dir = ['./fonts']\n",
    "for font in mpl.font_manager.findSystemFonts(fontpaths=font_dir):\n",
    "    print(mpl.font_manager.FontProperties(fname=font).get_name())\n",
    "    mpl.font_manager.fontManager.addfont(font)"
   ]
  },
  {
   "cell_type": "code",
   "execution_count": 45,
   "id": "472f06e9-5bf5-4529-932e-5f0aea0a318b",
   "metadata": {},
   "outputs": [
    {
     "name": "stdout",
     "output_type": "stream",
     "text": [
      "['Noto Sans KR']\n"
     ]
    }
   ],
   "source": [
    "# Set font family globally\n",
    "mpl.rcParams['font.family'] = 'Noto Sans KR'\n",
    "print(mpl.rcParams['font.family'])"
   ]
  },
  {
   "cell_type": "markdown",
   "id": "80aa269f-6e8a-46cc-abb0-63a35fb8d4d3",
   "metadata": {},
   "source": [
    "----------------------------------------------------------------------------------"
   ]
  },
  {
   "cell_type": "code",
   "execution_count": 47,
   "id": "ae67fa59-8a9e-43a2-a119-65b7def227b3",
   "metadata": {},
   "outputs": [
    {
     "name": "stdout",
     "output_type": "stream",
     "text": [
      "C:\\Users\\User\\Desktop\\boot camp project\\mini project 1\\data\\교통\n"
     ]
    }
   ],
   "source": [
    "%cd C:\\\\Users\\\\User\\\\Desktop\\\\boot camp project\\\\mini project 1\\\\data\\\\교통"
   ]
  },
  {
   "cell_type": "code",
   "execution_count": 13,
   "id": "bdc304d7-179e-4802-afa3-ecca048c0f7b",
   "metadata": {},
   "outputs": [
    {
     "data": {
      "text/html": [
       "<div>\n",
       "<style scoped>\n",
       "    .dataframe tbody tr th:only-of-type {\n",
       "        vertical-align: middle;\n",
       "    }\n",
       "\n",
       "    .dataframe tbody tr th {\n",
       "        vertical-align: top;\n",
       "    }\n",
       "\n",
       "    .dataframe thead th {\n",
       "        text-align: right;\n",
       "    }\n",
       "</style>\n",
       "<table border=\"1\" class=\"dataframe\">\n",
       "  <thead>\n",
       "    <tr style=\"text-align: right;\">\n",
       "      <th></th>\n",
       "      <th>정류장번호</th>\n",
       "      <th>정류장명</th>\n",
       "      <th>위도</th>\n",
       "      <th>경도</th>\n",
       "      <th>정보수집일시</th>\n",
       "      <th>모바일단축번호</th>\n",
       "      <th>도시코드</th>\n",
       "      <th>도시명</th>\n",
       "      <th>관리도시명</th>\n",
       "    </tr>\n",
       "  </thead>\n",
       "  <tbody>\n",
       "    <tr>\n",
       "      <th>0</th>\n",
       "      <td>ASB214010001</td>\n",
       "      <td>석근2리 입구</td>\n",
       "      <td>36.935731</td>\n",
       "      <td>127.043094</td>\n",
       "      <td>20221012050123</td>\n",
       "      <td>10001.0</td>\n",
       "      <td>34040</td>\n",
       "      <td>아산시</td>\n",
       "      <td>아산</td>\n",
       "    </tr>\n",
       "    <tr>\n",
       "      <th>1</th>\n",
       "      <td>ASB214015410</td>\n",
       "      <td>석근2리 입구</td>\n",
       "      <td>36.935633</td>\n",
       "      <td>127.043204</td>\n",
       "      <td>20221012050123</td>\n",
       "      <td>15410.0</td>\n",
       "      <td>34040</td>\n",
       "      <td>아산시</td>\n",
       "      <td>아산</td>\n",
       "    </tr>\n",
       "    <tr>\n",
       "      <th>2</th>\n",
       "      <td>ASB214015456</td>\n",
       "      <td>오성슈퍼</td>\n",
       "      <td>36.951671</td>\n",
       "      <td>127.052784</td>\n",
       "      <td>20221012050123</td>\n",
       "      <td>15456.0</td>\n",
       "      <td>34040</td>\n",
       "      <td>아산시</td>\n",
       "      <td>아산</td>\n",
       "    </tr>\n",
       "  </tbody>\n",
       "</table>\n",
       "</div>"
      ],
      "text/plain": [
       "          정류장번호     정류장명         위도          경도          정보수집일시  모바일단축번호  \\\n",
       "0  ASB214010001  석근2리 입구  36.935731  127.043094  20221012050123  10001.0   \n",
       "1  ASB214015410  석근2리 입구  36.935633  127.043204  20221012050123  15410.0   \n",
       "2  ASB214015456     오성슈퍼  36.951671  127.052784  20221012050123  15456.0   \n",
       "\n",
       "    도시코드  도시명 관리도시명  \n",
       "0  34040  아산시    아산  \n",
       "1  34040  아산시    아산  \n",
       "2  34040  아산시    아산  "
      ]
     },
     "execution_count": 13,
     "metadata": {},
     "output_type": "execute_result"
    }
   ],
   "source": [
    "bus = pd.read_csv('2022년_전국버스정류장 위치정보_데이터.csv')\n",
    "bus.head(3)"
   ]
  },
  {
   "cell_type": "code",
   "execution_count": 67,
   "id": "7d98c298-8619-4e68-84f5-1c07b28b3b1f",
   "metadata": {},
   "outputs": [],
   "source": [
    "bus2 = bus[['위도','경도']]"
   ]
  },
  {
   "cell_type": "code",
   "execution_count": 40,
   "id": "2cdda55e-a6f0-4fdf-8496-b13cffb4b43e",
   "metadata": {
    "tags": []
   },
   "outputs": [
    {
     "data": {
      "text/plain": [
       "경기도     44539\n",
       "공단광역    39890\n",
       "서울      12943\n",
       "인천       6526\n",
       "대구       5123\n",
       "Name: 관리도시명, dtype: int64"
      ]
     },
     "execution_count": 40,
     "metadata": {},
     "output_type": "execute_result"
    }
   ],
   "source": [
    "bus['관리도시명'].value_counts().head(5)"
   ]
  },
  {
   "cell_type": "code",
   "execution_count": 46,
   "id": "14e1f8e1-aa2a-4ddb-811d-5418c698f210",
   "metadata": {},
   "outputs": [
    {
     "data": {
      "image/png": "[encoded data removed]",
      "text/plain": [
       "<Figure size 432x288 with 1 Axes>"
      ]
     },
     "metadata": {
      "needs_background": "light"
     },
     "output_type": "display_data"
    }
   ],
   "source": [
    "b = bus['관리도시명'].value_counts().head(5)\n",
    "\n",
    "x = b.index\n",
    "y = b\n",
    "color = np.random.rand(len(x),3)\n",
    "\n",
    "plt.xticks(rotation=90)\n",
    "plt.title('지역별 버스 정류장 수')\n",
    "plt.ylabel('수')\n",
    "plt.bar(x,y,color=color)\n",
    "plt.show()"
   ]
  },
  {
   "cell_type": "code",
   "execution_count": 41,
   "id": "80699142-ea36-4d27-bd75-c1f8cdbe2fe7",
   "metadata": {
    "tags": []
   },
   "outputs": [
    {
     "data": {
      "text/plain": [
       "당진시    2124\n",
       "김제시    1527\n",
       "익산시    1463\n",
       "상주시    1404\n",
       "해남군    1319\n",
       "Name: 도시명, dtype: int64"
      ]
     },
     "execution_count": 41,
     "metadata": {},
     "output_type": "execute_result"
    }
   ],
   "source": [
    "bus[bus['관리도시명']=='공단광역']['도시명'].value_counts().head(5)"
   ]
  },
  {
   "cell_type": "code",
   "execution_count": 58,
   "id": "6908cf10-8426-4edf-8680-866b7af8c8c4",
   "metadata": {},
   "outputs": [
    {
     "data": {
      "text/html": [
       "<div>\n",
       "<style scoped>\n",
       "    .dataframe tbody tr th:only-of-type {\n",
       "        vertical-align: middle;\n",
       "    }\n",
       "\n",
       "    .dataframe tbody tr th {\n",
       "        vertical-align: top;\n",
       "    }\n",
       "\n",
       "    .dataframe thead th {\n",
       "        text-align: right;\n",
       "    }\n",
       "</style>\n",
       "<table border=\"1\" class=\"dataframe\">\n",
       "  <thead>\n",
       "    <tr style=\"text-align: right;\">\n",
       "      <th></th>\n",
       "      <th>역번호</th>\n",
       "      <th>역사명</th>\n",
       "      <th>노선번호</th>\n",
       "      <th>노선명</th>\n",
       "      <th>영문역사명</th>\n",
       "      <th>한자역사명</th>\n",
       "      <th>환승역구분</th>\n",
       "      <th>환승노선번호</th>\n",
       "      <th>환승노선명</th>\n",
       "      <th>역위도</th>\n",
       "      <th>역경도</th>\n",
       "      <th>운영기관명</th>\n",
       "      <th>역사도로명주소</th>\n",
       "      <th>역사전화번호</th>\n",
       "      <th>데이터기준일자</th>\n",
       "    </tr>\n",
       "  </thead>\n",
       "  <tbody>\n",
       "    <tr>\n",
       "      <th>0</th>\n",
       "      <td>0101</td>\n",
       "      <td>판암</td>\n",
       "      <td>S3001</td>\n",
       "      <td>대전 도시철도 1호선</td>\n",
       "      <td>Panam</td>\n",
       "      <td>板岩</td>\n",
       "      <td>일반역</td>\n",
       "      <td>NaN</td>\n",
       "      <td>NaN</td>\n",
       "      <td>36.316896</td>\n",
       "      <td>127.458264</td>\n",
       "      <td>대전교통공사</td>\n",
       "      <td>대전광역시 동구 옥천로 지하162 (판암동)</td>\n",
       "      <td>042-539-3601</td>\n",
       "      <td>2022-05-09</td>\n",
       "    </tr>\n",
       "  </tbody>\n",
       "</table>\n",
       "</div>"
      ],
      "text/plain": [
       "    역번호 역사명   노선번호          노선명  영문역사명 한자역사명 환승역구분 환승노선번호 환승노선명        역위도  \\\n",
       "0  0101  판암  S3001  대전 도시철도 1호선  Panam    板岩   일반역    NaN   NaN  36.316896   \n",
       "\n",
       "          역경도   운영기관명                   역사도로명주소        역사전화번호     데이터기준일자  \n",
       "0  127.458264  대전교통공사  대전광역시 동구 옥천로 지하162 (판암동)  042-539-3601  2022-05-09  "
      ]
     },
     "execution_count": 58,
     "metadata": {},
     "output_type": "execute_result"
    }
   ],
   "source": [
    "subway = pd.read_csv('전체_도시철도역사정보_20230109.csv').head(1)\n",
    "subway"
   ]
  },
  {
   "cell_type": "code",
   "execution_count": 65,
   "id": "0674f4d3-0cd2-415e-ac70-20d20fcf5a50",
   "metadata": {},
   "outputs": [],
   "source": [
    "subway2 = subway.rename(columns={'역위도': '위도', '역경도': '경도'})\n",
    "subway2 = subway2[['위도','경도']]"
   ]
  },
  {
   "cell_type": "code",
   "execution_count": 68,
   "id": "b76d2c1d-ef4a-42d4-a156-15579036f090",
   "metadata": {},
   "outputs": [
    {
     "data": {
      "text/html": [
       "<div>\n",
       "<style scoped>\n",
       "    .dataframe tbody tr th:only-of-type {\n",
       "        vertical-align: middle;\n",
       "    }\n",
       "\n",
       "    .dataframe tbody tr th {\n",
       "        vertical-align: top;\n",
       "    }\n",
       "\n",
       "    .dataframe thead th {\n",
       "        text-align: right;\n",
       "    }\n",
       "</style>\n",
       "<table border=\"1\" class=\"dataframe\">\n",
       "  <thead>\n",
       "    <tr style=\"text-align: right;\">\n",
       "      <th></th>\n",
       "      <th>위도</th>\n",
       "      <th>경도</th>\n",
       "    </tr>\n",
       "  </thead>\n",
       "  <tbody>\n",
       "    <tr>\n",
       "      <th>0</th>\n",
       "      <td>36.935731</td>\n",
       "      <td>127.043094</td>\n",
       "    </tr>\n",
       "    <tr>\n",
       "      <th>1</th>\n",
       "      <td>36.935633</td>\n",
       "      <td>127.043204</td>\n",
       "    </tr>\n",
       "    <tr>\n",
       "      <th>2</th>\n",
       "      <td>36.951671</td>\n",
       "      <td>127.052784</td>\n",
       "    </tr>\n",
       "    <tr>\n",
       "      <th>3</th>\n",
       "      <td>36.952036</td>\n",
       "      <td>127.053031</td>\n",
       "    </tr>\n",
       "    <tr>\n",
       "      <th>4</th>\n",
       "      <td>36.944598</td>\n",
       "      <td>127.053092</td>\n",
       "    </tr>\n",
       "    <tr>\n",
       "      <th>...</th>\n",
       "      <td>...</td>\n",
       "      <td>...</td>\n",
       "    </tr>\n",
       "    <tr>\n",
       "      <th>196005</th>\n",
       "      <td>35.32989</td>\n",
       "      <td>129.032600</td>\n",
       "    </tr>\n",
       "    <tr>\n",
       "      <th>196006</th>\n",
       "      <td>35.2535</td>\n",
       "      <td>129.100100</td>\n",
       "    </tr>\n",
       "    <tr>\n",
       "      <th>196007</th>\n",
       "      <td>35.33666</td>\n",
       "      <td>129.123300</td>\n",
       "    </tr>\n",
       "    <tr>\n",
       "      <th>196008</th>\n",
       "      <td>35.32235</td>\n",
       "      <td>129.115700</td>\n",
       "    </tr>\n",
       "    <tr>\n",
       "      <th>0</th>\n",
       "      <td>36.316896</td>\n",
       "      <td>127.458264</td>\n",
       "    </tr>\n",
       "  </tbody>\n",
       "</table>\n",
       "<p>196010 rows × 2 columns</p>\n",
       "</div>"
      ],
      "text/plain": [
       "               위도          경도\n",
       "0       36.935731  127.043094\n",
       "1       36.935633  127.043204\n",
       "2       36.951671  127.052784\n",
       "3       36.952036  127.053031\n",
       "4       36.944598  127.053092\n",
       "...           ...         ...\n",
       "196005   35.32989  129.032600\n",
       "196006    35.2535  129.100100\n",
       "196007   35.33666  129.123300\n",
       "196008   35.32235  129.115700\n",
       "0       36.316896  127.458264\n",
       "\n",
       "[196010 rows x 2 columns]"
      ]
     },
     "execution_count": 68,
     "metadata": {},
     "output_type": "execute_result"
    }
   ],
   "source": [
    "tra = pd.concat([bus2,subway2])\n",
    "tra"
   ]
  }
 ],
 "metadata": {
  "kernelspec": {
   "display_name": "Python 3 (ipykernel)",
   "language": "python",
   "name": "python3"
  },
  "language_info": {
   "codemirror_mode": {
    "name": "ipython",
    "version": 3
   },
   "file_extension": ".py",
   "mimetype": "text/x-python",
   "name": "python",
   "nbconvert_exporter": "python",
   "pygments_lexer": "ipython3",
   "version": "3.9.12"
  }
 },
 "nbformat": 4,
 "nbformat_minor": 5
}
