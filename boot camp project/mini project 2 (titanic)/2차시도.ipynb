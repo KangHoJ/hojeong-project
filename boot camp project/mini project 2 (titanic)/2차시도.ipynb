{
 "cells": [
  {
   "cell_type": "code",
   "execution_count": 1,
   "id": "4234d8c5-492e-4e86-a6d7-952d5b7d754b",
   "metadata": {},
   "outputs": [],
   "source": [
    "import numpy as np \n",
    "import pandas as pd\n",
    "\n",
    "import matplotlib.pyplot as plt\n",
    "import seaborn as sns\n",
    "\n",
    "plt.style.use('fivethirtyeight')\n",
    "plt.ion()\n",
    "\n",
    "import warnings\n",
    "warnings.filterwarnings('ignore')"
   ]
  },
  {
   "cell_type": "code",
   "execution_count": 2,
   "id": "40b28306-4193-46c1-bb91-a93d3075d0a3",
   "metadata": {},
   "outputs": [
    {
     "data": {
      "text/plain": [
       "'C:\\\\Users\\\\User\\\\Desktop\\\\model_results.csv'"
      ]
     },
     "execution_count": 2,
     "metadata": {},
     "output_type": "execute_result"
    }
   ],
   "source": [
    "import easydict\n",
    "args = easydict.EasyDict() #dict values 에 .으로 접근 가능하다 \n",
    "\n",
    "# path 정보\n",
    "args.default_path = 'C:\\\\Users\\\\User\\\\Desktop\\\\' # 파일 위치 \n",
    "args.train_csv = args.default_path+'train.csv'\n",
    "args.test_csv = args.default_path+'test.csv'\n",
    "args.default_submission_csv = args.default_path+'submission.csv'\n",
    "\n",
    "args.submission_csv = args.default_path+'submission_0331.csv' # 새로운 파일 \n",
    "args.save_results = args.default_path+\"model_results.csv\" # 정보저장 파일 \n",
    "\n",
    "# 데이터 분석을 위한 변수들\n",
    "args.random_state = 21\n",
    "args.results = []\n",
    "\n",
    "args.save_results"
   ]
  },
  {
   "cell_type": "markdown",
   "id": "5d67c525-a55a-45c5-b7ac-3d37fbd49f4b",
   "metadata": {},
   "source": [
    "### 데이터 로드"
   ]
  },
  {
   "cell_type": "code",
   "execution_count": 3,
   "id": "be0a832f-8e54-4d5c-a705-1864a36c7ea0",
   "metadata": {},
   "outputs": [
    {
     "data": {
      "text/plain": [
       "((916, 12), (393, 11))"
      ]
     },
     "execution_count": 3,
     "metadata": {},
     "output_type": "execute_result"
    }
   ],
   "source": [
    "ori_train = pd.read_csv(args.train_csv)\n",
    "ori_test = pd.read_csv(args.test_csv)\n",
    "ori_train.shape, ori_test.shape"
   ]
  },
  {
   "cell_type": "markdown",
   "id": "4d20a7bc-e86b-4816-8e2e-77add5fbf767",
   "metadata": {
    "tags": []
   },
   "source": [
    "### 폰트 설정"
   ]
  },
  {
   "cell_type": "code",
   "execution_count": 4,
   "id": "35239694-9c04-4874-bf0c-176bcbdc5ffc",
   "metadata": {},
   "outputs": [],
   "source": [
    "import matplotlib as mpl\n",
    "# Add every font at the specified location\n",
    "font_dir = ['./fonts']\n",
    "for font in mpl.font_manager.findSystemFonts(fontpaths=font_dir):\n",
    " print(mpl.font_manager.FontProperties(fname=font).get_name())\n",
    " mpl.font_manager.fontManager.addfont(font)"
   ]
  },
  {
   "cell_type": "code",
   "execution_count": 5,
   "id": "ce67a108-3e01-43f3-a093-7a4c402c2ed0",
   "metadata": {
    "collapsed": true,
    "jupyter": {
     "outputs_hidden": true
    },
    "tags": []
   },
   "outputs": [
    {
     "name": "stdout",
     "output_type": "stream",
     "text": [
      "['C:\\\\Windows\\\\Fonts\\\\mvboli.ttf', 'C:\\\\Windows\\\\Fonts\\\\Hancom Gothic Regular.ttf', 'C:\\\\Windows\\\\Fonts\\\\corbelb.ttf', 'C:\\\\Windows\\\\Fonts\\\\YuGothR.ttc', 'C:\\\\Windows\\\\Fonts\\\\cambriai.ttf', 'C:\\\\Windows\\\\Fonts\\\\calibril.ttf', 'C:\\\\Windows\\\\Fonts\\\\LeelUIsl.ttf', 'C:\\\\Windows\\\\Fonts\\\\comicz.ttf', 'C:\\\\Windows\\\\Fonts\\\\constani.ttf', 'C:\\\\Windows\\\\Fonts\\\\SitkaI.ttc', 'C:\\\\Windows\\\\Fonts\\\\segoeuisl.ttf', 'C:\\\\Windows\\\\Fonts\\\\CENTURY.TTF', 'C:\\\\Windows\\\\Fonts\\\\REFSAN.TTF', 'C:\\\\Windows\\\\Fonts\\\\BOOKOSBI.TTF', 'C:\\\\Windows\\\\Fonts\\\\seguisbi.ttf', 'C:\\\\Windows\\\\Fonts\\\\H2MJSM.TTF', 'C:\\\\Windows\\\\Fonts\\\\msjh.ttc', 'C:\\\\Windows\\\\Fonts\\\\HANDotumExt.ttf', 'C:\\\\Windows\\\\Fonts\\\\ARIALNB.TTF', 'C:\\\\Windows\\\\Fonts\\\\segoeui.ttf', 'C:\\\\Windows\\\\Fonts\\\\HANBatangExtBB.ttf', 'C:\\\\Windows\\\\Fonts\\\\corbell.ttf', 'C:\\\\Windows\\\\Fonts\\\\GARA.TTF', 'C:\\\\Windows\\\\Fonts\\\\verdanaz.ttf', 'C:\\\\Windows\\\\Fonts\\\\seguiemj.ttf', 'C:\\\\Windows\\\\Fonts\\\\HANDotumB.ttf', 'C:\\\\Windows\\\\Fonts\\\\H2GTRM.TTF', 'C:\\\\Windows\\\\Fonts\\\\impact.ttf', 'C:\\\\Windows\\\\Fonts\\\\H2GSRB.TTF', 'C:\\\\Windows\\\\Fonts\\\\BSSYM7.TTF', 'C:\\\\Windows\\\\Fonts\\\\holomdl2.ttf', 'C:\\\\Users\\\\User\\\\AppData\\\\Local\\\\Microsoft\\\\Windows\\\\Fonts\\\\Cafe24Ohsquare.ttf', 'C:\\\\Windows\\\\Fonts\\\\verdanab.ttf', 'C:\\\\Windows\\\\Fonts\\\\wingding.ttf', 'C:\\\\Windows\\\\Fonts\\\\taile.ttf', 'C:\\\\Windows\\\\Fonts\\\\simsun.ttc', 'C:\\\\Windows\\\\Fonts\\\\tahomabd.ttf', 'C:\\\\Windows\\\\Fonts\\\\MalangmalangB.ttf', 'C:\\\\Windows\\\\Fonts\\\\LEELAWDB.TTF', 'C:\\\\Windows\\\\Fonts\\\\LEELAWAD.TTF', 'C:\\\\Windows\\\\Fonts\\\\corbel.ttf', 'C:\\\\Windows\\\\Fonts\\\\calibrii.ttf', 'C:\\\\Windows\\\\Fonts\\\\cour.ttf', 'C:\\\\Windows\\\\Fonts\\\\couri.ttf', 'C:\\\\Windows\\\\Fonts\\\\segoeuii.ttf', 'C:\\\\Windows\\\\Fonts\\\\HMKMAMI.TTF', 'C:\\\\Windows\\\\Fonts\\\\comici.ttf', 'C:\\\\Windows\\\\Fonts\\\\HanSantteutDotum-Bold.ttf', 'C:\\\\Windows\\\\Fonts\\\\HMFMPYUN.TTF', 'C:\\\\Windows\\\\Fonts\\\\msjhbd.ttc', 'C:\\\\Windows\\\\Fonts\\\\comic.ttf', 'C:\\\\Windows\\\\Fonts\\\\ANTQUABI.TTF', 'C:\\\\Windows\\\\Fonts\\\\DUBAI-BOLD.TTF', 'C:\\\\Windows\\\\Fonts\\\\segoeprb.ttf', 'C:\\\\Windows\\\\Fonts\\\\GARABD.TTF', 'C:\\\\Windows\\\\Fonts\\\\msgothic.ttc', 'C:\\\\Windows\\\\Fonts\\\\msyh.ttc', 'C:\\\\Windows\\\\Fonts\\\\HMFMMUEX.TTC', 'C:\\\\Windows\\\\Fonts\\\\sylfaen.ttf', 'C:\\\\Windows\\\\Fonts\\\\SitkaB.ttc', 'C:\\\\Windows\\\\Fonts\\\\H2PORL.TTF', 'C:\\\\Windows\\\\Fonts\\\\SitkaZ.ttc', 'C:\\\\Windows\\\\Fonts\\\\GOTHICI.TTF', 'C:\\\\Windows\\\\Fonts\\\\ariblk.ttf', 'C:\\\\Windows\\\\Fonts\\\\arialbi.ttf', 'C:\\\\Windows\\\\Fonts\\\\DUBAI-MEDIUM.TTF', 'C:\\\\Windows\\\\Fonts\\\\ANTQUAB.TTF', 'C:\\\\Windows\\\\Fonts\\\\HancomEQN.ttf', 'C:\\\\Windows\\\\Fonts\\\\trebucbd.ttf', 'C:\\\\Windows\\\\Fonts\\\\HancomHoonminjeongeumH.ttf', 'C:\\\\Windows\\\\Fonts\\\\seguihis.ttf', 'C:\\\\Windows\\\\Fonts\\\\H2MKPB.TTF', 'C:\\\\Windows\\\\Fonts\\\\georgiab.ttf', 'C:\\\\Windows\\\\Fonts\\\\marlett.ttf', 'C:\\\\Windows\\\\Fonts\\\\webdings.ttf', 'C:\\\\Windows\\\\Fonts\\\\HANBatangB.ttf', 'C:\\\\Windows\\\\Fonts\\\\MSUIGHUR.TTF', 'C:\\\\Windows\\\\Fonts\\\\georgia.ttf', 'C:\\\\Windows\\\\Fonts\\\\segoesc.ttf', 'C:\\\\Windows\\\\Fonts\\\\Candaral.ttf', 'C:\\\\Windows\\\\Fonts\\\\Candarali.ttf', 'C:\\\\Windows\\\\Fonts\\\\BOOKOS.TTF', 'C:\\\\Windows\\\\Fonts\\\\arial.ttf', 'C:\\\\Windows\\\\Fonts\\\\gadugi.ttf', 'C:\\\\Windows\\\\Fonts\\\\cambriab.ttf', 'C:\\\\Windows\\\\Fonts\\\\Candarab.ttf', 'C:\\\\Windows\\\\Fonts\\\\msyhbd.ttc', 'C:\\\\Windows\\\\Fonts\\\\l_10646.ttf', 'C:\\\\Windows\\\\Fonts\\\\YuGothM.ttc', 'C:\\\\Windows\\\\Fonts\\\\msjhl.ttc', 'C:\\\\Windows\\\\Fonts\\\\verdana.ttf', 'C:\\\\Windows\\\\Fonts\\\\palab.ttf', 'C:\\\\Windows\\\\Fonts\\\\WINGDNG2.TTF', 'C:\\\\Windows\\\\Fonts\\\\batang.ttc', 'C:\\\\Windows\\\\Fonts\\\\corbelli.ttf', 'C:\\\\Windows\\\\Fonts\\\\javatext.ttf', 'C:\\\\Windows\\\\Fonts\\\\ARIALNI.TTF', 'C:\\\\Windows\\\\Fonts\\\\segoepr.ttf', 'C:\\\\Windows\\\\Fonts\\\\Sitka.ttc', 'C:\\\\Windows\\\\Fonts\\\\gulim.ttc', 'C:\\\\Windows\\\\Fonts\\\\malgunbd.ttf', 'C:\\\\Windows\\\\Fonts\\\\taileb.ttf', 'C:\\\\Windows\\\\Fonts\\\\segoeuib.ttf', 'C:\\\\Windows\\\\Fonts\\\\H2GPRM.TTF', 'C:\\\\Windows\\\\Fonts\\\\GOTHIC.TTF', 'C:\\\\Windows\\\\Fonts\\\\georgiai.ttf', 'C:\\\\Windows\\\\Fonts\\\\trebuc.ttf', 'C:\\\\Windows\\\\Fonts\\\\Hancom Gothic Bold.ttf', 'C:\\\\Windows\\\\Fonts\\\\times.ttf', 'C:\\\\Windows\\\\Fonts\\\\phagspa.ttf', 'C:\\\\Windows\\\\Fonts\\\\simsunb.ttf', 'C:\\\\Windows\\\\Fonts\\\\cambriaz.ttf', 'C:\\\\Windows\\\\Fonts\\\\segoeuil.ttf', 'C:\\\\Windows\\\\Fonts\\\\ebrima.ttf', 'C:\\\\Windows\\\\Fonts\\\\Candarai.ttf', 'C:\\\\Windows\\\\Fonts\\\\seguili.ttf', 'C:\\\\Windows\\\\Fonts\\\\corbelz.ttf', 'C:\\\\Windows\\\\Fonts\\\\framdit.ttf', 'C:\\\\Windows\\\\Fonts\\\\YuGothL.ttc', 'C:\\\\Windows\\\\Fonts\\\\ariali.ttf', 'C:\\\\Windows\\\\Fonts\\\\timesbi.ttf', 'C:\\\\Windows\\\\Fonts\\\\segmdl2.ttf', 'C:\\\\Windows\\\\Fonts\\\\BOOKOSB.TTF', 'C:\\\\Windows\\\\Fonts\\\\Inkfree.ttf', 'C:\\\\Windows\\\\Fonts\\\\georgiaz.ttf', 'C:\\\\Windows\\\\Fonts\\\\consola.ttf', 'C:\\\\Windows\\\\Fonts\\\\HANBatangExtB.ttf', 'C:\\\\Windows\\\\Fonts\\\\H2SA1M.TTF', 'C:\\\\Windows\\\\Fonts\\\\JUMJA.TTF', 'C:\\\\Windows\\\\Fonts\\\\NGULIM.TTF', 'C:\\\\Windows\\\\Fonts\\\\HYHWPEQ.TTF', 'C:\\\\Windows\\\\Fonts\\\\ntailub.ttf', 'C:\\\\Windows\\\\Fonts\\\\consolai.ttf', 'C:\\\\Windows\\\\Fonts\\\\Candaraz.ttf', 'C:\\\\Windows\\\\Fonts\\\\arialbd.ttf', 'C:\\\\Windows\\\\Fonts\\\\ARIALN.TTF', 'C:\\\\Windows\\\\Fonts\\\\constanb.ttf', 'C:\\\\Windows\\\\Fonts\\\\MSUIGHUB.TTF', 'C:\\\\Windows\\\\Fonts\\\\ANTQUAI.TTF', 'C:\\\\Windows\\\\Fonts\\\\malgun.ttf', 'C:\\\\Windows\\\\Fonts\\\\msyhl.ttc', 'C:\\\\Windows\\\\Fonts\\\\gadugib.ttf', 'C:\\\\Windows\\\\Fonts\\\\BOOKOSI.TTF', 'C:\\\\Windows\\\\Fonts\\\\HANWing2.ttf', 'C:\\\\Windows\\\\Fonts\\\\DUBAI-REGULAR.TTF', 'C:\\\\Windows\\\\Fonts\\\\seguibl.ttf', 'C:\\\\Windows\\\\Fonts\\\\timesi.ttf', 'C:\\\\Windows\\\\Fonts\\\\YuGothB.ttc', 'C:\\\\Windows\\\\Fonts\\\\monbaiti.ttf', 'C:\\\\Windows\\\\Fonts\\\\ntailu.ttf', 'C:\\\\Windows\\\\Fonts\\\\calibri.ttf', 'C:\\\\Windows\\\\Fonts\\\\calibrili.ttf', 'C:\\\\Windows\\\\Fonts\\\\HMKMRHD.TTF', 'C:\\\\Windows\\\\Fonts\\\\H2PORM.TTF', 'C:\\\\Windows\\\\Fonts\\\\mmrtextb.ttf', 'C:\\\\Windows\\\\Fonts\\\\LeelawUI.ttf', 'C:\\\\Windows\\\\Fonts\\\\mmrtext.ttf', 'C:\\\\Windows\\\\Fonts\\\\corbeli.ttf', 'C:\\\\Windows\\\\Fonts\\\\MalangmalangR.ttf', 'C:\\\\Windows\\\\Fonts\\\\Hancom HMJE_V.ttf', 'C:\\\\Windows\\\\Fonts\\\\pala.ttf', 'C:\\\\Windows\\\\Fonts\\\\lucon.ttf', 'C:\\\\Windows\\\\Fonts\\\\seguisym.ttf', 'C:\\\\Windows\\\\Fonts\\\\verdanai.ttf', 'C:\\\\Windows\\\\Fonts\\\\HMKMMAG.TTF', 'C:\\\\Windows\\\\Fonts\\\\HMFMOLD.TTF', 'C:\\\\Windows\\\\Fonts\\\\HANBatangExt.ttf', 'C:\\\\Windows\\\\Fonts\\\\H2HDRM.TTF', 'C:\\\\Windows\\\\Fonts\\\\calibrib.ttf', 'C:\\\\Windows\\\\Fonts\\\\msyi.ttf', 'C:\\\\Windows\\\\Fonts\\\\constan.ttf', 'C:\\\\Windows\\\\Fonts\\\\framd.ttf', 'C:\\\\Windows\\\\Fonts\\\\NirmalaS.ttf', 'C:\\\\Windows\\\\Fonts\\\\HANBatang.ttf', 'C:\\\\Windows\\\\Fonts\\\\seguibli.ttf', 'C:\\\\Windows\\\\Fonts\\\\REFSPCL.TTF', 'C:\\\\Windows\\\\Fonts\\\\himalaya.ttf', 'C:\\\\Windows\\\\Fonts\\\\NirmalaB.ttf', 'C:\\\\Windows\\\\Fonts\\\\LeelaUIb.ttf', 'C:\\\\Windows\\\\Fonts\\\\courbi.ttf', 'C:\\\\Windows\\\\Fonts\\\\MTEXTRA.TTF', 'C:\\\\Windows\\\\Fonts\\\\Candara.ttf', 'C:\\\\Windows\\\\Fonts\\\\constanz.ttf', 'C:\\\\Windows\\\\Fonts\\\\segoescb.ttf', 'C:\\\\Windows\\\\Fonts\\\\trebucbi.ttf', 'C:\\\\Windows\\\\Fonts\\\\HanSantteutDotum-Regular.ttf', 'C:\\\\Windows\\\\Fonts\\\\symbol.ttf', 'C:\\\\Windows\\\\Fonts\\\\DUBAI-LIGHT.TTF', 'C:\\\\Windows\\\\Fonts\\\\palabi.ttf', 'C:\\\\Windows\\\\Fonts\\\\mingliub.ttc', 'C:\\\\Windows\\\\Fonts\\\\seguisb.ttf', 'C:\\\\Windows\\\\Fonts\\\\WINGDNG3.TTF', 'C:\\\\Windows\\\\Fonts\\\\H2MJRE.TTF', 'C:\\\\Windows\\\\Fonts\\\\GOTHICB.TTF', 'C:\\\\Windows\\\\Fonts\\\\malgunsl.ttf', 'C:\\\\Windows\\\\Fonts\\\\BKANT.TTF', 'C:\\\\Windows\\\\Fonts\\\\tahoma.ttf', 'C:\\\\Windows\\\\Fonts\\\\timesbd.ttf', 'C:\\\\Windows\\\\Fonts\\\\Gabriola.ttf', 'C:\\\\Windows\\\\Fonts\\\\H2GTRE.TTF', 'C:\\\\Windows\\\\Fonts\\\\consolaz.ttf', 'C:\\\\Windows\\\\Fonts\\\\courbd.ttf', 'C:\\\\Windows\\\\Fonts\\\\GOTHICBI.TTF', 'C:\\\\Windows\\\\Fonts\\\\MTCORSVA.TTF', 'C:\\\\Windows\\\\Fonts\\\\palai.ttf', 'C:\\\\Windows\\\\Fonts\\\\ebrimabd.ttf', 'C:\\\\Windows\\\\Fonts\\\\HANDotum.ttf', 'C:\\\\Windows\\\\Fonts\\\\cambria.ttc', 'C:\\\\Windows\\\\Fonts\\\\comicbd.ttf', 'C:\\\\Windows\\\\Fonts\\\\seguisli.ttf', 'C:\\\\Windows\\\\Fonts\\\\GARAIT.TTF', 'C:\\\\Windows\\\\Fonts\\\\consolab.ttf', 'C:\\\\Windows\\\\Fonts\\\\bahnschrift.ttf', 'C:\\\\Windows\\\\Fonts\\\\calibriz.ttf', 'C:\\\\Windows\\\\Fonts\\\\micross.ttf', 'C:\\\\Windows\\\\Fonts\\\\trebucit.ttf', 'C:\\\\Windows\\\\Fonts\\\\Nirmala.ttf', 'C:\\\\Windows\\\\Fonts\\\\phagspab.ttf', 'C:\\\\Windows\\\\Fonts\\\\ARIALNBI.TTF', 'C:\\\\Windows\\\\Fonts\\\\segoeuiz.ttf']\n"
     ]
    }
   ],
   "source": [
    "# 시스템 폰트 경로 리스트\n",
    "font_list = mpl.font_manager.findSystemFonts()\n",
    "print(font_list)\n",
    "# 폰트 설정하기\n",
    "prop = mpl.font_manager.FontProperties(fname='원하는 폰트 경로')\n",
    "plt.rcParams['font.family'] = prop.get_family()"
   ]
  },
  {
   "cell_type": "code",
   "execution_count": 6,
   "id": "16b1aeab-4bb0-441a-9332-963f5dde443a",
   "metadata": {},
   "outputs": [
    {
     "name": "stdout",
     "output_type": "stream",
     "text": [
      "['Noto Sans KR']\n"
     ]
    }
   ],
   "source": [
    "# Set font family globally\n",
    "mpl.rcParams['font.family'] = 'Noto Sans KR'\n",
    "print(mpl.rcParams['font.family'])"
   ]
  },
  {
   "cell_type": "markdown",
   "id": "11f91809-6125-40e1-a43b-86448fe31c67",
   "metadata": {
    "tags": []
   },
   "source": [
    "# 데이터 확인 "
   ]
  },
  {
   "cell_type": "code",
   "execution_count": 7,
   "id": "d2cd8eff-310f-41c1-9b43-ed61642fd9c6",
   "metadata": {},
   "outputs": [
    {
     "data": {
      "text/plain": [
       "Index(['passengerid', 'survived', 'pclass', 'name', 'gender', 'age', 'sibsp',\n",
       "       'parch', 'ticket', 'fare', 'cabin', 'embarked'],\n",
       "      dtype='object')"
      ]
     },
     "execution_count": 7,
     "metadata": {},
     "output_type": "execute_result"
    }
   ],
   "source": [
    "ori_train.columns"
   ]
  },
  {
   "cell_type": "code",
   "execution_count": 8,
   "id": "73d95090-9cb6-480c-9a20-417d4b28d31c",
   "metadata": {},
   "outputs": [
    {
     "data": {
      "text/html": [
       "<div>\n",
       "<style scoped>\n",
       "    .dataframe tbody tr th:only-of-type {\n",
       "        vertical-align: middle;\n",
       "    }\n",
       "\n",
       "    .dataframe tbody tr th {\n",
       "        vertical-align: top;\n",
       "    }\n",
       "\n",
       "    .dataframe thead th {\n",
       "        text-align: right;\n",
       "    }\n",
       "</style>\n",
       "<table border=\"1\" class=\"dataframe\">\n",
       "  <thead>\n",
       "    <tr style=\"text-align: right;\">\n",
       "      <th></th>\n",
       "      <th>passengerid</th>\n",
       "      <th>survived</th>\n",
       "      <th>pclass</th>\n",
       "      <th>name</th>\n",
       "      <th>gender</th>\n",
       "      <th>age</th>\n",
       "      <th>sibsp</th>\n",
       "      <th>parch</th>\n",
       "      <th>ticket</th>\n",
       "      <th>fare</th>\n",
       "      <th>cabin</th>\n",
       "      <th>embarked</th>\n",
       "    </tr>\n",
       "  </thead>\n",
       "  <tbody>\n",
       "    <tr>\n",
       "      <th>0</th>\n",
       "      <td>0</td>\n",
       "      <td>0</td>\n",
       "      <td>2</td>\n",
       "      <td>Wheeler, Mr. Edwin Frederick\"\"</td>\n",
       "      <td>male</td>\n",
       "      <td>NaN</td>\n",
       "      <td>0</td>\n",
       "      <td>0</td>\n",
       "      <td>SC/PARIS 2159</td>\n",
       "      <td>12.875</td>\n",
       "      <td>NaN</td>\n",
       "      <td>S</td>\n",
       "    </tr>\n",
       "    <tr>\n",
       "      <th>1</th>\n",
       "      <td>1</td>\n",
       "      <td>0</td>\n",
       "      <td>3</td>\n",
       "      <td>Henry, Miss. Delia</td>\n",
       "      <td>female</td>\n",
       "      <td>NaN</td>\n",
       "      <td>0</td>\n",
       "      <td>0</td>\n",
       "      <td>382649</td>\n",
       "      <td>7.750</td>\n",
       "      <td>NaN</td>\n",
       "      <td>Q</td>\n",
       "    </tr>\n",
       "  </tbody>\n",
       "</table>\n",
       "</div>"
      ],
      "text/plain": [
       "   passengerid  survived  pclass                            name  gender  age  \\\n",
       "0            0         0       2  Wheeler, Mr. Edwin Frederick\"\"    male  NaN   \n",
       "1            1         0       3              Henry, Miss. Delia  female  NaN   \n",
       "\n",
       "   sibsp  parch         ticket    fare cabin embarked  \n",
       "0      0      0  SC/PARIS 2159  12.875   NaN        S  \n",
       "1      0      0         382649   7.750   NaN        Q  "
      ]
     },
     "execution_count": 8,
     "metadata": {},
     "output_type": "execute_result"
    }
   ],
   "source": [
    "ori_train.head(2)"
   ]
  },
  {
   "cell_type": "code",
   "execution_count": 9,
   "id": "8736db89-1e19-4079-946d-0229ba4a550f",
   "metadata": {},
   "outputs": [
    {
     "data": {
      "text/plain": [
       "Index(['passengerid', 'pclass', 'name', 'gender', 'age', 'sibsp', 'parch',\n",
       "       'ticket', 'fare', 'cabin', 'embarked'],\n",
       "      dtype='object')"
      ]
     },
     "execution_count": 9,
     "metadata": {},
     "output_type": "execute_result"
    }
   ],
   "source": [
    "ori_test.columns # survived 가 빠짐 "
   ]
  },
  {
   "cell_type": "code",
   "execution_count": 10,
   "id": "31e7c4a6-51cd-4b3d-a64c-e66dd7092162",
   "metadata": {},
   "outputs": [
    {
     "data": {
      "text/html": [
       "<div>\n",
       "<style scoped>\n",
       "    .dataframe tbody tr th:only-of-type {\n",
       "        vertical-align: middle;\n",
       "    }\n",
       "\n",
       "    .dataframe tbody tr th {\n",
       "        vertical-align: top;\n",
       "    }\n",
       "\n",
       "    .dataframe thead th {\n",
       "        text-align: right;\n",
       "    }\n",
       "</style>\n",
       "<table border=\"1\" class=\"dataframe\">\n",
       "  <thead>\n",
       "    <tr style=\"text-align: right;\">\n",
       "      <th></th>\n",
       "      <th>passengerid</th>\n",
       "      <th>pclass</th>\n",
       "      <th>name</th>\n",
       "      <th>gender</th>\n",
       "      <th>age</th>\n",
       "      <th>sibsp</th>\n",
       "      <th>parch</th>\n",
       "      <th>ticket</th>\n",
       "      <th>fare</th>\n",
       "      <th>cabin</th>\n",
       "      <th>embarked</th>\n",
       "    </tr>\n",
       "  </thead>\n",
       "  <tbody>\n",
       "    <tr>\n",
       "      <th>0</th>\n",
       "      <td>916</td>\n",
       "      <td>3</td>\n",
       "      <td>McGowan, Miss. Anna \"Annie\"</td>\n",
       "      <td>female</td>\n",
       "      <td>15.0</td>\n",
       "      <td>0</td>\n",
       "      <td>0</td>\n",
       "      <td>330923</td>\n",
       "      <td>8.0292</td>\n",
       "      <td>NaN</td>\n",
       "      <td>Q</td>\n",
       "    </tr>\n",
       "    <tr>\n",
       "      <th>1</th>\n",
       "      <td>917</td>\n",
       "      <td>2</td>\n",
       "      <td>Pinsky, Mrs. (Rosa)</td>\n",
       "      <td>female</td>\n",
       "      <td>32.0</td>\n",
       "      <td>0</td>\n",
       "      <td>0</td>\n",
       "      <td>234604</td>\n",
       "      <td>13.0000</td>\n",
       "      <td>NaN</td>\n",
       "      <td>S</td>\n",
       "    </tr>\n",
       "  </tbody>\n",
       "</table>\n",
       "</div>"
      ],
      "text/plain": [
       "   passengerid  pclass                         name  gender   age  sibsp  \\\n",
       "0          916       3  McGowan, Miss. Anna \"Annie\"  female  15.0      0   \n",
       "1          917       2          Pinsky, Mrs. (Rosa)  female  32.0      0   \n",
       "\n",
       "   parch  ticket     fare cabin embarked  \n",
       "0      0  330923   8.0292   NaN        Q  \n",
       "1      0  234604  13.0000   NaN        S  "
      ]
     },
     "execution_count": 10,
     "metadata": {},
     "output_type": "execute_result"
    }
   ],
   "source": [
    "ori_test.head(2)"
   ]
  },
  {
   "cell_type": "markdown",
   "id": "73aa6356-2bb7-415f-986e-f0f3b7c43764",
   "metadata": {
    "tags": []
   },
   "source": [
    "# EDA"
   ]
  },
  {
   "cell_type": "markdown",
   "id": "b361b8c2-eda1-45fb-9aec-f0b12b12795a",
   "metadata": {},
   "source": [
    "### 데이터 바꾸기"
   ]
  },
  {
   "cell_type": "code",
   "execution_count": 11,
   "id": "755a7cad-56a0-4d1c-95cd-aaf6ccaa0b94",
   "metadata": {},
   "outputs": [
    {
     "data": {
      "text/html": [
       "<div>\n",
       "<style scoped>\n",
       "    .dataframe tbody tr th:only-of-type {\n",
       "        vertical-align: middle;\n",
       "    }\n",
       "\n",
       "    .dataframe tbody tr th {\n",
       "        vertical-align: top;\n",
       "    }\n",
       "\n",
       "    .dataframe thead th {\n",
       "        text-align: right;\n",
       "    }\n",
       "</style>\n",
       "<table border=\"1\" class=\"dataframe\">\n",
       "  <thead>\n",
       "    <tr style=\"text-align: right;\">\n",
       "      <th></th>\n",
       "      <th>survived</th>\n",
       "      <th>pclass</th>\n",
       "      <th>name</th>\n",
       "      <th>gender</th>\n",
       "      <th>age</th>\n",
       "      <th>sibsp</th>\n",
       "      <th>parch</th>\n",
       "      <th>ticket</th>\n",
       "      <th>fare</th>\n",
       "      <th>cabin</th>\n",
       "      <th>embarked</th>\n",
       "    </tr>\n",
       "  </thead>\n",
       "  <tbody>\n",
       "    <tr>\n",
       "      <th>0</th>\n",
       "      <td>0</td>\n",
       "      <td>2</td>\n",
       "      <td>Wheeler, Mr. Edwin Frederick\"\"</td>\n",
       "      <td>male</td>\n",
       "      <td>NaN</td>\n",
       "      <td>0</td>\n",
       "      <td>0</td>\n",
       "      <td>SC/PARIS 2159</td>\n",
       "      <td>12.8750</td>\n",
       "      <td>NaN</td>\n",
       "      <td>S</td>\n",
       "    </tr>\n",
       "    <tr>\n",
       "      <th>1</th>\n",
       "      <td>0</td>\n",
       "      <td>3</td>\n",
       "      <td>Henry, Miss. Delia</td>\n",
       "      <td>female</td>\n",
       "      <td>NaN</td>\n",
       "      <td>0</td>\n",
       "      <td>0</td>\n",
       "      <td>382649</td>\n",
       "      <td>7.7500</td>\n",
       "      <td>NaN</td>\n",
       "      <td>Q</td>\n",
       "    </tr>\n",
       "    <tr>\n",
       "      <th>2</th>\n",
       "      <td>1</td>\n",
       "      <td>1</td>\n",
       "      <td>Hays, Mrs. Charles Melville (Clara Jennings Gr...</td>\n",
       "      <td>female</td>\n",
       "      <td>52.0</td>\n",
       "      <td>1</td>\n",
       "      <td>1</td>\n",
       "      <td>12749</td>\n",
       "      <td>93.5000</td>\n",
       "      <td>B69</td>\n",
       "      <td>S</td>\n",
       "    </tr>\n",
       "    <tr>\n",
       "      <th>3</th>\n",
       "      <td>1</td>\n",
       "      <td>3</td>\n",
       "      <td>Andersson, Mr. August Edvard (\"Wennerstrom\")</td>\n",
       "      <td>male</td>\n",
       "      <td>27.0</td>\n",
       "      <td>0</td>\n",
       "      <td>0</td>\n",
       "      <td>350043</td>\n",
       "      <td>7.7958</td>\n",
       "      <td>NaN</td>\n",
       "      <td>S</td>\n",
       "    </tr>\n",
       "    <tr>\n",
       "      <th>4</th>\n",
       "      <td>0</td>\n",
       "      <td>2</td>\n",
       "      <td>Hold, Mr. Stephen</td>\n",
       "      <td>male</td>\n",
       "      <td>44.0</td>\n",
       "      <td>1</td>\n",
       "      <td>0</td>\n",
       "      <td>26707</td>\n",
       "      <td>26.0000</td>\n",
       "      <td>NaN</td>\n",
       "      <td>S</td>\n",
       "    </tr>\n",
       "  </tbody>\n",
       "</table>\n",
       "</div>"
      ],
      "text/plain": [
       "   survived  pclass                                               name  \\\n",
       "0         0       2                     Wheeler, Mr. Edwin Frederick\"\"   \n",
       "1         0       3                                 Henry, Miss. Delia   \n",
       "2         1       1  Hays, Mrs. Charles Melville (Clara Jennings Gr...   \n",
       "3         1       3       Andersson, Mr. August Edvard (\"Wennerstrom\")   \n",
       "4         0       2                                  Hold, Mr. Stephen   \n",
       "\n",
       "   gender   age  sibsp  parch         ticket     fare cabin embarked  \n",
       "0    male   NaN      0      0  SC/PARIS 2159  12.8750   NaN        S  \n",
       "1  female   NaN      0      0         382649   7.7500   NaN        Q  \n",
       "2  female  52.0      1      1          12749  93.5000   B69        S  \n",
       "3    male  27.0      0      0         350043   7.7958   NaN        S  \n",
       "4    male  44.0      1      0          26707  26.0000   NaN        S  "
      ]
     },
     "execution_count": 11,
     "metadata": {},
     "output_type": "execute_result"
    }
   ],
   "source": [
    "ori_train.drop('passengerid', axis=1, inplace=True)\n",
    "ori_train\n",
    "ori_train.head()"
   ]
  },
  {
   "cell_type": "code",
   "execution_count": 12,
   "id": "be623ba6-78e9-4589-8c29-64b5cf05634b",
   "metadata": {},
   "outputs": [
    {
     "name": "stdout",
     "output_type": "stream",
     "text": [
      "(393, 10)\n"
     ]
    },
    {
     "data": {
      "text/html": [
       "<div>\n",
       "<style scoped>\n",
       "    .dataframe tbody tr th:only-of-type {\n",
       "        vertical-align: middle;\n",
       "    }\n",
       "\n",
       "    .dataframe tbody tr th {\n",
       "        vertical-align: top;\n",
       "    }\n",
       "\n",
       "    .dataframe thead th {\n",
       "        text-align: right;\n",
       "    }\n",
       "</style>\n",
       "<table border=\"1\" class=\"dataframe\">\n",
       "  <thead>\n",
       "    <tr style=\"text-align: right;\">\n",
       "      <th></th>\n",
       "      <th>pclass</th>\n",
       "      <th>name</th>\n",
       "      <th>gender</th>\n",
       "      <th>age</th>\n",
       "      <th>sibsp</th>\n",
       "      <th>parch</th>\n",
       "      <th>ticket</th>\n",
       "      <th>fare</th>\n",
       "      <th>cabin</th>\n",
       "      <th>embarked</th>\n",
       "    </tr>\n",
       "    <tr>\n",
       "      <th>passengerid</th>\n",
       "      <th></th>\n",
       "      <th></th>\n",
       "      <th></th>\n",
       "      <th></th>\n",
       "      <th></th>\n",
       "      <th></th>\n",
       "      <th></th>\n",
       "      <th></th>\n",
       "      <th></th>\n",
       "      <th></th>\n",
       "    </tr>\n",
       "  </thead>\n",
       "  <tbody>\n",
       "    <tr>\n",
       "      <th>916</th>\n",
       "      <td>3</td>\n",
       "      <td>McGowan, Miss. Anna \"Annie\"</td>\n",
       "      <td>female</td>\n",
       "      <td>15.0</td>\n",
       "      <td>0</td>\n",
       "      <td>0</td>\n",
       "      <td>330923</td>\n",
       "      <td>8.0292</td>\n",
       "      <td>NaN</td>\n",
       "      <td>Q</td>\n",
       "    </tr>\n",
       "    <tr>\n",
       "      <th>917</th>\n",
       "      <td>2</td>\n",
       "      <td>Pinsky, Mrs. (Rosa)</td>\n",
       "      <td>female</td>\n",
       "      <td>32.0</td>\n",
       "      <td>0</td>\n",
       "      <td>0</td>\n",
       "      <td>234604</td>\n",
       "      <td>13.0000</td>\n",
       "      <td>NaN</td>\n",
       "      <td>S</td>\n",
       "    </tr>\n",
       "    <tr>\n",
       "      <th>918</th>\n",
       "      <td>3</td>\n",
       "      <td>McCarthy, Miss. Catherine Katie\"\"</td>\n",
       "      <td>female</td>\n",
       "      <td>NaN</td>\n",
       "      <td>0</td>\n",
       "      <td>0</td>\n",
       "      <td>383123</td>\n",
       "      <td>7.7500</td>\n",
       "      <td>NaN</td>\n",
       "      <td>Q</td>\n",
       "    </tr>\n",
       "    <tr>\n",
       "      <th>919</th>\n",
       "      <td>3</td>\n",
       "      <td>Franklin, Mr. Charles (Charles Fardon)</td>\n",
       "      <td>male</td>\n",
       "      <td>NaN</td>\n",
       "      <td>0</td>\n",
       "      <td>0</td>\n",
       "      <td>SOTON/O.Q. 3101314</td>\n",
       "      <td>7.2500</td>\n",
       "      <td>NaN</td>\n",
       "      <td>S</td>\n",
       "    </tr>\n",
       "    <tr>\n",
       "      <th>920</th>\n",
       "      <td>1</td>\n",
       "      <td>Wick, Mrs. George Dennick (Mary Hitchcock)</td>\n",
       "      <td>female</td>\n",
       "      <td>45.0</td>\n",
       "      <td>1</td>\n",
       "      <td>1</td>\n",
       "      <td>36928</td>\n",
       "      <td>164.8667</td>\n",
       "      <td>NaN</td>\n",
       "      <td>S</td>\n",
       "    </tr>\n",
       "  </tbody>\n",
       "</table>\n",
       "</div>"
      ],
      "text/plain": [
       "             pclass                                        name  gender   age  \\\n",
       "passengerid                                                                     \n",
       "916               3                 McGowan, Miss. Anna \"Annie\"  female  15.0   \n",
       "917               2                         Pinsky, Mrs. (Rosa)  female  32.0   \n",
       "918               3           McCarthy, Miss. Catherine Katie\"\"  female   NaN   \n",
       "919               3      Franklin, Mr. Charles (Charles Fardon)    male   NaN   \n",
       "920               1  Wick, Mrs. George Dennick (Mary Hitchcock)  female  45.0   \n",
       "\n",
       "             sibsp  parch              ticket      fare cabin embarked  \n",
       "passengerid                                                             \n",
       "916              0      0              330923    8.0292   NaN        Q  \n",
       "917              0      0              234604   13.0000   NaN        S  \n",
       "918              0      0              383123    7.7500   NaN        Q  \n",
       "919              0      0  SOTON/O.Q. 3101314    7.2500   NaN        S  \n",
       "920              1      1               36928  164.8667   NaN        S  "
      ]
     },
     "execution_count": 12,
     "metadata": {},
     "output_type": "execute_result"
    }
   ],
   "source": [
    "ori_test.set_index(['passengerid'], inplace=True) \n",
    "print(f'{ori_test.shape}')\n",
    "ori_test.head()"
   ]
  },
  {
   "cell_type": "markdown",
   "id": "92fdca99-a25c-4a19-9d08-5d52552c4e88",
   "metadata": {
    "tags": []
   },
   "source": [
    "### 수치형 데이터 분석"
   ]
  },
  {
   "cell_type": "code",
   "execution_count": 13,
   "id": "f9bacb69-bb1a-4b1b-8ffa-af3936335718",
   "metadata": {},
   "outputs": [],
   "source": [
    "df_number = ori_train.select_dtypes(include=np.number)"
   ]
  },
  {
   "cell_type": "code",
   "execution_count": 14,
   "id": "4c4834ba-1b85-433f-a4c7-8a4d6faef968",
   "metadata": {},
   "outputs": [
    {
     "data": {
      "text/plain": [
       "Index(['survived', 'pclass', 'age', 'sibsp', 'parch', 'fare'], dtype='object')"
      ]
     },
     "execution_count": 14,
     "metadata": {},
     "output_type": "execute_result"
    }
   ],
   "source": [
    "df_number.columns"
   ]
  },
  {
   "cell_type": "code",
   "execution_count": 15,
   "id": "7801a279-bab0-4a34-958c-207f98a25572",
   "metadata": {},
   "outputs": [
    {
     "data": {
      "text/html": [
       "<div>\n",
       "<style scoped>\n",
       "    .dataframe tbody tr th:only-of-type {\n",
       "        vertical-align: middle;\n",
       "    }\n",
       "\n",
       "    .dataframe tbody tr th {\n",
       "        vertical-align: top;\n",
       "    }\n",
       "\n",
       "    .dataframe thead th {\n",
       "        text-align: right;\n",
       "    }\n",
       "</style>\n",
       "<table border=\"1\" class=\"dataframe\">\n",
       "  <thead>\n",
       "    <tr style=\"text-align: right;\">\n",
       "      <th></th>\n",
       "      <th>survived</th>\n",
       "      <th>pclass</th>\n",
       "      <th>age</th>\n",
       "      <th>sibsp</th>\n",
       "      <th>parch</th>\n",
       "      <th>fare</th>\n",
       "    </tr>\n",
       "  </thead>\n",
       "  <tbody>\n",
       "    <tr>\n",
       "      <th>count</th>\n",
       "      <td>916.000000</td>\n",
       "      <td>916.000000</td>\n",
       "      <td>736.000000</td>\n",
       "      <td>916.000000</td>\n",
       "      <td>916.000000</td>\n",
       "      <td>916.000000</td>\n",
       "    </tr>\n",
       "    <tr>\n",
       "      <th>mean</th>\n",
       "      <td>0.377729</td>\n",
       "      <td>2.292576</td>\n",
       "      <td>29.698370</td>\n",
       "      <td>0.507642</td>\n",
       "      <td>0.361354</td>\n",
       "      <td>32.402710</td>\n",
       "    </tr>\n",
       "    <tr>\n",
       "      <th>std</th>\n",
       "      <td>0.485084</td>\n",
       "      <td>0.838675</td>\n",
       "      <td>14.185627</td>\n",
       "      <td>1.044866</td>\n",
       "      <td>0.828054</td>\n",
       "      <td>50.506411</td>\n",
       "    </tr>\n",
       "    <tr>\n",
       "      <th>min</th>\n",
       "      <td>0.000000</td>\n",
       "      <td>1.000000</td>\n",
       "      <td>0.170000</td>\n",
       "      <td>0.000000</td>\n",
       "      <td>0.000000</td>\n",
       "      <td>0.000000</td>\n",
       "    </tr>\n",
       "    <tr>\n",
       "      <th>25%</th>\n",
       "      <td>0.000000</td>\n",
       "      <td>2.000000</td>\n",
       "      <td>21.000000</td>\n",
       "      <td>0.000000</td>\n",
       "      <td>0.000000</td>\n",
       "      <td>7.895800</td>\n",
       "    </tr>\n",
       "    <tr>\n",
       "      <th>50%</th>\n",
       "      <td>0.000000</td>\n",
       "      <td>3.000000</td>\n",
       "      <td>28.000000</td>\n",
       "      <td>0.000000</td>\n",
       "      <td>0.000000</td>\n",
       "      <td>14.458300</td>\n",
       "    </tr>\n",
       "    <tr>\n",
       "      <th>75%</th>\n",
       "      <td>1.000000</td>\n",
       "      <td>3.000000</td>\n",
       "      <td>38.000000</td>\n",
       "      <td>1.000000</td>\n",
       "      <td>0.000000</td>\n",
       "      <td>30.017700</td>\n",
       "    </tr>\n",
       "    <tr>\n",
       "      <th>max</th>\n",
       "      <td>1.000000</td>\n",
       "      <td>3.000000</td>\n",
       "      <td>80.000000</td>\n",
       "      <td>8.000000</td>\n",
       "      <td>9.000000</td>\n",
       "      <td>512.329200</td>\n",
       "    </tr>\n",
       "  </tbody>\n",
       "</table>\n",
       "</div>"
      ],
      "text/plain": [
       "         survived      pclass         age       sibsp       parch        fare\n",
       "count  916.000000  916.000000  736.000000  916.000000  916.000000  916.000000\n",
       "mean     0.377729    2.292576   29.698370    0.507642    0.361354   32.402710\n",
       "std      0.485084    0.838675   14.185627    1.044866    0.828054   50.506411\n",
       "min      0.000000    1.000000    0.170000    0.000000    0.000000    0.000000\n",
       "25%      0.000000    2.000000   21.000000    0.000000    0.000000    7.895800\n",
       "50%      0.000000    3.000000   28.000000    0.000000    0.000000   14.458300\n",
       "75%      1.000000    3.000000   38.000000    1.000000    0.000000   30.017700\n",
       "max      1.000000    3.000000   80.000000    8.000000    9.000000  512.329200"
      ]
     },
     "execution_count": 15,
     "metadata": {},
     "output_type": "execute_result"
    }
   ],
   "source": [
    "df_number.describe() # age가 수가 적음(결측치가 있을 것이다)"
   ]
  },
  {
   "cell_type": "code",
   "execution_count": 16,
   "id": "fb78788f-cc8c-40c3-bf1e-df9cae83743e",
   "metadata": {},
   "outputs": [
    {
     "data": {
      "text/plain": [
       "3    495\n",
       "1    227\n",
       "2    194\n",
       "Name: pclass, dtype: int64"
      ]
     },
     "execution_count": 16,
     "metadata": {},
     "output_type": "execute_result"
    }
   ],
   "source": [
    "df_number['pclass'].value_counts()"
   ]
  },
  {
   "cell_type": "code",
   "execution_count": 17,
   "id": "571f5ca9-6c63-4331-964b-2b561f11e52e",
   "metadata": {},
   "outputs": [
    {
     "data": {
      "text/plain": [
       "survived     0.280808\n",
       "pclass       3.000000\n",
       "age         24.643483\n",
       "sibsp        0.587879\n",
       "parch        0.408081\n",
       "fare        13.566363\n",
       "dtype: float64"
      ]
     },
     "execution_count": 17,
     "metadata": {},
     "output_type": "execute_result"
    }
   ],
   "source": [
    "df_number[df_number['pclass']==3].mean()"
   ]
  },
  {
   "cell_type": "code",
   "execution_count": 18,
   "id": "b0442036-5c1e-48c8-9b9b-b713b8f1dff5",
   "metadata": {},
   "outputs": [
    {
     "data": {
      "text/plain": [
       "survived     0.391753\n",
       "pclass       2.000000\n",
       "age         29.844262\n",
       "sibsp        0.386598\n",
       "parch        0.319588\n",
       "fare        20.388036\n",
       "dtype: float64"
      ]
     },
     "execution_count": 18,
     "metadata": {},
     "output_type": "execute_result"
    }
   ],
   "source": [
    "df_number[df_number['pclass']==2].mean()"
   ]
  },
  {
   "cell_type": "code",
   "execution_count": 19,
   "id": "52047083-68a2-4bee-a470-7d2f3a7b08b8",
   "metadata": {},
   "outputs": [
    {
     "data": {
      "text/plain": [
       "survived     0.577093\n",
       "pclass       1.000000\n",
       "age         38.697563\n",
       "sibsp        0.436123\n",
       "parch        0.295154\n",
       "fare        83.745613\n",
       "dtype: float64"
      ]
     },
     "execution_count": 19,
     "metadata": {},
     "output_type": "execute_result"
    }
   ],
   "source": [
    "df_number[df_number['pclass']==1].mean()"
   ]
  },
  {
   "cell_type": "markdown",
   "id": "3aa7bbe5-c6ee-4ace-9b2c-6efb1f5ad48b",
   "metadata": {
    "tags": []
   },
   "source": [
    "### 범주형 데이터 분석"
   ]
  },
  {
   "cell_type": "code",
   "execution_count": 20,
   "id": "9b1a4251-6ae0-43a0-941a-cecea8a928e6",
   "metadata": {},
   "outputs": [],
   "source": [
    "df_object = ori_train.select_dtypes(exclude=np.number)"
   ]
  },
  {
   "cell_type": "code",
   "execution_count": 21,
   "id": "81623fbe-d984-4e4c-8477-74bdb5cc6615",
   "metadata": {},
   "outputs": [
    {
     "data": {
      "text/plain": [
       "Index(['name', 'gender', 'ticket', 'cabin', 'embarked', 'survived'], dtype='object')"
      ]
     },
     "execution_count": 21,
     "metadata": {},
     "output_type": "execute_result"
    }
   ],
   "source": [
    "df_object = df_object.join(df_number['survived']) # survived 추가\n",
    "df_object['survived'] = df_object['survived'].astype('object') # 데이터 타입 변경\n",
    "df_object.columns"
   ]
  },
  {
   "cell_type": "code",
   "execution_count": 22,
   "id": "e47f5672-dbec-43ae-ab91-7875b2dbe838",
   "metadata": {},
   "outputs": [
    {
     "data": {
      "text/plain": [
       "male      589\n",
       "female    327\n",
       "Name: gender, dtype: int64"
      ]
     },
     "execution_count": 22,
     "metadata": {},
     "output_type": "execute_result"
    }
   ],
   "source": [
    "df_object['gender'].value_counts()"
   ]
  },
  {
   "cell_type": "code",
   "execution_count": 23,
   "id": "81064c55-bbf2-4bc0-bb86-4b89c4dbf067",
   "metadata": {},
   "outputs": [
    {
     "data": {
      "text/plain": [
       "S    645\n",
       "C    189\n",
       "Q     81\n",
       "Name: embarked, dtype: int64"
      ]
     },
     "execution_count": 23,
     "metadata": {},
     "output_type": "execute_result"
    }
   ],
   "source": [
    "df_object['embarked'].value_counts()"
   ]
  },
  {
   "cell_type": "markdown",
   "id": "fc72bce4-81f8-4b9d-b901-3cf682bc242d",
   "metadata": {
    "tags": []
   },
   "source": [
    "# train_test_split\n"
   ]
  },
  {
   "cell_type": "code",
   "execution_count": 24,
   "id": "724ca0b1-accf-47ef-a608-2330560b3a84",
   "metadata": {},
   "outputs": [],
   "source": [
    "y = ori_train['survived']\n",
    "X = ori_train.drop(['survived'], axis=1)"
   ]
  },
  {
   "cell_type": "code",
   "execution_count": 25,
   "id": "10ef6b86-c692-42db-b3b3-719d30e4a1f9",
   "metadata": {},
   "outputs": [
    {
     "data": {
      "text/plain": [
       "((641, 10), (275, 10), (641,), (275,))"
      ]
     },
     "execution_count": 25,
     "metadata": {},
     "output_type": "execute_result"
    }
   ],
   "source": [
    "from sklearn.model_selection import train_test_split\n",
    "X_tr, X_te, y_tr, y_te = train_test_split(X, y, test_size=0.3, stratify=ori_train['survived'], random_state=21)\n",
    "# stratify 는 층을 나누는데 비율로 똑같이 나눠줘라는 뜻\n",
    "# X_tr , X_te 는 feature와 target칼럼이 있고 Y_tr , Y_te는 target 칼럼만 있음\n",
    "X_tr.shape, X_te.shape, y_tr.shape, y_te.shape"
   ]
  },
  {
   "cell_type": "code",
   "execution_count": 26,
   "id": "7f8a7daf-09f5-4472-80e4-9899f448ab11",
   "metadata": {},
   "outputs": [
    {
     "data": {
      "text/plain": [
       "((641, 10), (275, 10), (393, 10))"
      ]
     },
     "execution_count": 26,
     "metadata": {},
     "output_type": "execute_result"
    }
   ],
   "source": [
    "train = X_tr.copy()\n",
    "test = X_te.copy()\n",
    "ori_te = ori_test.copy()\n",
    "\n",
    "train.shape , test.shape , ori_te.shape"
   ]
  },
  {
   "cell_type": "code",
   "execution_count": 27,
   "id": "8a8f0367-8c47-4daf-a34e-24b3f78c8b69",
   "metadata": {
    "tags": []
   },
   "outputs": [],
   "source": [
    "train.drop(['ticket','cabin','name'], axis=1, inplace=True)"
   ]
  },
  {
   "cell_type": "code",
   "execution_count": 28,
   "id": "d36229dd-a1ad-452a-9c24-b29f00ad35ca",
   "metadata": {},
   "outputs": [],
   "source": [
    "test.drop(['ticket','cabin','name'], axis=1, inplace=True)"
   ]
  },
  {
   "cell_type": "code",
   "execution_count": 29,
   "id": "79c404ba-154b-49d9-9792-b1bd59427b8f",
   "metadata": {},
   "outputs": [
    {
     "data": {
      "text/plain": [
       "((393, 10), (393, 10))"
      ]
     },
     "execution_count": 29,
     "metadata": {},
     "output_type": "execute_result"
    }
   ],
   "source": [
    "ori_te.shape , ori_test.shape"
   ]
  },
  {
   "cell_type": "markdown",
   "id": "3166a8ba-2170-46c3-a4db-55fc165be1c5",
   "metadata": {
    "tags": []
   },
   "source": [
    "# *Base ModelV0*"
   ]
  },
  {
   "cell_type": "markdown",
   "id": "8e6d02a7-c120-4840-a105-682a5800971b",
   "metadata": {},
   "source": [
    "### data processing"
   ]
  },
  {
   "cell_type": "markdown",
   "id": "0194b85a-1d6d-4212-aa0f-279a3d2eeb41",
   "metadata": {},
   "source": [
    "#### 결측치 처리"
   ]
  },
  {
   "cell_type": "code",
   "execution_count": 30,
   "id": "95a66bcf-de2c-466d-bb25-90d28550b638",
   "metadata": {},
   "outputs": [
    {
     "data": {
      "text/plain": [
       "pclass        0\n",
       "gender        0\n",
       "age         129\n",
       "sibsp         0\n",
       "parch         0\n",
       "fare          0\n",
       "embarked      0\n",
       "dtype: int64"
      ]
     },
     "execution_count": 30,
     "metadata": {},
     "output_type": "execute_result"
    }
   ],
   "source": [
    "train.isnull().sum()"
   ]
  },
  {
   "cell_type": "code",
   "execution_count": 31,
   "id": "6dcb9d62-6905-49dc-9f83-f5a84dcb3bf5",
   "metadata": {},
   "outputs": [
    {
     "data": {
      "text/plain": [
       "pclass       0\n",
       "gender       0\n",
       "age         51\n",
       "sibsp        0\n",
       "parch        0\n",
       "fare         0\n",
       "embarked     1\n",
       "dtype: int64"
      ]
     },
     "execution_count": 31,
     "metadata": {},
     "output_type": "execute_result"
    }
   ],
   "source": [
    "test.isnull().sum()"
   ]
  },
  {
   "cell_type": "code",
   "execution_count": 32,
   "id": "9d2ae5d4-6055-470c-a4db-0cc9daaf796f",
   "metadata": {},
   "outputs": [
    {
     "data": {
      "text/plain": [
       "pclass        0\n",
       "name          0\n",
       "gender        0\n",
       "age          83\n",
       "sibsp         0\n",
       "parch         0\n",
       "ticket        0\n",
       "fare          1\n",
       "cabin       296\n",
       "embarked      1\n",
       "dtype: int64"
      ]
     },
     "execution_count": 32,
     "metadata": {},
     "output_type": "execute_result"
    }
   ],
   "source": [
    "ori_te.isnull().sum()"
   ]
  },
  {
   "cell_type": "code",
   "execution_count": 33,
   "id": "f19671cc-0382-4836-b6b5-369202a7db6a",
   "metadata": {},
   "outputs": [
    {
     "data": {
      "text/plain": [
       "(28.0, 14.4, 'S')"
      ]
     },
     "execution_count": 33,
     "metadata": {},
     "output_type": "execute_result"
    }
   ],
   "source": [
    "age_median = train['age'].median()\n",
    "fare_median = train['fare'].median()\n",
    "embarked_mode = train['embarked'].mode().values[0]\n",
    "\n",
    "age_median, fare_median, embarked_mode"
   ]
  },
  {
   "cell_type": "code",
   "execution_count": 34,
   "id": "25d2d833-9c4a-417c-8fe1-5a20870daf9f",
   "metadata": {},
   "outputs": [],
   "source": [
    "train['age'].fillna(age_median, inplace=True)\n",
    "test['age'].fillna(age_median, inplace=True)\n",
    "ori_te['age'].fillna(age_median, inplace=True)\n",
    "\n",
    "train['fare'].fillna(fare_median, inplace=True)\n",
    "test['fare'].fillna(fare_median, inplace=True)\n",
    "ori_te['fare'].fillna(fare_median, inplace=True)\n",
    "\n",
    "train['embarked'].fillna(embarked_mode, inplace=True)\n",
    "test['embarked'].fillna(embarked_mode, inplace=True)\n",
    "ori_te['embarked'].fillna(embarked_mode, inplace=True)\n"
   ]
  },
  {
   "cell_type": "markdown",
   "id": "5cc8f339-3016-4b14-b898-7977a4226964",
   "metadata": {},
   "source": [
    "### data encoding"
   ]
  },
  {
   "cell_type": "code",
   "execution_count": 35,
   "id": "f471e8a6-9084-47fc-a7ae-2290b6d0c553",
   "metadata": {},
   "outputs": [],
   "source": [
    "from sklearn.preprocessing import OneHotEncoder"
   ]
  },
  {
   "cell_type": "code",
   "execution_count": 36,
   "id": "870a22cd-4e4c-4c94-9ce6-dd3f912e9bab",
   "metadata": {},
   "outputs": [
    {
     "data": {
      "text/plain": [
       "Index(['pclass', 'gender', 'age', 'sibsp', 'parch', 'fare', 'embarked'], dtype='object')"
      ]
     },
     "execution_count": 36,
     "metadata": {},
     "output_type": "execute_result"
    }
   ],
   "source": [
    "train.columns \n",
    "# train data 중에서 70퍼인 train (641,8)"
   ]
  },
  {
   "cell_type": "code",
   "execution_count": 37,
   "id": "2bd22ad5-2164-4ab4-8e2d-255e611c3f4b",
   "metadata": {},
   "outputs": [
    {
     "data": {
      "text/plain": [
       "['sibsp', 'parch', 'pclass', 'age', 'fare']"
      ]
     },
     "execution_count": 37,
     "metadata": {},
     "output_type": "execute_result"
    }
   ],
   "source": [
    "enc_cols = ['gender', 'embarked'] # 문자형 데이터\n",
    "normal_cols = list(set(train.columns) - set(enc_cols))\n",
    "normal_cols # gender , embarked 를 뺸 있는 list(수치형데이터)"
   ]
  },
  {
   "cell_type": "code",
   "execution_count": 38,
   "id": "f0f9cf4a-2e21-43ec-949a-41f4d4b495e1",
   "metadata": {},
   "outputs": [
    {
     "name": "stdout",
     "output_type": "stream",
     "text": [
      "before: (641, 7) / (275, 7) / (393, 10)\n",
      "after: (641, 10) / (275, 10) / (393, 10)\n"
     ]
    }
   ],
   "source": [
    "enc = OneHotEncoder()\n",
    "\n",
    "tmp_tr = pd.DataFrame(\n",
    "    enc.fit_transform(train[enc_cols]).toarray(), #범주형 encoder 적용시켜서 temp_tr에 저장\n",
    "    columns = enc.get_feature_names_out() # feature name을 뽑아냄 \n",
    ")  \n",
    "enc_tr = pd.concat(\n",
    "    [train[normal_cols].reset_index(drop=True), tmp_tr.reset_index(drop=True)]\n",
    "    , axis=1\n",
    ") \n",
    "# 수치형 데이터(train[normal_cols]) + encoding 된 문자형 데이터(tmp_tr) 를 합쳐서 enc_tr\n",
    "\n",
    "\n",
    "\n",
    "# test (ori_te 에서 나온 te  -> 모델의 학습을 평가(잘했는지 못했는지))\n",
    "tmp_te = pd.DataFrame(\n",
    "    enc.transform(test[enc_cols]).toarray(), \n",
    "    columns = enc.get_feature_names_out()\n",
    ")\n",
    "enc_te = pd.concat(\n",
    "    [test[normal_cols].reset_index(drop=True), tmp_te.reset_index(drop=True)]\n",
    "    , axis=1\n",
    ")\n",
    "\n",
    "\n",
    "# ori_test\n",
    "tmp_te = pd.DataFrame(\n",
    "    enc.transform(ori_te[enc_cols]).toarray(), \n",
    "    columns = enc.get_feature_names_out()\n",
    ")\n",
    "enc_ori_te = pd.concat(\n",
    "    [ori_te[normal_cols].reset_index(drop=True), tmp_te.reset_index(drop=True)]\n",
    "    , axis=1\n",
    ")\n",
    "print(f'before: {train.shape} / {test.shape} / {ori_te.shape}')\n",
    "print(f'after: {enc_tr.shape} / {enc_te.shape} / {enc_ori_te.shape}') # gender가 두개로 , embarked가 3개로 "
   ]
  },
  {
   "cell_type": "markdown",
   "id": "48433b2b-6450-4561-b0cc-195148b25be6",
   "metadata": {},
   "source": [
    "### Training"
   ]
  },
  {
   "cell_type": "code",
   "execution_count": 39,
   "id": "5b2d8561-64bc-4ee1-b285-e1a5a4733c31",
   "metadata": {},
   "outputs": [],
   "source": [
    "from sklearn.ensemble import RandomForestClassifier\n",
    "from sklearn.tree import DecisionTreeClassifier"
   ]
  },
  {
   "cell_type": "code",
   "execution_count": 40,
   "id": "fee78cd1-44fa-4c0a-8b33-700b58b89703",
   "metadata": {},
   "outputs": [
    {
     "name": "stdout",
     "output_type": "stream",
     "text": [
      "(641, 10) / (641,)\n"
     ]
    },
    {
     "data": {
      "text/html": [
       "<style>#sk-container-id-1 {color: black;background-color: white;}#sk-container-id-1 pre{padding: 0;}#sk-container-id-1 div.sk-toggleable {background-color: white;}#sk-container-id-1 label.sk-toggleable__label {cursor: pointer;display: block;width: 100%;margin-bottom: 0;padding: 0.3em;box-sizing: border-box;text-align: center;}#sk-container-id-1 label.sk-toggleable__label-arrow:before {content: \"▸\";float: left;margin-right: 0.25em;color: #696969;}#sk-container-id-1 label.sk-toggleable__label-arrow:hover:before {color: black;}#sk-container-id-1 div.sk-estimator:hover label.sk-toggleable__label-arrow:before {color: black;}#sk-container-id-1 div.sk-toggleable__content {max-height: 0;max-width: 0;overflow: hidden;text-align: left;background-color: #f0f8ff;}#sk-container-id-1 div.sk-toggleable__content pre {margin: 0.2em;color: black;border-radius: 0.25em;background-color: #f0f8ff;}#sk-container-id-1 input.sk-toggleable__control:checked~div.sk-toggleable__content {max-height: 200px;max-width: 100%;overflow: auto;}#sk-container-id-1 input.sk-toggleable__control:checked~label.sk-toggleable__label-arrow:before {content: \"▾\";}#sk-container-id-1 div.sk-estimator input.sk-toggleable__control:checked~label.sk-toggleable__label {background-color: #d4ebff;}#sk-container-id-1 div.sk-label input.sk-toggleable__control:checked~label.sk-toggleable__label {background-color: #d4ebff;}#sk-container-id-1 input.sk-hidden--visually {border: 0;clip: rect(1px 1px 1px 1px);clip: rect(1px, 1px, 1px, 1px);height: 1px;margin: -1px;overflow: hidden;padding: 0;position: absolute;width: 1px;}#sk-container-id-1 div.sk-estimator {font-family: monospace;background-color: #f0f8ff;border: 1px dotted black;border-radius: 0.25em;box-sizing: border-box;margin-bottom: 0.5em;}#sk-container-id-1 div.sk-estimator:hover {background-color: #d4ebff;}#sk-container-id-1 div.sk-parallel-item::after {content: \"\";width: 100%;border-bottom: 1px solid gray;flex-grow: 1;}#sk-container-id-1 div.sk-label:hover label.sk-toggleable__label {background-color: #d4ebff;}#sk-container-id-1 div.sk-serial::before {content: \"\";position: absolute;border-left: 1px solid gray;box-sizing: border-box;top: 0;bottom: 0;left: 50%;z-index: 0;}#sk-container-id-1 div.sk-serial {display: flex;flex-direction: column;align-items: center;background-color: white;padding-right: 0.2em;padding-left: 0.2em;position: relative;}#sk-container-id-1 div.sk-item {position: relative;z-index: 1;}#sk-container-id-1 div.sk-parallel {display: flex;align-items: stretch;justify-content: center;background-color: white;position: relative;}#sk-container-id-1 div.sk-item::before, #sk-container-id-1 div.sk-parallel-item::before {content: \"\";position: absolute;border-left: 1px solid gray;box-sizing: border-box;top: 0;bottom: 0;left: 50%;z-index: -1;}#sk-container-id-1 div.sk-parallel-item {display: flex;flex-direction: column;z-index: 1;position: relative;background-color: white;}#sk-container-id-1 div.sk-parallel-item:first-child::after {align-self: flex-end;width: 50%;}#sk-container-id-1 div.sk-parallel-item:last-child::after {align-self: flex-start;width: 50%;}#sk-container-id-1 div.sk-parallel-item:only-child::after {width: 0;}#sk-container-id-1 div.sk-dashed-wrapped {border: 1px dashed gray;margin: 0 0.4em 0.5em 0.4em;box-sizing: border-box;padding-bottom: 0.4em;background-color: white;}#sk-container-id-1 div.sk-label label {font-family: monospace;font-weight: bold;display: inline-block;line-height: 1.2em;}#sk-container-id-1 div.sk-label-container {text-align: center;}#sk-container-id-1 div.sk-container {/* jupyter's `normalize.less` sets `[hidden] { display: none; }` but bootstrap.min.css set `[hidden] { display: none !important; }` so we also need the `!important` here to be able to override the default hidden behavior on the sphinx rendered scikit-learn.org. See: https://github.com/scikit-learn/scikit-learn/issues/21755 */display: inline-block !important;position: relative;}#sk-container-id-1 div.sk-text-repr-fallback {display: none;}</style><div id=\"sk-container-id-1\" class=\"sk-top-container\"><div class=\"sk-text-repr-fallback\"><pre>RandomForestClassifier(random_state=21)</pre><b>In a Jupyter environment, please rerun this cell to show the HTML representation or trust the notebook. <br />On GitHub, the HTML representation is unable to render, please try loading this page with nbviewer.org.</b></div><div class=\"sk-container\" hidden><div class=\"sk-item\"><div class=\"sk-estimator sk-toggleable\"><input class=\"sk-toggleable__control sk-hidden--visually\" id=\"sk-estimator-id-1\" type=\"checkbox\" checked><label for=\"sk-estimator-id-1\" class=\"sk-toggleable__label sk-toggleable__label-arrow\">RandomForestClassifier</label><div class=\"sk-toggleable__content\"><pre>RandomForestClassifier(random_state=21)</pre></div></div></div></div></div>"
      ],
      "text/plain": [
       "RandomForestClassifier(random_state=21)"
      ]
     },
     "execution_count": 40,
     "metadata": {},
     "output_type": "execute_result"
    }
   ],
   "source": [
    "modelV0 = RandomForestClassifier(random_state=21)\n",
    "\n",
    "print(f'{enc_tr.shape} / {y_tr.shape}')\n",
    "modelV0.fit(enc_tr, y_tr) # 적합 시킨다 "
   ]
  },
  {
   "cell_type": "markdown",
   "id": "a7cf01ed-1688-4e57-8d9e-31a2d95018dd",
   "metadata": {},
   "source": [
    "### Evaluation"
   ]
  },
  {
   "cell_type": "code",
   "execution_count": 41,
   "id": "054ea3a8-52f1-40a8-8bbb-16f5a51003f4",
   "metadata": {},
   "outputs": [
    {
     "data": {
      "text/plain": [
       "(0.982839313572543, 0.8327272727272728)"
      ]
     },
     "execution_count": 41,
     "metadata": {},
     "output_type": "execute_result"
    }
   ],
   "source": [
    "score_tr = modelV0.score(enc_tr, y_tr) # 인코딩된 train 데이터로 Y_tr 타겟팅 \n",
    "score_te = modelV0.score(enc_te, y_te) # 인코딩된 test 데이터로 Y_te 타겟팅\n",
    "\n",
    "score_tr, score_te  "
   ]
  },
  {
   "cell_type": "code",
   "execution_count": 42,
   "id": "41962d3c-59f3-4992-9254-bbd4a26be59a",
   "metadata": {},
   "outputs": [
    {
     "name": "stdout",
     "output_type": "stream",
     "text": [
      "model: 0.9005847953216374\n"
     ]
    }
   ],
   "source": [
    "from sklearn.metrics import roc_curve, auc \n",
    "\n",
    "y_pred = modelV0.predict_proba(enc_te)[:,1] # 인코딩된 모델을 예측함\n",
    "# 학습률 평가 \n",
    "fpr, tpr, thresholds = roc_curve(y_te,y_pred)\n",
    "auc_te = auc(fpr, tpr)\n",
    "print(f'model: {auc_te}')"
   ]
  },
  {
   "cell_type": "code",
   "execution_count": 43,
   "id": "431adc23-0e31-4b54-a371-8626d01f38de",
   "metadata": {},
   "outputs": [],
   "source": [
    "ori_te_pred = modelV0.predict_proba(enc_ori_te)[:,1] # enc_ori_te (실제 test 데이터에 적용을 시킴)"
   ]
  },
  {
   "cell_type": "code",
   "execution_count": 44,
   "id": "7a71e083-7450-428e-88d4-06a80cf3b23c",
   "metadata": {
    "tags": []
   },
   "outputs": [
    {
     "name": "stdout",
     "output_type": "stream",
     "text": [
      "(10, 2)\n"
     ]
    },
    {
     "data": {
      "text/html": [
       "<div>\n",
       "<style scoped>\n",
       "    .dataframe tbody tr th:only-of-type {\n",
       "        vertical-align: middle;\n",
       "    }\n",
       "\n",
       "    .dataframe tbody tr th {\n",
       "        vertical-align: top;\n",
       "    }\n",
       "\n",
       "    .dataframe thead th {\n",
       "        text-align: right;\n",
       "    }\n",
       "</style>\n",
       "<table border=\"1\" class=\"dataframe\">\n",
       "  <thead>\n",
       "    <tr style=\"text-align: right;\">\n",
       "      <th></th>\n",
       "      <th>index</th>\n",
       "      <th>0</th>\n",
       "    </tr>\n",
       "  </thead>\n",
       "  <tbody>\n",
       "    <tr>\n",
       "      <th>0</th>\n",
       "      <td>gender_male</td>\n",
       "      <td>0.259275</td>\n",
       "    </tr>\n",
       "    <tr>\n",
       "      <th>1</th>\n",
       "      <td>fare</td>\n",
       "      <td>0.211946</td>\n",
       "    </tr>\n",
       "    <tr>\n",
       "      <th>2</th>\n",
       "      <td>age</td>\n",
       "      <td>0.191211</td>\n",
       "    </tr>\n",
       "    <tr>\n",
       "      <th>3</th>\n",
       "      <td>gender_female</td>\n",
       "      <td>0.177724</td>\n",
       "    </tr>\n",
       "    <tr>\n",
       "      <th>4</th>\n",
       "      <td>pclass</td>\n",
       "      <td>0.057519</td>\n",
       "    </tr>\n",
       "    <tr>\n",
       "      <th>5</th>\n",
       "      <td>sibsp</td>\n",
       "      <td>0.042059</td>\n",
       "    </tr>\n",
       "    <tr>\n",
       "      <th>6</th>\n",
       "      <td>parch</td>\n",
       "      <td>0.032050</td>\n",
       "    </tr>\n",
       "    <tr>\n",
       "      <th>7</th>\n",
       "      <td>embarked_S</td>\n",
       "      <td>0.011315</td>\n",
       "    </tr>\n",
       "    <tr>\n",
       "      <th>8</th>\n",
       "      <td>embarked_C</td>\n",
       "      <td>0.009416</td>\n",
       "    </tr>\n",
       "    <tr>\n",
       "      <th>9</th>\n",
       "      <td>embarked_Q</td>\n",
       "      <td>0.007486</td>\n",
       "    </tr>\n",
       "  </tbody>\n",
       "</table>\n",
       "</div>"
      ],
      "text/plain": [
       "           index         0\n",
       "0    gender_male  0.259275\n",
       "1           fare  0.211946\n",
       "2            age  0.191211\n",
       "3  gender_female  0.177724\n",
       "4         pclass  0.057519\n",
       "5          sibsp  0.042059\n",
       "6          parch  0.032050\n",
       "7     embarked_S  0.011315\n",
       "8     embarked_C  0.009416\n",
       "9     embarked_Q  0.007486"
      ]
     },
     "execution_count": 44,
     "metadata": {},
     "output_type": "execute_result"
    }
   ],
   "source": [
    "df_feature_importances = pd.DataFrame(modelV0.feature_importances_, enc_tr.columns).sort_values(by=[0], ascending=False).reset_index()\n",
    "\n",
    "print(f'{df_feature_importances.shape}')\n",
    "df_feature_importances"
   ]
  },
  {
   "cell_type": "code",
   "execution_count": 45,
   "id": "cc563887-91a0-4519-a4e6-10b11e454037",
   "metadata": {
    "tags": []
   },
   "outputs": [],
   "source": [
    "args.results.append(\n",
    "    {\n",
    "        'model': 'modelV0',\n",
    "        'score_tr': score_tr,\n",
    "        'score_te': score_te,\n",
    "        'auc_te': auc_te,\n",
    "        'ori_te_pred': ori_te_pred,\n",
    "        'len_features': X_tr.shape[1],\n",
    "        'feaute_importances': list(df_feature_importances['index'].values[:X_tr.shape[1]]),\n",
    "        'create_dt': '0330'\n",
    "    }\n",
    ")"
   ]
  },
  {
   "cell_type": "markdown",
   "id": "675e1256-dd87-4625-90b4-3b7b5dc25da3",
   "metadata": {
    "tags": []
   },
   "source": [
    "# *Base ModelV1*"
   ]
  },
  {
   "cell_type": "code",
   "execution_count": 46,
   "id": "37e757fa-a734-4cf0-851b-56c7f2d4061d",
   "metadata": {},
   "outputs": [
    {
     "data": {
      "text/plain": [
       "((641, 10), (275, 10), (393, 10))"
      ]
     },
     "execution_count": 46,
     "metadata": {},
     "output_type": "execute_result"
    }
   ],
   "source": [
    "train = X_tr.copy() \n",
    "test = X_te.copy()\n",
    "ori_te = ori_test.copy()\n",
    "\n",
    "train.shape, test.shape, ori_te.shape"
   ]
  },
  {
   "cell_type": "markdown",
   "id": "6d99f485-9a81-44c2-ab57-3d050d0a39be",
   "metadata": {
    "tags": []
   },
   "source": [
    "### Data preprocessing"
   ]
  },
  {
   "cell_type": "code",
   "execution_count": 47,
   "id": "2d3173f2-0c2e-473b-859f-ee82eaf7970c",
   "metadata": {
    "tags": []
   },
   "outputs": [
    {
     "name": "stdout",
     "output_type": "stream",
     "text": [
      "before: (641, 10) / (275, 10)\n",
      "after: (641, 7) / (275, 7)\n"
     ]
    }
   ],
   "source": [
    "print(f'before: {train.shape} / {test.shape}')\n",
    "drop_cols = ['name', 'ticket', 'cabin']\n",
    "\n",
    "train.drop(drop_cols, axis=1, inplace=True)\n",
    "test.drop(drop_cols, axis=1, inplace=True)\n",
    "ori_te.drop(drop_cols, axis=1, inplace=True)\n",
    "\n",
    "\n",
    "print(f'after: {train.shape} / {test.shape}')"
   ]
  },
  {
   "cell_type": "markdown",
   "id": "962e1f86-b608-453b-a3d2-1b0d19239074",
   "metadata": {
    "tags": []
   },
   "source": [
    "#### 결측치 처리"
   ]
  },
  {
   "cell_type": "code",
   "execution_count": 48,
   "id": "39da240a-70d4-4d6f-8e65-ad4344dcfb5b",
   "metadata": {},
   "outputs": [
    {
     "data": {
      "text/plain": [
       "(28.0, 14.4, 'S')"
      ]
     },
     "execution_count": 48,
     "metadata": {},
     "output_type": "execute_result"
    }
   ],
   "source": [
    "age_median = train['age'].median()\n",
    "fare_median = train['fare'].median()\n",
    "embarked_mode = train['embarked'].mode().values[0]\n",
    "\n",
    "age_median, fare_median, embarked_mode"
   ]
  },
  {
   "cell_type": "code",
   "execution_count": 49,
   "id": "9b251440-56ab-420c-83ca-918f917def25",
   "metadata": {},
   "outputs": [
    {
     "data": {
      "text/plain": [
       "(0, 0, 0)"
      ]
     },
     "execution_count": 49,
     "metadata": {},
     "output_type": "execute_result"
    }
   ],
   "source": [
    "train['age'].fillna(age_median, inplace=True)\n",
    "test['age'].fillna(age_median, inplace=True)\n",
    "ori_te['age'].fillna(age_median, inplace=True)\n",
    "\n",
    "train['fare'].fillna(fare_median, inplace=True)\n",
    "test['fare'].fillna(fare_median, inplace=True)\n",
    "ori_te['fare'].fillna(fare_median, inplace=True)\n",
    "\n",
    "train['embarked'].fillna(embarked_mode, inplace=True)\n",
    "test['embarked'].fillna(embarked_mode, inplace=True)\n",
    "ori_te['embarked'].fillna(embarked_mode, inplace=True)\n",
    "\n",
    "train.isnull().sum().sum(), test.isnull().sum().sum(), ori_te.isnull().sum().sum()"
   ]
  },
  {
   "cell_type": "markdown",
   "id": "b791d967-b94c-4119-9966-f3e0e8cffac8",
   "metadata": {},
   "source": [
    "### data encoding"
   ]
  },
  {
   "cell_type": "code",
   "execution_count": 50,
   "id": "2a9e221f-4248-4b69-aa72-7578bcb3aeee",
   "metadata": {},
   "outputs": [
    {
     "data": {
      "text/plain": [
       "['sibsp', 'parch', 'pclass', 'age', 'fare']"
      ]
     },
     "execution_count": 50,
     "metadata": {},
     "output_type": "execute_result"
    }
   ],
   "source": [
    "enc_cols = ['gender', 'embarked']\n",
    "normal_cols = list(set(train.columns) - set(enc_cols))\n",
    "normal_cols"
   ]
  },
  {
   "cell_type": "code",
   "execution_count": 51,
   "id": "8a554204-f391-4e20-8478-3f99c40d2b8b",
   "metadata": {},
   "outputs": [
    {
     "name": "stdout",
     "output_type": "stream",
     "text": [
      "before: (641, 7) / (275, 7) / (393, 7)\n",
      "after: (641, 10) / (275, 10) / (393, 10)\n"
     ]
    }
   ],
   "source": [
    "enc = OneHotEncoder()\n",
    "\n",
    "tmp_tr = pd.DataFrame(\n",
    "    enc.fit_transform(train[enc_cols]).toarray(), #범주형 encoder 적용시켜서 temp_tr에 저장\n",
    "    columns = enc.get_feature_names_out() # feature name을 뽑아냄 \n",
    ")  \n",
    "enc_tr = pd.concat(\n",
    "    [train[normal_cols].reset_index(drop=True), tmp_tr.reset_index(drop=True)]\n",
    "    , axis=1\n",
    ") \n",
    "# 수치형 데이터(train[normal_cols]) + encoding 된 문자형 데이터(tmp_tr) 를 합쳐서 enc_tr\n",
    "\n",
    "\n",
    "\n",
    "# test (ori_te 에서 나온 te  -> 모델의 학습을 평가(잘했는지 못했는지))\n",
    "tmp_te = pd.DataFrame(\n",
    "    enc.transform(test[enc_cols]).toarray(), \n",
    "    columns = enc.get_feature_names_out()\n",
    ")\n",
    "enc_te = pd.concat(\n",
    "    [test[normal_cols].reset_index(drop=True), tmp_te.reset_index(drop=True)]\n",
    "    , axis=1\n",
    ")\n",
    "\n",
    "\n",
    "# ori_test\n",
    "tmp_te = pd.DataFrame(\n",
    "    enc.transform(ori_te[enc_cols]).toarray(), \n",
    "    columns = enc.get_feature_names_out()\n",
    ")\n",
    "enc_ori_te = pd.concat(\n",
    "    [ori_te[normal_cols].reset_index(drop=True), tmp_te.reset_index(drop=True)]\n",
    "    , axis=1\n",
    ")\n",
    "print(f'before: {train.shape} / {test.shape} / {ori_te.shape}')\n",
    "print(f'after: {enc_tr.shape} / {enc_te.shape} / {enc_ori_te.shape}')\n",
    "# gender가 두개로 , embarked가 3개로 "
   ]
  },
  {
   "cell_type": "markdown",
   "id": "57777dae-76d9-4a62-b8ab-ebe2359134af",
   "metadata": {},
   "source": [
    "### Scaler"
   ]
  },
  {
   "cell_type": "code",
   "execution_count": 52,
   "id": "3484d944-3b2b-47d2-8de0-6f50bf1866c6",
   "metadata": {},
   "outputs": [
    {
     "data": {
      "text/plain": [
       "Index(['sibsp', 'parch', 'pclass', 'age', 'fare', 'gender_female',\n",
       "       'gender_male', 'embarked_C', 'embarked_Q', 'embarked_S'],\n",
       "      dtype='object')"
      ]
     },
     "execution_count": 52,
     "metadata": {},
     "output_type": "execute_result"
    }
   ],
   "source": [
    "enc_tr.columns"
   ]
  },
  {
   "cell_type": "code",
   "execution_count": 53,
   "id": "9245c073-e19e-4f39-af3d-60000f7b99ba",
   "metadata": {},
   "outputs": [
    {
     "data": {
      "text/plain": [
       "['embarked_S',\n",
       " 'sibsp',\n",
       " 'parch',\n",
       " 'embarked_Q',\n",
       " 'pclass',\n",
       " 'gender_male',\n",
       " 'gender_female',\n",
       " 'embarked_C']"
      ]
     },
     "execution_count": 53,
     "metadata": {},
     "output_type": "execute_result"
    }
   ],
   "source": [
    "scaling_cols = ['age', 'fare']\n",
    "not_scaling_cols = list(set(enc_tr.columns) - set(scaling_cols))\n",
    "not_scaling_cols "
   ]
  },
  {
   "cell_type": "code",
   "execution_count": 54,
   "id": "90421504-0d3c-435a-bdfd-ba0bb544c06a",
   "metadata": {},
   "outputs": [],
   "source": [
    "from sklearn.preprocessing import StandardScaler"
   ]
  },
  {
   "cell_type": "code",
   "execution_count": 55,
   "id": "d94e52dc-70d4-4157-b799-f3b630a40dd9",
   "metadata": {},
   "outputs": [],
   "source": [
    "std = StandardScaler()\n",
    "\n",
    "_scaled_tr = std.fit_transform(enc_tr[scaling_cols])\n",
    "_scaled_te = std.transform(enc_te[scaling_cols])\n",
    "_scaled_ori_te = std.transform(enc_ori_te[scaling_cols])"
   ]
  },
  {
   "cell_type": "code",
   "execution_count": 56,
   "id": "4c5a65b8-1f19-413c-842c-b67b716370b5",
   "metadata": {},
   "outputs": [
    {
     "name": "stdout",
     "output_type": "stream",
     "text": [
      "before: (641, 10) / (275, 10) / (393, 10)\n",
      "after: (641, 10) / (275, 10) / (393, 10)\n"
     ]
    }
   ],
   "source": [
    "print(f'before: {enc_tr.shape} / {enc_te.shape} / {enc_ori_te.shape}')\n",
    "# train\n",
    "tmp_tr = pd.DataFrame(\n",
    "    _scaled_tr, \n",
    "    columns = scaling_cols\n",
    ")\n",
    "scaled_tr = pd.concat(\n",
    "    [enc_tr[not_scaling_cols].reset_index(drop=True), tmp_tr.reset_index(drop=True)]\n",
    "    , axis=1\n",
    ").reset_index(drop=True)\n",
    "\n",
    "# test\n",
    "tmp_te = pd.DataFrame(\n",
    "    _scaled_te, \n",
    "    columns = scaling_cols\n",
    ")\n",
    "scaled_te = pd.concat(\n",
    "    [enc_te[not_scaling_cols].reset_index(drop=True), tmp_te.reset_index(drop=True)]\n",
    "    , axis=1\n",
    ").reset_index(drop=True)\n",
    "\n",
    "# ori_test\n",
    "tmp_te = pd.DataFrame(\n",
    "    _scaled_ori_te, \n",
    "    columns = scaling_cols\n",
    ")\n",
    "scaled_ori_te = pd.concat(\n",
    "    [enc_ori_te[not_scaling_cols].reset_index(drop=True), tmp_te.reset_index(drop=True)]\n",
    "    , axis=1\n",
    ").reset_index(drop=True)\n",
    "\n",
    "\n",
    "print(f'after: {scaled_tr.shape} / {scaled_te.shape} / {scaled_ori_te.shape}')"
   ]
  },
  {
   "cell_type": "markdown",
   "id": "0816b960-5ed1-4a09-88e1-cb4ecfcaeb0a",
   "metadata": {},
   "source": [
    "### Training"
   ]
  },
  {
   "cell_type": "code",
   "execution_count": 57,
   "id": "9f344985-880b-439e-850d-ff547147570a",
   "metadata": {},
   "outputs": [
    {
     "data": {
      "text/html": [
       "<style>#sk-container-id-2 {color: black;background-color: white;}#sk-container-id-2 pre{padding: 0;}#sk-container-id-2 div.sk-toggleable {background-color: white;}#sk-container-id-2 label.sk-toggleable__label {cursor: pointer;display: block;width: 100%;margin-bottom: 0;padding: 0.3em;box-sizing: border-box;text-align: center;}#sk-container-id-2 label.sk-toggleable__label-arrow:before {content: \"▸\";float: left;margin-right: 0.25em;color: #696969;}#sk-container-id-2 label.sk-toggleable__label-arrow:hover:before {color: black;}#sk-container-id-2 div.sk-estimator:hover label.sk-toggleable__label-arrow:before {color: black;}#sk-container-id-2 div.sk-toggleable__content {max-height: 0;max-width: 0;overflow: hidden;text-align: left;background-color: #f0f8ff;}#sk-container-id-2 div.sk-toggleable__content pre {margin: 0.2em;color: black;border-radius: 0.25em;background-color: #f0f8ff;}#sk-container-id-2 input.sk-toggleable__control:checked~div.sk-toggleable__content {max-height: 200px;max-width: 100%;overflow: auto;}#sk-container-id-2 input.sk-toggleable__control:checked~label.sk-toggleable__label-arrow:before {content: \"▾\";}#sk-container-id-2 div.sk-estimator input.sk-toggleable__control:checked~label.sk-toggleable__label {background-color: #d4ebff;}#sk-container-id-2 div.sk-label input.sk-toggleable__control:checked~label.sk-toggleable__label {background-color: #d4ebff;}#sk-container-id-2 input.sk-hidden--visually {border: 0;clip: rect(1px 1px 1px 1px);clip: rect(1px, 1px, 1px, 1px);height: 1px;margin: -1px;overflow: hidden;padding: 0;position: absolute;width: 1px;}#sk-container-id-2 div.sk-estimator {font-family: monospace;background-color: #f0f8ff;border: 1px dotted black;border-radius: 0.25em;box-sizing: border-box;margin-bottom: 0.5em;}#sk-container-id-2 div.sk-estimator:hover {background-color: #d4ebff;}#sk-container-id-2 div.sk-parallel-item::after {content: \"\";width: 100%;border-bottom: 1px solid gray;flex-grow: 1;}#sk-container-id-2 div.sk-label:hover label.sk-toggleable__label {background-color: #d4ebff;}#sk-container-id-2 div.sk-serial::before {content: \"\";position: absolute;border-left: 1px solid gray;box-sizing: border-box;top: 0;bottom: 0;left: 50%;z-index: 0;}#sk-container-id-2 div.sk-serial {display: flex;flex-direction: column;align-items: center;background-color: white;padding-right: 0.2em;padding-left: 0.2em;position: relative;}#sk-container-id-2 div.sk-item {position: relative;z-index: 1;}#sk-container-id-2 div.sk-parallel {display: flex;align-items: stretch;justify-content: center;background-color: white;position: relative;}#sk-container-id-2 div.sk-item::before, #sk-container-id-2 div.sk-parallel-item::before {content: \"\";position: absolute;border-left: 1px solid gray;box-sizing: border-box;top: 0;bottom: 0;left: 50%;z-index: -1;}#sk-container-id-2 div.sk-parallel-item {display: flex;flex-direction: column;z-index: 1;position: relative;background-color: white;}#sk-container-id-2 div.sk-parallel-item:first-child::after {align-self: flex-end;width: 50%;}#sk-container-id-2 div.sk-parallel-item:last-child::after {align-self: flex-start;width: 50%;}#sk-container-id-2 div.sk-parallel-item:only-child::after {width: 0;}#sk-container-id-2 div.sk-dashed-wrapped {border: 1px dashed gray;margin: 0 0.4em 0.5em 0.4em;box-sizing: border-box;padding-bottom: 0.4em;background-color: white;}#sk-container-id-2 div.sk-label label {font-family: monospace;font-weight: bold;display: inline-block;line-height: 1.2em;}#sk-container-id-2 div.sk-label-container {text-align: center;}#sk-container-id-2 div.sk-container {/* jupyter's `normalize.less` sets `[hidden] { display: none; }` but bootstrap.min.css set `[hidden] { display: none !important; }` so we also need the `!important` here to be able to override the default hidden behavior on the sphinx rendered scikit-learn.org. See: https://github.com/scikit-learn/scikit-learn/issues/21755 */display: inline-block !important;position: relative;}#sk-container-id-2 div.sk-text-repr-fallback {display: none;}</style><div id=\"sk-container-id-2\" class=\"sk-top-container\"><div class=\"sk-text-repr-fallback\"><pre>RandomForestClassifier(random_state=21)</pre><b>In a Jupyter environment, please rerun this cell to show the HTML representation or trust the notebook. <br />On GitHub, the HTML representation is unable to render, please try loading this page with nbviewer.org.</b></div><div class=\"sk-container\" hidden><div class=\"sk-item\"><div class=\"sk-estimator sk-toggleable\"><input class=\"sk-toggleable__control sk-hidden--visually\" id=\"sk-estimator-id-2\" type=\"checkbox\" checked><label for=\"sk-estimator-id-2\" class=\"sk-toggleable__label sk-toggleable__label-arrow\">RandomForestClassifier</label><div class=\"sk-toggleable__content\"><pre>RandomForestClassifier(random_state=21)</pre></div></div></div></div></div>"
      ],
      "text/plain": [
       "RandomForestClassifier(random_state=21)"
      ]
     },
     "execution_count": 57,
     "metadata": {},
     "output_type": "execute_result"
    }
   ],
   "source": [
    "from sklearn.ensemble import RandomForestClassifier\n",
    "\n",
    "modelV1 = RandomForestClassifier(random_state=21)\n",
    "\n",
    "modelV1.fit(scaled_tr, y_tr)"
   ]
  },
  {
   "cell_type": "markdown",
   "id": "eb215102-4cc0-45fe-86ff-6af856e5bbb7",
   "metadata": {},
   "source": [
    "### Evaluation"
   ]
  },
  {
   "cell_type": "code",
   "execution_count": 58,
   "id": "37421934-47e9-44ce-9ae9-e4a9a75bc98a",
   "metadata": {},
   "outputs": [
    {
     "data": {
      "text/plain": [
       "(0.982839313572543, 0.8181818181818182)"
      ]
     },
     "execution_count": 58,
     "metadata": {},
     "output_type": "execute_result"
    }
   ],
   "source": [
    "score_tr = modelV1.score(scaled_tr, y_tr)\n",
    "score_te = modelV1.score(scaled_te, y_te) \n",
    "\n",
    "score_tr, score_te  "
   ]
  },
  {
   "cell_type": "code",
   "execution_count": 59,
   "id": "e8493c28-a3ba-4456-9e05-36db0c6eb13a",
   "metadata": {},
   "outputs": [
    {
     "name": "stdout",
     "output_type": "stream",
     "text": [
      "model: 0.898363697705803\n"
     ]
    }
   ],
   "source": [
    "from sklearn.metrics import roc_curve, auc \n",
    "\n",
    "y_pred = modelV1.predict_proba(scaled_te)[:,1]\n",
    "fpr, tpr, thresholds = roc_curve(y_te,y_pred)\n",
    "auc_te = auc(fpr, tpr)\n",
    "print(f'model: {auc_te}')"
   ]
  },
  {
   "cell_type": "code",
   "execution_count": 60,
   "id": "4084829c-535f-495e-9629-65966f9a6efc",
   "metadata": {
    "tags": []
   },
   "outputs": [],
   "source": [
    "ori_te_pred = modelV1.predict_proba(scaled_ori_te)[:,1]"
   ]
  },
  {
   "cell_type": "code",
   "execution_count": 61,
   "id": "4c8ac77d-0327-4a97-852e-19b46e06c8db",
   "metadata": {},
   "outputs": [
    {
     "name": "stdout",
     "output_type": "stream",
     "text": [
      "(10, 2)\n"
     ]
    }
   ],
   "source": [
    "df_feature_importances = pd.DataFrame(modelV1.feature_importances_, scaled_tr.columns).sort_values(by=[0], ascending=False).reset_index()\n",
    "print(f'{df_feature_importances.shape}')"
   ]
  },
  {
   "cell_type": "code",
   "execution_count": 62,
   "id": "2a0edd15-7a72-4df8-aa09-765c7165d780",
   "metadata": {
    "tags": []
   },
   "outputs": [],
   "source": [
    "args.results.append(\n",
    "    {\n",
    "        'model': 'modelV1',\n",
    "        'score_tr': score_tr,\n",
    "        'score_te': score_te,\n",
    "        'auc_te': auc_te,\n",
    "        'ori_te_pred': ori_te_pred,\n",
    "        'len_features': X_tr.shape[1],\n",
    "        'feaute_importances': list(df_feature_importances['index'].values[:X_tr.shape[1]]),\n",
    "        'create_dt': '0330'\n",
    "    }\n",
    ")"
   ]
  },
  {
   "cell_type": "markdown",
   "id": "1ca52501-a879-48f8-ba18-a0bc4612d235",
   "metadata": {},
   "source": [
    "# Base ModelV2"
   ]
  },
  {
   "cell_type": "code",
   "execution_count": 63,
   "id": "96ea6df8-adb8-4f4b-a4fe-45f33a51e963",
   "metadata": {},
   "outputs": [
    {
     "data": {
      "text/plain": [
       "((641, 10), (275, 10), (393, 10))"
      ]
     },
     "execution_count": 63,
     "metadata": {},
     "output_type": "execute_result"
    }
   ],
   "source": [
    "train = X_tr.copy() \n",
    "test = X_te.copy()\n",
    "ori_te = ori_test.copy()\n",
    "\n",
    "train.shape, test.shape, ori_te.shape"
   ]
  },
  {
   "cell_type": "markdown",
   "id": "26341b97-b964-4d89-b2f3-057162488164",
   "metadata": {},
   "source": [
    "### Data processing"
   ]
  },
  {
   "cell_type": "code",
   "execution_count": 64,
   "id": "b9cb6f19-d0d2-48b6-b968-7c3ab52cd35b",
   "metadata": {},
   "outputs": [
    {
     "name": "stdout",
     "output_type": "stream",
     "text": [
      "before: (641, 10) / (275, 10)\n",
      "after: (641, 7) / (275, 7)\n"
     ]
    }
   ],
   "source": [
    "print(f'before: {train.shape} / {test.shape}')\n",
    "drop_cols = ['name', 'ticket', 'cabin']\n",
    "\n",
    "train.drop(drop_cols, axis=1, inplace=True)\n",
    "test.drop(drop_cols, axis=1, inplace=True)\n",
    "ori_te.drop(drop_cols, axis=1, inplace=True)\n",
    "\n",
    "print(f'after: {train.shape} / {test.shape}')"
   ]
  },
  {
   "cell_type": "markdown",
   "id": "62783b44-0982-43e0-89b8-8a6d96b70c16",
   "metadata": {},
   "source": [
    "#### 결측치 처리"
   ]
  },
  {
   "cell_type": "code",
   "execution_count": 65,
   "id": "977d2230-0380-4c17-a233-51ab95ac93ff",
   "metadata": {},
   "outputs": [
    {
     "data": {
      "text/plain": [
       "(0, 0, 0)"
      ]
     },
     "execution_count": 65,
     "metadata": {},
     "output_type": "execute_result"
    }
   ],
   "source": [
    "age_median = train['age'].median()\n",
    "fare_median = train['fare'].median()\n",
    "embarked_mode = train['embarked'].mode().values[0]\n",
    "\n",
    "train['age'].fillna(age_median, inplace=True)\n",
    "test['age'].fillna(age_median, inplace=True)\n",
    "ori_te['age'].fillna(age_median, inplace=True)\n",
    "\n",
    "train['fare'].fillna(fare_median, inplace=True)\n",
    "test['fare'].fillna(fare_median, inplace=True)\n",
    "ori_te['fare'].fillna(fare_median, inplace=True)\n",
    "\n",
    "train['embarked'].fillna(embarked_mode, inplace=True)\n",
    "test['embarked'].fillna(embarked_mode, inplace=True)\n",
    "ori_te['embarked'].fillna(embarked_mode, inplace=True)\n",
    "\n",
    "train.isnull().sum().sum(), test.isnull().sum().sum(), ori_te.isnull().sum().sum()"
   ]
  },
  {
   "cell_type": "markdown",
   "id": "ad004831-82f3-4ae2-a232-165037c86cc6",
   "metadata": {},
   "source": [
    "### scaler"
   ]
  },
  {
   "cell_type": "code",
   "execution_count": 66,
   "id": "7f807909-7c47-4206-924e-62dfcdf2a39d",
   "metadata": {},
   "outputs": [
    {
     "name": "stdout",
     "output_type": "stream",
     "text": [
      "before: (641, 10) / (275, 10)\n",
      "after: (641, 10) / (275, 10)\n"
     ]
    }
   ],
   "source": [
    "scaling_cols = ['age', 'fare']\n",
    "not_scaling_cols = list(set(enc_tr.columns) - set(scaling_cols))\n",
    "\n",
    "from sklearn.preprocessing import RobustScaler\n",
    "\n",
    "rbs = RobustScaler()\n",
    "_scaled_tr = rbs.fit_transform(enc_tr[scaling_cols])\n",
    "_scaled_te = rbs.transform(enc_te[scaling_cols])\n",
    "_scaled_ori_te = rbs.transform(enc_ori_te[scaling_cols])\n",
    "\n",
    "print(f'before: {enc_tr.shape} / {enc_te.shape}')\n",
    "# train\n",
    "tmp_tr = pd.DataFrame(\n",
    "    _scaled_tr, \n",
    "    columns = scaling_cols\n",
    ")\n",
    "scaled_tr = pd.concat(\n",
    "    [enc_tr[not_scaling_cols].reset_index(drop=True), tmp_tr.reset_index(drop=True)]\n",
    "    , axis=1\n",
    ").reset_index(drop=True)\n",
    "# test\n",
    "tmp_te = pd.DataFrame(\n",
    "    _scaled_te, \n",
    "    columns = scaling_cols\n",
    ")\n",
    "scaled_te = pd.concat(\n",
    "    [enc_te[not_scaling_cols].reset_index(drop=True), tmp_te.reset_index(drop=True)]\n",
    "    , axis=1\n",
    ").reset_index(drop=True)\n",
    "# ori_test\n",
    "tmp_te = pd.DataFrame(\n",
    "    _scaled_ori_te, \n",
    "    columns = scaling_cols\n",
    ")\n",
    "scaled_ori_te = pd.concat(\n",
    "    [enc_ori_te[not_scaling_cols].reset_index(drop=True), tmp_te.reset_index(drop=True)]\n",
    "    , axis=1\n",
    ").reset_index(drop=True)\n",
    "\n",
    "print(f'after: {scaled_tr.shape} / {scaled_te.shape}')"
   ]
  },
  {
   "cell_type": "code",
   "execution_count": 67,
   "id": "35c0853b-a1df-4637-8fda-6ac8f69e9b45",
   "metadata": {},
   "outputs": [
    {
     "data": {
      "text/plain": [
       "((641, 10), (275, 10), (393, 10))"
      ]
     },
     "execution_count": 67,
     "metadata": {},
     "output_type": "execute_result"
    }
   ],
   "source": [
    "scaled_tr.shape, scaled_te.shape, scaled_ori_te.shape"
   ]
  },
  {
   "cell_type": "markdown",
   "id": "9d1a972c-caf9-4b60-8f59-9e38ca97470a",
   "metadata": {},
   "source": [
    "### Training"
   ]
  },
  {
   "cell_type": "code",
   "execution_count": 91,
   "id": "764e9532-2778-4539-ad8e-b1102b784ffb",
   "metadata": {},
   "outputs": [],
   "source": [
    "from xgboost import XGBClassifier,plot_importance\n",
    "from lightgbm import LGBMClassifier, plot_importance\n",
    "from catboost import CatBoostClassifier"
   ]
  },
  {
   "cell_type": "code",
   "execution_count": 92,
   "id": "7b6d6a7b-8be6-4aac-9882-cfa38b6158b3",
   "metadata": {
    "collapsed": true,
    "jupyter": {
     "outputs_hidden": true
    },
    "tags": []
   },
   "outputs": [
    {
     "name": "stdout",
     "output_type": "stream",
     "text": [
      "Learning rate set to 0.00852\n",
      "0:\tlearn: 0.6874523\ttotal: 134ms\tremaining: 2m 13s\n",
      "1:\tlearn: 0.6803195\ttotal: 136ms\tremaining: 1m 8s\n",
      "2:\tlearn: 0.6745926\ttotal: 138ms\tremaining: 45.9s\n",
      "3:\tlearn: 0.6676400\ttotal: 139ms\tremaining: 34.7s\n",
      "4:\tlearn: 0.6610960\ttotal: 142ms\tremaining: 28.2s\n",
      "5:\tlearn: 0.6557238\ttotal: 143ms\tremaining: 23.8s\n",
      "6:\tlearn: 0.6483730\ttotal: 146ms\tremaining: 20.7s\n",
      "7:\tlearn: 0.6426677\ttotal: 148ms\tremaining: 18.3s\n",
      "8:\tlearn: 0.6361989\ttotal: 150ms\tremaining: 16.5s\n",
      "9:\tlearn: 0.6303904\ttotal: 152ms\tremaining: 15s\n",
      "10:\tlearn: 0.6260622\ttotal: 153ms\tremaining: 13.8s\n",
      "11:\tlearn: 0.6203975\ttotal: 155ms\tremaining: 12.8s\n",
      "12:\tlearn: 0.6146806\ttotal: 158ms\tremaining: 12s\n",
      "13:\tlearn: 0.6104544\ttotal: 160ms\tremaining: 11.3s\n",
      "14:\tlearn: 0.6049242\ttotal: 163ms\tremaining: 10.7s\n",
      "15:\tlearn: 0.6010359\ttotal: 164ms\tremaining: 10.1s\n",
      "16:\tlearn: 0.5959112\ttotal: 167ms\tremaining: 9.67s\n",
      "17:\tlearn: 0.5913772\ttotal: 170ms\tremaining: 9.29s\n",
      "18:\tlearn: 0.5868158\ttotal: 173ms\tremaining: 8.94s\n",
      "19:\tlearn: 0.5832455\ttotal: 175ms\tremaining: 8.56s\n",
      "20:\tlearn: 0.5776809\ttotal: 177ms\tremaining: 8.27s\n",
      "21:\tlearn: 0.5724929\ttotal: 180ms\tremaining: 8.01s\n",
      "22:\tlearn: 0.5680122\ttotal: 183ms\tremaining: 7.77s\n",
      "23:\tlearn: 0.5632568\ttotal: 186ms\tremaining: 7.54s\n",
      "24:\tlearn: 0.5581061\ttotal: 188ms\tremaining: 7.33s\n",
      "25:\tlearn: 0.5536508\ttotal: 191ms\tremaining: 7.17s\n",
      "26:\tlearn: 0.5493229\ttotal: 194ms\tremaining: 6.99s\n",
      "27:\tlearn: 0.5444081\ttotal: 197ms\tremaining: 6.85s\n",
      "28:\tlearn: 0.5402747\ttotal: 199ms\tremaining: 6.67s\n",
      "29:\tlearn: 0.5363952\ttotal: 201ms\tremaining: 6.51s\n",
      "30:\tlearn: 0.5325977\ttotal: 204ms\tremaining: 6.37s\n",
      "31:\tlearn: 0.5289745\ttotal: 206ms\tremaining: 6.22s\n",
      "32:\tlearn: 0.5251980\ttotal: 208ms\tremaining: 6.09s\n",
      "33:\tlearn: 0.5210112\ttotal: 210ms\tremaining: 5.98s\n",
      "34:\tlearn: 0.5173926\ttotal: 213ms\tremaining: 5.87s\n",
      "35:\tlearn: 0.5137770\ttotal: 216ms\tremaining: 5.77s\n",
      "36:\tlearn: 0.5106372\ttotal: 217ms\tremaining: 5.65s\n",
      "37:\tlearn: 0.5072093\ttotal: 220ms\tremaining: 5.56s\n",
      "38:\tlearn: 0.5036593\ttotal: 222ms\tremaining: 5.47s\n",
      "39:\tlearn: 0.4998772\ttotal: 225ms\tremaining: 5.39s\n",
      "40:\tlearn: 0.4971268\ttotal: 227ms\tremaining: 5.32s\n",
      "41:\tlearn: 0.4943584\ttotal: 230ms\tremaining: 5.24s\n",
      "42:\tlearn: 0.4908374\ttotal: 232ms\tremaining: 5.16s\n",
      "43:\tlearn: 0.4878630\ttotal: 235ms\tremaining: 5.1s\n",
      "44:\tlearn: 0.4846007\ttotal: 237ms\tremaining: 5.03s\n",
      "45:\tlearn: 0.4818391\ttotal: 240ms\tremaining: 4.97s\n",
      "46:\tlearn: 0.4791859\ttotal: 242ms\tremaining: 4.9s\n",
      "47:\tlearn: 0.4759620\ttotal: 244ms\tremaining: 4.84s\n",
      "48:\tlearn: 0.4736430\ttotal: 247ms\tremaining: 4.78s\n",
      "49:\tlearn: 0.4712375\ttotal: 249ms\tremaining: 4.73s\n",
      "50:\tlearn: 0.4680638\ttotal: 251ms\tremaining: 4.67s\n",
      "51:\tlearn: 0.4656717\ttotal: 254ms\tremaining: 4.62s\n",
      "52:\tlearn: 0.4638264\ttotal: 255ms\tremaining: 4.56s\n",
      "53:\tlearn: 0.4612652\ttotal: 257ms\tremaining: 4.51s\n",
      "54:\tlearn: 0.4591274\ttotal: 259ms\tremaining: 4.45s\n",
      "55:\tlearn: 0.4565277\ttotal: 261ms\tremaining: 4.4s\n",
      "56:\tlearn: 0.4544411\ttotal: 263ms\tremaining: 4.36s\n",
      "57:\tlearn: 0.4520321\ttotal: 266ms\tremaining: 4.32s\n",
      "58:\tlearn: 0.4499349\ttotal: 268ms\tremaining: 4.28s\n",
      "59:\tlearn: 0.4477526\ttotal: 270ms\tremaining: 4.24s\n",
      "60:\tlearn: 0.4455833\ttotal: 273ms\tremaining: 4.2s\n",
      "61:\tlearn: 0.4435541\ttotal: 275ms\tremaining: 4.16s\n",
      "62:\tlearn: 0.4411655\ttotal: 278ms\tremaining: 4.13s\n",
      "63:\tlearn: 0.4392881\ttotal: 280ms\tremaining: 4.09s\n",
      "64:\tlearn: 0.4372563\ttotal: 282ms\tremaining: 4.06s\n",
      "65:\tlearn: 0.4359933\ttotal: 284ms\tremaining: 4.02s\n",
      "66:\tlearn: 0.4337024\ttotal: 286ms\tremaining: 3.98s\n",
      "67:\tlearn: 0.4324929\ttotal: 287ms\tremaining: 3.94s\n",
      "68:\tlearn: 0.4306874\ttotal: 289ms\tremaining: 3.9s\n",
      "69:\tlearn: 0.4286663\ttotal: 292ms\tremaining: 3.87s\n",
      "70:\tlearn: 0.4271658\ttotal: 294ms\tremaining: 3.85s\n",
      "71:\tlearn: 0.4256275\ttotal: 296ms\tremaining: 3.82s\n",
      "72:\tlearn: 0.4235879\ttotal: 299ms\tremaining: 3.8s\n",
      "73:\tlearn: 0.4216844\ttotal: 302ms\tremaining: 3.77s\n",
      "74:\tlearn: 0.4200574\ttotal: 304ms\tremaining: 3.75s\n",
      "75:\tlearn: 0.4184537\ttotal: 306ms\tremaining: 3.72s\n",
      "76:\tlearn: 0.4167965\ttotal: 309ms\tremaining: 3.7s\n",
      "77:\tlearn: 0.4151606\ttotal: 311ms\tremaining: 3.67s\n",
      "78:\tlearn: 0.4135037\ttotal: 313ms\tremaining: 3.65s\n",
      "79:\tlearn: 0.4118506\ttotal: 316ms\tremaining: 3.64s\n",
      "80:\tlearn: 0.4103454\ttotal: 319ms\tremaining: 3.61s\n",
      "81:\tlearn: 0.4092939\ttotal: 320ms\tremaining: 3.58s\n",
      "82:\tlearn: 0.4078057\ttotal: 322ms\tremaining: 3.56s\n",
      "83:\tlearn: 0.4063215\ttotal: 325ms\tremaining: 3.54s\n",
      "84:\tlearn: 0.4053132\ttotal: 327ms\tremaining: 3.52s\n",
      "85:\tlearn: 0.4044960\ttotal: 329ms\tremaining: 3.49s\n",
      "86:\tlearn: 0.4027530\ttotal: 332ms\tremaining: 3.48s\n",
      "87:\tlearn: 0.4012307\ttotal: 334ms\tremaining: 3.46s\n",
      "88:\tlearn: 0.4004668\ttotal: 335ms\tremaining: 3.43s\n",
      "89:\tlearn: 0.3995656\ttotal: 337ms\tremaining: 3.4s\n",
      "90:\tlearn: 0.3986341\ttotal: 338ms\tremaining: 3.38s\n",
      "91:\tlearn: 0.3973511\ttotal: 341ms\tremaining: 3.36s\n",
      "92:\tlearn: 0.3961997\ttotal: 343ms\tremaining: 3.34s\n",
      "93:\tlearn: 0.3949756\ttotal: 346ms\tremaining: 3.33s\n",
      "94:\tlearn: 0.3942788\ttotal: 347ms\tremaining: 3.31s\n",
      "95:\tlearn: 0.3930933\ttotal: 350ms\tremaining: 3.29s\n",
      "96:\tlearn: 0.3916969\ttotal: 352ms\tremaining: 3.28s\n",
      "97:\tlearn: 0.3906176\ttotal: 355ms\tremaining: 3.26s\n",
      "98:\tlearn: 0.3891984\ttotal: 357ms\tremaining: 3.25s\n",
      "99:\tlearn: 0.3880468\ttotal: 360ms\tremaining: 3.24s\n",
      "100:\tlearn: 0.3869654\ttotal: 362ms\tremaining: 3.23s\n",
      "101:\tlearn: 0.3857140\ttotal: 365ms\tremaining: 3.21s\n",
      "102:\tlearn: 0.3844918\ttotal: 367ms\tremaining: 3.2s\n",
      "103:\tlearn: 0.3835561\ttotal: 370ms\tremaining: 3.19s\n",
      "104:\tlearn: 0.3825929\ttotal: 373ms\tremaining: 3.17s\n",
      "105:\tlearn: 0.3816023\ttotal: 375ms\tremaining: 3.16s\n",
      "106:\tlearn: 0.3805329\ttotal: 377ms\tremaining: 3.15s\n",
      "107:\tlearn: 0.3797263\ttotal: 379ms\tremaining: 3.13s\n",
      "108:\tlearn: 0.3787091\ttotal: 381ms\tremaining: 3.12s\n",
      "109:\tlearn: 0.3774794\ttotal: 384ms\tremaining: 3.1s\n",
      "110:\tlearn: 0.3764721\ttotal: 386ms\tremaining: 3.09s\n",
      "111:\tlearn: 0.3755749\ttotal: 388ms\tremaining: 3.08s\n",
      "112:\tlearn: 0.3746381\ttotal: 390ms\tremaining: 3.06s\n",
      "113:\tlearn: 0.3734627\ttotal: 393ms\tremaining: 3.05s\n",
      "114:\tlearn: 0.3725752\ttotal: 395ms\tremaining: 3.04s\n",
      "115:\tlearn: 0.3717453\ttotal: 397ms\tremaining: 3.02s\n",
      "116:\tlearn: 0.3710061\ttotal: 399ms\tremaining: 3.01s\n",
      "117:\tlearn: 0.3703308\ttotal: 401ms\tremaining: 3s\n",
      "118:\tlearn: 0.3694888\ttotal: 404ms\tremaining: 2.99s\n",
      "119:\tlearn: 0.3690197\ttotal: 405ms\tremaining: 2.97s\n",
      "120:\tlearn: 0.3683384\ttotal: 407ms\tremaining: 2.96s\n",
      "121:\tlearn: 0.3676610\ttotal: 409ms\tremaining: 2.94s\n",
      "122:\tlearn: 0.3669369\ttotal: 411ms\tremaining: 2.93s\n",
      "123:\tlearn: 0.3661736\ttotal: 414ms\tremaining: 2.92s\n",
      "124:\tlearn: 0.3655100\ttotal: 416ms\tremaining: 2.91s\n",
      "125:\tlearn: 0.3648593\ttotal: 418ms\tremaining: 2.9s\n",
      "126:\tlearn: 0.3644906\ttotal: 419ms\tremaining: 2.88s\n",
      "127:\tlearn: 0.3641478\ttotal: 421ms\tremaining: 2.87s\n",
      "128:\tlearn: 0.3634092\ttotal: 423ms\tremaining: 2.86s\n",
      "129:\tlearn: 0.3628007\ttotal: 425ms\tremaining: 2.84s\n",
      "130:\tlearn: 0.3622298\ttotal: 426ms\tremaining: 2.83s\n",
      "131:\tlearn: 0.3616975\ttotal: 429ms\tremaining: 2.82s\n",
      "132:\tlearn: 0.3612367\ttotal: 431ms\tremaining: 2.81s\n",
      "133:\tlearn: 0.3606885\ttotal: 432ms\tremaining: 2.79s\n",
      "134:\tlearn: 0.3600162\ttotal: 434ms\tremaining: 2.78s\n",
      "135:\tlearn: 0.3595037\ttotal: 437ms\tremaining: 2.77s\n",
      "136:\tlearn: 0.3590198\ttotal: 439ms\tremaining: 2.77s\n",
      "137:\tlearn: 0.3583845\ttotal: 441ms\tremaining: 2.76s\n",
      "138:\tlearn: 0.3576862\ttotal: 443ms\tremaining: 2.75s\n",
      "139:\tlearn: 0.3570053\ttotal: 446ms\tremaining: 2.74s\n",
      "140:\tlearn: 0.3561573\ttotal: 448ms\tremaining: 2.73s\n",
      "141:\tlearn: 0.3557681\ttotal: 450ms\tremaining: 2.72s\n",
      "142:\tlearn: 0.3551393\ttotal: 452ms\tremaining: 2.71s\n",
      "143:\tlearn: 0.3547921\ttotal: 453ms\tremaining: 2.69s\n",
      "144:\tlearn: 0.3542160\ttotal: 456ms\tremaining: 2.69s\n",
      "145:\tlearn: 0.3537550\ttotal: 458ms\tremaining: 2.68s\n",
      "146:\tlearn: 0.3529773\ttotal: 460ms\tremaining: 2.67s\n",
      "147:\tlearn: 0.3525212\ttotal: 462ms\tremaining: 2.66s\n",
      "148:\tlearn: 0.3519121\ttotal: 464ms\tremaining: 2.65s\n",
      "149:\tlearn: 0.3512999\ttotal: 466ms\tremaining: 2.64s\n",
      "150:\tlearn: 0.3504394\ttotal: 469ms\tremaining: 2.63s\n",
      "151:\tlearn: 0.3498639\ttotal: 471ms\tremaining: 2.63s\n",
      "152:\tlearn: 0.3496665\ttotal: 472ms\tremaining: 2.61s\n",
      "153:\tlearn: 0.3489740\ttotal: 474ms\tremaining: 2.6s\n",
      "154:\tlearn: 0.3484539\ttotal: 476ms\tremaining: 2.6s\n",
      "155:\tlearn: 0.3479235\ttotal: 479ms\tremaining: 2.59s\n",
      "156:\tlearn: 0.3473209\ttotal: 481ms\tremaining: 2.58s\n",
      "157:\tlearn: 0.3468224\ttotal: 483ms\tremaining: 2.57s\n",
      "158:\tlearn: 0.3463634\ttotal: 485ms\tremaining: 2.56s\n",
      "159:\tlearn: 0.3458569\ttotal: 487ms\tremaining: 2.56s\n",
      "160:\tlearn: 0.3456700\ttotal: 488ms\tremaining: 2.54s\n",
      "161:\tlearn: 0.3452527\ttotal: 490ms\tremaining: 2.54s\n",
      "162:\tlearn: 0.3446430\ttotal: 493ms\tremaining: 2.53s\n",
      "163:\tlearn: 0.3439507\ttotal: 495ms\tremaining: 2.52s\n",
      "164:\tlearn: 0.3434451\ttotal: 497ms\tremaining: 2.51s\n",
      "165:\tlearn: 0.3429499\ttotal: 499ms\tremaining: 2.51s\n",
      "166:\tlearn: 0.3425119\ttotal: 502ms\tremaining: 2.5s\n",
      "167:\tlearn: 0.3421552\ttotal: 504ms\tremaining: 2.5s\n",
      "168:\tlearn: 0.3417335\ttotal: 507ms\tremaining: 2.49s\n",
      "169:\tlearn: 0.3412464\ttotal: 509ms\tremaining: 2.49s\n",
      "170:\tlearn: 0.3408485\ttotal: 512ms\tremaining: 2.48s\n",
      "171:\tlearn: 0.3401390\ttotal: 514ms\tremaining: 2.48s\n",
      "172:\tlearn: 0.3396863\ttotal: 517ms\tremaining: 2.47s\n",
      "173:\tlearn: 0.3391814\ttotal: 519ms\tremaining: 2.46s\n",
      "174:\tlearn: 0.3387966\ttotal: 521ms\tremaining: 2.46s\n",
      "175:\tlearn: 0.3384773\ttotal: 524ms\tremaining: 2.45s\n",
      "176:\tlearn: 0.3383084\ttotal: 526ms\tremaining: 2.44s\n",
      "177:\tlearn: 0.3380020\ttotal: 528ms\tremaining: 2.44s\n",
      "178:\tlearn: 0.3376040\ttotal: 531ms\tremaining: 2.43s\n",
      "179:\tlearn: 0.3372152\ttotal: 533ms\tremaining: 2.43s\n",
      "180:\tlearn: 0.3366179\ttotal: 535ms\tremaining: 2.42s\n",
      "181:\tlearn: 0.3364247\ttotal: 537ms\tremaining: 2.41s\n",
      "182:\tlearn: 0.3360587\ttotal: 539ms\tremaining: 2.41s\n",
      "183:\tlearn: 0.3358961\ttotal: 541ms\tremaining: 2.4s\n",
      "184:\tlearn: 0.3355833\ttotal: 543ms\tremaining: 2.39s\n",
      "185:\tlearn: 0.3352694\ttotal: 546ms\tremaining: 2.39s\n",
      "186:\tlearn: 0.3351204\ttotal: 547ms\tremaining: 2.38s\n",
      "187:\tlearn: 0.3349162\ttotal: 549ms\tremaining: 2.37s\n",
      "188:\tlearn: 0.3347452\ttotal: 551ms\tremaining: 2.36s\n",
      "189:\tlearn: 0.3344331\ttotal: 553ms\tremaining: 2.36s\n",
      "190:\tlearn: 0.3338952\ttotal: 555ms\tremaining: 2.35s\n",
      "191:\tlearn: 0.3336327\ttotal: 558ms\tremaining: 2.35s\n",
      "192:\tlearn: 0.3334140\ttotal: 560ms\tremaining: 2.34s\n",
      "193:\tlearn: 0.3331159\ttotal: 562ms\tremaining: 2.33s\n",
      "194:\tlearn: 0.3329201\ttotal: 564ms\tremaining: 2.33s\n",
      "195:\tlearn: 0.3327123\ttotal: 566ms\tremaining: 2.32s\n",
      "196:\tlearn: 0.3324539\ttotal: 569ms\tremaining: 2.32s\n",
      "197:\tlearn: 0.3322363\ttotal: 571ms\tremaining: 2.31s\n",
      "198:\tlearn: 0.3320111\ttotal: 573ms\tremaining: 2.31s\n",
      "199:\tlearn: 0.3315122\ttotal: 575ms\tremaining: 2.3s\n",
      "200:\tlearn: 0.3314255\ttotal: 576ms\tremaining: 2.29s\n",
      "201:\tlearn: 0.3310126\ttotal: 579ms\tremaining: 2.29s\n",
      "202:\tlearn: 0.3307172\ttotal: 581ms\tremaining: 2.28s\n",
      "203:\tlearn: 0.3305476\ttotal: 583ms\tremaining: 2.27s\n",
      "204:\tlearn: 0.3302239\ttotal: 585ms\tremaining: 2.27s\n",
      "205:\tlearn: 0.3299005\ttotal: 587ms\tremaining: 2.26s\n",
      "206:\tlearn: 0.3294736\ttotal: 590ms\tremaining: 2.26s\n",
      "207:\tlearn: 0.3290259\ttotal: 592ms\tremaining: 2.25s\n",
      "208:\tlearn: 0.3288768\ttotal: 594ms\tremaining: 2.25s\n",
      "209:\tlearn: 0.3287266\ttotal: 596ms\tremaining: 2.24s\n",
      "210:\tlearn: 0.3284182\ttotal: 598ms\tremaining: 2.23s\n",
      "211:\tlearn: 0.3280333\ttotal: 600ms\tremaining: 2.23s\n",
      "212:\tlearn: 0.3276667\ttotal: 602ms\tremaining: 2.23s\n",
      "213:\tlearn: 0.3274981\ttotal: 605ms\tremaining: 2.22s\n",
      "214:\tlearn: 0.3273179\ttotal: 606ms\tremaining: 2.21s\n",
      "215:\tlearn: 0.3270581\ttotal: 608ms\tremaining: 2.21s\n",
      "216:\tlearn: 0.3268215\ttotal: 610ms\tremaining: 2.2s\n",
      "217:\tlearn: 0.3264702\ttotal: 613ms\tremaining: 2.2s\n",
      "218:\tlearn: 0.3262416\ttotal: 615ms\tremaining: 2.19s\n",
      "219:\tlearn: 0.3258738\ttotal: 617ms\tremaining: 2.19s\n",
      "220:\tlearn: 0.3255962\ttotal: 619ms\tremaining: 2.18s\n",
      "221:\tlearn: 0.3250917\ttotal: 622ms\tremaining: 2.18s\n",
      "222:\tlearn: 0.3248700\ttotal: 624ms\tremaining: 2.17s\n",
      "223:\tlearn: 0.3247173\ttotal: 626ms\tremaining: 2.17s\n",
      "224:\tlearn: 0.3245785\ttotal: 628ms\tremaining: 2.16s\n",
      "225:\tlearn: 0.3242452\ttotal: 630ms\tremaining: 2.16s\n",
      "226:\tlearn: 0.3240043\ttotal: 632ms\tremaining: 2.15s\n",
      "227:\tlearn: 0.3235943\ttotal: 634ms\tremaining: 2.15s\n",
      "228:\tlearn: 0.3232782\ttotal: 637ms\tremaining: 2.14s\n",
      "229:\tlearn: 0.3230303\ttotal: 639ms\tremaining: 2.14s\n",
      "230:\tlearn: 0.3226627\ttotal: 641ms\tremaining: 2.13s\n",
      "231:\tlearn: 0.3223851\ttotal: 643ms\tremaining: 2.13s\n",
      "232:\tlearn: 0.3221467\ttotal: 645ms\tremaining: 2.12s\n",
      "233:\tlearn: 0.3219549\ttotal: 647ms\tremaining: 2.12s\n",
      "234:\tlearn: 0.3218073\ttotal: 649ms\tremaining: 2.11s\n",
      "235:\tlearn: 0.3216718\ttotal: 652ms\tremaining: 2.11s\n",
      "236:\tlearn: 0.3215109\ttotal: 654ms\tremaining: 2.1s\n",
      "237:\tlearn: 0.3212586\ttotal: 656ms\tremaining: 2.1s\n",
      "238:\tlearn: 0.3209393\ttotal: 658ms\tremaining: 2.1s\n",
      "239:\tlearn: 0.3206751\ttotal: 660ms\tremaining: 2.09s\n",
      "240:\tlearn: 0.3206010\ttotal: 662ms\tremaining: 2.08s\n",
      "241:\tlearn: 0.3203660\ttotal: 664ms\tremaining: 2.08s\n",
      "242:\tlearn: 0.3199568\ttotal: 666ms\tremaining: 2.08s\n",
      "243:\tlearn: 0.3196486\ttotal: 669ms\tremaining: 2.07s\n",
      "244:\tlearn: 0.3194872\ttotal: 671ms\tremaining: 2.07s\n",
      "245:\tlearn: 0.3193272\ttotal: 674ms\tremaining: 2.06s\n",
      "246:\tlearn: 0.3192121\ttotal: 676ms\tremaining: 2.06s\n",
      "247:\tlearn: 0.3191570\ttotal: 678ms\tremaining: 2.05s\n",
      "248:\tlearn: 0.3189182\ttotal: 680ms\tremaining: 2.05s\n",
      "249:\tlearn: 0.3188807\ttotal: 681ms\tremaining: 2.04s\n",
      "250:\tlearn: 0.3186792\ttotal: 683ms\tremaining: 2.04s\n",
      "251:\tlearn: 0.3184345\ttotal: 686ms\tremaining: 2.04s\n",
      "252:\tlearn: 0.3183046\ttotal: 688ms\tremaining: 2.03s\n",
      "253:\tlearn: 0.3181111\ttotal: 691ms\tremaining: 2.03s\n",
      "254:\tlearn: 0.3179260\ttotal: 693ms\tremaining: 2.02s\n",
      "255:\tlearn: 0.3178126\ttotal: 695ms\tremaining: 2.02s\n",
      "256:\tlearn: 0.3174482\ttotal: 698ms\tremaining: 2.02s\n",
      "257:\tlearn: 0.3172645\ttotal: 701ms\tremaining: 2.01s\n",
      "258:\tlearn: 0.3172274\ttotal: 702ms\tremaining: 2.01s\n",
      "259:\tlearn: 0.3170552\ttotal: 705ms\tremaining: 2.01s\n",
      "260:\tlearn: 0.3168403\ttotal: 707ms\tremaining: 2s\n",
      "261:\tlearn: 0.3166511\ttotal: 709ms\tremaining: 2s\n",
      "262:\tlearn: 0.3163642\ttotal: 712ms\tremaining: 1.99s\n",
      "263:\tlearn: 0.3162672\ttotal: 714ms\tremaining: 1.99s\n",
      "264:\tlearn: 0.3159642\ttotal: 716ms\tremaining: 1.99s\n",
      "265:\tlearn: 0.3157471\ttotal: 718ms\tremaining: 1.98s\n",
      "266:\tlearn: 0.3155694\ttotal: 720ms\tremaining: 1.98s\n",
      "267:\tlearn: 0.3154143\ttotal: 723ms\tremaining: 1.97s\n",
      "268:\tlearn: 0.3152276\ttotal: 725ms\tremaining: 1.97s\n",
      "269:\tlearn: 0.3151367\ttotal: 727ms\tremaining: 1.97s\n",
      "270:\tlearn: 0.3148517\ttotal: 729ms\tremaining: 1.96s\n",
      "271:\tlearn: 0.3145894\ttotal: 732ms\tremaining: 1.96s\n",
      "272:\tlearn: 0.3143088\ttotal: 734ms\tremaining: 1.95s\n",
      "273:\tlearn: 0.3141119\ttotal: 736ms\tremaining: 1.95s\n",
      "274:\tlearn: 0.3139251\ttotal: 738ms\tremaining: 1.95s\n",
      "275:\tlearn: 0.3138479\ttotal: 740ms\tremaining: 1.94s\n",
      "276:\tlearn: 0.3136675\ttotal: 742ms\tremaining: 1.94s\n",
      "277:\tlearn: 0.3134009\ttotal: 745ms\tremaining: 1.93s\n",
      "278:\tlearn: 0.3132727\ttotal: 747ms\tremaining: 1.93s\n",
      "279:\tlearn: 0.3129511\ttotal: 749ms\tremaining: 1.93s\n",
      "280:\tlearn: 0.3128007\ttotal: 751ms\tremaining: 1.92s\n",
      "281:\tlearn: 0.3126672\ttotal: 754ms\tremaining: 1.92s\n",
      "282:\tlearn: 0.3122850\ttotal: 756ms\tremaining: 1.91s\n",
      "283:\tlearn: 0.3119939\ttotal: 758ms\tremaining: 1.91s\n",
      "284:\tlearn: 0.3117873\ttotal: 760ms\tremaining: 1.91s\n",
      "285:\tlearn: 0.3117214\ttotal: 762ms\tremaining: 1.9s\n",
      "286:\tlearn: 0.3116370\ttotal: 764ms\tremaining: 1.9s\n",
      "287:\tlearn: 0.3114242\ttotal: 767ms\tremaining: 1.9s\n",
      "288:\tlearn: 0.3113237\ttotal: 769ms\tremaining: 1.89s\n",
      "289:\tlearn: 0.3111131\ttotal: 771ms\tremaining: 1.89s\n",
      "290:\tlearn: 0.3108699\ttotal: 773ms\tremaining: 1.88s\n",
      "291:\tlearn: 0.3107846\ttotal: 775ms\tremaining: 1.88s\n",
      "292:\tlearn: 0.3107189\ttotal: 778ms\tremaining: 1.88s\n",
      "293:\tlearn: 0.3105568\ttotal: 780ms\tremaining: 1.87s\n",
      "294:\tlearn: 0.3103047\ttotal: 782ms\tremaining: 1.87s\n",
      "295:\tlearn: 0.3101363\ttotal: 784ms\tremaining: 1.86s\n",
      "296:\tlearn: 0.3099895\ttotal: 786ms\tremaining: 1.86s\n",
      "297:\tlearn: 0.3098455\ttotal: 789ms\tremaining: 1.86s\n",
      "298:\tlearn: 0.3096020\ttotal: 791ms\tremaining: 1.85s\n",
      "299:\tlearn: 0.3094447\ttotal: 793ms\tremaining: 1.85s\n",
      "300:\tlearn: 0.3093983\ttotal: 795ms\tremaining: 1.84s\n",
      "301:\tlearn: 0.3092988\ttotal: 797ms\tremaining: 1.84s\n",
      "302:\tlearn: 0.3092112\ttotal: 799ms\tremaining: 1.84s\n",
      "303:\tlearn: 0.3089220\ttotal: 801ms\tremaining: 1.83s\n",
      "304:\tlearn: 0.3088079\ttotal: 803ms\tremaining: 1.83s\n",
      "305:\tlearn: 0.3087432\ttotal: 806ms\tremaining: 1.83s\n",
      "306:\tlearn: 0.3085553\ttotal: 808ms\tremaining: 1.82s\n",
      "307:\tlearn: 0.3082891\ttotal: 810ms\tremaining: 1.82s\n",
      "308:\tlearn: 0.3081842\ttotal: 812ms\tremaining: 1.82s\n",
      "309:\tlearn: 0.3079329\ttotal: 814ms\tremaining: 1.81s\n",
      "310:\tlearn: 0.3078058\ttotal: 816ms\tremaining: 1.81s\n",
      "311:\tlearn: 0.3076462\ttotal: 819ms\tremaining: 1.8s\n",
      "312:\tlearn: 0.3074851\ttotal: 821ms\tremaining: 1.8s\n",
      "313:\tlearn: 0.3073753\ttotal: 823ms\tremaining: 1.8s\n",
      "314:\tlearn: 0.3071696\ttotal: 825ms\tremaining: 1.79s\n",
      "315:\tlearn: 0.3067876\ttotal: 827ms\tremaining: 1.79s\n",
      "316:\tlearn: 0.3064197\ttotal: 830ms\tremaining: 1.79s\n",
      "317:\tlearn: 0.3063109\ttotal: 832ms\tremaining: 1.78s\n",
      "318:\tlearn: 0.3062335\ttotal: 834ms\tremaining: 1.78s\n",
      "319:\tlearn: 0.3061619\ttotal: 836ms\tremaining: 1.78s\n",
      "320:\tlearn: 0.3059919\ttotal: 839ms\tremaining: 1.77s\n",
      "321:\tlearn: 0.3058063\ttotal: 841ms\tremaining: 1.77s\n",
      "322:\tlearn: 0.3056897\ttotal: 844ms\tremaining: 1.77s\n",
      "323:\tlearn: 0.3054949\ttotal: 846ms\tremaining: 1.76s\n",
      "324:\tlearn: 0.3053777\ttotal: 848ms\tremaining: 1.76s\n",
      "325:\tlearn: 0.3052433\ttotal: 850ms\tremaining: 1.76s\n",
      "326:\tlearn: 0.3050095\ttotal: 853ms\tremaining: 1.75s\n",
      "327:\tlearn: 0.3047789\ttotal: 855ms\tremaining: 1.75s\n",
      "328:\tlearn: 0.3046047\ttotal: 857ms\tremaining: 1.75s\n",
      "329:\tlearn: 0.3043181\ttotal: 859ms\tremaining: 1.74s\n",
      "330:\tlearn: 0.3042164\ttotal: 862ms\tremaining: 1.74s\n",
      "331:\tlearn: 0.3041640\ttotal: 864ms\tremaining: 1.74s\n",
      "332:\tlearn: 0.3041506\ttotal: 865ms\tremaining: 1.73s\n",
      "333:\tlearn: 0.3039777\ttotal: 868ms\tremaining: 1.73s\n",
      "334:\tlearn: 0.3038496\ttotal: 870ms\tremaining: 1.73s\n",
      "335:\tlearn: 0.3037712\ttotal: 872ms\tremaining: 1.72s\n",
      "336:\tlearn: 0.3037166\ttotal: 875ms\tremaining: 1.72s\n",
      "337:\tlearn: 0.3036432\ttotal: 878ms\tremaining: 1.72s\n",
      "338:\tlearn: 0.3034499\ttotal: 880ms\tremaining: 1.72s\n",
      "339:\tlearn: 0.3032901\ttotal: 882ms\tremaining: 1.71s\n",
      "340:\tlearn: 0.3030501\ttotal: 885ms\tremaining: 1.71s\n",
      "341:\tlearn: 0.3027949\ttotal: 888ms\tremaining: 1.71s\n",
      "342:\tlearn: 0.3026055\ttotal: 891ms\tremaining: 1.71s\n",
      "343:\tlearn: 0.3025572\ttotal: 893ms\tremaining: 1.7s\n",
      "344:\tlearn: 0.3024581\ttotal: 895ms\tremaining: 1.7s\n",
      "345:\tlearn: 0.3024316\ttotal: 898ms\tremaining: 1.7s\n",
      "346:\tlearn: 0.3022459\ttotal: 901ms\tremaining: 1.69s\n",
      "347:\tlearn: 0.3021019\ttotal: 903ms\tremaining: 1.69s\n",
      "348:\tlearn: 0.3020066\ttotal: 906ms\tremaining: 1.69s\n",
      "349:\tlearn: 0.3019974\ttotal: 907ms\tremaining: 1.69s\n",
      "350:\tlearn: 0.3019351\ttotal: 910ms\tremaining: 1.68s\n",
      "351:\tlearn: 0.3018563\ttotal: 912ms\tremaining: 1.68s\n",
      "352:\tlearn: 0.3017910\ttotal: 915ms\tremaining: 1.68s\n",
      "353:\tlearn: 0.3016948\ttotal: 917ms\tremaining: 1.67s\n",
      "354:\tlearn: 0.3014858\ttotal: 920ms\tremaining: 1.67s\n",
      "355:\tlearn: 0.3013294\ttotal: 923ms\tremaining: 1.67s\n",
      "356:\tlearn: 0.3012793\ttotal: 925ms\tremaining: 1.67s\n",
      "357:\tlearn: 0.3012270\ttotal: 927ms\tremaining: 1.66s\n",
      "358:\tlearn: 0.3010871\ttotal: 929ms\tremaining: 1.66s\n",
      "359:\tlearn: 0.3010333\ttotal: 932ms\tremaining: 1.66s\n",
      "360:\tlearn: 0.3009388\ttotal: 934ms\tremaining: 1.65s\n",
      "361:\tlearn: 0.3009020\ttotal: 936ms\tremaining: 1.65s\n",
      "362:\tlearn: 0.3007115\ttotal: 938ms\tremaining: 1.65s\n",
      "363:\tlearn: 0.3006249\ttotal: 940ms\tremaining: 1.64s\n",
      "364:\tlearn: 0.3004891\ttotal: 943ms\tremaining: 1.64s\n",
      "365:\tlearn: 0.3004148\ttotal: 945ms\tremaining: 1.64s\n",
      "366:\tlearn: 0.3003487\ttotal: 947ms\tremaining: 1.63s\n",
      "367:\tlearn: 0.3001834\ttotal: 950ms\tremaining: 1.63s\n",
      "368:\tlearn: 0.3000362\ttotal: 952ms\tremaining: 1.63s\n",
      "369:\tlearn: 0.2998446\ttotal: 954ms\tremaining: 1.62s\n",
      "370:\tlearn: 0.2996836\ttotal: 956ms\tremaining: 1.62s\n",
      "371:\tlearn: 0.2995859\ttotal: 958ms\tremaining: 1.62s\n",
      "372:\tlearn: 0.2995833\ttotal: 960ms\tremaining: 1.61s\n",
      "373:\tlearn: 0.2995355\ttotal: 962ms\tremaining: 1.61s\n",
      "374:\tlearn: 0.2994018\ttotal: 964ms\tremaining: 1.61s\n",
      "375:\tlearn: 0.2993066\ttotal: 966ms\tremaining: 1.6s\n",
      "376:\tlearn: 0.2991822\ttotal: 968ms\tremaining: 1.6s\n",
      "377:\tlearn: 0.2990534\ttotal: 970ms\tremaining: 1.6s\n",
      "378:\tlearn: 0.2989357\ttotal: 973ms\tremaining: 1.59s\n",
      "379:\tlearn: 0.2987030\ttotal: 975ms\tremaining: 1.59s\n",
      "380:\tlearn: 0.2985843\ttotal: 977ms\tremaining: 1.59s\n",
      "381:\tlearn: 0.2985359\ttotal: 979ms\tremaining: 1.58s\n",
      "382:\tlearn: 0.2981842\ttotal: 981ms\tremaining: 1.58s\n",
      "383:\tlearn: 0.2980913\ttotal: 983ms\tremaining: 1.58s\n",
      "384:\tlearn: 0.2979770\ttotal: 986ms\tremaining: 1.57s\n",
      "385:\tlearn: 0.2979047\ttotal: 988ms\tremaining: 1.57s\n",
      "386:\tlearn: 0.2978604\ttotal: 989ms\tremaining: 1.57s\n",
      "387:\tlearn: 0.2977342\ttotal: 992ms\tremaining: 1.56s\n",
      "388:\tlearn: 0.2975224\ttotal: 994ms\tremaining: 1.56s\n",
      "389:\tlearn: 0.2974268\ttotal: 996ms\tremaining: 1.56s\n",
      "390:\tlearn: 0.2973416\ttotal: 998ms\tremaining: 1.55s\n",
      "391:\tlearn: 0.2972452\ttotal: 1s\tremaining: 1.55s\n",
      "392:\tlearn: 0.2971451\ttotal: 1s\tremaining: 1.55s\n",
      "393:\tlearn: 0.2970867\ttotal: 1s\tremaining: 1.54s\n",
      "394:\tlearn: 0.2970096\ttotal: 1.01s\tremaining: 1.54s\n",
      "395:\tlearn: 0.2969053\ttotal: 1.01s\tremaining: 1.54s\n",
      "396:\tlearn: 0.2966947\ttotal: 1.01s\tremaining: 1.54s\n",
      "397:\tlearn: 0.2965912\ttotal: 1.01s\tremaining: 1.53s\n",
      "398:\tlearn: 0.2964347\ttotal: 1.02s\tremaining: 1.53s\n",
      "399:\tlearn: 0.2963401\ttotal: 1.02s\tremaining: 1.53s\n",
      "400:\tlearn: 0.2963297\ttotal: 1.02s\tremaining: 1.52s\n",
      "401:\tlearn: 0.2963011\ttotal: 1.02s\tremaining: 1.52s\n",
      "402:\tlearn: 0.2961630\ttotal: 1.02s\tremaining: 1.52s\n",
      "403:\tlearn: 0.2958679\ttotal: 1.03s\tremaining: 1.51s\n",
      "404:\tlearn: 0.2958412\ttotal: 1.03s\tremaining: 1.51s\n",
      "405:\tlearn: 0.2956525\ttotal: 1.03s\tremaining: 1.51s\n",
      "406:\tlearn: 0.2956322\ttotal: 1.03s\tremaining: 1.51s\n",
      "407:\tlearn: 0.2954976\ttotal: 1.04s\tremaining: 1.5s\n",
      "408:\tlearn: 0.2954292\ttotal: 1.04s\tremaining: 1.5s\n",
      "409:\tlearn: 0.2954052\ttotal: 1.04s\tremaining: 1.5s\n",
      "410:\tlearn: 0.2953142\ttotal: 1.04s\tremaining: 1.5s\n",
      "411:\tlearn: 0.2952405\ttotal: 1.04s\tremaining: 1.49s\n",
      "412:\tlearn: 0.2951512\ttotal: 1.05s\tremaining: 1.49s\n",
      "413:\tlearn: 0.2950373\ttotal: 1.05s\tremaining: 1.49s\n",
      "414:\tlearn: 0.2949316\ttotal: 1.05s\tremaining: 1.49s\n",
      "415:\tlearn: 0.2948388\ttotal: 1.06s\tremaining: 1.48s\n",
      "416:\tlearn: 0.2947589\ttotal: 1.06s\tremaining: 1.48s\n",
      "417:\tlearn: 0.2945586\ttotal: 1.06s\tremaining: 1.48s\n",
      "418:\tlearn: 0.2944668\ttotal: 1.06s\tremaining: 1.47s\n",
      "419:\tlearn: 0.2943362\ttotal: 1.06s\tremaining: 1.47s\n",
      "420:\tlearn: 0.2942492\ttotal: 1.07s\tremaining: 1.47s\n",
      "421:\tlearn: 0.2941515\ttotal: 1.07s\tremaining: 1.47s\n",
      "422:\tlearn: 0.2940185\ttotal: 1.07s\tremaining: 1.46s\n",
      "423:\tlearn: 0.2939408\ttotal: 1.07s\tremaining: 1.46s\n",
      "424:\tlearn: 0.2937996\ttotal: 1.08s\tremaining: 1.46s\n",
      "425:\tlearn: 0.2937145\ttotal: 1.08s\tremaining: 1.45s\n",
      "426:\tlearn: 0.2935964\ttotal: 1.08s\tremaining: 1.45s\n",
      "427:\tlearn: 0.2934543\ttotal: 1.08s\tremaining: 1.45s\n",
      "428:\tlearn: 0.2932408\ttotal: 1.09s\tremaining: 1.45s\n",
      "429:\tlearn: 0.2931735\ttotal: 1.09s\tremaining: 1.44s\n",
      "430:\tlearn: 0.2930388\ttotal: 1.09s\tremaining: 1.44s\n",
      "431:\tlearn: 0.2929236\ttotal: 1.09s\tremaining: 1.44s\n",
      "432:\tlearn: 0.2927953\ttotal: 1.09s\tremaining: 1.43s\n",
      "433:\tlearn: 0.2927238\ttotal: 1.1s\tremaining: 1.43s\n",
      "434:\tlearn: 0.2925937\ttotal: 1.1s\tremaining: 1.43s\n",
      "435:\tlearn: 0.2924050\ttotal: 1.1s\tremaining: 1.43s\n",
      "436:\tlearn: 0.2923429\ttotal: 1.1s\tremaining: 1.42s\n",
      "437:\tlearn: 0.2921851\ttotal: 1.11s\tremaining: 1.42s\n",
      "438:\tlearn: 0.2921183\ttotal: 1.11s\tremaining: 1.42s\n",
      "439:\tlearn: 0.2919790\ttotal: 1.11s\tremaining: 1.41s\n",
      "440:\tlearn: 0.2917621\ttotal: 1.11s\tremaining: 1.41s\n",
      "441:\tlearn: 0.2915965\ttotal: 1.12s\tremaining: 1.41s\n",
      "442:\tlearn: 0.2914942\ttotal: 1.12s\tremaining: 1.41s\n",
      "443:\tlearn: 0.2914474\ttotal: 1.12s\tremaining: 1.4s\n",
      "444:\tlearn: 0.2912992\ttotal: 1.12s\tremaining: 1.4s\n",
      "445:\tlearn: 0.2912283\ttotal: 1.13s\tremaining: 1.4s\n",
      "446:\tlearn: 0.2911093\ttotal: 1.13s\tremaining: 1.4s\n",
      "447:\tlearn: 0.2909807\ttotal: 1.13s\tremaining: 1.39s\n",
      "448:\tlearn: 0.2908314\ttotal: 1.13s\tremaining: 1.39s\n",
      "449:\tlearn: 0.2907601\ttotal: 1.14s\tremaining: 1.39s\n",
      "450:\tlearn: 0.2906871\ttotal: 1.14s\tremaining: 1.38s\n",
      "451:\tlearn: 0.2905205\ttotal: 1.14s\tremaining: 1.38s\n",
      "452:\tlearn: 0.2904479\ttotal: 1.14s\tremaining: 1.38s\n",
      "453:\tlearn: 0.2903387\ttotal: 1.14s\tremaining: 1.38s\n",
      "454:\tlearn: 0.2901850\ttotal: 1.15s\tremaining: 1.37s\n",
      "455:\tlearn: 0.2901224\ttotal: 1.15s\tremaining: 1.37s\n",
      "456:\tlearn: 0.2900431\ttotal: 1.15s\tremaining: 1.37s\n",
      "457:\tlearn: 0.2899424\ttotal: 1.15s\tremaining: 1.36s\n",
      "458:\tlearn: 0.2898583\ttotal: 1.16s\tremaining: 1.36s\n",
      "459:\tlearn: 0.2897841\ttotal: 1.16s\tremaining: 1.36s\n",
      "460:\tlearn: 0.2897400\ttotal: 1.16s\tremaining: 1.36s\n",
      "461:\tlearn: 0.2896644\ttotal: 1.16s\tremaining: 1.35s\n",
      "462:\tlearn: 0.2895316\ttotal: 1.16s\tremaining: 1.35s\n",
      "463:\tlearn: 0.2893905\ttotal: 1.17s\tremaining: 1.35s\n",
      "464:\tlearn: 0.2892816\ttotal: 1.17s\tremaining: 1.34s\n",
      "465:\tlearn: 0.2891946\ttotal: 1.17s\tremaining: 1.34s\n",
      "466:\tlearn: 0.2890980\ttotal: 1.17s\tremaining: 1.34s\n",
      "467:\tlearn: 0.2890846\ttotal: 1.18s\tremaining: 1.34s\n",
      "468:\tlearn: 0.2889815\ttotal: 1.18s\tremaining: 1.33s\n",
      "469:\tlearn: 0.2888640\ttotal: 1.18s\tremaining: 1.33s\n",
      "470:\tlearn: 0.2887826\ttotal: 1.18s\tremaining: 1.33s\n",
      "471:\tlearn: 0.2886432\ttotal: 1.19s\tremaining: 1.33s\n",
      "472:\tlearn: 0.2886089\ttotal: 1.19s\tremaining: 1.32s\n",
      "473:\tlearn: 0.2885237\ttotal: 1.19s\tremaining: 1.32s\n",
      "474:\tlearn: 0.2884366\ttotal: 1.19s\tremaining: 1.32s\n",
      "475:\tlearn: 0.2883927\ttotal: 1.19s\tremaining: 1.31s\n",
      "476:\tlearn: 0.2883027\ttotal: 1.2s\tremaining: 1.31s\n",
      "477:\tlearn: 0.2882408\ttotal: 1.2s\tremaining: 1.31s\n",
      "478:\tlearn: 0.2881741\ttotal: 1.2s\tremaining: 1.31s\n",
      "479:\tlearn: 0.2881201\ttotal: 1.2s\tremaining: 1.3s\n",
      "480:\tlearn: 0.2880232\ttotal: 1.21s\tremaining: 1.3s\n",
      "481:\tlearn: 0.2880174\ttotal: 1.21s\tremaining: 1.3s\n",
      "482:\tlearn: 0.2879565\ttotal: 1.21s\tremaining: 1.29s\n",
      "483:\tlearn: 0.2878363\ttotal: 1.21s\tremaining: 1.29s\n",
      "484:\tlearn: 0.2877389\ttotal: 1.21s\tremaining: 1.29s\n",
      "485:\tlearn: 0.2874301\ttotal: 1.22s\tremaining: 1.29s\n",
      "486:\tlearn: 0.2873728\ttotal: 1.22s\tremaining: 1.28s\n",
      "487:\tlearn: 0.2871778\ttotal: 1.22s\tremaining: 1.28s\n",
      "488:\tlearn: 0.2870437\ttotal: 1.22s\tremaining: 1.28s\n",
      "489:\tlearn: 0.2870155\ttotal: 1.23s\tremaining: 1.28s\n",
      "490:\tlearn: 0.2869041\ttotal: 1.23s\tremaining: 1.27s\n",
      "491:\tlearn: 0.2866958\ttotal: 1.23s\tremaining: 1.27s\n",
      "492:\tlearn: 0.2866512\ttotal: 1.23s\tremaining: 1.27s\n",
      "493:\tlearn: 0.2865762\ttotal: 1.24s\tremaining: 1.27s\n",
      "494:\tlearn: 0.2864571\ttotal: 1.24s\tremaining: 1.26s\n",
      "495:\tlearn: 0.2864191\ttotal: 1.24s\tremaining: 1.26s\n",
      "496:\tlearn: 0.2863780\ttotal: 1.24s\tremaining: 1.26s\n",
      "497:\tlearn: 0.2863648\ttotal: 1.25s\tremaining: 1.25s\n",
      "498:\tlearn: 0.2863231\ttotal: 1.25s\tremaining: 1.25s\n",
      "499:\tlearn: 0.2862315\ttotal: 1.25s\tremaining: 1.25s\n",
      "500:\tlearn: 0.2859077\ttotal: 1.25s\tremaining: 1.25s\n",
      "501:\tlearn: 0.2858408\ttotal: 1.25s\tremaining: 1.25s\n",
      "502:\tlearn: 0.2857725\ttotal: 1.26s\tremaining: 1.24s\n",
      "503:\tlearn: 0.2856581\ttotal: 1.26s\tremaining: 1.24s\n",
      "504:\tlearn: 0.2855562\ttotal: 1.26s\tremaining: 1.24s\n",
      "505:\tlearn: 0.2855037\ttotal: 1.26s\tremaining: 1.24s\n",
      "506:\tlearn: 0.2854320\ttotal: 1.27s\tremaining: 1.23s\n",
      "507:\tlearn: 0.2854071\ttotal: 1.27s\tremaining: 1.23s\n",
      "508:\tlearn: 0.2853301\ttotal: 1.27s\tremaining: 1.23s\n",
      "509:\tlearn: 0.2852670\ttotal: 1.27s\tremaining: 1.22s\n",
      "510:\tlearn: 0.2849892\ttotal: 1.28s\tremaining: 1.22s\n",
      "511:\tlearn: 0.2849254\ttotal: 1.28s\tremaining: 1.22s\n",
      "512:\tlearn: 0.2848942\ttotal: 1.28s\tremaining: 1.22s\n",
      "513:\tlearn: 0.2848038\ttotal: 1.28s\tremaining: 1.21s\n",
      "514:\tlearn: 0.2847228\ttotal: 1.29s\tremaining: 1.21s\n",
      "515:\tlearn: 0.2846553\ttotal: 1.29s\tremaining: 1.21s\n",
      "516:\tlearn: 0.2845825\ttotal: 1.29s\tremaining: 1.21s\n",
      "517:\tlearn: 0.2845185\ttotal: 1.29s\tremaining: 1.2s\n",
      "518:\tlearn: 0.2844726\ttotal: 1.29s\tremaining: 1.2s\n",
      "519:\tlearn: 0.2843771\ttotal: 1.3s\tremaining: 1.2s\n",
      "520:\tlearn: 0.2842778\ttotal: 1.3s\tremaining: 1.2s\n",
      "521:\tlearn: 0.2841993\ttotal: 1.3s\tremaining: 1.19s\n",
      "522:\tlearn: 0.2839822\ttotal: 1.3s\tremaining: 1.19s\n",
      "523:\tlearn: 0.2839329\ttotal: 1.31s\tremaining: 1.19s\n",
      "524:\tlearn: 0.2838013\ttotal: 1.31s\tremaining: 1.18s\n",
      "525:\tlearn: 0.2837899\ttotal: 1.31s\tremaining: 1.18s\n",
      "526:\tlearn: 0.2836859\ttotal: 1.31s\tremaining: 1.18s\n",
      "527:\tlearn: 0.2836584\ttotal: 1.31s\tremaining: 1.18s\n",
      "528:\tlearn: 0.2836391\ttotal: 1.32s\tremaining: 1.17s\n",
      "529:\tlearn: 0.2835356\ttotal: 1.32s\tremaining: 1.17s\n",
      "530:\tlearn: 0.2834203\ttotal: 1.32s\tremaining: 1.17s\n",
      "531:\tlearn: 0.2832952\ttotal: 1.32s\tremaining: 1.17s\n",
      "532:\tlearn: 0.2832248\ttotal: 1.33s\tremaining: 1.16s\n",
      "533:\tlearn: 0.2832133\ttotal: 1.33s\tremaining: 1.16s\n",
      "534:\tlearn: 0.2831020\ttotal: 1.33s\tremaining: 1.16s\n",
      "535:\tlearn: 0.2830693\ttotal: 1.33s\tremaining: 1.15s\n",
      "536:\tlearn: 0.2829612\ttotal: 1.33s\tremaining: 1.15s\n",
      "537:\tlearn: 0.2828035\ttotal: 1.34s\tremaining: 1.15s\n",
      "538:\tlearn: 0.2827641\ttotal: 1.34s\tremaining: 1.15s\n",
      "539:\tlearn: 0.2826199\ttotal: 1.34s\tremaining: 1.14s\n",
      "540:\tlearn: 0.2825593\ttotal: 1.34s\tremaining: 1.14s\n",
      "541:\tlearn: 0.2825363\ttotal: 1.35s\tremaining: 1.14s\n",
      "542:\tlearn: 0.2824792\ttotal: 1.35s\tremaining: 1.14s\n",
      "543:\tlearn: 0.2823672\ttotal: 1.35s\tremaining: 1.13s\n",
      "544:\tlearn: 0.2823373\ttotal: 1.35s\tremaining: 1.13s\n",
      "545:\tlearn: 0.2822527\ttotal: 1.36s\tremaining: 1.13s\n",
      "546:\tlearn: 0.2821813\ttotal: 1.36s\tremaining: 1.13s\n",
      "547:\tlearn: 0.2821488\ttotal: 1.36s\tremaining: 1.12s\n",
      "548:\tlearn: 0.2821085\ttotal: 1.36s\tremaining: 1.12s\n",
      "549:\tlearn: 0.2820655\ttotal: 1.37s\tremaining: 1.12s\n",
      "550:\tlearn: 0.2820495\ttotal: 1.37s\tremaining: 1.12s\n",
      "551:\tlearn: 0.2819281\ttotal: 1.37s\tremaining: 1.11s\n",
      "552:\tlearn: 0.2818150\ttotal: 1.38s\tremaining: 1.11s\n",
      "553:\tlearn: 0.2817333\ttotal: 1.38s\tremaining: 1.11s\n",
      "554:\tlearn: 0.2817062\ttotal: 1.38s\tremaining: 1.11s\n",
      "555:\tlearn: 0.2816460\ttotal: 1.38s\tremaining: 1.1s\n",
      "556:\tlearn: 0.2815637\ttotal: 1.38s\tremaining: 1.1s\n",
      "557:\tlearn: 0.2814129\ttotal: 1.39s\tremaining: 1.1s\n",
      "558:\tlearn: 0.2813944\ttotal: 1.39s\tremaining: 1.09s\n",
      "559:\tlearn: 0.2813149\ttotal: 1.39s\tremaining: 1.09s\n",
      "560:\tlearn: 0.2812011\ttotal: 1.39s\tremaining: 1.09s\n",
      "561:\tlearn: 0.2811295\ttotal: 1.4s\tremaining: 1.09s\n",
      "562:\tlearn: 0.2810969\ttotal: 1.4s\tremaining: 1.09s\n",
      "563:\tlearn: 0.2810618\ttotal: 1.4s\tremaining: 1.08s\n",
      "564:\tlearn: 0.2809741\ttotal: 1.4s\tremaining: 1.08s\n",
      "565:\tlearn: 0.2808263\ttotal: 1.41s\tremaining: 1.08s\n",
      "566:\tlearn: 0.2807921\ttotal: 1.41s\tremaining: 1.08s\n",
      "567:\tlearn: 0.2806943\ttotal: 1.41s\tremaining: 1.07s\n",
      "568:\tlearn: 0.2805961\ttotal: 1.42s\tremaining: 1.07s\n",
      "569:\tlearn: 0.2804629\ttotal: 1.42s\tremaining: 1.07s\n",
      "570:\tlearn: 0.2804539\ttotal: 1.42s\tremaining: 1.07s\n",
      "571:\tlearn: 0.2803043\ttotal: 1.42s\tremaining: 1.06s\n",
      "572:\tlearn: 0.2801329\ttotal: 1.42s\tremaining: 1.06s\n",
      "573:\tlearn: 0.2800823\ttotal: 1.43s\tremaining: 1.06s\n",
      "574:\tlearn: 0.2800403\ttotal: 1.43s\tremaining: 1.06s\n",
      "575:\tlearn: 0.2799390\ttotal: 1.43s\tremaining: 1.05s\n",
      "576:\tlearn: 0.2798575\ttotal: 1.43s\tremaining: 1.05s\n",
      "577:\tlearn: 0.2797695\ttotal: 1.44s\tremaining: 1.05s\n",
      "578:\tlearn: 0.2796681\ttotal: 1.44s\tremaining: 1.04s\n",
      "579:\tlearn: 0.2796260\ttotal: 1.44s\tremaining: 1.04s\n",
      "580:\tlearn: 0.2794308\ttotal: 1.44s\tremaining: 1.04s\n",
      "581:\tlearn: 0.2793458\ttotal: 1.44s\tremaining: 1.04s\n",
      "582:\tlearn: 0.2792322\ttotal: 1.45s\tremaining: 1.03s\n",
      "583:\tlearn: 0.2789408\ttotal: 1.45s\tremaining: 1.03s\n",
      "584:\tlearn: 0.2788872\ttotal: 1.45s\tremaining: 1.03s\n",
      "585:\tlearn: 0.2788275\ttotal: 1.45s\tremaining: 1.03s\n",
      "586:\tlearn: 0.2787279\ttotal: 1.46s\tremaining: 1.02s\n",
      "587:\tlearn: 0.2786550\ttotal: 1.46s\tremaining: 1.02s\n",
      "588:\tlearn: 0.2786136\ttotal: 1.46s\tremaining: 1.02s\n",
      "589:\tlearn: 0.2785391\ttotal: 1.46s\tremaining: 1.02s\n",
      "590:\tlearn: 0.2784807\ttotal: 1.47s\tremaining: 1.01s\n",
      "591:\tlearn: 0.2784369\ttotal: 1.47s\tremaining: 1.01s\n",
      "592:\tlearn: 0.2783150\ttotal: 1.47s\tremaining: 1.01s\n",
      "593:\tlearn: 0.2780855\ttotal: 1.47s\tremaining: 1.01s\n",
      "594:\tlearn: 0.2780442\ttotal: 1.48s\tremaining: 1s\n",
      "595:\tlearn: 0.2780174\ttotal: 1.48s\tremaining: 1s\n",
      "596:\tlearn: 0.2778694\ttotal: 1.48s\tremaining: 999ms\n",
      "597:\tlearn: 0.2778172\ttotal: 1.48s\tremaining: 997ms\n",
      "598:\tlearn: 0.2776402\ttotal: 1.49s\tremaining: 995ms\n",
      "599:\tlearn: 0.2775682\ttotal: 1.49s\tremaining: 992ms\n",
      "600:\tlearn: 0.2775361\ttotal: 1.49s\tremaining: 990ms\n",
      "601:\tlearn: 0.2774872\ttotal: 1.49s\tremaining: 987ms\n",
      "602:\tlearn: 0.2772792\ttotal: 1.5s\tremaining: 985ms\n",
      "603:\tlearn: 0.2772349\ttotal: 1.5s\tremaining: 982ms\n",
      "604:\tlearn: 0.2771579\ttotal: 1.5s\tremaining: 980ms\n",
      "605:\tlearn: 0.2770628\ttotal: 1.5s\tremaining: 978ms\n",
      "606:\tlearn: 0.2768013\ttotal: 1.51s\tremaining: 975ms\n",
      "607:\tlearn: 0.2767820\ttotal: 1.51s\tremaining: 973ms\n",
      "608:\tlearn: 0.2767175\ttotal: 1.51s\tremaining: 971ms\n",
      "609:\tlearn: 0.2766986\ttotal: 1.51s\tremaining: 968ms\n",
      "610:\tlearn: 0.2765879\ttotal: 1.52s\tremaining: 966ms\n",
      "611:\tlearn: 0.2765430\ttotal: 1.52s\tremaining: 963ms\n",
      "612:\tlearn: 0.2764538\ttotal: 1.52s\tremaining: 961ms\n",
      "613:\tlearn: 0.2763915\ttotal: 1.52s\tremaining: 958ms\n",
      "614:\tlearn: 0.2763357\ttotal: 1.53s\tremaining: 956ms\n",
      "615:\tlearn: 0.2762864\ttotal: 1.53s\tremaining: 953ms\n",
      "616:\tlearn: 0.2762511\ttotal: 1.53s\tremaining: 951ms\n",
      "617:\tlearn: 0.2761600\ttotal: 1.53s\tremaining: 948ms\n",
      "618:\tlearn: 0.2760692\ttotal: 1.54s\tremaining: 946ms\n",
      "619:\tlearn: 0.2759734\ttotal: 1.54s\tremaining: 943ms\n",
      "620:\tlearn: 0.2759066\ttotal: 1.54s\tremaining: 941ms\n",
      "621:\tlearn: 0.2757007\ttotal: 1.54s\tremaining: 939ms\n",
      "622:\tlearn: 0.2756886\ttotal: 1.55s\tremaining: 936ms\n",
      "623:\tlearn: 0.2756532\ttotal: 1.55s\tremaining: 934ms\n",
      "624:\tlearn: 0.2753626\ttotal: 1.55s\tremaining: 931ms\n",
      "625:\tlearn: 0.2751085\ttotal: 1.55s\tremaining: 929ms\n",
      "626:\tlearn: 0.2750381\ttotal: 1.56s\tremaining: 926ms\n",
      "627:\tlearn: 0.2750276\ttotal: 1.56s\tremaining: 924ms\n",
      "628:\tlearn: 0.2748831\ttotal: 1.56s\tremaining: 921ms\n",
      "629:\tlearn: 0.2748212\ttotal: 1.56s\tremaining: 919ms\n",
      "630:\tlearn: 0.2745529\ttotal: 1.57s\tremaining: 917ms\n",
      "631:\tlearn: 0.2745056\ttotal: 1.57s\tremaining: 915ms\n",
      "632:\tlearn: 0.2744867\ttotal: 1.57s\tremaining: 912ms\n",
      "633:\tlearn: 0.2744526\ttotal: 1.58s\tremaining: 910ms\n",
      "634:\tlearn: 0.2744112\ttotal: 1.58s\tremaining: 908ms\n",
      "635:\tlearn: 0.2742083\ttotal: 1.58s\tremaining: 905ms\n",
      "636:\tlearn: 0.2742005\ttotal: 1.58s\tremaining: 903ms\n",
      "637:\tlearn: 0.2741685\ttotal: 1.59s\tremaining: 900ms\n",
      "638:\tlearn: 0.2741421\ttotal: 1.59s\tremaining: 898ms\n",
      "639:\tlearn: 0.2740887\ttotal: 1.59s\tremaining: 895ms\n",
      "640:\tlearn: 0.2740448\ttotal: 1.59s\tremaining: 893ms\n",
      "641:\tlearn: 0.2738994\ttotal: 1.6s\tremaining: 890ms\n",
      "642:\tlearn: 0.2738694\ttotal: 1.6s\tremaining: 888ms\n",
      "643:\tlearn: 0.2738511\ttotal: 1.6s\tremaining: 885ms\n",
      "644:\tlearn: 0.2738210\ttotal: 1.6s\tremaining: 883ms\n",
      "645:\tlearn: 0.2737799\ttotal: 1.61s\tremaining: 880ms\n",
      "646:\tlearn: 0.2737441\ttotal: 1.61s\tremaining: 878ms\n",
      "647:\tlearn: 0.2735807\ttotal: 1.61s\tremaining: 875ms\n",
      "648:\tlearn: 0.2734595\ttotal: 1.61s\tremaining: 872ms\n",
      "649:\tlearn: 0.2733898\ttotal: 1.61s\tremaining: 870ms\n",
      "650:\tlearn: 0.2733143\ttotal: 1.62s\tremaining: 867ms\n",
      "651:\tlearn: 0.2732228\ttotal: 1.62s\tremaining: 865ms\n",
      "652:\tlearn: 0.2731454\ttotal: 1.62s\tremaining: 862ms\n",
      "653:\tlearn: 0.2731437\ttotal: 1.62s\tremaining: 859ms\n",
      "654:\tlearn: 0.2730976\ttotal: 1.63s\tremaining: 856ms\n",
      "655:\tlearn: 0.2730402\ttotal: 1.63s\tremaining: 854ms\n",
      "656:\tlearn: 0.2729335\ttotal: 1.63s\tremaining: 851ms\n",
      "657:\tlearn: 0.2728177\ttotal: 1.63s\tremaining: 849ms\n",
      "658:\tlearn: 0.2728065\ttotal: 1.63s\tremaining: 846ms\n",
      "659:\tlearn: 0.2726759\ttotal: 1.64s\tremaining: 844ms\n",
      "660:\tlearn: 0.2725668\ttotal: 1.64s\tremaining: 841ms\n",
      "661:\tlearn: 0.2725247\ttotal: 1.64s\tremaining: 838ms\n",
      "662:\tlearn: 0.2724797\ttotal: 1.64s\tremaining: 836ms\n",
      "663:\tlearn: 0.2724099\ttotal: 1.65s\tremaining: 833ms\n",
      "664:\tlearn: 0.2723018\ttotal: 1.65s\tremaining: 831ms\n",
      "665:\tlearn: 0.2722534\ttotal: 1.65s\tremaining: 828ms\n",
      "666:\tlearn: 0.2721847\ttotal: 1.65s\tremaining: 826ms\n",
      "667:\tlearn: 0.2720272\ttotal: 1.66s\tremaining: 823ms\n",
      "668:\tlearn: 0.2719668\ttotal: 1.66s\tremaining: 821ms\n",
      "669:\tlearn: 0.2718744\ttotal: 1.66s\tremaining: 818ms\n",
      "670:\tlearn: 0.2718264\ttotal: 1.66s\tremaining: 816ms\n",
      "671:\tlearn: 0.2717408\ttotal: 1.67s\tremaining: 813ms\n",
      "672:\tlearn: 0.2716328\ttotal: 1.67s\tremaining: 811ms\n",
      "673:\tlearn: 0.2715418\ttotal: 1.67s\tremaining: 808ms\n",
      "674:\tlearn: 0.2714230\ttotal: 1.67s\tremaining: 806ms\n",
      "675:\tlearn: 0.2714069\ttotal: 1.68s\tremaining: 803ms\n",
      "676:\tlearn: 0.2713788\ttotal: 1.68s\tremaining: 800ms\n",
      "677:\tlearn: 0.2712697\ttotal: 1.68s\tremaining: 798ms\n",
      "678:\tlearn: 0.2711812\ttotal: 1.68s\tremaining: 796ms\n",
      "679:\tlearn: 0.2711224\ttotal: 1.69s\tremaining: 793ms\n",
      "680:\tlearn: 0.2710586\ttotal: 1.69s\tremaining: 791ms\n",
      "681:\tlearn: 0.2709660\ttotal: 1.69s\tremaining: 788ms\n",
      "682:\tlearn: 0.2709019\ttotal: 1.69s\tremaining: 786ms\n",
      "683:\tlearn: 0.2708175\ttotal: 1.7s\tremaining: 783ms\n",
      "684:\tlearn: 0.2707737\ttotal: 1.7s\tremaining: 781ms\n",
      "685:\tlearn: 0.2706867\ttotal: 1.7s\tremaining: 778ms\n",
      "686:\tlearn: 0.2705891\ttotal: 1.7s\tremaining: 776ms\n",
      "687:\tlearn: 0.2705522\ttotal: 1.7s\tremaining: 773ms\n",
      "688:\tlearn: 0.2703847\ttotal: 1.71s\tremaining: 771ms\n",
      "689:\tlearn: 0.2703516\ttotal: 1.71s\tremaining: 768ms\n",
      "690:\tlearn: 0.2702804\ttotal: 1.71s\tremaining: 765ms\n",
      "691:\tlearn: 0.2701448\ttotal: 1.71s\tremaining: 763ms\n",
      "692:\tlearn: 0.2700983\ttotal: 1.72s\tremaining: 760ms\n",
      "693:\tlearn: 0.2699686\ttotal: 1.72s\tremaining: 758ms\n",
      "694:\tlearn: 0.2698629\ttotal: 1.72s\tremaining: 755ms\n",
      "695:\tlearn: 0.2697600\ttotal: 1.72s\tremaining: 753ms\n",
      "696:\tlearn: 0.2693863\ttotal: 1.73s\tremaining: 750ms\n",
      "697:\tlearn: 0.2692121\ttotal: 1.73s\tremaining: 748ms\n",
      "698:\tlearn: 0.2690533\ttotal: 1.73s\tremaining: 745ms\n",
      "699:\tlearn: 0.2689840\ttotal: 1.73s\tremaining: 743ms\n",
      "700:\tlearn: 0.2687374\ttotal: 1.74s\tremaining: 740ms\n",
      "701:\tlearn: 0.2685338\ttotal: 1.74s\tremaining: 738ms\n",
      "702:\tlearn: 0.2684430\ttotal: 1.74s\tremaining: 735ms\n",
      "703:\tlearn: 0.2683598\ttotal: 1.74s\tremaining: 733ms\n",
      "704:\tlearn: 0.2683071\ttotal: 1.74s\tremaining: 730ms\n",
      "705:\tlearn: 0.2681380\ttotal: 1.75s\tremaining: 728ms\n",
      "706:\tlearn: 0.2681300\ttotal: 1.75s\tremaining: 725ms\n",
      "707:\tlearn: 0.2680272\ttotal: 1.75s\tremaining: 723ms\n",
      "708:\tlearn: 0.2679621\ttotal: 1.75s\tremaining: 720ms\n",
      "709:\tlearn: 0.2678157\ttotal: 1.76s\tremaining: 718ms\n",
      "710:\tlearn: 0.2677910\ttotal: 1.76s\tremaining: 715ms\n",
      "711:\tlearn: 0.2676210\ttotal: 1.76s\tremaining: 713ms\n",
      "712:\tlearn: 0.2675910\ttotal: 1.76s\tremaining: 710ms\n",
      "713:\tlearn: 0.2674963\ttotal: 1.77s\tremaining: 707ms\n",
      "714:\tlearn: 0.2673467\ttotal: 1.77s\tremaining: 705ms\n",
      "715:\tlearn: 0.2671980\ttotal: 1.77s\tremaining: 702ms\n",
      "716:\tlearn: 0.2670737\ttotal: 1.77s\tremaining: 700ms\n",
      "717:\tlearn: 0.2669596\ttotal: 1.77s\tremaining: 697ms\n",
      "718:\tlearn: 0.2668195\ttotal: 1.78s\tremaining: 695ms\n",
      "719:\tlearn: 0.2667502\ttotal: 1.78s\tremaining: 692ms\n",
      "720:\tlearn: 0.2666148\ttotal: 1.78s\tremaining: 690ms\n",
      "721:\tlearn: 0.2665818\ttotal: 1.78s\tremaining: 687ms\n",
      "722:\tlearn: 0.2665125\ttotal: 1.79s\tremaining: 685ms\n",
      "723:\tlearn: 0.2663397\ttotal: 1.79s\tremaining: 682ms\n",
      "724:\tlearn: 0.2662658\ttotal: 1.79s\tremaining: 680ms\n",
      "725:\tlearn: 0.2662255\ttotal: 1.79s\tremaining: 677ms\n",
      "726:\tlearn: 0.2660891\ttotal: 1.8s\tremaining: 674ms\n",
      "727:\tlearn: 0.2660094\ttotal: 1.8s\tremaining: 672ms\n",
      "728:\tlearn: 0.2658099\ttotal: 1.8s\tremaining: 669ms\n",
      "729:\tlearn: 0.2656958\ttotal: 1.8s\tremaining: 667ms\n",
      "730:\tlearn: 0.2655861\ttotal: 1.8s\tremaining: 664ms\n",
      "731:\tlearn: 0.2655425\ttotal: 1.81s\tremaining: 662ms\n",
      "732:\tlearn: 0.2655223\ttotal: 1.81s\tremaining: 659ms\n",
      "733:\tlearn: 0.2654189\ttotal: 1.81s\tremaining: 656ms\n",
      "734:\tlearn: 0.2653814\ttotal: 1.81s\tremaining: 654ms\n",
      "735:\tlearn: 0.2652268\ttotal: 1.82s\tremaining: 651ms\n",
      "736:\tlearn: 0.2651485\ttotal: 1.82s\tremaining: 649ms\n",
      "737:\tlearn: 0.2650965\ttotal: 1.82s\tremaining: 646ms\n",
      "738:\tlearn: 0.2649261\ttotal: 1.82s\tremaining: 644ms\n",
      "739:\tlearn: 0.2648622\ttotal: 1.82s\tremaining: 641ms\n",
      "740:\tlearn: 0.2646507\ttotal: 1.83s\tremaining: 639ms\n",
      "741:\tlearn: 0.2645598\ttotal: 1.83s\tremaining: 636ms\n",
      "742:\tlearn: 0.2645435\ttotal: 1.83s\tremaining: 634ms\n",
      "743:\tlearn: 0.2644263\ttotal: 1.83s\tremaining: 631ms\n",
      "744:\tlearn: 0.2643911\ttotal: 1.84s\tremaining: 629ms\n",
      "745:\tlearn: 0.2643013\ttotal: 1.84s\tremaining: 627ms\n",
      "746:\tlearn: 0.2642569\ttotal: 1.84s\tremaining: 624ms\n",
      "747:\tlearn: 0.2640179\ttotal: 1.84s\tremaining: 622ms\n",
      "748:\tlearn: 0.2639838\ttotal: 1.85s\tremaining: 619ms\n",
      "749:\tlearn: 0.2638444\ttotal: 1.85s\tremaining: 617ms\n",
      "750:\tlearn: 0.2638240\ttotal: 1.85s\tremaining: 615ms\n",
      "751:\tlearn: 0.2637032\ttotal: 1.86s\tremaining: 612ms\n",
      "752:\tlearn: 0.2636768\ttotal: 1.86s\tremaining: 610ms\n",
      "753:\tlearn: 0.2636199\ttotal: 1.86s\tremaining: 607ms\n",
      "754:\tlearn: 0.2635811\ttotal: 1.86s\tremaining: 605ms\n",
      "755:\tlearn: 0.2634107\ttotal: 1.87s\tremaining: 603ms\n",
      "756:\tlearn: 0.2632937\ttotal: 1.87s\tremaining: 600ms\n",
      "757:\tlearn: 0.2632378\ttotal: 1.87s\tremaining: 598ms\n",
      "758:\tlearn: 0.2631985\ttotal: 1.87s\tremaining: 595ms\n",
      "759:\tlearn: 0.2631816\ttotal: 1.88s\tremaining: 593ms\n",
      "760:\tlearn: 0.2631538\ttotal: 1.88s\tremaining: 591ms\n",
      "761:\tlearn: 0.2630741\ttotal: 1.88s\tremaining: 588ms\n",
      "762:\tlearn: 0.2630391\ttotal: 1.89s\tremaining: 586ms\n",
      "763:\tlearn: 0.2629601\ttotal: 1.89s\tremaining: 583ms\n",
      "764:\tlearn: 0.2629286\ttotal: 1.89s\tremaining: 581ms\n",
      "765:\tlearn: 0.2629025\ttotal: 1.89s\tremaining: 578ms\n",
      "766:\tlearn: 0.2628743\ttotal: 1.9s\tremaining: 576ms\n",
      "767:\tlearn: 0.2628016\ttotal: 1.9s\tremaining: 573ms\n",
      "768:\tlearn: 0.2627066\ttotal: 1.9s\tremaining: 571ms\n",
      "769:\tlearn: 0.2626297\ttotal: 1.9s\tremaining: 568ms\n",
      "770:\tlearn: 0.2626190\ttotal: 1.91s\tremaining: 566ms\n",
      "771:\tlearn: 0.2624724\ttotal: 1.91s\tremaining: 564ms\n",
      "772:\tlearn: 0.2624154\ttotal: 1.91s\tremaining: 561ms\n",
      "773:\tlearn: 0.2623635\ttotal: 1.91s\tremaining: 559ms\n",
      "774:\tlearn: 0.2622444\ttotal: 1.92s\tremaining: 557ms\n",
      "775:\tlearn: 0.2621123\ttotal: 1.92s\tremaining: 554ms\n",
      "776:\tlearn: 0.2620962\ttotal: 1.92s\tremaining: 552ms\n",
      "777:\tlearn: 0.2620250\ttotal: 1.93s\tremaining: 550ms\n",
      "778:\tlearn: 0.2619194\ttotal: 1.93s\tremaining: 547ms\n",
      "779:\tlearn: 0.2618959\ttotal: 1.93s\tremaining: 545ms\n",
      "780:\tlearn: 0.2618303\ttotal: 1.93s\tremaining: 542ms\n",
      "781:\tlearn: 0.2617500\ttotal: 1.94s\tremaining: 540ms\n",
      "782:\tlearn: 0.2616746\ttotal: 1.94s\tremaining: 537ms\n",
      "783:\tlearn: 0.2615965\ttotal: 1.94s\tremaining: 535ms\n",
      "784:\tlearn: 0.2615209\ttotal: 1.94s\tremaining: 532ms\n",
      "785:\tlearn: 0.2613270\ttotal: 1.95s\tremaining: 530ms\n",
      "786:\tlearn: 0.2612769\ttotal: 1.95s\tremaining: 527ms\n",
      "787:\tlearn: 0.2611055\ttotal: 1.95s\tremaining: 525ms\n",
      "788:\tlearn: 0.2609880\ttotal: 1.96s\tremaining: 523ms\n",
      "789:\tlearn: 0.2609088\ttotal: 1.96s\tremaining: 521ms\n",
      "790:\tlearn: 0.2607704\ttotal: 1.96s\tremaining: 519ms\n",
      "791:\tlearn: 0.2607375\ttotal: 1.97s\tremaining: 516ms\n",
      "792:\tlearn: 0.2606892\ttotal: 1.97s\tremaining: 514ms\n",
      "793:\tlearn: 0.2606252\ttotal: 1.97s\tremaining: 512ms\n",
      "794:\tlearn: 0.2605439\ttotal: 1.98s\tremaining: 510ms\n",
      "795:\tlearn: 0.2604138\ttotal: 1.98s\tremaining: 507ms\n",
      "796:\tlearn: 0.2602657\ttotal: 1.98s\tremaining: 505ms\n",
      "797:\tlearn: 0.2601841\ttotal: 1.98s\tremaining: 502ms\n",
      "798:\tlearn: 0.2600883\ttotal: 1.99s\tremaining: 500ms\n",
      "799:\tlearn: 0.2600483\ttotal: 1.99s\tremaining: 497ms\n",
      "800:\tlearn: 0.2600115\ttotal: 1.99s\tremaining: 495ms\n",
      "801:\tlearn: 0.2599637\ttotal: 1.99s\tremaining: 492ms\n",
      "802:\tlearn: 0.2598507\ttotal: 2s\tremaining: 490ms\n",
      "803:\tlearn: 0.2597735\ttotal: 2s\tremaining: 487ms\n",
      "804:\tlearn: 0.2597128\ttotal: 2s\tremaining: 485ms\n",
      "805:\tlearn: 0.2596261\ttotal: 2s\tremaining: 482ms\n",
      "806:\tlearn: 0.2595406\ttotal: 2.01s\tremaining: 480ms\n",
      "807:\tlearn: 0.2594683\ttotal: 2.01s\tremaining: 477ms\n",
      "808:\tlearn: 0.2593767\ttotal: 2.01s\tremaining: 475ms\n",
      "809:\tlearn: 0.2593466\ttotal: 2.01s\tremaining: 473ms\n",
      "810:\tlearn: 0.2592950\ttotal: 2.02s\tremaining: 470ms\n",
      "811:\tlearn: 0.2592601\ttotal: 2.02s\tremaining: 467ms\n",
      "812:\tlearn: 0.2591629\ttotal: 2.02s\tremaining: 465ms\n",
      "813:\tlearn: 0.2591518\ttotal: 2.02s\tremaining: 462ms\n",
      "814:\tlearn: 0.2590673\ttotal: 2.03s\tremaining: 460ms\n",
      "815:\tlearn: 0.2590100\ttotal: 2.03s\tremaining: 457ms\n",
      "816:\tlearn: 0.2589247\ttotal: 2.03s\tremaining: 455ms\n",
      "817:\tlearn: 0.2589061\ttotal: 2.03s\tremaining: 452ms\n",
      "818:\tlearn: 0.2588112\ttotal: 2.04s\tremaining: 450ms\n",
      "819:\tlearn: 0.2587707\ttotal: 2.04s\tremaining: 447ms\n",
      "820:\tlearn: 0.2586650\ttotal: 2.04s\tremaining: 445ms\n",
      "821:\tlearn: 0.2585726\ttotal: 2.04s\tremaining: 442ms\n",
      "822:\tlearn: 0.2585251\ttotal: 2.04s\tremaining: 440ms\n",
      "823:\tlearn: 0.2583888\ttotal: 2.05s\tremaining: 437ms\n",
      "824:\tlearn: 0.2583269\ttotal: 2.05s\tremaining: 435ms\n",
      "825:\tlearn: 0.2582891\ttotal: 2.05s\tremaining: 432ms\n",
      "826:\tlearn: 0.2581851\ttotal: 2.05s\tremaining: 430ms\n",
      "827:\tlearn: 0.2580739\ttotal: 2.06s\tremaining: 427ms\n",
      "828:\tlearn: 0.2579839\ttotal: 2.06s\tremaining: 424ms\n",
      "829:\tlearn: 0.2578402\ttotal: 2.06s\tremaining: 422ms\n",
      "830:\tlearn: 0.2577983\ttotal: 2.06s\tremaining: 419ms\n",
      "831:\tlearn: 0.2576685\ttotal: 2.06s\tremaining: 417ms\n",
      "832:\tlearn: 0.2575368\ttotal: 2.07s\tremaining: 414ms\n",
      "833:\tlearn: 0.2575179\ttotal: 2.07s\tremaining: 412ms\n",
      "834:\tlearn: 0.2574320\ttotal: 2.07s\tremaining: 409ms\n",
      "835:\tlearn: 0.2573208\ttotal: 2.07s\tremaining: 407ms\n",
      "836:\tlearn: 0.2572212\ttotal: 2.08s\tremaining: 404ms\n",
      "837:\tlearn: 0.2571130\ttotal: 2.08s\tremaining: 402ms\n",
      "838:\tlearn: 0.2570237\ttotal: 2.08s\tremaining: 400ms\n",
      "839:\tlearn: 0.2569592\ttotal: 2.08s\tremaining: 397ms\n",
      "840:\tlearn: 0.2569209\ttotal: 2.09s\tremaining: 395ms\n",
      "841:\tlearn: 0.2568349\ttotal: 2.09s\tremaining: 392ms\n",
      "842:\tlearn: 0.2567215\ttotal: 2.09s\tremaining: 390ms\n",
      "843:\tlearn: 0.2567054\ttotal: 2.09s\tremaining: 387ms\n",
      "844:\tlearn: 0.2566289\ttotal: 2.1s\tremaining: 385ms\n",
      "845:\tlearn: 0.2565698\ttotal: 2.1s\tremaining: 382ms\n",
      "846:\tlearn: 0.2564501\ttotal: 2.1s\tremaining: 380ms\n",
      "847:\tlearn: 0.2564078\ttotal: 2.1s\tremaining: 377ms\n",
      "848:\tlearn: 0.2563576\ttotal: 2.1s\tremaining: 375ms\n",
      "849:\tlearn: 0.2562956\ttotal: 2.11s\tremaining: 372ms\n",
      "850:\tlearn: 0.2562512\ttotal: 2.11s\tremaining: 370ms\n",
      "851:\tlearn: 0.2562067\ttotal: 2.11s\tremaining: 367ms\n",
      "852:\tlearn: 0.2561675\ttotal: 2.12s\tremaining: 365ms\n",
      "853:\tlearn: 0.2560856\ttotal: 2.12s\tremaining: 362ms\n",
      "854:\tlearn: 0.2560251\ttotal: 2.12s\tremaining: 360ms\n",
      "855:\tlearn: 0.2559666\ttotal: 2.12s\tremaining: 357ms\n",
      "856:\tlearn: 0.2559592\ttotal: 2.12s\tremaining: 355ms\n",
      "857:\tlearn: 0.2559553\ttotal: 2.13s\tremaining: 352ms\n",
      "858:\tlearn: 0.2557658\ttotal: 2.13s\tremaining: 349ms\n",
      "859:\tlearn: 0.2556015\ttotal: 2.13s\tremaining: 347ms\n",
      "860:\tlearn: 0.2555746\ttotal: 2.13s\tremaining: 344ms\n",
      "861:\tlearn: 0.2555528\ttotal: 2.13s\tremaining: 342ms\n",
      "862:\tlearn: 0.2554019\ttotal: 2.14s\tremaining: 339ms\n",
      "863:\tlearn: 0.2553624\ttotal: 2.14s\tremaining: 337ms\n",
      "864:\tlearn: 0.2552745\ttotal: 2.14s\tremaining: 334ms\n",
      "865:\tlearn: 0.2552301\ttotal: 2.14s\tremaining: 332ms\n",
      "866:\tlearn: 0.2550897\ttotal: 2.15s\tremaining: 329ms\n",
      "867:\tlearn: 0.2550787\ttotal: 2.15s\tremaining: 327ms\n",
      "868:\tlearn: 0.2549665\ttotal: 2.15s\tremaining: 324ms\n",
      "869:\tlearn: 0.2548696\ttotal: 2.15s\tremaining: 322ms\n",
      "870:\tlearn: 0.2548113\ttotal: 2.15s\tremaining: 319ms\n",
      "871:\tlearn: 0.2546786\ttotal: 2.16s\tremaining: 316ms\n",
      "872:\tlearn: 0.2546671\ttotal: 2.16s\tremaining: 314ms\n",
      "873:\tlearn: 0.2545641\ttotal: 2.16s\tremaining: 312ms\n",
      "874:\tlearn: 0.2544661\ttotal: 2.16s\tremaining: 309ms\n",
      "875:\tlearn: 0.2543581\ttotal: 2.17s\tremaining: 307ms\n",
      "876:\tlearn: 0.2543328\ttotal: 2.17s\tremaining: 304ms\n",
      "877:\tlearn: 0.2542876\ttotal: 2.17s\tremaining: 302ms\n",
      "878:\tlearn: 0.2542062\ttotal: 2.17s\tremaining: 299ms\n",
      "879:\tlearn: 0.2541544\ttotal: 2.17s\tremaining: 297ms\n",
      "880:\tlearn: 0.2540964\ttotal: 2.18s\tremaining: 294ms\n",
      "881:\tlearn: 0.2540271\ttotal: 2.18s\tremaining: 292ms\n",
      "882:\tlearn: 0.2539548\ttotal: 2.18s\tremaining: 289ms\n",
      "883:\tlearn: 0.2539038\ttotal: 2.19s\tremaining: 287ms\n",
      "884:\tlearn: 0.2538366\ttotal: 2.19s\tremaining: 284ms\n",
      "885:\tlearn: 0.2537596\ttotal: 2.19s\tremaining: 282ms\n",
      "886:\tlearn: 0.2536863\ttotal: 2.19s\tremaining: 280ms\n",
      "887:\tlearn: 0.2536330\ttotal: 2.2s\tremaining: 277ms\n",
      "888:\tlearn: 0.2535553\ttotal: 2.2s\tremaining: 275ms\n",
      "889:\tlearn: 0.2535323\ttotal: 2.2s\tremaining: 272ms\n",
      "890:\tlearn: 0.2534801\ttotal: 2.2s\tremaining: 270ms\n",
      "891:\tlearn: 0.2533638\ttotal: 2.21s\tremaining: 267ms\n",
      "892:\tlearn: 0.2532514\ttotal: 2.21s\tremaining: 265ms\n",
      "893:\tlearn: 0.2531938\ttotal: 2.21s\tremaining: 262ms\n",
      "894:\tlearn: 0.2531642\ttotal: 2.21s\tremaining: 260ms\n",
      "895:\tlearn: 0.2531481\ttotal: 2.21s\tremaining: 257ms\n",
      "896:\tlearn: 0.2530872\ttotal: 2.22s\tremaining: 255ms\n",
      "897:\tlearn: 0.2530394\ttotal: 2.22s\tremaining: 252ms\n",
      "898:\tlearn: 0.2530243\ttotal: 2.22s\tremaining: 250ms\n",
      "899:\tlearn: 0.2529717\ttotal: 2.22s\tremaining: 247ms\n",
      "900:\tlearn: 0.2529265\ttotal: 2.23s\tremaining: 245ms\n",
      "901:\tlearn: 0.2528780\ttotal: 2.23s\tremaining: 242ms\n",
      "902:\tlearn: 0.2528499\ttotal: 2.23s\tremaining: 240ms\n",
      "903:\tlearn: 0.2528278\ttotal: 2.23s\tremaining: 237ms\n",
      "904:\tlearn: 0.2527924\ttotal: 2.24s\tremaining: 235ms\n",
      "905:\tlearn: 0.2527295\ttotal: 2.24s\tremaining: 232ms\n",
      "906:\tlearn: 0.2526906\ttotal: 2.24s\tremaining: 230ms\n",
      "907:\tlearn: 0.2526457\ttotal: 2.24s\tremaining: 227ms\n",
      "908:\tlearn: 0.2525764\ttotal: 2.25s\tremaining: 225ms\n",
      "909:\tlearn: 0.2524357\ttotal: 2.25s\tremaining: 222ms\n",
      "910:\tlearn: 0.2523976\ttotal: 2.25s\tremaining: 220ms\n",
      "911:\tlearn: 0.2523680\ttotal: 2.25s\tremaining: 217ms\n",
      "912:\tlearn: 0.2522773\ttotal: 2.25s\tremaining: 215ms\n",
      "913:\tlearn: 0.2521943\ttotal: 2.26s\tremaining: 212ms\n",
      "914:\tlearn: 0.2521311\ttotal: 2.26s\tremaining: 210ms\n",
      "915:\tlearn: 0.2521088\ttotal: 2.26s\tremaining: 207ms\n",
      "916:\tlearn: 0.2519409\ttotal: 2.26s\tremaining: 205ms\n",
      "917:\tlearn: 0.2518857\ttotal: 2.27s\tremaining: 202ms\n",
      "918:\tlearn: 0.2518090\ttotal: 2.27s\tremaining: 200ms\n",
      "919:\tlearn: 0.2517451\ttotal: 2.27s\tremaining: 197ms\n",
      "920:\tlearn: 0.2517061\ttotal: 2.27s\tremaining: 195ms\n",
      "921:\tlearn: 0.2516112\ttotal: 2.27s\tremaining: 192ms\n",
      "922:\tlearn: 0.2514352\ttotal: 2.28s\tremaining: 190ms\n",
      "923:\tlearn: 0.2513425\ttotal: 2.28s\tremaining: 187ms\n",
      "924:\tlearn: 0.2513066\ttotal: 2.28s\tremaining: 185ms\n",
      "925:\tlearn: 0.2512540\ttotal: 2.28s\tremaining: 183ms\n",
      "926:\tlearn: 0.2511618\ttotal: 2.29s\tremaining: 180ms\n",
      "927:\tlearn: 0.2510785\ttotal: 2.29s\tremaining: 178ms\n",
      "928:\tlearn: 0.2509859\ttotal: 2.29s\tremaining: 175ms\n",
      "929:\tlearn: 0.2509544\ttotal: 2.29s\tremaining: 173ms\n",
      "930:\tlearn: 0.2508722\ttotal: 2.3s\tremaining: 170ms\n",
      "931:\tlearn: 0.2508103\ttotal: 2.3s\tremaining: 168ms\n",
      "932:\tlearn: 0.2507410\ttotal: 2.3s\tremaining: 165ms\n",
      "933:\tlearn: 0.2506206\ttotal: 2.3s\tremaining: 163ms\n",
      "934:\tlearn: 0.2505647\ttotal: 2.31s\tremaining: 160ms\n",
      "935:\tlearn: 0.2504562\ttotal: 2.31s\tremaining: 158ms\n",
      "936:\tlearn: 0.2504064\ttotal: 2.31s\tremaining: 155ms\n",
      "937:\tlearn: 0.2503323\ttotal: 2.31s\tremaining: 153ms\n",
      "938:\tlearn: 0.2502136\ttotal: 2.32s\tremaining: 150ms\n",
      "939:\tlearn: 0.2502070\ttotal: 2.32s\tremaining: 148ms\n",
      "940:\tlearn: 0.2501533\ttotal: 2.32s\tremaining: 145ms\n",
      "941:\tlearn: 0.2501348\ttotal: 2.32s\tremaining: 143ms\n",
      "942:\tlearn: 0.2501287\ttotal: 2.32s\tremaining: 140ms\n",
      "943:\tlearn: 0.2500884\ttotal: 2.33s\tremaining: 138ms\n",
      "944:\tlearn: 0.2499841\ttotal: 2.33s\tremaining: 136ms\n",
      "945:\tlearn: 0.2499141\ttotal: 2.33s\tremaining: 133ms\n",
      "946:\tlearn: 0.2498309\ttotal: 2.33s\tremaining: 131ms\n",
      "947:\tlearn: 0.2498151\ttotal: 2.33s\tremaining: 128ms\n",
      "948:\tlearn: 0.2497660\ttotal: 2.34s\tremaining: 126ms\n",
      "949:\tlearn: 0.2496817\ttotal: 2.34s\tremaining: 123ms\n",
      "950:\tlearn: 0.2496082\ttotal: 2.34s\tremaining: 121ms\n",
      "951:\tlearn: 0.2494601\ttotal: 2.35s\tremaining: 118ms\n",
      "952:\tlearn: 0.2492748\ttotal: 2.35s\tremaining: 116ms\n",
      "953:\tlearn: 0.2491904\ttotal: 2.35s\tremaining: 113ms\n",
      "954:\tlearn: 0.2490329\ttotal: 2.35s\tremaining: 111ms\n",
      "955:\tlearn: 0.2489289\ttotal: 2.35s\tremaining: 108ms\n",
      "956:\tlearn: 0.2488804\ttotal: 2.36s\tremaining: 106ms\n",
      "957:\tlearn: 0.2488512\ttotal: 2.36s\tremaining: 103ms\n",
      "958:\tlearn: 0.2488364\ttotal: 2.36s\tremaining: 101ms\n",
      "959:\tlearn: 0.2487346\ttotal: 2.36s\tremaining: 98.5ms\n",
      "960:\tlearn: 0.2486549\ttotal: 2.37s\tremaining: 96.1ms\n",
      "961:\tlearn: 0.2485512\ttotal: 2.37s\tremaining: 93.6ms\n",
      "962:\tlearn: 0.2484855\ttotal: 2.37s\tremaining: 91.1ms\n",
      "963:\tlearn: 0.2484467\ttotal: 2.37s\tremaining: 88.7ms\n",
      "964:\tlearn: 0.2483858\ttotal: 2.38s\tremaining: 86.2ms\n",
      "965:\tlearn: 0.2482936\ttotal: 2.38s\tremaining: 83.7ms\n",
      "966:\tlearn: 0.2481897\ttotal: 2.38s\tremaining: 81.3ms\n",
      "967:\tlearn: 0.2481462\ttotal: 2.38s\tremaining: 78.8ms\n",
      "968:\tlearn: 0.2480849\ttotal: 2.39s\tremaining: 76.3ms\n",
      "969:\tlearn: 0.2479332\ttotal: 2.39s\tremaining: 73.9ms\n",
      "970:\tlearn: 0.2478311\ttotal: 2.39s\tremaining: 71.4ms\n",
      "971:\tlearn: 0.2477406\ttotal: 2.39s\tremaining: 69ms\n",
      "972:\tlearn: 0.2476101\ttotal: 2.4s\tremaining: 66.5ms\n",
      "973:\tlearn: 0.2475126\ttotal: 2.4s\tremaining: 64ms\n",
      "974:\tlearn: 0.2475075\ttotal: 2.4s\tremaining: 61.6ms\n",
      "975:\tlearn: 0.2474948\ttotal: 2.4s\tremaining: 59.1ms\n",
      "976:\tlearn: 0.2474760\ttotal: 2.4s\tremaining: 56.6ms\n",
      "977:\tlearn: 0.2474244\ttotal: 2.41s\tremaining: 54.2ms\n",
      "978:\tlearn: 0.2473787\ttotal: 2.41s\tremaining: 51.7ms\n",
      "979:\tlearn: 0.2472583\ttotal: 2.41s\tremaining: 49.2ms\n",
      "980:\tlearn: 0.2471997\ttotal: 2.41s\tremaining: 46.8ms\n",
      "981:\tlearn: 0.2471424\ttotal: 2.42s\tremaining: 44.3ms\n",
      "982:\tlearn: 0.2470821\ttotal: 2.42s\tremaining: 41.8ms\n",
      "983:\tlearn: 0.2470528\ttotal: 2.42s\tremaining: 39.4ms\n",
      "984:\tlearn: 0.2468794\ttotal: 2.42s\tremaining: 36.9ms\n",
      "985:\tlearn: 0.2467932\ttotal: 2.43s\tremaining: 34.5ms\n",
      "986:\tlearn: 0.2467445\ttotal: 2.43s\tremaining: 32ms\n",
      "987:\tlearn: 0.2466006\ttotal: 2.43s\tremaining: 29.5ms\n",
      "988:\tlearn: 0.2465489\ttotal: 2.43s\tremaining: 27.1ms\n",
      "989:\tlearn: 0.2465047\ttotal: 2.44s\tremaining: 24.6ms\n",
      "990:\tlearn: 0.2464852\ttotal: 2.44s\tremaining: 22.1ms\n",
      "991:\tlearn: 0.2464609\ttotal: 2.44s\tremaining: 19.7ms\n",
      "992:\tlearn: 0.2464097\ttotal: 2.44s\tremaining: 17.2ms\n",
      "993:\tlearn: 0.2464025\ttotal: 2.44s\tremaining: 14.8ms\n",
      "994:\tlearn: 0.2462946\ttotal: 2.45s\tremaining: 12.3ms\n",
      "995:\tlearn: 0.2462331\ttotal: 2.45s\tremaining: 9.84ms\n",
      "996:\tlearn: 0.2461397\ttotal: 2.45s\tremaining: 7.38ms\n",
      "997:\tlearn: 0.2460708\ttotal: 2.45s\tremaining: 4.92ms\n",
      "998:\tlearn: 0.2460539\ttotal: 2.46s\tremaining: 2.46ms\n",
      "999:\tlearn: 0.2459935\ttotal: 2.46s\tremaining: 0us\n"
     ]
    },
    {
     "data": {
      "text/plain": [
       "<catboost.core.CatBoostClassifier at 0x1aa4e019cd0>"
      ]
     },
     "execution_count": 92,
     "metadata": {},
     "output_type": "execute_result"
    }
   ],
   "source": [
    "from sklearn.tree import DecisionTreeClassifier\n",
    "\n",
    "modelV2 = CatBoostClassifier(random_state=21)\n",
    "\n",
    "modelV2.fit(scaled_tr, y_tr)"
   ]
  },
  {
   "cell_type": "markdown",
   "id": "4d0c2aa5-50c6-44bd-a8ab-f9ab0d76d3c1",
   "metadata": {},
   "source": [
    "### Evaluation"
   ]
  },
  {
   "cell_type": "code",
   "execution_count": 93,
   "id": "a330a3d5-87f4-443f-a2a0-cd363a4fc416",
   "metadata": {},
   "outputs": [
    {
     "data": {
      "text/plain": [
       "(0.906396255850234, 0.8727272727272727)"
      ]
     },
     "execution_count": 93,
     "metadata": {},
     "output_type": "execute_result"
    }
   ],
   "source": [
    "score_tr = modelV2.score(scaled_tr, y_tr)\n",
    "score_te = modelV2.score(scaled_te, y_te) \n",
    "\n",
    "score_tr, score_te  "
   ]
  },
  {
   "cell_type": "code",
   "execution_count": 94,
   "id": "8685390e-0f09-4d06-a4b0-c0a380f46ba8",
   "metadata": {},
   "outputs": [
    {
     "name": "stdout",
     "output_type": "stream",
     "text": [
      "model: 0.9032276203328835\n"
     ]
    }
   ],
   "source": [
    "from sklearn.metrics import roc_curve, auc \n",
    "\n",
    "y_pred = modelV2.predict_proba(scaled_te)[:,1]\n",
    "fpr, tpr, thresholds = roc_curve(y_te,y_pred)\n",
    "auc_te = auc(fpr, tpr)\n",
    "print(f'model: {auc_te}')"
   ]
  },
  {
   "cell_type": "code",
   "execution_count": 95,
   "id": "2354cf23-e4dc-46b0-bbca-9760446dbeab",
   "metadata": {},
   "outputs": [],
   "source": [
    "ori_te_pred = modelV2.predict_proba(scaled_ori_te)[:,1]"
   ]
  },
  {
   "cell_type": "code",
   "execution_count": 96,
   "id": "d469d0c0-7ab8-4732-9c27-19fddb28e8fb",
   "metadata": {},
   "outputs": [
    {
     "data": {
      "text/html": [
       "<div>\n",
       "<style scoped>\n",
       "    .dataframe tbody tr th:only-of-type {\n",
       "        vertical-align: middle;\n",
       "    }\n",
       "\n",
       "    .dataframe tbody tr th {\n",
       "        vertical-align: top;\n",
       "    }\n",
       "\n",
       "    .dataframe thead th {\n",
       "        text-align: right;\n",
       "    }\n",
       "</style>\n",
       "<table border=\"1\" class=\"dataframe\">\n",
       "  <thead>\n",
       "    <tr style=\"text-align: right;\">\n",
       "      <th></th>\n",
       "      <th>index</th>\n",
       "      <th>0</th>\n",
       "    </tr>\n",
       "  </thead>\n",
       "  <tbody>\n",
       "    <tr>\n",
       "      <th>0</th>\n",
       "      <td>gender_male</td>\n",
       "      <td>29.273061</td>\n",
       "    </tr>\n",
       "    <tr>\n",
       "      <th>1</th>\n",
       "      <td>gender_female</td>\n",
       "      <td>21.139157</td>\n",
       "    </tr>\n",
       "    <tr>\n",
       "      <th>2</th>\n",
       "      <td>pclass</td>\n",
       "      <td>14.811267</td>\n",
       "    </tr>\n",
       "    <tr>\n",
       "      <th>3</th>\n",
       "      <td>fare</td>\n",
       "      <td>11.347732</td>\n",
       "    </tr>\n",
       "    <tr>\n",
       "      <th>4</th>\n",
       "      <td>age</td>\n",
       "      <td>11.168006</td>\n",
       "    </tr>\n",
       "    <tr>\n",
       "      <th>5</th>\n",
       "      <td>sibsp</td>\n",
       "      <td>5.386040</td>\n",
       "    </tr>\n",
       "    <tr>\n",
       "      <th>6</th>\n",
       "      <td>parch</td>\n",
       "      <td>3.127228</td>\n",
       "    </tr>\n",
       "    <tr>\n",
       "      <th>7</th>\n",
       "      <td>embarked_C</td>\n",
       "      <td>1.538422</td>\n",
       "    </tr>\n",
       "    <tr>\n",
       "      <th>8</th>\n",
       "      <td>embarked_S</td>\n",
       "      <td>1.403313</td>\n",
       "    </tr>\n",
       "    <tr>\n",
       "      <th>9</th>\n",
       "      <td>embarked_Q</td>\n",
       "      <td>0.805775</td>\n",
       "    </tr>\n",
       "  </tbody>\n",
       "</table>\n",
       "</div>"
      ],
      "text/plain": [
       "           index          0\n",
       "0    gender_male  29.273061\n",
       "1  gender_female  21.139157\n",
       "2         pclass  14.811267\n",
       "3           fare  11.347732\n",
       "4            age  11.168006\n",
       "5          sibsp   5.386040\n",
       "6          parch   3.127228\n",
       "7     embarked_C   1.538422\n",
       "8     embarked_S   1.403313\n",
       "9     embarked_Q   0.805775"
      ]
     },
     "execution_count": 96,
     "metadata": {},
     "output_type": "execute_result"
    }
   ],
   "source": [
    "df_feature_importances = pd.DataFrame(modelV2.feature_importances_, scaled_tr.columns).sort_values(by=[0], ascending=False).reset_index()\n",
    "# print(f'{df_feature_importances.shape}')\n",
    "df_feature_importances"
   ]
  },
  {
   "cell_type": "code",
   "execution_count": 73,
   "id": "82c2bafe-0037-41aa-97cd-f97cfdcddb4b",
   "metadata": {},
   "outputs": [],
   "source": [
    "args.results.append(\n",
    "    {\n",
    "        'model': 'modelV2',\n",
    "        'score_tr': score_tr,\n",
    "        'score_te': score_te,\n",
    "        'auc_te': auc_te,\n",
    "        'ori_te_pred': ori_te_pred,\n",
    "        'len_features': X_tr.shape[1],\n",
    "        'feaute_importances': list(df_feature_importances['index'].values[:X_tr.shape[1]]),\n",
    "        'create_dt': '0330'\n",
    "    }\n",
    ")"
   ]
  },
  {
   "cell_type": "markdown",
   "id": "76c2184d-c053-4f12-aaac-ada6cae4efff",
   "metadata": {},
   "source": [
    "# Submission"
   ]
  },
  {
   "cell_type": "code",
   "execution_count": 74,
   "id": "7592c621-8b0c-412a-ba1d-a3640b9e33fe",
   "metadata": {},
   "outputs": [
    {
     "data": {
      "text/html": [
       "<div>\n",
       "<style scoped>\n",
       "    .dataframe tbody tr th:only-of-type {\n",
       "        vertical-align: middle;\n",
       "    }\n",
       "\n",
       "    .dataframe tbody tr th {\n",
       "        vertical-align: top;\n",
       "    }\n",
       "\n",
       "    .dataframe thead th {\n",
       "        text-align: right;\n",
       "    }\n",
       "</style>\n",
       "<table border=\"1\" class=\"dataframe\">\n",
       "  <thead>\n",
       "    <tr style=\"text-align: right;\">\n",
       "      <th></th>\n",
       "      <th>model</th>\n",
       "      <th>score_tr</th>\n",
       "      <th>score_te</th>\n",
       "      <th>auc_te</th>\n",
       "      <th>ori_te_pred</th>\n",
       "      <th>len_features</th>\n",
       "      <th>feaute_importances</th>\n",
       "      <th>create_dt</th>\n",
       "    </tr>\n",
       "  </thead>\n",
       "  <tbody>\n",
       "    <tr>\n",
       "      <th>0</th>\n",
       "      <td>modelV0</td>\n",
       "      <td>0.982839</td>\n",
       "      <td>0.832727</td>\n",
       "      <td>0.900585</td>\n",
       "      <td>[0.65, 0.99, 1.0, 0.0, 0.96, 0.92, 0.0, 0.1118...</td>\n",
       "      <td>10</td>\n",
       "      <td>[gender_male, fare, age, gender_female, pclass...</td>\n",
       "      <td>0330</td>\n",
       "    </tr>\n",
       "    <tr>\n",
       "      <th>2</th>\n",
       "      <td>modelV2</td>\n",
       "      <td>0.982839</td>\n",
       "      <td>0.818182</td>\n",
       "      <td>0.899516</td>\n",
       "      <td>[0.63, 1.0, 1.0, 0.01, 0.89, 0.91, 0.0, 0.1118...</td>\n",
       "      <td>10</td>\n",
       "      <td>[gender_female, fare, gender_male, age, pclass...</td>\n",
       "      <td>0330</td>\n",
       "    </tr>\n",
       "    <tr>\n",
       "      <th>1</th>\n",
       "      <td>modelV1</td>\n",
       "      <td>0.982839</td>\n",
       "      <td>0.818182</td>\n",
       "      <td>0.898364</td>\n",
       "      <td>[0.63, 1.0, 1.0, 0.0, 0.89, 0.94, 0.0, 0.11184...</td>\n",
       "      <td>10</td>\n",
       "      <td>[gender_female, fare, gender_male, age, pclass...</td>\n",
       "      <td>0330</td>\n",
       "    </tr>\n",
       "  </tbody>\n",
       "</table>\n",
       "</div>"
      ],
      "text/plain": [
       "     model  score_tr  score_te    auc_te  \\\n",
       "0  modelV0  0.982839  0.832727  0.900585   \n",
       "2  modelV2  0.982839  0.818182  0.899516   \n",
       "1  modelV1  0.982839  0.818182  0.898364   \n",
       "\n",
       "                                         ori_te_pred  len_features  \\\n",
       "0  [0.65, 0.99, 1.0, 0.0, 0.96, 0.92, 0.0, 0.1118...            10   \n",
       "2  [0.63, 1.0, 1.0, 0.01, 0.89, 0.91, 0.0, 0.1118...            10   \n",
       "1  [0.63, 1.0, 1.0, 0.0, 0.89, 0.94, 0.0, 0.11184...            10   \n",
       "\n",
       "                                  feaute_importances create_dt  \n",
       "0  [gender_male, fare, age, gender_female, pclass...      0330  \n",
       "2  [gender_female, fare, gender_male, age, pclass...      0330  \n",
       "1  [gender_female, fare, gender_male, age, pclass...      0330  "
      ]
     },
     "execution_count": 74,
     "metadata": {},
     "output_type": "execute_result"
    }
   ],
   "source": [
    "df_results = pd.DataFrame(args.results).sort_values(by=['auc_te'], ascending=False)\n",
    "df_results"
   ]
  },
  {
   "cell_type": "code",
   "execution_count": 75,
   "id": "8eed7057-8d16-40da-af3b-fca8c73180ab",
   "metadata": {},
   "outputs": [
    {
     "data": {
      "text/html": [
       "<div>\n",
       "<style scoped>\n",
       "    .dataframe tbody tr th:only-of-type {\n",
       "        vertical-align: middle;\n",
       "    }\n",
       "\n",
       "    .dataframe tbody tr th {\n",
       "        vertical-align: top;\n",
       "    }\n",
       "\n",
       "    .dataframe thead th {\n",
       "        text-align: right;\n",
       "    }\n",
       "</style>\n",
       "<table border=\"1\" class=\"dataframe\">\n",
       "  <thead>\n",
       "    <tr style=\"text-align: right;\">\n",
       "      <th></th>\n",
       "      <th>passengerid</th>\n",
       "      <th>survived</th>\n",
       "    </tr>\n",
       "  </thead>\n",
       "  <tbody>\n",
       "    <tr>\n",
       "      <th>0</th>\n",
       "      <td>916</td>\n",
       "      <td>0.5</td>\n",
       "    </tr>\n",
       "    <tr>\n",
       "      <th>1</th>\n",
       "      <td>917</td>\n",
       "      <td>0.5</td>\n",
       "    </tr>\n",
       "  </tbody>\n",
       "</table>\n",
       "</div>"
      ],
      "text/plain": [
       "   passengerid  survived\n",
       "0          916       0.5\n",
       "1          917       0.5"
      ]
     },
     "execution_count": 75,
     "metadata": {},
     "output_type": "execute_result"
    }
   ],
   "source": [
    "submission = pd.read_csv(args.default_submission_csv)\n",
    "submission.head(2)"
   ]
  },
  {
   "cell_type": "code",
   "execution_count": 76,
   "id": "764d49d2-bdca-4500-8cd7-ea48221e3bec",
   "metadata": {
    "tags": []
   },
   "outputs": [
    {
     "name": "stdout",
     "output_type": "stream",
     "text": [
      "0\n"
     ]
    },
    {
     "data": {
      "text/html": [
       "<div>\n",
       "<style scoped>\n",
       "    .dataframe tbody tr th:only-of-type {\n",
       "        vertical-align: middle;\n",
       "    }\n",
       "\n",
       "    .dataframe tbody tr th {\n",
       "        vertical-align: top;\n",
       "    }\n",
       "\n",
       "    .dataframe thead th {\n",
       "        text-align: right;\n",
       "    }\n",
       "</style>\n",
       "<table border=\"1\" class=\"dataframe\">\n",
       "  <thead>\n",
       "    <tr style=\"text-align: right;\">\n",
       "      <th></th>\n",
       "      <th>passengerid</th>\n",
       "      <th>survived</th>\n",
       "    </tr>\n",
       "  </thead>\n",
       "  <tbody>\n",
       "    <tr>\n",
       "      <th>0</th>\n",
       "      <td>916</td>\n",
       "      <td>0.63</td>\n",
       "    </tr>\n",
       "    <tr>\n",
       "      <th>1</th>\n",
       "      <td>917</td>\n",
       "      <td>1.00</td>\n",
       "    </tr>\n",
       "    <tr>\n",
       "      <th>2</th>\n",
       "      <td>918</td>\n",
       "      <td>1.00</td>\n",
       "    </tr>\n",
       "    <tr>\n",
       "      <th>3</th>\n",
       "      <td>919</td>\n",
       "      <td>0.01</td>\n",
       "    </tr>\n",
       "    <tr>\n",
       "      <th>4</th>\n",
       "      <td>920</td>\n",
       "      <td>0.89</td>\n",
       "    </tr>\n",
       "  </tbody>\n",
       "</table>\n",
       "</div>"
      ],
      "text/plain": [
       "   passengerid  survived\n",
       "0          916      0.63\n",
       "1          917      1.00\n",
       "2          918      1.00\n",
       "3          919      0.01\n",
       "4          920      0.89"
      ]
     },
     "execution_count": 76,
     "metadata": {},
     "output_type": "execute_result"
    }
   ],
   "source": [
    "submission['survived'] = df_results.loc[2, ['ori_te_pred']].values[0] # 인덱스 2번에 헤당하는 ori_te_pred 뽑고 values는 array를 하나 풀어주기 위한 용도\n",
    "print(f'{submission.isnull().sum().sum()}')\n",
    "submission.head()"
   ]
  },
  {
   "cell_type": "code",
   "execution_count": 77,
   "id": "c489e763-36ff-450e-bb1f-cf94e08a5d80",
   "metadata": {},
   "outputs": [],
   "source": [
    "submission.to_csv(args.submission_csv, header=True, index=False) # 앞에서 지정한 submission_0330.csv로 저장된다"
   ]
  },
  {
   "cell_type": "markdown",
   "id": "c49ae2c8-da14-4ebf-9de3-a29b7b7c99a7",
   "metadata": {},
   "source": [
    "## 기존 결과 저장"
   ]
  },
  {
   "cell_type": "code",
   "execution_count": 78,
   "id": "493c4385-5074-4ae9-818d-59b83faaf646",
   "metadata": {},
   "outputs": [
    {
     "data": {
      "text/plain": [
       "'C:\\\\Users\\\\User\\\\Desktop\\\\model_results.csv'"
      ]
     },
     "execution_count": 78,
     "metadata": {},
     "output_type": "execute_result"
    }
   ],
   "source": [
    "args.save_results"
   ]
  },
  {
   "cell_type": "code",
   "execution_count": 79,
   "id": "76eca8e8-f4ed-431c-98d2-508751f5f268",
   "metadata": {},
   "outputs": [
    {
     "data": {
      "text/plain": [
       "Index(['model', 'score_tr', 'score_te', 'auc_te', 'ori_te_pred',\n",
       "       'len_features', 'feaute_importances', 'create_dt'],\n",
       "      dtype='object')"
      ]
     },
     "execution_count": 79,
     "metadata": {},
     "output_type": "execute_result"
    }
   ],
   "source": [
    "df_results.columns"
   ]
  },
  {
   "cell_type": "code",
   "execution_count": 80,
   "id": "4b3df5ae-0cde-4196-be27-43d8dc9d4bf0",
   "metadata": {},
   "outputs": [],
   "source": [
    "df_results.drop(['ori_te_pred'], axis=1, inplace=True) "
   ]
  },
  {
   "cell_type": "code",
   "execution_count": 81,
   "id": "09874454-58db-4bd2-b4d2-1397383fe3a6",
   "metadata": {},
   "outputs": [
    {
     "data": {
      "text/html": [
       "<div>\n",
       "<style scoped>\n",
       "    .dataframe tbody tr th:only-of-type {\n",
       "        vertical-align: middle;\n",
       "    }\n",
       "\n",
       "    .dataframe tbody tr th {\n",
       "        vertical-align: top;\n",
       "    }\n",
       "\n",
       "    .dataframe thead th {\n",
       "        text-align: right;\n",
       "    }\n",
       "</style>\n",
       "<table border=\"1\" class=\"dataframe\">\n",
       "  <thead>\n",
       "    <tr style=\"text-align: right;\">\n",
       "      <th></th>\n",
       "      <th>model</th>\n",
       "      <th>score_tr</th>\n",
       "      <th>score_te</th>\n",
       "      <th>auc_te</th>\n",
       "      <th>len_features</th>\n",
       "      <th>feaute_importances</th>\n",
       "      <th>create_dt</th>\n",
       "    </tr>\n",
       "  </thead>\n",
       "  <tbody>\n",
       "    <tr>\n",
       "      <th>0</th>\n",
       "      <td>modelV0</td>\n",
       "      <td>0.982839</td>\n",
       "      <td>0.832727</td>\n",
       "      <td>0.900585</td>\n",
       "      <td>10</td>\n",
       "      <td>[gender_male, fare, age, gender_female, pclass...</td>\n",
       "      <td>0330</td>\n",
       "    </tr>\n",
       "    <tr>\n",
       "      <th>2</th>\n",
       "      <td>modelV2</td>\n",
       "      <td>0.982839</td>\n",
       "      <td>0.818182</td>\n",
       "      <td>0.899516</td>\n",
       "      <td>10</td>\n",
       "      <td>[gender_female, fare, gender_male, age, pclass...</td>\n",
       "      <td>0330</td>\n",
       "    </tr>\n",
       "    <tr>\n",
       "      <th>1</th>\n",
       "      <td>modelV1</td>\n",
       "      <td>0.982839</td>\n",
       "      <td>0.818182</td>\n",
       "      <td>0.898364</td>\n",
       "      <td>10</td>\n",
       "      <td>[gender_female, fare, gender_male, age, pclass...</td>\n",
       "      <td>0330</td>\n",
       "    </tr>\n",
       "  </tbody>\n",
       "</table>\n",
       "</div>"
      ],
      "text/plain": [
       "     model  score_tr  score_te    auc_te  len_features  \\\n",
       "0  modelV0  0.982839  0.832727  0.900585            10   \n",
       "2  modelV2  0.982839  0.818182  0.899516            10   \n",
       "1  modelV1  0.982839  0.818182  0.898364            10   \n",
       "\n",
       "                                  feaute_importances create_dt  \n",
       "0  [gender_male, fare, age, gender_female, pclass...      0330  \n",
       "2  [gender_female, fare, gender_male, age, pclass...      0330  \n",
       "1  [gender_female, fare, gender_male, age, pclass...      0330  "
      ]
     },
     "execution_count": 81,
     "metadata": {},
     "output_type": "execute_result"
    }
   ],
   "source": [
    "df_results.head()"
   ]
  }
 ],
 "metadata": {
  "kernelspec": {
   "display_name": "Python 3 (ipykernel)",
   "language": "python",
   "name": "python3"
  },
  "language_info": {
   "codemirror_mode": {
    "name": "ipython",
    "version": 3
   },
   "file_extension": ".py",
   "mimetype": "text/x-python",
   "name": "python",
   "nbconvert_exporter": "python",
   "pygments_lexer": "ipython3",
   "version": "3.9.12"
  }
 },
 "nbformat": 4,
 "nbformat_minor": 5
}
