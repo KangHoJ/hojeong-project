{
 "cells": [
  {
   "cell_type": "code",
   "execution_count": null,
   "id": "5674f531-17b4-4f49-aa79-2cd6580fb1f4",
   "metadata": {},
   "outputs": [],
   "source": [
    "lst = []\n",
    "lst.append(df_ppeett[['대화','대화나누기']].values[0]"
   ]
  },
  {
   "cell_type": "code",
   "execution_count": null,
   "id": "9fe913a1-930c-4fab-8a3f-9c5dc7881fb3",
   "metadata": {},
   "outputs": [],
   "source": [
    "for i in range(1,len(df_ppeett)):\n",
    "    if df_ppeett['대화나누기'].values[i] != lst[-1][1]:\n",
    "        lst.append(df_ppeett[['대화','대화나누기']].values[i]\n",
    "                   \n",
    "    else:\n",
    "        lst[-1][0]+= df_ppeett[['대화']].values[i]\n",
    "                   \n",
    "print(lst)"
   ]
  }
 ],
 "metadata": {
  "kernelspec": {
   "display_name": "Python 3 (ipykernel)",
   "language": "python",
   "name": "python3"
  },
  "language_info": {
   "codemirror_mode": {
    "name": "ipython",
    "version": 3
   },
   "file_extension": ".py",
   "mimetype": "text/x-python",
   "name": "python",
   "nbconvert_exporter": "python",
   "pygments_lexer": "ipython3",
   "version": "3.9.12"
  }
 },
 "nbformat": 4,
 "nbformat_minor": 5
}
