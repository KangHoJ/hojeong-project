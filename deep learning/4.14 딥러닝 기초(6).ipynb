{
 "cells": [
  {
   "cell_type": "code",
   "execution_count": 1,
   "metadata": {
    "colab": {
     "base_uri": "https://localhost:8080/"
    },
    "executionInfo": {
     "elapsed": 20361,
     "status": "ok",
     "timestamp": 1681438708286,
     "user": {
      "displayName": "강호정",
      "userId": "03873201153560303630"
     },
     "user_tz": -540
    },
    "id": "2Weeu2GUjcub",
    "outputId": "84a2202a-a529-4964-b059-a90e59fbb77c"
   },
   "outputs": [
    {
     "name": "stdout",
     "output_type": "stream",
     "text": [
      "Mounted at /content/data\n"
     ]
    }
   ],
   "source": [
    "from google.colab import drive\n",
    "drive.mount('/content/data') # 드라이브 연결"
   ]
  },
  {
   "cell_type": "code",
   "execution_count": 3,
   "metadata": {
    "executionInfo": {
     "elapsed": 5838,
     "status": "ok",
     "timestamp": 1681439154598,
     "user": {
      "displayName": "강호정",
      "userId": "03873201153560303630"
     },
     "user_tz": -540
    },
    "id": "BzHjgbtIjism"
   },
   "outputs": [],
   "source": [
    "%matplotlib inline\n",
    "import torch\n",
    "\n",
    "x = torch.ones(5) #input\n",
    "y = torch.zeros(3) #output\n",
    "\n",
    "w = torch.randn(5, 3, requires_grad=True) # weight \n",
    "b = torch.randn(3, requires_grad=True) # bias\n",
    "\n",
    "z = torch.matmul(x,w)+b #wx+b\n",
    "\n",
    "loss = torch.nn.functional.binary_cross_entropy_with_logits(z,y) # 예측값(z) , 실제값(y) 차이"
   ]
  },
  {
   "cell_type": "code",
   "execution_count": 11,
   "metadata": {
    "colab": {
     "base_uri": "https://localhost:8080/"
    },
    "executionInfo": {
     "elapsed": 266,
     "status": "ok",
     "timestamp": 1681439859445,
     "user": {
      "displayName": "강호정",
      "userId": "03873201153560303630"
     },
     "user_tz": -540
    },
    "id": "XQloHYTmn6Uj",
    "outputId": "8f3f80c7-ac72-457a-9119-b0a971f8e893"
   },
   "outputs": [
    {
     "data": {
      "text/plain": [
       "tensor([ 1.7577, -2.5064,  1.8667], grad_fn=<AddBackward0>)"
      ]
     },
     "execution_count": 11,
     "metadata": {},
     "output_type": "execute_result"
    }
   ],
   "source": []
  },
  {
   "cell_type": "code",
   "execution_count": 4,
   "metadata": {
    "colab": {
     "base_uri": "https://localhost:8080/"
    },
    "executionInfo": {
     "elapsed": 7,
     "status": "ok",
     "timestamp": 1681439158082,
     "user": {
      "displayName": "강호정",
      "userId": "03873201153560303630"
     },
     "user_tz": -540
    },
    "id": "9Hg4NifykoWG",
    "outputId": "eafc47f8-f4be-481c-abc7-0ddc4cd69293"
   },
   "outputs": [
    {
     "name": "stdout",
     "output_type": "stream",
     "text": [
      "Gradient function for z = <AddBackward0 object at 0x7fbff3538be0>\n",
      "Gradient function for loss <BinaryCrossEntropyWithLogitsBackward0 object at 0x7fbff35389a0>\n"
     ]
    }
   ],
   "source": [
    "print('Gradient function for z =',z.grad_fn) # 경사하강법\n",
    "print('Gradient function for loss',loss.grad_fn)"
   ]
  },
  {
   "attachments": {},
   "cell_type": "markdown",
   "metadata": {
    "id": "EoCI60Zglpr9"
   },
   "source": [
    "## computing gradients"
   ]
  },
  {
   "cell_type": "code",
   "execution_count": 8,
   "metadata": {
    "colab": {
     "base_uri": "https://localhost:8080/"
    },
    "executionInfo": {
     "elapsed": 6,
     "status": "ok",
     "timestamp": 1681439447094,
     "user": {
      "displayName": "강호정",
      "userId": "03873201153560303630"
     },
     "user_tz": -540
    },
    "id": "VnE1EuXJkoZr",
    "outputId": "40aea12d-c935-4002-92f2-b5c7b289381f"
   },
   "outputs": [
    {
     "name": "stdout",
     "output_type": "stream",
     "text": [
      "tensor([[0.2843, 0.0251, 0.2887],\n",
      "        [0.2843, 0.0251, 0.2887],\n",
      "        [0.2843, 0.0251, 0.2887],\n",
      "        [0.2843, 0.0251, 0.2887],\n",
      "        [0.2843, 0.0251, 0.2887]])\n",
      "tensor([0.2843, 0.0251, 0.2887])\n"
     ]
    }
   ],
   "source": [
    "loss.backward() # 업데이트(학습 이후에 항상 해야함)\n",
    "print(w.grad)\n",
    "print(b.grad)"
   ]
  },
  {
   "cell_type": "code",
   "execution_count": null,
   "metadata": {
    "id": "eWen_7_Dkocq"
   },
   "outputs": [],
   "source": [
    "z = torch.matmul(x, w)+b # 학습 구현 (train)\n",
    "print(z.requires_grad)\n",
    "\n",
    "with torch.no_grad(): # 실험하는 데이터 구현 (test)\n",
    "    z = torch.matmul(x, w)+b\n",
    "print(z.requires_grad)"
   ]
  },
  {
   "cell_type": "code",
   "execution_count": null,
   "metadata": {
    "id": "OIJahRyukofp"
   },
   "outputs": [],
   "source": []
  },
  {
   "cell_type": "code",
   "execution_count": null,
   "metadata": {
    "id": "mHkUsEF8koiW"
   },
   "outputs": [],
   "source": []
  }
 ],
 "metadata": {
  "colab": {
   "authorship_tag": "ABX9TyMFvU7ZqcUaAXr5fS+ACmdS",
   "provenance": []
  },
  "kernelspec": {
   "display_name": "Python 3 (ipykernel)",
   "language": "python",
   "name": "python3"
  },
  "language_info": {
   "codemirror_mode": {
    "name": "ipython",
    "version": 3
   },
   "file_extension": ".py",
   "mimetype": "text/x-python",
   "name": "python",
   "nbconvert_exporter": "python",
   "pygments_lexer": "ipython3",
   "version": "3.9.12"
  }
 },
 "nbformat": 4,
 "nbformat_minor": 4
}
