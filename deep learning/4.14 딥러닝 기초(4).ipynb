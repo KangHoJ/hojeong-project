{
 "cells": [
  {
   "cell_type": "code",
   "execution_count": 1,
   "metadata": {
    "colab": {
     "base_uri": "https://localhost:8080/"
    },
    "executionInfo": {
     "elapsed": 57541,
     "status": "ok",
     "timestamp": 1681431426327,
     "user": {
      "displayName": "강호정",
      "userId": "03873201153560303630"
     },
     "user_tz": -540
    },
    "id": "zh3lGK_vHlEH",
    "outputId": "fbbcd353-1f50-4e55-ab84-ae8290e269d4"
   },
   "outputs": [
    {
     "name": "stdout",
     "output_type": "stream",
     "text": [
      "Mounted at /content/data\n"
     ]
    }
   ],
   "source": [
    "from google.colab import drive\n",
    "drive.mount('/content/data') # 드라이브 연결"
   ]
  },
  {
   "cell_type": "code",
   "execution_count": 2,
   "metadata": {
    "executionInfo": {
     "elapsed": 4716,
     "status": "ok",
     "timestamp": 1681431635154,
     "user": {
      "displayName": "강호정",
      "userId": "03873201153560303630"
     },
     "user_tz": -540
    },
    "id": "Aw0IIxMFH9eY"
   },
   "outputs": [],
   "source": [
    "%matplotlib inline\n",
    "import os\n",
    "import torch\n",
    "from torch import nn\n",
    "from torch.utils.data import DataLoader\n",
    "from torchvision import datasets, transforms"
   ]
  },
  {
   "cell_type": "code",
   "execution_count": 3,
   "metadata": {
    "colab": {
     "base_uri": "https://localhost:8080/"
    },
    "executionInfo": {
     "elapsed": 405,
     "status": "ok",
     "timestamp": 1681431641678,
     "user": {
      "displayName": "강호정",
      "userId": "03873201153560303630"
     },
     "user_tz": -540
    },
    "id": "rjTDY9O2ISWk",
    "outputId": "b1716427-f5fc-4e81-b80f-b4ad0323dbb4"
   },
   "outputs": [
    {
     "name": "stdout",
     "output_type": "stream",
     "text": [
      "Using cuda device\n"
     ]
    }
   ],
   "source": [
    "device = 'cuda' if torch.cuda.is_available() else 'cpu'\n",
    "print('Using {} device'.format(device))"
   ]
  },
  {
   "cell_type": "code",
   "execution_count": 13,
   "metadata": {
    "executionInfo": {
     "elapsed": 284,
     "status": "ok",
     "timestamp": 1681433572302,
     "user": {
      "displayName": "강호정",
      "userId": "03873201153560303630"
     },
     "user_tz": -540
    },
    "id": "cPY5XzyDQB-u"
   },
   "outputs": [],
   "source": [
    "class NeuralNetwork(nn.Module): # nn.module  상속받아서 자식 class 만듬(객체화)\n",
    "    def __init__(self):\n",
    "        super(NeuralNetwork, self).__init__() #super를 통해 부모 생성 \n",
    "        self.flatten = nn.Flatten() # 데이터를 1차원으로 만들어줌 \n",
    "        self.linear_relu_stack = nn.Sequential( # 순서형으로 실행\n",
    "            nn.Linear(28*28, 512), # input = 28,28 (정해진 이미지 사이즈-> 데이터shape) / 512개 output 입력 \n",
    "            nn.ReLU(), #active function\n",
    "            nn.Linear(512, 512),  # input = 512 / output = 512\n",
    "            nn.ReLU(),\n",
    "            nn.Linear(512, 10),  # input = 512 / output=10  -> 분류를 10가지로 하는 모델(target shape)\n",
    "            nn.ReLU()\n",
    "        ) # fulli conneceted layer 3개\n",
    "\n",
    "    def forward(self, x):  # x(28,28)를 통해 이미지 한장씩 들어옴(모델 학습=이미지를 보고 예측 반복)\n",
    "        out_flatten = self.flatten(x) # 데이터를 1차원으로 만들어줌 \n",
    "        logits = self.linear_relu_stack(out_flatten) # logits: (10,)\n",
    "        return logits"
   ]
  },
  {
   "cell_type": "code",
   "execution_count": 21,
   "metadata": {
    "colab": {
     "base_uri": "https://localhost:8080/"
    },
    "executionInfo": {
     "elapsed": 352,
     "status": "ok",
     "timestamp": 1681435630809,
     "user": {
      "displayName": "강호정",
      "userId": "03873201153560303630"
     },
     "user_tz": -540
    },
    "id": "jqv7VwgGISdT",
    "outputId": "b96b9606-5221-4a39-aea6-69b155c900b2"
   },
   "outputs": [
    {
     "name": "stdout",
     "output_type": "stream",
     "text": [
      "NeuralNetwork(\n",
      "  (flatten): Flatten(start_dim=1, end_dim=-1)\n",
      "  (linear_relu_stack): Sequential(\n",
      "    (0): Linear(in_features=784, out_features=512, bias=True)\n",
      "    (1): ReLU()\n",
      "    (2): Linear(in_features=512, out_features=512, bias=True)\n",
      "    (3): ReLU()\n",
      "    (4): Linear(in_features=512, out_features=10, bias=True)\n",
      "    (5): ReLU()\n",
      "  )\n",
      ")\n"
     ]
    }
   ],
   "source": [
    "model = NeuralNetwork().to(device) # NeuralNetwork을 cpu로\n",
    "print(model) "
   ]
  },
  {
   "cell_type": "code",
   "execution_count": 12,
   "metadata": {
    "colab": {
     "base_uri": "https://localhost:8080/"
    },
    "executionInfo": {
     "elapsed": 5937,
     "status": "ok",
     "timestamp": 1681433562009,
     "user": {
      "displayName": "강호정",
      "userId": "03873201153560303630"
     },
     "user_tz": -540
    },
    "id": "FMU0Q94BISna",
    "outputId": "d598006f-6d51-4541-9e4e-41131484519e"
   },
   "outputs": [
    {
     "data": {
      "text/plain": [
       "torch.Size([1, 28, 28])"
      ]
     },
     "execution_count": 12,
     "metadata": {},
     "output_type": "execute_result"
    }
   ],
   "source": [
    "X = torch.rand(1,28,28,device=device) # 모델에 넣을 input 만듬\n",
    "X.shape"
   ]
  },
  {
   "cell_type": "code",
   "execution_count": 15,
   "metadata": {
    "colab": {
     "base_uri": "https://localhost:8080/"
    },
    "executionInfo": {
     "elapsed": 3590,
     "status": "ok",
     "timestamp": 1681433639179,
     "user": {
      "displayName": "강호정",
      "userId": "03873201153560303630"
     },
     "user_tz": -540
    },
    "id": "oE5iFFTJQQ7R",
    "outputId": "ff99954a-1a95-4cfa-eb67-d665da0e1051"
   },
   "outputs": [
    {
     "data": {
      "text/plain": [
       "torch.Size([1, 10])"
      ]
     },
     "execution_count": 15,
     "metadata": {},
     "output_type": "execute_result"
    }
   ],
   "source": [
    "logits = model(X) \n",
    "logits.shape "
   ]
  },
  {
   "cell_type": "code",
   "execution_count": 16,
   "metadata": {
    "colab": {
     "base_uri": "https://localhost:8080/"
    },
    "executionInfo": {
     "elapsed": 307,
     "status": "ok",
     "timestamp": 1681433641073,
     "user": {
      "displayName": "강호정",
      "userId": "03873201153560303630"
     },
     "user_tz": -540
    },
    "id": "tU36IkUDQRLk",
    "outputId": "698dd020-ed60-46d7-edaf-c070f02e6808"
   },
   "outputs": [
    {
     "data": {
      "text/plain": [
       "tensor([[0.0000, 0.1689, 0.0000, 0.0000, 0.0399, 0.0638, 0.0000, 0.0000, 0.0479,\n",
       "         0.0000]], device='cuda:0', grad_fn=<ReluBackward0>)"
      ]
     },
     "execution_count": 16,
     "metadata": {},
     "output_type": "execute_result"
    }
   ],
   "source": [
    "logits"
   ]
  },
  {
   "cell_type": "code",
   "execution_count": 17,
   "metadata": {
    "colab": {
     "base_uri": "https://localhost:8080/"
    },
    "executionInfo": {
     "elapsed": 268,
     "status": "ok",
     "timestamp": 1681433962424,
     "user": {
      "displayName": "강호정",
      "userId": "03873201153560303630"
     },
     "user_tz": -540
    },
    "id": "5R-3Yn_cRHIX",
    "outputId": "355d531c-c746-4eb8-e75d-ff76498bbdfc"
   },
   "outputs": [
    {
     "data": {
      "text/plain": [
       "torch.Size([1, 10])"
      ]
     },
     "execution_count": 17,
     "metadata": {},
     "output_type": "execute_result"
    }
   ],
   "source": [
    "pred_probab = nn.Softmax(dim=1)(logits) # softmax 적용\n",
    "pred_probab.shape"
   ]
  },
  {
   "cell_type": "code",
   "execution_count": 18,
   "metadata": {
    "colab": {
     "base_uri": "https://localhost:8080/"
    },
    "executionInfo": {
     "elapsed": 272,
     "status": "ok",
     "timestamp": 1681434001728,
     "user": {
      "displayName": "강호정",
      "userId": "03873201153560303630"
     },
     "user_tz": -540
    },
    "id": "Q23pNj6LRHWG",
    "outputId": "db21332b-cc78-48ab-f4b6-c6462e7b72ac"
   },
   "outputs": [
    {
     "data": {
      "text/plain": [
       "tensor([[0.0967, 0.1145, 0.0967, 0.0967, 0.1007, 0.1031, 0.0967, 0.0967, 0.1015,\n",
       "         0.0967]], device='cuda:0', grad_fn=<SoftmaxBackward0>)"
      ]
     },
     "execution_count": 18,
     "metadata": {},
     "output_type": "execute_result"
    }
   ],
   "source": [
    "pred_probab"
   ]
  },
  {
   "cell_type": "code",
   "execution_count": 20,
   "metadata": {
    "colab": {
     "base_uri": "https://localhost:8080/"
    },
    "executionInfo": {
     "elapsed": 408,
     "status": "ok",
     "timestamp": 1681435464998,
     "user": {
      "displayName": "강호정",
      "userId": "03873201153560303630"
     },
     "user_tz": -540
    },
    "id": "VTgDqDHgRHY2",
    "outputId": "47f28f22-6ab1-4e78-b6de-516b124fb581"
   },
   "outputs": [
    {
     "name": "stdout",
     "output_type": "stream",
     "text": [
      "Predicted class: tensor([1], device='cuda:0')\n"
     ]
    }
   ],
   "source": [
    "y_pred = pred_probab.argmax(1)\n",
    "print(f\"Predicted class: {y_pred}\")"
   ]
  },
  {
   "cell_type": "markdown",
   "metadata": {
    "id": "kCuTTb6FYBfM"
   },
   "source": [
    "## Weight and Bias"
   ]
  },
  {
   "cell_type": "code",
   "execution_count": 22,
   "metadata": {
    "colab": {
     "base_uri": "https://localhost:8080/"
    },
    "executionInfo": {
     "elapsed": 278,
     "status": "ok",
     "timestamp": 1681435682958,
     "user": {
      "displayName": "강호정",
      "userId": "03873201153560303630"
     },
     "user_tz": -540
    },
    "id": "87zS8tGWRHbY",
    "outputId": "8e67b9fc-6815-475b-8e78-d370a78fb448"
   },
   "outputs": [
    {
     "name": "stdout",
     "output_type": "stream",
     "text": [
      "1 Linear weights: torch.Size([512, 784]) \n",
      "\n",
      "--------------------------------------------------\n",
      "1 Linear weights: torch.Size([512]) \n",
      "\n"
     ]
    }
   ],
   "source": [
    "print(f\"1 Linear weights: {model.linear_relu_stack[0].weight.shape} \\n\") # (output , input) = (512,28*28)\n",
    "print('-'*50)\n",
    "print(f\"1 Linear weights: {model.linear_relu_stack[0].bias.shape} \\n\") # (512) = output = 노드개수 "
   ]
  },
  {
   "cell_type": "code",
   "execution_count": 23,
   "metadata": {
    "colab": {
     "base_uri": "https://localhost:8080/"
    },
    "executionInfo": {
     "elapsed": 411,
     "status": "ok",
     "timestamp": 1681436105602,
     "user": {
      "displayName": "강호정",
      "userId": "03873201153560303630"
     },
     "user_tz": -540
    },
    "id": "5NHahz2qRHd1",
    "outputId": "7f9d05d4-2de6-4532-9c10-1db03424b9b4"
   },
   "outputs": [
    {
     "name": "stdout",
     "output_type": "stream",
     "text": [
      "2 Linear weights: torch.Size([512, 512]) \n",
      "\n",
      "--------------------------------------------------\n",
      "2 Linear weights: torch.Size([512]) \n",
      "\n"
     ]
    }
   ],
   "source": [
    "print(f\"2 Linear weights: {model.linear_relu_stack[2].weight.shape} \\n\") # (512, 512)\n",
    "print('-'*50)\n",
    "print(f\"2 Linear weights: {model.linear_relu_stack[2].bias.shape} \\n\") # (512, 512)"
   ]
  },
  {
   "cell_type": "code",
   "execution_count": 24,
   "metadata": {
    "colab": {
     "base_uri": "https://localhost:8080/"
    },
    "executionInfo": {
     "elapsed": 389,
     "status": "ok",
     "timestamp": 1681436163589,
     "user": {
      "displayName": "강호정",
      "userId": "03873201153560303630"
     },
     "user_tz": -540
    },
    "id": "rwQHqtTkRHgc",
    "outputId": "1ac3888c-760b-456c-f3f4-ce7541688e7b"
   },
   "outputs": [
    {
     "name": "stdout",
     "output_type": "stream",
     "text": [
      "3 Linear weights: torch.Size([10, 512]) \n",
      "\n",
      "--------------------------------------------------\n",
      "3 Linear weights: torch.Size([10]) \n",
      "\n"
     ]
    }
   ],
   "source": [
    "print(f\"3 Linear weights: {model.linear_relu_stack[4].weight.shape} \\n\") # (10, 512)\n",
    "print('-'*50)\n",
    "print(f\"3 Linear weights: {model.linear_relu_stack[4].bias.shape} \\n\") # (10)"
   ]
  },
  {
   "cell_type": "markdown",
   "metadata": {
    "id": "jTlO1qoHafTp"
   },
   "source": [
    "## Model layers(뜯어보기)"
   ]
  },
  {
   "cell_type": "code",
   "execution_count": 28,
   "metadata": {
    "colab": {
     "base_uri": "https://localhost:8080/"
    },
    "executionInfo": {
     "elapsed": 273,
     "status": "ok",
     "timestamp": 1681436517934,
     "user": {
      "displayName": "강호정",
      "userId": "03873201153560303630"
     },
     "user_tz": -540
    },
    "id": "e6gtcL6FaAo-",
    "outputId": "0bbaf385-d7c9-4179-8f97-73be2b486233"
   },
   "outputs": [
    {
     "name": "stdout",
     "output_type": "stream",
     "text": [
      "torch.Size([5, 28, 28])\n"
     ]
    }
   ],
   "source": [
    "input_image =torch.rand(5,28,28) #배치 사이즈 5(무시가능) , 28*28 사이즈 데이터 만듬\n",
    "print(input_image.size())"
   ]
  },
  {
   "cell_type": "code",
   "execution_count": 29,
   "metadata": {
    "colab": {
     "base_uri": "https://localhost:8080/"
    },
    "executionInfo": {
     "elapsed": 292,
     "status": "ok",
     "timestamp": 1681436521284,
     "user": {
      "displayName": "강호정",
      "userId": "03873201153560303630"
     },
     "user_tz": -540
    },
    "id": "qkQGdjfeaAy7",
    "outputId": "d31ab780-234b-44d4-a22e-c409185ca88a"
   },
   "outputs": [
    {
     "name": "stdout",
     "output_type": "stream",
     "text": [
      "torch.Size([5, 784])\n"
     ]
    }
   ],
   "source": [
    "flatten = nn.Flatten()\n",
    "\n",
    "flat_image = flatten(input_image)\n",
    "print(flat_image.size())"
   ]
  },
  {
   "cell_type": "code",
   "execution_count": 30,
   "metadata": {
    "colab": {
     "base_uri": "https://localhost:8080/"
    },
    "executionInfo": {
     "elapsed": 318,
     "status": "ok",
     "timestamp": 1681436677579,
     "user": {
      "displayName": "강호정",
      "userId": "03873201153560303630"
     },
     "user_tz": -540
    },
    "id": "WGI2q706aA2A",
    "outputId": "e61ec2e7-27e1-4f63-d8e1-603ff17a8c15"
   },
   "outputs": [
    {
     "name": "stdout",
     "output_type": "stream",
     "text": [
      "torch.Size([5, 20])\n"
     ]
    }
   ],
   "source": [
    "layer1 = nn.Linear(in_features=28*28,out_features=20) #linear 생성\n",
    "hidden1 = layer1(flat_image) # (5,28*28)\n",
    "print(hidden1.size())"
   ]
  },
  {
   "cell_type": "code",
   "execution_count": 31,
   "metadata": {
    "executionInfo": {
     "elapsed": 284,
     "status": "ok",
     "timestamp": 1681436902918,
     "user": {
      "displayName": "강호정",
      "userId": "03873201153560303630"
     },
     "user_tz": -540
    },
    "id": "z501XPu6aA5H"
   },
   "outputs": [],
   "source": [
    "hidden1 = nn.ReLU()(hidden1) # 음수를 다 0으로 처리 "
   ]
  },
  {
   "cell_type": "code",
   "execution_count": 32,
   "metadata": {
    "executionInfo": {
     "elapsed": 435,
     "status": "ok",
     "timestamp": 1681437969743,
     "user": {
      "displayName": "강호정",
      "userId": "03873201153560303630"
     },
     "user_tz": -540
    },
    "id": "EyiDsnAhbbBz"
   },
   "outputs": [],
   "source": [
    "seq_modules = nn.Sequential(\n",
    "    flatten,\n",
    "    layer1,\n",
    "    nn.ReLU(),\n",
    "    nn.Linear(20,10) #input = 20 , output = 10\n",
    ") # 순서대로 실행해서 생성 \n",
    "\n",
    "input_image = torch.rand(3,28,28)\n",
    "\n",
    "logits = seq_modules(input_image) #적용"
   ]
  },
  {
   "cell_type": "code",
   "execution_count": 34,
   "metadata": {
    "colab": {
     "base_uri": "https://localhost:8080/"
    },
    "executionInfo": {
     "elapsed": 307,
     "status": "ok",
     "timestamp": 1681438217665,
     "user": {
      "displayName": "강호정",
      "userId": "03873201153560303630"
     },
     "user_tz": -540
    },
    "id": "QSnUHGjjbbEJ",
    "outputId": "2e065140-90f0-4a4c-e7ef-da08e24a60ec"
   },
   "outputs": [
    {
     "data": {
      "text/plain": [
       "torch.Size([3, 10])"
      ]
     },
     "execution_count": 34,
     "metadata": {},
     "output_type": "execute_result"
    }
   ],
   "source": [
    "softmax = nn.Softmax(dim=1) # 확률로 표현을 해준다\n",
    "pred_probab = softmax(logits)\n",
    "pred_probab.shape "
   ]
  },
  {
   "cell_type": "markdown",
   "metadata": {
    "id": "cCOshw5mh62l"
   },
   "source": [
    "## Model parameters"
   ]
  },
  {
   "cell_type": "code",
   "execution_count": 35,
   "metadata": {
    "colab": {
     "base_uri": "https://localhost:8080/"
    },
    "executionInfo": {
     "elapsed": 274,
     "status": "ok",
     "timestamp": 1681438386396,
     "user": {
      "displayName": "강호정",
      "userId": "03873201153560303630"
     },
     "user_tz": -540
    },
    "id": "VFuGlsKCbbHF",
    "outputId": "d9ca3e4f-81cd-4402-ee1d-5bf57d6b60c3"
   },
   "outputs": [
    {
     "name": "stdout",
     "output_type": "stream",
     "text": [
      "Model structure:  NeuralNetwork(\n",
      "  (flatten): Flatten(start_dim=1, end_dim=-1)\n",
      "  (linear_relu_stack): Sequential(\n",
      "    (0): Linear(in_features=784, out_features=512, bias=True)\n",
      "    (1): ReLU()\n",
      "    (2): Linear(in_features=512, out_features=512, bias=True)\n",
      "    (3): ReLU()\n",
      "    (4): Linear(in_features=512, out_features=10, bias=True)\n",
      "    (5): ReLU()\n",
      "  )\n",
      ") \n",
      "\n",
      "\n",
      "0번째, Layer: linear_relu_stack.0.weight | Size: torch.Size([512, 784]) | Values : tensor([[-0.0018, -0.0321, -0.0297,  ..., -0.0042, -0.0084,  0.0012],\n",
      "        [ 0.0106, -0.0281, -0.0148,  ..., -0.0160, -0.0271, -0.0219]],\n",
      "       device='cuda:0', grad_fn=<SliceBackward0>) \n",
      "\n",
      "1번째, Layer: linear_relu_stack.0.bias | Size: torch.Size([512]) | Values : tensor([ 0.0086, -0.0232], device='cuda:0', grad_fn=<SliceBackward0>) \n",
      "\n",
      "2번째, Layer: linear_relu_stack.2.weight | Size: torch.Size([512, 512]) | Values : tensor([[-0.0197, -0.0389, -0.0362,  ...,  0.0174,  0.0160, -0.0335],\n",
      "        [-0.0271, -0.0005,  0.0057,  ..., -0.0343,  0.0080,  0.0428]],\n",
      "       device='cuda:0', grad_fn=<SliceBackward0>) \n",
      "\n",
      "3번째, Layer: linear_relu_stack.2.bias | Size: torch.Size([512]) | Values : tensor([ 0.0100, -0.0365], device='cuda:0', grad_fn=<SliceBackward0>) \n",
      "\n",
      "4번째, Layer: linear_relu_stack.4.weight | Size: torch.Size([10, 512]) | Values : tensor([[ 0.0136,  0.0225,  0.0382,  ..., -0.0106,  0.0073, -0.0006],\n",
      "        [-0.0404, -0.0314, -0.0232,  ..., -0.0159,  0.0421,  0.0363]],\n",
      "       device='cuda:0', grad_fn=<SliceBackward0>) \n",
      "\n",
      "5번째, Layer: linear_relu_stack.4.bias | Size: torch.Size([10]) | Values : tensor([0.0165, 0.0391], device='cuda:0', grad_fn=<SliceBackward0>) \n",
      "\n"
     ]
    }
   ],
   "source": [
    "print(\"Model structure: \", model, \"\\n\\n\")\n",
    "\n",
    "for i, (name, param) in enumerate(model.named_parameters()):\n",
    "    print(f\"{i}번째, Layer: {name} | Size: {param.size()} | Values : {param[:2]} \\n\")"
   ]
  },
  {
   "cell_type": "code",
   "execution_count": null,
   "metadata": {
    "id": "uQIE3JHSbbJb"
   },
   "outputs": [],
   "source": []
  },
  {
   "cell_type": "code",
   "execution_count": null,
   "metadata": {
    "id": "zt5bQsOWaA8F"
   },
   "outputs": [],
   "source": []
  },
  {
   "cell_type": "code",
   "execution_count": null,
   "metadata": {
    "id": "Rv4BRm_uaA-9"
   },
   "outputs": [],
   "source": []
  }
 ],
 "metadata": {
  "accelerator": "GPU",
  "colab": {
   "authorship_tag": "ABX9TyNxKoSkGg4m7s+x8MZeOE8q",
   "provenance": []
  },
  "gpuClass": "standard",
  "kernelspec": {
   "display_name": "Python 3 (ipykernel)",
   "language": "python",
   "name": "python3"
  },
  "language_info": {
   "codemirror_mode": {
    "name": "ipython",
    "version": 3
   },
   "file_extension": ".py",
   "mimetype": "text/x-python",
   "name": "python",
   "nbconvert_exporter": "python",
   "pygments_lexer": "ipython3",
   "version": "3.9.12"
  }
 },
 "nbformat": 4,
 "nbformat_minor": 4
}
