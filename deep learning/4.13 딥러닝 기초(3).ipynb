{
 "cells": [
  {
   "cell_type": "code",
   "execution_count": 1,
   "metadata": {
    "executionInfo": {
     "elapsed": 4994,
     "status": "ok",
     "timestamp": 1681354571863,
     "user": {
      "displayName": "강호정",
      "userId": "03873201153560303630"
     },
     "user_tz": -540
    },
    "id": "8Y2zYCGRideR"
   },
   "outputs": [],
   "source": [
    "import torch\n",
    "import numpy as np"
   ]
  },
  {
   "cell_type": "code",
   "execution_count": 2,
   "metadata": {
    "colab": {
     "base_uri": "https://localhost:8080/"
    },
    "executionInfo": {
     "elapsed": 37144,
     "status": "ok",
     "timestamp": 1681354620442,
     "user": {
      "displayName": "강호정",
      "userId": "03873201153560303630"
     },
     "user_tz": -540
    },
    "id": "0u4A77lTim7h",
    "outputId": "97ed0bc1-ebe7-4f96-8fef-6fdc75503748"
   },
   "outputs": [
    {
     "name": "stdout",
     "output_type": "stream",
     "text": [
      "Mounted at /content/data\n"
     ]
    }
   ],
   "source": [
    "from google.colab import drive\n",
    "drive.mount('/content/data') # 드라이브 연결"
   ]
  },
  {
   "attachments": {},
   "cell_type": "markdown",
   "metadata": {
    "id": "5Fd81dGei6KG"
   },
   "source": [
    "## Loading and normalizing datasets"
   ]
  },
  {
   "attachments": {},
   "cell_type": "markdown",
   "metadata": {
    "id": "oTP7iGp9jTAx"
   },
   "source": [
    "- torch.utils.data.Dataset # 전체 데이터 정의 \n",
    "- torch.utils.data.DataLoder # 전체 데이터중 배치 사이즈 만큼 가져옴"
   ]
  },
  {
   "attachments": {},
   "cell_type": "markdown",
   "metadata": {
    "id": "o1f28U8spXJM"
   },
   "source": [
    "## datasets"
   ]
  },
  {
   "cell_type": "code",
   "execution_count": 4,
   "metadata": {
    "executionInfo": {
     "elapsed": 4,
     "status": "ok",
     "timestamp": 1681355020767,
     "user": {
      "displayName": "강호정",
      "userId": "03873201153560303630"
     },
     "user_tz": -540
    },
    "id": "Jmmp5X0hi4RR"
   },
   "outputs": [],
   "source": [
    "%matplotlib inline\n",
    "import torch\n",
    "from torch.utils.data import Dataset\n",
    "from torchvision import datasets\n",
    "from torchvision.transforms import ToTensor, Lambda\n",
    "import matplotlib.pyplot as plt\n",
    "\n"
   ]
  },
  {
   "cell_type": "code",
   "execution_count": 6,
   "metadata": {
    "executionInfo": {
     "elapsed": 297,
     "status": "ok",
     "timestamp": 1681355073225,
     "user": {
      "displayName": "강호정",
      "userId": "03873201153560303630"
     },
     "user_tz": -540
    },
    "id": "S1Z51Ibui4Un"
   },
   "outputs": [],
   "source": [
    "training_data = datasets.FashionMNIST(\n",
    "    root=\"desktop\", # path where the data is stored\n",
    "    train=True, # specifies training or test dataset\n",
    "    download=True, # 있어도 다시 다운\n",
    "    # transform=ToTensor() # specify the feature and label transformations\n",
    ")\n",
    "\n",
    "test_data = datasets.FashionMNIST(\n",
    "    root=\"desktop\",\n",
    "    train=False,\n",
    "    download=True,\n",
    "    transform=ToTensor()\n",
    ")"
   ]
  },
  {
   "cell_type": "code",
   "execution_count": 8,
   "metadata": {
    "colab": {
     "base_uri": "https://localhost:8080/"
    },
    "executionInfo": {
     "elapsed": 3,
     "status": "ok",
     "timestamp": 1681355231420,
     "user": {
      "displayName": "강호정",
      "userId": "03873201153560303630"
     },
     "user_tz": -540
    },
    "id": "cV8d2MdJi4YQ",
    "outputId": "5bacdc76-471a-4491-c1d8-0f361971e7bd"
   },
   "outputs": [
    {
     "data": {
      "text/plain": [
       "(torchvision.datasets.mnist.FashionMNIST,\n",
       " torchvision.datasets.mnist.FashionMNIST)"
      ]
     },
     "execution_count": 8,
     "metadata": {},
     "output_type": "execute_result"
    }
   ],
   "source": [
    "type(training_data) , type(test_data)"
   ]
  },
  {
   "cell_type": "code",
   "execution_count": 9,
   "metadata": {
    "colab": {
     "base_uri": "https://localhost:8080/"
    },
    "executionInfo": {
     "elapsed": 272,
     "status": "ok",
     "timestamp": 1681355262263,
     "user": {
      "displayName": "강호정",
      "userId": "03873201153560303630"
     },
     "user_tz": -540
    },
    "id": "NqZkAmAri4bt",
    "outputId": "d0b51738-9eba-463b-8d3f-65872fd45ffa"
   },
   "outputs": [
    {
     "data": {
      "text/plain": [
       "(60000, 10000)"
      ]
     },
     "execution_count": 9,
     "metadata": {},
     "output_type": "execute_result"
    }
   ],
   "source": [
    "len(training_data) , len(test_data)"
   ]
  },
  {
   "cell_type": "code",
   "execution_count": 17,
   "metadata": {
    "colab": {
     "base_uri": "https://localhost:8080/"
    },
    "executionInfo": {
     "elapsed": 370,
     "status": "ok",
     "timestamp": 1681355985878,
     "user": {
      "displayName": "강호정",
      "userId": "03873201153560303630"
     },
     "user_tz": -540
    },
    "id": "6l3S6ttvm2-k",
    "outputId": "623af1ee-46fa-476c-9ae6-d1c5ebd634a6"
   },
   "outputs": [
    {
     "data": {
      "text/plain": [
       "(<PIL.Image.Image image mode=L size=28x28 at 0x7FA3F2315DC0>, 3)"
      ]
     },
     "execution_count": 17,
     "metadata": {},
     "output_type": "execute_result"
    }
   ],
   "source": [
    "training_data[6375]"
   ]
  },
  {
   "cell_type": "code",
   "execution_count": null,
   "metadata": {
    "id": "9NghdET0lqlf"
   },
   "outputs": [],
   "source": [
    "import numpy as np \n",
    "\n",
    "np.array(training_data[6375][0]) # 3675는 타겟정보 , 0인덱스는 피처정보"
   ]
  },
  {
   "cell_type": "code",
   "execution_count": 18,
   "metadata": {
    "colab": {
     "base_uri": "https://localhost:8080/"
    },
    "executionInfo": {
     "elapsed": 9,
     "status": "ok",
     "timestamp": 1681356022047,
     "user": {
      "displayName": "강호정",
      "userId": "03873201153560303630"
     },
     "user_tz": -540
    },
    "id": "tTBz1rHklqoY",
    "outputId": "61cf491c-c66a-4627-cd03-e0c6e4742a0e"
   },
   "outputs": [
    {
     "data": {
      "text/plain": [
       "(28, 28)"
      ]
     },
     "execution_count": 18,
     "metadata": {},
     "output_type": "execute_result"
    }
   ],
   "source": [
    "np.array(training_data[6375][0]).shape"
   ]
  },
  {
   "cell_type": "code",
   "execution_count": 20,
   "metadata": {
    "colab": {
     "base_uri": "https://localhost:8080/",
     "height": 45
    },
    "executionInfo": {
     "elapsed": 6,
     "status": "ok",
     "timestamp": 1681356048504,
     "user": {
      "displayName": "강호정",
      "userId": "03873201153560303630"
     },
     "user_tz": -540
    },
    "id": "KLRlSacYlqrO",
    "outputId": "15e6a466-8420-46b0-9e31-e9f107398756"
   },
   "outputs": [
    {
     "data": {
      "image/png": "[encoded data removed]",
      "text/plain": [
       "<PIL.Image.Image image mode=L size=28x28 at 0x7FA3E1DF51F0>"
      ]
     },
     "execution_count": 20,
     "metadata": {},
     "output_type": "execute_result"
    }
   ],
   "source": [
    "training_data[6375][0]"
   ]
  },
  {
   "cell_type": "code",
   "execution_count": 22,
   "metadata": {
    "colab": {
     "base_uri": "https://localhost:8080/"
    },
    "executionInfo": {
     "elapsed": 4,
     "status": "ok",
     "timestamp": 1681356075383,
     "user": {
      "displayName": "강호정",
      "userId": "03873201153560303630"
     },
     "user_tz": -540
    },
    "id": "PXDUmFS9lqt1",
    "outputId": "3a6f25ee-1559-400f-ea35-409de8db7060"
   },
   "outputs": [
    {
     "data": {
      "text/plain": [
       "3"
      ]
     },
     "execution_count": 22,
     "metadata": {},
     "output_type": "execute_result"
    }
   ],
   "source": [
    "training_data[6375][1]"
   ]
  },
  {
   "cell_type": "code",
   "execution_count": null,
   "metadata": {
    "id": "kX7fm6y-om8M"
   },
   "outputs": [],
   "source": [
    "labels_map = {\n",
    "    0: \"T-Shirt\",\n",
    "    1: \"Trouser\",\n",
    "    2: \"Pullover\",\n",
    "    3: \"Dress\",\n",
    "    4: \"Coat\",\n",
    "    5: \"Sandal\",\n",
    "    6: \"Shirt\",\n",
    "    7: \"Sneaker\",\n",
    "    8: \"Bag\",\n",
    "    9: \"Ankle Boot\",\n",
    "}\n",
    "figure = plt.figure(figsize=(8, 8))\n",
    "cols, rows = 3, 3\n",
    "\n",
    "for i in range(1, cols * rows + 1):\n",
    "    sample_idx = torch.randint(len(training_data), size=(1,)).item()\n",
    "    img, label = training_data[sample_idx]\n",
    "    figure.add_subplot(rows, cols, i)\n",
    "    plt.title(labels_map[label])\n",
    "    plt.axis(\"off\")\n",
    "    plt.imshow(img, cmap=\"gray\")\n",
    "plt.show()"
   ]
  },
  {
   "attachments": {},
   "cell_type": "markdown",
   "metadata": {
    "id": "dL7jBn9WpdCI"
   },
   "source": [
    "## data loader"
   ]
  },
  {
   "cell_type": "code",
   "execution_count": 49,
   "metadata": {
    "executionInfo": {
     "elapsed": 289,
     "status": "ok",
     "timestamp": 1681357600915,
     "user": {
      "displayName": "강호정",
      "userId": "03873201153560303630"
     },
     "user_tz": -540
    },
    "id": "qAL5rLuEom_e"
   },
   "outputs": [],
   "source": [
    "from torch.utils.data import DataLoader\n",
    "\n",
    "test_dataloader = DataLoader(test_data, batch_size=64, shuffle=True) # 실행될때마다 64개 리턴"
   ]
  },
  {
   "cell_type": "code",
   "execution_count": 50,
   "metadata": {
    "colab": {
     "base_uri": "https://localhost:8080/"
    },
    "executionInfo": {
     "elapsed": 3,
     "status": "ok",
     "timestamp": 1681357603199,
     "user": {
      "displayName": "강호정",
      "userId": "03873201153560303630"
     },
     "user_tz": -540
    },
    "id": "79ltSctlonF-",
    "outputId": "fbfb3f65-c6b8-4147-bcd4-c4e4ab9be87c"
   },
   "outputs": [
    {
     "name": "stdout",
     "output_type": "stream",
     "text": [
      "Feature batch shape: torch.Size([64, 1, 28, 28])\n",
      "Labels batch shape: torch.Size([64])\n"
     ]
    }
   ],
   "source": [
    "# Display image and label.\n",
    "test_features, test_labels = next(iter(test_dataloader)) # next , iter 로 가져옴\n",
    "print(f\"Feature batch shape: {test_features.size()}\") # (1,28,28) 64개  # (1,28,28) -> 흑백, (3,28,28) -> 컬러 \n",
    "print(f\"Labels batch shape: {test_labels.size()}\")\n"
   ]
  },
  {
   "cell_type": "code",
   "execution_count": 51,
   "metadata": {
    "colab": {
     "base_uri": "https://localhost:8080/"
    },
    "executionInfo": {
     "elapsed": 382,
     "status": "ok",
     "timestamp": 1681357606263,
     "user": {
      "displayName": "강호정",
      "userId": "03873201153560303630"
     },
     "user_tz": -540
    },
    "id": "5qjWZA7gp79y",
    "outputId": "19792e69-0fcc-495e-ffe3-1099f377e717"
   },
   "outputs": [
    {
     "data": {
      "text/plain": [
       "torch.Size([1, 28, 28])"
      ]
     },
     "execution_count": 51,
     "metadata": {},
     "output_type": "execute_result"
    }
   ],
   "source": [
    "imp = test_features[0].shape # 맨 앞에 차원이 사라짐 가장 밖에있는 [] 벗겨짐 \n",
    "imp"
   ]
  },
  {
   "cell_type": "code",
   "execution_count": 52,
   "metadata": {
    "colab": {
     "base_uri": "https://localhost:8080/",
     "height": 448
    },
    "executionInfo": {
     "elapsed": 523,
     "status": "ok",
     "timestamp": 1681357608581,
     "user": {
      "displayName": "강호정",
      "userId": "03873201153560303630"
     },
     "user_tz": -540
    },
    "id": "yer7JQcpp3Qc",
    "outputId": "86fe8189-9e68-4687-993f-192cf6d05719"
   },
   "outputs": [
    {
     "data": {
      "image/png": "[encoded data removed]",
      "text/plain": [
       "<Figure size 640x480 with 1 Axes>"
      ]
     },
     "metadata": {},
     "output_type": "display_data"
    },
    {
     "name": "stdout",
     "output_type": "stream",
     "text": [
      "Label: 0\n"
     ]
    }
   ],
   "source": [
    "img = test_features[0].squeeze() # [1,28,28] -> [28,28]\n",
    "label = test_labels[0]\n",
    "plt.imshow(img, cmap=\"gray\")\n",
    "plt.show()\n",
    "print(f\"Label: {label}\")"
   ]
  },
  {
   "cell_type": "code",
   "execution_count": 45,
   "metadata": {
    "colab": {
     "base_uri": "https://localhost:8080/"
    },
    "executionInfo": {
     "elapsed": 5,
     "status": "ok",
     "timestamp": 1681357525912,
     "user": {
      "displayName": "강호정",
      "userId": "03873201153560303630"
     },
     "user_tz": -540
    },
    "id": "zYW4TyYgp3Wi",
    "outputId": "abc5c4a9-9c0e-4dd2-edd6-e69e037c1581"
   },
   "outputs": [
    {
     "data": {
      "text/plain": [
       "torch.Size([1, 28, 28])"
      ]
     },
     "execution_count": 45,
     "metadata": {},
     "output_type": "execute_result"
    }
   ],
   "source": [
    "img = test_features[0]\n",
    "img.shape"
   ]
  },
  {
   "attachments": {},
   "cell_type": "markdown",
   "metadata": {
    "id": "rcaCLlc3uqt1"
   },
   "source": [
    "## 정규화(비정규)"
   ]
  },
  {
   "cell_type": "code",
   "execution_count": 54,
   "metadata": {
    "executionInfo": {
     "elapsed": 7,
     "status": "ok",
     "timestamp": 1681357752049,
     "user": {
      "displayName": "강호정",
      "userId": "03873201153560303630"
     },
     "user_tz": -540
    },
    "id": "jvRLLCntp3b9"
   },
   "outputs": [],
   "source": [
    "from torchvision import datasets\n",
    "from torchvision.transforms import ToTensor, Lambda\n",
    "\n",
    "ds1 = datasets.FashionMNIST(\n",
    "    root=\"desktop\",\n",
    "    train=True,\n",
    "    download=True\n",
    ")"
   ]
  },
  {
   "cell_type": "code",
   "execution_count": 55,
   "metadata": {
    "executionInfo": {
     "elapsed": 409,
     "status": "ok",
     "timestamp": 1681357775612,
     "user": {
      "displayName": "강호정",
      "userId": "03873201153560303630"
     },
     "user_tz": -540
    },
    "id": "roAUwf5Xu0p8"
   },
   "outputs": [],
   "source": [
    "ds_features, ds_label = ds1[1]"
   ]
  },
  {
   "cell_type": "code",
   "execution_count": null,
   "metadata": {
    "id": "a5W6re9Bu1FD"
   },
   "outputs": [],
   "source": [
    "np.array(ds_features)"
   ]
  },
  {
   "cell_type": "code",
   "execution_count": 58,
   "metadata": {
    "colab": {
     "base_uri": "https://localhost:8080/"
    },
    "executionInfo": {
     "elapsed": 5,
     "status": "ok",
     "timestamp": 1681357804320,
     "user": {
      "displayName": "강호정",
      "userId": "03873201153560303630"
     },
     "user_tz": -540
    },
    "id": "6CUUzAFau1Hr",
    "outputId": "fe60b34f-bd94-4e70-fdf9-ea1de4b153d9"
   },
   "outputs": [
    {
     "data": {
      "text/plain": [
       "0"
      ]
     },
     "execution_count": 58,
     "metadata": {},
     "output_type": "execute_result"
    }
   ],
   "source": [
    "ds_label"
   ]
  },
  {
   "attachments": {},
   "cell_type": "markdown",
   "metadata": {
    "id": "qlFsCGffvEkc"
   },
   "source": [
    "## 정규화(정규화)"
   ]
  },
  {
   "cell_type": "code",
   "execution_count": 59,
   "metadata": {
    "executionInfo": {
     "elapsed": 2,
     "status": "ok",
     "timestamp": 1681357870503,
     "user": {
      "displayName": "강호정",
      "userId": "03873201153560303630"
     },
     "user_tz": -540
    },
    "id": "eSb7FB86vILo"
   },
   "outputs": [],
   "source": [
    "from torchvision import datasets\n",
    "from torchvision.transforms import ToTensor, Lambda\n",
    "\n",
    "ds2 = datasets.FashionMNIST(\n",
    "    root=\"desktop\",\n",
    "    train=True,\n",
    "    download=True,\n",
    "    transform=ToTensor(), # Features 정규화 (0과 1로 스케일링 된다)\n",
    "    target_transform=Lambda(lambda y: torch.zeros(10, dtype=torch.float).scatter_(0, torch.tensor(y), value=1)) # target 정규화 (onehotencoding방식)\n",
    ")"
   ]
  },
  {
   "cell_type": "code",
   "execution_count": 60,
   "metadata": {
    "executionInfo": {
     "elapsed": 352,
     "status": "ok",
     "timestamp": 1681357875358,
     "user": {
      "displayName": "강호정",
      "userId": "03873201153560303630"
     },
     "user_tz": -540
    },
    "id": "56xXC_16vRgB"
   },
   "outputs": [],
   "source": [
    "ds_feautres, ds_label = ds2[1]"
   ]
  },
  {
   "cell_type": "code",
   "execution_count": null,
   "metadata": {
    "id": "5fpPxa_PvRie"
   },
   "outputs": [],
   "source": [
    "ds_feautres"
   ]
  },
  {
   "cell_type": "code",
   "execution_count": 62,
   "metadata": {
    "colab": {
     "base_uri": "https://localhost:8080/"
    },
    "executionInfo": {
     "elapsed": 3,
     "status": "ok",
     "timestamp": 1681358075020,
     "user": {
      "displayName": "강호정",
      "userId": "03873201153560303630"
     },
     "user_tz": -540
    },
    "id": "iH45q0AfvRlD",
    "outputId": "23e73e8f-5c10-4f85-a420-da761b017de8"
   },
   "outputs": [
    {
     "data": {
      "text/plain": [
       "tensor([1., 0., 0., 0., 0., 0., 0., 0., 0., 0.])"
      ]
     },
     "execution_count": 62,
     "metadata": {},
     "output_type": "execute_result"
    }
   ],
   "source": [
    "ds_label"
   ]
  },
  {
   "cell_type": "code",
   "execution_count": null,
   "metadata": {
    "id": "zEslQpNcvRnk"
   },
   "outputs": [],
   "source": []
  },
  {
   "cell_type": "code",
   "execution_count": null,
   "metadata": {
    "id": "-wTv4NLXvRqP"
   },
   "outputs": [],
   "source": []
  }
 ],
 "metadata": {
  "colab": {
   "authorship_tag": "ABX9TyPJ6tzG0GdU0YjqjuD+djsK",
   "provenance": []
  },
  "kernelspec": {
   "display_name": "Python 3 (ipykernel)",
   "language": "python",
   "name": "python3"
  },
  "language_info": {
   "codemirror_mode": {
    "name": "ipython",
    "version": 3
   },
   "file_extension": ".py",
   "mimetype": "text/x-python",
   "name": "python",
   "nbconvert_exporter": "python",
   "pygments_lexer": "ipython3",
   "version": "3.9.12"
  }
 },
 "nbformat": 4,
 "nbformat_minor": 4
}
