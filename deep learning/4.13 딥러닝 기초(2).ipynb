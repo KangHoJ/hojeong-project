{
 "cells": [
  {
   "cell_type": "code",
   "execution_count": 2,
   "metadata": {
    "executionInfo": {
     "elapsed": 4890,
     "status": "ok",
     "timestamp": 1681367901336,
     "user": {
      "displayName": "강호정",
      "userId": "03873201153560303630"
     },
     "user_tz": -540
    },
    "id": "HsyOL0rg-O4Q"
   },
   "outputs": [],
   "source": [
    "import torch\n",
    "import numpy as np"
   ]
  },
  {
   "cell_type": "code",
   "execution_count": 2,
   "metadata": {
    "colab": {
     "base_uri": "https://localhost:8080/"
    },
    "executionInfo": {
     "elapsed": 17933,
     "status": "ok",
     "timestamp": 1681345083689,
     "user": {
      "displayName": "강호정",
      "userId": "03873201153560303630"
     },
     "user_tz": -540
    },
    "id": "P39ITrLv-Pyb",
    "outputId": "d0525c49-bbd9-4910-a2ec-317c21142f7b"
   },
   "outputs": [
    {
     "name": "stdout",
     "output_type": "stream",
     "text": [
      "Mounted at /content/data\n"
     ]
    }
   ],
   "source": [
    "from google.colab import drive\n",
    "drive.mount('/content/data') # 드라이브 연결"
   ]
  },
  {
   "cell_type": "markdown",
   "metadata": {
    "id": "pQi2cgMgANUe"
   },
   "source": [
    "## Indexing and slicing"
   ]
  },
  {
   "cell_type": "code",
   "execution_count": 3,
   "metadata": {
    "colab": {
     "base_uri": "https://localhost:8080/"
    },
    "executionInfo": {
     "elapsed": 297,
     "status": "ok",
     "timestamp": 1681345682451,
     "user": {
      "displayName": "강호정",
      "userId": "03873201153560303630"
     },
     "user_tz": -540
    },
    "id": "HsyXFN5jALvX",
    "outputId": "9ea5748d-9a13-4d6b-e63d-0b63c191878c"
   },
   "outputs": [
    {
     "name": "stdout",
     "output_type": "stream",
     "text": [
      "tensor([[1., 2., 3.],\n",
      "        [4., 5., 6.],\n",
      "        [7., 8., 9.]])\n",
      "--------------------------------------------------\n",
      "First row:  tensor([1., 2., 3.])\n",
      "Last row:  tensor([7., 8., 9.])\n",
      "First column:  tensor([1., 4., 7.])\n",
      "Last column1: tensor([3., 6., 9.])\n",
      "Last column2: tensor([3., 6., 9.])\n",
      "--------------------------------------------------\n",
      "tensor([[1., 0., 3.],\n",
      "        [0., 0., 0.],\n",
      "        [7., 0., 9.]])\n"
     ]
    }
   ],
   "source": [
    "data = [\n",
    "    [1, 2, 3], [4, 5, 6], [7, 8, 9]\n",
    "]\n",
    "tensor = torch.tensor(data, dtype=torch.float)\n",
    "\n",
    "print(tensor)\n",
    "print('-'*50)\n",
    "\n",
    "print('First row: ',tensor[0])\n",
    "print('Last row: ',tensor[-1])\n",
    "print('First column: ', tensor[:, 0])\n",
    "print('Last column1:', tensor[:, -1])\n",
    "print('Last column2:', tensor[..., -1])\n",
    "\n",
    "print('-'*50)\n",
    "tensor[:,1] = 0\n",
    "tensor[1] = 0\n",
    "print(tensor)"
   ]
  },
  {
   "cell_type": "markdown",
   "metadata": {
    "id": "l8H__HUGB3IU"
   },
   "source": [
    "## 합치기"
   ]
  },
  {
   "cell_type": "code",
   "execution_count": 4,
   "metadata": {
    "colab": {
     "base_uri": "https://localhost:8080/"
    },
    "executionInfo": {
     "elapsed": 4,
     "status": "ok",
     "timestamp": 1681345718837,
     "user": {
      "displayName": "강호정",
      "userId": "03873201153560303630"
     },
     "user_tz": -540
    },
    "id": "LsVltmvJAL9R",
    "outputId": "087a508b-bb5e-4867-8a18-1ec69ac86a0b"
   },
   "outputs": [
    {
     "data": {
      "text/plain": [
       "tensor([[1., 0., 3.],\n",
       "        [0., 0., 0.],\n",
       "        [7., 0., 9.],\n",
       "        [1., 0., 3.],\n",
       "        [0., 0., 0.],\n",
       "        [7., 0., 9.]])"
      ]
     },
     "execution_count": 4,
     "metadata": {},
     "output_type": "execute_result"
    }
   ],
   "source": [
    "t0 = torch.cat([tensor,tensor],dim=0) # 아래(세로) 방향으로 합쳐짐 \n",
    "t0"
   ]
  },
  {
   "cell_type": "code",
   "execution_count": 6,
   "metadata": {
    "colab": {
     "base_uri": "https://localhost:8080/"
    },
    "executionInfo": {
     "elapsed": 4,
     "status": "ok",
     "timestamp": 1681345773646,
     "user": {
      "displayName": "강호정",
      "userId": "03873201153560303630"
     },
     "user_tz": -540
    },
    "id": "hYdWr8kTAMAJ",
    "outputId": "b96e3377-d722-4a7c-df4f-b3bff5c60291"
   },
   "outputs": [
    {
     "data": {
      "text/plain": [
       "tensor([[1., 0., 3., 1., 0., 3.],\n",
       "        [0., 0., 0., 0., 0., 0.],\n",
       "        [7., 0., 9., 7., 0., 9.]])"
      ]
     },
     "execution_count": 6,
     "metadata": {},
     "output_type": "execute_result"
    }
   ],
   "source": [
    "t1 = torch.cat([tensor , tensor],dim=1) # 옆(가로)방향으로 합쳐짐 \n",
    "t1"
   ]
  },
  {
   "cell_type": "markdown",
   "metadata": {
    "id": "_dz7tNXSB47z"
   },
   "source": [
    "## 연산"
   ]
  },
  {
   "cell_type": "markdown",
   "metadata": {
    "id": "lyAGoeLiEl3U"
   },
   "source": [
    "### mm"
   ]
  },
  {
   "cell_type": "code",
   "execution_count": 7,
   "metadata": {
    "executionInfo": {
     "elapsed": 344,
     "status": "ok",
     "timestamp": 1681345947227,
     "user": {
      "displayName": "강호정",
      "userId": "03873201153560303630"
     },
     "user_tz": -540
    },
    "id": "_UiMovVQAMDC"
   },
   "outputs": [],
   "source": [
    "mat1 = torch.randn(2,3)\n",
    "mat2 = torch.randn(3,3)"
   ]
  },
  {
   "cell_type": "code",
   "execution_count": 8,
   "metadata": {
    "colab": {
     "base_uri": "https://localhost:8080/"
    },
    "executionInfo": {
     "elapsed": 3,
     "status": "ok",
     "timestamp": 1681345954262,
     "user": {
      "displayName": "강호정",
      "userId": "03873201153560303630"
     },
     "user_tz": -540
    },
    "id": "jiDuos4qAMF3",
    "outputId": "853774d7-4664-45aa-e29b-9f19829c337f"
   },
   "outputs": [
    {
     "data": {
      "text/plain": [
       "tensor([[ 0.6948,  1.6920,  1.6678],\n",
       "        [-2.0412,  0.7632, -0.8185]])"
      ]
     },
     "execution_count": 8,
     "metadata": {},
     "output_type": "execute_result"
    }
   ],
   "source": [
    "torch.mm(mat1,mat2)"
   ]
  },
  {
   "cell_type": "code",
   "execution_count": 9,
   "metadata": {
    "colab": {
     "base_uri": "https://localhost:8080/"
    },
    "executionInfo": {
     "elapsed": 5,
     "status": "ok",
     "timestamp": 1681346070637,
     "user": {
      "displayName": "강호정",
      "userId": "03873201153560303630"
     },
     "user_tz": -540
    },
    "id": "s5Y4ggZ7AMIw",
    "outputId": "112c4f0d-33e5-48f4-8a2e-179cbc95e318"
   },
   "outputs": [
    {
     "data": {
      "text/plain": [
       "tensor([-0.3313,  0.9081,  1.2482])"
      ]
     },
     "execution_count": 9,
     "metadata": {},
     "output_type": "execute_result"
    }
   ],
   "source": [
    "a = torch.randn(3)\n",
    "a"
   ]
  },
  {
   "cell_type": "code",
   "execution_count": 10,
   "metadata": {
    "colab": {
     "base_uri": "https://localhost:8080/"
    },
    "executionInfo": {
     "elapsed": 3,
     "status": "ok",
     "timestamp": 1681346084810,
     "user": {
      "displayName": "강호정",
      "userId": "03873201153560303630"
     },
     "user_tz": -540
    },
    "id": "dhE9ffaRCRMK",
    "outputId": "2a631700-aaea-45ba-febc-fc40c615f7e1"
   },
   "outputs": [
    {
     "data": {
      "text/plain": [
       "tensor([-33.1255,  90.8139, 124.8184])"
      ]
     },
     "execution_count": 10,
     "metadata": {},
     "output_type": "execute_result"
    }
   ],
   "source": [
    "torch.mul(a,100) # 곱하기 100"
   ]
  },
  {
   "cell_type": "code",
   "execution_count": 11,
   "metadata": {
    "colab": {
     "base_uri": "https://localhost:8080/"
    },
    "executionInfo": {
     "elapsed": 4,
     "status": "ok",
     "timestamp": 1681346102544,
     "user": {
      "displayName": "강호정",
      "userId": "03873201153560303630"
     },
     "user_tz": -540
    },
    "id": "NxQsPYD0CRlb",
    "outputId": "4b1ec931-e344-4241-82f9-deaab9c49496"
   },
   "outputs": [
    {
     "data": {
      "text/plain": [
       "tensor([[1.5340],\n",
       "        [1.1764],\n",
       "        [0.0396],\n",
       "        [0.0671]])"
      ]
     },
     "execution_count": 11,
     "metadata": {},
     "output_type": "execute_result"
    }
   ],
   "source": [
    "b= torch.randn(4,1)\n",
    "b"
   ]
  },
  {
   "cell_type": "code",
   "execution_count": 12,
   "metadata": {
    "colab": {
     "base_uri": "https://localhost:8080/"
    },
    "executionInfo": {
     "elapsed": 282,
     "status": "ok",
     "timestamp": 1681346138324,
     "user": {
      "displayName": "강호정",
      "userId": "03873201153560303630"
     },
     "user_tz": -540
    },
    "id": "oUaFQRBiCRno",
    "outputId": "60790645-f2a8-45aa-fe4e-409c01832c4f"
   },
   "outputs": [
    {
     "data": {
      "text/plain": [
       "tensor([[ 0.2034, -1.1824,  0.3367, -2.5133]])"
      ]
     },
     "execution_count": 12,
     "metadata": {},
     "output_type": "execute_result"
    }
   ],
   "source": [
    "c = torch.randn(1,4)\n",
    "c"
   ]
  },
  {
   "cell_type": "markdown",
   "metadata": {
    "id": "tFRDRUjEM5jU"
   },
   "source": [
    "### mul"
   ]
  },
  {
   "cell_type": "code",
   "execution_count": 4,
   "metadata": {
    "colab": {
     "base_uri": "https://localhost:8080/"
    },
    "executionInfo": {
     "elapsed": 353,
     "status": "ok",
     "timestamp": 1681367908512,
     "user": {
      "displayName": "강호정",
      "userId": "03873201153560303630"
     },
     "user_tz": -540
    },
    "id": "1QW_scwBCRp7",
    "outputId": "84da7003-702c-4faf-d153-67539f818e4f"
   },
   "outputs": [
    {
     "data": {
      "text/plain": [
       "tensor([0.2059, 1.2217, 1.4045])"
      ]
     },
     "execution_count": 4,
     "metadata": {},
     "output_type": "execute_result"
    }
   ],
   "source": [
    "a = torch.randn(3)\n",
    "a"
   ]
  },
  {
   "cell_type": "code",
   "execution_count": 41,
   "metadata": {
    "colab": {
     "base_uri": "https://localhost:8080/"
    },
    "executionInfo": {
     "elapsed": 2,
     "status": "ok",
     "timestamp": 1681351558635,
     "user": {
      "displayName": "강호정",
      "userId": "03873201153560303630"
     },
     "user_tz": -540
    },
    "id": "cRsLHjTrCRsH",
    "outputId": "fdabd9e8-2d90-4b03-b857-e54fdbde8fdf"
   },
   "outputs": [
    {
     "data": {
      "text/plain": [
       "tensor([  6.9603,  18.2217, -12.4322])"
      ]
     },
     "execution_count": 41,
     "metadata": {},
     "output_type": "execute_result"
    }
   ],
   "source": [
    "torch.mul(a, 100)"
   ]
  },
  {
   "cell_type": "code",
   "execution_count": 5,
   "metadata": {
    "colab": {
     "base_uri": "https://localhost:8080/"
    },
    "executionInfo": {
     "elapsed": 9,
     "status": "ok",
     "timestamp": 1681367912413,
     "user": {
      "displayName": "강호정",
      "userId": "03873201153560303630"
     },
     "user_tz": -540
    },
    "id": "JPKY7nq9F4HR",
    "outputId": "bebf1a9b-f43d-4d17-fe0d-c0a455ba3ea2"
   },
   "outputs": [
    {
     "data": {
      "text/plain": [
       "tensor([[ 0.7378],\n",
       "        [ 1.8697],\n",
       "        [-1.0906],\n",
       "        [-1.8591]])"
      ]
     },
     "execution_count": 5,
     "metadata": {},
     "output_type": "execute_result"
    }
   ],
   "source": [
    "b = torch.randn(4, 1)\n",
    "b"
   ]
  },
  {
   "cell_type": "code",
   "execution_count": 43,
   "metadata": {
    "colab": {
     "base_uri": "https://localhost:8080/"
    },
    "executionInfo": {
     "elapsed": 6,
     "status": "ok",
     "timestamp": 1681351558936,
     "user": {
      "displayName": "강호정",
      "userId": "03873201153560303630"
     },
     "user_tz": -540
    },
    "id": "DUhVTEPqFioG",
    "outputId": "197d4081-7e60-4fea-8377-2ab5e0f1c50c"
   },
   "outputs": [
    {
     "data": {
      "text/plain": [
       "tensor([[ 0.3639, -1.4806, -0.1369, -1.2771]])"
      ]
     },
     "execution_count": 43,
     "metadata": {},
     "output_type": "execute_result"
    }
   ],
   "source": [
    "c = torch.randn(1, 4)\n",
    "c"
   ]
  },
  {
   "cell_type": "code",
   "execution_count": 44,
   "metadata": {
    "colab": {
     "base_uri": "https://localhost:8080/"
    },
    "executionInfo": {
     "elapsed": 4,
     "status": "ok",
     "timestamp": 1681351558936,
     "user": {
      "displayName": "강호정",
      "userId": "03873201153560303630"
     },
     "user_tz": -540
    },
    "id": "4_Gy9XL9CRu4",
    "outputId": "b2e5d67d-0db0-4eab-8607-b524cfca956e"
   },
   "outputs": [
    {
     "data": {
      "text/plain": [
       "tensor([[-0.0612,  0.2490,  0.0230,  0.2148],\n",
       "        [ 0.4921, -2.0025, -0.1852, -1.7273],\n",
       "        [ 0.0215, -0.0876, -0.0081, -0.0755],\n",
       "        [-0.0797,  0.3245,  0.0300,  0.2799]])"
      ]
     },
     "execution_count": 44,
     "metadata": {},
     "output_type": "execute_result"
    }
   ],
   "source": [
    "torch.mul(b, c)"
   ]
  },
  {
   "cell_type": "code",
   "execution_count": 6,
   "metadata": {
    "colab": {
     "base_uri": "https://localhost:8080/"
    },
    "executionInfo": {
     "elapsed": 3,
     "status": "ok",
     "timestamp": 1681367917009,
     "user": {
      "displayName": "강호정",
      "userId": "03873201153560303630"
     },
     "user_tz": -540
    },
    "id": "0T77z8p3VUtA",
    "outputId": "fce25912-2620-4d49-a6a0-0992276dd741"
   },
   "outputs": [
    {
     "data": {
      "text/plain": [
       "tensor([[ 0.1519,  0.9014,  1.0362],\n",
       "        [ 0.3850,  2.2843,  2.6260],\n",
       "        [-0.2246, -1.3324, -1.5317],\n",
       "        [-0.3828, -2.2713, -2.6111]])"
      ]
     },
     "execution_count": 6,
     "metadata": {},
     "output_type": "execute_result"
    }
   ],
   "source": [
    "torch.mul(a, b)"
   ]
  },
  {
   "cell_type": "markdown",
   "metadata": {
    "id": "xurRPHX9TQWu"
   },
   "source": [
    "### matmul"
   ]
  },
  {
   "cell_type": "code",
   "execution_count": 30,
   "metadata": {
    "colab": {
     "base_uri": "https://localhost:8080/"
    },
    "executionInfo": {
     "elapsed": 5,
     "status": "ok",
     "timestamp": 1681350551187,
     "user": {
      "displayName": "강호정",
      "userId": "03873201153560303630"
     },
     "user_tz": -540
    },
    "id": "kMX1WuSjTNLc",
    "outputId": "378aa815-b21c-4f6c-ed4b-bfae1d0d3b1c"
   },
   "outputs": [
    {
     "data": {
      "text/plain": [
       "torch.Size([])"
      ]
     },
     "execution_count": 30,
     "metadata": {},
     "output_type": "execute_result"
    }
   ],
   "source": [
    "# vector x vector\n",
    "tensor1 = torch.randn(3)\n",
    "tensor2 = torch.randn(3)\n",
    "torch.matmul(tensor1, tensor2).size()"
   ]
  },
  {
   "cell_type": "code",
   "execution_count": 31,
   "metadata": {
    "colab": {
     "base_uri": "https://localhost:8080/"
    },
    "executionInfo": {
     "elapsed": 8,
     "status": "ok",
     "timestamp": 1681350553760,
     "user": {
      "displayName": "강호정",
      "userId": "03873201153560303630"
     },
     "user_tz": -540
    },
    "id": "NIHzWqjwMirB",
    "outputId": "c0b5bb82-88eb-47fd-83c8-13bfe3bf9456"
   },
   "outputs": [
    {
     "data": {
      "text/plain": [
       "tensor(1.6557)"
      ]
     },
     "execution_count": 31,
     "metadata": {},
     "output_type": "execute_result"
    }
   ],
   "source": [
    "torch.matmul(tensor1, tensor2)"
   ]
  },
  {
   "cell_type": "code",
   "execution_count": 34,
   "metadata": {
    "colab": {
     "base_uri": "https://localhost:8080/"
    },
    "executionInfo": {
     "elapsed": 314,
     "status": "ok",
     "timestamp": 1681350635792,
     "user": {
      "displayName": "강호정",
      "userId": "03873201153560303630"
     },
     "user_tz": -540
    },
    "id": "Zkck_byfMiuu",
    "outputId": "e84d525e-3d8d-4d82-bbe2-f50edb1b5762"
   },
   "outputs": [
    {
     "data": {
      "text/plain": [
       "tensor([ 2.6781, -0.8003, -2.8217])"
      ]
     },
     "execution_count": 34,
     "metadata": {},
     "output_type": "execute_result"
    }
   ],
   "source": [
    "# matrix x vector\n",
    "tensor1 = torch.randn(3, 4)\n",
    "tensor2 = torch.randn(4)\n",
    "torch.matmul(tensor1, tensor2).size()"
   ]
  },
  {
   "cell_type": "code",
   "execution_count": 33,
   "metadata": {
    "colab": {
     "base_uri": "https://localhost:8080/"
    },
    "executionInfo": {
     "elapsed": 3,
     "status": "ok",
     "timestamp": 1681350560254,
     "user": {
      "displayName": "강호정",
      "userId": "03873201153560303630"
     },
     "user_tz": -540
    },
    "id": "U5a9Gqc5Miyg",
    "outputId": "7a254528-e69f-4665-c7c2-3cd000dac392"
   },
   "outputs": [
    {
     "data": {
      "text/plain": [
       "tensor([ 0.0641, -1.1939,  0.6056])"
      ]
     },
     "execution_count": 33,
     "metadata": {},
     "output_type": "execute_result"
    }
   ],
   "source": [
    "torch.matmul(tensor1, tensor2)"
   ]
  },
  {
   "cell_type": "code",
   "execution_count": 45,
   "metadata": {
    "colab": {
     "base_uri": "https://localhost:8080/"
    },
    "executionInfo": {
     "elapsed": 335,
     "status": "ok",
     "timestamp": 1681351720297,
     "user": {
      "displayName": "강호정",
      "userId": "03873201153560303630"
     },
     "user_tz": -540
    },
    "id": "JXCL-au3Mi9C",
    "outputId": "235ddd26-a819-4a68-b7f7-2005f6b49d91"
   },
   "outputs": [
    {
     "data": {
      "text/plain": [
       "torch.Size([10, 3])"
      ]
     },
     "execution_count": 45,
     "metadata": {},
     "output_type": "execute_result"
    }
   ],
   "source": [
    "# batched matrix x broadcasted vector\n",
    "tensor1 = torch.randn(10, 3, 4)\n",
    "tensor2 = torch.randn(4)\n",
    "torch.matmul(tensor1, tensor2).size()"
   ]
  },
  {
   "cell_type": "code",
   "execution_count": 46,
   "metadata": {
    "colab": {
     "base_uri": "https://localhost:8080/"
    },
    "executionInfo": {
     "elapsed": 9,
     "status": "ok",
     "timestamp": 1681351725135,
     "user": {
      "displayName": "강호정",
      "userId": "03873201153560303630"
     },
     "user_tz": -540
    },
    "id": "YumiVJheXQG4",
    "outputId": "aeaec1d1-6c1d-4563-c514-e8c17ad95c1c"
   },
   "outputs": [
    {
     "data": {
      "text/plain": [
       "torch.Size([10, 3, 5])"
      ]
     },
     "execution_count": 46,
     "metadata": {},
     "output_type": "execute_result"
    }
   ],
   "source": [
    "# batched matrix x broadcasted matrix\n",
    "tensor1 = torch.randn(10, 3, 4)\n",
    "tensor2 = torch.randn(4, 5)\n",
    "torch.matmul(tensor1, tensor2).size()"
   ]
  },
  {
   "cell_type": "markdown",
   "metadata": {
    "id": "tuEa28_oYKuO"
   },
   "source": [
    "### single-element tensors"
   ]
  },
  {
   "cell_type": "code",
   "execution_count": 47,
   "metadata": {
    "colab": {
     "base_uri": "https://localhost:8080/"
    },
    "executionInfo": {
     "elapsed": 323,
     "status": "ok",
     "timestamp": 1681351789224,
     "user": {
      "displayName": "강호정",
      "userId": "03873201153560303630"
     },
     "user_tz": -540
    },
    "id": "eBU8YqHMYBvi",
    "outputId": "054b01c1-6ded-408f-d69e-960599dea5f6"
   },
   "outputs": [
    {
     "data": {
      "text/plain": [
       "tensor([[-1.4262,  0.1412, -1.6226,  0.9442,  0.7641],\n",
       "        [ 1.7496, -0.0321, -1.8625,  0.1908, -0.2854],\n",
       "        [ 0.0750,  0.0804, -0.8499, -0.3875,  0.7876],\n",
       "        [-1.7880, -0.7055,  1.7378,  0.2288,  0.5228]])"
      ]
     },
     "execution_count": 47,
     "metadata": {},
     "output_type": "execute_result"
    }
   ],
   "source": [
    "tensor2"
   ]
  },
  {
   "cell_type": "code",
   "execution_count": 48,
   "metadata": {
    "colab": {
     "base_uri": "https://localhost:8080/"
    },
    "executionInfo": {
     "elapsed": 3,
     "status": "ok",
     "timestamp": 1681351791813,
     "user": {
      "displayName": "강호정",
      "userId": "03873201153560303630"
     },
     "user_tz": -540
    },
    "id": "T_oFTxUZYCRK",
    "outputId": "964139fe-f023-46d8-b64e-91a4c94386a9"
   },
   "outputs": [
    {
     "data": {
      "text/plain": [
       "tensor(-1.7374)"
      ]
     },
     "execution_count": 48,
     "metadata": {},
     "output_type": "execute_result"
    }
   ],
   "source": [
    "agg = tensor2.sum()\n",
    "agg"
   ]
  },
  {
   "cell_type": "code",
   "execution_count": null,
   "metadata": {
    "id": "gLWIBT3xYCT3"
   },
   "outputs": [],
   "source": [
    "agg_item = agg.item() # tensor -> python\n",
    "agg_item"
   ]
  },
  {
   "cell_type": "markdown",
   "metadata": {
    "id": "chGkmjSIYfZP"
   },
   "source": [
    "## Inplace operations"
   ]
  },
  {
   "cell_type": "code",
   "execution_count": 50,
   "metadata": {
    "colab": {
     "base_uri": "https://localhost:8080/"
    },
    "executionInfo": {
     "elapsed": 269,
     "status": "ok",
     "timestamp": 1681352002149,
     "user": {
      "displayName": "강호정",
      "userId": "03873201153560303630"
     },
     "user_tz": -540
    },
    "id": "D_T8m-eGYCZr",
    "outputId": "6d01af09-8611-4250-ae9f-fdcc7bd18b21"
   },
   "outputs": [
    {
     "name": "stdout",
     "output_type": "stream",
     "text": [
      "tensor([[-1.4262,  0.1412, -1.6226,  0.9442,  0.7641],\n",
      "        [ 1.7496, -0.0321, -1.8625,  0.1908, -0.2854],\n",
      "        [ 0.0750,  0.0804, -0.8499, -0.3875,  0.7876],\n",
      "        [-1.7880, -0.7055,  1.7378,  0.2288,  0.5228]]) \n",
      "\n",
      "tensor([[3.5738, 5.1412, 3.3774, 5.9442, 5.7641],\n",
      "        [6.7496, 4.9679, 3.1375, 5.1908, 4.7146],\n",
      "        [5.0750, 5.0804, 4.1501, 4.6125, 5.7876],\n",
      "        [3.2120, 4.2945, 6.7378, 5.2288, 5.5228]])\n",
      "\n",
      "--------------------------------------------------\n",
      "tensor([[-1.4262,  0.1412, -1.6226,  0.9442,  0.7641],\n",
      "        [ 1.7496, -0.0321, -1.8625,  0.1908, -0.2854],\n",
      "        [ 0.0750,  0.0804, -0.8499, -0.3875,  0.7876],\n",
      "        [-1.7880, -0.7055,  1.7378,  0.2288,  0.5228]]) \n",
      "\n",
      "tensor([[3.5738, 5.1412, 3.3774, 5.9442, 5.7641],\n",
      "        [6.7496, 4.9679, 3.1375, 5.1908, 4.7146],\n",
      "        [5.0750, 5.0804, 4.1501, 4.6125, 5.7876],\n",
      "        [3.2120, 4.2945, 6.7378, 5.2288, 5.5228]])\n"
     ]
    }
   ],
   "source": [
    "print(tensor2, \"\\n\")\n",
    "print(f\"{tensor2.add(5)}\\n\")\n",
    "print('-'*50)\n",
    "print(tensor2, \"\\n\")\n",
    "tensor2.add_(5) # inplace\n",
    "print(tensor2)"
   ]
  },
  {
   "cell_type": "markdown",
   "metadata": {
    "id": "KfGGhqyvY-WQ"
   },
   "source": [
    "## Bridge with Numpy"
   ]
  },
  {
   "cell_type": "code",
   "execution_count": 51,
   "metadata": {
    "colab": {
     "base_uri": "https://localhost:8080/"
    },
    "executionInfo": {
     "elapsed": 3,
     "status": "ok",
     "timestamp": 1681352084120,
     "user": {
      "displayName": "강호정",
      "userId": "03873201153560303630"
     },
     "user_tz": -540
    },
    "id": "ZfUpGq0kYkZZ",
    "outputId": "a64314d2-798a-46be-c26a-78ae704a91aa"
   },
   "outputs": [
    {
     "name": "stdout",
     "output_type": "stream",
     "text": [
      "t: tensor([1., 1., 1., 1., 1.])\n",
      "n: [1. 1. 1. 1. 1.]\n"
     ]
    }
   ],
   "source": [
    "t = torch.ones(5)\n",
    "print(f\"t: {t}\")\n",
    "n = t.numpy()\n",
    "print(f\"n: {n}\")"
   ]
  },
  {
   "cell_type": "code",
   "execution_count": 52,
   "metadata": {
    "colab": {
     "base_uri": "https://localhost:8080/"
    },
    "executionInfo": {
     "elapsed": 8,
     "status": "ok",
     "timestamp": 1681352087225,
     "user": {
      "displayName": "강호정",
      "userId": "03873201153560303630"
     },
     "user_tz": -540
    },
    "id": "rsn35MFsZM7J",
    "outputId": "306389b5-d69f-44b3-d3fb-bfb53da80c69"
   },
   "outputs": [
    {
     "name": "stdout",
     "output_type": "stream",
     "text": [
      "t: tensor([2., 2., 2., 2., 2.])\n",
      "n: [2. 2. 2. 2. 2.]\n"
     ]
    }
   ],
   "source": [
    "t.add_(1)\n",
    "print(f\"t: {t}\")\n",
    "print(f\"n: {n}\") # ???!!!!!"
   ]
  },
  {
   "cell_type": "markdown",
   "metadata": {
    "id": "DYA6lOTiZbbb"
   },
   "source": [
    "## Dimension Change"
   ]
  },
  {
   "cell_type": "code",
   "execution_count": 53,
   "metadata": {
    "executionInfo": {
     "elapsed": 4,
     "status": "ok",
     "timestamp": 1681352142217,
     "user": {
      "displayName": "강호정",
      "userId": "03873201153560303630"
     },
     "user_tz": -540
    },
    "id": "4hLB0vTCYknC"
   },
   "outputs": [],
   "source": [
    "x = torch.rand(2,3,4) # 2*3*4 =24    (1,24),(2*12),(3*8),(4,6)\n",
    "x.reshape(2,-1) # (2,12)\n",
    "x.reshape(-1,4) # (6,4)\n",
    "x.reshape(1,-1) # (1,24)\n",
    "x.reshape(3,4,2) # (3,4,2)"
   ]
  },
  {
   "cell_type": "markdown",
   "metadata": {
    "id": "3oQiUWBsaKMx"
   },
   "source": [
    "### permute()"
   ]
  },
  {
   "cell_type": "code",
   "execution_count": 54,
   "metadata": {
    "colab": {
     "base_uri": "https://localhost:8080/"
    },
    "executionInfo": {
     "elapsed": 4,
     "status": "ok",
     "timestamp": 1681352444353,
     "user": {
      "displayName": "강호정",
      "userId": "03873201153560303630"
     },
     "user_tz": -540
    },
    "id": "6XOaZ2GhaJtX",
    "outputId": "c1fe2942-a366-4ff6-c359-f70c63d4fd00"
   },
   "outputs": [
    {
     "data": {
      "text/plain": [
       "torch.Size([16, 32, 3])"
      ]
     },
     "execution_count": 54,
     "metadata": {},
     "output_type": "execute_result"
    }
   ],
   "source": [
    "x = torch.rand(16,32,3)\n",
    "x.shape"
   ]
  },
  {
   "cell_type": "code",
   "execution_count": null,
   "metadata": {
    "id": "onhjNXM1aPDB"
   },
   "outputs": [],
   "source": [
    "x.permute(2,1,0) # 위치만 변경 [3,32,16]"
   ]
  },
  {
   "cell_type": "code",
   "execution_count": null,
   "metadata": {
    "id": "xT4DvS2taPGg"
   },
   "outputs": [],
   "source": [
    "x.permute(0,2,1) # 위치만 변경 [16,3,32]"
   ]
  },
  {
   "cell_type": "markdown",
   "metadata": {
    "id": "DM4PEo4ka_6e"
   },
   "source": [
    "### squeeze(),unsqueeze()"
   ]
  },
  {
   "cell_type": "code",
   "execution_count": 58,
   "metadata": {
    "colab": {
     "base_uri": "https://localhost:8080/"
    },
    "executionInfo": {
     "elapsed": 3,
     "status": "ok",
     "timestamp": 1681352649069,
     "user": {
      "displayName": "강호정",
      "userId": "03873201153560303630"
     },
     "user_tz": -540
    },
    "id": "f-DnVM2VaPJy",
    "outputId": "9c4a0d7c-8f55-4331-b3d5-84b840fc1a5f"
   },
   "outputs": [
    {
     "data": {
      "text/plain": [
       "torch.Size([1, 3, 1, 20, 1])"
      ]
     },
     "execution_count": 58,
     "metadata": {},
     "output_type": "execute_result"
    }
   ],
   "source": [
    "x = torch.rand(1, 3, 1, 20, 1) # 1*3*1*20*1 =60\n",
    "x.shape"
   ]
  },
  {
   "cell_type": "code",
   "execution_count": 59,
   "metadata": {
    "colab": {
     "base_uri": "https://localhost:8080/"
    },
    "executionInfo": {
     "elapsed": 3,
     "status": "ok",
     "timestamp": 1681353053924,
     "user": {
      "displayName": "강호정",
      "userId": "03873201153560303630"
     },
     "user_tz": -540
    },
    "id": "dnfBhdolbDSU",
    "outputId": "4ca1e8b6-6d31-4446-9a9d-5b00f49e97cd"
   },
   "outputs": [
    {
     "data": {
      "text/plain": [
       "torch.Size([3, 20])"
      ]
     },
     "execution_count": 59,
     "metadata": {},
     "output_type": "execute_result"
    }
   ],
   "source": [
    "x.squeeze().shape "
   ]
  },
  {
   "cell_type": "code",
   "execution_count": 60,
   "metadata": {
    "colab": {
     "base_uri": "https://localhost:8080/"
    },
    "executionInfo": {
     "elapsed": 2,
     "status": "ok",
     "timestamp": 1681353055488,
     "user": {
      "displayName": "강호정",
      "userId": "03873201153560303630"
     },
     "user_tz": -540
    },
    "id": "-tdj33GhbDad",
    "outputId": "d2c5fc3f-e922-4833-de6b-c6bc776e58ea"
   },
   "outputs": [
    {
     "data": {
      "text/plain": [
       "torch.Size([3, 1, 20, 1])"
      ]
     },
     "execution_count": 60,
     "metadata": {},
     "output_type": "execute_result"
    }
   ],
   "source": [
    "x.squeeze(dim=0).shape"
   ]
  },
  {
   "cell_type": "code",
   "execution_count": 61,
   "metadata": {
    "colab": {
     "base_uri": "https://localhost:8080/"
    },
    "executionInfo": {
     "elapsed": 2,
     "status": "ok",
     "timestamp": 1681353057124,
     "user": {
      "displayName": "강호정",
      "userId": "03873201153560303630"
     },
     "user_tz": -540
    },
    "id": "YwVCPTA-bDdS",
    "outputId": "056a58a8-37ad-4472-e92c-b403ad6677ed"
   },
   "outputs": [
    {
     "data": {
      "text/plain": [
       "torch.Size([1, 3, 1, 20])"
      ]
     },
     "execution_count": 61,
     "metadata": {},
     "output_type": "execute_result"
    }
   ],
   "source": [
    "x.squeeze(dim=-1).shape"
   ]
  },
  {
   "cell_type": "code",
   "execution_count": 62,
   "metadata": {
    "colab": {
     "base_uri": "https://localhost:8080/"
    },
    "executionInfo": {
     "elapsed": 10,
     "status": "ok",
     "timestamp": 1681353059160,
     "user": {
      "displayName": "강호정",
      "userId": "03873201153560303630"
     },
     "user_tz": -540
    },
    "id": "2VAI1K_rbDgH",
    "outputId": "61270633-f9fa-45bb-c21b-7b11c39a796a"
   },
   "outputs": [
    {
     "data": {
      "text/plain": [
       "torch.Size([1, 3, 20, 1])"
      ]
     },
     "execution_count": 62,
     "metadata": {},
     "output_type": "execute_result"
    }
   ],
   "source": [
    "x.squeeze(dim=2).shape"
   ]
  },
  {
   "cell_type": "code",
   "execution_count": 63,
   "metadata": {
    "colab": {
     "base_uri": "https://localhost:8080/"
    },
    "executionInfo": {
     "elapsed": 319,
     "status": "ok",
     "timestamp": 1681353503079,
     "user": {
      "displayName": "강호정",
      "userId": "03873201153560303630"
     },
     "user_tz": -540
    },
    "id": "P-FmH7MwbDi5",
    "outputId": "2c023bbb-4ac2-4b73-ad30-675f0415b4e9"
   },
   "outputs": [
    {
     "data": {
      "text/plain": [
       "torch.Size([3, 20, 128])"
      ]
     },
     "execution_count": 63,
     "metadata": {},
     "output_type": "execute_result"
    }
   ],
   "source": [
    "x = torch.rand(3, 20, 128)\n",
    "x.shape"
   ]
  },
  {
   "cell_type": "code",
   "execution_count": 64,
   "metadata": {
    "colab": {
     "base_uri": "https://localhost:8080/"
    },
    "executionInfo": {
     "elapsed": 312,
     "status": "ok",
     "timestamp": 1681353505646,
     "user": {
      "displayName": "강호정",
      "userId": "03873201153560303630"
     },
     "user_tz": -540
    },
    "id": "J1Kmsz82bDlm",
    "outputId": "5e260245-315c-4c4b-a419-49790e6a4b87"
   },
   "outputs": [
    {
     "data": {
      "text/plain": [
       "torch.Size([3, 1, 20, 128])"
      ]
     },
     "execution_count": 64,
     "metadata": {},
     "output_type": "execute_result"
    }
   ],
   "source": [
    "x.unsqueeze(dim=1).shape"
   ]
  },
  {
   "cell_type": "code",
   "execution_count": null,
   "metadata": {
    "id": "UWmBSz54YkqF"
   },
   "outputs": [],
   "source": []
  },
  {
   "cell_type": "code",
   "execution_count": null,
   "metadata": {
    "id": "fN12GIbBYks6"
   },
   "outputs": [],
   "source": []
  },
  {
   "cell_type": "code",
   "execution_count": null,
   "metadata": {
    "id": "2ydOkhENYkvy"
   },
   "outputs": [],
   "source": []
  }
 ],
 "metadata": {
  "colab": {
   "authorship_tag": "ABX9TyNuEVe6tRYQCRS8D/uKbK60",
   "provenance": []
  },
  "kernelspec": {
   "display_name": "Python 3 (ipykernel)",
   "language": "python",
   "name": "python3"
  },
  "language_info": {
   "codemirror_mode": {
    "name": "ipython",
    "version": 3
   },
   "file_extension": ".py",
   "mimetype": "text/x-python",
   "name": "python",
   "nbconvert_exporter": "python",
   "pygments_lexer": "ipython3",
   "version": "3.9.12"
  }
 },
 "nbformat": 4,
 "nbformat_minor": 4
}
