{
 "cells": [
  {
   "cell_type": "markdown",
   "id": "a7d28460-cf95-453d-8fb4-69d52e8ccd79",
   "metadata": {
    "tags": []
   },
   "source": [
    "## 파이썬 기본"
   ]
  },
  {
   "cell_type": "code",
   "execution_count": 17,
   "id": "9d03b948-d494-47d2-9009-595cb5404949",
   "metadata": {},
   "outputs": [
    {
     "name": "stdout",
     "output_type": "stream",
     "text": [
      "Hello, world!\n",
      "Hello, world!\n",
      "Python Programming\n",
      "\n",
      "Hello, world!\n",
      "Hello, world!\n",
      "Python Programming\n"
     ]
    }
   ],
   "source": [
    "a = 'Hello, world!'\n",
    "b = 'Python Programming'\n",
    "\n",
    "print(a)\n",
    "print(a)\n",
    "print(b)\n",
    "\n",
    "print(\"\")\n",
    "\n",
    "print(a+'\\n'+a+'\\n'+b)"
   ]
  },
  {
   "cell_type": "code",
   "execution_count": 27,
   "id": "34839930-cba1-49c6-ad89-ab2e49040a4f",
   "metadata": {},
   "outputs": [
    {
     "name": "stdout",
     "output_type": "stream",
     "text": [
      "89 28.2 3 1\n"
     ]
    }
   ],
   "source": [
    "a= 13 + (22-3) *4\n",
    "b= 13+((22-3)*4)/5\n",
    "c= 7//2 # 몫 구하기 \n",
    "d= 7%2 # 나머지 구하기\n",
    "print(a,b,c,d)"
   ]
  },
  {
   "cell_type": "code",
   "execution_count": 37,
   "id": "31de359c-b519-4fd6-b7f2-a7179749a0a5",
   "metadata": {},
   "outputs": [
    {
     "name": "stdout",
     "output_type": "stream",
     "text": [
      "가장 시끄러운 층은 = 7 층\n",
      "가장 시끄러운 층은 = 7층 \n"
     ]
    }
   ],
   "source": [
    "m=12\n",
    "a=int(0.2467 * m + 4.159)\n",
    "print('가장','시끄러운','층은','=',a,'층')\n",
    "print('가장 시끄러운 층은 = {}층 '.format(a))"
   ]
  },
  {
   "cell_type": "code",
   "execution_count": 48,
   "id": "e5305048-b220-4225-8a16-676b1f111f5f",
   "metadata": {},
   "outputs": [
    {
     "name": "stdout",
     "output_type": "stream",
     "text": [
      "총 지불 해야 할 금액은 16500000원 입니다.\n"
     ]
    }
   ],
   "source": [
    "people = 250\n",
    "tax = 0.1 * 20000 * people * 3 \n",
    "fee = (20000 * 3 * people) + tax     \n",
    "print('총 지불 해야 할 금액은 {}원 입니다.'.format(int(fee)))"
   ]
  },
  {
   "cell_type": "code",
   "execution_count": 47,
   "id": "8dce35d0-46a5-479a-98a5-d1d27768b3ac",
   "metadata": {},
   "outputs": [
    {
     "data": {
      "text/plain": [
       "'0b10110'"
      ]
     },
     "execution_count": 47,
     "metadata": {},
     "output_type": "execute_result"
    }
   ],
   "source": [
    "bin(22) # 22를 2진수로 표현 (ob뒤부터 )"
   ]
  },
  {
   "cell_type": "code",
   "execution_count": 58,
   "id": "4d284c4f-6ce2-45cd-bf25-3244eed4d481",
   "metadata": {},
   "outputs": [
    {
     "name": "stdout",
     "output_type": "stream",
     "text": [
      "30\n"
     ]
    }
   ],
   "source": [
    "a= 10\n",
    "a+= 20\n",
    "print(a)"
   ]
  },
  {
   "cell_type": "markdown",
   "id": "62d5606f-39a9-4d24-8a35-5e0d14975e6d",
   "metadata": {},
   "source": [
    "- 문자열 리터럴"
   ]
  },
  {
   "cell_type": "code",
   "execution_count": 40,
   "id": "a5275d62-7f0a-4bea-a882-c479c29dfd3b",
   "metadata": {},
   "outputs": [
    {
     "name": "stdout",
     "output_type": "stream",
     "text": [
      "'안녕?'이라는 그 인사를 듣고 나는 '누구지?'라고 생각했다.\n",
      "\"안녕?\"이라는 그 인사를 듣고 나는 '누구지'라고 생각했다\n"
     ]
    }
   ],
   "source": [
    "print(\"'안녕?'이라는 그 인사를 듣고 나는 '누구지?'라고 생각했다.\")\n",
    "print('\"안녕?\"이라는 그 인사를 듣고 나는 \\'누구지\\'라고 생각했다') # \\는 \"\" 두개 사용 가능하도록 한다 ."
   ]
  },
  {
   "cell_type": "code",
   "execution_count": 38,
   "id": "f4f093f6-5c91-43f6-9f50-a9c4601c897d",
   "metadata": {},
   "outputs": [
    {
     "name": "stdout",
     "output_type": "stream",
     "text": [
      "c:\n",
      "name\n",
      "c:\\nname\n",
      " \n",
      "안녕하새요 , \n",
      "나는 파이썬을 공부하고 있습니다 . \n",
      "반갑습니다 \n",
      "\n",
      "안녕하새요 , \n",
      "나는 파이썬을 공부하고 있습니다 . \n",
      "반갑습니다\n",
      " \n",
      "\"안녕하세요\" , \n",
      "나는 파이썬을 공부하고 있습니다 . \n",
      "반갑습니다\n",
      "너무 너무 너무 너무 너무 너무 파이썬 공부가 즐겁습니다.\n"
     ]
    }
   ],
   "source": [
    "s0 = 'c:\\nname' # \\n 을 줄바꿈 용도로 사용할떄 \n",
    "\n",
    "s1 = r'c:\\nname' # \\n 문자 그대로 사용하고 싶을떄\n",
    "\n",
    "s2 = \"\"\" \n",
    "안녕하새요 , \n",
    "나는 파이썬을 공부하고 있습니다 . \n",
    "반갑습니다 \n",
    "\"\"\" # 3중 따옴표(\"\"\")를 사용하면 자동으로 줄바꿈\n",
    "\n",
    "\n",
    "\n",
    "s3 = \"\"\"\\\n",
    "안녕하새요 , \n",
    "나는 파이썬을 공부하고 있습니다 . \n",
    "반갑습니다\\\n",
    "\"\"\" # \\를 사용해서 줄바꿈을 막음\n",
    "\n",
    "\n",
    "s4 = \"\"\" \n",
    "\\\"안녕하세요\" , \n",
    "나는 파이썬을 공부하고 있습니다 . \n",
    "반갑습니다\\\n",
    "\"\"\"\n",
    "\n",
    "\n",
    "print(s0)\n",
    "print(s1)\n",
    "print(s2)\n",
    "print(s3)\n",
    "print(s4)\n"
   ]
  },
  {
   "cell_type": "markdown",
   "id": "cab293a5-de08-4917-a98b-8be33e0a7bd4",
   "metadata": {},
   "source": [
    "- 반복문"
   ]
  },
  {
   "cell_type": "code",
   "execution_count": 42,
   "id": "144d22a8-c6e0-49d0-8846-de533b3fdf39",
   "metadata": {},
   "outputs": [
    {
     "name": "stdout",
     "output_type": "stream",
     "text": [
      "너무너무너무너무너무너무너무너무너무너무파이썬 공부가 즐겁습니다.\n"
     ]
    }
   ],
   "source": [
    "a = \"너무\" * 10 + \"파이썬 공부가 즐겁습니다.\"\n",
    "print(a)"
   ]
  },
  {
   "cell_type": "markdown",
   "id": "bf8b08ea-ba36-4f85-a2e0-969df07c4cc9",
   "metadata": {},
   "source": [
    "- indexing"
   ]
  },
  {
   "cell_type": "code",
   "execution_count": 64,
   "id": "ef25bad6-0eb3-43bf-8678-4197411eee70",
   "metadata": {},
   "outputs": [
    {
     "name": "stdout",
     "output_type": "stream",
     "text": [
      "py\n",
      "pto\n",
      "꺾\n",
      "꺾이지 않는 마음\n",
      "한요중\n",
      "한요중\n"
     ]
    }
   ],
   "source": [
    "word = 'python'\n",
    "print(word[0:2]) # 0~1 -> py\n",
    "print(word[::2]) # 증감 2 -> pto\n",
    "\n",
    "sentence = '중요한 것은 꺾이지 않는 마음'\n",
    "print(sentence[7])\n",
    "print(sentence[7:])\n",
    "print(sentence[0:3][::-1]) # 역으로 뒤집기 위해 [::-1]사용 (방법1)\n",
    "print(sentence[2::-1]) # 2부터 -1씩 감소 (방법2)\n"
   ]
  },
  {
   "cell_type": "markdown",
   "id": "d8f6bd47-a345-4e15-bcc3-9b36ece70eff",
   "metadata": {},
   "source": [
    "- list"
   ]
  },
  {
   "cell_type": "code",
   "execution_count": 97,
   "id": "e3aeeecb-f7a7-4f14-b9e8-1313a333b232",
   "metadata": {},
   "outputs": [
    {
     "name": "stdout",
     "output_type": "stream",
     "text": [
      "[1, 4, 9, 16, 25]\n",
      "1\n",
      "25\n",
      "[1, 4, 9, 16, 25, 2, 3, 4, 5]\n",
      "[1, 4, 9, 16, 25, 1, 4, 9, 16, 25, 1, 4, 9, 16, 25]\n",
      "True\n",
      "False\n"
     ]
    }
   ],
   "source": [
    "s = [1**1 , 2**2 , 3**2 , 4**2 , 5**2]\n",
    "print(s)\n",
    "print(s[0])\n",
    "print(s[-1])\n",
    "print(s + [2,3,4,5])\n",
    "print(s *3)\n",
    "\n",
    "s[1:3] = [10,10] # 리스트는 값 변경 가능\n",
    "s\n",
    "\n",
    "a = [ 'a' , 'b' , 'c']\n",
    "n = [ 1,2,3]\n",
    "x = [a,n]\n",
    "x[0][2] #a 라는 묶금안에 c를 출력 \n"
   ]
  },
  {
   "cell_type": "code",
   "execution_count": 6,
   "id": "fa489685-e588-4e00-990d-6bc2f70825d5",
   "metadata": {},
   "outputs": [
    {
     "name": "stdout",
     "output_type": "stream",
     "text": [
      "True\n",
      "False\n",
      "[]\n"
     ]
    }
   ],
   "source": [
    "numbers = [1,2,3,4,5,6,7]\n",
    "print(5 in numbers)\n",
    "print(10 in numbers)\n",
    "\n",
    "#추가\n",
    "numbers.append(8)\n",
    "numbers.insert(5,0) # index 4 위치에 0을 넣겠다 \n",
    "numbers.extend([9,10,11]) # 뒤에 9,10,11 추가해줌\n",
    "#삭제\n",
    "numbers.remove(1) #0을 삭제하는데 중복시 가장 앞에있는것만 삭제\n",
    "numbers.pop(0) # 리스트 가장 마지막 요소를 제거를 하고 반환\n",
    "#조회\n",
    "numbers.index(4) # 4가 index 어디 위치해 있는지 찾아줌 \n",
    "numbers.count(4) # 4가 리스트 안에 몇개 있는지\n",
    "#변경 \n",
    "numbers.sort() # 리스트 정렬 \n",
    "numbers.reverse() # 순서가 뒤집힌다 \n",
    "numbers.clear() #리스트를 비워준다 \n",
    "print(numbers)"
   ]
  },
  {
   "cell_type": "code",
   "execution_count": 83,
   "id": "1e218c53-f920-4228-a02d-edd0be7d20cf",
   "metadata": {},
   "outputs": [
    {
     "data": {
      "text/plain": [
       "False"
      ]
     },
     "execution_count": 83,
     "metadata": {},
     "output_type": "execute_result"
    }
   ],
   "source": [
    "sc = [88,73,89,59,77]\n",
    "sc[0]>60 and sc[1]>60 and sc[2]>60 and sc[3]>60 and sc[4]>60 "
   ]
  },
  {
   "cell_type": "markdown",
   "id": "381dba08-8125-4189-822f-753a9bd8789e",
   "metadata": {},
   "source": [
    "- tuple(불변)\n"
   ]
  },
  {
   "cell_type": "code",
   "execution_count": 11,
   "id": "e7a39de6-db40-4672-9506-5a6c5735567f",
   "metadata": {},
   "outputs": [
    {
     "name": "stdout",
     "output_type": "stream",
     "text": [
      "(1, 2, 3, 4, 5, 'hello')\n"
     ]
    }
   ],
   "source": [
    "t = (1,2,3,4,5,'hello')\n",
    "print(t)"
   ]
  },
  {
   "cell_type": "code",
   "execution_count": 21,
   "id": "1c21fd0f-cd10-4861-b42d-a490eff7b18b",
   "metadata": {},
   "outputs": [
    {
     "name": "stdin",
     "output_type": "stream",
     "text": [
      "정수를 입력해주세요: 20\n"
     ]
    },
    {
     "name": "stdout",
     "output_type": "stream",
     "text": [
      "20\n"
     ]
    }
   ],
   "source": [
    "input_value = int(input(\"정수를 입력해주세요:\"))\n",
    "print(input_value)"
   ]
  },
  {
   "cell_type": "code",
   "execution_count": 28,
   "id": "f4067aca-604b-4442-9a0e-fc702f2f3c27",
   "metadata": {},
   "outputs": [
    {
     "name": "stdin",
     "output_type": "stream",
     "text": [
      "이름을 입력하시오 강호정\n"
     ]
    },
    {
     "name": "stdout",
     "output_type": "stream",
     "text": [
      "강호정 씨 안녕하세요 ?\n",
      "파이썬에 오신 것을 환영합니다\n"
     ]
    },
    {
     "name": "stdin",
     "output_type": "stream",
     "text": [
      "첫 번째 정수를 입력하세요: 1\n",
      "두 번째 정수를 입력하세요: 2\n"
     ]
    },
    {
     "name": "stdout",
     "output_type": "stream",
     "text": [
      "1 과 2 의 합은 3 입니다.\n",
      "1과 2의 합은 3입니다\n"
     ]
    }
   ],
   "source": [
    "name = input('이름을 입력하시오')\n",
    "print(name, \"씨 안녕하세요 ?\\n파이썬에 오신 것을 환영합니다\")\n",
    "a= int(input('첫 번째 정수를 입력하세요:'))\n",
    "b= int(input('두 번째 정수를 입력하세요:'))\n",
    "# print(a,'과',b,'의 합은',a+b,'입니다.')\n",
    "print('{} 과 {}의 합은 {}입니다'.format(a,b,a+b))"
   ]
  },
  {
   "cell_type": "code",
   "execution_count": 35,
   "id": "4c58ab89-e49f-45e1-96f8-28904776288d",
   "metadata": {},
   "outputs": [
    {
     "name": "stdin",
     "output_type": "stream",
     "text": [
      "경기장은 어디입니까? 고척\n",
      "이긴 팀은 어디 입니까? KT\n",
      "진 팀은 어디 입니까? LG\n",
      "우수 선수는 누구입니까? 강백ㅎ\n",
      "스코어는 몇대 몇 입니까? 10:8\n"
     ]
    },
    {
     "name": "stdout",
     "output_type": "stream",
     "text": [
      "속보 KT가 10:8로 승리 ... \n",
      "오늘 고척 경기장에서 야구 경기가 있었습니다 .\n",
      "KT와 LG는 치열한 공방전을 펼첬습니다.\n",
      "이 경기에서 강백ㅎ가 맹확약을 했습니다.\n",
      "그 끝내 KT가 LG를 10:8로 승리하였습니다.\n",
      "기사 끝\n"
     ]
    }
   ],
   "source": [
    "stadium = input(\"경기장은 어디입니까?\")\n",
    "win = input(\"이긴 팀은 어디 입니까?\")\n",
    "lose = input(\"진 팀은 어디 입니까?\")     \n",
    "player = input(\"우수 선수는 누구입니까?\")\n",
    "score = input('스코어는 몇대 몇 입니까?')\n",
    "              \n",
    "print(\"속보 {}가 {}로 승리 ... \\n오늘 고척 경기장에서 야구 경기가 있었습니다 .\\n{}와 {}는 치열한 공방전을 펼첬습니다.\\n이 경기에서 {}가 맹확약을 했습니다.\\n그 끝내 {}가 {}를 {}로 승리하였습니다.\\n기사 끝\".format(win,score,win,lose,player,win,lose,score))"
   ]
  },
  {
   "cell_type": "code",
   "execution_count": 36,
   "id": "38c66efd-3335-4121-947a-87500f66df86",
   "metadata": {},
   "outputs": [
    {
     "name": "stdout",
     "output_type": "stream",
     "text": [
      "<class 'list'>\n",
      "['1', '2', '3']\n"
     ]
    }
   ],
   "source": [
    "result = '1,2,3'.split(',')\n",
    "print(type(result)) #split 으로 쪼개면 list 형으로 나온다\n",
    "print(result)"
   ]
  },
  {
   "cell_type": "code",
   "execution_count": 45,
   "id": "3495cd5f-2a4a-45f9-9041-0432dcf45ea1",
   "metadata": {},
   "outputs": [
    {
     "name": "stdin",
     "output_type": "stream",
     "text": [
      "hh:mm:ss 의 형태로 시간을 입력해주세요 12:33:23\n"
     ]
    },
    {
     "name": "stdout",
     "output_type": "stream",
     "text": [
      "시 : 12\n",
      "분 : 33 \n",
      "초 : 23\n"
     ]
    }
   ],
   "source": [
    "time = input('hh:mm:ss 의 형태로 시간을 입력해주세요')\n",
    "t= time.split(':')\n",
    "print('시 : {}\\n분 : {} \\n초 : {}'.format(t[0],t[1],t[2]))"
   ]
  },
  {
   "cell_type": "code",
   "execution_count": 47,
   "id": "af0853c9-11f3-4dd7-88c3-2fe5bbba69f6",
   "metadata": {},
   "outputs": [
    {
     "name": "stdout",
     "output_type": "stream",
     "text": [
      "[1, 2, 3, 4]\n"
     ]
    }
   ],
   "source": [
    "a = [1.2 , 2.5 , 3.7 , 4.6]\n",
    "a = list(map(int,a)) # a라는 요소들을 int를 적용시켜 list로 변환시킴\n",
    "print(a)"
   ]
  },
  {
   "cell_type": "code",
   "execution_count": 72,
   "id": "a490c2a3-48b0-40b8-a20f-c0767a98bfc1",
   "metadata": {},
   "outputs": [
    {
     "name": "stdin",
     "output_type": "stream",
     "text": [
      "국어,영어,수학,과학 점수를 입력해주세요 98,100,96,100\n"
     ]
    },
    {
     "name": "stdout",
     "output_type": "stream",
     "text": [
      "평균 점수는 98.5점입니다\n"
     ]
    }
   ],
   "source": [
    "kor,eng,mat,sci = input(\"국어,영어,수학,과학 점수를 입력해주세요\").split(',')\n",
    "a = [kor,eng,mat,sci]\n",
    "a = list(map(int,a))\n",
    "avg = (a[0]+a[1]+a[2]+a[3]) / len(a)\n",
    "print(\"평균 점수는 {}점입니다\".format(avg))"
   ]
  },
  {
   "cell_type": "code",
   "execution_count": 74,
   "id": "e51f44ae-0215-4fa4-a5a0-2edd44980e56",
   "metadata": {},
   "outputs": [
    {
     "name": "stdin",
     "output_type": "stream",
     "text": [
      "국어,영어,수학,과학 점수를 입력해주세요 1,1,1,1\n"
     ]
    },
    {
     "name": "stdout",
     "output_type": "stream",
     "text": [
      "평균 점수는 1.0점입니다\n"
     ]
    }
   ],
   "source": [
    "kor,eng,mat,sci = input(\"국어,영어,수학,과학 점수를 입력해주세요\").split(',')\n",
    "a=list(map(int,(kor,eng,mat,sci)))\n",
    "avg = (a[0]+a[1]+a[2]+a[3]) / len(a)\n",
    "print(\"평균 점수는 {}점입니다\".format(avg))"
   ]
  },
  {
   "cell_type": "code",
   "execution_count": null,
   "id": "c6049913-564d-4645-a8b6-a6905f8d7183",
   "metadata": {},
   "outputs": [],
   "source": [
    "`"
   ]
  },
  {
   "cell_type": "code",
   "execution_count": null,
   "id": "1c139624-0e2c-46f7-9af5-6f01f6e42f95",
   "metadata": {},
   "outputs": [],
   "source": []
  },
  {
   "cell_type": "code",
   "execution_count": null,
   "id": "4e5f092f-6d5f-4415-86cb-b13ce5084d74",
   "metadata": {},
   "outputs": [],
   "source": []
  },
  {
   "cell_type": "code",
   "execution_count": null,
   "id": "e1e74e2b-2c91-4d09-868d-7c54f2cb0004",
   "metadata": {},
   "outputs": [],
   "source": []
  },
  {
   "cell_type": "code",
   "execution_count": null,
   "id": "66ca0df8-bf5a-4103-ba79-9c0965620dc3",
   "metadata": {},
   "outputs": [],
   "source": []
  },
  {
   "cell_type": "code",
   "execution_count": null,
   "id": "716b5581-6bbf-40b6-9ab6-a0b36742a1c1",
   "metadata": {},
   "outputs": [],
   "source": []
  },
  {
   "cell_type": "code",
   "execution_count": null,
   "id": "eb504b30-d9d7-455d-986a-72adc9382a45",
   "metadata": {},
   "outputs": [],
   "source": []
  },
  {
   "cell_type": "code",
   "execution_count": null,
   "id": "20d5e1f3-98e5-4cc9-a38e-d69ffb331577",
   "metadata": {},
   "outputs": [],
   "source": []
  }
 ],
 "metadata": {
  "kernelspec": {
   "display_name": "Python 3 (ipykernel)",
   "language": "python",
   "name": "python3"
  },
  "language_info": {
   "codemirror_mode": {
    "name": "ipython",
    "version": 3
   },
   "file_extension": ".py",
   "mimetype": "text/x-python",
   "name": "python",
   "nbconvert_exporter": "python",
   "pygments_lexer": "ipython3",
   "version": "3.9.12"
  }
 },
 "nbformat": 4,
 "nbformat_minor": 5
}
