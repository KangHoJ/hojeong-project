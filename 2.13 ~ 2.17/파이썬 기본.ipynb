{
 "cells": [
  {
   "cell_type": "markdown",
   "id": "a7d28460-cf95-453d-8fb4-69d52e8ccd79",
   "metadata": {
    "tags": []
   },
   "source": [
    "# 파이썬 기본"
   ]
  },
  {
   "cell_type": "markdown",
   "id": "e49f527d-fc83-4e0b-be10-dec1ddcc9931",
   "metadata": {},
   "source": [
    "# 2/13"
   ]
  },
  {
   "cell_type": "code",
   "execution_count": 17,
   "id": "9d03b948-d494-47d2-9009-595cb5404949",
   "metadata": {},
   "outputs": [
    {
     "name": "stdout",
     "output_type": "stream",
     "text": [
      "Hello, world!\n",
      "Hello, world!\n",
      "Python Programming\n",
      "\n",
      "Hello, world!\n",
      "Hello, world!\n",
      "Python Programming\n"
     ]
    }
   ],
   "source": [
    "a = 'Hello, world!'\n",
    "b = 'Python Programming'\n",
    "\n",
    "print(a)\n",
    "print(a)\n",
    "print(b)\n",
    "\n",
    "print(\"\")\n",
    "\n",
    "print(a+'\\n'+a+'\\n'+b)"
   ]
  },
  {
   "cell_type": "code",
   "execution_count": 27,
   "id": "34839930-cba1-49c6-ad89-ab2e49040a4f",
   "metadata": {},
   "outputs": [
    {
     "name": "stdout",
     "output_type": "stream",
     "text": [
      "89 28.2 3 1\n"
     ]
    }
   ],
   "source": [
    "a= 13 + (22-3) *4\n",
    "b= 13+((22-3)*4)/5\n",
    "c= 7//2 # 몫 구하기 \n",
    "d= 7%2 # 나머지 구하기\n",
    "print(a,b,c,d)"
   ]
  },
  {
   "cell_type": "code",
   "execution_count": 37,
   "id": "31de359c-b519-4fd6-b7f2-a7179749a0a5",
   "metadata": {},
   "outputs": [
    {
     "name": "stdout",
     "output_type": "stream",
     "text": [
      "가장 시끄러운 층은 = 7 층\n",
      "가장 시끄러운 층은 = 7층 \n"
     ]
    }
   ],
   "source": [
    "m=12\n",
    "a=int(0.2467 * m + 4.159)\n",
    "print('가장','시끄러운','층은','=',a,'층')\n",
    "print('가장 시끄러운 층은 = {}층 '.format(a))"
   ]
  },
  {
   "cell_type": "markdown",
   "id": "197212a6-9178-4fd7-9a1c-e8e5c511e2d3",
   "metadata": {},
   "source": [
    "#### 연습문제(지불금액)"
   ]
  },
  {
   "cell_type": "code",
   "execution_count": 48,
   "id": "e5305048-b220-4225-8a16-676b1f111f5f",
   "metadata": {},
   "outputs": [
    {
     "name": "stdout",
     "output_type": "stream",
     "text": [
      "총 지불 해야 할 금액은 16500000원 입니다.\n"
     ]
    }
   ],
   "source": [
    "people = 250\n",
    "tax = 0.1 * 20000 * people * 3 \n",
    "fee = (20000 * 3 * people) + tax     \n",
    "print('총 지불 해야 할 금액은 {}원 입니다.'.format(int(fee)))"
   ]
  },
  {
   "cell_type": "code",
   "execution_count": 47,
   "id": "8dce35d0-46a5-479a-98a5-d1d27768b3ac",
   "metadata": {},
   "outputs": [
    {
     "data": {
      "text/plain": [
       "'0b10110'"
      ]
     },
     "execution_count": 47,
     "metadata": {},
     "output_type": "execute_result"
    }
   ],
   "source": [
    "bin(22) # 22를 2진수로 표현 (ob뒤부터 )"
   ]
  },
  {
   "cell_type": "code",
   "execution_count": 58,
   "id": "4d284c4f-6ce2-45cd-bf25-3244eed4d481",
   "metadata": {},
   "outputs": [
    {
     "name": "stdout",
     "output_type": "stream",
     "text": [
      "30\n"
     ]
    }
   ],
   "source": [
    "a= 10\n",
    "a+= 20\n",
    "print(a)"
   ]
  },
  {
   "cell_type": "markdown",
   "id": "62d5606f-39a9-4d24-8a35-5e0d14975e6d",
   "metadata": {},
   "source": [
    "- 문자열 리터럴"
   ]
  },
  {
   "cell_type": "code",
   "execution_count": 40,
   "id": "a5275d62-7f0a-4bea-a882-c479c29dfd3b",
   "metadata": {},
   "outputs": [
    {
     "name": "stdout",
     "output_type": "stream",
     "text": [
      "'안녕?'이라는 그 인사를 듣고 나는 '누구지?'라고 생각했다.\n",
      "\"안녕?\"이라는 그 인사를 듣고 나는 '누구지'라고 생각했다\n"
     ]
    }
   ],
   "source": [
    "print(\"'안녕?'이라는 그 인사를 듣고 나는 '누구지?'라고 생각했다.\")\n",
    "print('\"안녕?\"이라는 그 인사를 듣고 나는 \\'누구지\\'라고 생각했다') # \\는 \"\" 두개 사용 가능하도록 한다 ."
   ]
  },
  {
   "cell_type": "code",
   "execution_count": 38,
   "id": "f4f093f6-5c91-43f6-9f50-a9c4601c897d",
   "metadata": {},
   "outputs": [
    {
     "name": "stdout",
     "output_type": "stream",
     "text": [
      "c:\n",
      "name\n",
      "c:\\nname\n",
      " \n",
      "안녕하새요 , \n",
      "나는 파이썬을 공부하고 있습니다 . \n",
      "반갑습니다 \n",
      "\n",
      "안녕하새요 , \n",
      "나는 파이썬을 공부하고 있습니다 . \n",
      "반갑습니다\n",
      " \n",
      "\"안녕하세요\" , \n",
      "나는 파이썬을 공부하고 있습니다 . \n",
      "반갑습니다\n",
      "너무 너무 너무 너무 너무 너무 파이썬 공부가 즐겁습니다.\n"
     ]
    }
   ],
   "source": [
    "s0 = 'c:\\nname' # \\n 을 줄바꿈 용도로 사용할떄 \n",
    "\n",
    "s1 = r'c:\\nname' # \\n 문자 그대로 사용하고 싶을떄\n",
    "\n",
    "s2 = \"\"\" \n",
    "안녕하새요 , \n",
    "나는 파이썬을 공부하고 있습니다 . \n",
    "반갑습니다 \n",
    "\"\"\" # 3중 따옴표(\"\"\")를 사용하면 자동으로 줄바꿈\n",
    "\n",
    "\n",
    "\n",
    "s3 = \"\"\"\\\n",
    "안녕하새요 , \n",
    "나는 파이썬을 공부하고 있습니다 . \n",
    "반갑습니다\\\n",
    "\"\"\" # \\를 사용해서 줄바꿈을 막음\n",
    "\n",
    "\n",
    "s4 = \"\"\" \n",
    "\\\"안녕하세요\" , \n",
    "나는 파이썬을 공부하고 있습니다 . \n",
    "반갑습니다\\\n",
    "\"\"\"\n",
    "\n",
    "\n",
    "print(s0)\n",
    "print(s1)\n",
    "print(s2)\n",
    "print(s3)\n",
    "print(s4)\n"
   ]
  },
  {
   "cell_type": "markdown",
   "id": "4ad43b92-9b45-4347-a1bd-700470a60044",
   "metadata": {},
   "source": [
    "# 2/14"
   ]
  },
  {
   "cell_type": "markdown",
   "id": "cab293a5-de08-4917-a98b-8be33e0a7bd4",
   "metadata": {},
   "source": [
    "- 반복문"
   ]
  },
  {
   "cell_type": "code",
   "execution_count": 42,
   "id": "144d22a8-c6e0-49d0-8846-de533b3fdf39",
   "metadata": {},
   "outputs": [
    {
     "name": "stdout",
     "output_type": "stream",
     "text": [
      "너무너무너무너무너무너무너무너무너무너무파이썬 공부가 즐겁습니다.\n"
     ]
    }
   ],
   "source": [
    "a = \"너무\" * 10 + \"파이썬 공부가 즐겁습니다.\"\n",
    "print(a)"
   ]
  },
  {
   "cell_type": "markdown",
   "id": "bf8b08ea-ba36-4f85-a2e0-969df07c4cc9",
   "metadata": {},
   "source": [
    "- indexing"
   ]
  },
  {
   "cell_type": "code",
   "execution_count": 64,
   "id": "ef25bad6-0eb3-43bf-8678-4197411eee70",
   "metadata": {},
   "outputs": [
    {
     "name": "stdout",
     "output_type": "stream",
     "text": [
      "py\n",
      "pto\n",
      "꺾\n",
      "꺾이지 않는 마음\n",
      "한요중\n",
      "한요중\n"
     ]
    }
   ],
   "source": [
    "word = 'python'\n",
    "print(word[0:2]) # 0~1 -> py\n",
    "print(word[::2]) # 증감 2 -> pto\n",
    "\n",
    "sentence = '중요한 것은 꺾이지 않는 마음'\n",
    "print(sentence[7])\n",
    "print(sentence[7:])\n",
    "print(sentence[0:3][::-1]) # 역으로 뒤집기 위해 [::-1]사용 (방법1)\n",
    "print(sentence[2::-1]) # 2부터 -1씩 감소 (방법2)\n"
   ]
  },
  {
   "cell_type": "markdown",
   "id": "d8f6bd47-a345-4e15-bcc3-9b36ece70eff",
   "metadata": {},
   "source": [
    "- list"
   ]
  },
  {
   "cell_type": "code",
   "execution_count": 97,
   "id": "e3aeeecb-f7a7-4f14-b9e8-1313a333b232",
   "metadata": {},
   "outputs": [
    {
     "name": "stdout",
     "output_type": "stream",
     "text": [
      "[1, 4, 9, 16, 25]\n",
      "1\n",
      "25\n",
      "[1, 4, 9, 16, 25, 2, 3, 4, 5]\n",
      "[1, 4, 9, 16, 25, 1, 4, 9, 16, 25, 1, 4, 9, 16, 25]\n",
      "True\n",
      "False\n"
     ]
    }
   ],
   "source": [
    "s = [1**1 , 2**2 , 3**2 , 4**2 , 5**2]\n",
    "print(s)\n",
    "print(s[0])\n",
    "print(s[-1])\n",
    "print(s + [2,3,4,5])\n",
    "print(s *3)\n",
    "\n",
    "s[1:3] = [10,10] # 리스트는 값 변경 가능\n",
    "s\n",
    "\n",
    "a = [ 'a' , 'b' , 'c']\n",
    "n = [ 1,2,3]\n",
    "x = [a,n]\n",
    "x[0][2] #a 라는 묶금안에 c를 출력 \n"
   ]
  },
  {
   "cell_type": "code",
   "execution_count": 6,
   "id": "fa489685-e588-4e00-990d-6bc2f70825d5",
   "metadata": {},
   "outputs": [
    {
     "name": "stdout",
     "output_type": "stream",
     "text": [
      "True\n",
      "False\n",
      "[]\n"
     ]
    }
   ],
   "source": [
    "numbers = [1,2,3,4,5,6,7]\n",
    "print(5 in numbers)\n",
    "print(10 in numbers)\n",
    "\n",
    "#추가\n",
    "numbers.append(8)\n",
    "numbers.insert(4,0) # index 4 위치에 0을 넣겠다 \n",
    "numbers.extend([9,10,11]) # 뒤에 9,10,11 추가해줌\n",
    "#삭제\n",
    "numbers.remove(1) #0을 삭제하는데 중복시 가장 앞에있는것만 삭제\n",
    "numbers.pop() # 요소를 제거를 하고 반환(인자 없으면 가장 마지막 제거)\n",
    "#조회\n",
    "numbers.index(4) # 4가 index 어디 위치해 있는지 찾아줌 \n",
    "numbers.count(4) # 4가 리스트 안에 몇개 있는지\n",
    "#변경 \n",
    "numbers.sort() # 리스트 정렬 \n",
    "numbers.reverse() # 순서가 뒤집힌다 \n",
    "numbers.clear() #리스트를 비워준다 \n",
    "\n",
    "# 튜플에서는 index , count 만 사용가능\n",
    "print(numbers)"
   ]
  },
  {
   "cell_type": "code",
   "execution_count": 83,
   "id": "1e218c53-f920-4228-a02d-edd0be7d20cf",
   "metadata": {},
   "outputs": [
    {
     "data": {
      "text/plain": [
       "False"
      ]
     },
     "execution_count": 83,
     "metadata": {},
     "output_type": "execute_result"
    }
   ],
   "source": [
    "sc = [88,73,89,59,77]\n",
    "sc[0]>60 and sc[1]>60 and sc[2]>60 and sc[3]>60 and sc[4]>60 "
   ]
  },
  {
   "cell_type": "markdown",
   "id": "381dba08-8125-4189-822f-753a9bd8789e",
   "metadata": {},
   "source": [
    "- tuple(불변)\n"
   ]
  },
  {
   "cell_type": "code",
   "execution_count": 11,
   "id": "e7a39de6-db40-4672-9506-5a6c5735567f",
   "metadata": {},
   "outputs": [
    {
     "name": "stdout",
     "output_type": "stream",
     "text": [
      "(1, 2, 3, 4, 5, 'hello')\n"
     ]
    }
   ],
   "source": [
    "t = (1,2,3,4,5,'hello')\n",
    "print(t)"
   ]
  },
  {
   "cell_type": "markdown",
   "id": "7664e30c-a1e8-4001-8b85-a3790c80010e",
   "metadata": {},
   "source": [
    "input_value = int(input(\"정수를 입력해주세요:\"))\n",
    "print(input_value)"
   ]
  },
  {
   "cell_type": "code",
   "execution_count": null,
   "id": "f4067aca-604b-4442-9a0e-fc702f2f3c27",
   "metadata": {},
   "outputs": [
    {
     "name": "stdin",
     "output_type": "stream",
     "text": [
      "이름을 입력하시오 강호정\n"
     ]
    },
    {
     "name": "stdout",
     "output_type": "stream",
     "text": [
      "강호정 씨 안녕하세요 ?\n",
      "파이썬에 오신 것을 환영합니다\n"
     ]
    },
    {
     "name": "stdin",
     "output_type": "stream",
     "text": [
      "첫 번째 정수를 입력하세요: 1\n",
      "두 번째 정수를 입력하세요: 2\n"
     ]
    },
    {
     "name": "stdout",
     "output_type": "stream",
     "text": [
      "1 과 2 의 합은 3 입니다.\n",
      "1과 2의 합은 3입니다\n"
     ]
    }
   ],
   "source": [
    "name = input('이름을 입력하시오')\n",
    "print(name, \"씨 안녕하세요 ?\\n파이썬에 오신 것을 환영합니다\")\n",
    "a= int(input('첫 번째 정수를 입력하세요:'))\n",
    "b= int(input('두 번째 정수를 입력하세요:'))\n",
    "# print(a,'과',b,'의 합은',a+b,'입니다.') # 방법 1 \n",
    "print('{} 과 {}의 합은 {}입니다'.format(a,b,a+b)) # 방법 2"
   ]
  },
  {
   "cell_type": "markdown",
   "id": "adcbc9fd-bd9b-487c-a915-71f4c5ec76e9",
   "metadata": {},
   "source": [
    "#### 연습문제(야구 뉴스 기사)"
   ]
  },
  {
   "cell_type": "code",
   "execution_count": null,
   "id": "4c58ab89-e49f-45e1-96f8-28904776288d",
   "metadata": {},
   "outputs": [
    {
     "name": "stdin",
     "output_type": "stream",
     "text": [
      "경기장은 어디입니까? 고척\n",
      "이긴 팀은 어디 입니까? KT\n",
      "진 팀은 어디 입니까? LG\n",
      "우수 선수는 누구입니까? 강백ㅎ\n",
      "스코어는 몇대 몇 입니까? 10:8\n"
     ]
    },
    {
     "name": "stdout",
     "output_type": "stream",
     "text": [
      "속보 KT가 10:8로 승리 ... \n",
      "오늘 고척 경기장에서 야구 경기가 있었습니다 .\n",
      "KT와 LG는 치열한 공방전을 펼첬습니다.\n",
      "이 경기에서 강백ㅎ가 맹확약을 했습니다.\n",
      "그 끝내 KT가 LG를 10:8로 승리하였습니다.\n",
      "기사 끝\n"
     ]
    }
   ],
   "source": [
    "stadium = input(\"경기장은 어디입니까?\")\n",
    "win = input(\"이긴 팀은 어디 입니까?\")\n",
    "lose = input(\"진 팀은 어디 입니까?\")     \n",
    "player = input(\"우수 선수는 누구입니까?\")\n",
    "score = input('스코어는 몇대 몇 입니까?')\n",
    "              \n",
    "print(\"속보 {}가 {}로 승리 ... \\n오늘 고척 경기장에서 야구 경기가 있었습니다 .\\n{}와 {}는 치열한 공방전을 펼첬습니다.\\n이 경기에서 {}가 맹확약을 했습니다.\\n그 끝내 {}가 {}를 {}로 승리하였습니다.\\n기사 끝\".format(win,score,win,lose,player,win,lose,score))"
   ]
  },
  {
   "cell_type": "code",
   "execution_count": 36,
   "id": "38c66efd-3335-4121-947a-87500f66df86",
   "metadata": {},
   "outputs": [
    {
     "name": "stdout",
     "output_type": "stream",
     "text": [
      "<class 'list'>\n",
      "['1', '2', '3']\n"
     ]
    }
   ],
   "source": [
    "result = '1,2,3'.split(',')\n",
    "print(type(result)) #split 으로 쪼개면 list 형으로 나온다\n",
    "print(result)"
   ]
  },
  {
   "cell_type": "markdown",
   "id": "bbec6d94-a52e-401d-8e97-f670313d2a6f",
   "metadata": {},
   "source": [
    "#### 연습문제(시간 출력)"
   ]
  },
  {
   "cell_type": "code",
   "execution_count": 45,
   "id": "3495cd5f-2a4a-45f9-9041-0432dcf45ea1",
   "metadata": {},
   "outputs": [
    {
     "name": "stdin",
     "output_type": "stream",
     "text": [
      "hh:mm:ss 의 형태로 시간을 입력해주세요 12:33:23\n"
     ]
    },
    {
     "name": "stdout",
     "output_type": "stream",
     "text": [
      "시 : 12\n",
      "분 : 33 \n",
      "초 : 23\n"
     ]
    }
   ],
   "source": [
    "time = input('hh:mm:ss 의 형태로 시간을 입력해주세요')\n",
    "t= time.split(':')\n",
    "print('시 : {}\\n분 : {} \\n초 : {}'.format(t[0],t[1],t[2]))"
   ]
  },
  {
   "cell_type": "markdown",
   "id": "f8acd478-e6d6-4733-a86b-78dcaef56dfb",
   "metadata": {},
   "source": [
    "- map"
   ]
  },
  {
   "cell_type": "code",
   "execution_count": 47,
   "id": "af0853c9-11f3-4dd7-88c3-2fe5bbba69f6",
   "metadata": {},
   "outputs": [
    {
     "name": "stdout",
     "output_type": "stream",
     "text": [
      "[1, 2, 3, 4]\n"
     ]
    }
   ],
   "source": [
    "a = [1.2 , 2.5 , 3.7 , 4.6]\n",
    "a = list(map(int,a)) # a라는 요소들을 int를 적용시켜 list로 변환시킴\n",
    "print(a)"
   ]
  },
  {
   "cell_type": "markdown",
   "id": "7d059b20-2972-46d0-969e-5c772e2dea97",
   "metadata": {},
   "source": [
    "#### 연습문제(maping)"
   ]
  },
  {
   "cell_type": "code",
   "execution_count": 72,
   "id": "a490c2a3-48b0-40b8-a20f-c0767a98bfc1",
   "metadata": {},
   "outputs": [
    {
     "name": "stdin",
     "output_type": "stream",
     "text": [
      "국어,영어,수학,과학 점수를 입력해주세요 98,100,96,100\n"
     ]
    },
    {
     "name": "stdout",
     "output_type": "stream",
     "text": [
      "평균 점수는 98.5점입니다\n"
     ]
    }
   ],
   "source": [
    "kor,eng,mat,sci = input(\"국어,영어,수학,과학 점수를 입력해주세요\").split(',')\n",
    "a = [kor,eng,mat,sci]\n",
    "a = list(map(int,a)) a리스트 모두에 int적용\n",
    "avg = (a[0]+a[1]+a[2]+a[3]) / len(a)\n",
    "print(\"평균 점수는 {}점입니다\".format(avg))"
   ]
  },
  {
   "cell_type": "code",
   "execution_count": 8,
   "id": "e51f44ae-0215-4fa4-a5a0-2edd44980e56",
   "metadata": {},
   "outputs": [
    {
     "name": "stdin",
     "output_type": "stream",
     "text": [
      "국어,영어,수학,과학 점수를 입력해주세요 1,1,1,1\n"
     ]
    },
    {
     "name": "stdout",
     "output_type": "stream",
     "text": [
      "평균 점수는 1.0점입니다\n"
     ]
    }
   ],
   "source": [
    "kor,eng,mat,sci = input(\"국어,영어,수학,과학 점수를 입력해주세요\").split(',')\n",
    "a=list(map(int,(kor,eng,mat,sci)))\n",
    "avg = (a[0]+a[1]+a[2]+a[3]) / len(a)\n",
    "print(\"평균 점수는 {}점입니다\".format(avg))"
   ]
  },
  {
   "cell_type": "code",
   "execution_count": 1,
   "id": "f9e5b131-ebac-4cc0-852e-1d71110440be",
   "metadata": {},
   "outputs": [
    {
     "name": "stdin",
     "output_type": "stream",
     "text": [
      "사과와 귤을 몇개 드릴까요? 1,2\n"
     ]
    },
    {
     "name": "stdout",
     "output_type": "stream",
     "text": [
      "총 가격은 1400원입니다.\n"
     ]
    }
   ],
   "source": [
    "apple , orange = input('사과와 귤을 몇개 드릴까요?').split(',')\n",
    "a = list(map(int,(apple,orange)))\n",
    "total = 1000 * a[0] + 200 * a[1]  \n",
    "print('총 가격은 {}원입니다.'.format(total))"
   ]
  },
  {
   "cell_type": "markdown",
   "id": "cc9b0b1a-439b-4791-8fab-f59ecbc2d9eb",
   "metadata": {},
   "source": [
    "# 2/15"
   ]
  },
  {
   "cell_type": "markdown",
   "id": "d52ee70c-454a-4a11-8eeb-0294c546ae01",
   "metadata": {},
   "source": [
    "- sep , end"
   ]
  },
  {
   "cell_type": "code",
   "execution_count": 15,
   "id": "4e5f092f-6d5f-4415-86cb-b13ce5084d74",
   "metadata": {},
   "outputs": [
    {
     "name": "stdout",
     "output_type": "stream",
     "text": [
      "value,1,1.1,[1, 2, 'text']\n"
     ]
    }
   ],
   "source": [
    "print('value',1,1.1,[1,2,'text'],sep=',')"
   ]
  },
  {
   "cell_type": "code",
   "execution_count": 24,
   "id": "4ec5190e-f19a-43b3-b918-a94dfa4be2a7",
   "metadata": {},
   "outputs": [
    {
     "name": "stdout",
     "output_type": "stream",
     "text": [
      "2021/02/03 18:33:23\n"
     ]
    }
   ],
   "source": [
    "year = '2021'\n",
    "month = '02'\n",
    "day = '03'\n",
    "hour = '18'\n",
    "minute = '33'\n",
    "second = '23'\n",
    "\n",
    "print(year,month,day,sep='/',end=' ')\n",
    "print(hour,minute,second,sep=':')\n",
    "\n"
   ]
  },
  {
   "cell_type": "markdown",
   "id": "c49126e2-3cb9-40be-bb6d-fc3e02330abd",
   "metadata": {},
   "source": [
    "#### 연습문제(오늘의 날짜)"
   ]
  },
  {
   "cell_type": "code",
   "execution_count": 38,
   "id": "7675f2f8-96ce-4223-b885-52a2a24322ba",
   "metadata": {},
   "outputs": [
    {
     "name": "stdout",
     "output_type": "stream",
     "text": [
      " 오늘의 날짜를 알려드립니다 !\n",
      "2023년 2월 15일 입니다.\n",
      "\n"
     ]
    }
   ],
   "source": [
    "import time\n",
    "\n",
    "today = ''' 오늘의 날짜를 알려드립니다 !\n",
    "{}년 {}월 {}일 입니다.\n",
    "'''.format(time.localtime().tm_year,\n",
    "           time.localtime().tm_mon,\n",
    "           time.localtime().tm_mday)\n",
    "\n",
    "print(today)"
   ]
  },
  {
   "cell_type": "code",
   "execution_count": 41,
   "id": "92fba521-3357-4fbe-9885-7510193dc9d7",
   "metadata": {},
   "outputs": [
    {
     "name": "stdout",
     "output_type": "stream",
     "text": [
      "오늘의 날짜를 알려드립니다 !\n",
      "2023년 2월 15일입니다.\n",
      "\n"
     ]
    }
   ],
   "source": [
    "import time\n",
    "\n",
    "today =f\"\"\"오늘의 날짜를 알려드립니다 !\n",
    "{time.localtime().tm_year}년 {time.localtime().tm_mon}월 {time.localtime().tm_mday}일입니다.\n",
    "\"\"\"\n",
    "print(today)"
   ]
  },
  {
   "cell_type": "markdown",
   "id": "c744c031-ed0a-463d-9172-66974ebe0aab",
   "metadata": {},
   "source": [
    "- if문"
   ]
  },
  {
   "cell_type": "code",
   "execution_count": 47,
   "id": "0b840147-1f5b-45a5-bdaf-0dd557f77614",
   "metadata": {},
   "outputs": [
    {
     "name": "stdout",
     "output_type": "stream",
     "text": [
      "input_value4는 정수입니다.\n"
     ]
    }
   ],
   "source": [
    "input_value4 =8\n",
    "if type(input_value4) is int:\n",
    "    print(\"input_value4는 정수입니다.\") # 정수가 맞으면 출력 "
   ]
  },
  {
   "cell_type": "code",
   "execution_count": 53,
   "id": "fab19670-bae5-4855-b356-297b909b40a0",
   "metadata": {},
   "outputs": [
    {
     "name": "stdout",
     "output_type": "stream",
     "text": [
      "10보다 큽니다\n"
     ]
    }
   ],
   "source": [
    "c= 11\n",
    "\n",
    "if c > 10:\n",
    "    print('10보다 큽니다')\n",
    "elif c < 5:\n",
    "    print('10보다 작고 , 5보다도 작습니다')\n",
    "elif True:\n",
    "    print(\"10보다 작고 , 5보단 큽니다\")"
   ]
  },
  {
   "cell_type": "code",
   "execution_count": 55,
   "id": "ce18f66d-beab-4586-ab62-36fcd8bc931e",
   "metadata": {},
   "outputs": [
    {
     "name": "stdout",
     "output_type": "stream",
     "text": [
      "오우 불혹을 넘기셨군요\n",
      "감사합니다.\n"
     ]
    }
   ],
   "source": [
    "age = 40\n",
    "\n",
    "if 20 <= age <30:\n",
    "    print(\"20대 입니다.\")\n",
    "elif 30 <= age < 40:\n",
    "    print(\"30대 입니다.\")\n",
    "else:\n",
    "    print(\"오우 불혹을 넘기셨군요\")\n",
    "    \n",
    "print(\"감사합니다.\")"
   ]
  },
  {
   "cell_type": "code",
   "execution_count": 70,
   "id": "ce4ae9c3-9120-4f46-b402-56c674517d16",
   "metadata": {},
   "outputs": [
    {
     "name": "stdin",
     "output_type": "stream",
     "text": [
      "아이디를 입력하세요: dd\n",
      "회원 등급을 입력해주세요 2\n"
     ]
    },
    {
     "name": "stdout",
     "output_type": "stream",
     "text": [
      "제한적인 권한을 갖습니다.\n"
     ]
    }
   ],
   "source": [
    "user = input(\"아이디를 입력하세요:\")\n",
    "\n",
    "if user == 'admin':\n",
    "    print(\"최고 관리자, 모든 권한을 갖습니다.\")\n",
    "    \n",
    "else:\n",
    "    number = int(input(\"회원 등급을 입력해주세요\"))\n",
    "    if number >= 1 and number <=3:\n",
    "        print(\"제한적인 권한을 갖습니다.\")\n",
    "    else:\n",
    "        print(\"권한이 없습니다.\")"
   ]
  },
  {
   "cell_type": "code",
   "execution_count": 79,
   "id": "66ca0df8-bf5a-4103-ba79-9c0965620dc3",
   "metadata": {},
   "outputs": [
    {
     "name": "stdin",
     "output_type": "stream",
     "text": [
      "자연수 하나 입력해주세요: 30\n"
     ]
    },
    {
     "name": "stdout",
     "output_type": "stream",
     "text": [
      "0\n"
     ]
    }
   ],
   "source": [
    "a = input(\"자연수 하나 입력해주세요:\")\n",
    "b = int(a)-50\n",
    "\n",
    "if b >= 0:\n",
    "    print(b)\n",
    "    \n",
    "elif b < 0:\n",
    "    print(0)\n"
   ]
  },
  {
   "cell_type": "code",
   "execution_count": 86,
   "id": "716b5581-6bbf-40b6-9ab6-a0b36742a1c1",
   "metadata": {},
   "outputs": [
    {
     "name": "stdin",
     "output_type": "stream",
     "text": [
      "자연수 하나 입력해주세요: 13\n"
     ]
    },
    {
     "name": "stdout",
     "output_type": "stream",
     "text": [
      "홀수입니다\n"
     ]
    }
   ],
   "source": [
    "number = int(input(\"자연수 하나 입력해주세요:\"))\n",
    "\n",
    "if number % 2 == 0 :\n",
    "    print(\"짝수입니다\")\n",
    "else:\n",
    "    print(\"홀수입니다\")\n"
   ]
  },
  {
   "cell_type": "markdown",
   "id": "a47543ba-730d-4f5a-bb45-20a512a8944e",
   "metadata": {},
   "source": [
    "#### 연습문제(if문)"
   ]
  },
  {
   "cell_type": "code",
   "execution_count": 101,
   "id": "eb504b30-d9d7-455d-986a-72adc9382a45",
   "metadata": {},
   "outputs": [
    {
     "name": "stdin",
     "output_type": "stream",
     "text": [
      "소프트웨어 설계 점수를 입력하세요 17\n",
      "소프트웨어 개발 점수를 입력하세요 2\n",
      "데이터베이스 구축 점수를 입력하세요 2\n",
      "프로그래밍 언어 활용 점수를 입력하세요 2\n",
      "정보시스템 구축 점수를 입력하세요 -8\n"
     ]
    },
    {
     "name": "stdout",
     "output_type": "stream",
     "text": [
      "잘못된 점수입니다\n"
     ]
    }
   ],
   "source": [
    "# 방법1\n",
    "a = int(input(\"소프트웨어 설계 점수를 입력하세요\"))\n",
    "b = int(input(\"소프트웨어 개발 점수를 입력하세요\"))\n",
    "c = int(input(\"데이터베이스 구축 점수를 입력하세요\"))\n",
    "d = int(input(\"프로그래밍 언어 활용 점수를 입력하세요\"))\n",
    "e = int(input(\"정보시스템 구축 점수를 입력하세요\"))\n",
    "avg = (a+b+c+d+e)/5\n",
    "\n",
    "if a >100 or a<0  or b >100 or b<0 or c>100 or c<0 or d>100 or d<0 or e>100 or e<0:\n",
    "    print(\"잘못된 점수입니다\")    \n",
    "elif avg >=60:\n",
    "    print(\"합격\")\n",
    "else:\n",
    "    print(\"불합격\")"
   ]
  },
  {
   "cell_type": "code",
   "execution_count": 104,
   "id": "688d321a-b26e-47c9-afed-145e0912ea78",
   "metadata": {},
   "outputs": [
    {
     "name": "stdin",
     "output_type": "stream",
     "text": [
      "소프트웨어 설계 점수를 입력하세요 1\n",
      "소프트웨어 개발 점수를 입력하세요 1\n",
      "데이터베이스 구축 점수를 입력하세요 1\n",
      "프로그래밍 언어 활용 점수를 입력하세요 1\n",
      "정보시스템 구축 점수를 입력하세요 1\n"
     ]
    },
    {
     "name": "stdout",
     "output_type": "stream",
     "text": [
      "불합격\n"
     ]
    }
   ],
   "source": [
    "# 방벙 2 \n",
    "a = int(input(\"소프트웨어 설계 점수를 입력하세요\"))\n",
    "b = int(input(\"소프트웨어 개발 점수를 입력하세요\"))\n",
    "c = int(input(\"데이터베이스 구축 점수를 입력하세요\"))\n",
    "d = int(input(\"프로그래밍 언어 활용 점수를 입력하세요\"))\n",
    "e = int(input(\"정보시스템 구축 점수를 입력하세요\"))\n",
    "\n",
    "k = [a,b,c,d,e]\n",
    "\n",
    "if max(k)>100 or min(k)<0:\n",
    "    print(\"잘못된 함수입니다\")\n",
    "elif sum(k)/len(k)>=60:\n",
    "    print(\"합격\")\n",
    "else:\n",
    "    print(\"불합격\")"
   ]
  },
  {
   "cell_type": "code",
   "execution_count": 120,
   "id": "bb36c0b4-ce29-483f-85f2-52150bf61ed2",
   "metadata": {},
   "outputs": [
    {
     "name": "stdin",
     "output_type": "stream",
     "text": [
      "현재 물의 온도를 입력해주세요: 1\n"
     ]
    },
    {
     "name": "stdout",
     "output_type": "stream",
     "text": [
      "액체로 예상됩니다\n"
     ]
    }
   ],
   "source": [
    "water = float(input(\"현재 물의 온도를 입력해주세요:\")) # 물의 상태가 정수가 아닌 숫자를 입력할수도 있으므로 float 을 붙여줌\n",
    "              \n",
    "if water >= 100:\n",
    "    print(\"기체로 예상됩니다\")\n",
    "elif water >=0:\n",
    "    print(\"액체로 예상됩니다\")\n",
    "else:\n",
    "    print(\"고체로 예상됩니다\")"
   ]
  },
  {
   "cell_type": "code",
   "execution_count": 133,
   "id": "542e576a-b48c-453d-9756-5ccbe78a80a6",
   "metadata": {},
   "outputs": [
    {
     "name": "stdin",
     "output_type": "stream",
     "text": [
      "자신의 나이를 입력하세요 12\n"
     ]
    },
    {
     "name": "stdout",
     "output_type": "stream",
     "text": [
      "1100원\n"
     ]
    }
   ],
   "source": [
    "age = int(input(\"자신의 나이를 입력하세요\"))\n",
    "\n",
    "if age >= 19:\n",
    "    print('1500원')\n",
    "elif age >= 12: \n",
    "    print(\"1100원\")\n",
    "elif age >=6:\n",
    "    print(\"800원\")\n",
    "else:\n",
    "    print(\"무료입니다\")"
   ]
  },
  {
   "cell_type": "code",
   "execution_count": 8,
   "id": "6543fb3a-c17a-4465-928c-ba237e34d332",
   "metadata": {},
   "outputs": [
    {
     "name": "stdin",
     "output_type": "stream",
     "text": [
      "발주 수량을 입력하세요: 2001\n"
     ]
    },
    {
     "name": "stdout",
     "output_type": "stream",
     "text": [
      "2001개를 주문하셨습니다.\n",
      "적용 할인율은 20% 입니다\n",
      "총 발주 금액은 16008.0 입니다\n"
     ]
    }
   ],
   "source": [
    "a = int(input(\"발주 수량을 입력하세요:\"))\n",
    "b= 10\n",
    "      \n",
    "if a > 2000:\n",
    "    print(\"{}개를 주문하셨습니다.\".format(a))\n",
    "    print(\"적용 할인율은 {}% 입니다\".format(20))\n",
    "    print('총 발주 금액은 {} 입니다'.format(a*b-(a*b*0.2)))\n",
    "elif a > 1500:\n",
    "    print(\"{}개를 주문하셨습니다.\".format(a))\n",
    "    print(\"적용 할인율은 {}% 입니다\".format(10))\n",
    "    print('총 발주 금액은 {} 입니다'.format(a*b-(a*b*0.1)))\n",
    "elif a > 1000:\n",
    "    print(\"{}개를 주문하셨습니다.\".format(a))\n",
    "    print(\"적용 할인율은 {}% 입니다\".format(5))\n",
    "    print('총 발주 금액은 {} 입니다'.format(a*b-(a*b*0.05)))\n",
    "else:\n",
    "    print(\"{}개를 주문하셨습니다.\".format(a))\n",
    "    print(\"적용 할인율은 {}% 입니다\".format(0))\n",
    "    print('총 발주 금액은 {} 입니다'.format(a*b))\n"
   ]
  },
  {
   "cell_type": "code",
   "execution_count": 4,
   "id": "52bfbb7f-cbb9-4c54-8e76-441ba88d88b2",
   "metadata": {},
   "outputs": [
    {
     "name": "stdin",
     "output_type": "stream",
     "text": [
      "주민번호 뒷자리를 입력하세요: 1234567\n"
     ]
    },
    {
     "name": "stdout",
     "output_type": "stream",
     "text": [
      "남자입니다\n"
     ]
    }
   ],
   "source": [
    "j = input(\"주민번호 뒷자리를 입력하세요:\")\n",
    "\n",
    "\n",
    "if len(j) != 7:\n",
    "    print(\"자리수를 잘못 입력했습니다\")\n",
    "elif j[0] == '1' or j[0] == '3' :\n",
    "    print(\"남자입니다\")\n",
    "elif j[0] == '2' or j[0] == '4' :\n",
    "    print(\"여자입니다\")\n",
    "else: \n",
    "    print(\"잘못된입력입니다\")\n"
   ]
  },
  {
   "cell_type": "code",
   "execution_count": 43,
   "id": "dd3db693-59f7-4c7a-85e4-8aaa3ccd7c74",
   "metadata": {},
   "outputs": [
    {
     "name": "stdin",
     "output_type": "stream",
     "text": [
      "확인할 연도를 입력하세요 1900\n"
     ]
    },
    {
     "name": "stdout",
     "output_type": "stream",
     "text": [
      "평년입니다\n"
     ]
    }
   ],
   "source": [
    "year = int(input(\"확인할 연도를 입력하세요\"))\n",
    "\n",
    "if year % 100 == 0 and year % 400 != 0:\n",
    "    print('평년입니다')\n",
    "\n",
    "elif year % 4 ==0:\n",
    "    print(\"윤년입니다\")\n",
    "       \n",
    "else:\n",
    "    print(\"평년입니다\")"
   ]
  },
  {
   "cell_type": "code",
   "execution_count": 44,
   "id": "8c84321e-64f8-49c9-8223-54077d997b7c",
   "metadata": {},
   "outputs": [
    {
     "data": {
      "text/plain": [
       "[0, 2, 4]"
      ]
     },
     "execution_count": 44,
     "metadata": {},
     "output_type": "execute_result"
    }
   ],
   "source": [
    "a = [0,1,2,3,4,5,6,7]\n",
    "a[0:5:2]"
   ]
  },
  {
   "cell_type": "code",
   "execution_count": 46,
   "id": "3f721c5c-05c6-421b-8ea0-ae3a38360fda",
   "metadata": {},
   "outputs": [
    {
     "data": {
      "text/plain": [
       "[0, 1, 2, 3, 4, 5, 6, 7]"
      ]
     },
     "execution_count": 46,
     "metadata": {},
     "output_type": "execute_result"
    }
   ],
   "source": [
    "# range(시작하는숫자(포함),끝숫자(미포함),증감)\n",
    "list(range(0,8,1))"
   ]
  },
  {
   "cell_type": "markdown",
   "id": "fe746d1b-0eb6-4554-9cd2-5fa871d2e0fe",
   "metadata": {},
   "source": [
    "# 2/16"
   ]
  },
  {
   "cell_type": "markdown",
   "id": "fdad662b-8426-4910-8aa2-4b767c899a81",
   "metadata": {},
   "source": [
    "- 반복문 "
   ]
  },
  {
   "cell_type": "code",
   "execution_count": 9,
   "id": "ee9ba8a6-a69d-4e5c-8c94-be8b8835efd0",
   "metadata": {},
   "outputs": [
    {
     "name": "stdout",
     "output_type": "stream",
     "text": [
      "[2, 4, 6, 8, 10, 12, 14, 16, 18, 20, 22, 24, 26, 28, 30, 32, 34, 36, 38, 40, 42, 44, 46, 48, 50, 52, 54, 56, 58, 60, 62, 64, 66, 68, 70, 72, 74, 76, 78, 80, 82, 84, 86, 88, 90, 92, 94, 96, 98]\n"
     ]
    }
   ],
   "source": [
    "even_number = list(range(2,100,2))\n",
    "9print(even_number)"
   ]
  },
  {
   "cell_type": "markdown",
   "id": "087833ae-b316-405d-9b46-4580ac233a58",
   "metadata": {},
   "source": [
    "--- 연습문제 ---"
   ]
  },
  {
   "cell_type": "code",
   "execution_count": 17,
   "id": "6a7709b9-0b8b-4e82-baaf-772b42c00670",
   "metadata": {},
   "outputs": [
    {
     "name": "stdout",
     "output_type": "stream",
     "text": [
      "hello world 1\n",
      "hello world 2\n",
      "hello world 3\n",
      "hello world 4\n",
      "hello world 5\n",
      "hello world 6\n",
      "hello world 7\n",
      "hello world 8\n",
      "hello world 9\n",
      "hello world 10\n",
      "끝\n"
     ]
    }
   ],
   "source": [
    "for i in range(1,11,1):\n",
    "    print('hello world {}'.format(i))\n",
    "print('끝')"
   ]
  },
  {
   "cell_type": "code",
   "execution_count": 26,
   "id": "1dd6404d-221f-4934-96d7-ad24a5037469",
   "metadata": {},
   "outputs": [
    {
     "name": "stdin",
     "output_type": "stream",
     "text": [
      "인사 몇 번 해드릴까요? 2\n"
     ]
    },
    {
     "name": "stdout",
     "output_type": "stream",
     "text": [
      "Hello world\n",
      "Hello world\n"
     ]
    }
   ],
   "source": [
    "k = int(input(\"인사 몇 번 해드릴까요?\"))\n",
    "for i in range(k):\n",
    "    print(\"Hello world\")"
   ]
  },
  {
   "cell_type": "code",
   "execution_count": 1,
   "id": "d3666ef7-5b4c-47be-b770-79710ea86020",
   "metadata": {},
   "outputs": [
    {
     "data": {
      "text/plain": [
       "[-10, -40, -70]"
      ]
     },
     "execution_count": 1,
     "metadata": {},
     "output_type": "execute_result"
    }
   ],
   "source": [
    "list(range(5,10,1))\n",
    "list(range(0,10,3))\n",
    "list(range(-10,-71,-30))\n"
   ]
  },
  {
   "cell_type": "code",
   "execution_count": 4,
   "id": "3db8888e-4f9f-4403-a73e-7b3670c7abd1",
   "metadata": {
    "tags": []
   },
   "outputs": [
    {
     "name": "stdin",
     "output_type": "stream",
     "text": [
      "자연수 하나 입력해주세요 6\n"
     ]
    },
    {
     "name": "stdout",
     "output_type": "stream",
     "text": [
      "6\t6\t6\t6\t6\t6\t\n",
      "5\t5\t5\t5\t5\t\n",
      "4\t4\t4\t4\t\n",
      "3\t3\t3\t\n",
      "2\t2\t\n",
      "1\t\n"
     ]
    }
   ],
   "source": [
    "# 도움 받아서 풀었던 문제\n",
    "number = int(input(\"자연수 하나 입력해주세요\"))\n",
    "for i in range(number,0,-1):\n",
    "     print('{}\\t'.format(i)*i)"
   ]
  },
  {
   "cell_type": "code",
   "execution_count": 2,
   "id": "b595e245-2408-4bbb-83a9-e5c6aa29cfe8",
   "metadata": {},
   "outputs": [
    {
     "name": "stdin",
     "output_type": "stream",
     "text": [
      "자연수 하나 입력해주세요 5\n"
     ]
    },
    {
     "name": "stdout",
     "output_type": "stream",
     "text": [
      "5\t5\t5\t5\t5\t\n",
      "4\t4\t4\t4\t\n",
      "3\t3\t3\t\n",
      "2\t2\t\n",
      "1\t\n"
     ]
    }
   ],
   "source": [
    "# 도움 받아서 풀었던 문제(풀이2)\n",
    "number = int(input(\"자연수 하나 입력해주세요\"))\n",
    "for i in range(number ,0 , -1):\n",
    "    for j in range(i): \n",
    "        print(i,end='\\t') \n",
    "    print() # 2번쨰 for문 끝나고 줄바꿈해줌 "
   ]
  },
  {
   "cell_type": "code",
   "execution_count": 115,
   "id": "d06df4e8-564e-4ea4-b2cf-ca192f5bc3e5",
   "metadata": {},
   "outputs": [
    {
     "name": "stdout",
     "output_type": "stream",
     "text": [
      "**********\n",
      "*        *\n",
      "*        *\n",
      "*        *\n",
      "*        *\n",
      "*        *\n",
      "*        *\n",
      "*        *\n",
      "*        *\n",
      "**********\n"
     ]
    }
   ],
   "source": [
    "# 겨우 풀었던문제\n",
    "a= '*'\n",
    "\n",
    "\n",
    "for i in range(10,0,-1):\n",
    "    if i == 10 or i == 1:\n",
    "        print('{}'.format(a)*10)\n",
    "    else:\n",
    "        print('{}'.format(a)*1 + \" \" * 8 + '{}'.format(a)*1)\n",
    "        "
   ]
  },
  {
   "cell_type": "code",
   "execution_count": 4,
   "id": "9c2b6cce-9791-4a93-8b4e-c688a5a0aef2",
   "metadata": {},
   "outputs": [
    {
     "name": "stdout",
     "output_type": "stream",
     "text": [
      "* * * * * * * * * * \n",
      "*                 *\n",
      "*                 *\n",
      "*                 *\n",
      "*                 *\n",
      "*                 *\n",
      "*                 *\n",
      "*                 *\n",
      "*                 *\n",
      "* * * * * * * * * * \n"
     ]
    }
   ],
   "source": [
    "for i in range(10):\n",
    "    if i ==0 or i==9:\n",
    "        print('* ' * 10)\n",
    "    else:\n",
    "        print('*                 *')"
   ]
  },
  {
   "cell_type": "code",
   "execution_count": 48,
   "id": "f9b32cc8-f199-4c6d-98d7-903534afb17b",
   "metadata": {},
   "outputs": [
    {
     "name": "stdin",
     "output_type": "stream",
     "text": [
      "숫자를 입력하시오 99\n"
     ]
    },
    {
     "name": "stdout",
     "output_type": "stream",
     "text": [
      "1 + 3 + 5 + 7 + 9 + 11 + 13 + 15 + 17 + 19 + 21 + 23 + 25 + 27 + 29 + 31 + 33 + 35 + 37 + 39 + 41 + 43 + 45 + 47 + 49 + 51 + 53 + 55 + 57 + 59 + 61 + 63 + 65 + 67 + 69 + 71 + 73 + 75 + 77 + 79 + 81 + 83 + 85 + 87 + 89 + 91 + 93 + 95 + 97 + 99 = 2500 \n"
     ]
    }
   ],
   "source": [
    "# 못풀었던 문제 정답\n",
    "\n",
    "even = int(input(\"숫자를 입력하시오\"))\n",
    "result = 1\n",
    "str = '1'\n",
    "\n",
    "for i in range(3,even+1,2):\n",
    "    result +=i\n",
    "    str += ' + {}'.format(i)\n",
    "str += ' = {} '.format(result)\n",
    "print(str)"
   ]
  },
  {
   "cell_type": "code",
   "execution_count": 43,
   "id": "4a0fb433-fe43-4b79-884d-7c64b51bce1e",
   "metadata": {},
   "outputs": [
    {
     "name": "stdout",
     "output_type": "stream",
     "text": [
      "1 3 5 7 9 "
     ]
    }
   ],
   "source": [
    "for i in range(1,11,2):\n",
    "    print(i,end=' ')"
   ]
  },
  {
   "cell_type": "code",
   "execution_count": 54,
   "id": "fba48601-ca14-41fe-bd93-0e79ef2fc047",
   "metadata": {},
   "outputs": [
    {
     "name": "stdin",
     "output_type": "stream",
     "text": [
      "계승을 구할 숫자를 입력하세요 7\n"
     ]
    },
    {
     "name": "stdout",
     "output_type": "stream",
     "text": [
      "5040\n"
     ]
    }
   ],
   "source": [
    "number = int(input(\"계승을 구할 숫자를 입력하세요\"))\n",
    "result = 1\n",
    "for i in range(1,number+1,1):\n",
    "    result *= i\n",
    "\n",
    "print(result)"
   ]
  },
  {
   "cell_type": "code",
   "execution_count": 64,
   "id": "73567e64-d202-49a9-8f22-ffee49860263",
   "metadata": {},
   "outputs": [
    {
     "name": "stdout",
     "output_type": "stream",
     "text": [
      "일이삼사오육"
     ]
    }
   ],
   "source": [
    "for ik in  \"일이삼사오육\":\n",
    "    print(ik, end='')"
   ]
  },
  {
   "cell_type": "code",
   "execution_count": 67,
   "id": "870f9f70-cfc6-49bc-b461-8d0d4cde73f2",
   "metadata": {},
   "outputs": [
    {
     "name": "stdout",
     "output_type": "stream",
     "text": [
      "육오사삼이일"
     ]
    }
   ],
   "source": [
    "for ik in reversed(\"일이삼사오육\"):\n",
    "    print(ik,end = \"\")"
   ]
  },
  {
   "cell_type": "code",
   "execution_count": 70,
   "id": "c7ac3b64-837c-4ec9-ad0b-8c9952e307b0",
   "metadata": {},
   "outputs": [
    {
     "name": "stdout",
     "output_type": "stream",
     "text": [
      "100 -420 250 1030 210 770 240 "
     ]
    }
   ],
   "source": [
    "x = [10,-42,25,103,21,77,24]\n",
    "for k in x:\n",
    "    print(k*10,end=\" \")"
   ]
  },
  {
   "cell_type": "code",
   "execution_count": 112,
   "id": "05c492b6-fa66-4d6f-ac66-1a4fbcc60d3e",
   "metadata": {},
   "outputs": [
    {
     "name": "stdin",
     "output_type": "stream",
     "text": [
      "구구단을 알려드립니다.숫자를 입력하세요 5\n"
     ]
    },
    {
     "name": "stdout",
     "output_type": "stream",
     "text": [
      "5 * 1 = 5\n",
      "5 * 2 = 10\n",
      "5 * 3 = 15\n",
      "5 * 4 = 20\n",
      "5 * 5 = 25\n",
      "5 * 6 = 30\n",
      "5 * 7 = 35\n",
      "5 * 8 = 40\n",
      "5 * 9 = 45\n"
     ]
    }
   ],
   "source": [
    "number = int(input(\"구구단을 알려드립니다.숫자를 입력하세요\"))\n",
    "\n",
    "for i in range(1,10,1):\n",
    "    number * i\n",
    "    print('{} * {} = {}'.format(number,i,number * i))"
   ]
  },
  {
   "cell_type": "code",
   "execution_count": 118,
   "id": "2629ed1a-662b-4b82-874b-727bef7f68c3",
   "metadata": {},
   "outputs": [
    {
     "name": "stdin",
     "output_type": "stream",
     "text": [
      "자연수를 입력해주세요 100\n"
     ]
    },
    {
     "name": "stdout",
     "output_type": "stream",
     "text": [
      "5050\n"
     ]
    }
   ],
   "source": [
    "number = int(input(\"자연수를 입력해주세요\"))\n",
    "result =0\n",
    "for i in range(1,number+1,1):\n",
    "    result +=i\n",
    "    \n",
    "print(result)"
   ]
  },
  {
   "cell_type": "code",
   "execution_count": 119,
   "id": "f1b0fb56-0a70-46bd-bf45-774ab66626f4",
   "metadata": {},
   "outputs": [
    {
     "name": "stdout",
     "output_type": "stream",
     "text": [
      "* * * * * \n",
      "* * * * * \n",
      "* * * * * \n",
      "* * * * * \n",
      "* * * * * \n"
     ]
    }
   ],
   "source": [
    "for i in range(5):\n",
    "    print('* ' * 5)"
   ]
  },
  {
   "cell_type": "markdown",
   "id": "b8558dae-fb78-4875-8c2d-4a2f94db888f",
   "metadata": {},
   "source": [
    "- while문"
   ]
  },
  {
   "cell_type": "code",
   "execution_count": null,
   "id": "86240a04-a657-4dd0-bec1-f4335b86a936",
   "metadata": {},
   "outputs": [
    {
     "name": "stdout",
     "output_type": "stream",
     "text": [
      "Hello world\n",
      "Hello world\n",
      "Hello world\n"
     ]
    }
   ],
   "source": [
    "i = 0\n",
    "while i < 3:\n",
    "    print('Hello world')\n",
    "    i +=1"
   ]
  },
  {
   "cell_type": "code",
   "execution_count": null,
   "id": "fd8ff278-7647-4df2-8339-3521fd2ea3d5",
   "metadata": {},
   "outputs": [],
   "source": [
    "count = int(input(\"반복할 횟수를 입력하세요:\"))\n",
    "\n",
    "while count >0:\n",
    "    print('hello',count)\n",
    "    count -=1\n",
    "    "
   ]
  },
  {
   "cell_type": "code",
   "execution_count": 5,
   "id": "3c77567a-4b95-4014-a1af-675b98c169d7",
   "metadata": {},
   "outputs": [
    {
     "name": "stdout",
     "output_type": "stream",
     "text": [
      "2\t 4\t 6\t 8\t 10\t 12\t 14\t 16\t 18\t 20\t 22\t 24\t 26\t 28\t 30\t 32\t 34\t 36\t 38\t 40\t 42\t 44\t 46\t 48\t 50\t 52\t 54\t 56\t 58\t 60\t 62\t 64\t 66\t 68\t 70\t 72\t 74\t 76\t 78\t 80\t 82\t 84\t 86\t 88\t 90\t 92\t 94\t 96\t 98\t 100\t "
     ]
    }
   ],
   "source": [
    "i = 2\n",
    "while i <= 100 :\n",
    "    print('{}\\t'.format(i), end = \" \")\n",
    "    i +=2"
   ]
  },
  {
   "cell_type": "code",
   "execution_count": 5,
   "id": "f45416b0-d509-4057-a0ad-28eaa475131c",
   "metadata": {},
   "outputs": [
    {
     "name": "stdin",
     "output_type": "stream",
     "text": [
      "구구단을 알려드립니다.숫자를 입력하세요 9\n"
     ]
    },
    {
     "name": "stdout",
     "output_type": "stream",
     "text": [
      "9 * 0 = 0\n",
      "9 * 1 = 9\n",
      "9 * 2 = 18\n",
      "9 * 3 = 27\n",
      "9 * 4 = 36\n",
      "9 * 5 = 45\n",
      "9 * 6 = 54\n",
      "9 * 7 = 63\n",
      "9 * 8 = 72\n",
      "9 * 9 = 81\n"
     ]
    }
   ],
   "source": [
    "number = int(input(\"구구단을 알려드립니다.숫자를 입력하세요\"))\n",
    "\n",
    "i = 0\n",
    "while i <10:\n",
    "    number * i\n",
    "    print('{} * {} = {}'.format(number,i,number * i))\n",
    "    i +=1"
   ]
  },
  {
   "cell_type": "code",
   "execution_count": 8,
   "id": "8f6413f9-8a2c-4767-b377-733117a1d312",
   "metadata": {},
   "outputs": [
    {
     "name": "stdout",
     "output_type": "stream",
     "text": [
      "87\n",
      "22\n",
      "31\n",
      "98\n"
     ]
    }
   ],
   "source": [
    "a= [ 87,22,31,98]\n",
    "\n",
    "i=0\n",
    "\n",
    "while i < len(a):\n",
    "    print(a[i])\n",
    "    i +=1\n",
    "# 인덱싱을 할 때는 정확한 범위의 인덱스에 접근해야 한다."
   ]
  },
  {
   "cell_type": "markdown",
   "id": "eea08931-137c-4d99-b89a-97130f7a2c48",
   "metadata": {},
   "source": [
    "# 2.17"
   ]
  },
  {
   "cell_type": "markdown",
   "id": "63beb924-7fd3-4f76-af00-2f0b9e837ebf",
   "metadata": {},
   "source": [
    "- 복습"
   ]
  },
  {
   "cell_type": "code",
   "execution_count": 10,
   "id": "47cf31c2-4907-442a-b9c3-021bde599160",
   "metadata": {},
   "outputs": [
    {
     "name": "stdout",
     "output_type": "stream",
     "text": [
      "1 2 3 4 5 6 7 8 9 10 "
     ]
    }
   ],
   "source": [
    "for i in range(1,11,1):\n",
    "    print(\"{}\".format(i) , end =\" \" )"
   ]
  },
  {
   "cell_type": "code",
   "execution_count": 11,
   "id": "6df5d4d2-6ada-4050-b22f-1e24db5289e9",
   "metadata": {},
   "outputs": [
    {
     "name": "stdout",
     "output_type": "stream",
     "text": [
      "1 2 3 4 5 6 7 8 9 10 "
     ]
    }
   ],
   "source": [
    "i = 1\n",
    "while i < 11 : \n",
    "    print(i,end =\" \")\n",
    "    i+=1\n",
    "    "
   ]
  },
  {
   "cell_type": "code",
   "execution_count": 36,
   "id": "a61cf1d6-51c4-4726-97ba-e1dd1b548056",
   "metadata": {},
   "outputs": [
    {
     "name": "stdout",
     "output_type": "stream",
     "text": [
      "79.0\n"
     ]
    }
   ],
   "source": [
    "class_a = (70, 60, 55, 75, 95, 90, 80, 80, 85, 100)\n",
    "\n",
    "i = 0\n",
    "result = 0\n",
    "\n",
    "while i < len(class_a):\n",
    "    result += class_a[i]\n",
    "    i +=1\n",
    "\n",
    "print(result/len(class_a))\n",
    "    \n",
    "    \n"
   ]
  },
  {
   "cell_type": "code",
   "execution_count": 42,
   "id": "64740be7-2761-49be-99bd-5144c3fc9d1f",
   "metadata": {},
   "outputs": [
    {
     "name": "stdout",
     "output_type": "stream",
     "text": [
      "5050\n"
     ]
    }
   ],
   "source": [
    "i = 0\n",
    "total = 0\n",
    "while True:\n",
    "    total += i\n",
    "    i += 1\n",
    "    if i == 101:\n",
    "        break\n",
    "    \n",
    "print(total)    "
   ]
  },
  {
   "cell_type": "code",
   "execution_count": null,
   "id": "9d03ba4e-8e8d-4dad-9805-57a5cbbc4c28",
   "metadata": {},
   "outputs": [],
   "source": [
    "while True:\n",
    "    input_value = input(\"q를 입력하면 종료됩니다.\")\n",
    "    if input_value == 'a':\n",
    "        break\n",
    "print(\"프로그램을 종료합니다\")"
   ]
  },
  {
   "cell_type": "code",
   "execution_count": 43,
   "id": "18bf30cb-74f5-40c8-a8e9-c8cb0c862a2a",
   "metadata": {},
   "outputs": [
    {
     "name": "stdout",
     "output_type": "stream",
     "text": [
      "1\t3\t5\t7\t9\t11\t13\t15\t17\t19\t21\t23\t25\t27\t29\t31\t33\t35\t37\t39\t41\t43\t45\t47\t49\t51\t53\t55\t57\t59\t61\t63\t65\t67\t69\t71\t73\t75\t77\t79\t81\t83\t85\t87\t89\t91\t93\t95\t97\t99\t"
     ]
    }
   ],
   "source": [
    "for i in range(100):\n",
    "    if i % 2 ==0:\n",
    "        continue      # i % 2 가 0이면 건너뛴다 (반복문 루프에서 continue는 아래를 실행안하고 루프 처음으로 감)\n",
    "    print(i , end='\\t')\n",
    "    "
   ]
  },
  {
   "cell_type": "code",
   "execution_count": 59,
   "id": "bb51af7f-6266-42e9-97f9-b55824479b23",
   "metadata": {},
   "outputs": [
    {
     "name": "stdin",
     "output_type": "stream",
     "text": [
      "시작하는 정수입력 1\n",
      "끝나는 정수입력 10\n"
     ]
    },
    {
     "name": "stdout",
     "output_type": "stream",
     "text": [
      "1부터 10까지의 합은 55입니다.\n"
     ]
    }
   ],
   "source": [
    "n= int(input(\"시작하는 정수입력\"))\n",
    "m= int(input(\"끝나는 정수입력\"))\n",
    "\n",
    "total = 0\n",
    "for i in range(n,m+1):\n",
    "    total +=i\n",
    "print(\"{}부터 {}까지의 합은 {}입니다.\".format(n,m,total))"
   ]
  },
  {
   "cell_type": "code",
   "execution_count": 62,
   "id": "61fde617-6d99-49a6-b840-3ef46614b97a",
   "metadata": {},
   "outputs": [
    {
     "name": "stdin",
     "output_type": "stream",
     "text": [
      "시작하는 정수입력 1\n",
      "끝나는 정수입력 10\n"
     ]
    },
    {
     "name": "stdout",
     "output_type": "stream",
     "text": [
      "1 부터 10까지 합은 55입니다\n"
     ]
    }
   ],
   "source": [
    "n= int(input(\"시작하는 정수입력\"))\n",
    "m= int(input(\"끝나는 정수입력\"))\n",
    "\n",
    "i = n\n",
    "total = 0\n",
    "while i <=m:\n",
    "    total +=i\n",
    "    i+=1\n",
    "print('{} 부터 {}까지 합은 {}입니다'.format(n,m,total))"
   ]
  },
  {
   "cell_type": "markdown",
   "id": "cc088ca6-78f0-478f-b872-3cdd12b3daaa",
   "metadata": {},
   "source": [
    "- 딕셔너리"
   ]
  },
  {
   "cell_type": "code",
   "execution_count": 65,
   "id": "90370cdc-e963-4a89-beba-ed0edfa089d2",
   "metadata": {},
   "outputs": [
    {
     "name": "stdout",
     "output_type": "stream",
     "text": [
      "{'a': 'last value'}\n"
     ]
    }
   ],
   "source": [
    "dic_var = {\"a\": \"value\" , \"a\":\"last value\"}\n",
    "print(dic_var)"
   ]
  },
  {
   "cell_type": "code",
   "execution_count": 67,
   "id": "e105e302-0d1d-41b2-80be-4e564d1835ca",
   "metadata": {},
   "outputs": [
    {
     "name": "stdout",
     "output_type": "stream",
     "text": [
      "[<class 'str'>, <class 'int'>, <class 'float'>]\n",
      "[<class 'str'>, <class 'str'>, <class 'str'>]\n"
     ]
    }
   ],
   "source": [
    "dic_var = {'key':'value',\n",
    "           1 : 'value2',\n",
    "           1.1 : 'value3',\n",
    "           True : 'value4'}\n",
    "print(list(map(type, dic_var.keys())))# 각각을 type 찍어보는거 적용 \n",
    "print(list(map(type, dic_var.values())))"
   ]
  },
  {
   "cell_type": "code",
   "execution_count": 19,
   "id": "ccf5812e-ff4b-49ce-9654-dffa8fe2014e",
   "metadata": {},
   "outputs": [
    {
     "name": "stdout",
     "output_type": "stream",
     "text": [
      "{'key': 'value', 1: False, 1.1: 1.1, ('key', 1, 1.1, True): ('key', 1, 1.1, True), 'list': [1, '가', 1.1, True], 'dict': {'key': 'value', 'keys': 'value2'}, 'set': {'key', 'value'}}\n"
     ]
    }
   ],
   "source": [
    "dic_var2 = {'key':'value',\n",
    "            1:1,\n",
    "            1.1:1.1,\n",
    "            True: False,\n",
    "            ('key',1,1.1,True) : ('key', 1,1.1,True),\n",
    "            \"list\":[1,'가',1.1,True],\n",
    "            'dict':{'key':'value', 'keys':'value2'},\n",
    "            'set' : {'key','value'}}\n",
    "print(dic_var2)"
   ]
  },
  {
   "cell_type": "code",
   "execution_count": 70,
   "id": "73431519-d6be-442f-9a2c-cb3049cae472",
   "metadata": {},
   "outputs": [
    {
     "name": "stdout",
     "output_type": "stream",
     "text": [
      "{'key1': 'value1', 'key2': 'value2', 'key3': 'value3'}\n"
     ]
    }
   ],
   "source": [
    "dict_a = dict(key1='value1',key2='value2',key3='value3')\n",
    "print(dict_a)"
   ]
  },
  {
   "cell_type": "code",
   "execution_count": 77,
   "id": "5b8837b6-4027-4060-bca9-135fd34b121a",
   "metadata": {},
   "outputs": [
    {
     "name": "stdout",
     "output_type": "stream",
     "text": [
      "{'a': 'valuea', 'key2': 'value', 'key3': 'value3'}\n",
      "valuea\n"
     ]
    }
   ],
   "source": [
    "dict_b = dict(zip(['a','key2','key3'],['valuea','value','value3']))\n",
    "print(dict_b) # 만들어진 dict_b 출력\n",
    "print(dict_b['a']) #인덱싱 방법 "
   ]
  },
  {
   "cell_type": "code",
   "execution_count": 78,
   "id": "d8f308b7-40c1-4ce3-9de5-34bf8edc4280",
   "metadata": {},
   "outputs": [
    {
     "name": "stdout",
     "output_type": "stream",
     "text": [
      "{'a': 'super value', 'key2': 'value', 'key3': 'value3'}\n"
     ]
    }
   ],
   "source": [
    "dict_b['a'] = 'super value' # 딕셔너리 변경\n",
    "print(dict_b)"
   ]
  },
  {
   "cell_type": "code",
   "execution_count": 80,
   "id": "1ed488e3-81d5-42e1-b9de-2004d65e25aa",
   "metadata": {},
   "outputs": [
    {
     "name": "stdout",
     "output_type": "stream",
     "text": [
      "True\n"
     ]
    },
    {
     "ename": "TypeError",
     "evalue": "argument of type 'builtin_function_or_method' is not iterable",
     "output_type": "error",
     "traceback": [
      "\u001b[1;31m---------------------------------------------------------------------------\u001b[0m",
      "\u001b[1;31mTypeError\u001b[0m                                 Traceback (most recent call last)",
      "Input \u001b[1;32mIn [80]\u001b[0m, in \u001b[0;36m<cell line: 2>\u001b[1;34m()\u001b[0m\n\u001b[0;32m      1\u001b[0m \u001b[38;5;28mprint\u001b[39m(\u001b[38;5;124m'\u001b[39m\u001b[38;5;124ma\u001b[39m\u001b[38;5;124m'\u001b[39m \u001b[38;5;129;01min\u001b[39;00m dict_b) \u001b[38;5;66;03m# 딕셔너리안에 'a'라는키가 있는지 찾는다\u001b[39;00m\n\u001b[1;32m----> 2\u001b[0m \u001b[38;5;28mprint\u001b[39m(\u001b[38;5;124;43m'\u001b[39;49m\u001b[38;5;124;43ma\u001b[39;49m\u001b[38;5;124;43m'\u001b[39;49m\u001b[43m \u001b[49m\u001b[38;5;129;43;01min\u001b[39;49;00m\u001b[43m \u001b[49m\u001b[43mdict_b\u001b[49m\u001b[38;5;241;43m.\u001b[39;49m\u001b[43mvalues\u001b[49m)\n",
      "\u001b[1;31mTypeError\u001b[0m: argument of type 'builtin_function_or_method' is not iterable"
     ]
    }
   ],
   "source": [
    "print('a' in dict_b) # 딕셔너리안에 'a'라는키가 있는지 찾는다\n",
    "print('a' in dict_b.values) #  딕셔너리안에 'a'라는 value가 있는지 찾는다\n",
    "del dict_b['a'] # 딕서너리중 'a' 삭제\n",
    "len(dict_b) # 크기"
   ]
  },
  {
   "cell_type": "markdown",
   "id": "17053bc0-b2ed-4c0f-b0df-bd11160a34e2",
   "metadata": {},
   "source": [
    "#### 연습문제(dict)"
   ]
  },
  {
   "cell_type": "code",
   "execution_count": 93,
   "id": "4042d35e-a0b1-4633-93d0-7a28d1b880fb",
   "metadata": {},
   "outputs": [
    {
     "name": "stdin",
     "output_type": "stream",
     "text": [
      "과일 이름을 입력하세요 파인애플\n"
     ]
    },
    {
     "name": "stdout",
     "output_type": "stream",
     "text": [
      "파인애플의 가격은 2000원 입니다.\n"
     ]
    }
   ],
   "source": [
    "a = str(input(\"과일 이름을 입력하세요\"))\n",
    "dict = {'사과':1000 , '바나나':700 , '오렌지':1500 , '파인애플':2000} \n",
    "print('{}의 가격은 {}원 입니다.'.format(a,dict[a]))"
   ]
  },
  {
   "cell_type": "code",
   "execution_count": 99,
   "id": "bce4224b-0a4c-4512-8dbd-3ce7249148cb",
   "metadata": {},
   "outputs": [
    {
     "name": "stdin",
     "output_type": "stream",
     "text": [
      "이름을 기입해주세요 뽀로로 루피 크롱 스누피\n",
      "몸무게를 입력해주세요 20.4 16.2 22.3 5.2\n"
     ]
    },
    {
     "data": {
      "text/plain": [
       "{'뽀로로': '20.4', '루피': '16.2', '크롱': '22.3', '스누피': '5.2'}"
      ]
     },
     "execution_count": 99,
     "metadata": {},
     "output_type": "execute_result"
    }
   ],
   "source": [
    "name = input(\"이름을 기입해주세요\").split(' ')\n",
    "weigth = input(\"몸무게를 입력해주세요\").split(' ')\n",
    "\n",
    "dict = { name[0] : weigth[0] , name[1] : weigth[1] , name[2] : weigth[2] , name[3] : weigth[3] }\n"
   ]
  },
  {
   "cell_type": "code",
   "execution_count": 6,
   "id": "27ca2392-db1e-43eb-b21c-1d47185c2831",
   "metadata": {},
   "outputs": [
    {
     "name": "stdin",
     "output_type": "stream",
     "text": [
      "이름을 기입해주세요 뽀로로 루피 크롱 스누피\n",
      "몸무게를 입력해주세요 20.4 16.2 22.3 5.2\n"
     ]
    },
    {
     "name": "stdout",
     "output_type": "stream",
     "text": [
      "{'뽀로로': 20.4, '루피': 16.2, '크롱': 22.3, '스누피': 5.2}\n"
     ]
    }
   ],
   "source": [
    "name = input(\"이름을 기입해주세요\").split(' ')\n",
    "weigth = map(float, input(\"몸무게를 입력해주세요\").split(' ')) # 몸무게 입력받아서 분리한것 float적용 maping\n",
    "\n",
    "dic = dict(zip(name, weigth))   # zip함수를 이용해 알아서 매칭 하도록 함\n",
    "print(dic)"
   ]
  },
  {
   "cell_type": "markdown",
   "id": "51c03096-3f5f-47b1-974e-09bb97fb73cf",
   "metadata": {},
   "source": [
    "- 리스트 comprehenson"
   ]
  },
  {
   "cell_type": "code",
   "execution_count": 21,
   "id": "8dec2626-eb92-49af-a07c-80645df365d0",
   "metadata": {},
   "outputs": [
    {
     "ename": "SyntaxError",
     "evalue": "invalid syntax (1469879523.py, line 1)",
     "output_type": "error",
     "traceback": [
      "\u001b[1;36m  Input \u001b[1;32mIn [21]\u001b[1;36m\u001b[0m\n\u001b[1;33m    list_C = [i for i range(1,10)]\u001b[0m\n\u001b[1;37m                      ^\u001b[0m\n\u001b[1;31mSyntaxError\u001b[0m\u001b[1;31m:\u001b[0m invalid syntax\n"
     ]
    }
   ],
   "source": [
    "list_C = [i for i range(1,10)]\n",
    "print(list_C)"
   ]
  },
  {
   "cell_type": "code",
   "execution_count": 23,
   "id": "f58804dc-360c-4d4a-af95-545c8eae115d",
   "metadata": {},
   "outputs": [
    {
     "name": "stdout",
     "output_type": "stream",
     "text": [
      "[1, 4, 9, 16, 25, 36, 49, 64, 81]\n"
     ]
    }
   ],
   "source": [
    "prac_result = [ i**2 for i in range(1,10)]\n",
    "print(prac_result)"
   ]
  },
  {
   "cell_type": "code",
   "execution_count": 24,
   "id": "8b92502f-808e-42ef-be5b-2ae8ec31dec1",
   "metadata": {},
   "outputs": [
    {
     "name": "stdout",
     "output_type": "stream",
     "text": [
      "[1, 3, 5, 7, 9]\n"
     ]
    }
   ],
   "source": [
    "prac_result2 = [ i for i in range(1,10,2)]\n",
    "print(prac_result2)\n"
   ]
  },
  {
   "cell_type": "code",
   "execution_count": 29,
   "id": "cafc98bd-f901-4743-8384-afc6af57568d",
   "metadata": {},
   "outputs": [
    {
     "name": "stdout",
     "output_type": "stream",
     "text": [
      "['a', 'b', 'c', 'd', 'e', 'f', 'g', 'h', 'i', 'j', 'k', 'z']\n"
     ]
    }
   ],
   "source": [
    "prac_result3 = [ i for i in 'abcdefghijkz'] # 문자 하나하나를 가져온다\n",
    "print(prac_result3)"
   ]
  },
  {
   "cell_type": "code",
   "execution_count": 9,
   "id": "5047ed8e-289f-4b74-8b28-ba3acd8bf161",
   "metadata": {},
   "outputs": [
    {
     "name": "stdout",
     "output_type": "stream",
     "text": [
      "['2', '3', '4', '5', '6', '7', '8', '9', '10', 'J', 'Q', 'K', 'A']\n"
     ]
    }
   ],
   "source": [
    "prac_result4 = [ str(i) for i in range(2,11,1) ] + [ i for i in 'JQKA']\n",
    "print(prac_result4)"
   ]
  },
  {
   "cell_type": "code",
   "execution_count": 10,
   "id": "bdd50892-268b-4437-a344-b347a011dfb4",
   "metadata": {},
   "outputs": [
    {
     "name": "stdout",
     "output_type": "stream",
     "text": [
      "[['2', '3', '4', '5', '6', '7', '8', '9', '10', 'J', 'Q', 'K', 'A'], ['2', '3', '4', '5', '6', '7', '8', '9', '10', 'J', 'Q', 'K', 'A'], ['2', '3', '4', '5', '6', '7', '8', '9', '10', 'J', 'Q', 'K', 'A'], ['2', '3', '4', '5', '6', '7', '8', '9', '10', 'J', 'Q', 'K', 'A']]\n"
     ]
    }
   ],
   "source": [
    "prac_result5 = [i for i in [prac_result4]*4] \n",
    "print(prac_result5)"
   ]
  },
  {
   "cell_type": "code",
   "execution_count": 11,
   "id": "cd7d8464-51fe-41dd-a404-c6743bbbd00f",
   "metadata": {},
   "outputs": [
    {
     "name": "stdout",
     "output_type": "stream",
     "text": [
      "[['2', '3', '4', '5', '6', '7', '8', '9', '10', 'J', 'Q', 'K', 'A'], ['2', '3', '4', '5', '6', '7', '8', '9', '10', 'J', 'Q', 'K', 'A'], ['2', '3', '4', '5', '6', '7', '8', '9', '10', 'J', 'Q', 'K', 'A'], ['2', '3', '4', '5', '6', '7', '8', '9', '10', 'J', 'Q', 'K', 'A']]\n"
     ]
    }
   ],
   "source": [
    "prac_result5 = [prac_result4 for i in range(4)] #prac_result 를 4개 만듬\n",
    "print(prac_result5)"
   ]
  },
  {
   "cell_type": "code",
   "execution_count": 12,
   "id": "4e46ad15-b6c1-413d-b392-6f542c2d871f",
   "metadata": {},
   "outputs": [
    {
     "name": "stdout",
     "output_type": "stream",
     "text": [
      "['two', ['2', '3', '4', '5', '6', '7', '8', '9', '10', 'J', 'Q', 'K', 'A'], ['2', '3', '4', '5', '6', '7', '8', '9', '10', 'J', 'Q', 'K', 'A'], ['2', '3', '4', '5', '6', '7', '8', '9', '10', 'J', 'Q', 'K', 'A']]\n"
     ]
    }
   ],
   "source": [
    "prac_result5[0] ='two'\n",
    "print(prac_result5)"
   ]
  },
  {
   "cell_type": "markdown",
   "id": "6c0538e1-b809-4993-933a-a462c3c055e0",
   "metadata": {},
   "source": [
    "prac_result6 = [prac_result4[:] for _ in range(4)]\n",
    "\n",
    "print('prac_result4의 id:',id(prac_result6))\n"
   ]
  },
  {
   "cell_type": "markdown",
   "id": "b582d5ce-e1e9-46f2-b002-3095aad7ad23",
   "metadata": {},
   "source": [
    "- 슬라이싱 개념"
   ]
  },
  {
   "cell_type": "code",
   "execution_count": 59,
   "id": "c982a3cb-aabc-4951-9f9c-f645d1f00d20",
   "metadata": {},
   "outputs": [
    {
     "name": "stdout",
     "output_type": "stream",
     "text": [
      "2263436774528\n",
      "2263436909696\n",
      "False\n",
      "True\n"
     ]
    }
   ],
   "source": [
    "old_list = list(range(10))\n",
    "new_list = old_list[:]\n",
    "\n",
    "print(id(old_list))\n",
    "print(id(new_list))\n",
    "print(old_list is new_list)\n",
    "print(old_list == new_list)"
   ]
  },
  {
   "cell_type": "markdown",
   "id": "87b27db8-8172-472f-977c-56b727294edf",
   "metadata": {},
   "source": [
    "- int복사 일떄"
   ]
  },
  {
   "cell_type": "code",
   "execution_count": 26,
   "id": "3b48e622-1c2d-4655-9b6b-30c5772211bf",
   "metadata": {},
   "outputs": [
    {
     "data": {
      "text/plain": [
       "[[0], [0], [0]]"
      ]
     },
     "execution_count": 26,
     "metadata": {},
     "output_type": "execute_result"
    }
   ],
   "source": [
    "row = [0]\n",
    "a = []\n",
    "for i in range(3): # row가 만들어져있고 for문이 반복될떄 마다 들어가게 된다 .\n",
    "    a.append(row)"
   ]
  },
  {
   "cell_type": "code",
   "execution_count": 38,
   "id": "0a1b0a35-d852-4724-96f8-4601dfa5aa8b",
   "metadata": {},
   "outputs": [
    {
     "name": "stdout",
     "output_type": "stream",
     "text": [
      "1840292526400\n",
      "1840292526400\n",
      "1840292526400\n"
     ]
    }
   ],
   "source": [
    "print(id(a[0]))\n",
    "print(id(a[1]))\n",
    "print(id(a[2]))\n",
    "# 3개가 같다 ."
   ]
  },
  {
   "cell_type": "code",
   "execution_count": 34,
   "id": "380fd944-5287-4ee3-b913-b8394ea69cd1",
   "metadata": {},
   "outputs": [],
   "source": [
    "b = []\n",
    "for i in range(3):\n",
    "    row = []       # for 문이 반복될 때마아다 리스트를 새로 만든다 \n",
    "    b.append(row)"
   ]
  },
  {
   "cell_type": "code",
   "execution_count": 35,
   "id": "79812898-8348-413a-982a-2691ae6bb6e6",
   "metadata": {},
   "outputs": [
    {
     "name": "stdout",
     "output_type": "stream",
     "text": [
      "1840292927552\n",
      "1840292928128\n",
      "1840292874688\n"
     ]
    }
   ],
   "source": [
    "print(id(b[0]))\n",
    "print(id(b[1]))\n",
    "print(id(b[2]))\n",
    "# 3개가 다른 리스트를 가지게 만들어져서 값이 다르다."
   ]
  },
  {
   "cell_type": "code",
   "execution_count": 36,
   "id": "643e7edd-55ad-4ca4-9b01-5a058354419a",
   "metadata": {},
   "outputs": [
    {
     "data": {
      "text/plain": [
       "True"
      ]
     },
     "execution_count": 36,
     "metadata": {},
     "output_type": "execute_result"
    }
   ],
   "source": [
    "e = 256\n",
    "f = 256\n",
    "e is f  # 같다"
   ]
  },
  {
   "cell_type": "code",
   "execution_count": 37,
   "id": "804c9205-d78c-4bcd-b05e-0864f9cb9f7f",
   "metadata": {},
   "outputs": [
    {
     "data": {
      "text/plain": [
       "False"
      ]
     },
     "execution_count": 37,
     "metadata": {},
     "output_type": "execute_result"
    }
   ],
   "source": [
    "g = 257\n",
    "h = 257\n",
    "g is h # 다르다 "
   ]
  },
  {
   "cell_type": "markdown",
   "id": "34c00c92-a795-478f-a504-8a593e259ce5",
   "metadata": {},
   "source": [
    "- 리스트 안에 리스트가 들어간 경우(얕은 복사) -> 주소 복사"
   ]
  },
  {
   "cell_type": "code",
   "execution_count": 52,
   "id": "60173bfa-eb3c-4ad8-ae4e-dd09946c208a",
   "metadata": {},
   "outputs": [
    {
     "data": {
      "text/plain": [
       "False"
      ]
     },
     "execution_count": 52,
     "metadata": {},
     "output_type": "execute_result"
    }
   ],
   "source": [
    "l1 = [1,2,[3,4]]\n",
    "l2 = l1.copy()\n",
    "l1 is l2 # 다르다"
   ]
  },
  {
   "cell_type": "code",
   "execution_count": 54,
   "id": "8f6f423c-3ec9-47f5-8b31-98d0de819767",
   "metadata": {},
   "outputs": [
    {
     "data": {
      "text/plain": [
       "True"
      ]
     },
     "execution_count": 54,
     "metadata": {},
     "output_type": "execute_result"
    }
   ],
   "source": [
    "l1[-1] is l2[-1] #주소를 복사해 버리니까 같다  "
   ]
  },
  {
   "cell_type": "code",
   "execution_count": 55,
   "id": "ecf01648-885b-4dd8-b379-e232df80c608",
   "metadata": {},
   "outputs": [
    {
     "data": {
      "text/plain": [
       "False"
      ]
     },
     "execution_count": 55,
     "metadata": {},
     "output_type": "execute_result"
    }
   ],
   "source": [
    "l3 = [1,2,[3,4]]\n",
    "l4 = l3[:]\n",
    "l3 is l4 # 다르다 "
   ]
  },
  {
   "cell_type": "code",
   "execution_count": 56,
   "id": "1a730541-b92b-4489-9eef-a85995790f92",
   "metadata": {},
   "outputs": [
    {
     "data": {
      "text/plain": [
       "True"
      ]
     },
     "execution_count": 56,
     "metadata": {},
     "output_type": "execute_result"
    }
   ],
   "source": [
    "l3[-1] is l4[-1] #주소를 복사해 버리니까 같다 "
   ]
  },
  {
   "cell_type": "markdown",
   "id": "a0d66c40-e604-4132-a75d-f7f332d7c636",
   "metadata": {},
   "source": [
    "- 리스트 안에 리스트가 들어간 경우(깊은 복사) -> 다 복사"
   ]
  },
  {
   "cell_type": "code",
   "execution_count": 39,
   "id": "2fd20877-e1ff-4110-95c1-901608b327f4",
   "metadata": {},
   "outputs": [
    {
     "name": "stdout",
     "output_type": "stream",
     "text": [
      "False\n"
     ]
    }
   ],
   "source": [
    "import copy\n",
    "list_n = [[9,10] , [11,12]]\n",
    "list_o = copy.deepcopy(list_n)\n",
    "print(list_n[0] is list_o)"
   ]
  },
  {
   "cell_type": "code",
   "execution_count": 42,
   "id": "efbdb740-a66f-4558-a234-c1ba6c015bca",
   "metadata": {},
   "outputs": [
    {
     "name": "stdout",
     "output_type": "stream",
     "text": [
      "[[9, 999], [11, 12]]\n",
      "[[9, 10], [11, 12]]\n"
     ]
    }
   ],
   "source": [
    "list_n[0][1] = 999\n",
    "print(list_n)\n",
    "print(list_o)\n",
    "# 서로 완전히 다른 객체라 복사 된것에 영향을 미치 않는다 "
   ]
  },
  {
   "cell_type": "code",
   "execution_count": null,
   "id": "3f476709-daba-4586-b777-6d60497104a6",
   "metadata": {},
   "outputs": [],
   "source": []
  },
  {
   "cell_type": "code",
   "execution_count": null,
   "id": "d3c3f37d-7a21-4899-ab15-8fbb73c964e2",
   "metadata": {},
   "outputs": [],
   "source": []
  },
  {
   "cell_type": "code",
   "execution_count": null,
   "id": "ee248904-cdf3-4c6f-8dee-c0b7337e8be9",
   "metadata": {},
   "outputs": [],
   "source": []
  },
  {
   "cell_type": "code",
   "execution_count": null,
   "id": "9c3398bd-efe3-4dac-b091-40aa94dc5680",
   "metadata": {},
   "outputs": [],
   "source": []
  }
 ],
 "metadata": {
  "kernelspec": {
   "display_name": "Python 3 (ipykernel)",
   "language": "python",
   "name": "python3"
  },
  "language_info": {
   "codemirror_mode": {
    "name": "ipython",
    "version": 3
   },
   "file_extension": ".py",
   "mimetype": "text/x-python",
   "name": "python",
   "nbconvert_exporter": "python",
   "pygments_lexer": "ipython3",
   "version": "3.9.12"
  }
 },
 "nbformat": 4,
 "nbformat_minor": 5
}
