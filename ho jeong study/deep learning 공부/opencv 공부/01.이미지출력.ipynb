{
 "cells": [
  {
   "cell_type": "code",
   "execution_count": 2,
   "metadata": {},
   "outputs": [
    {
     "data": {
      "text/plain": [
       "'4.7.0'"
      ]
     },
     "execution_count": 2,
     "metadata": {},
     "output_type": "execute_result"
    }
   ],
   "source": [
    "import cv2\n",
    "cv2.__version__"
   ]
  },
  {
   "attachments": {},
   "cell_type": "markdown",
   "metadata": {},
   "source": [
    "## 1. 이미지 출력"
   ]
  },
  {
   "cell_type": "code",
   "execution_count": 8,
   "metadata": {},
   "outputs": [],
   "source": [
    "img_color = cv2.imread('data\\img.jpg',cv2.IMREAD_COLOR) # 컬러 이미지 \n",
    "img_unchanged = cv2.imread('data\\img.jpg',cv2.IMREAD_UNCHANGED) # 투명 영역까지 포함하는 컬러\n",
    "img_gray = cv2.imread('data\\img.jpg',cv2.IMREAD_GRAYSCALE) # 흑백 이미지\n",
    "\n",
    "cv2.imshow('img_color' , img_color) \n",
    "cv2.imshow('img_unchanged' , img_unchanged) \n",
    "cv2.imshow('img_gray' , img_gray) \n",
    "\n",
    "cv2.waitKey(5000) # 지정된 시간 동안 사용자 키 입력 대기 -> 5초대기 \n",
    "cv2.destroyAllWindows() # 키 입력하면 이미지 창 닫힘 "
   ]
  },
  {
   "cell_type": "code",
   "execution_count": 13,
   "metadata": {},
   "outputs": [
    {
     "name": "stdout",
     "output_type": "stream",
     "text": [
      "(640, 613, 3)\n",
      "(640, 613, 3)\n",
      "(640, 613)\n"
     ]
    }
   ],
   "source": [
    "import cv2  \n",
    "# shape은 (세로 , 가로 , chanel)\n",
    "print(img_color.shape)\n",
    "print(img_unchanged.shape)\n",
    "print(img_gray.shape)"
   ]
  },
  {
   "cell_type": "code",
   "execution_count": null,
   "metadata": {},
   "outputs": [],
   "source": []
  },
  {
   "cell_type": "code",
   "execution_count": null,
   "metadata": {},
   "outputs": [],
   "source": []
  },
  {
   "cell_type": "code",
   "execution_count": null,
   "metadata": {},
   "outputs": [],
   "source": []
  }
 ],
 "metadata": {
  "kernelspec": {
   "display_name": ".venv",
   "language": "python",
   "name": "python3"
  },
  "language_info": {
   "codemirror_mode": {
    "name": "ipython",
    "version": 3
   },
   "file_extension": ".py",
   "mimetype": "text/x-python",
   "name": "python",
   "nbconvert_exporter": "python",
   "pygments_lexer": "ipython3",
   "version": "3.10.11"
  },
  "orig_nbformat": 4
 },
 "nbformat": 4,
 "nbformat_minor": 2
}
