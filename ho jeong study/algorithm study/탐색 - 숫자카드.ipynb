{
 "cells": [
  {
   "cell_type": "code",
   "execution_count": 4,
   "metadata": {},
   "outputs": [
    {
     "data": {
      "text/plain": [
       "([6, 3, 2, 10, 10, 10, -10, -10, 7, 3],\n",
       " [10, 9, -5, 2, 3, 4, 5, -10],\n",
       " [3, 0, 0, 1, 2, 0, 0, 2])"
      ]
     },
     "execution_count": 4,
     "metadata": {},
     "output_type": "execute_result"
    }
   ],
   "source": [
    "number = int(input('숫자를입력하세요'))\n",
    "card = list(map(int, (input().split(' '))))\n",
    "number2 = int(input('숫자를입력하세요'))\n",
    "card2 = list(map(int, (input().split(' '))))\n",
    "\n",
    "lst2 = []\n",
    "for k in range(len(card2)):\n",
    "    lst2.append(card.count(card2[k]))\n",
    "\n",
    "card , card2 , lst2\n",
    "\n",
    "\n"
   ]
  },
  {
   "cell_type": "code",
   "execution_count": 34,
   "metadata": {},
   "outputs": [
    {
     "data": {
      "text/plain": [
       "[3, 0, 0, 1, 2, 0, 0, 2]"
      ]
     },
     "execution_count": 34,
     "metadata": {},
     "output_type": "execute_result"
    }
   ],
   "source": [
    "from collections import Counter\n",
    "number = int(input('숫자를입력하세요'))\n",
    "card = list(map(int, (input().split(' '))))\n",
    "number2 = int(input('숫자를입력하세요'))\n",
    "card2 = list(map(int, (input().split(' '))))\n",
    "\n",
    "lst = []\n",
    "for i in card2:\n",
    "    a = Counter(card)[i]\n",
    "    lst.append(a)\n",
    "\n",
    "lst"
   ]
  },
  {
   "cell_type": "code",
   "execution_count": 37,
   "metadata": {},
   "outputs": [
    {
     "name": "stdout",
     "output_type": "stream",
     "text": [
      "3 0 0 1 2 0 0 2 "
     ]
    }
   ],
   "source": [
    "from collections import Counter\n",
    "number = int(input('숫자를입력하세요'))\n",
    "card = list(map(int, (input().split(' '))))\n",
    "number2 = int(input('숫자를입력하세요'))\n",
    "card2 = list(map(int, (input().split(' '))))\n",
    "\n",
    "dic = Counter(card)\n",
    "\n",
    "\n",
    "for i , x in enumerate(card2):\n",
    "    if x in dic.keys():\n",
    "        print(dic[x],end=' ')\n",
    "    else:\n",
    "        print(0,end = ' ')"
   ]
  },
  {
   "cell_type": "code",
   "execution_count": null,
   "metadata": {},
   "outputs": [],
   "source": []
  },
  {
   "cell_type": "code",
   "execution_count": null,
   "metadata": {},
   "outputs": [],
   "source": []
  },
  {
   "cell_type": "code",
   "execution_count": null,
   "metadata": {},
   "outputs": [],
   "source": []
  },
  {
   "cell_type": "code",
   "execution_count": 11,
   "metadata": {},
   "outputs": [
    {
     "data": {
      "text/plain": [
       "dict_keys([6, 3, 2, 10, -10, 7])"
      ]
     },
     "execution_count": 11,
     "metadata": {},
     "output_type": "execute_result"
    }
   ],
   "source": [
    "Counter(card).keys() "
   ]
  },
  {
   "cell_type": "code",
   "execution_count": 14,
   "metadata": {},
   "outputs": [
    {
     "data": {
      "text/plain": [
       "0"
      ]
     },
     "execution_count": 14,
     "metadata": {},
     "output_type": "execute_result"
    }
   ],
   "source": [
    "Counter(card)[20]"
   ]
  }
 ],
 "metadata": {
  "kernelspec": {
   "display_name": ".venv",
   "language": "python",
   "name": "python3"
  },
  "language_info": {
   "codemirror_mode": {
    "name": "ipython",
    "version": 3
   },
   "file_extension": ".py",
   "mimetype": "text/x-python",
   "name": "python",
   "nbconvert_exporter": "python",
   "pygments_lexer": "ipython3",
   "version": "3.10.11"
  },
  "orig_nbformat": 4
 },
 "nbformat": 4,
 "nbformat_minor": 2
}
