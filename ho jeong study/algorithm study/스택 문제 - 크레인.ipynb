{
 "cells": [
  {
   "attachments": {},
   "cell_type": "markdown",
   "metadata": {},
   "source": [
    "## 문제"
   ]
  },
  {
   "attachments": {},
   "cell_type": "markdown",
   "metadata": {},
   "source": [
    "크레인에서 인형을뽑아서 같은 모양이 쌓는데 같은 모양이 되면 없어지고 총 없어진 개수를 return 하는 solution함수를 만들기"
   ]
  },
  {
   "attachments": {},
   "cell_type": "markdown",
   "metadata": {},
   "source": [
    "### 제한사항"
   ]
  },
  {
   "attachments": {},
   "cell_type": "markdown",
   "metadata": {},
   "source": [
    "-board 배열은 2차원 배열로 크기는 \"5 x 5\" 이상 \"30 x 30\" 이하입니다.\n",
    "\n",
    "-board의 각 칸에는 0 이상 100 이하인 정수가 담겨있습니다.\n",
    "0은 빈 칸을 나타냅니다.\n",
    "\n",
    "-1 ~ 100의 각 숫자는 각기 다른 인형의 모양을 의미하며 같은 숫자는 같은 모양의 인형을 나타냅니다.\n",
    "\n",
    "-moves 배열의 크기는 1 이상 1,000 이하입니다.\n",
    "\n",
    "-moves 배열 각 원소들의 값은 1 이상이며 board 배열의 가로 크기 이하인 자연수입니다."
   ]
  },
  {
   "attachments": {},
   "cell_type": "markdown",
   "metadata": {},
   "source": [
    "### 입출력예"
   ]
  },
  {
   "cell_type": "code",
   "execution_count": 1,
   "metadata": {},
   "outputs": [
    {
     "data": {
      "text/plain": [
       "4"
      ]
     },
     "execution_count": 1,
     "metadata": {},
     "output_type": "execute_result"
    }
   ],
   "source": [
    "[[0,0,0,0,0],[0,0,1,0,3],[0,2,5,0,1],[4,2,4,4,2],[3,5,1,3,1]] # 입력\n",
    "[1,5,3,5,1,2,1,4] # moves\n",
    "4 # 출력"
   ]
  },
  {
   "cell_type": "code",
   "execution_count": 271,
   "metadata": {},
   "outputs": [],
   "source": [
    "board = [[0,0,0,0,0],[0,0,1,0,3],[0,2,5,0,1],[4,2,4,4,2],[3,5,1,3,1]]\n",
    "moves = [1,5,3,5,1,2,1,4] \n",
    "\n",
    "def charter(board):\n",
    "    cnt = 0\n",
    "    stack =[]\n",
    "    for i in moves:\n",
    "        for j in range(0,5):\n",
    "            if board[j][i-1] !=0:\n",
    "                stack.append(board[j][i-1])\n",
    "                board[j][i-1] = 0\n",
    "                if len(stack)>1:\n",
    "                    if stack[-1]==stack[-2]:\n",
    "                        stack.pop()\n",
    "                        stack.pop()\n",
    "                        cnt+=2 \n",
    "                \n",
    "                break\n",
    "    return cnt\n",
    "                "
   ]
  },
  {
   "cell_type": "code",
   "execution_count": 272,
   "metadata": {},
   "outputs": [
    {
     "data": {
      "text/plain": [
       "4"
      ]
     },
     "execution_count": 272,
     "metadata": {},
     "output_type": "execute_result"
    }
   ],
   "source": [
    "charter(board)"
   ]
  },
  {
   "cell_type": "code",
   "execution_count": 267,
   "metadata": {},
   "outputs": [],
   "source": [
    "board = [[0,0,0,0,0],[0,0,1,0,3],[0,2,5,0,1],[4,2,4,4,2],[3,5,1,3,1]]\n",
    "moves = [1,5,3,5,1,2,1,4]\n",
    "\n",
    "def charter(board):\n",
    "    cnt = 0\n",
    "    stack =[]\n",
    "    for i in moves:\n",
    "        print(f'before: {stack}')\n",
    "        for j in range(0,5):\n",
    "            if len(stack) > 1:\n",
    "                print(f'len(stack)>2: {len(stack)>2} / stack[-1] == stack[-2]: {stack[-1] == stack[-2]}')\n",
    "                print(f'stack[-1]:{stack[-1]} / stack[-2]:{stack[-2]}')\n",
    "            if len(stack)>2 and (stack[-1] == board[j][i-1]):\n",
    "                print('11111111111111111111111111')\n",
    "                del stack[-1] \n",
    "                cnt +=2\n",
    "            if board[j][i-1] ==0:\n",
    "                print('22222222222222222222222222222')\n",
    "                continue\n",
    "            elif board[j][i-1] !=0:\n",
    "                print('333333333333333333333333')\n",
    "                stack.append(board[j][i-1])\n",
    "                board[j][i-1] = 0\n",
    "                break\n",
    "            \n",
    "            \n",
    "        print(f'after: {stack}')\n",
    "    return cnt\n",
    "                "
   ]
  },
  {
   "cell_type": "code",
   "execution_count": 268,
   "metadata": {},
   "outputs": [
    {
     "name": "stdout",
     "output_type": "stream",
     "text": [
      "before: []\n",
      "22222222222222222222222222222\n",
      "22222222222222222222222222222\n",
      "22222222222222222222222222222\n",
      "333333333333333333333333\n",
      "after: [4]\n",
      "before: [4]\n",
      "22222222222222222222222222222\n",
      "333333333333333333333333\n",
      "after: [4, 3]\n",
      "before: [4, 3]\n",
      "len(stack)>2: False / stack[-1] == stack[-2]: False\n",
      "stack[-1]:3 / stack[-2]:4\n",
      "22222222222222222222222222222\n",
      "len(stack)>2: False / stack[-1] == stack[-2]: False\n",
      "stack[-1]:3 / stack[-2]:4\n",
      "333333333333333333333333\n",
      "after: [4, 3, 1]\n",
      "before: [4, 3, 1]\n",
      "len(stack)>2: True / stack[-1] == stack[-2]: False\n",
      "stack[-1]:1 / stack[-2]:3\n",
      "22222222222222222222222222222\n",
      "len(stack)>2: True / stack[-1] == stack[-2]: False\n",
      "stack[-1]:1 / stack[-2]:3\n",
      "22222222222222222222222222222\n",
      "len(stack)>2: True / stack[-1] == stack[-2]: False\n",
      "stack[-1]:1 / stack[-2]:3\n",
      "11111111111111111111111111\n",
      "333333333333333333333333\n",
      "after: [4, 3, 1]\n",
      "before: [4, 3, 1]\n",
      "len(stack)>2: True / stack[-1] == stack[-2]: False\n",
      "stack[-1]:1 / stack[-2]:3\n",
      "22222222222222222222222222222\n",
      "len(stack)>2: True / stack[-1] == stack[-2]: False\n",
      "stack[-1]:1 / stack[-2]:3\n",
      "22222222222222222222222222222\n",
      "len(stack)>2: True / stack[-1] == stack[-2]: False\n",
      "stack[-1]:1 / stack[-2]:3\n",
      "22222222222222222222222222222\n",
      "len(stack)>2: True / stack[-1] == stack[-2]: False\n",
      "stack[-1]:1 / stack[-2]:3\n",
      "22222222222222222222222222222\n",
      "len(stack)>2: True / stack[-1] == stack[-2]: False\n",
      "stack[-1]:1 / stack[-2]:3\n",
      "333333333333333333333333\n",
      "after: [4, 3, 1, 3]\n",
      "before: [4, 3, 1, 3]\n",
      "len(stack)>2: True / stack[-1] == stack[-2]: False\n",
      "stack[-1]:3 / stack[-2]:1\n",
      "22222222222222222222222222222\n",
      "len(stack)>2: True / stack[-1] == stack[-2]: False\n",
      "stack[-1]:3 / stack[-2]:1\n",
      "22222222222222222222222222222\n",
      "len(stack)>2: True / stack[-1] == stack[-2]: False\n",
      "stack[-1]:3 / stack[-2]:1\n",
      "333333333333333333333333\n",
      "after: [4, 3, 1, 3, 2]\n",
      "before: [4, 3, 1, 3, 2]\n",
      "len(stack)>2: True / stack[-1] == stack[-2]: False\n",
      "stack[-1]:2 / stack[-2]:3\n",
      "22222222222222222222222222222\n",
      "len(stack)>2: True / stack[-1] == stack[-2]: False\n",
      "stack[-1]:2 / stack[-2]:3\n",
      "22222222222222222222222222222\n",
      "len(stack)>2: True / stack[-1] == stack[-2]: False\n",
      "stack[-1]:2 / stack[-2]:3\n",
      "22222222222222222222222222222\n",
      "len(stack)>2: True / stack[-1] == stack[-2]: False\n",
      "stack[-1]:2 / stack[-2]:3\n",
      "22222222222222222222222222222\n",
      "len(stack)>2: True / stack[-1] == stack[-2]: False\n",
      "stack[-1]:2 / stack[-2]:3\n",
      "22222222222222222222222222222\n",
      "after: [4, 3, 1, 3, 2]\n",
      "before: [4, 3, 1, 3, 2]\n",
      "len(stack)>2: True / stack[-1] == stack[-2]: False\n",
      "stack[-1]:2 / stack[-2]:3\n",
      "22222222222222222222222222222\n",
      "len(stack)>2: True / stack[-1] == stack[-2]: False\n",
      "stack[-1]:2 / stack[-2]:3\n",
      "22222222222222222222222222222\n",
      "len(stack)>2: True / stack[-1] == stack[-2]: False\n",
      "stack[-1]:2 / stack[-2]:3\n",
      "22222222222222222222222222222\n",
      "len(stack)>2: True / stack[-1] == stack[-2]: False\n",
      "stack[-1]:2 / stack[-2]:3\n",
      "333333333333333333333333\n",
      "after: [4, 3, 1, 3, 2, 4]\n"
     ]
    },
    {
     "data": {
      "text/plain": [
       "2"
      ]
     },
     "execution_count": 268,
     "metadata": {},
     "output_type": "execute_result"
    }
   ],
   "source": [
    "charter(board)"
   ]
  }
 ],
 "metadata": {
  "kernelspec": {
   "display_name": ".venv",
   "language": "python",
   "name": "python3"
  },
  "language_info": {
   "codemirror_mode": {
    "name": "ipython",
    "version": 3
   },
   "file_extension": ".py",
   "mimetype": "text/x-python",
   "name": "python",
   "nbconvert_exporter": "python",
   "pygments_lexer": "ipython3",
   "version": "3.10.11"
  },
  "orig_nbformat": 4
 },
 "nbformat": 4,
 "nbformat_minor": 2
}
