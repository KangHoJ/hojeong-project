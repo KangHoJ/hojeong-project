{
 "cells": [
  {
   "attachments": {},
   "cell_type": "markdown",
   "metadata": {},
   "source": [
    "## 문제\n",
    "n이 주어졌을때 2진수로 변환하는 프로그램을 만들어라"
   ]
  },
  {
   "attachments": {},
   "cell_type": "markdown",
   "metadata": {},
   "source": [
    "### 입력\n",
    "첫째 줄에 정수 N(0 ≤ N ≤ 12)이 주어진다."
   ]
  },
  {
   "attachments": {},
   "cell_type": "markdown",
   "metadata": {},
   "source": [
    "### 출력\n",
    "이진수 변환된 값"
   ]
  },
  {
   "cell_type": "code",
   "execution_count": 10,
   "metadata": {},
   "outputs": [
    {
     "data": {
      "text/plain": [
       "[1, 2, 4, 8, 16, 32, 64]"
      ]
     },
     "execution_count": 10,
     "metadata": {},
     "output_type": "execute_result"
    }
   ],
   "source": [
    "lst = []\n",
    "number = int(input('숫자를 입력하세요 '))\n",
    "def jinsu(n):\n",
    "    for i in range(n):\n",
    "        lst.append(2**i)\n",
    "    return lst\n",
    "\n",
    "jinsu(number)   "
   ]
  },
  {
   "cell_type": "code",
   "execution_count": 26,
   "metadata": {},
   "outputs": [
    {
     "data": {
      "text/plain": [
       "1"
      ]
     },
     "execution_count": 26,
     "metadata": {},
     "output_type": "execute_result"
    }
   ],
   "source": [
    "a= divmod(53,2)[0]\n",
    "a2 = divmod(a,2)[0]\n",
    "a3 = divmod(a2,2)[0]\n",
    "a4 = divmod(a3,2)[0]\n",
    "a5 = divmod(a4,2)[0]\n",
    "a5"
   ]
  },
  {
   "cell_type": "code",
   "execution_count": 2,
   "metadata": {},
   "outputs": [
    {
     "data": {
      "text/plain": [
       "1"
      ]
     },
     "execution_count": 2,
     "metadata": {},
     "output_type": "execute_result"
    }
   ],
   "source": [
    "b=1\n",
    "b"
   ]
  },
  {
   "cell_type": "code",
   "execution_count": 9,
   "metadata": {},
   "outputs": [
    {
     "data": {
      "text/plain": [
       "'111000'"
      ]
     },
     "execution_count": 9,
     "metadata": {},
     "output_type": "execute_result"
    }
   ],
   "source": [
    "n = int(input('숫자를 입력하세요'))\n",
    "def getBinaryNum(n, lists):\n",
    "    a, b = divmod(n, 2)\n",
    "    lists.append(b)\n",
    "    if a == 0 :\n",
    "        return lists\n",
    "    else :\n",
    "        return getBinaryNum(a, lists)\n",
    "\n",
    "answerList = []\n",
    "answer = getBinaryNum(n,answerList)\n",
    "answer.sort(reverse=True)\n",
    "\n",
    "\"\".join([str(_) for _ in answer])\n"
   ]
  },
  {
   "cell_type": "code",
   "execution_count": 10,
   "metadata": {},
   "outputs": [
    {
     "data": {
      "text/plain": [
       "'110'"
      ]
     },
     "execution_count": 10,
     "metadata": {},
     "output_type": "execute_result"
    }
   ],
   "source": [
    "n = int(input('숫자를 입력하세요'))\n",
    "lists=[]\n",
    "def getBinaryNum(n, lists):\n",
    "    a, b = divmod(n, 2)\n",
    "    lists.append(b)\n",
    "    if a == 0 :\n",
    "        return lists\n",
    "    else :\n",
    "        return getBinaryNum(a, lists)\n",
    "    \n",
    "answer = getBinaryNum(n,lists)\n",
    "answer.sort(reverse=True)\n",
    "\n",
    "\"\".join([str(_) for _ in answer])\n"
   ]
  }
 ],
 "metadata": {
  "kernelspec": {
   "display_name": ".venv",
   "language": "python",
   "name": "python3"
  },
  "language_info": {
   "codemirror_mode": {
    "name": "ipython",
    "version": 3
   },
   "file_extension": ".py",
   "mimetype": "text/x-python",
   "name": "python",
   "nbconvert_exporter": "python",
   "pygments_lexer": "ipython3",
   "version": "3.10.11"
  },
  "orig_nbformat": 4
 },
 "nbformat": 4,
 "nbformat_minor": 2
}
