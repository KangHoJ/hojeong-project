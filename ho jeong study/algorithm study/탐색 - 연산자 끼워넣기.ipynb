{
 "cells": [
  {
   "attachments": {},
   "cell_type": "markdown",
   "metadata": {},
   "source": [
    "## 문제\n",
    "숫자 카드는 정수 하나가 적혀져 있는 카드이다. 상근이는 숫자 카드 N개를 가지고 있다. 정수 M개가 주어졌을 때, 이 수가 적혀있는 숫자 카드를 상근이가 몇 개 가지고 있는지 구하는 프로그램을 작성하시오"
   ]
  },
  {
   "attachments": {},
   "cell_type": "markdown",
   "metadata": {},
   "source": [
    "### 입력\n",
    "첫째 줄에 상근이가 가지고 있는 숫자 카드의 개수 N(1 ≤ N ≤ 500,000)이 주어진다. 둘째 줄에는 숫자 카드에 적혀있는 정수가 주어진다. 숫자 카드에 적혀있는 수는 -10,000,000보다 크거나 같고, 10,000,000보다 작거나 같다.\n",
    "\n",
    "셋째 줄에는 M(1 ≤ M ≤ 500,000)이 주어진다. 넷째 줄에는 상근이가 몇 개 가지고 있는 숫자 카드인지 구해야 할 M개의 정수가 주어지며, 이 수는 공백으로 구분되어져 있다. 이 수도 -10,000,000보다 크거나 같고, 10,000,000보다 작거나 같다.\n",
    "### 출력\n",
    "첫째 줄에 입력으로 주어진 M개의 수에 대해서, 각 수가 적힌 숫자 카드를 상근이가 몇 개 가지고 있는지를 공백으로 구분해 출력한다."
   ]
  },
  {
   "cell_type": "code",
   "execution_count": 26,
   "metadata": {},
   "outputs": [
    {
     "data": {
      "text/plain": [
       "[105, 61, 105, 61, 33, 33]"
      ]
     },
     "execution_count": 26,
     "metadata": {},
     "output_type": "execute_result"
    }
   ],
   "source": [
    "import sys\n",
    "from collections import deque as deq\n",
    "from itertools import permutations\n",
    "#입력\n",
    "N = int(input())\n",
    "numbers = list(map(int, (input().split(' '))))\n",
    "operators = list(map(int, (input().split(' '))))\n",
    "l = ['+', '-', '*', '/']\n",
    "#모든 연산기호 순서가 담긴 문자열 생성\n",
    "\n",
    "x = ''.join([l[i]*operators[i] for i in range(len(operators)) if l[i]*operators[i] != ''])\n",
    "k = [''.join(permutation) for permutation in list(permutations(x))] # 모든 경우의수가 나오게 함 \n",
    "# k = list(set(k))\n",
    "\n",
    "v = []\n",
    "for s in k:\n",
    "    a = numbers[0] # number[0] 이라는 숫자 만들어서 연산자 계속 추가 할거임 \n",
    "    for i in range(len(s)): # 연산자 첫번째부터 가져와서 \n",
    "        if s[i]=='+': \n",
    "            a += numbers[i+1]\n",
    "        elif s[i]=='-':\n",
    "            a -= numbers[i+1]\n",
    "        elif s[i]=='*':\n",
    "            a *= numbers[i+1]\n",
    "        else:\n",
    "            if a>=0:\n",
    "                a = int(a/numbers[i+1])\n",
    "            else:\n",
    "                a = -int(-a/numbers[i+1])\n",
    "    v.append(a)\n",
    "    \n",
    "v\n",
    "# print(max(v))\n",
    "# print(min(v))"
   ]
  },
  {
   "cell_type": "code",
   "execution_count": 62,
   "metadata": {},
   "outputs": [
    {
     "name": "stdout",
     "output_type": "stream",
     "text": [
      "++*\n",
      "{'++*', '+*+', '*++'}\n"
     ]
    }
   ],
   "source": [
    "print(x)\n",
    "print(k)\n",
    "k = list(set(k))"
   ]
  },
  {
   "cell_type": "code",
   "execution_count": 37,
   "metadata": {},
   "outputs": [
    {
     "data": {
      "text/plain": [
       "([4, 5, 6, 7], {'*++', '+*+', '++*'})"
      ]
     },
     "execution_count": 37,
     "metadata": {},
     "output_type": "execute_result"
    }
   ],
   "source": [
    "numbers , k"
   ]
  },
  {
   "cell_type": "code",
   "execution_count": 68,
   "metadata": {},
   "outputs": [
    {
     "data": {
      "text/plain": [
       "['++*', '+*+', '*++']"
      ]
     },
     "execution_count": 68,
     "metadata": {},
     "output_type": "execute_result"
    }
   ],
   "source": [
    "import sys\n",
    "from collections import deque as deq\n",
    "from itertools import permutations\n",
    "#입력\n",
    "N = int(input()) # 4\n",
    "numbers = list(map(int, (input().split(' '))))  # 4567\n",
    "oper_num = list(map(int, (input().split(' ')))) # 2010\n",
    "oper = ['+', '-', '*', '/']\n",
    "\n",
    "a = ''.join([oper_num[i] * oper[i] for i in range(len(oper_num)) if oper_num[i] * oper[i] != '' ])\n",
    "b = [''.join(per) for per in list(permutations(a))] # join을 시키기 위해 for 이용하는거\n",
    "b = list(set(b))\n",
    "b\n",
    "# lst =[]\n",
    "# for i in b:\n",
    "#     k = numbers[0]\n",
    "#     for j in range(len(i)):\n",
    "#         if i[j] == '*':\n",
    "#             k*=numbers[j+1]\n",
    "#         elif i[j] == '+':\n",
    "#             k+=numbers[j+1]\n",
    "#         elif i[j] == '-':\n",
    "#             k-=numbers[j+1]\n",
    "#         else:\n",
    "#             if k>0:\n",
    "#                 k = int(k/numbers[j+1])\n",
    "#             else:\n",
    "#                 k = -int(-k/numbers[j+1])\n",
    "                \n",
    "#     lst.append(k) \n",
    "\n",
    "# lst"
   ]
  },
  {
   "cell_type": "code",
   "execution_count": null,
   "metadata": {},
   "outputs": [],
   "source": []
  },
  {
   "cell_type": "code",
   "execution_count": null,
   "metadata": {},
   "outputs": [],
   "source": []
  }
 ],
 "metadata": {
  "kernelspec": {
   "display_name": ".venv",
   "language": "python",
   "name": "python3"
  },
  "language_info": {
   "codemirror_mode": {
    "name": "ipython",
    "version": 3
   },
   "file_extension": ".py",
   "mimetype": "text/x-python",
   "name": "python",
   "nbconvert_exporter": "python",
   "pygments_lexer": "ipython3",
   "version": "3.10.11"
  },
  "orig_nbformat": 4
 },
 "nbformat": 4,
 "nbformat_minor": 2
}
