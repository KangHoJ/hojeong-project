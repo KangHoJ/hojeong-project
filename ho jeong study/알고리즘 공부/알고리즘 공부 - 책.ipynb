{
 "cells": [
  {
   "attachments": {},
   "cell_type": "markdown",
   "metadata": {},
   "source": [
    "## 시간 복잡도 개념 \n",
    "- 상수 시간 복잡도(O(1))\n",
    "- 선형 시간 복잡도(O(n))\n",
    "- 이차 시간 복잡도(O(n^2))\n",
    "- 로그 시간 복잡도(O(logn))"
   ]
  },
  {
   "attachments": {},
   "cell_type": "markdown",
   "metadata": {},
   "source": [
    "## 정렬 알고리즘"
   ]
  },
  {
   "attachments": {},
   "cell_type": "markdown",
   "metadata": {},
   "source": [
    "### 버블 정렬\n",
    "- 2개중 왼쪽과 오른쪽 비교해서 왼쪽이 더 크면 자리를 바꿈"
   ]
  },
  {
   "cell_type": "code",
   "execution_count": 5,
   "metadata": {},
   "outputs": [
    {
     "data": {
      "text/plain": [
       "[21, 22, 23, 24, 25, 26, 27]"
      ]
     },
     "execution_count": 5,
     "metadata": {},
     "output_type": "execute_result"
    }
   ],
   "source": [
    "lst = [25,21,22,24,23,27,26]\n",
    "def Bubblesort(lst):\n",
    "    index = len(lst)-1\n",
    "    for i in range(index,0,-1):\n",
    "        for idx in range(i):\n",
    "            if lst[idx] > lst[idx+1]:\n",
    "                lst[idx],lst[idx+1] = lst[idx+1],lst[idx]\n",
    "                \n",
    "    return lst\n",
    "\n",
    "Bubblesort(lst)"
   ]
  },
  {
   "attachments": {},
   "cell_type": "markdown",
   "metadata": {},
   "source": [
    "### 삽입 정렬\n",
    "- 제 위치에 특정 값을 삽입하는 형식 \n",
    "- 어느정도 데이터가 정렬 되어 있으면 가장 좋다 ->o(N)"
   ]
  },
  {
   "cell_type": "code",
   "execution_count": 8,
   "metadata": {},
   "outputs": [
    {
     "data": {
      "text/plain": [
       "[21, 22, 23, 24, 25, 26, 27]"
      ]
     },
     "execution_count": 8,
     "metadata": {},
     "output_type": "execute_result"
    }
   ],
   "source": [
    "def Insertionsort(lst):\n",
    "    for i in range(1,len(lst)):\n",
    "        j = i-1\n",
    "        element_next = lst[i]\n",
    "        while (lst[j]>element_next) and (j>=0): # 왼쪽이 더 크면 \n",
    "            lst[j+1] = lst[j] # 오른쪽에 왼쪽을 넣고\n",
    "            j = j-1 # 왼쪽 인덱스 -1줄여라 \n",
    "        lst[j+1] = element_next # 빠져나오면 자리 빼앗긴 값 우치 재조정 \n",
    "    return lst\n",
    "\n",
    "Insertionsort(lst)"
   ]
  },
  {
   "attachments": {},
   "cell_type": "markdown",
   "metadata": {},
   "source": [
    "### 선택정렬\n",
    "- 끝날때마다 큰 값을 가장 오른쪽으로 이동 시킴 "
   ]
  },
  {
   "cell_type": "code",
   "execution_count": 12,
   "metadata": {},
   "outputs": [
    {
     "data": {
      "text/plain": [
       "[21, 22, 23, 24, 25, 26, 27]"
      ]
     },
     "execution_count": 12,
     "metadata": {},
     "output_type": "execute_result"
    }
   ],
   "source": [
    "def selectionsort(lst):\n",
    "    for fill_slot in range(len(lst)-1,0,-1):\n",
    "        max_index = 0\n",
    "        for location in range(1,fill_slot+1):\n",
    "            if lst[location] > lst[max_index]:\n",
    "                max_index = location\n",
    "        lst[fill_slot],lst[max_index] = lst[max_index],lst[fill_slot]\n",
    "    return lst\n",
    "\n",
    "selectionsort(lst)"
   ]
  },
  {
   "attachments": {},
   "cell_type": "markdown",
   "metadata": {},
   "source": [
    "### 병합정렬\n",
    "- 리스트를 하나가 될때까지 나누고 병합하는형식"
   ]
  },
  {
   "cell_type": "code",
   "execution_count": 18,
   "metadata": {},
   "outputs": [
    {
     "data": {
      "text/plain": [
       "[7, 10, 16, 21, 44, 45, 67, 10, 83]"
      ]
     },
     "execution_count": 18,
     "metadata": {},
     "output_type": "execute_result"
    }
   ],
   "source": [
    "list = [44,16,83,7,67,21,334,45,10]\n",
    "def Mergesort(list):\n",
    "    if len(list)>1:\n",
    "        mid = len(list)//2\n",
    "        left = list[:mid]\n",
    "        right = list[mid:]\n",
    "        \n",
    "        Mergesort(left)\n",
    "        Mergesort(right)\n",
    "        \n",
    "        a=0\n",
    "        b=0\n",
    "        c=0\n",
    "        \n",
    "        while a < len(left) and b <len(right):\n",
    "            if left[a] < right[b]:\n",
    "                list[c]=left[a]\n",
    "                a = a +1\n",
    "            else:\n",
    "                list[c]=right[b]\n",
    "                b=b+1\n",
    "            c = c+1\n",
    "            \n",
    "            \n",
    "        while a <len(left):\n",
    "            list[c]=left[a]\n",
    "            a=a+1\n",
    "            c=c+1\n",
    "        while b < len(left):\n",
    "            list[c]=right[b]\n",
    "            b=b+1\n",
    "            c=c+1\n",
    "            \n",
    "    return list\n",
    "Mergesort(list)"
   ]
  },
  {
   "attachments": {},
   "cell_type": "markdown",
   "metadata": {},
   "source": [
    "## 이진 검색"
   ]
  },
  {
   "cell_type": "code",
   "execution_count": 14,
   "metadata": {},
   "outputs": [
    {
     "data": {
      "text/plain": [
       "False"
      ]
     },
     "execution_count": 14,
     "metadata": {},
     "output_type": "execute_result"
    }
   ],
   "source": [
    "def BinarySearch(list,item):\n",
    "    first = 0\n",
    "    last = len(list)-1\n",
    "    found = False\n",
    "\n",
    "    while first<=last and not found:\n",
    "        mid=(first + last)//2\n",
    "        if list[mid] == item:\n",
    "            found=True\n",
    "        else:\n",
    "            if item < list[mid]: # 아이템이 중간보다 왼쪽에 있을때\n",
    "                last = mid-1 # last 즉 범위값을 mid-1로 줄임\n",
    "            else: # 아이템이 중간보다 오른쪽에 있을때\n",
    "                first = mid+1 # 초기값을 mid+1로 늘림\n",
    "    return found\n",
    "\n",
    "BinarySearch([1,2,3,7,5],12)    "
   ]
  },
  {
   "cell_type": "code",
   "execution_count": null,
   "metadata": {},
   "outputs": [],
   "source": []
  },
  {
   "cell_type": "code",
   "execution_count": null,
   "metadata": {},
   "outputs": [],
   "source": []
  }
 ],
 "metadata": {
  "kernelspec": {
   "display_name": ".venv",
   "language": "python",
   "name": "python3"
  },
  "language_info": {
   "codemirror_mode": {
    "name": "ipython",
    "version": 3
   },
   "file_extension": ".py",
   "mimetype": "text/x-python",
   "name": "python",
   "nbconvert_exporter": "python",
   "pygments_lexer": "ipython3",
   "version": "3.10.11"
  },
  "orig_nbformat": 4
 },
 "nbformat": 4,
 "nbformat_minor": 2
}
