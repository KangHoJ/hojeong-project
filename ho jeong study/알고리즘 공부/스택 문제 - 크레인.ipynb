{
 "cells": [
  {
   "cell_type": "code",
   "execution_count": 6,
   "metadata": {},
   "outputs": [],
   "source": [
    "board = [[0,0,0,0,0],[0,0,1,0,3],[0,2,5,0,1],[4,2,4,4,2],[3,5,1,3,1]]\n",
    "cnt = 0\n",
    "def charter():\n",
    "    \n"
   ]
  },
  {
   "cell_type": "code",
   "execution_count": 27,
   "metadata": {},
   "outputs": [
    {
     "data": {
      "text/plain": [
       "3"
      ]
     },
     "execution_count": 27,
     "metadata": {},
     "output_type": "execute_result"
    }
   ],
   "source": [
    "board[4][0]"
   ]
  },
  {
   "cell_type": "code",
   "execution_count": 271,
   "metadata": {},
   "outputs": [],
   "source": [
    "board = [[0,0,0,0,0],[0,0,1,0,3],[0,2,5,0,1],[4,2,4,4,2],[3,5,1,3,1]]\n",
    "moves = [1,5,3,5,1,2,1,4] \n",
    "\n",
    "def charter(board):\n",
    "    cnt = 0\n",
    "    stack =[]\n",
    "    for i in moves:\n",
    "        for j in range(0,5):\n",
    "            if board[j][i-1] !=0:\n",
    "                stack.append(board[j][i-1])\n",
    "                board[j][i-1] = 0\n",
    "                if len(stack)>1:\n",
    "                    if stack[-1]==stack[-2]:\n",
    "                        stack.pop()\n",
    "                        stack.pop()\n",
    "                        cnt+=2 \n",
    "                \n",
    "                break\n",
    "    return cnt\n",
    "                "
   ]
  },
  {
   "cell_type": "code",
   "execution_count": 272,
   "metadata": {},
   "outputs": [
    {
     "data": {
      "text/plain": [
       "4"
      ]
     },
     "execution_count": 272,
     "metadata": {},
     "output_type": "execute_result"
    }
   ],
   "source": [
    "charter(board)"
   ]
  },
  {
   "cell_type": "code",
   "execution_count": 267,
   "metadata": {},
   "outputs": [],
   "source": [
    "board = [[0,0,0,0,0],[0,0,1,0,3],[0,2,5,0,1],[4,2,4,4,2],[3,5,1,3,1]]\n",
    "moves = [1,5,3,5,1,2,1,4]\n",
    "\n",
    "def charter(board):\n",
    "    cnt = 0\n",
    "    stack =[]\n",
    "    for i in moves:\n",
    "        print(f'before: {stack}')\n",
    "        for j in range(0,5):\n",
    "            if len(stack) > 1:\n",
    "                print(f'len(stack)>2: {len(stack)>2} / stack[-1] == stack[-2]: {stack[-1] == stack[-2]}')\n",
    "                print(f'stack[-1]:{stack[-1]} / stack[-2]:{stack[-2]}')\n",
    "            if len(stack)>2 and (stack[-1] == board[j][i-1]):\n",
    "                print('11111111111111111111111111')\n",
    "                del stack[-1] \n",
    "                cnt +=2\n",
    "            if board[j][i-1] ==0:\n",
    "                print('22222222222222222222222222222')\n",
    "                continue\n",
    "            elif board[j][i-1] !=0:\n",
    "                print('333333333333333333333333')\n",
    "                stack.append(board[j][i-1])\n",
    "                board[j][i-1] = 0\n",
    "                break\n",
    "            \n",
    "            \n",
    "        print(f'after: {stack}')\n",
    "    return cnt\n",
    "                "
   ]
  },
  {
   "cell_type": "code",
   "execution_count": 268,
   "metadata": {},
   "outputs": [
    {
     "name": "stdout",
     "output_type": "stream",
     "text": [
      "before: []\n",
      "22222222222222222222222222222\n",
      "22222222222222222222222222222\n",
      "22222222222222222222222222222\n",
      "333333333333333333333333\n",
      "after: [4]\n",
      "before: [4]\n",
      "22222222222222222222222222222\n",
      "333333333333333333333333\n",
      "after: [4, 3]\n",
      "before: [4, 3]\n",
      "len(stack)>2: False / stack[-1] == stack[-2]: False\n",
      "stack[-1]:3 / stack[-2]:4\n",
      "22222222222222222222222222222\n",
      "len(stack)>2: False / stack[-1] == stack[-2]: False\n",
      "stack[-1]:3 / stack[-2]:4\n",
      "333333333333333333333333\n",
      "after: [4, 3, 1]\n",
      "before: [4, 3, 1]\n",
      "len(stack)>2: True / stack[-1] == stack[-2]: False\n",
      "stack[-1]:1 / stack[-2]:3\n",
      "22222222222222222222222222222\n",
      "len(stack)>2: True / stack[-1] == stack[-2]: False\n",
      "stack[-1]:1 / stack[-2]:3\n",
      "22222222222222222222222222222\n",
      "len(stack)>2: True / stack[-1] == stack[-2]: False\n",
      "stack[-1]:1 / stack[-2]:3\n",
      "11111111111111111111111111\n",
      "333333333333333333333333\n",
      "after: [4, 3, 1]\n",
      "before: [4, 3, 1]\n",
      "len(stack)>2: True / stack[-1] == stack[-2]: False\n",
      "stack[-1]:1 / stack[-2]:3\n",
      "22222222222222222222222222222\n",
      "len(stack)>2: True / stack[-1] == stack[-2]: False\n",
      "stack[-1]:1 / stack[-2]:3\n",
      "22222222222222222222222222222\n",
      "len(stack)>2: True / stack[-1] == stack[-2]: False\n",
      "stack[-1]:1 / stack[-2]:3\n",
      "22222222222222222222222222222\n",
      "len(stack)>2: True / stack[-1] == stack[-2]: False\n",
      "stack[-1]:1 / stack[-2]:3\n",
      "22222222222222222222222222222\n",
      "len(stack)>2: True / stack[-1] == stack[-2]: False\n",
      "stack[-1]:1 / stack[-2]:3\n",
      "333333333333333333333333\n",
      "after: [4, 3, 1, 3]\n",
      "before: [4, 3, 1, 3]\n",
      "len(stack)>2: True / stack[-1] == stack[-2]: False\n",
      "stack[-1]:3 / stack[-2]:1\n",
      "22222222222222222222222222222\n",
      "len(stack)>2: True / stack[-1] == stack[-2]: False\n",
      "stack[-1]:3 / stack[-2]:1\n",
      "22222222222222222222222222222\n",
      "len(stack)>2: True / stack[-1] == stack[-2]: False\n",
      "stack[-1]:3 / stack[-2]:1\n",
      "333333333333333333333333\n",
      "after: [4, 3, 1, 3, 2]\n",
      "before: [4, 3, 1, 3, 2]\n",
      "len(stack)>2: True / stack[-1] == stack[-2]: False\n",
      "stack[-1]:2 / stack[-2]:3\n",
      "22222222222222222222222222222\n",
      "len(stack)>2: True / stack[-1] == stack[-2]: False\n",
      "stack[-1]:2 / stack[-2]:3\n",
      "22222222222222222222222222222\n",
      "len(stack)>2: True / stack[-1] == stack[-2]: False\n",
      "stack[-1]:2 / stack[-2]:3\n",
      "22222222222222222222222222222\n",
      "len(stack)>2: True / stack[-1] == stack[-2]: False\n",
      "stack[-1]:2 / stack[-2]:3\n",
      "22222222222222222222222222222\n",
      "len(stack)>2: True / stack[-1] == stack[-2]: False\n",
      "stack[-1]:2 / stack[-2]:3\n",
      "22222222222222222222222222222\n",
      "after: [4, 3, 1, 3, 2]\n",
      "before: [4, 3, 1, 3, 2]\n",
      "len(stack)>2: True / stack[-1] == stack[-2]: False\n",
      "stack[-1]:2 / stack[-2]:3\n",
      "22222222222222222222222222222\n",
      "len(stack)>2: True / stack[-1] == stack[-2]: False\n",
      "stack[-1]:2 / stack[-2]:3\n",
      "22222222222222222222222222222\n",
      "len(stack)>2: True / stack[-1] == stack[-2]: False\n",
      "stack[-1]:2 / stack[-2]:3\n",
      "22222222222222222222222222222\n",
      "len(stack)>2: True / stack[-1] == stack[-2]: False\n",
      "stack[-1]:2 / stack[-2]:3\n",
      "333333333333333333333333\n",
      "after: [4, 3, 1, 3, 2, 4]\n"
     ]
    },
    {
     "data": {
      "text/plain": [
       "2"
      ]
     },
     "execution_count": 268,
     "metadata": {},
     "output_type": "execute_result"
    }
   ],
   "source": [
    "charter(board)"
   ]
  },
  {
   "cell_type": "code",
   "execution_count": 56,
   "metadata": {},
   "outputs": [
    {
     "name": "stdout",
     "output_type": "stream",
     "text": [
      "1\n",
      "2\n",
      "3\n"
     ]
    }
   ],
   "source": [
    "a = [1,2,3]\n",
    "for i in range(3):\n",
    "    print(a[i])"
   ]
  },
  {
   "cell_type": "code",
   "execution_count": 53,
   "metadata": {},
   "outputs": [
    {
     "ename": "IndexError",
     "evalue": "list index out of range",
     "output_type": "error",
     "traceback": [
      "\u001b[1;31m---------------------------------------------------------------------------\u001b[0m",
      "\u001b[1;31mIndexError\u001b[0m                                Traceback (most recent call last)",
      "Cell \u001b[1;32mIn[53], line 1\u001b[0m\n\u001b[1;32m----> 1\u001b[0m charter(board)\n",
      "Cell \u001b[1;32mIn[52], line 13\u001b[0m, in \u001b[0;36mcharter\u001b[1;34m(board)\u001b[0m\n\u001b[0;32m     11\u001b[0m         board[j][i] \u001b[39m==\u001b[39m \u001b[39m0\u001b[39m\n\u001b[0;32m     12\u001b[0m         \u001b[39mbreak\u001b[39;00m\n\u001b[1;32m---> 13\u001b[0m \u001b[39mif\u001b[39;00m moves[\u001b[39m-\u001b[39m\u001b[39m1\u001b[39m] \u001b[39m==\u001b[39m moves[\u001b[39m-\u001b[39;49m\u001b[39m2\u001b[39;49m]:\n\u001b[0;32m     14\u001b[0m     \u001b[39mdel\u001b[39;00m moves[\u001b[39m-\u001b[39m\u001b[39m2\u001b[39m:] \u001b[39m# 들어온값이랑 같은거 두개 제거 \u001b[39;00m\n\u001b[0;32m     15\u001b[0m     cnt \u001b[39m+\u001b[39m\u001b[39m=\u001b[39m\u001b[39m1\u001b[39m\n",
      "\u001b[1;31mIndexError\u001b[0m: list index out of range"
     ]
    }
   ],
   "source": [
    "charter(board)"
   ]
  }
 ],
 "metadata": {
  "kernelspec": {
   "display_name": ".venv",
   "language": "python",
   "name": "python3"
  },
  "language_info": {
   "codemirror_mode": {
    "name": "ipython",
    "version": 3
   },
   "file_extension": ".py",
   "mimetype": "text/x-python",
   "name": "python",
   "nbconvert_exporter": "python",
   "pygments_lexer": "ipython3",
   "version": "3.10.11"
  },
  "orig_nbformat": 4
 },
 "nbformat": 4,
 "nbformat_minor": 2
}
