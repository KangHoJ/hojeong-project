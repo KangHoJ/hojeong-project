{
 "cells": [
  {
   "attachments": {},
   "cell_type": "markdown",
   "metadata": {},
   "source": [
    "### 내풀이"
   ]
  },
  {
   "cell_type": "code",
   "execution_count": 56,
   "metadata": {},
   "outputs": [
    {
     "name": "stdout",
     "output_type": "stream",
     "text": [
      "6\n",
      "NO\n",
      "NO\n",
      "yes\n",
      "NO\n",
      "yes\n",
      "NO\n"
     ]
    }
   ],
   "source": [
    "num  =int(input('숫자를 입력하세요'))\n",
    "print(num)\n",
    "for i in range(num):\n",
    "    user = str(input('괄호를 입력하세요'))\n",
    "    if user.count('(') == user.count(')'):\n",
    "        for j in range(len(user)//2):\n",
    "            user = user.replace('()','') \n",
    "            if user == '' :\n",
    "                print('yes')\n",
    "                break\n",
    "            if user == ')(':\n",
    "                print('NO')\n",
    "                break\n",
    "            else:\n",
    "                continue\n",
    "                    \n",
    "    else:\n",
    "        print('NO')\n",
    "    \n",
    "\n",
    "        "
   ]
  },
  {
   "attachments": {},
   "cell_type": "markdown",
   "metadata": {},
   "source": [
    "### stack 사용한 풀이"
   ]
  },
  {
   "cell_type": "code",
   "execution_count": 57,
   "metadata": {},
   "outputs": [
    {
     "name": "stdout",
     "output_type": "stream",
     "text": [
      "YES\n",
      "NO\n",
      "NO\n"
     ]
    }
   ],
   "source": [
    "T = int(input()) # 테스트 데이터의 개수 \n",
    "\n",
    "for i in range(T):\n",
    "    stack = []\n",
    "    val=input()\n",
    "    for j in val:\n",
    "        if j == '(':\n",
    "            stack.append(j)\n",
    "        elif j == ')':\n",
    "            if stack:\n",
    "                stack.pop()\n",
    "            else: # 스택에 괄호가 없을경우 NO\n",
    "                print(\"NO\")\n",
    "                break\n",
    "    else: # break문으로 끊기지 않고 수행되었을 경우 수행\n",
    "        if not stack: # break문으로 안끊기고 스택이 비어있다면 괄호의 조합이 맞음\n",
    "            print(\"YES\")\n",
    "        else: # break문에 끊기지 않았더라도 스택에 괄호가 들어있다면 NO이다.\n",
    "            print(\"NO\")"
   ]
  },
  {
   "cell_type": "code",
   "execution_count": null,
   "metadata": {},
   "outputs": [],
   "source": []
  },
  {
   "cell_type": "code",
   "execution_count": null,
   "metadata": {},
   "outputs": [],
   "source": []
  }
 ],
 "metadata": {
  "kernelspec": {
   "display_name": ".venv",
   "language": "python",
   "name": "python3"
  },
  "language_info": {
   "codemirror_mode": {
    "name": "ipython",
    "version": 3
   },
   "file_extension": ".py",
   "mimetype": "text/x-python",
   "name": "python",
   "nbconvert_exporter": "python",
   "pygments_lexer": "ipython3",
   "version": "3.10.11"
  },
  "orig_nbformat": 4
 },
 "nbformat": 4,
 "nbformat_minor": 2
}
