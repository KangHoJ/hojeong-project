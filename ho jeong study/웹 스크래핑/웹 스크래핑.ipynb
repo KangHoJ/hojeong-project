{
 "cells": [
  {
   "cell_type": "code",
   "execution_count": 29,
   "metadata": {},
   "outputs": [
    {
     "name": "stdout",
     "output_type": "stream",
     "text": [
      "None\n"
     ]
    }
   ],
   "source": [
    "import requests\n",
    "from bs4 import BeautifulSoup\n",
    "\n",
    "url = 'https://comic.naver.com/index'\n",
    "res = requests.get(url)\n",
    "res.raise_for_status\n",
    "\n",
    "soup = BeautifulSoup(res.text,'lxml') # 객체로 만들어줌 \n",
    "\n",
    "# print(soup.title)\n",
    "# print(soup.title.get_text())\n",
    "# print(soup.a) # soup객체에서 처음 발견되는  a element 출력\n",
    "# print(soup.a.attrs) # a element 의 속성정보\n",
    "# print(soup.a['href']) # a element 의 href 정보 \n",
    "\n",
    "\n",
    "k = soup.find('span',attrs={'class':'text'})\n",
    "print(k)\n",
    "\n",
    "######## 만약 태그안에 rank가 있다고 가정할때 ########\n",
    "rank1 = soup.find('li',attrs={'class':'rank01'}) # 태그명 li이고 class가 ~ 인것 가져옴\n",
    "rank2 = rank1.find_next_sibling('li') # 다음 태그명 li인것 찾는다\n",
    "print(rank2.a.get_text())\n",
    "rank1 = rank2.find_previous_sibling('li') # 이전 태그명 li 인것 찾는다\n",
    "print(rank1.a.get_text())\n",
    "\n",
    "\n",
    "print(rank1.find_next_sibling('li')) # rank1과 관련된 elemnet중 li 태그인것 모두 추출\n",
    "\n"
   ]
  }
 ],
 "metadata": {
  "kernelspec": {
   "display_name": ".venv",
   "language": "python",
   "name": "python3"
  },
  "language_info": {
   "codemirror_mode": {
    "name": "ipython",
    "version": 3
   },
   "file_extension": ".py",
   "mimetype": "text/x-python",
   "name": "python",
   "nbconvert_exporter": "python",
   "pygments_lexer": "ipython3",
   "version": "3.10.11"
  },
  "orig_nbformat": 4
 },
 "nbformat": 4,
 "nbformat_minor": 2
}
