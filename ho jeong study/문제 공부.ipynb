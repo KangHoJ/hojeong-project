{
 "cells": [
  {
   "cell_type": "code",
   "execution_count": 5,
   "metadata": {},
   "outputs": [
    {
     "name": "stdout",
     "output_type": "stream",
     "text": [
      "71를 더할 떄 2537을 넘으며 그 떄의 값은 2556입니다\n"
     ]
    }
   ],
   "source": [
    "num = 0\n",
    "for i in range(1,1000):\n",
    "    num += i\n",
    "    if num >=2537:\n",
    "        break\n",
    "    \n",
    "print(f'{i}를 더할 떄 2537을 넘으며 그 떄의 값은 {num}입니다')"
   ]
  },
  {
   "cell_type": "code",
   "execution_count": 6,
   "metadata": {},
   "outputs": [
    {
     "name": "stdout",
     "output_type": "stream",
     "text": [
      "주문상태 : 상품 준비\n",
      "주문상태 : 배송 중\n",
      "주문상태 : 상품 완료\n"
     ]
    }
   ],
   "source": [
    "# 2장\n",
    "status = '상품 준비'\n",
    "print(f'주문상태 : {status}')\n",
    "status = '배송 중'\n",
    "print(f'주문상태 : {status}')\n",
    "status = '상품 완료'\n",
    "print(f'주문상태 : {status}')"
   ]
  },
  {
   "cell_type": "code",
   "execution_count": 11,
   "metadata": {},
   "outputs": [
    {
     "name": "stdout",
     "output_type": "stream",
     "text": [
      "The early bird catches the worm\n"
     ]
    }
   ],
   "source": [
    "english = 'the early bird catches the worm'\n",
    "first = english[0].upper() \n",
    "last = english[1:]\n",
    "print(first+last)"
   ]
  },
  {
   "cell_type": "code",
   "execution_count": 12,
   "metadata": {},
   "outputs": [
    {
     "data": {
      "text/plain": [
       "{'과학', '수학', '영어'}"
      ]
     },
     "execution_count": 12,
     "metadata": {},
     "output_type": "execute_result"
    }
   ],
   "source": [
    "lst = ['수학','과학','영어','수학']\n",
    "set(lst)"
   ]
  },
  {
   "cell_type": "code",
   "execution_count": null,
   "metadata": {},
   "outputs": [
    {
     "data": {
      "text/plain": [
       "3"
      ]
     },
     "execution_count": 18,
     "metadata": {},
     "output_type": "execute_result"
    }
   ],
   "source": [
    "7//2"
   ]
  },
  {
   "cell_type": "code",
   "execution_count": null,
   "metadata": {},
   "outputs": [],
   "source": [
    "price = 1000\n",
    "num = 9\n",
    "# num = int(input('상품의 개수를 입력하세요')) \n",
    "hal = (num // 3)*1000\n",
    "sum = (price * num) - hal\n",
    "\n",
    "print('2+1상품입니다'* (num-(num//3)))"
   ]
  },
  {
   "cell_type": "code",
   "execution_count": null,
   "metadata": {},
   "outputs": [],
   "source": []
  },
  {
   "cell_type": "code",
   "execution_count": null,
   "metadata": {},
   "outputs": [],
   "source": []
  }
 ],
 "metadata": {
  "kernelspec": {
   "display_name": ".venv",
   "language": "python",
   "name": "python3"
  },
  "language_info": {
   "codemirror_mode": {
    "name": "ipython",
    "version": 3
   },
   "file_extension": ".py",
   "mimetype": "text/x-python",
   "name": "python",
   "nbconvert_exporter": "python",
   "pygments_lexer": "ipython3",
   "version": "3.10.11"
  },
  "orig_nbformat": 4
 },
 "nbformat": 4,
 "nbformat_minor": 2
}
