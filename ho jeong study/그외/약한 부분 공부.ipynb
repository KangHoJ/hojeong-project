{
 "cells": [
  {
   "attachments": {},
   "cell_type": "markdown",
   "id": "cac8309b-56dc-4102-94a3-430d37b72a73",
   "metadata": {},
   "source": [
    "### 이스케이프 코드"
   ]
  },
  {
   "cell_type": "code",
   "execution_count": 2,
   "id": "701f4a8b-d1f6-43c1-a823-b4116900b0e1",
   "metadata": {},
   "outputs": [
    {
     "name": "stdout",
     "output_type": "stream",
     "text": [
      "pytyhon\\all\\abb\n"
     ]
    }
   ],
   "source": [
    "a = 'pytyhon\\\\all\\\\abb'\n",
    "print(a) "
   ]
  },
  {
   "cell_type": "code",
   "execution_count": 3,
   "id": "ffc05e0e-7a4f-48b7-ac43-3f76fb1f1316",
   "metadata": {},
   "outputs": [
    {
     "name": "stdout",
     "output_type": "stream",
     "text": [
      "He said \"Hello world\"\n"
     ]
    }
   ],
   "source": [
    "a = \"He said \\\"Hello world\\\"\"\n",
    "print(a)"
   ]
  },
  {
   "cell_type": "code",
   "execution_count": 4,
   "id": "64fd8ad4-e45c-4a7d-9d02-79f07767c849",
   "metadata": {},
   "outputs": [
    {
     "name": "stdout",
     "output_type": "stream",
     "text": [
      "I'm a student\n"
     ]
    }
   ],
   "source": [
    "a = 'I\\'m a student'\n",
    "print(a)"
   ]
  },
  {
   "attachments": {},
   "cell_type": "markdown",
   "id": "3a55aa85-7b63-4d6c-a726-2435f124fa72",
   "metadata": {},
   "source": [
    "### 문자열 슬라이싱"
   ]
  },
  {
   "cell_type": "code",
   "execution_count": 5,
   "id": "d0b660c1-fdae-4a83-a7c9-85efae454498",
   "metadata": {},
   "outputs": [
    {
     "data": {
      "text/plain": [
       "'Hlowrd'"
      ]
     },
     "execution_count": 5,
     "metadata": {},
     "output_type": "execute_result"
    }
   ],
   "source": [
    "a = 'Hello world!'\n",
    "a[0:-1:2]"
   ]
  },
  {
   "attachments": {},
   "cell_type": "markdown",
   "id": "9c144f28-6f03-4064-9568-671eaf888054",
   "metadata": {},
   "source": [
    "### count"
   ]
  },
  {
   "cell_type": "code",
   "execution_count": 9,
   "id": "fdcde50f-aa34-4093-924c-7aec91026eac",
   "metadata": {},
   "outputs": [
    {
     "name": "stdout",
     "output_type": "stream",
     "text": [
      "짝짝\n"
     ]
    }
   ],
   "source": [
    "a = '201811139'\n",
    "k = a.count('3') + a.count('6') + a.count('9')\n",
    "print('짝'*k)"
   ]
  },
  {
   "attachments": {},
   "cell_type": "markdown",
   "id": "9979b3fa-970d-49fd-ad3d-62e2c1de71ef",
   "metadata": {},
   "source": [
    "### join"
   ]
  },
  {
   "cell_type": "code",
   "execution_count": 10,
   "id": "62608884-9362-482d-95ce-4056d5167619",
   "metadata": {},
   "outputs": [
    {
     "data": {
      "text/plain": [
       "'2,0,1,8,1,1,1,3,9'"
      ]
     },
     "execution_count": 10,
     "metadata": {},
     "output_type": "execute_result"
    }
   ],
   "source": [
    "\",\".join(a) # a문자열에 ,를 삽입 "
   ]
  },
  {
   "cell_type": "code",
   "execution_count": 1,
   "id": "301bee70-8697-4598-a20b-7bfed1d512c3",
   "metadata": {},
   "outputs": [
    {
     "data": {
      "text/plain": [
       "'강.호.정'"
      ]
     },
     "execution_count": 1,
     "metadata": {},
     "output_type": "execute_result"
    }
   ],
   "source": [
    "'.'.join(['강','호','정'])"
   ]
  },
  {
   "attachments": {},
   "cell_type": "markdown",
   "id": "c4ec481c-9dd4-4d5d-b115-8edb5f7aea26",
   "metadata": {},
   "source": [
    "## dict"
   ]
  },
  {
   "cell_type": "code",
   "execution_count": 13,
   "id": "75c50d3a-52a9-45f3-a286-63774d3b9cc4",
   "metadata": {},
   "outputs": [],
   "source": [
    "dic = {'name':'pey', 'phone':'01099991111', 'birth':1118}"
   ]
  },
  {
   "cell_type": "code",
   "execution_count": 15,
   "id": "e0a9d761-516d-46e2-8472-eab3d483cb7d",
   "metadata": {},
   "outputs": [
    {
     "data": {
      "text/plain": [
       "['name', 'phone', 'birth']"
      ]
     },
     "execution_count": 15,
     "metadata": {},
     "output_type": "execute_result"
    }
   ],
   "source": [
    "[ k for k in dic.keys()]\n",
    "list(dic.keys())"
   ]
  },
  {
   "cell_type": "code",
   "execution_count": 16,
   "id": "2294365d-643c-4adc-931d-c8d6b73f3695",
   "metadata": {},
   "outputs": [
    {
     "data": {
      "text/plain": [
       "dict_items([('name', 'pey'), ('phone', '01099991111'), ('birth', 1118)])"
      ]
     },
     "execution_count": 16,
     "metadata": {},
     "output_type": "execute_result"
    }
   ],
   "source": [
    "dic.items()"
   ]
  },
  {
   "cell_type": "code",
   "execution_count": 17,
   "id": "53b4b798-de63-4825-9d56-7530d1347159",
   "metadata": {},
   "outputs": [
    {
     "name": "stdout",
     "output_type": "stream",
     "text": [
      "k: name / v: pey\n",
      "k: phone / v: 01099991111\n",
      "k: birth / v: 1118\n"
     ]
    }
   ],
   "source": [
    "for k, v in dic.items():\n",
    "  print(f'k: {k} / v: {v}')"
   ]
  },
  {
   "attachments": {},
   "cell_type": "markdown",
   "id": "ca0370ac-0ff4-4484-97d8-8e4de84e66bf",
   "metadata": {
    "tags": []
   },
   "source": [
    "# 함수"
   ]
  },
  {
   "cell_type": "code",
   "execution_count": 5,
   "id": "91041323-c4d9-4dcb-84d2-f5a5103905d9",
   "metadata": {},
   "outputs": [],
   "source": [
    "def func():\n",
    "    lst = ['강','호','정']\n",
    "    for i in lst:\n",
    "        print(i,end=' ')"
   ]
  },
  {
   "cell_type": "code",
   "execution_count": 6,
   "id": "831336d0-f7e0-4203-8700-5db2b94f595b",
   "metadata": {},
   "outputs": [
    {
     "name": "stdout",
     "output_type": "stream",
     "text": [
      "강 호 정 "
     ]
    }
   ],
   "source": [
    "func()"
   ]
  },
  {
   "attachments": {},
   "cell_type": "markdown",
   "id": "af50468f-89db-4df2-9b63-1f646db32837",
   "metadata": {},
   "source": [
    "### 입력변수 o , 출력변수x"
   ]
  },
  {
   "cell_type": "code",
   "execution_count": 11,
   "id": "2f2d3ec8-5abd-4662-bd0b-b15d9f68fb2a",
   "metadata": {},
   "outputs": [],
   "source": [
    "def func2(break_number):\n",
    "    list = [1,2,3,4,5]\n",
    "    for i in list:\n",
    "        print(i ,end= ' ')\n",
    "        if break_number < i:\n",
    "            break"
   ]
  },
  {
   "cell_type": "code",
   "execution_count": 12,
   "id": "5a19b187-28b6-4849-8695-89824bfab520",
   "metadata": {},
   "outputs": [
    {
     "name": "stdout",
     "output_type": "stream",
     "text": [
      "1 2 3 "
     ]
    }
   ],
   "source": [
    "func2(2)"
   ]
  },
  {
   "attachments": {},
   "cell_type": "markdown",
   "id": "7a6e1ebb-6601-4269-93c8-9a5423a8d752",
   "metadata": {},
   "source": [
    "### 입력변수x , 출력변수o"
   ]
  },
  {
   "cell_type": "code",
   "execution_count": 18,
   "id": "fc5f8a00-2707-457f-8e8e-02ceaf570f44",
   "metadata": {},
   "outputs": [],
   "source": [
    "def fun3():\n",
    "    a=3\n",
    "    b=2\n",
    "    \n",
    "    if a>b:\n",
    "        return f'{a} 가 {b} 보다 크다'\n",
    "    else :\n",
    "        return f'{a} 가 {b} 보다 작거나 같다'"
   ]
  },
  {
   "cell_type": "code",
   "execution_count": 21,
   "id": "2dc113d1-d44b-4c28-94b5-d5a793087998",
   "metadata": {},
   "outputs": [
    {
     "data": {
      "text/plain": [
       "'3 가 2 보다 크다'"
      ]
     },
     "execution_count": 21,
     "metadata": {},
     "output_type": "execute_result"
    }
   ],
   "source": [
    "result = fun3()\n",
    "result"
   ]
  },
  {
   "cell_type": "code",
   "execution_count": 22,
   "id": "debaf1f9-5384-4ccf-a6e5-f43137aa88e0",
   "metadata": {},
   "outputs": [
    {
     "data": {
      "text/plain": [
       "'10 가 5 보다 크다'"
      ]
     },
     "execution_count": 22,
     "metadata": {},
     "output_type": "execute_result"
    }
   ],
   "source": [
    "def fun4(a,b):\n",
    "    if a>b:\n",
    "        return f'{a} 가 {b} 보다 크다'\n",
    "    else :\n",
    "        return f'{a} 가 {b} 보다 작거나 같다'\n",
    "\n",
    "fun4(10,5)"
   ]
  },
  {
   "attachments": {},
   "cell_type": "markdown",
   "id": "a13ab500-626c-4e36-9162-3f371de24469",
   "metadata": {},
   "source": [
    "### 가변 파라미터"
   ]
  },
  {
   "cell_type": "code",
   "execution_count": 23,
   "id": "9ea1fad0-a256-4ee9-81e2-b604e9200c25",
   "metadata": {},
   "outputs": [],
   "source": [
    "def add(*args):\n",
    "    print(sum(args))"
   ]
  },
  {
   "cell_type": "code",
   "execution_count": 25,
   "id": "5c426bae-566e-4f64-8340-933e01f18577",
   "metadata": {},
   "outputs": [
    {
     "name": "stdout",
     "output_type": "stream",
     "text": [
      "6\n"
     ]
    }
   ],
   "source": [
    "lst = [1,2,3]\n",
    "add(*lst)"
   ]
  },
  {
   "cell_type": "code",
   "execution_count": 40,
   "id": "41f9b85d-5812-4523-a525-c48457acf470",
   "metadata": {},
   "outputs": [
    {
     "name": "stdout",
     "output_type": "stream",
     "text": [
      "6\n"
     ]
    }
   ],
   "source": [
    "# 변수로 했을때 \n",
    "def add2(k):\n",
    "    print(sum(k))\n",
    "\n",
    "lst=[1,2,3]\n",
    "add2(lst)"
   ]
  },
  {
   "cell_type": "code",
   "execution_count": 36,
   "id": "e30653c8-3296-4a79-9408-02fc9fa651b4",
   "metadata": {},
   "outputs": [
    {
     "name": "stdout",
     "output_type": "stream",
     "text": [
      "0\n",
      "12\n"
     ]
    }
   ],
   "source": [
    "def add(*args , a=0):\n",
    "    print(sum(args) * a)\n",
    "    \n",
    "add(1,2,3)\n",
    "add(1,2,a=4)"
   ]
  },
  {
   "attachments": {},
   "cell_type": "markdown",
   "id": "b2ad7825-de30-4df2-9aa5-88277945f475",
   "metadata": {},
   "source": [
    "### 키워드 가변 파라미터"
   ]
  },
  {
   "cell_type": "code",
   "execution_count": 37,
   "id": "b73a4086-d78c-4b0a-be57-ea9da428663b",
   "metadata": {},
   "outputs": [
    {
     "name": "stdout",
     "output_type": "stream",
     "text": [
      "{'name': '강호정', 'age': 25, 'adress': '서울'}\n"
     ]
    }
   ],
   "source": [
    "def user_info(**kwargs):\n",
    "    print(kwargs)\n",
    "\n",
    "user_info(name='강호정',age=25,adress='서울')"
   ]
  },
  {
   "cell_type": "code",
   "execution_count": 42,
   "id": "e1533e26-4690-4af7-b4ed-0bbfc06fea7b",
   "metadata": {},
   "outputs": [
    {
     "name": "stdout",
     "output_type": "stream",
     "text": [
      "{'name': '강호정', 'age': 25, 'adress': '서울'}\n"
     ]
    }
   ],
   "source": [
    "user = {\n",
    "    'name':'강호정',\n",
    "    'age':25,\n",
    "    'adress':'서울'}\n",
    "user_info(**)"
   ]
  },
  {
   "cell_type": "code",
   "execution_count": 54,
   "id": "6d1dcd12-c332-4d8b-a169-6fab7bcc1645",
   "metadata": {},
   "outputs": [
    {
     "name": "stdout",
     "output_type": "stream",
     "text": [
      "강호정씨가 공부하기싫다라고 말했어요\n"
     ]
    }
   ],
   "source": [
    "def user_answer(naame,answer,**user):\n",
    "    print(f'{naame}씨가 {answer}라고 말했어요')\n",
    "    \n",
    "user_answer('강호정','공부하기싫다')"
   ]
  },
  {
   "cell_type": "code",
   "execution_count": 61,
   "id": "18ae3cb6-d0ff-4649-9bb9-47a8a42c6073",
   "metadata": {},
   "outputs": [
    {
     "name": "stdout",
     "output_type": "stream",
     "text": [
      "똑똑이는 이번 2학년 중간고사 시험에서 평규 95.25 받았어요.\n"
     ]
    }
   ],
   "source": [
    "# 앞에서 선언한것을 쓸때 *과 **를 활용하면 좋음\n",
    "student = {\n",
    "    'name': '똑똑이',\n",
    "    'grade': '2학년'\n",
    "}\n",
    "exam_scores = [90, 99, 95, 97]\n",
    "\n",
    "def get_avg_score(exam_name, *exam_scores, **student):\n",
    "    print(f'{student[\"name\"]}는 이번 {student[\"grade\"]} {exam_name}에서 평규 {sum(exam_scores)/len(exam_scores)} 받았어요.')\n",
    "\n",
    "get_avg_score('중간고사 시험', *exam_scores, **student) # 할당 안해준것만 값 지정해주면 된다 "
   ]
  },
  {
   "attachments": {},
   "cell_type": "markdown",
   "id": "a014f318-9f2b-4af9-b11b-a2179c3d40bc",
   "metadata": {},
   "source": [
    "### 함수 두개"
   ]
  },
  {
   "cell_type": "code",
   "execution_count": 62,
   "id": "ceac4234-bfa2-41ac-9611-fc40b08b9851",
   "metadata": {},
   "outputs": [],
   "source": [
    "def func_out(para):\n",
    "    a=10\n",
    "    def func_in():\n",
    "        return a + para\n",
    "    return func_in"
   ]
  },
  {
   "cell_type": "code",
   "execution_count": 66,
   "id": "693ac516-4df5-424a-ba8b-75ce29e04860",
   "metadata": {},
   "outputs": [
    {
     "data": {
      "text/plain": [
       "20"
      ]
     },
     "execution_count": 66,
     "metadata": {},
     "output_type": "execute_result"
    }
   ],
   "source": [
    "func = func_out(10) # 내부함수인 func_in 리턴\n",
    "func() "
   ]
  },
  {
   "attachments": {},
   "cell_type": "markdown",
   "id": "8a4c0cf8-2569-4f79-be3b-2cf173dcf593",
   "metadata": {},
   "source": [
    "## 콜백함수"
   ]
  },
  {
   "cell_type": "code",
   "execution_count": 67,
   "id": "1dab7ece-8eef-4b78-a421-f67e7cd742ad",
   "metadata": {},
   "outputs": [],
   "source": [
    "def call_func(a,func):\n",
    "    return func(a)\n",
    "def add_one(num):\n",
    "    return num +1\n",
    "def add_three(num):\n",
    "    return num +3"
   ]
  },
  {
   "cell_type": "code",
   "execution_count": 70,
   "id": "21ff12d4-0525-454b-a8e8-83bd87219a0c",
   "metadata": {},
   "outputs": [
    {
     "data": {
      "text/plain": [
       "6"
      ]
     },
     "execution_count": 70,
     "metadata": {},
     "output_type": "execute_result"
    }
   ],
   "source": [
    "call_func(3,add_one)\n",
    "call_func(3,add_three)"
   ]
  },
  {
   "cell_type": "code",
   "execution_count": 73,
   "id": "0af8e2ca-f0c2-4b60-810b-f022faec5474",
   "metadata": {},
   "outputs": [
    {
     "data": {
      "text/plain": [
       "9"
      ]
     },
     "execution_count": 73,
     "metadata": {},
     "output_type": "execute_result"
    }
   ],
   "source": [
    "def call_func(a,func1,func2):\n",
    "    return func1(a) + func2(a)\n",
    "def add_one(num):\n",
    "    return num +1\n",
    "def add_three(num):\n",
    "    return num+2\n",
    "call_func(3,add_one,add_three)"
   ]
  },
  {
   "attachments": {},
   "cell_type": "markdown",
   "id": "5c5575ff-b639-4972-ab2b-ab2986866ee7",
   "metadata": {},
   "source": [
    "## Decorate"
   ]
  },
  {
   "cell_type": "code",
   "execution_count": 74,
   "id": "76a3483c-9628-4335-90d2-70e51749c8c0",
   "metadata": {},
   "outputs": [],
   "source": [
    "import time\n",
    "\n",
    "def elapsed(original_func):\n",
    "    def wrapper():\n",
    "        start = time.time()\n",
    "        result = original_func()\n",
    "        end = time.time()\n",
    "        print(f'함수 수행시간{end-start}')\n",
    "        return result\n",
    "    return wrapper"
   ]
  },
  {
   "cell_type": "code",
   "execution_count": 75,
   "id": "36f70465-c63a-4000-8e2b-58a0f6550c43",
   "metadata": {},
   "outputs": [],
   "source": [
    "@elapsed\n",
    "def myfunc():\n",
    "    print('함수가 실행됩니다')"
   ]
  },
  {
   "cell_type": "code",
   "execution_count": 76,
   "id": "0927a208-4e01-4a49-8749-178979b4bcbd",
   "metadata": {},
   "outputs": [
    {
     "name": "stdout",
     "output_type": "stream",
     "text": [
      "함수가 실행됩니다\n",
      "함수 수행시간0.0\n"
     ]
    }
   ],
   "source": [
    "myfunc()"
   ]
  },
  {
   "attachments": {},
   "cell_type": "markdown",
   "id": "0b9a33d5-690a-4437-8a73-6a496f1b9227",
   "metadata": {
    "jp-MarkdownHeadingCollapsed": true,
    "tags": []
   },
   "source": [
    "## zip"
   ]
  },
  {
   "cell_type": "code",
   "execution_count": 77,
   "id": "b156abae-bda1-4b76-8e36-f499bb47e1da",
   "metadata": {},
   "outputs": [
    {
     "name": "stdout",
     "output_type": "stream",
     "text": [
      "1 a\n",
      "2 b\n",
      "3 c\n"
     ]
    }
   ],
   "source": [
    "lst1=[1,2,3]\n",
    "lst2=['a','b','c']\n",
    "\n",
    "for item in zip(lst1,lst2):\n",
    "    print(item[0],item[1])"
   ]
  },
  {
   "cell_type": "code",
   "execution_count": 78,
   "id": "05d880bc-e9ab-41b1-89d9-fe4e216aaeb3",
   "metadata": {},
   "outputs": [
    {
     "name": "stdout",
     "output_type": "stream",
     "text": [
      "(1, 'a')\n",
      "(2, 'b')\n",
      "(3, 'c')\n"
     ]
    }
   ],
   "source": [
    "for item in zip(lst1,lst2):\n",
    "    print(item)"
   ]
  },
  {
   "attachments": {},
   "cell_type": "markdown",
   "id": "d2989872-13ef-4695-ae52-f97a7513c8d3",
   "metadata": {},
   "source": [
    "## enumerate()"
   ]
  },
  {
   "cell_type": "code",
   "execution_count": 80,
   "id": "97f5a806-3270-40d5-a6c0-9d710c682d64",
   "metadata": {},
   "outputs": [
    {
     "name": "stdout",
     "output_type": "stream",
     "text": [
      "0번째, 이름:body\n",
      "1번째, 이름:foo\n",
      "2번째, 이름:bar\n",
      "3번째, 이름:koo\n"
     ]
    }
   ],
   "source": [
    "for index,name in enumerate(['body','foo','bar','koo']):\n",
    "    print(f'{index}번째, 이름:{name}')"
   ]
  },
  {
   "attachments": {},
   "cell_type": "markdown",
   "id": "bf8dc75f-bab3-4afc-bfbf-1b4af891c454",
   "metadata": {},
   "source": [
    "## 문제"
   ]
  },
  {
   "cell_type": "code",
   "execution_count": 105,
   "id": "69303e40-9723-4faa-a806-f2d2f6401873",
   "metadata": {},
   "outputs": [
    {
     "data": {
      "text/plain": [
       "[0.0, 0.8, 1.0]"
      ]
     },
     "execution_count": 105,
     "metadata": {},
     "output_type": "execute_result"
    }
   ],
   "source": [
    "def MIN_MAX_Scaling(lst):\n",
    "    for i in range(0,len(lst)):\n",
    "        lst[i]=((lst[i]-min(lst)) / (max(lst)-min(lst)))    \n",
    "    return lst\n",
    "\n",
    "MIN_MAX_Scaling([3,4,5])"
   ]
  },
  {
   "cell_type": "code",
   "execution_count": 112,
   "id": "8365f2c9-3061-4e3e-b9c8-3a58e6739eb3",
   "metadata": {},
   "outputs": [
    {
     "data": {
      "text/plain": [
       "4.0"
      ]
     },
     "execution_count": 112,
     "metadata": {},
     "output_type": "execute_result"
    }
   ],
   "source": [
    "def lst_AVERAGE(lst1):\n",
    "    avg = sum(lst1) / len(lst1)\n",
    "    return avg\n",
    "lst_AVERAGE([3,4,5])"
   ]
  },
  {
   "cell_type": "code",
   "execution_count": 121,
   "id": "ac2d0d37-2541-4588-acf7-b6dc6aa76cad",
   "metadata": {},
   "outputs": [
    {
     "data": {
      "text/plain": [
       "2"
      ]
     },
     "execution_count": 121,
     "metadata": {},
     "output_type": "execute_result"
    }
   ],
   "source": [
    "def argmax(lst2):\n",
    "    tmp = max(lst2)\n",
    "    index = lst2.index(tmp)\n",
    "    return index\n",
    "argmax([3,4,5])"
   ]
  },
  {
   "cell_type": "code",
   "execution_count": 122,
   "id": "3c055d27-2869-4846-942f-0cf2e9a4ed57",
   "metadata": {},
   "outputs": [
    {
     "data": {
      "text/plain": [
       "0"
      ]
     },
     "execution_count": 122,
     "metadata": {},
     "output_type": "execute_result"
    }
   ],
   "source": [
    "def argmin(lst2):\n",
    "    tmp = min(lst2)\n",
    "    index = lst2.index(tmp)\n",
    "    return index\n",
    "argmax([3,4,5])"
   ]
  },
  {
   "cell_type": "code",
   "execution_count": 137,
   "id": "d9479fec-1a0a-4084-b735-313d103fd4c8",
   "metadata": {},
   "outputs": [
    {
     "data": {
      "text/plain": [
       "2"
      ]
     },
     "execution_count": 137,
     "metadata": {},
     "output_type": "execute_result"
    }
   ],
   "source": [
    "def call_func(a,func1,func2):\n",
    "    function = int(input('최대를 구하고 싶으면 1 , 최소를 구하고 싶으면 2를 입력하세요'))\n",
    "    _ = [func1(a) if function ==1 else func2(a)]\n",
    "    return _\n",
    "    \n",
    "def argmax(lst2):\n",
    "    tmp = max(lst2)\n",
    "    index = lst2.index(tmp)\n",
    "    return index\n",
    "argmax([3,4,5])\n",
    "\n",
    "def argmin(lst2):\n",
    "    tmp = min(lst2)\n",
    "    index = lst2.index(tmp)\n",
    "    return index\n",
    "argmax([3,4,5])"
   ]
  },
  {
   "cell_type": "code",
   "execution_count": 142,
   "id": "55d299d1-fb38-4c5c-9186-3d0617727c5e",
   "metadata": {},
   "outputs": [
    {
     "data": {
      "text/plain": [
       "2"
      ]
     },
     "execution_count": 142,
     "metadata": {},
     "output_type": "execute_result"
    }
   ],
   "source": [
    "def call_func(a,func1,func2):\n",
    "    function = int(input('최대를 구하고 싶으면 1 , 최소를 구하고 싶으면 2를 입력하세요'))\n",
    "    if function == 1:\n",
    "        return func1(a) \n",
    "    else:\n",
    "        return func2(a)\n",
    "    \n",
    "def argmax_min(lst2):\n",
    "    max = lst2.index(max(lst2))\n",
    "    min = lst2.index(min(lst2))\n",
    "    return max, min\n",
    "argmax([3,4,5])"
   ]
  },
  {
   "cell_type": "code",
   "execution_count": 144,
   "id": "03602be1-b6c2-4ee4-898a-6ba94c3f6fe2",
   "metadata": {},
   "outputs": [
    {
     "name": "stdout",
     "output_type": "stream",
     "text": [
      "최대를 구하고 싶으면 1 , 최소를 구하고 싶으면 2를 입력하세요 2\n"
     ]
    },
    {
     "data": {
      "text/plain": [
       "0"
      ]
     },
     "execution_count": 144,
     "metadata": {},
     "output_type": "execute_result"
    }
   ],
   "source": [
    "call_func([3,4,5],argmax,argmin)"
   ]
  },
  {
   "cell_type": "code",
   "execution_count": 169,
   "id": "9ef975c0-630d-4351-8a6b-b69974bcae35",
   "metadata": {},
   "outputs": [],
   "source": [
    "def start_end_func(start,end=False): # end 조건 선택 가능 \n",
    "    lis = list(range(start,end))\n",
    "    lis2 = list(range(0,start))\n",
    "    if start == 5:\n",
    "        return lis2\n",
    "    else :\n",
    "        return lis"
   ]
  },
  {
   "cell_type": "code",
   "execution_count": 170,
   "id": "c219b800-c3d9-4811-9362-8a7f5d39eb23",
   "metadata": {},
   "outputs": [
    {
     "data": {
      "text/plain": [
       "[1, 2, 3, 4]"
      ]
     },
     "execution_count": 170,
     "metadata": {},
     "output_type": "execute_result"
    }
   ],
   "source": [
    "start_end_func(1,5)"
   ]
  },
  {
   "attachments": {},
   "cell_type": "markdown",
   "id": "56afb5f0-03d4-4b7b-b1aa-5d31719c9a13",
   "metadata": {},
   "source": [
    "# 클래스"
   ]
  },
  {
   "cell_type": "code",
   "execution_count": 171,
   "id": "85f5c846-2554-4df9-97c8-4f3086993ac6",
   "metadata": {},
   "outputs": [],
   "source": [
    "class Person:\n",
    "    name = 'person name'\n",
    "    age = 18\n",
    "    \n",
    "    def __init__(self,name):\n",
    "        self.name= name"
   ]
  },
  {
   "cell_type": "code",
   "execution_count": 172,
   "id": "64b60500-8b20-4e87-b0b5-dffad952b067",
   "metadata": {},
   "outputs": [
    {
     "name": "stdout",
     "output_type": "stream",
     "text": [
      "Person.name:person name / Person.age:18\n"
     ]
    }
   ],
   "source": [
    "## 클래스의 속성값\n",
    "print(f'Person.name:{Person.name} / Person.age:{Person.age}')"
   ]
  },
  {
   "cell_type": "code",
   "execution_count": 173,
   "id": "af627e3f-15d1-43a9-8329-259255897fa7",
   "metadata": {},
   "outputs": [],
   "source": [
    "p_instant1 = Person('인스턴트1')\n",
    "p_instant1.age =20"
   ]
  },
  {
   "cell_type": "code",
   "execution_count": 174,
   "id": "5c1cfed0-56a5-434e-8d05-67ee2b91e4cf",
   "metadata": {},
   "outputs": [],
   "source": [
    "p_instant2 = Person('인스턴트2')\n",
    "p_instant2.age =18"
   ]
  },
  {
   "cell_type": "code",
   "execution_count": 175,
   "id": "add80766-a2c1-41af-bb18-3f3bf3d20517",
   "metadata": {},
   "outputs": [
    {
     "name": "stdout",
     "output_type": "stream",
     "text": [
      "Person.name: person name / Person.age: 18\n"
     ]
    }
   ],
   "source": [
    "print(f'Person.name: {Person.name} / Person.age: {Person.age}')"
   ]
  },
  {
   "attachments": {},
   "cell_type": "markdown",
   "id": "f1b6969c-1cfc-4985-966d-9c6390fa7851",
   "metadata": {},
   "source": [
    "## overide"
   ]
  },
  {
   "cell_type": "code",
   "execution_count": 177,
   "id": "f459189b-83c2-449a-8b01-1f7325e64166",
   "metadata": {},
   "outputs": [],
   "source": [
    "class PlayerCharacter:\n",
    "    def __init__(self,hp=100,exp=0):\n",
    "        self.hp = hp\n",
    "        self.exp = exp\n",
    "\n",
    "    def attack(self):\n",
    "        print(\"공격하기\")\n",
    "        self.exp = self.exp + 2\n",
    "\n",
    "    def defend(self):\n",
    "        print(\"방어하기\")\n",
    "        self.exp = self.exp + 1"
   ]
  },
  {
   "cell_type": "code",
   "execution_count": 178,
   "id": "4cb0f0db-f239-409d-811d-33d626be9168",
   "metadata": {},
   "outputs": [],
   "source": [
    "class Wizard(PlayerCharacter): # 상속 받기\n",
    "    def __init__(self,mp):\n",
    "        super().__init__() # 부모클래스의 생성자를 실행하겠다.\n",
    "        self.mp = mp\n",
    "\n",
    "    def magic_skill(self):\n",
    "        print(\"마법 공격하기\")\n",
    "        self.mp = self.mp - 2\n",
    "\n",
    "    # 메소드 오버라이딩\n",
    "    def defend(self):\n",
    "        print(\"마법사가 방어하기\")\n",
    "        self.exp = self.exp + 3"
   ]
  },
  {
   "cell_type": "code",
   "execution_count": 188,
   "id": "edcb9aa3-e1f7-4e37-a521-44777ecb0412",
   "metadata": {},
   "outputs": [
    {
     "data": {
      "text/plain": [
       "0"
      ]
     },
     "execution_count": 188,
     "metadata": {},
     "output_type": "execute_result"
    }
   ],
   "source": [
    "player = Wizard(0) #player만듬\n",
    "player.exp"
   ]
  },
  {
   "cell_type": "code",
   "execution_count": 189,
   "id": "b28f82d6-9eb4-426c-8fc7-f68ac91bab85",
   "metadata": {},
   "outputs": [
    {
     "name": "stdout",
     "output_type": "stream",
     "text": [
      "마법사가 방어하기\n"
     ]
    },
    {
     "data": {
      "text/plain": [
       "3"
      ]
     },
     "execution_count": 189,
     "metadata": {},
     "output_type": "execute_result"
    }
   ],
   "source": [
    "player.defend()\n",
    "player.exp"
   ]
  },
  {
   "cell_type": "code",
   "execution_count": 190,
   "id": "b909d091-f17f-42fe-9821-47661ad25c57",
   "metadata": {},
   "outputs": [
    {
     "name": "stdout",
     "output_type": "stream",
     "text": [
      "방어하기\n"
     ]
    },
    {
     "data": {
      "text/plain": [
       "1"
      ]
     },
     "execution_count": 190,
     "metadata": {},
     "output_type": "execute_result"
    }
   ],
   "source": [
    "origin_player = PlayerCharacter()\n",
    "origin_player.defend()\n",
    "origin_player.exp"
   ]
  },
  {
   "attachments": {},
   "cell_type": "markdown",
   "id": "47ec209c-b358-47ad-a75a-b98ddfccd984",
   "metadata": {},
   "source": [
    "## 접근 지정자(public)"
   ]
  },
  {
   "cell_type": "code",
   "execution_count": 192,
   "id": "cc26a103-5550-4028-86cf-e51ffe2cba24",
   "metadata": {},
   "outputs": [],
   "source": [
    "class Student:\n",
    "    schoolName = 'XYZ School' # class attribute\n",
    "\n",
    "    def __init__(self, name, age):\n",
    "        self.name=name # instance attribute\n",
    "        self.age=age # instance attribute\n",
    "\n",
    "    def display(self):  # public method\n",
    "\t      print('This is public method.')"
   ]
  },
  {
   "cell_type": "code",
   "execution_count": 193,
   "id": "42a8b588-055b-45c1-9d74-227766df65b4",
   "metadata": {},
   "outputs": [
    {
     "data": {
      "text/plain": [
       "'XYZ School'"
      ]
     },
     "execution_count": 193,
     "metadata": {},
     "output_type": "execute_result"
    }
   ],
   "source": [
    "std = Student('kang',25)\n",
    "std.schoolName"
   ]
  },
  {
   "cell_type": "code",
   "execution_count": 194,
   "id": "5e0fbc1a-40b2-4058-b009-d00e8584ee97",
   "metadata": {},
   "outputs": [
    {
     "data": {
      "text/plain": [
       "'kang'"
      ]
     },
     "execution_count": 194,
     "metadata": {},
     "output_type": "execute_result"
    }
   ],
   "source": [
    "std.name"
   ]
  },
  {
   "cell_type": "code",
   "execution_count": 197,
   "id": "4ebb1d46-6559-49bb-9f6d-85d3bd8817da",
   "metadata": {},
   "outputs": [
    {
     "data": {
      "text/plain": [
       "'Steve'"
      ]
     },
     "execution_count": 197,
     "metadata": {},
     "output_type": "execute_result"
    }
   ],
   "source": [
    "std.name = 'Steve'\n",
    "std.name"
   ]
  },
  {
   "cell_type": "code",
   "execution_count": 196,
   "id": "8d87bd60-62a5-4f13-a361-8c82a1664635",
   "metadata": {},
   "outputs": [
    {
     "name": "stdout",
     "output_type": "stream",
     "text": [
      "This is public method.\n"
     ]
    }
   ],
   "source": [
    "std.display()"
   ]
  }
 ],
 "metadata": {
  "kernelspec": {
   "display_name": "Python 3 (ipykernel)",
   "language": "python",
   "name": "python3"
  },
  "language_info": {
   "codemirror_mode": {
    "name": "ipython",
    "version": 3
   },
   "file_extension": ".py",
   "mimetype": "text/x-python",
   "name": "python",
   "nbconvert_exporter": "python",
   "pygments_lexer": "ipython3",
   "version": "3.9.12"
  }
 },
 "nbformat": 4,
 "nbformat_minor": 5
}
