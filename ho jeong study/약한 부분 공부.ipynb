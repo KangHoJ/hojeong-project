{
 "cells": [
  {
   "cell_type": "markdown",
   "id": "cac8309b-56dc-4102-94a3-430d37b72a73",
   "metadata": {},
   "source": [
    "### 이스케이프 코드"
   ]
  },
  {
   "cell_type": "code",
   "execution_count": 2,
   "id": "701f4a8b-d1f6-43c1-a823-b4116900b0e1",
   "metadata": {},
   "outputs": [
    {
     "name": "stdout",
     "output_type": "stream",
     "text": [
      "pytyhon\\all\\abb\n"
     ]
    }
   ],
   "source": [
    "a = 'pytyhon\\\\all\\\\abb'\n",
    "print(a)"
   ]
  },
  {
   "cell_type": "code",
   "execution_count": 3,
   "id": "ffc05e0e-7a4f-48b7-ac43-3f76fb1f1316",
   "metadata": {},
   "outputs": [
    {
     "name": "stdout",
     "output_type": "stream",
     "text": [
      "He said \"Hello world\"\n"
     ]
    }
   ],
   "source": [
    "a = \"He said \\\"Hello world\\\"\"\n",
    "print(a)"
   ]
  },
  {
   "cell_type": "code",
   "execution_count": 4,
   "id": "64fd8ad4-e45c-4a7d-9d02-79f07767c849",
   "metadata": {},
   "outputs": [
    {
     "name": "stdout",
     "output_type": "stream",
     "text": [
      "I'm a student\n"
     ]
    }
   ],
   "source": [
    "a = 'I\\'m a student'\n",
    "print(a)"
   ]
  },
  {
   "cell_type": "markdown",
   "id": "3a55aa85-7b63-4d6c-a726-2435f124fa72",
   "metadata": {},
   "source": [
    "### 문자열 슬라이싱"
   ]
  },
  {
   "cell_type": "code",
   "execution_count": 5,
   "id": "d0b660c1-fdae-4a83-a7c9-85efae454498",
   "metadata": {},
   "outputs": [
    {
     "data": {
      "text/plain": [
       "'Hlowrd'"
      ]
     },
     "execution_count": 5,
     "metadata": {},
     "output_type": "execute_result"
    }
   ],
   "source": [
    "a = 'Hello world!'\n",
    "a[0:-1:2]"
   ]
  },
  {
   "cell_type": "markdown",
   "id": "9c144f28-6f03-4064-9568-671eaf888054",
   "metadata": {},
   "source": [
    "### count"
   ]
  },
  {
   "cell_type": "code",
   "execution_count": 9,
   "id": "fdcde50f-aa34-4093-924c-7aec91026eac",
   "metadata": {},
   "outputs": [
    {
     "name": "stdout",
     "output_type": "stream",
     "text": [
      "짝짝\n"
     ]
    }
   ],
   "source": [
    "a = '201811139'\n",
    "k = a.count('3') + a.count('6') + a.count('9')\n",
    "print('짝'*k)"
   ]
  },
  {
   "cell_type": "markdown",
   "id": "9979b3fa-970d-49fd-ad3d-62e2c1de71ef",
   "metadata": {},
   "source": [
    "### join"
   ]
  },
  {
   "cell_type": "code",
   "execution_count": 10,
   "id": "62608884-9362-482d-95ce-4056d5167619",
   "metadata": {},
   "outputs": [
    {
     "data": {
      "text/plain": [
       "'2,0,1,8,1,1,1,3,9'"
      ]
     },
     "execution_count": 10,
     "metadata": {},
     "output_type": "execute_result"
    }
   ],
   "source": [
    "\",\".join(a)"
   ]
  },
  {
   "cell_type": "markdown",
   "id": "c4ec481c-9dd4-4d5d-b115-8edb5f7aea26",
   "metadata": {},
   "source": [
    "## dict"
   ]
  },
  {
   "cell_type": "code",
   "execution_count": 13,
   "id": "75c50d3a-52a9-45f3-a286-63774d3b9cc4",
   "metadata": {},
   "outputs": [],
   "source": [
    "dic = {'name':'pey', 'phone':'01099991111', 'birth':1118}"
   ]
  },
  {
   "cell_type": "code",
   "execution_count": 15,
   "id": "e0a9d761-516d-46e2-8472-eab3d483cb7d",
   "metadata": {},
   "outputs": [
    {
     "data": {
      "text/plain": [
       "['name', 'phone', 'birth']"
      ]
     },
     "execution_count": 15,
     "metadata": {},
     "output_type": "execute_result"
    }
   ],
   "source": [
    "[ k for k in dic.keys()]\n",
    "list(dic.keys())"
   ]
  },
  {
   "cell_type": "code",
   "execution_count": 16,
   "id": "2294365d-643c-4adc-931d-c8d6b73f3695",
   "metadata": {},
   "outputs": [
    {
     "data": {
      "text/plain": [
       "dict_items([('name', 'pey'), ('phone', '01099991111'), ('birth', 1118)])"
      ]
     },
     "execution_count": 16,
     "metadata": {},
     "output_type": "execute_result"
    }
   ],
   "source": [
    "dic.items()"
   ]
  },
  {
   "cell_type": "code",
   "execution_count": 17,
   "id": "53b4b798-de63-4825-9d56-7530d1347159",
   "metadata": {},
   "outputs": [
    {
     "name": "stdout",
     "output_type": "stream",
     "text": [
      "k: name / v: pey\n",
      "k: phone / v: 01099991111\n",
      "k: birth / v: 1118\n"
     ]
    }
   ],
   "source": [
    "for k, v in dic.items():\n",
    "  print(f'k: {k} / v: {v}')"
   ]
  }
 ],
 "metadata": {
  "kernelspec": {
   "display_name": "Python 3 (ipykernel)",
   "language": "python",
   "name": "python3"
  },
  "language_info": {
   "codemirror_mode": {
    "name": "ipython",
    "version": 3
   },
   "file_extension": ".py",
   "mimetype": "text/x-python",
   "name": "python",
   "nbconvert_exporter": "python",
   "pygments_lexer": "ipython3",
   "version": "3.9.12"
  }
 },
 "nbformat": 4,
 "nbformat_minor": 5
}
