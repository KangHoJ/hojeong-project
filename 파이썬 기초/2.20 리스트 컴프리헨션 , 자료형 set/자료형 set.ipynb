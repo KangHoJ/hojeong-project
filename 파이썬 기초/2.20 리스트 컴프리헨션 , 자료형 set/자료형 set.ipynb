{
 "cells": [
  {
   "cell_type": "markdown",
   "id": "74e565e7-a3ef-45a2-a035-b1fa0163991a",
   "metadata": {
    "tags": []
   },
   "source": [
    "## 자료형 set"
   ]
  },
  {
   "cell_type": "markdown",
   "id": "8c837b2f-e0cf-453e-8bf8-b119f1f9993a",
   "metadata": {},
   "source": [
    "- 세트 자료형은 비시퀀스형이며 중복이 없다!\n",
    "- set_variable = {expression for 변수 in iterable if 조건식}\n",
    "- 세트자료형.add(요소) -> 요소 추가(한번에 하나만 넣을 수 있다)\n",
    "- 세트자료형,remove(요소) -> 요소 삭제\n",
    "- 세트자료형.discard(요소) -> 요소 삭제 (에러 발생 x)\n",
    "- 세트자료형.pop() -> 하나 없어짐 \n",
    "- 세트자료형.clear() -> 요소 다 없어짐\n",
    "- len을 사용해 크기 구하는것도 가능"
   ]
  },
  {
   "cell_type": "code",
   "execution_count": 158,
   "id": "99192e1b-ed16-43df-8630-03d5958caedb",
   "metadata": {},
   "outputs": [
    {
     "name": "stdout",
     "output_type": "stream",
     "text": [
      "set() <class 'set'>\n",
      "{1}\n"
     ]
    }
   ],
   "source": [
    "set_variable = set()\n",
    "print(set_variable,type(set_variable))\n",
    "\n",
    "{set_variable.add(1) for i in range(5)}\n",
    "print(set_variable)"
   ]
  },
  {
   "cell_type": "code",
   "execution_count": 161,
   "id": "52c184bc-4f4b-4f66-bd04-94f9477189bf",
   "metadata": {},
   "outputs": [
    {
     "name": "stdout",
     "output_type": "stream",
     "text": [
      "A: {1, 2, 3, 4} b {2, 4, 5}\n",
      "set union(A,B): {1, 2, 3, 4, 5}\n",
      "A|B: {1, 2, 3, 4, 5}\n"
     ]
    }
   ],
   "source": [
    "A = {i for i in range(1,5)}\n",
    "B = {k for k in range(2,6) if k !=3}\n",
    "print('A:',A,'b',B)\n",
    "print('set union(A,B):',set.union(A,B)) #합친것 중에서 중복을 제거하고 출력\n",
    "print('A|B:',A|B) # 합친것 중에서 중복을 제거하고 출력"
   ]
  },
  {
   "cell_type": "code",
   "execution_count": 163,
   "id": "366655d3-ef86-4444-9ef2-582cca2df6fc",
   "metadata": {},
   "outputs": [
    {
     "name": "stdout",
     "output_type": "stream",
     "text": [
      "A: {1, 2, 3, 4} b {2, 4, 5}\n",
      "set intersection(A,B): {2, 4}\n",
      "A&B: {2, 4}\n"
     ]
    }
   ],
   "source": [
    "A = {i for i in range(1,5)}\n",
    "B = {k for k in range(2,6) if k !=3}\n",
    "print('A:',A,'b',B)\n",
    "print('set intersection(A,B):',set.intersection(A,B)) #교집합 출력\n",
    "print('A&B:',A&B) # 교집합 출력"
   ]
  },
  {
   "cell_type": "code",
   "execution_count": 165,
   "id": "d7bd5425-f9a7-4438-96a8-956a2e0710be",
   "metadata": {},
   "outputs": [
    {
     "name": "stdout",
     "output_type": "stream",
     "text": [
      "A: {1, 2, 3, 4} b {2, 4, 5}\n",
      "set difference(A,B): {1, 3}\n",
      "A - B: {1, 3}\n"
     ]
    }
   ],
   "source": [
    "A = {i for i in range(1,5)}\n",
    "B = {k for k in range(2,6) if k !=3}\n",
    "print('A:',A,'b',B)\n",
    "print('set difference(A,B):',set.difference(A,B)) #차집합 출력\n",
    "print('A - B:',A - B) # 차집합 출력"
   ]
  },
  {
   "cell_type": "code",
   "execution_count": 167,
   "id": "d4938860-ddb5-4ceb-a9a1-3d5be11c2294",
   "metadata": {},
   "outputs": [
    {
     "name": "stdout",
     "output_type": "stream",
     "text": [
      "A: {1, 2, 3, 4} b {2, 4, 5}\n",
      "set symmetric_diffrence(A,B): {1, 3, 5}\n",
      "A ^ B: {1, 3, 5}\n"
     ]
    }
   ],
   "source": [
    "A = {i for i in range(1,5)}\n",
    "B = {k for k in range(2,6) if k !=3}\n",
    "print('A:',A,'b',B)\n",
    "print('set symmetric_diffrence(A,B):',set.symmetric_difference(A,B)) #교집합 뺴고 출력\n",
    "print('A ^ B:',A ^ B) # 교집합 빼고 출력"
   ]
  },
  {
   "cell_type": "code",
   "execution_count": 168,
   "id": "10b3255c-6a05-4405-8bf6-15a9d8618f47",
   "metadata": {},
   "outputs": [
    {
     "name": "stdout",
     "output_type": "stream",
     "text": [
      "A: {1, 2, 3, 4} b {2, 4, 5}\n",
      "A.update(B): {1, 2, 3, 4, 5}\n"
     ]
    }
   ],
   "source": [
    "A = {i for i in range(1,5)}\n",
    "B = {k for k in range(2,6) if k !=3}\n",
    "print('A:',A,'b',B)\n",
    "A.update(B) # A에 B를 합집합 시켜줌\n",
    "print('A.update(B):',A) # A에 B를 합집합 시켜줌"
   ]
  },
  {
   "cell_type": "code",
   "execution_count": 169,
   "id": "3a0fa411-6683-4966-a9d7-fc6fd0c95677",
   "metadata": {},
   "outputs": [
    {
     "name": "stdout",
     "output_type": "stream",
     "text": [
      "A: {1, 2, 3, 4} b {2, 4, 5}\n",
      "A.update(B): {2, 4}\n"
     ]
    }
   ],
   "source": [
    "A = {i for i in range(1,5)}\n",
    "B = {k for k in range(2,6) if k !=3}\n",
    "print('A:',A,'b',B)\n",
    "A.intersection_update(B) # 교집합 결과를 A에 합쳐줌\n",
    "print('A.update(B):',A) # 교집합 결과를 A에 합쳐줌"
   ]
  },
  {
   "cell_type": "code",
   "execution_count": 170,
   "id": "7ef3aa6b-1e33-403a-9b5a-cbb9e619b06d",
   "metadata": {},
   "outputs": [
    {
     "name": "stdout",
     "output_type": "stream",
     "text": [
      "A: {1, 2, 3, 4} b {2, 4, 5}\n",
      "A.update(B): {1, 3}\n"
     ]
    }
   ],
   "source": [
    "A = {i for i in range(1,5)}\n",
    "B = {k for k in range(2,6) if k !=3}\n",
    "print('A:',A,'b',B)\n",
    "A.difference_update(B) # 차집합 결과를 A에 합쳐줌\n",
    "print('A.update(B):',A) # 차집합 결과를 A에 합쳐줌"
   ]
  },
  {
   "cell_type": "code",
   "execution_count": 2,
   "id": "dd2b9191-71e6-4f03-9703-97b34b603ab0",
   "metadata": {},
   "outputs": [
    {
     "name": "stdout",
     "output_type": "stream",
     "text": [
      "A: {1, 2, 3, 4} b {2, 4, 5}\n",
      "A.update(B): {1, 3, 5}\n"
     ]
    }
   ],
   "source": [
    "A = {i for i in range(1,5)}\n",
    "B = {k for k in range(2,6) if k !=3}\n",
    "print('A:',A,'b',B)\n",
    "A.symmetric_difference_update(B) # 교집합 뺴고 합쳐줌\n",
    "print('A.update(B):',A) # 교집합 뺴고 합쳐줌"
   ]
  },
  {
   "cell_type": "code",
   "execution_count": 177,
   "id": "9c369c53-d988-4a41-baf4-05fe5be4aa8f",
   "metadata": {},
   "outputs": [
    {
     "name": "stdout",
     "output_type": "stream",
     "text": [
      "A: {0, 1, 2} b {0, 1, 2}\n",
      "a.issubset(B): True\n",
      "A: {0, 1, 2} b {0, 1}\n",
      "a.issubset(B): False\n",
      "A: {0, 1} b {0, 1}\n",
      "a.issuperset(B): True\n",
      "A: {0, 1, 2} b {0, 1}\n",
      "a.issuperset(B): True\n"
     ]
    }
   ],
   "source": [
    "A = {i for i in range(0,3)}\n",
    "B = {k for k in range(0,3)}\n",
    "print('A:',A,'b',B)\n",
    "print('a.issubset(B):',A.issubset(B)) #부분집합이면 True 출력\n",
    "\n",
    "A = {i for i in range(0,3)}\n",
    "B = {k for k in range(0,2)}\n",
    "print('A:',A,'b',B)\n",
    "print('a.issubset(B):',A.issubset(B)) #부분집합이 아니면 False 출력\n",
    "\n",
    "A = {i for i in range(0,2)}\n",
    "B = {k for k in range(0,2)}\n",
    "print('A:',A,'b',B)\n",
    "print('a.issuperset(B):',A.issuperset(B)) # 동일할때 True 출력\n",
    "\n",
    "A = {i for i in range(0,3)}\n",
    "B = {k for k in range(0,2)}\n",
    "print('A:',A,'b',B)\n",
    "print('a.issuperset(B):',A.issuperset(B)) "
   ]
  },
  {
   "cell_type": "code",
   "execution_count": 178,
   "id": "0b08cd51-e41a-48fe-96a0-17f18992edfd",
   "metadata": {},
   "outputs": [
    {
     "name": "stdout",
     "output_type": "stream",
     "text": [
      "A: {0, 1, 2} b {3, 4, 5}\n",
      "a.isdisjoint(B): True\n"
     ]
    }
   ],
   "source": [
    "A = {i for i in range(0,3)}\n",
    "B = {k for k in range(3,6)}\n",
    "print('A:',A,'b',B)\n",
    "print('a.isdisjoint(B):',A.isdist(B)) # 완전 겹치지 않을때 True"
   ]
  },
  {
   "cell_type": "code",
   "execution_count": 186,
   "id": "55c7d1bf-f3cb-40d9-8c0d-d79b4d8bcc22",
   "metadata": {},
   "outputs": [
    {
     "data": {
      "text/plain": [
       "{1, 2, 3, 4}"
      ]
     },
     "execution_count": 186,
     "metadata": {},
     "output_type": "execute_result"
    }
   ],
   "source": [
    "list_sample = [1, 2, 2, 3, 3, 3, 4, 4, 4, 4]\n",
    "\n",
    "set(list_sample) # 중복 제거"
   ]
  }
 ],
 "metadata": {
  "kernelspec": {
   "display_name": "Python 3 (ipykernel)",
   "language": "python",
   "name": "python3"
  },
  "language_info": {
   "codemirror_mode": {
    "name": "ipython",
    "version": 3
   },
   "file_extension": ".py",
   "mimetype": "text/x-python",
   "name": "python",
   "nbconvert_exporter": "python",
   "pygments_lexer": "ipython3",
   "version": "3.9.12"
  }
 },
 "nbformat": 4,
 "nbformat_minor": 5
}
