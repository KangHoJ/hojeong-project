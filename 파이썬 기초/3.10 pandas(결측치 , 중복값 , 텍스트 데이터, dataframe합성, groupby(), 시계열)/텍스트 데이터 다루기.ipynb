{
 "cells": [
  {
   "cell_type": "markdown",
   "id": "f7e24bdd-ff1f-4936-8006-a24e7f1ae094",
   "metadata": {},
   "source": [
    "### 텍스트 데이터 다루기"
   ]
  },
  {
   "cell_type": "markdown",
   "id": "bc17e1c4-03ef-4de5-8352-5775f1b4319e",
   "metadata": {},
   "source": [
    "- 데이터를 정리하는 과정 : 랭글링 or 먼징"
   ]
  },
  {
   "cell_type": "code",
   "execution_count": 87,
   "id": "ddc6279c-3475-4379-83fe-874b4966ad1a",
   "metadata": {},
   "outputs": [
    {
     "data": {
      "text/plain": [
       "array([' MARRIOT MARQUIS CHICAGO   ', ' JETS PIZZA ', '   ROOM 1520 ',\n",
       "       '  MARRIOT MARQUIS CHICAGO  ', ' CHARTWELLS   '], dtype=object)"
      ]
     },
     "execution_count": 87,
     "metadata": {},
     "output_type": "execute_result"
    }
   ],
   "source": [
    "inspections = pd.read_csv('datas/chicago_food_inspections.csv')\n",
    "inspections['Name'].head().values"
   ]
  },
  {
   "cell_type": "code",
   "execution_count": 88,
   "id": "0d35f2b8-65f4-45cc-aeaf-3425ffd638c8",
   "metadata": {},
   "outputs": [
    {
     "data": {
      "text/plain": [
       "<pandas.core.strings.accessor.StringMethods at 0x23404baca90>"
      ]
     },
     "execution_count": 88,
     "metadata": {},
     "output_type": "execute_result"
    }
   ],
   "source": [
    "inspections['Name'].str # str을 이용하여 문자열에 관한 메서드 호출 "
   ]
  },
  {
   "cell_type": "code",
   "execution_count": 91,
   "id": "f9b4da27-45ed-40ee-80e4-a8c8dc3bc1e3",
   "metadata": {},
   "outputs": [
    {
     "data": {
      "text/plain": [
       "'cheesecake'"
      ]
     },
     "execution_count": 91,
     "metadata": {},
     "output_type": "execute_result"
    }
   ],
   "source": [
    "dessert = ' cheesecake '\n",
    "dessert.strip() # 공백을 제거 해줌\n",
    "\n",
    "\n",
    "insepections['Name'] = insepections['Name'].str.litrip().head(3)\n",
    "# 3개 왼쪽 공백 제거 \n",
    "insepections['Name'] = insepections['Name'].str.ritrip().head(3)\n",
    "# 3개 오른쪽 공백 제거 \n",
    "insepections['Name'] =insepections['Name'].str.strip().head(3)\n",
    "# 3개 양쪽 공백 제거 "
   ]
  },
  {
   "cell_type": "code",
   "execution_count": 94,
   "id": "4e2470b8-1cb6-4d13-94ed-99761159a63f",
   "metadata": {},
   "outputs": [
    {
     "data": {
      "text/html": [
       "<div>\n",
       "<style scoped>\n",
       "    .dataframe tbody tr th:only-of-type {\n",
       "        vertical-align: middle;\n",
       "    }\n",
       "\n",
       "    .dataframe tbody tr th {\n",
       "        vertical-align: top;\n",
       "    }\n",
       "\n",
       "    .dataframe thead th {\n",
       "        text-align: right;\n",
       "    }\n",
       "</style>\n",
       "<table border=\"1\" class=\"dataframe\">\n",
       "  <thead>\n",
       "    <tr style=\"text-align: right;\">\n",
       "      <th></th>\n",
       "      <th>Name</th>\n",
       "      <th>Risk</th>\n",
       "    </tr>\n",
       "  </thead>\n",
       "  <tbody>\n",
       "    <tr>\n",
       "      <th>0</th>\n",
       "      <td>MARRIOT MARQUIS CHICAGO</td>\n",
       "      <td>Risk 1 (High)</td>\n",
       "    </tr>\n",
       "    <tr>\n",
       "      <th>1</th>\n",
       "      <td>JETS PIZZA</td>\n",
       "      <td>Risk 2 (Medium)</td>\n",
       "    </tr>\n",
       "    <tr>\n",
       "      <th>2</th>\n",
       "      <td>ROOM 1520</td>\n",
       "      <td>Risk 3 (Low)</td>\n",
       "    </tr>\n",
       "    <tr>\n",
       "      <th>3</th>\n",
       "      <td>MARRIOT MARQUIS CHICAGO</td>\n",
       "      <td>Risk 1 (High)</td>\n",
       "    </tr>\n",
       "    <tr>\n",
       "      <th>4</th>\n",
       "      <td>CHARTWELLS</td>\n",
       "      <td>Risk 1 (High)</td>\n",
       "    </tr>\n",
       "    <tr>\n",
       "      <th>...</th>\n",
       "      <td>...</td>\n",
       "      <td>...</td>\n",
       "    </tr>\n",
       "    <tr>\n",
       "      <th>153805</th>\n",
       "      <td>WOLCOTT'S</td>\n",
       "      <td>Risk 1 (High)</td>\n",
       "    </tr>\n",
       "    <tr>\n",
       "      <th>153806</th>\n",
       "      <td>DUNKIN DONUTS/BASKIN-ROBBINS</td>\n",
       "      <td>Risk 2 (Medium)</td>\n",
       "    </tr>\n",
       "    <tr>\n",
       "      <th>153807</th>\n",
       "      <td>Cafe 608</td>\n",
       "      <td>Risk 1 (High)</td>\n",
       "    </tr>\n",
       "    <tr>\n",
       "      <th>153808</th>\n",
       "      <td>mr.daniel's</td>\n",
       "      <td>Risk 1 (High)</td>\n",
       "    </tr>\n",
       "    <tr>\n",
       "      <th>153809</th>\n",
       "      <td>TEMPO CAFE</td>\n",
       "      <td>Risk 1 (High)</td>\n",
       "    </tr>\n",
       "  </tbody>\n",
       "</table>\n",
       "<p>153810 rows × 2 columns</p>\n",
       "</div>"
      ],
      "text/plain": [
       "                                Name             Risk\n",
       "0            MARRIOT MARQUIS CHICAGO    Risk 1 (High)\n",
       "1                         JETS PIZZA  Risk 2 (Medium)\n",
       "2                          ROOM 1520     Risk 3 (Low)\n",
       "3            MARRIOT MARQUIS CHICAGO    Risk 1 (High)\n",
       "4                         CHARTWELLS    Risk 1 (High)\n",
       "...                              ...              ...\n",
       "153805                     WOLCOTT'S    Risk 1 (High)\n",
       "153806  DUNKIN DONUTS/BASKIN-ROBBINS  Risk 2 (Medium)\n",
       "153807                      Cafe 608    Risk 1 (High)\n",
       "153808                   mr.daniel's    Risk 1 (High)\n",
       "153809                    TEMPO CAFE    Risk 1 (High)\n",
       "\n",
       "[153810 rows x 2 columns]"
      ]
     },
     "execution_count": 94,
     "metadata": {},
     "output_type": "execute_result"
    }
   ],
   "source": [
    "for column in inspections.columns:\n",
    "    inspections[column] = inspections[column].str.strip()\n",
    "# 전체 컬럼에 대해 공백을 제거해주는 코드 \n",
    "\n",
    "inspections"
   ]
  },
  {
   "cell_type": "code",
   "execution_count": null,
   "id": "d0c70cc4-4874-4ed0-b782-588cc0575909",
   "metadata": {},
   "outputs": [],
   "source": [
    "inspections['Name'].str.lower().head() # 모든 문자를 소문자로 변환\n",
    "inspections['Name'].str.upper().head() # 모든 문자를 대문자로 변환\n",
    "inspections['Name'].str.capitzlize().head() \n",
    "# 문자열 첫번째 문자만 대문자 , 나머지는 소문자로 표시\n",
    "inspections['Name'].str.title().head()\n",
    "# 각 단어 마다 첫글자를 대문자 , 나머지는 소문자 "
   ]
  },
  {
   "cell_type": "code",
   "execution_count": 97,
   "id": "b0adebbf-31fc-46ee-9292-1e0ddcb28314",
   "metadata": {},
   "outputs": [
    {
     "data": {
      "text/plain": [
       "array(['Risk 1 (High)', 'Risk 2 (Medium)', 'Risk 3 (Low)', 'All'],\n",
       "      dtype=object)"
      ]
     },
     "execution_count": 97,
     "metadata": {},
     "output_type": "execute_result"
    }
   ],
   "source": [
    "inspections = inspections.dropna(subset = ['Risk'])\n",
    "inspections['Risk'].unique()"
   ]
  },
  {
   "cell_type": "code",
   "execution_count": 98,
   "id": "b7b68d40-f7ec-448c-a81f-83eb66f61cce",
   "metadata": {},
   "outputs": [],
   "source": [
    "inspections = inspections.replace(to_replace='All', value='Risk 4 (Extreme)')\n",
    "# All 문자열을 Risk 4 (Extreme)로 변환"
   ]
  },
  {
   "cell_type": "code",
   "execution_count": 99,
   "id": "673d3e26-4543-4441-8c75-a7b1c2a705fd",
   "metadata": {},
   "outputs": [
    {
     "data": {
      "text/plain": [
       "0    1\n",
       "1    2\n",
       "2    3\n",
       "3    1\n",
       "4    1\n",
       "Name: Risk, dtype: int32"
      ]
     },
     "execution_count": 99,
     "metadata": {},
     "output_type": "execute_result"
    }
   ],
   "source": [
    "inspections['Risk'].str[5].astype('i').head() \n",
    "#인덱스 5번 숫자들 뽑아서 object를 int로 변경 "
   ]
  },
  {
   "cell_type": "code",
   "execution_count": 100,
   "id": "bae783c7-c894-4368-b3be-6b66ef32e396",
   "metadata": {},
   "outputs": [
    {
     "data": {
      "text/plain": [
       "0      High\n",
       "1    Medium\n",
       "2       Low\n",
       "3      High\n",
       "4      High\n",
       "Name: Risk, dtype: category\n",
       "Categories (4, object): ['Extreme', 'High', 'Low', 'Medium']"
      ]
     },
     "execution_count": 100,
     "metadata": {},
     "output_type": "execute_result"
    }
   ],
   "source": [
    "inspections['Risk'].str[8:-1].astype('category').head() \n",
    "# 슬라이싱으로 가져와서 메모리 효율을 높이기 위해 category로 만듬"
   ]
  },
  {
   "cell_type": "markdown",
   "id": "eeafa454-c9be-4770-bf2a-ad40e67dc0bd",
   "metadata": {},
   "source": [
    "- 특정 조건 조회"
   ]
  },
  {
   "cell_type": "code",
   "execution_count": 104,
   "id": "c932ec70-fb27-4c74-b90b-bef4e06c0801",
   "metadata": {},
   "outputs": [
    {
     "data": {
      "text/html": [
       "<div>\n",
       "<style scoped>\n",
       "    .dataframe tbody tr th:only-of-type {\n",
       "        vertical-align: middle;\n",
       "    }\n",
       "\n",
       "    .dataframe tbody tr th {\n",
       "        vertical-align: top;\n",
       "    }\n",
       "\n",
       "    .dataframe thead th {\n",
       "        text-align: right;\n",
       "    }\n",
       "</style>\n",
       "<table border=\"1\" class=\"dataframe\">\n",
       "  <thead>\n",
       "    <tr style=\"text-align: right;\">\n",
       "      <th></th>\n",
       "      <th>Name</th>\n",
       "      <th>Risk</th>\n",
       "    </tr>\n",
       "  </thead>\n",
       "  <tbody>\n",
       "    <tr>\n",
       "      <th>1</th>\n",
       "      <td>JETS PIZZA</td>\n",
       "      <td>Risk 2 (Medium)</td>\n",
       "    </tr>\n",
       "    <tr>\n",
       "      <th>19</th>\n",
       "      <td>NANCY'S HOME OF STUFFED PIZZA</td>\n",
       "      <td>Risk 1 (High)</td>\n",
       "    </tr>\n",
       "    <tr>\n",
       "      <th>27</th>\n",
       "      <td>NARY'S GRILL &amp; PIZZA ,INC.</td>\n",
       "      <td>Risk 1 (High)</td>\n",
       "    </tr>\n",
       "    <tr>\n",
       "      <th>29</th>\n",
       "      <td>NARYS GRILL &amp; PIZZA</td>\n",
       "      <td>Risk 1 (High)</td>\n",
       "    </tr>\n",
       "    <tr>\n",
       "      <th>68</th>\n",
       "      <td>COLUTAS PIZZA</td>\n",
       "      <td>Risk 1 (High)</td>\n",
       "    </tr>\n",
       "    <tr>\n",
       "      <th>...</th>\n",
       "      <td>...</td>\n",
       "      <td>...</td>\n",
       "    </tr>\n",
       "    <tr>\n",
       "      <th>153756</th>\n",
       "      <td>ANGELO'S STUFFED PIZZA CORP</td>\n",
       "      <td>Risk 1 (High)</td>\n",
       "    </tr>\n",
       "    <tr>\n",
       "      <th>153764</th>\n",
       "      <td>COCHIAROS PIZZA #2</td>\n",
       "      <td>Risk 1 (High)</td>\n",
       "    </tr>\n",
       "    <tr>\n",
       "      <th>153772</th>\n",
       "      <td>FERNANDO'S MEXICAN GRILL &amp; PIZZA</td>\n",
       "      <td>Risk 1 (High)</td>\n",
       "    </tr>\n",
       "    <tr>\n",
       "      <th>153788</th>\n",
       "      <td>REGGIO'S PIZZA EXPRESS</td>\n",
       "      <td>Risk 1 (High)</td>\n",
       "    </tr>\n",
       "    <tr>\n",
       "      <th>153801</th>\n",
       "      <td>State Street Pizza Company</td>\n",
       "      <td>Risk 1 (High)</td>\n",
       "    </tr>\n",
       "  </tbody>\n",
       "</table>\n",
       "<p>3992 rows × 2 columns</p>\n",
       "</div>"
      ],
      "text/plain": [
       "                                    Name             Risk\n",
       "1                             JETS PIZZA  Risk 2 (Medium)\n",
       "19         NANCY'S HOME OF STUFFED PIZZA    Risk 1 (High)\n",
       "27            NARY'S GRILL & PIZZA ,INC.    Risk 1 (High)\n",
       "29                   NARYS GRILL & PIZZA    Risk 1 (High)\n",
       "68                         COLUTAS PIZZA    Risk 1 (High)\n",
       "...                                  ...              ...\n",
       "153756       ANGELO'S STUFFED PIZZA CORP    Risk 1 (High)\n",
       "153764                COCHIAROS PIZZA #2    Risk 1 (High)\n",
       "153772  FERNANDO'S MEXICAN GRILL & PIZZA    Risk 1 (High)\n",
       "153788            REGGIO'S PIZZA EXPRESS    Risk 1 (High)\n",
       "153801        State Street Pizza Company    Risk 1 (High)\n",
       "\n",
       "[3992 rows x 2 columns]"
      ]
     },
     "execution_count": 104,
     "metadata": {},
     "output_type": "execute_result"
    }
   ],
   "source": [
    "has_pizza = inspections['Name'].str.lower().str.contains('pizza')\n",
    "inspections[has_pizza] # pizza가 들어간 단어만 출력 "
   ]
  },
  {
   "cell_type": "code",
   "execution_count": 106,
   "id": "edadff99-07cc-44c4-86b8-1dca6b1b8593",
   "metadata": {},
   "outputs": [
    {
     "data": {
      "text/html": [
       "<div>\n",
       "<style scoped>\n",
       "    .dataframe tbody tr th:only-of-type {\n",
       "        vertical-align: middle;\n",
       "    }\n",
       "\n",
       "    .dataframe tbody tr th {\n",
       "        vertical-align: top;\n",
       "    }\n",
       "\n",
       "    .dataframe thead th {\n",
       "        text-align: right;\n",
       "    }\n",
       "</style>\n",
       "<table border=\"1\" class=\"dataframe\">\n",
       "  <thead>\n",
       "    <tr style=\"text-align: right;\">\n",
       "      <th></th>\n",
       "      <th>Name</th>\n",
       "      <th>Risk</th>\n",
       "    </tr>\n",
       "  </thead>\n",
       "  <tbody>\n",
       "    <tr>\n",
       "      <th>69</th>\n",
       "      <td>TACOS NIETOS</td>\n",
       "      <td>Risk 1 (High)</td>\n",
       "    </tr>\n",
       "    <tr>\n",
       "      <th>556</th>\n",
       "      <td>TACOS EL TIO 2 INC.</td>\n",
       "      <td>Risk 1 (High)</td>\n",
       "    </tr>\n",
       "    <tr>\n",
       "      <th>675</th>\n",
       "      <td>TACOS DON GABINO</td>\n",
       "      <td>Risk 1 (High)</td>\n",
       "    </tr>\n",
       "    <tr>\n",
       "      <th>958</th>\n",
       "      <td>TACOS EL TIO 2 INC.</td>\n",
       "      <td>Risk 1 (High)</td>\n",
       "    </tr>\n",
       "    <tr>\n",
       "      <th>1036</th>\n",
       "      <td>TACOS EL TIO 2 INC.</td>\n",
       "      <td>Risk 1 (High)</td>\n",
       "    </tr>\n",
       "    <tr>\n",
       "      <th>...</th>\n",
       "      <td>...</td>\n",
       "      <td>...</td>\n",
       "    </tr>\n",
       "    <tr>\n",
       "      <th>143587</th>\n",
       "      <td>TACOS DE LUNA</td>\n",
       "      <td>Risk 1 (High)</td>\n",
       "    </tr>\n",
       "    <tr>\n",
       "      <th>144026</th>\n",
       "      <td>TACOS GARCIA</td>\n",
       "      <td>Risk 1 (High)</td>\n",
       "    </tr>\n",
       "    <tr>\n",
       "      <th>146174</th>\n",
       "      <td>Tacos Place's 1</td>\n",
       "      <td>Risk 1 (High)</td>\n",
       "    </tr>\n",
       "    <tr>\n",
       "      <th>147810</th>\n",
       "      <td>TACOS MARIO'S LIMITED</td>\n",
       "      <td>Risk 1 (High)</td>\n",
       "    </tr>\n",
       "    <tr>\n",
       "      <th>151191</th>\n",
       "      <td>TACOS REYNA</td>\n",
       "      <td>Risk 1 (High)</td>\n",
       "    </tr>\n",
       "  </tbody>\n",
       "</table>\n",
       "<p>105 rows × 2 columns</p>\n",
       "</div>"
      ],
      "text/plain": [
       "                         Name           Risk\n",
       "69               TACOS NIETOS  Risk 1 (High)\n",
       "556       TACOS EL TIO 2 INC.  Risk 1 (High)\n",
       "675          TACOS DON GABINO  Risk 1 (High)\n",
       "958       TACOS EL TIO 2 INC.  Risk 1 (High)\n",
       "1036      TACOS EL TIO 2 INC.  Risk 1 (High)\n",
       "...                       ...            ...\n",
       "143587          TACOS DE LUNA  Risk 1 (High)\n",
       "144026           TACOS GARCIA  Risk 1 (High)\n",
       "146174        Tacos Place's 1  Risk 1 (High)\n",
       "147810  TACOS MARIO'S LIMITED  Risk 1 (High)\n",
       "151191            TACOS REYNA  Risk 1 (High)\n",
       "\n",
       "[105 rows x 2 columns]"
      ]
     },
     "execution_count": 106,
     "metadata": {},
     "output_type": "execute_result"
    }
   ],
   "source": [
    "starts_with_tacos = (inspections['Name'].str.lower().str.startswith('tacos'))\n",
    "inspections[starts_with_tacos]\n",
    "# tacos문자열로 시작하는것들 조회해줌 "
   ]
  },
  {
   "cell_type": "code",
   "execution_count": 107,
   "id": "1723604f-a9c6-4f4c-bec2-6ce1f7fd796f",
   "metadata": {},
   "outputs": [
    {
     "data": {
      "text/html": [
       "<div>\n",
       "<style scoped>\n",
       "    .dataframe tbody tr th:only-of-type {\n",
       "        vertical-align: middle;\n",
       "    }\n",
       "\n",
       "    .dataframe tbody tr th {\n",
       "        vertical-align: top;\n",
       "    }\n",
       "\n",
       "    .dataframe thead th {\n",
       "        text-align: right;\n",
       "    }\n",
       "</style>\n",
       "<table border=\"1\" class=\"dataframe\">\n",
       "  <thead>\n",
       "    <tr style=\"text-align: right;\">\n",
       "      <th></th>\n",
       "      <th>Name</th>\n",
       "      <th>Risk</th>\n",
       "    </tr>\n",
       "  </thead>\n",
       "  <tbody>\n",
       "    <tr>\n",
       "      <th>382</th>\n",
       "      <td>LAZO'S TACOS</td>\n",
       "      <td>Risk 1 (High)</td>\n",
       "    </tr>\n",
       "    <tr>\n",
       "      <th>569</th>\n",
       "      <td>LAZO'S TACOS</td>\n",
       "      <td>Risk 1 (High)</td>\n",
       "    </tr>\n",
       "    <tr>\n",
       "      <th>2652</th>\n",
       "      <td>FLYING TACOS</td>\n",
       "      <td>Risk 3 (Low)</td>\n",
       "    </tr>\n",
       "    <tr>\n",
       "      <th>3250</th>\n",
       "      <td>JONY'S TACOS</td>\n",
       "      <td>Risk 1 (High)</td>\n",
       "    </tr>\n",
       "    <tr>\n",
       "      <th>3812</th>\n",
       "      <td>PACO'S TACOS</td>\n",
       "      <td>Risk 1 (High)</td>\n",
       "    </tr>\n",
       "    <tr>\n",
       "      <th>...</th>\n",
       "      <td>...</td>\n",
       "      <td>...</td>\n",
       "    </tr>\n",
       "    <tr>\n",
       "      <th>151121</th>\n",
       "      <td>REYES TACOS</td>\n",
       "      <td>Risk 1 (High)</td>\n",
       "    </tr>\n",
       "    <tr>\n",
       "      <th>151318</th>\n",
       "      <td>EL MACHO TACOS</td>\n",
       "      <td>Risk 1 (High)</td>\n",
       "    </tr>\n",
       "    <tr>\n",
       "      <th>151801</th>\n",
       "      <td>EL MACHO TACOS</td>\n",
       "      <td>Risk 1 (High)</td>\n",
       "    </tr>\n",
       "    <tr>\n",
       "      <th>153087</th>\n",
       "      <td>RAYMOND'S TACOS</td>\n",
       "      <td>Risk 1 (High)</td>\n",
       "    </tr>\n",
       "    <tr>\n",
       "      <th>153504</th>\n",
       "      <td>MIS TACOS</td>\n",
       "      <td>Risk 1 (High)</td>\n",
       "    </tr>\n",
       "  </tbody>\n",
       "</table>\n",
       "<p>304 rows × 2 columns</p>\n",
       "</div>"
      ],
      "text/plain": [
       "                   Name           Risk\n",
       "382        LAZO'S TACOS  Risk 1 (High)\n",
       "569        LAZO'S TACOS  Risk 1 (High)\n",
       "2652       FLYING TACOS   Risk 3 (Low)\n",
       "3250       JONY'S TACOS  Risk 1 (High)\n",
       "3812       PACO'S TACOS  Risk 1 (High)\n",
       "...                 ...            ...\n",
       "151121      REYES TACOS  Risk 1 (High)\n",
       "151318   EL MACHO TACOS  Risk 1 (High)\n",
       "151801   EL MACHO TACOS  Risk 1 (High)\n",
       "153087  RAYMOND'S TACOS  Risk 1 (High)\n",
       "153504        MIS TACOS  Risk 1 (High)\n",
       "\n",
       "[304 rows x 2 columns]"
      ]
     },
     "execution_count": 107,
     "metadata": {},
     "output_type": "execute_result"
    }
   ],
   "source": [
    "starts_with_tacos = (inspections['Name'].str.lower().str.endswith('tacos'))\n",
    "inspections[starts_with_tacos]\n",
    "# tacos문자열로 끝나는것들 조회해줌 "
   ]
  }
 ],
 "metadata": {
  "kernelspec": {
   "display_name": "Python 3 (ipykernel)",
   "language": "python",
   "name": "python3"
  },
  "language_info": {
   "codemirror_mode": {
    "name": "ipython",
    "version": 3
   },
   "file_extension": ".py",
   "mimetype": "text/x-python",
   "name": "python",
   "nbconvert_exporter": "python",
   "pygments_lexer": "ipython3",
   "version": "3.9.12"
  }
 },
 "nbformat": 4,
 "nbformat_minor": 5
}
