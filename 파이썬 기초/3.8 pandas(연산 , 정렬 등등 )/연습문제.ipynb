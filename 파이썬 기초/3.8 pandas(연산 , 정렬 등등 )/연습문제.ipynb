{
 "cells": [
  {
   "cell_type": "markdown",
   "id": "3619d5f0-3139-472d-b22f-7b707695362f",
   "metadata": {},
   "source": [
    "## 연습문제"
   ]
  },
  {
   "cell_type": "markdown",
   "id": "752bfd09-305f-4615-99f2-bf35d0d02372",
   "metadata": {},
   "source": [
    "### 1"
   ]
  },
  {
   "cell_type": "code",
   "execution_count": 25,
   "id": "72ebe6b4-5459-4fdf-adbf-36f90b44f2fc",
   "metadata": {},
   "outputs": [
    {
     "data": {
      "text/plain": [
       "Name                object\n",
       "Team                object\n",
       "Position            object\n",
       "Birthday    datetime64[ns]\n",
       "Salary               int64\n",
       "dtype: object"
      ]
     },
     "execution_count": 25,
     "metadata": {},
     "output_type": "execute_result"
    }
   ],
   "source": [
    "nba.dtypes"
   ]
  },
  {
   "cell_type": "code",
   "execution_count": 29,
   "id": "b6485857-bfa2-41ba-adfc-5995694b7c89",
   "metadata": {},
   "outputs": [
    {
     "data": {
      "text/plain": [
       "object            3\n",
       "datetime64[ns]    1\n",
       "int64             1\n",
       "dtype: int64"
      ]
     },
     "execution_count": 29,
     "metadata": {},
     "output_type": "execute_result"
    }
   ],
   "source": [
    "nba.dtypes.value_counts() # 자료형별로 몇개씩 있는지 "
   ]
  },
  {
   "cell_type": "markdown",
   "id": "661f8bec-f214-46a8-b673-d778253299e9",
   "metadata": {},
   "source": [
    "### 2"
   ]
  },
  {
   "cell_type": "code",
   "execution_count": 31,
   "id": "d9257b30-e0ed-4072-a6d0-288f8a2fbbeb",
   "metadata": {},
   "outputs": [
    {
     "data": {
      "text/plain": [
       "2"
      ]
     },
     "execution_count": 31,
     "metadata": {},
     "output_type": "execute_result"
    }
   ],
   "source": [
    "nba.ndim"
   ]
  },
  {
   "cell_type": "code",
   "execution_count": 35,
   "id": "e922f655-6daa-4076-9b70-8d6f6a1a78db",
   "metadata": {},
   "outputs": [
    {
     "data": {
      "text/plain": [
       "(450, 5)"
      ]
     },
     "execution_count": 35,
     "metadata": {},
     "output_type": "execute_result"
    }
   ],
   "source": [
    "nba.shape"
   ]
  },
  {
   "cell_type": "code",
   "execution_count": 37,
   "id": "2049b26d-9bec-455a-8ed3-5a7e5964c7d2",
   "metadata": {},
   "outputs": [
    {
     "data": {
      "text/plain": [
       "Index(['Name', 'Team', 'Position', 'Birthday', 'Salary'], dtype='object')"
      ]
     },
     "execution_count": 37,
     "metadata": {},
     "output_type": "execute_result"
    }
   ],
   "source": [
    "nba.columns"
   ]
  },
  {
   "cell_type": "code",
   "execution_count": 41,
   "id": "cc853fa3-eb16-4e01-b9df-4c79d3448adf",
   "metadata": {},
   "outputs": [
    {
     "data": {
      "text/plain": [
       "RangeIndex(start=0, stop=450, step=1)"
      ]
     },
     "execution_count": 41,
     "metadata": {},
     "output_type": "execute_result"
    }
   ],
   "source": [
    "nba.index"
   ]
  },
  {
   "cell_type": "markdown",
   "id": "10d55792-277f-4571-8ca1-6507ab4b93f0",
   "metadata": {},
   "source": [
    "### 3"
   ]
  },
  {
   "cell_type": "code",
   "execution_count": 143,
   "id": "f9da294a-f1f8-4431-a0a8-01b5969446df",
   "metadata": {},
   "outputs": [
    {
     "data": {
      "text/plain": [
       "2250"
      ]
     },
     "execution_count": 143,
     "metadata": {},
     "output_type": "execute_result"
    }
   ],
   "source": [
    "len(nba) - nba.count() # 결측치 개수\n",
    "nba.count().sum(axis=0)# 전체개수"
   ]
  },
  {
   "cell_type": "markdown",
   "id": "48c057bf-d8d1-41b1-9b42-f68080fea0a3",
   "metadata": {},
   "source": [
    "### 4"
   ]
  },
  {
   "cell_type": "code",
   "execution_count": 145,
   "id": "43ba0bb9-c81b-49b5-84eb-6bd4bbd05d1a",
   "metadata": {},
   "outputs": [
    {
     "data": {
      "text/plain": [
       "Name        450\n",
       "Team         30\n",
       "Position      9\n",
       "Birthday    430\n",
       "Salary      269\n",
       "dtype: int64"
      ]
     },
     "execution_count": 145,
     "metadata": {},
     "output_type": "execute_result"
    }
   ],
   "source": [
    "nba.nunique(axis=0)"
   ]
  },
  {
   "cell_type": "code",
   "execution_count": 53,
   "id": "d25e37c0-44e1-4dbe-b29e-de5a2479f752",
   "metadata": {},
   "outputs": [
    {
     "data": {
      "text/plain": [
       "Name             Zylan Cheatham\n",
       "Team         Washington Wizards\n",
       "Position                     SG\n",
       "Birthday    2000-12-23 00:00:00\n",
       "Salary                 40231758\n",
       "dtype: object"
      ]
     },
     "execution_count": 53,
     "metadata": {},
     "output_type": "execute_result"
    }
   ],
   "source": [
    "nba.max()"
   ]
  },
  {
   "cell_type": "code",
   "execution_count": 54,
   "id": "d4528b5a-994d-457d-85a6-d41ab2774c56",
   "metadata": {},
   "outputs": [
    {
     "data": {
      "text/plain": [
       "Name               Aaron Gordon\n",
       "Team              Atlanta Hawks\n",
       "Position                      C\n",
       "Birthday    1977-01-26 00:00:00\n",
       "Salary                    79568\n",
       "dtype: object"
      ]
     },
     "execution_count": 54,
     "metadata": {},
     "output_type": "execute_result"
    }
   ],
   "source": [
    "nba.min()"
   ]
  },
  {
   "cell_type": "markdown",
   "id": "1b6a7fc1-33f3-46f1-869a-2b0a596fae63",
   "metadata": {},
   "source": [
    "### 5"
   ]
  },
  {
   "cell_type": "code",
   "execution_count": 84,
   "id": "d6d986bd-0f2b-43d7-8b22-8804e3914360",
   "metadata": {},
   "outputs": [
    {
     "data": {
      "text/html": [
       "<div>\n",
       "<style scoped>\n",
       "    .dataframe tbody tr th:only-of-type {\n",
       "        vertical-align: middle;\n",
       "    }\n",
       "\n",
       "    .dataframe tbody tr th {\n",
       "        vertical-align: top;\n",
       "    }\n",
       "\n",
       "    .dataframe thead th {\n",
       "        text-align: right;\n",
       "    }\n",
       "</style>\n",
       "<table border=\"1\" class=\"dataframe\">\n",
       "  <thead>\n",
       "    <tr style=\"text-align: right;\">\n",
       "      <th></th>\n",
       "      <th>Name</th>\n",
       "      <th>Team</th>\n",
       "      <th>Position</th>\n",
       "      <th>Birthday</th>\n",
       "      <th>Salary</th>\n",
       "    </tr>\n",
       "  </thead>\n",
       "  <tbody>\n",
       "    <tr>\n",
       "      <th>205</th>\n",
       "      <td>Stephen Curry</td>\n",
       "      <td>Golden State Warriors</td>\n",
       "      <td>PG</td>\n",
       "      <td>1988-03-14</td>\n",
       "      <td>40231758</td>\n",
       "    </tr>\n",
       "    <tr>\n",
       "      <th>38</th>\n",
       "      <td>Chris Paul</td>\n",
       "      <td>Oklahoma City Thunder</td>\n",
       "      <td>PG</td>\n",
       "      <td>1985-05-06</td>\n",
       "      <td>38506482</td>\n",
       "    </tr>\n",
       "    <tr>\n",
       "      <th>219</th>\n",
       "      <td>Russell Westbrook</td>\n",
       "      <td>Houston Rockets</td>\n",
       "      <td>PG</td>\n",
       "      <td>1988-11-12</td>\n",
       "      <td>38506482</td>\n",
       "    </tr>\n",
       "    <tr>\n",
       "      <th>251</th>\n",
       "      <td>John Wall</td>\n",
       "      <td>Washington Wizards</td>\n",
       "      <td>PG</td>\n",
       "      <td>1990-09-06</td>\n",
       "      <td>38199000</td>\n",
       "    </tr>\n",
       "    <tr>\n",
       "      <th>264</th>\n",
       "      <td>James Harden</td>\n",
       "      <td>Houston Rockets</td>\n",
       "      <td>PG</td>\n",
       "      <td>1989-08-26</td>\n",
       "      <td>38199000</td>\n",
       "    </tr>\n",
       "  </tbody>\n",
       "</table>\n",
       "</div>"
      ],
      "text/plain": [
       "                  Name                   Team Position   Birthday    Salary\n",
       "205      Stephen Curry  Golden State Warriors       PG 1988-03-14  40231758\n",
       "38          Chris Paul  Oklahoma City Thunder       PG 1985-05-06  38506482\n",
       "219  Russell Westbrook        Houston Rockets       PG 1988-11-12  38506482\n",
       "251          John Wall     Washington Wizards       PG 1990-09-06  38199000\n",
       "264       James Harden        Houston Rockets       PG 1989-08-26  38199000"
      ]
     },
     "execution_count": 84,
     "metadata": {},
     "output_type": "execute_result"
    }
   ],
   "source": [
    "nba.nlargest(5,columns=['Salary']) "
   ]
  },
  {
   "cell_type": "markdown",
   "id": "84b033fe-79dd-4628-a185-f81b8c1763e6",
   "metadata": {},
   "source": [
    "### 6"
   ]
  },
  {
   "cell_type": "code",
   "execution_count": 71,
   "id": "4555894c-6a50-4efb-829f-e85504b6a3c5",
   "metadata": {},
   "outputs": [
    {
     "data": {
      "text/html": [
       "<div>\n",
       "<style scoped>\n",
       "    .dataframe tbody tr th:only-of-type {\n",
       "        vertical-align: middle;\n",
       "    }\n",
       "\n",
       "    .dataframe tbody tr th {\n",
       "        vertical-align: top;\n",
       "    }\n",
       "\n",
       "    .dataframe thead th {\n",
       "        text-align: right;\n",
       "    }\n",
       "</style>\n",
       "<table border=\"1\" class=\"dataframe\">\n",
       "  <thead>\n",
       "    <tr style=\"text-align: right;\">\n",
       "      <th></th>\n",
       "      <th>Name</th>\n",
       "      <th>Team</th>\n",
       "      <th>Position</th>\n",
       "      <th>Birthday</th>\n",
       "      <th>Salary</th>\n",
       "    </tr>\n",
       "  </thead>\n",
       "  <tbody>\n",
       "    <tr>\n",
       "      <th>136</th>\n",
       "      <td>Sekou Doumbouya</td>\n",
       "      <td>Detroit Pistons</td>\n",
       "      <td>SF</td>\n",
       "      <td>2000-12-23</td>\n",
       "      <td>3285120</td>\n",
       "    </tr>\n",
       "    <tr>\n",
       "      <th>432</th>\n",
       "      <td>Talen Horton-Tucker</td>\n",
       "      <td>Los Angeles Lakers</td>\n",
       "      <td>GF</td>\n",
       "      <td>2000-11-25</td>\n",
       "      <td>898310</td>\n",
       "    </tr>\n",
       "    <tr>\n",
       "      <th>137</th>\n",
       "      <td>Zion Williamson</td>\n",
       "      <td>New Orleans Pelicans</td>\n",
       "      <td>F</td>\n",
       "      <td>2000-07-06</td>\n",
       "      <td>9757440</td>\n",
       "    </tr>\n",
       "    <tr>\n",
       "      <th>313</th>\n",
       "      <td>RJ Barrett</td>\n",
       "      <td>New York Knicks</td>\n",
       "      <td>SG</td>\n",
       "      <td>2000-06-14</td>\n",
       "      <td>7839960</td>\n",
       "    </tr>\n",
       "    <tr>\n",
       "      <th>392</th>\n",
       "      <td>Jalen Lecque</td>\n",
       "      <td>Phoenix Suns</td>\n",
       "      <td>G</td>\n",
       "      <td>2000-06-13</td>\n",
       "      <td>898310</td>\n",
       "    </tr>\n",
       "  </tbody>\n",
       "</table>\n",
       "</div>"
      ],
      "text/plain": [
       "                    Name                  Team Position   Birthday   Salary\n",
       "136      Sekou Doumbouya       Detroit Pistons       SF 2000-12-23  3285120\n",
       "432  Talen Horton-Tucker    Los Angeles Lakers       GF 2000-11-25   898310\n",
       "137      Zion Williamson  New Orleans Pelicans        F 2000-07-06  9757440\n",
       "313           RJ Barrett       New York Knicks       SG 2000-06-14  7839960\n",
       "392         Jalen Lecque          Phoenix Suns        G 2000-06-13   898310"
      ]
     },
     "execution_count": 71,
     "metadata": {},
     "output_type": "execute_result"
    }
   ],
   "source": [
    "nba.nlargest(5,columns=['Birthday']) "
   ]
  },
  {
   "cell_type": "markdown",
   "id": "4d90d451-fa5a-4df5-a6a0-2e7f646262fa",
   "metadata": {},
   "source": [
    "### 7"
   ]
  },
  {
   "cell_type": "code",
   "execution_count": 82,
   "id": "40c9934d-f6d6-4353-8c9f-8718f346e779",
   "metadata": {},
   "outputs": [
    {
     "data": {
      "text/plain": [
       "Salary    9.288810e+06\n",
       "dtype: float64"
      ]
     },
     "execution_count": 82,
     "metadata": {},
     "output_type": "execute_result"
    }
   ],
   "source": [
    "nba[['Salary']].sum()\n",
    "nba[['Salary']].mean()\n",
    "nba[['Salary']].median()\n",
    "nba[['Salary']].std()"
   ]
  },
  {
   "cell_type": "markdown",
   "id": "b8e41a18-4f15-46cf-8de0-f88fe66362cc",
   "metadata": {},
   "source": [
    "### 연습문제"
   ]
  },
  {
   "cell_type": "code",
   "execution_count": 127,
   "id": "a05af242-6ba9-4a06-868e-25ceb1f534b9",
   "metadata": {},
   "outputs": [
    {
     "data": {
      "text/plain": [
       "29.7"
      ]
     },
     "execution_count": 127,
     "metadata": {},
     "output_type": "execute_result"
    }
   ],
   "source": [
    "round(titanic['age'].mean(),2) #1"
   ]
  },
  {
   "cell_type": "code",
   "execution_count": 137,
   "id": "0ab7b586-58b3-4a73-9bbb-89e795460fca",
   "metadata": {},
   "outputs": [
    {
     "data": {
      "text/plain": [
       "27.9"
      ]
     },
     "execution_count": 137,
     "metadata": {},
     "output_type": "execute_result"
    }
   ],
   "source": [
    "round(titanic[titanic['sex']=='female']['age'].mean(),1) # 2\n",
    "# 여자의 평균 나이"
   ]
  },
  {
   "cell_type": "code",
   "execution_count": 142,
   "id": "7293492f-fe24-4054-a69e-2899203fc9ae",
   "metadata": {},
   "outputs": [
    {
     "data": {
      "text/plain": [
       "34.6"
      ]
     },
     "execution_count": 142,
     "metadata": {},
     "output_type": "execute_result"
    }
   ],
   "source": [
    "round(titanic[(titanic['pclass']==1) & (titanic['sex']=='female')]['age'].mean(),1) # 3\n",
    "# pclass가 1이면서 여자승객의 평균 나이"
   ]
  }
 ],
 "metadata": {
  "kernelspec": {
   "display_name": "Python 3 (ipykernel)",
   "language": "python",
   "name": "python3"
  },
  "language_info": {
   "codemirror_mode": {
    "name": "ipython",
    "version": 3
   },
   "file_extension": ".py",
   "mimetype": "text/x-python",
   "name": "python",
   "nbconvert_exporter": "python",
   "pygments_lexer": "ipython3",
   "version": "3.9.12"
  }
 },
 "nbformat": 4,
 "nbformat_minor": 5
}
