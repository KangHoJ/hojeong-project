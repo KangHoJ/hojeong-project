{
 "cells": [
  {
   "cell_type": "markdown",
   "id": "b6aecc34-19fa-4374-9ae3-a8173e1207ee",
   "metadata": {},
   "source": [
    "### 웹 크롤링(Web crwaling) \n",
    "- 웹페이지를 발견하고 인덱싱\n",
    "- url , 하이퍼링크 페이지 확인"
   ]
  },
  {
   "cell_type": "markdown",
   "id": "f1423575-6a96-43b5-aa33-4e73cde37894",
   "metadata": {},
   "source": [
    "### 웹 스크래핑\n",
    "- 웹 페이지로부터 데이터 추출\n",
    "- 특정 사이트 콘텐츠를 구조화된 형식으로 변환\n",
    "- HTML 문서에서 필요한 데이터 추출"
   ]
  },
  {
   "cell_type": "markdown",
   "id": "bbb3786d-db60-4e78-9a2f-b41e0ba470e8",
   "metadata": {},
   "source": [
    "### 크롤링 + 스크래핑\n",
    "- URL 생성 -> 다운로드 -> 데이터 추출 -> 데이터 저장\n",
    "\n",
    "URL을 생성 하는 과정에서 웹의 최상위에 존재하는 robots.txt 라는  파일을 찾고 그안에 프로토콜에 따라 적혀있는 옵션 확인\n"
   ]
  },
  {
   "cell_type": "markdown",
   "id": "2ca120e5-0d1f-48bb-b013-784f1db85e3d",
   "metadata": {},
   "source": [
    "### Paser 종류\n",
    "- json -> json\n",
    "- xml -> xmltodict\n",
    "- html -> beautifulSoup"
   ]
  },
  {
   "cell_type": "markdown",
   "id": "47b224dc-50c7-48ba-9ef7-f97dfce7efa9",
   "metadata": {},
   "source": [
    "## robots.txt 분석하기"
   ]
  },
  {
   "cell_type": "code",
   "execution_count": 2,
   "id": "81d35b6e-9190-4915-b6c5-fa742cb95a2b",
   "metadata": {},
   "outputs": [
    {
     "data": {
      "text/plain": [
       "True"
      ]
     },
     "execution_count": 2,
     "metadata": {},
     "output_type": "execute_result"
    }
   ],
   "source": [
    "# User-agent가 특정 URL에 접근 가능한지 체크\n",
    "import urllib.robotparser\n",
    "rp = urllib.robotparser.RobotFileParser()\n",
    "rp.set_url('https://www.reuters.com/robots.txt')\n",
    "rp.read()\n",
    "\n",
    "rp.can_fetch(useragent='*', url='https://www.reuters.com/sitemap.xml')  #특정 useragent 가 url에 접근 가능한지 확인"
   ]
  },
  {
   "cell_type": "markdown",
   "id": "c1b3159d-74d3-47de-af07-881364709a19",
   "metadata": {},
   "source": [
    "### 연습문제(sitemap url을 확보)"
   ]
  },
  {
   "cell_type": "code",
   "execution_count": 3,
   "id": "d4b240a6-ef7b-4db0-990f-dea29baf5765",
   "metadata": {},
   "outputs": [
    {
     "data": {
      "text/plain": [
       "['https://www.reuters.com/arc/outboundfeeds/sitemap/?outputType=xml',\n",
       " 'https://www.reuters.com/arc/outboundfeeds/sitemap/?outputType=xml&from=100',\n",
       " 'https://www.reuters.com/arc/outboundfeeds/sitemap/?outputType=xml&from=200',\n",
       " 'https://www.reuters.com/arc/outboundfeeds/sitemap/?outputType=xml&from=300',\n",
       " 'https://www.reuters.com/arc/outboundfeeds/sitemap/?outputType=xml&from=400']"
      ]
     },
     "execution_count": 3,
     "metadata": {},
     "output_type": "execute_result"
    }
   ],
   "source": [
    "# XML 파서를 위한 모듈\n",
    "import xmltodict\n",
    "import requests\n",
    "\n",
    "sitemaps = rp.site_maps()\n",
    "sitemaps \n",
    "# 사이트 들어가보면 URL 정보를 갖는 loc , 최근 수정 시각정보를 갖는 lastmod 있음\n",
    "\n",
    "\n",
    "url = sitemaps[0]\n",
    "sitemaps = xmltodict.parse(requests.get(url).text)   # xmltodict을 이용한 xml형식일떄 sitemaps 추출\n",
    "\n",
    "a= sitemaps['sitemapindex']['sitemap']\n",
    "k = [ a[i]['loc'] for i in range(len(a)) ]     # sitemaps라는 큰 틀에서 여러 페이지들 추출 \n",
    "k[:5]"
   ]
  },
  {
   "cell_type": "code",
   "execution_count": 9,
   "id": "b55dfc36-986b-435a-a61f-755cba996090",
   "metadata": {},
   "outputs": [
    {
     "data": {
      "text/plain": [
       "['https://www.reuters.com/markets/europe/bayer-sees-lower-2023-operating-profit-cost-inflation-2023-02-28/',\n",
       " 'https://www.reuters.com/business/finance/oaktree-capital-seeks-raise-10-billion-new-fund-ft-2023-02-28/',\n",
       " 'https://www.reuters.com/markets/europe/global-markets-view-europe-2023-02-28/',\n",
       " 'https://www.reuters.com/business/retail-consumer/home-zara-fast-slow-fashion-collide-2023-02-28/',\n",
       " 'https://www.reuters.com/lifestyle/sports/england-captain-stokes-has-no-regrets-over-follow-on-2023-02-28/']"
      ]
     },
     "execution_count": 9,
     "metadata": {},
     "output_type": "execute_result"
    }
   ],
   "source": [
    "url = k[0]     # 여러 페이지중에서 하나를 가지고 와서\n",
    "news_dict = xmltodict.parse(requests.get(url).text)   \n",
    "b = news_dict['urlset']['url']              # 그 페이지의 url 값들을 추출\n",
    "k2 = [ b[i]['loc'] for i in range(len(b)) ] \n",
    "k2[:5]"
   ]
  },
  {
   "cell_type": "markdown",
   "id": "2f891bcd-95f2-4156-a2b3-58d7d068985d",
   "metadata": {},
   "source": [
    "## - html 파일 만들기"
   ]
  },
  {
   "cell_type": "code",
   "execution_count": 14,
   "id": "b6b74573-c80d-4928-b9b3-f380e4a4f875",
   "metadata": {},
   "outputs": [],
   "source": [
    "session = requests.Session()\n",
    "\n",
    "for url in k2[:5]:\n",
    "    file = url.split('/')[-2] + '.html'    # /로 분리해서 확장자 html 붙임 \n",
    "    \n",
    "    response = session.get(url)\n",
    "    if response.ok:               # 상태 200 체크하는거랑 비슷\n",
    "        with open('datas/'+file , 'w+b') as f:\n",
    "            f.write(response.text.encode('utf-8'))\n",
    "    else:\n",
    "        print('error with URL :'.format(url))\n"
   ]
  },
  {
   "cell_type": "code",
   "execution_count": 15,
   "id": "c8a8478e-0f28-4283-b89e-a1adaf0ec50c",
   "metadata": {},
   "outputs": [],
   "source": [
    "file = open('filename.txt','w') # 파일을 생성하고 w(쓰기모드)\n",
    "file.write('파일에 작성할 문자열') # 파일에 문자열 작성\n",
    "file.close() # 처리 끝나면 닫아주기 "
   ]
  },
  {
   "cell_type": "code",
   "execution_count": 16,
   "id": "0fa66b6a-60a6-4e6d-87bd-492423513e35",
   "metadata": {},
   "outputs": [
    {
     "name": "stdout",
     "output_type": "stream",
     "text": [
      "파일에 작성할 문자열\n"
     ]
    }
   ],
   "source": [
    "with open('filename.txt','r') as file:  # 파일 읽어오기 r(읽기보드)\n",
    "    print(file.read())"
   ]
  },
  {
   "cell_type": "code",
   "execution_count": 17,
   "id": "7615891f-42ba-4654-b58d-1f3a3fc6bad7",
   "metadata": {},
   "outputs": [
    {
     "data": {
      "text/plain": [
       "['./datas/bayer-sees-lower-2023-operating-profit-cost-inflation-2023-02-28.html',\n",
       " './datas/england-captain-stokes-has-no-regrets-over-follow-on-2023-02-28.html',\n",
       " './datas/global-markets-view-europe-2023-02-28.html',\n",
       " './datas/home-zara-fast-slow-fashion-collide-2023-02-28.html',\n",
       " './datas/oaktree-capital-seeks-raise-10-billion-new-fund-ft-2023-02-28.html']"
      ]
     },
     "execution_count": 17,
     "metadata": {},
     "output_type": "execute_result"
    }
   ],
   "source": [
    "import os\n",
    "path = './datas/'\n",
    "files = [path + file for file in os.listdir(path)] # os.listdir(path) -> 폴더 안에있는 파일들 목록 가져옴\n",
    "files"
   ]
  },
  {
   "cell_type": "markdown",
   "id": "af36506a-beb2-44b7-a70d-c9f30ece7662",
   "metadata": {},
   "source": [
    "- BeautifulSoup"
   ]
  },
  {
   "cell_type": "code",
   "execution_count": null,
   "id": "c87080e8-47ee-412a-9fce-fbc15a5933c2",
   "metadata": {},
   "outputs": [],
   "source": [
    "with open(files[2], 'r',encoding='utf-8') as f :\n",
    "    html = f.read()\n",
    "html"
   ]
  },
  {
   "cell_type": "code",
   "execution_count": 39,
   "id": "d98b9d85-0215-4ba9-955a-82335ff054c3",
   "metadata": {},
   "outputs": [
    {
     "name": "stdout",
     "output_type": "stream",
     "text": [
      "Morning Bid: Market mood downbeat ahead of raft of data\n"
     ]
    }
   ],
   "source": [
    "## html은 BeautifulSoup\n",
    "\n",
    "from bs4 import BeautifulSoup\n",
    "soup = BeautifulSoup(html, 'html.parser')\n",
    "title = soup.select_one('#main-content > article > div.article__main__33WV2 > div.article__content__6hMn9 > header > div > div > h1')\n",
    "# select_one 이 아니라 select면 해당되는 것들 리스트로 가지고옴(one을 쓰면 해당되는것중 가장 첫번째를 불러온다)\n",
    "print(title.text) # 제목 불러오기 "
   ]
  },
  {
   "cell_type": "code",
   "execution_count": 33,
   "id": "5a0d5516-5ade-4b40-bc6e-445f5d5cc461",
   "metadata": {},
   "outputs": [
    {
     "data": {
      "text/plain": [
       "<h1 class=\"text__text__1FZLe text__dark-grey__3Ml43 text__medium__1kbOh text__heading_3__1kDhc heading__base__2T28j heading__heading_3__3aL54 article-header__title__3Y2hh\" data-testid=\"Heading\">Morning Bid: Market mood downbeat ahead of raft of data</h1>"
      ]
     },
     "execution_count": 33,
     "metadata": {},
     "output_type": "execute_result"
    }
   ],
   "source": [
    "soup.h1 # .h1 을 조회하면 <h1>태그에 해당하는 객체를 가져올 수 있음"
   ]
  },
  {
   "cell_type": "code",
   "execution_count": 34,
   "id": "66bebbdc-8e21-4ec9-813a-3cd51fe737da",
   "metadata": {},
   "outputs": [
    {
     "data": {
      "text/plain": [
       "'Morning Bid: Market mood downbeat ahead of raft of data'"
      ]
     },
     "execution_count": 34,
     "metadata": {},
     "output_type": "execute_result"
    }
   ],
   "source": [
    "soup.h1.text # 태그 사이에 있는 텍스트 값을 가져올 수 있음 "
   ]
  },
  {
   "cell_type": "code",
   "execution_count": 44,
   "id": "d8881f70-4226-4609-82de-e537df3e8eaa",
   "metadata": {},
   "outputs": [
    {
     "data": {
      "text/plain": [
       "'A look at the day ahead in European and global markets from Anshuman Daga'"
      ]
     },
     "execution_count": 44,
     "metadata": {},
     "output_type": "execute_result"
    }
   ],
   "source": [
    "soup.select_one('#main-content > article > div.article__main__33WV2 > div.article__content__6hMn9 > div > div > div.article-body__content__17Yit.paywall-article > p:nth-child(2)').text\n",
    "# 본문 중 일부 불러오기 "
   ]
  },
  {
   "cell_type": "code",
   "execution_count": 41,
   "id": "17de0ec0-b756-42a1-a9d1-08be96991bf7",
   "metadata": {},
   "outputs": [
    {
     "data": {
      "text/plain": [
       "['A look at the day ahead in European and global markets from Anshuman Daga',\n",
       " \"The overarching downbeat mood among investors shows no signs of improving as markets become increasingly wary of a further rise in borrowing costs.Although U.S. markets took a breather and rose on Monday, they ended well below the day's highs and Asian markets were back in the red on Tuesday after gaining in early trade.\",\n",
       " \"Tuesday's U.S. consumer confidence data will be especially scrutinised for households' views on economic prospects and inflation expectations.\",\n",
       " 'Economists polled by Reuters expect a median reading of 109.5 on the index, which unexpectedly fell in January.',\n",
       " 'European markets will deal with CPI data due from France and Spain.',\n",
       " 'Despite sharp increases in interest rates by major central banks, predictions of economies worldwide falling into recession continue to miss the mark.',\n",
       " 'While inflation has eased a bit, providing some support to markets, a barrage of economic data suggests that inflation is stickier than expected, reinforcing the \"higher-for-longer\" rates view.',\n",
       " 'On Tuesday, sterling gave up some gains after rising by 0.98% against the dollar a day earlier, when it recorded its biggest daily gain in more than seven weeks.',\n",
       " 'British Prime Minister Rishi Sunak struck a deal with the European Union on post-Brexit trade rules for Northern Ireland.',\n",
       " 'Sunak immediately won plaudits from business groups who welcomed the easing of trade rules.',\n",
       " \"The news comes at a time when Britain's economy, which looked likely to fall into recession in early 2023, is showing some unexpected signs of recovery, raising questions about whether the Bank of England really is about to pause its run of interest rate increases.\",\n",
       " 'In Asia, incoming Bank of Japan Deputy Governor Shinichi Uchida brushed aside the chance of an immediate overhaul of ultra-loose monetary policy, suggesting that any review of its policy framework could take about a year.',\n",
       " \"Elsewhere, data showed that Japan's factory output shrank at the fastest pace in eight months in January as declining overseas demand took a heavy toll on key industries\",\n",
       " 'Key developments that could influence markets on Tuesday:',\n",
       " 'Europe economic data: France Feb prelim CPI, final Q4 GDP; Spain, Portugal Feb flash CPI; Germany Jan import prices',\n",
       " 'Europe results: Man, Abrdn, Ocado, Travis Perkins',\n",
       " 'U.S. economic data: Dec house price data, Feb Chicago PMI',\n",
       " 'U.S. earnings: Target Corp, Jones Lang LaSalle, Manchester United',\n",
       " 'Our Standards: The Thomson Reuters Trust Principles.']"
      ]
     },
     "execution_count": 41,
     "metadata": {},
     "output_type": "execute_result"
    }
   ],
   "source": [
    "r = soup.select('#main-content > article > div.article__main__33WV2 > div.article__content__6hMn9 > div > div > div.article-body__content__17Yit.paywall-article > p')\n",
    "\n",
    "r = [x.text for x in r]\n",
    "r"
   ]
  },
  {
   "cell_type": "code",
   "execution_count": 45,
   "id": "c98ff993-a98e-4edb-9def-27278757c082",
   "metadata": {},
   "outputs": [
    {
     "data": {
      "text/plain": [
       "'https://www.reuters.com/markets/europe/global-markets-view-europe-2023-02-28/'"
      ]
     },
     "execution_count": 45,
     "metadata": {},
     "output_type": "execute_result"
    }
   ],
   "source": [
    "soup.find('link',{'rel':'canonical'})['href']\n",
    "# 표준(canoncical URL)을 사용하여 값을 관리"
   ]
  },
  {
   "cell_type": "markdown",
   "id": "50be8830-203a-4a12-b6c3-4b90524c63a7",
   "metadata": {},
   "source": [
    "### HTML 문서의 표준화된 영역"
   ]
  },
  {
   "cell_type": "markdown",
   "id": "d52a0a2c-a18c-4bba-91ba-8a0e8cb0c23a",
   "metadata": {},
   "source": [
    "- 제목 : title 또는 h1 태그를 사용\n",
    "- 웹 페이지 요약 : meta name='description'\n",
    "- 구조화된 헤더 정보: OpenGraph(https://ogp.me)에서 표준화한 것으로 페이지의 소스코드에서 og: 부분을 찾는다. \n",
    "- 웹 페이지의 URL: link rel=”canonical”"
   ]
  }
 ],
 "metadata": {
  "kernelspec": {
   "display_name": "Python 3 (ipykernel)",
   "language": "python",
   "name": "python3"
  },
  "language_info": {
   "codemirror_mode": {
    "name": "ipython",
    "version": 3
   },
   "file_extension": ".py",
   "mimetype": "text/x-python",
   "name": "python",
   "nbconvert_exporter": "python",
   "pygments_lexer": "ipython3",
   "version": "3.9.12"
  }
 },
 "nbformat": 4,
 "nbformat_minor": 5
}
