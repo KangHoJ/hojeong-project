{
 "cells": [
  {
   "cell_type": "markdown",
   "id": "05a22020-4ef0-41b5-b5e5-c1cd64d0779d",
   "metadata": {},
   "source": [
    "## 리스트 comprehenson"
   ]
  },
  {
   "cell_type": "code",
   "execution_count": 4,
   "id": "b91cd8ec-2d68-4d75-8f91-8a6b5f5cd057",
   "metadata": {},
   "outputs": [
    {
     "name": "stdout",
     "output_type": "stream",
     "text": [
      "[1, 2, 3, 4, 5, 6, 7, 8, 9]\n"
     ]
    }
   ],
   "source": [
    "list_C = [i for i in range(1,10)]\n",
    "print(list_C)"
   ]
  },
  {
   "cell_type": "code",
   "execution_count": 23,
   "id": "0e35af51-fe77-43df-9e0d-fbacd47145c2",
   "metadata": {},
   "outputs": [
    {
     "name": "stdout",
     "output_type": "stream",
     "text": [
      "[1, 4, 9, 16, 25, 36, 49, 64, 81]\n"
     ]
    }
   ],
   "source": [
    "prac_result = [ i**2 for i in range(1,10)]\n",
    "print(prac_result)"
   ]
  },
  {
   "cell_type": "code",
   "execution_count": 24,
   "id": "c489b36e-1b51-42f0-9e39-4b03cc7c6a41",
   "metadata": {},
   "outputs": [
    {
     "name": "stdout",
     "output_type": "stream",
     "text": [
      "[1, 3, 5, 7, 9]\n"
     ]
    }
   ],
   "source": [
    "prac_result2 = [ i for i in range(1,10,2)]\n",
    "print(prac_result2)\n"
   ]
  },
  {
   "cell_type": "code",
   "execution_count": 29,
   "id": "407a2ffe-e879-4653-8713-2da031a65053",
   "metadata": {},
   "outputs": [
    {
     "name": "stdout",
     "output_type": "stream",
     "text": [
      "['a', 'b', 'c', 'd', 'e', 'f', 'g', 'h', 'i', 'j', 'k', 'z']\n"
     ]
    }
   ],
   "source": [
    "prac_result3 = [ i for i in 'abcdefghijkz'] # 문자 하나하나를 가져온다\n",
    "print(prac_result3)"
   ]
  },
  {
   "cell_type": "code",
   "execution_count": 9,
   "id": "a14ef3f2-8b0f-4133-8572-1d16549d201d",
   "metadata": {},
   "outputs": [
    {
     "name": "stdout",
     "output_type": "stream",
     "text": [
      "['2', '3', '4', '5', '6', '7', '8', '9', '10', 'J', 'Q', 'K', 'A']\n"
     ]
    }
   ],
   "source": [
    "prac_result4 = [ str(i) for i in range(2,11,1) ] + [ i for i in 'JQKA']\n",
    "print(prac_result4)"
   ]
  },
  {
   "cell_type": "code",
   "execution_count": 10,
   "id": "a42beb84-7369-4491-bc8d-aef0b139701b",
   "metadata": {},
   "outputs": [
    {
     "name": "stdout",
     "output_type": "stream",
     "text": [
      "[['2', '3', '4', '5', '6', '7', '8', '9', '10', 'J', 'Q', 'K', 'A'], ['2', '3', '4', '5', '6', '7', '8', '9', '10', 'J', 'Q', 'K', 'A'], ['2', '3', '4', '5', '6', '7', '8', '9', '10', 'J', 'Q', 'K', 'A'], ['2', '3', '4', '5', '6', '7', '8', '9', '10', 'J', 'Q', 'K', 'A']]\n"
     ]
    }
   ],
   "source": [
    "prac_result5 = [i for i in [prac_result4]*4] \n",
    "print(prac_result5)"
   ]
  },
  {
   "cell_type": "code",
   "execution_count": 11,
   "id": "bb60fc73-d5e8-403f-b374-a216bdf8ff3b",
   "metadata": {},
   "outputs": [
    {
     "name": "stdout",
     "output_type": "stream",
     "text": [
      "[['2', '3', '4', '5', '6', '7', '8', '9', '10', 'J', 'Q', 'K', 'A'], ['2', '3', '4', '5', '6', '7', '8', '9', '10', 'J', 'Q', 'K', 'A'], ['2', '3', '4', '5', '6', '7', '8', '9', '10', 'J', 'Q', 'K', 'A'], ['2', '3', '4', '5', '6', '7', '8', '9', '10', 'J', 'Q', 'K', 'A']]\n"
     ]
    }
   ],
   "source": [
    "prac_result5 = [prac_result4 for i in range(4)] #prac_result 를 4개 만듬\n",
    "print(prac_result5)"
   ]
  },
  {
   "cell_type": "code",
   "execution_count": 12,
   "id": "11356a76-72c6-4ead-95bb-695cd4f7b324",
   "metadata": {},
   "outputs": [
    {
     "name": "stdout",
     "output_type": "stream",
     "text": [
      "['two', ['2', '3', '4', '5', '6', '7', '8', '9', '10', 'J', 'Q', 'K', 'A'], ['2', '3', '4', '5', '6', '7', '8', '9', '10', 'J', 'Q', 'K', 'A'], ['2', '3', '4', '5', '6', '7', '8', '9', '10', 'J', 'Q', 'K', 'A']]\n"
     ]
    }
   ],
   "source": [
    "prac_result5[0] ='two'\n",
    "print(prac_result5)"
   ]
  }
 ],
 "metadata": {
  "kernelspec": {
   "display_name": "",
   "name": ""
  },
  "language_info": {
   "name": ""
  }
 },
 "nbformat": 4,
 "nbformat_minor": 5
}
