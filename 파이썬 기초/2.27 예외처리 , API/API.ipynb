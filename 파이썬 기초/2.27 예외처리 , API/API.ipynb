{
 "cells": [
  {
   "cell_type": "markdown",
   "id": "413728bd-d32d-4322-912a-1a84f272974e",
   "metadata": {},
   "source": [
    "## API실습"
   ]
  },
  {
   "cell_type": "code",
   "execution_count": 57,
   "id": "846e9f36-6639-411f-b9e5-6eec0bfd5678",
   "metadata": {},
   "outputs": [
    {
     "name": "stdout",
     "output_type": "stream",
     "text": [
      "200\n"
     ]
    }
   ],
   "source": [
    "# get() 메서드 -> 첫번째는 URL , 두번쨰는 keyword\n",
    "import requests \n",
    "\n",
    "response = requests.get(\"https://api.github.com/repositories\",headers={'Accept': \"application/vnd.github+json\"})\n",
    "\n",
    "print(response.status_code) # 통신이 잘 되었는지 확인하는 코드 "
   ]
  },
  {
   "cell_type": "code",
   "execution_count": 65,
   "id": "af249907-160f-42eb-a20b-fef694bc75a1",
   "metadata": {},
   "outputs": [
    {
     "name": "stdout",
     "output_type": "stream",
     "text": [
      "인코딩 : utf-8\n",
      "콘텐처 타입: application/json; charset=utf-8\n",
      "서버 : GitHub.com\n"
     ]
    }
   ],
   "source": [
    "print('인코딩 : {}'.format(response.encoding))\n",
    "print('콘텐처 타입: {}'.format(response.headers['content-Type']))\n",
    "print('서버 : {}'.format(response.headers['server']))"
   ]
  },
  {
   "cell_type": "code",
   "execution_count": 68,
   "id": "ae672cbc-f78c-42e0-a7d5-3cd6e07b895e",
   "metadata": {},
   "outputs": [
    {
     "name": "stdout",
     "output_type": "stream",
     "text": [
      "{\n",
      "  \"id\": 1,\n",
      "  \"node_id\": \"MDEwOlJlcG9zaXRvcnkx\",\n",
      "  \"name\": \"grit\",\n",
      "  \"full_name\": \"mojombo/grit\",\n",
      "  \"private\": false,\n",
      "  \"owner\": {\n",
      "    \"login\": \"mojombo\",\n",
      "    \"id\": 1,\n",
      "    \"node_id\": \"MDQ6VXNlcjE=\",\n",
      "\n"
     ]
    }
   ],
   "source": [
    "import json\n",
    "print(json.dumps(response.json()[0],indent=2)[:200]) # 딕셔너리 형태로 만들어서 200자만 봄"
   ]
  },
  {
   "cell_type": "code",
   "execution_count": 76,
   "id": "cbafc4c4-862b-4e91-ad77-2db54ba6e184",
   "metadata": {},
   "outputs": [
    {
     "data": {
      "text/plain": [
       "{'Server': 'GitHub.com', 'Date': 'Mon, 27 Feb 2023 05:42:20 GMT', 'Content-Type': 'application/json; charset=utf-8', 'Cache-Control': 'public, max-age=60, s-maxage=60', 'Vary': 'Accept, Accept-Encoding, Accept, X-Requested-With', 'ETag': 'W/\"3c54a93639294e719c717ee9fb29aa31617be2a77aed1b49a769e1b1c9dd5ef5\"', 'X-GitHub-Media-Type': 'github.v3; format=json', 'Link': '<https://api.github.com/repositories?since=369>; rel=\"next\", <https://api.github.com/repositories{?since}>; rel=\"first\"', 'x-github-api-version-selected': '2022-11-28', 'Access-Control-Expose-Headers': 'ETag, Link, Location, Retry-After, X-GitHub-OTP, X-RateLimit-Limit, X-RateLimit-Remaining, X-RateLimit-Used, X-RateLimit-Resource, X-RateLimit-Reset, X-OAuth-Scopes, X-Accepted-OAuth-Scopes, X-Poll-Interval, X-GitHub-Media-Type, X-GitHub-SSO, X-GitHub-Request-Id, Deprecation, Sunset', 'Access-Control-Allow-Origin': '*', 'Strict-Transport-Security': 'max-age=31536000; includeSubdomains; preload', 'X-Frame-Options': 'deny', 'X-Content-Type-Options': 'nosniff', 'X-XSS-Protection': '0', 'Referrer-Policy': 'origin-when-cross-origin, strict-origin-when-cross-origin', 'Content-Security-Policy': \"default-src 'none'\", 'Content-Encoding': 'gzip', 'X-RateLimit-Limit': '60', 'X-RateLimit-Remaining': '19', 'X-RateLimit-Reset': '1677477481', 'X-RateLimit-Resource': 'core', 'X-RateLimit-Used': '41', 'Accept-Ranges': 'bytes', 'Transfer-Encoding': 'chunked', 'X-GitHub-Request-Id': 'DD92:4F39:3D53B9:55E410:63FC42BB'}"
      ]
     },
     "execution_count": 76,
     "metadata": {},
     "output_type": "execute_result"
    }
   ],
   "source": [
    "response.headers"
   ]
  },
  {
   "cell_type": "code",
   "execution_count": 81,
   "id": "8e03ff1d-e8c0-45b6-b10b-8021cdc281ee",
   "metadata": {},
   "outputs": [
    {
     "name": "stdout",
     "output_type": "stream",
     "text": [
      "422\n"
     ]
    }
   ],
   "source": [
    "response = requests.get('https://api.github.com/search/repositories')\n",
    "print(response.status_code) #서버가 처리를 못하는 요청인경우"
   ]
  },
  {
   "cell_type": "markdown",
   "id": "59288db5-b168-4f9b-aa8b-4cb1d1c9d81c",
   "metadata": {},
   "source": [
    "### 새로운 API 가져오기"
   ]
  },
  {
   "cell_type": "markdown",
   "id": "d310c8fa-bb94-4fda-9c63-cc9e5cd01acc",
   "metadata": {},
   "source": [
    "- parames 적는 공식    params={'q: '찾는 규격 이름'+language:python'}"
   ]
  },
  {
   "cell_type": "code",
   "execution_count": 91,
   "id": "5ce03e15-fd2b-4df4-9744-e3c01401dcf1",
   "metadata": {},
   "outputs": [
    {
     "name": "stdout",
     "output_type": "stream",
     "text": [
      "200\n"
     ]
    }
   ],
   "source": [
    "response = requests.get('https://api.github.com/search/repositories',\n",
    "                       params ={'q' :'data_science+language:python'},\n",
    "                        headers={'Accept':\"application/vnd.github+json\"})\n",
    "print(response.status_code)"
   ]
  },
  {
   "cell_type": "code",
   "execution_count": 92,
   "id": "e6eca155-8d87-4b73-9909-7663cb5ce544",
   "metadata": {},
   "outputs": [
    {
     "data": {
      "text/plain": [
       "{'Server': 'GitHub.com', 'Date': 'Mon, 27 Feb 2023 07:12:31 GMT', 'Content-Type': 'application/json; charset=utf-8', 'Cache-Control': 'no-cache', 'Vary': 'Accept, Accept-Encoding, Accept, X-Requested-With', 'X-GitHub-Media-Type': 'github.v3; format=json', 'Link': '<https://api.github.com/search/repositories?q=data_science%2Blanguage%3Apython&page=2>; rel=\"next\", <https://api.github.com/search/repositories?q=data_science%2Blanguage%3Apython&page=34>; rel=\"last\"', 'x-github-api-version-selected': '2022-11-28', 'Access-Control-Expose-Headers': 'ETag, Link, Location, Retry-After, X-GitHub-OTP, X-RateLimit-Limit, X-RateLimit-Remaining, X-RateLimit-Used, X-RateLimit-Resource, X-RateLimit-Reset, X-OAuth-Scopes, X-Accepted-OAuth-Scopes, X-Poll-Interval, X-GitHub-Media-Type, X-GitHub-SSO, X-GitHub-Request-Id, Deprecation, Sunset', 'Access-Control-Allow-Origin': '*', 'Strict-Transport-Security': 'max-age=31536000; includeSubdomains; preload', 'X-Frame-Options': 'deny', 'X-Content-Type-Options': 'nosniff', 'X-XSS-Protection': '0', 'Referrer-Policy': 'origin-when-cross-origin, strict-origin-when-cross-origin', 'Content-Security-Policy': \"default-src 'none'\", 'Content-Encoding': 'gzip', 'X-RateLimit-Limit': '10', 'X-RateLimit-Remaining': '8', 'X-RateLimit-Reset': '1677481957', 'X-RateLimit-Resource': 'search', 'X-RateLimit-Used': '2', 'Accept-Ranges': 'bytes', 'Transfer-Encoding': 'chunked', 'X-GitHub-Request-Id': 'E226:5FB1:25736B:358455:63FC57DE'}"
      ]
     },
     "execution_count": 92,
     "metadata": {},
     "output_type": "execute_result"
    }
   ],
   "source": [
    "response.headers"
   ]
  },
  {
   "cell_type": "code",
   "execution_count": 93,
   "id": "b41440e9-5ca3-4bfa-b936-86073d7db4b9",
   "metadata": {},
   "outputs": [
    {
     "data": {
      "text/plain": [
       "'application/json; charset=utf-8'"
      ]
     },
     "execution_count": 93,
     "metadata": {},
     "output_type": "execute_result"
    }
   ],
   "source": [
    "response.headers['content-Type'] #어떻게 생긴 애인지 확인 함 -> json으로 되어있음"
   ]
  },
  {
   "cell_type": "code",
   "execution_count": null,
   "id": "ff9f2bee-49fc-4a71-b087-686c34548413",
   "metadata": {},
   "outputs": [],
   "source": [
    "import json #문자열을 파이썬의 자료형 형태로 변환해줌\n",
    "response.json() #response 를 json() 매서드를 활용해 dict 타입으로 변경"
   ]
  },
  {
   "cell_type": "code",
   "execution_count": 94,
   "id": "edb235ab-882f-4574-a456-2c81a2ae30b6",
   "metadata": {},
   "outputs": [
    {
     "data": {
      "text/plain": [
       "dict_keys(['total_count', 'incomplete_results', 'items'])"
      ]
     },
     "execution_count": 94,
     "metadata": {},
     "output_type": "execute_result"
    }
   ],
   "source": [
    "response.json().keys()  # response 를 json으로 구조화 한것중 keys만 출력"
   ]
  },
  {
   "cell_type": "code",
   "execution_count": 98,
   "id": "68e9a7b1-d7f3-4a86-a9fa-10352b05b4b9",
   "metadata": {},
   "outputs": [
    {
     "data": {
      "text/plain": [
       "30"
      ]
     },
     "execution_count": 98,
     "metadata": {},
     "output_type": "execute_result"
    }
   ],
   "source": [
    "len(response.json()['items'])"
   ]
  },
  {
   "cell_type": "code",
   "execution_count": 103,
   "id": "89124ffd-cf25-4784-b7f0-d26dacc9a30d",
   "metadata": {},
   "outputs": [
    {
     "data": {
      "text/plain": [
       "26382146"
      ]
     },
     "execution_count": 105,
     "metadata": {},
     "output_type": "execute_result"
    }
   ],
   "source": [
    "response.json()['items'][0]['name'] #items 중 -> 0번째 인덱스 중 -> name은 무엇인지"
   ]
  },
  {
   "cell_type": "code",
   "execution_count": 104,
   "id": "1028bb44-067d-49e7-b822-8450f07d863d",
   "metadata": {},
   "outputs": [
    {
     "data": {
      "text/plain": [
       "26382146"
      ]
     },
     "execution_count": 104,
     "metadata": {},
     "output_type": "execute_result"
    }
   ],
   "source": [
    "response.json()['items'][0]['id'] #items 중 -> 0번쨰 인덱스 중 -> id는 무엇인지"
   ]
  },
  {
   "cell_type": "markdown",
   "id": "81b6068b-6c44-4747-9990-dc44421968e6",
   "metadata": {},
   "source": [
    "## 새로운 API 가져오기(2) - Issues "
   ]
  },
  {
   "cell_type": "markdown",
   "id": "15680490-da89-4597-a006-63a1be47f7ff",
   "metadata": {},
   "source": [
    "- /repos/{owner}/{repo}/issues  (작성 형식)"
   ]
  },
  {
   "cell_type": "code",
   "execution_count": 148,
   "id": "c1d090b7-5e39-407f-a837-c55546a41fbf",
   "metadata": {},
   "outputs": [
    {
     "name": "stdout",
     "output_type": "stream",
     "text": [
      "403\n",
      "2\n"
     ]
    }
   ],
   "source": [
    "response = requests.get('https://api.github.com/repos/pytorch/pytorch/issues',\n",
    "                        headers={'Accept': \"application/vnd.github+json\"}) \n",
    "# get방식으로 가져오고 owner , repo 부분에 내가 가져오고 싶은 issue 정보 넣어 url 만들고 accept 넣으면 된다\n",
    "print(response.status_code) # 실행 잘 되었는지\n",
    "print(len(response.json())) # 총 30개만 가지고왔음"
   ]
  },
  {
   "cell_type": "code",
   "execution_count": 149,
   "id": "d2d9398d-5e45-4a77-954e-4679953aecb7",
   "metadata": {},
   "outputs": [
    {
     "data": {
      "text/plain": [
       "{}"
      ]
     },
     "execution_count": 149,
     "metadata": {},
     "output_type": "execute_result"
    }
   ],
   "source": [
    "response.links #응답 페이지 수에대한 세부 정보를 제공\n",
    "\n",
    "# next 는 30개 결과를 가져다주는 URL 제공\n",
    "# last 는 총 검색 결과가 몇 개 있는지를 나타내는 마지막 페이지 URL 제공"
   ]
  },
  {
   "cell_type": "code",
   "execution_count": 150,
   "id": "3b920c74-fd7a-4080-b535-2fb79775d297",
   "metadata": {},
   "outputs": [],
   "source": [
    "# 다음 링크가 있다면 계속 API 호출하는 함수 만들기\n",
    "def get_all_pages(url, params=None, headers=None):\n",
    "    output_json=[] #결과를 담음\n",
    "    response = requests.get(url, params=params, headers=headers) # 요청을 함\n",
    "    if response.status_code == 200: # 성공이라면\n",
    "        output_json = response.json() # response.json() 결과를 담아라\n",
    "        if 'next' in response.links: \n",
    "            next_url = response.links['next']['url']\n",
    "            if next_url is not None:\n",
    "                output_json += get_all_pages(next_url, params, headers)\n",
    "    return output_json"
   ]
  },
  {
   "cell_type": "code",
   "execution_count": 151,
   "id": "0ddcb811-3497-4b9d-9a7a-0b1cdb78d3a5",
   "metadata": {},
   "outputs": [
    {
     "data": {
      "text/html": [
       "<div>\n",
       "<style scoped>\n",
       "    .dataframe tbody tr th:only-of-type {\n",
       "        vertical-align: middle;\n",
       "    }\n",
       "\n",
       "    .dataframe tbody tr th {\n",
       "        vertical-align: top;\n",
       "    }\n",
       "\n",
       "    .dataframe thead th {\n",
       "        text-align: right;\n",
       "    }\n",
       "</style>\n",
       "<table border=\"1\" class=\"dataframe\">\n",
       "  <thead>\n",
       "    <tr style=\"text-align: right;\">\n",
       "      <th></th>\n",
       "    </tr>\n",
       "  </thead>\n",
       "  <tbody>\n",
       "  </tbody>\n",
       "</table>\n",
       "</div>"
      ],
      "text/plain": [
       "Empty DataFrame\n",
       "Columns: []\n",
       "Index: []"
      ]
     },
     "execution_count": 151,
     "metadata": {},
     "output_type": "execute_result"
    }
   ],
   "source": [
    "import pandas as pd\n",
    "\n",
    "out = get_all_pages('https://api.github.com/repos/pytorch/pytorch/issues',params={'since': '2022-01-01T10:00:01Z',\n",
    "        'sorted': 'created','direction': 'desc'},headers={'Accept': \"application/vnd.github+json\"})\n",
    "\n",
    "# params 은 2022-01-01 이후에 데이터만 가지고오며 셍성된 것들중 내림차순으로 정렬을 한다\n",
    "\n",
    "df = pd.DataFrame(out) #호출값을 데이터 프레임으로 만듬 \n",
    "df['id','created_at','body']].sample(1) # id,created_at,body 컬럼을 가지는거 하나만 추출해봄 "
   ]
  },
  {
   "cell_type": "code",
   "execution_count": 157,
   "id": "fa82c481-a834-47f8-9d40-208506f2f97d",
   "metadata": {},
   "outputs": [
    {
     "name": "stdout",
     "output_type": "stream",
     "text": [
      "x-Ratelimit_limit 60\n",
      "x-Ratelimit_Remaining 0\n"
     ]
    }
   ],
   "source": [
    "print('x-Ratelimit_limit',response.headers['X-Ratelimit-Limit'])\n",
    "print('x-Ratelimit_Remaining',response.headers['X-Ratelimit-Remaining'])\n",
    "# 시간당 몇개 주는지 "
   ]
  },
  {
   "cell_type": "code",
   "execution_count": null,
   "id": "53205e82-ad3f-4558-b519-d334278ec346",
   "metadata": {},
   "outputs": [],
   "source": [
    "# 호출 속도 조절 코드 (속도 조절을 하지 않으면 어떤 api는 너무 빨라서 비정상적 접근이라 출력할수도있음)\n",
    "def handle_rate_limits(response):\n",
    "    now = datetime.now()\n",
    "    reset_time = dt.fromtimestamp(int(response.headers['X-RateLimit-Reset']))\n",
    "    remaining_requests = response.headers['X-Ratelimit-Remaining']\n",
    "    remaining_time =(reset_time-now).total_seconds()\n",
    "    intervals = remaining_time / (1.0 +int(remaining_requests))\n",
    "    \n",
    "    print('Sleeping for', intervals)\n",
    "    time.sleep(intervals)\n",
    "    return True"
   ]
  }
 ],
 "metadata": {
  "kernelspec": {
   "display_name": "Python 3 (ipykernel)",
   "language": "python",
   "name": "python3"
  },
  "language_info": {
   "codemirror_mode": {
    "name": "ipython",
    "version": 3
   },
   "file_extension": ".py",
   "mimetype": "text/x-python",
   "name": "python",
   "nbconvert_exporter": "python",
   "pygments_lexer": "ipython3",
   "version": "3.9.12"
  }
 },
 "nbformat": 4,
 "nbformat_minor": 5
}
