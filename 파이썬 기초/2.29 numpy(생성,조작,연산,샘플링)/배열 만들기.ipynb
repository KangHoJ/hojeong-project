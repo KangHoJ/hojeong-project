{
 "cells": [
  {
   "cell_type": "markdown",
   "id": "31c81942-99aa-440c-a4f5-70b6c7aab476",
   "metadata": {},
   "source": [
    "# 넘파이 배열"
   ]
  },
  {
   "cell_type": "code",
   "execution_count": 2,
   "id": "982176da-8b3c-4538-ba61-12c8e8c27aae",
   "metadata": {},
   "outputs": [
    {
     "data": {
      "text/plain": [
       "array([0, 1, 2, 3, 4, 5, 6, 7, 8, 9])"
      ]
     },
     "execution_count": 2,
     "metadata": {},
     "output_type": "execute_result"
    }
   ],
   "source": [
    "import numpy as np\n",
    "ar = np.array([i for i in range(10)])\n",
    "ar"
   ]
  },
  {
   "cell_type": "code",
   "execution_count": 4,
   "id": "5da60875-286d-42c3-af3b-e7d1adb72b72",
   "metadata": {},
   "outputs": [
    {
     "data": {
      "text/plain": [
       "array([ 0.1,  5. ,  4. , 12. ])"
      ]
     },
     "execution_count": 4,
     "metadata": {},
     "output_type": "execute_result"
    }
   ],
   "source": [
    "ar2 = np.array([0.1,5,4,12])\n",
    "ar2 "
   ]
  },
  {
   "cell_type": "markdown",
   "id": "d9710037-d39a-4d25-a09f-12bbe0ef9b1d",
   "metadata": {},
   "source": [
    "## 1차원 배열 만들기"
   ]
  },
  {
   "cell_type": "markdown",
   "id": "d6db5849-8f73-4571-ac07-90dd104985df",
   "metadata": {},
   "source": [
    "## - 배열의 연산"
   ]
  },
  {
   "cell_type": "code",
   "execution_count": 7,
   "id": "24fa0c01-8aff-4fbc-bf95-fec4bebb03b1",
   "metadata": {},
   "outputs": [
    {
     "data": {
      "text/plain": [
       "dtype('float32')"
      ]
     },
     "execution_count": 7,
     "metadata": {},
     "output_type": "execute_result"
    }
   ],
   "source": [
    "x = np.array([1,2,3],dtype='f')\n",
    "x[0] + x[1]"
   ]
  },
  {
   "cell_type": "code",
   "execution_count": 9,
   "id": "5b1887e0-9264-4d09-8c6b-d29f8f5fea27",
   "metadata": {},
   "outputs": [
    {
     "data": {
      "text/plain": [
       "'12'"
      ]
     },
     "execution_count": 9,
     "metadata": {},
     "output_type": "execute_result"
    }
   ],
   "source": [
    "x = np.array([1,2,3],dtype='U')\n",
    "x[0] + x[1]"
   ]
  },
  {
   "cell_type": "code",
   "execution_count": 10,
   "id": "7293a4e2-05e2-4e25-bb53-a05572ce026c",
   "metadata": {},
   "outputs": [
    {
     "ename": "TypeError",
     "evalue": "unsupported operand type(s) for /: 'list' and 'list'",
     "output_type": "error",
     "traceback": [
      "\u001b[1;31m---------------------------------------------------------------------------\u001b[0m",
      "\u001b[1;31mTypeError\u001b[0m                                 Traceback (most recent call last)",
      "Input \u001b[1;32mIn [10]\u001b[0m, in \u001b[0;36m<cell line: 3>\u001b[1;34m()\u001b[0m\n\u001b[0;32m      1\u001b[0m x\u001b[38;5;241m=\u001b[39m[\u001b[38;5;241m0\u001b[39m,\u001b[38;5;241m1\u001b[39m,\u001b[38;5;241m-\u001b[39m\u001b[38;5;241m1\u001b[39m,\u001b[38;5;241m0\u001b[39m]\n\u001b[0;32m      2\u001b[0m y\u001b[38;5;241m=\u001b[39m[\u001b[38;5;241m1\u001b[39m,\u001b[38;5;241m0\u001b[39m,\u001b[38;5;241m0\u001b[39m,\u001b[38;5;241m0\u001b[39m]\n\u001b[1;32m----> 3\u001b[0m \u001b[43mx\u001b[49m\u001b[38;5;241;43m/\u001b[39;49m\u001b[43my\u001b[49m\n",
      "\u001b[1;31mTypeError\u001b[0m: unsupported operand type(s) for /: 'list' and 'list'"
     ]
    }
   ],
   "source": [
    "x=[0,1,-1,0]\n",
    "y=[1,0,0,0]\n",
    "x/y # 계산 불가능"
   ]
  },
  {
   "cell_type": "code",
   "execution_count": 11,
   "id": "ba7ea52c-5ec7-4756-9155-279ee61385aa",
   "metadata": {},
   "outputs": [
    {
     "name": "stderr",
     "output_type": "stream",
     "text": [
      "C:\\Users\\User\\AppData\\Local\\Temp\\ipykernel_6536\\3742454558.py:3: RuntimeWarning: divide by zero encountered in true_divide\n",
      "  xn/yn\n",
      "C:\\Users\\User\\AppData\\Local\\Temp\\ipykernel_6536\\3742454558.py:3: RuntimeWarning: invalid value encountered in true_divide\n",
      "  xn/yn\n"
     ]
    },
    {
     "data": {
      "text/plain": [
       "array([  0.,  inf, -inf,  nan])"
      ]
     },
     "execution_count": 11,
     "metadata": {},
     "output_type": "execute_result"
    }
   ],
   "source": [
    "xn = np.array(x)\n",
    "yn = np.array(y)\n",
    "xn/yn # 계산이 가능하다 "
   ]
  },
  {
   "cell_type": "code",
   "execution_count": 15,
   "id": "b2bca189-8d30-4935-8344-7d793a061c24",
   "metadata": {},
   "outputs": [
    {
     "data": {
      "text/plain": [
       "[1, 2, 3, 1, 2, 3, 10, 20, 30]"
      ]
     },
     "execution_count": 15,
     "metadata": {},
     "output_type": "execute_result"
    }
   ],
   "source": [
    "a = [1,2,3]\n",
    "b = [10,20,30]\n",
    "2 * a + b "
   ]
  },
  {
   "cell_type": "code",
   "execution_count": 16,
   "id": "f9c7ed7a-50f9-4967-95e6-d91134ab8f0e",
   "metadata": {},
   "outputs": [
    {
     "data": {
      "text/plain": [
       "array([12, 24, 36])"
      ]
     },
     "execution_count": 16,
     "metadata": {},
     "output_type": "execute_result"
    }
   ],
   "source": [
    "an = np.array(a)\n",
    "bn = np.array(b)\n",
    "2 * an + bn"
   ]
  },
  {
   "cell_type": "markdown",
   "id": "61611e65-ff40-426c-a924-1ce4a844b6e2",
   "metadata": {},
   "source": [
    "## 2차원 배열 만들기"
   ]
  },
  {
   "cell_type": "code",
   "execution_count": 18,
   "id": "f007e2c1-46a0-4785-ae05-83f69d67f914",
   "metadata": {},
   "outputs": [
    {
     "data": {
      "text/plain": [
       "array([[0, 1, 2],\n",
       "       [3, 4, 5]])"
      ]
     },
     "execution_count": 18,
     "metadata": {},
     "output_type": "execute_result"
    }
   ],
   "source": [
    "c = np.array([[0,1,2],[3,4,5]])\n",
    "c"
   ]
  },
  {
   "cell_type": "code",
   "execution_count": 19,
   "id": "65dacaa9-aa98-4a8f-aef4-9abfccf0b8c7",
   "metadata": {},
   "outputs": [
    {
     "name": "stdout",
     "output_type": "stream",
     "text": [
      "2\n",
      "3\n"
     ]
    }
   ],
   "source": [
    "print(len(c))\n",
    "print(len(c[0]))"
   ]
  },
  {
   "cell_type": "code",
   "execution_count": 21,
   "id": "b78835e3-d68f-43d3-890d-d10dd3506f61",
   "metadata": {},
   "outputs": [
    {
     "data": {
      "text/plain": [
       "array([[10, 20, 30, 40],\n",
       "       [50, 60, 70, 80]])"
      ]
     },
     "execution_count": 21,
     "metadata": {},
     "output_type": "execute_result"
    }
   ],
   "source": [
    "a = np.array([[10,20,30,40],[50,60,70,80]])\n",
    "a"
   ]
  },
  {
   "cell_type": "markdown",
   "id": "8e2de92b-e90b-44dd-bcab-c4e3368ddee4",
   "metadata": {},
   "source": [
    "## 3차원 배열 만들기"
   ]
  },
  {
   "cell_type": "code",
   "execution_count": 24,
   "id": "df4133b7-3d43-4f14-8cbb-b685a4f50aea",
   "metadata": {},
   "outputs": [
    {
     "data": {
      "text/plain": [
       "array([[[ 1,  2,  3,  4],\n",
       "        [ 5,  6,  7,  8],\n",
       "        [ 9, 10, 11, 12]],\n",
       "\n",
       "       [[11, 12, 13, 14],\n",
       "        [15, 16, 17, 18],\n",
       "        [19, 20, 21, 22]]])"
      ]
     },
     "execution_count": 25,
     "metadata": {},
     "output_type": "execute_result"
    }
   ],
   "source": [
    "d = np.array([[[1,2,3,4],[5,6,7,8],[9,10,11,12]],\n",
    "            [[11,12,13,14],[15,16,17,18],[19,20,21,22]]])  #2*3*4 배열\n",
    "d"
   ]
  },
  {
   "cell_type": "code",
   "execution_count": 28,
   "id": "f699d3c4-5903-4cad-922b-2635ed2a758d",
   "metadata": {},
   "outputs": [
    {
     "data": {
      "text/plain": [
       "(2, 3, 4)"
      ]
     },
     "execution_count": 28,
     "metadata": {},
     "output_type": "execute_result"
    }
   ],
   "source": [
    "len(d) , len(d[0]) , len(d[0][0]) "
   ]
  },
  {
   "cell_type": "code",
   "execution_count": 29,
   "id": "5c4772c9-3819-43b2-9675-7179269ec0b8",
   "metadata": {},
   "outputs": [
    {
     "data": {
      "text/plain": [
       "3"
      ]
     },
     "execution_count": 29,
     "metadata": {},
     "output_type": "execute_result"
    }
   ],
   "source": [
    "d.ndim # 차원을 알려줌"
   ]
  },
  {
   "cell_type": "markdown",
   "id": "7fc86676-6687-45d2-9228-4e3b0ace8c66",
   "metadata": {},
   "source": [
    "## 배열 생성"
   ]
  },
  {
   "cell_type": "code",
   "execution_count": 61,
   "id": "7d7e7bd2-598b-41b1-8035-7fce3728a96c",
   "metadata": {},
   "outputs": [
    {
     "data": {
      "text/plain": [
       "array([[0, 0],\n",
       "       [0, 0],\n",
       "       [0, 0],\n",
       "       [0, 0],\n",
       "       [0, 0]], dtype=int32)"
      ]
     },
     "execution_count": 61,
     "metadata": {},
     "output_type": "execute_result"
    }
   ],
   "source": [
    "c = np.zeros((5,2),dtype='i')\n",
    "c"
   ]
  },
  {
   "cell_type": "code",
   "execution_count": 73,
   "id": "b6981fe7-8b21-4ab5-b757-8d23d0e34ca3",
   "metadata": {},
   "outputs": [
    {
     "data": {
      "text/plain": [
       "array([0, 0, 0, 0, 0], dtype=uint32)"
      ]
     },
     "execution_count": 73,
     "metadata": {},
     "output_type": "execute_result"
    }
   ],
   "source": [
    "d = np.zeros(5 , dtype='u4')\n",
    "d"
   ]
  },
  {
   "cell_type": "code",
   "execution_count": 65,
   "id": "9ff3fe01-d8ff-41cc-a5c2-3483fe124612",
   "metadata": {},
   "outputs": [
    {
     "data": {
      "text/plain": [
       "array([[[1, 1, 1, 1],\n",
       "        [1, 1, 1, 1],\n",
       "        [1, 1, 1, 1]],\n",
       "\n",
       "       [[1, 1, 1, 1],\n",
       "        [1, 1, 1, 1],\n",
       "        [1, 1, 1, 1]]], dtype=int64)"
      ]
     },
     "execution_count": 65,
     "metadata": {},
     "output_type": "execute_result"
    }
   ],
   "source": [
    "e = np.ones((2,3,4),dtype='i8')\n",
    "e"
   ]
  },
  {
   "cell_type": "code",
   "execution_count": 66,
   "id": "b6623e82-a39b-4e44-9943-b919d5f4dc18",
   "metadata": {},
   "outputs": [
    {
     "data": {
      "text/plain": [
       "array([1., 1., 1.], dtype=float32)"
      ]
     },
     "execution_count": 66,
     "metadata": {},
     "output_type": "execute_result"
    }
   ],
   "source": [
    "f = np.ones_like(b,dtype='f') # 다른 배열과 같은 형태의 배열 1로 생성\n",
    "f"
   ]
  },
  {
   "cell_type": "code",
   "execution_count": 67,
   "id": "ca6c01ea-3373-472e-bfc3-021df4ccd707",
   "metadata": {},
   "outputs": [
    {
     "data": {
      "text/plain": [
       "array([[1.20146721e-311, 3.16202013e-322, 0.00000000e+000],\n",
       "       [0.00000000e+000, 1.06099790e-312, 1.21544426e-046],\n",
       "       [2.04040627e+184, 3.99777772e+175, 7.69887646e+169],\n",
       "       [3.57579757e-061, 1.69380911e-052, 1.00628941e-046]])"
      ]
     },
     "execution_count": 67,
     "metadata": {},
     "output_type": "execute_result"
    }
   ],
   "source": [
    "g = np.empty((4,3))\n",
    "g # 특정한 값으로 초기화 하지 않는 명령"
   ]
  },
  {
   "cell_type": "code",
   "execution_count": null,
   "id": "aa652722-80dd-44c6-81f4-3b8d563a581b",
   "metadata": {},
   "outputs": [],
   "source": [
    "np.arange(10)\n",
    "np.arange(3,21,2) # (시작 , 끝(포함x) , 단계)"
   ]
  },
  {
   "cell_type": "code",
   "execution_count": 25,
   "id": "0535dce1-c520-4ef2-a6db-85ae52ce6232",
   "metadata": {},
   "outputs": [
    {
     "data": {
      "text/plain": [
       "array([  0.,  25.,  50.,  75., 100.])"
      ]
     },
     "execution_count": 25,
     "metadata": {},
     "output_type": "execute_result"
    }
   ],
   "source": [
    "ex = np.linspace(0,100,5) # 100을 5개로 분할\n",
    "ex2 = np.logspace(0,100,5) # 로그 100을 5개로 분할\n",
    "ex"
   ]
  },
  {
   "cell_type": "code",
   "execution_count": 75,
   "id": "9e00b9a3-8ade-4b89-a0c7-1ebfbc8b5960",
   "metadata": {},
   "outputs": [
    {
     "data": {
      "text/plain": [
       "array([[1, 4],\n",
       "       [2, 5],\n",
       "       [3, 6]])"
      ]
     },
     "execution_count": 75,
     "metadata": {},
     "output_type": "execute_result"
    }
   ],
   "source": [
    "A = np.array([[1,2,3],[4,5,6]])\n",
    "A.T # 헹렬 변환 "
   ]
  },
  {
   "cell_type": "code",
   "execution_count": 77,
   "id": "d2a6916c-8c10-4dcd-926f-2a4a6ea4674d",
   "metadata": {},
   "outputs": [
    {
     "data": {
      "text/plain": [
       "array([[ 0,  1,  2,  3],\n",
       "       [ 4,  5,  6,  7],\n",
       "       [ 8,  9, 10, 11]])"
      ]
     },
     "execution_count": 77,
     "metadata": {},
     "output_type": "execute_result"
    }
   ],
   "source": [
    "a = np.arange(12)  # 배열의 크기 변경\n",
    "b = a.reshape(3,4) # 3,4 배열 만들어줌"
   ]
  },
  {
   "cell_type": "code",
   "execution_count": 78,
   "id": "02ae9d30-73f7-475c-9a77-e8445fc6b849",
   "metadata": {},
   "outputs": [
    {
     "data": {
      "text/plain": [
       "array([[ 0,  1,  2,  3],\n",
       "       [ 4,  5,  6,  7],\n",
       "       [ 8,  9, 10, 11]])"
      ]
     },
     "execution_count": 78,
     "metadata": {},
     "output_type": "execute_result"
    }
   ],
   "source": [
    "a.reshape(3,-1) # 알아서 맞춰주는 느낌"
   ]
  },
  {
   "cell_type": "code",
   "execution_count": 23,
   "id": "2a7eb71a-77f0-4d2e-b99c-b472a9b90af9",
   "metadata": {},
   "outputs": [
    {
     "data": {
      "text/plain": [
       "array([[['', '', ''],\n",
       "        ['', '', ''],\n",
       "        ['', '', '']],\n",
       "\n",
       "       [['', '', ''],\n",
       "        ['', '', ''],\n",
       "        ['', '', '']],\n",
       "\n",
       "       [['', '', ''],\n",
       "        ['', '', ''],\n",
       "        ['', '', '']]], dtype='<U10')"
      ]
     },
     "execution_count": 23,
     "metadata": {},
     "output_type": "execute_result"
    }
   ],
   "source": [
    "np.full((3,3,3), '',dtype='U10')"
   ]
  }
 ],
 "metadata": {
  "kernelspec": {
   "display_name": "Python 3 (ipykernel)",
   "language": "python",
   "name": "python3"
  },
  "language_info": {
   "codemirror_mode": {
    "name": "ipython",
    "version": 3
   },
   "file_extension": ".py",
   "mimetype": "text/x-python",
   "name": "python",
   "nbconvert_exporter": "python",
   "pygments_lexer": "ipython3",
   "version": "3.9.12"
  }
 },
 "nbformat": 4,
 "nbformat_minor": 5
}
