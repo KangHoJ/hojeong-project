{
 "cells": [
  {
   "cell_type": "markdown",
   "id": "2703d29c-482c-47c8-87d7-c6c350ee70e4",
   "metadata": {},
   "source": [
    "## 배열의 인덱싱"
   ]
  },
  {
   "cell_type": "code",
   "execution_count": 30,
   "id": "5e3bcf74-192c-44cc-b619-53ca02f3f2bc",
   "metadata": {},
   "outputs": [
    {
     "name": "stdout",
     "output_type": "stream",
     "text": [
      "2\n",
      "4\n"
     ]
    }
   ],
   "source": [
    "a  = np.array([0,1,2,3,4])\n",
    "print(a[2]) # 2\n",
    "print(a[-1]) # 4"
   ]
  },
  {
   "cell_type": "code",
   "execution_count": null,
   "id": "04c65615-0646-46b8-a258-bcc450581e58",
   "metadata": {},
   "outputs": [],
   "source": [
    "a = np.array([[0,1,2] ,[3,4,5]])\n",
    "a[0,0] # 0\n",
    "a[0,1] # 1\n",
    "a[-1,-1] # 5"
   ]
  },
  {
   "cell_type": "markdown",
   "id": "3c25ddba-e7bb-45aa-b3a5-74c44dd8209e",
   "metadata": {},
   "source": [
    "## 배열의 슬라이싱"
   ]
  },
  {
   "cell_type": "code",
   "execution_count": 39,
   "id": "fd547553-a6f9-439e-8243-5b42930ead23",
   "metadata": {},
   "outputs": [
    {
     "data": {
      "text/plain": [
       "array([[0, 1],\n",
       "       [4, 5]])"
      ]
     },
     "execution_count": 39,
     "metadata": {},
     "output_type": "execute_result"
    }
   ],
   "source": [
    "a = np.array([[0,1,2,3],[4,5,6,7]])\n",
    "a[0, :] # 첫번째 행 전체 0,1,2,3\n",
    "a[:,1]  # 두번쨰 열 전체 1,5\n",
    "a[1,1:]  # 5,6,7\n",
    "a[:2,:2] #[0,1] , [4,5]"
   ]
  },
  {
   "cell_type": "code",
   "execution_count": 42,
   "id": "8e2260a8-dcaa-4be2-8fa1-1a8442cee416",
   "metadata": {},
   "outputs": [
    {
     "data": {
      "text/plain": [
       "[1, 2, 3]"
      ]
     },
     "execution_count": 42,
     "metadata": {},
     "output_type": "execute_result"
    }
   ],
   "source": [
    "lit = [[1,2,3,4] , [5,6,7,8]]\n",
    "lit[0][0:3]"
   ]
  },
  {
   "cell_type": "code",
   "execution_count": 57,
   "id": "337d6983-abba-4c7f-b6f1-795a3bf5269c",
   "metadata": {},
   "outputs": [
    {
     "data": {
      "text/plain": [
       "array([[3, 4],\n",
       "       [8, 9]])"
      ]
     },
     "execution_count": 57,
     "metadata": {},
     "output_type": "execute_result"
    }
   ],
   "source": [
    "m = np.array([[0,1,2,3,4],[5,6,7,8,9],[10,11,12,13,14]])\n",
    "\n",
    "m[1,2] \n",
    "m[2,-1]\n",
    "m[1,1:3]\n",
    "m[1:3,2]\n",
    "m[0:2,3:5]"
   ]
  },
  {
   "cell_type": "markdown",
   "id": "22a4133b-5990-492d-9e91-a7b9ec76400c",
   "metadata": {
    "tags": []
   },
   "source": [
    "## 배열의 크기 변형"
   ]
  },
  {
   "cell_type": "code",
   "execution_count": 80,
   "id": "22a82673-ec2e-4c39-b04b-3d96a49c782a",
   "metadata": {},
   "outputs": [
    {
     "data": {
      "text/plain": [
       "array([ 0,  1,  2,  3,  4,  5,  6,  7,  8,  9, 10, 11])"
      ]
     },
     "execution_count": 80,
     "metadata": {},
     "output_type": "execute_result"
    }
   ],
   "source": [
    "a.flatten() # 1차원 형태로 만들어줌\n",
    "a.ravel()# 1차원 형태로 만들어줌"
   ]
  },
  {
   "cell_type": "code",
   "execution_count": 81,
   "id": "1dba62e8-64f6-49de-a929-2fcef6788e41",
   "metadata": {},
   "outputs": [
    {
     "data": {
      "text/plain": [
       "array([[ 0],\n",
       "       [ 1],\n",
       "       [ 2],\n",
       "       [ 3],\n",
       "       [ 4],\n",
       "       [ 5],\n",
       "       [ 6],\n",
       "       [ 7],\n",
       "       [ 8],\n",
       "       [ 9],\n",
       "       [10],\n",
       "       [11]])"
      ]
     },
     "execution_count": 81,
     "metadata": {},
     "output_type": "execute_result"
    }
   ],
   "source": [
    "a[:,np.newaxis] # 1차원 증가시키는 경우"
   ]
  },
  {
   "cell_type": "markdown",
   "id": "bc7a2931-9d74-41be-a12e-29196897610a",
   "metadata": {},
   "source": [
    "## 배열 연결"
   ]
  },
  {
   "cell_type": "code",
   "execution_count": 85,
   "id": "a0c2cdec-8974-431a-be00-47bb3c668e9c",
   "metadata": {},
   "outputs": [
    {
     "data": {
      "text/plain": [
       "array([[1., 1., 1., 0., 0., 0.],\n",
       "       [1., 1., 1., 0., 0., 0.],\n",
       "       [1., 1., 1., 0., 0., 0.]])"
      ]
     },
     "execution_count": 85,
     "metadata": {},
     "output_type": "execute_result"
    }
   ],
   "source": [
    "b1 = np.ones((3,3))\n",
    "b2 = np.zeros((3,3))\n",
    "np.hstack([b1,b2]) # 수평으로 합쳐줌(행의 개수가 같아야함)"
   ]
  },
  {
   "cell_type": "code",
   "execution_count": 86,
   "id": "878dc924-f47d-49eb-aac6-16ed9511e123",
   "metadata": {},
   "outputs": [
    {
     "data": {
      "text/plain": [
       "array([[1., 1., 1.],\n",
       "       [1., 1., 1.],\n",
       "       [0., 0., 0.],\n",
       "       [0., 0., 0.],\n",
       "       [0., 0., 0.]])"
      ]
     },
     "execution_count": 86,
     "metadata": {},
     "output_type": "execute_result"
    }
   ],
   "source": [
    "a1 = np.ones((2,3))\n",
    "a2 = np.zeros((3,3))\n",
    "np.vstack([a1,a2]) # 수직으로 합쳐줌"
   ]
  },
  {
   "cell_type": "code",
   "execution_count": 87,
   "id": "de176632-9c98-455b-9566-33dc3074bc1b",
   "metadata": {},
   "outputs": [
    {
     "data": {
      "text/plain": [
       "array([[[1., 0.],\n",
       "        [1., 0.],\n",
       "        [1., 0.],\n",
       "        [1., 0.]],\n",
       "\n",
       "       [[1., 0.],\n",
       "        [1., 0.],\n",
       "        [1., 0.],\n",
       "        [1., 0.]],\n",
       "\n",
       "       [[1., 0.],\n",
       "        [1., 0.],\n",
       "        [1., 0.],\n",
       "        [1., 0.]]])"
      ]
     },
     "execution_count": 87,
     "metadata": {},
     "output_type": "execute_result"
    }
   ],
   "source": [
    "c1 = np.ones((3,4))\n",
    "c2 = np.zeros((3,4))\n",
    "np.dstack([c1,c2]) #안쪽 원소의 차원 증가"
   ]
  },
  {
   "cell_type": "code",
   "execution_count": null,
   "id": "0943ea8e-cb48-4a9d-b4f6-c0bb05f2ad33",
   "metadata": {},
   "outputs": [],
   "source": [
    "np.stack([c1,c2],axis=0) # 가장 바깥 값이 2인 차원이 추가(통으로 추가)\n"
   ]
  },
  {
   "cell_type": "code",
   "execution_count": null,
   "id": "0f12cb0f-50f9-4707-95db-2a927978083e",
   "metadata": {},
   "outputs": [],
   "source": [
    "d1 =  np.ones((4,5))\n",
    "d2 =  np.zeros((4,5))\n",
    "d3 = np.arange(20).reshape(4,5)"
   ]
  },
  {
   "cell_type": "code",
   "execution_count": 16,
   "id": "4059f4a5-91aa-4160-9ad6-334d2ea1bf5b",
   "metadata": {},
   "outputs": [
    {
     "data": {
      "text/plain": [
       "array([[[ 1.,  1.,  1.,  1.,  1.],\n",
       "        [ 1.,  1.,  1.,  1.,  1.],\n",
       "        [ 1.,  1.,  1.,  1.,  1.],\n",
       "        [ 1.,  1.,  1.,  1.,  1.]],\n",
       "\n",
       "       [[ 0.,  0.,  0.,  0.,  0.],\n",
       "        [ 0.,  0.,  0.,  0.,  0.],\n",
       "        [ 0.,  0.,  0.,  0.,  0.],\n",
       "        [ 0.,  0.,  0.,  0.,  0.]],\n",
       "\n",
       "       [[ 0.,  1.,  2.,  3.,  4.],\n",
       "        [ 5.,  6.,  7.,  8.,  9.],\n",
       "        [10., 11., 12., 13., 14.],\n",
       "        [15., 16., 17., 18., 19.]]])"
      ]
     },
     "execution_count": 16,
     "metadata": {},
     "output_type": "execute_result"
    }
   ],
   "source": [
    "np.stack([d1,d2,d3],axis=0)"
   ]
  },
  {
   "cell_type": "code",
   "execution_count": 17,
   "id": "17bb0172-5122-4789-94e6-fa91bc3ec272",
   "metadata": {},
   "outputs": [
    {
     "data": {
      "text/plain": [
       "(3, 4, 5)"
      ]
     },
     "execution_count": 17,
     "metadata": {},
     "output_type": "execute_result"
    }
   ],
   "source": [
    "np.stack([d1,d2,d3],axis=0).shape"
   ]
  },
  {
   "cell_type": "code",
   "execution_count": 93,
   "id": "af152795-d735-4fbf-9163-7b5ae0b696af",
   "metadata": {},
   "outputs": [
    {
     "data": {
      "text/plain": [
       "array([[[ 1.,  1.,  1.,  1.,  1.],\n",
       "        [ 0.,  0.,  0.,  0.,  0.],\n",
       "        [ 0.,  1.,  2.,  3.,  4.]],\n",
       "\n",
       "       [[ 1.,  1.,  1.,  1.,  1.],\n",
       "        [ 0.,  0.,  0.,  0.,  0.],\n",
       "        [ 5.,  6.,  7.,  8.,  9.]],\n",
       "\n",
       "       [[ 1.,  1.,  1.,  1.,  1.],\n",
       "        [ 0.,  0.,  0.,  0.,  0.],\n",
       "        [10., 11., 12., 13., 14.]],\n",
       "\n",
       "       [[ 1.,  1.,  1.,  1.,  1.],\n",
       "        [ 0.,  0.,  0.,  0.,  0.],\n",
       "        [15., 16., 17., 18., 19.]]])"
      ]
     },
     "execution_count": 93,
     "metadata": {},
     "output_type": "execute_result"
    }
   ],
   "source": [
    "np.stack([d1,d2,d3],axis=1) #가로 "
   ]
  },
  {
   "cell_type": "code",
   "execution_count": 18,
   "id": "63df87e6-2b66-474f-94cf-d071180b93b8",
   "metadata": {},
   "outputs": [
    {
     "data": {
      "text/plain": [
       "(4, 3, 5)"
      ]
     },
     "execution_count": 18,
     "metadata": {},
     "output_type": "execute_result"
    }
   ],
   "source": [
    "np.stack([d1,d2,d3],axis=1).shape"
   ]
  },
  {
   "cell_type": "code",
   "execution_count": 94,
   "id": "e64bb725-221e-4ac0-af1a-5790f4ffd38e",
   "metadata": {},
   "outputs": [
    {
     "data": {
      "text/plain": [
       "array([[[ 1.,  0.,  0.],\n",
       "        [ 1.,  0.,  1.],\n",
       "        [ 1.,  0.,  2.],\n",
       "        [ 1.,  0.,  3.],\n",
       "        [ 1.,  0.,  4.]],\n",
       "\n",
       "       [[ 1.,  0.,  5.],\n",
       "        [ 1.,  0.,  6.],\n",
       "        [ 1.,  0.,  7.],\n",
       "        [ 1.,  0.,  8.],\n",
       "        [ 1.,  0.,  9.]],\n",
       "\n",
       "       [[ 1.,  0., 10.],\n",
       "        [ 1.,  0., 11.],\n",
       "        [ 1.,  0., 12.],\n",
       "        [ 1.,  0., 13.],\n",
       "        [ 1.,  0., 14.]],\n",
       "\n",
       "       [[ 1.,  0., 15.],\n",
       "        [ 1.,  0., 16.],\n",
       "        [ 1.,  0., 17.],\n",
       "        [ 1.,  0., 18.],\n",
       "        [ 1.,  0., 19.]]])"
      ]
     },
     "execution_count": 94,
     "metadata": {},
     "output_type": "execute_result"
    }
   ],
   "source": [
    "np.stack([d1,d2,d3],axis=2) #세로"
   ]
  },
  {
   "cell_type": "code",
   "execution_count": 19,
   "id": "7e115bb4-bb73-46c5-883b-cf7bdfceb112",
   "metadata": {},
   "outputs": [
    {
     "data": {
      "text/plain": [
       "(4, 5, 3)"
      ]
     },
     "execution_count": 19,
     "metadata": {},
     "output_type": "execute_result"
    }
   ],
   "source": [
    "np.stack([d1,d2,d3],axis=2).shape"
   ]
  },
  {
   "cell_type": "code",
   "execution_count": null,
   "id": "25a034bc-4892-4f4b-8e99-2fb6644b71d2",
   "metadata": {},
   "outputs": [],
   "source": [
    "a = np.array([0,1,2],[3,4,5]])\n",
    "np.tile(a,2) # 반복을 시켜줌 "
   ]
  },
  {
   "cell_type": "markdown",
   "id": "00aab9b0-0639-4ced-926b-e76a040a04c9",
   "metadata": {},
   "source": [
    "## 정렬"
   ]
  },
  {
   "cell_type": "code",
   "execution_count": 143,
   "id": "0b6bdbdc-76ce-4af0-921a-98b30bb5471f",
   "metadata": {},
   "outputs": [
    {
     "data": {
      "text/plain": [
       "array([2, 3, 1, 0], dtype=int64)"
      ]
     },
     "execution_count": 143,
     "metadata": {},
     "output_type": "execute_result"
    }
   ],
   "source": [
    "a = np.array([42,38,12,25])\n",
    "j=np.argsort(a)\n",
    "j   # 숫자 작은거 순서대로 인덱스만 추출해줌"
   ]
  },
  {
   "cell_type": "code",
   "execution_count": 144,
   "id": "661b77b4-b10f-4a47-85bd-be8e6412fa3e",
   "metadata": {},
   "outputs": [
    {
     "data": {
      "text/plain": [
       "array([12, 25, 38, 42])"
      ]
     },
     "execution_count": 144,
     "metadata": {},
     "output_type": "execute_result"
    }
   ],
   "source": [
    "a[j]"
   ]
  },
  {
   "cell_type": "code",
   "execution_count": 145,
   "id": "cef27063-1a98-4033-ba7d-324ff8eb6a5d",
   "metadata": {},
   "outputs": [
    {
     "data": {
      "text/plain": [
       "array([12, 25, 38, 42])"
      ]
     },
     "execution_count": 145,
     "metadata": {},
     "output_type": "execute_result"
    }
   ],
   "source": [
    "np.sort(a)"
   ]
  },
  {
   "cell_type": "code",
   "execution_count": 147,
   "id": "a7259525-5836-45ee-b39b-532aeb40a62f",
   "metadata": {},
   "outputs": [
    {
     "name": "stdout",
     "output_type": "stream",
     "text": [
      "[1 4 5]\n",
      "[[1 2 1]\n",
      " [3 4 3]\n",
      " [5 6 5]]\n"
     ]
    }
   ],
   "source": [
    "a = np.array([[1,2],[3,4],[5,6]])\n",
    "print(a[[0,1,2], [0,1,0]])  # 0,1,2 -> 행  /  0,1,0 -> 열  따라서 1,4,5\n",
    "print(a[:, [0,1,0]])   # : -> 행 / 0,1,0 -> 열 (행이 0일때 0,1,0값 , 행이1일때 0,1,0값 , 행이 2일대 0,1,0값)"
   ]
  },
  {
   "cell_type": "markdown",
   "id": "93a168f4-6b35-414f-bb4d-694dcac4a788",
   "metadata": {},
   "source": [
    "## 데이터 순서 바꾸기"
   ]
  },
  {
   "cell_type": "code",
   "execution_count": 196,
   "id": "c4176124-f35f-4dd4-9688-42f0ae0d2458",
   "metadata": {},
   "outputs": [
    {
     "data": {
      "text/plain": [
       "array([0, 9, 2, 3, 5, 6, 7, 1, 8, 4])"
      ]
     },
     "execution_count": 196,
     "metadata": {},
     "output_type": "execute_result"
    }
   ],
   "source": [
    "x = np.arange(10)\n",
    "np.random.shuffle(x)\n",
    "x"
   ]
  },
  {
   "cell_type": "markdown",
   "id": "e54cbbad-5dff-486b-9327-78f823d73a12",
   "metadata": {},
   "source": [
    "## 정수 데이터 카운팅"
   ]
  },
  {
   "cell_type": "code",
   "execution_count": 214,
   "id": "97c9a8f5-6302-4f61-9923-511748c9eb61",
   "metadata": {},
   "outputs": [
    {
     "data": {
      "text/plain": [
       "array([2, 2, 1], dtype=int64)"
      ]
     },
     "execution_count": 214,
     "metadata": {},
     "output_type": "execute_result"
    }
   ],
   "source": [
    "np.unique([11,11,2,2,34,34])\n",
    "a = np.array(['a','b','b','c','a'])\n",
    "index , count = np.unique(a,return_counts=True)\n",
    "index\n",
    "count"
   ]
  },
  {
   "cell_type": "code",
   "execution_count": 215,
   "id": "bba9c68d-be7a-462b-ba2a-a3d7d461d5b1",
   "metadata": {},
   "outputs": [
    {
     "data": {
      "text/plain": [
       "array([0, 2, 3, 1, 0, 0], dtype=int64)"
      ]
     },
     "execution_count": 215,
     "metadata": {},
     "output_type": "execute_result"
    }
   ],
   "source": [
    "np.bincount([1,1,2,2,2,3,],minlength=6) # 0부터 6-1=5 숫자에 대해 각각 카운트를 해줌 \n",
    "# 0 1번 / 1 2번 / 2 3번 / 3 1번 / 4,5 0번 "
   ]
  }
 ],
 "metadata": {
  "kernelspec": {
   "display_name": "Python 3 (ipykernel)",
   "language": "python",
   "name": "python3"
  },
  "language_info": {
   "codemirror_mode": {
    "name": "ipython",
    "version": 3
   },
   "file_extension": ".py",
   "mimetype": "text/x-python",
   "name": "python",
   "nbconvert_exporter": "python",
   "pygments_lexer": "ipython3",
   "version": "3.9.12"
  }
 },
 "nbformat": 4,
 "nbformat_minor": 5
}
