{
 "cells": [
  {
   "cell_type": "markdown",
   "id": "790c5d12-1d94-4de0-8cc5-7a6891264ae6",
   "metadata": {},
   "source": [
    "## 연습문제"
   ]
  },
  {
   "cell_type": "code",
   "execution_count": 122,
   "id": "bfc5e24b-3429-4fd3-8ac1-f374854bca5c",
   "metadata": {},
   "outputs": [
    {
     "data": {
      "text/plain": [
       "array([[  0.,   0.,   0.,   1.,   1.],\n",
       "       [  0.,   0.,   0.,   1.,   1.],\n",
       "       [  0.,   0.,   0.,   1.,   1.],\n",
       "       [ 10.,  20.,  30.,  40.,  50.],\n",
       "       [ 60.,  70.,  80.,  90., 100.],\n",
       "       [110., 120., 130., 140., 150.],\n",
       "       [  0.,   0.,   0.,   1.,   1.],\n",
       "       [  0.,   0.,   0.,   1.,   1.],\n",
       "       [  0.,   0.,   0.,   1.,   1.],\n",
       "       [ 10.,  20.,  30.,  40.,  50.],\n",
       "       [ 60.,  70.,  80.,  90., 100.],\n",
       "       [110., 120., 130., 140., 150.]])"
      ]
     },
     "execution_count": 122,
     "metadata": {},
     "output_type": "execute_result"
    }
   ],
   "source": [
    "a =  np.ones((3,2))\n",
    "b =  np.zeros((3,3))\n",
    "c = np.arange(10,160,10).reshape(3,5)\n",
    "k = np.hstack([b,a])\n",
    "k2 = np.vstack([k,c])\n",
    "k3 = np.tile(k2,(2,1))\n",
    "k3"
   ]
  },
  {
   "cell_type": "markdown",
   "id": "02616ab7-0cb1-422c-b8fc-36f66a586d7a",
   "metadata": {
    "tags": []
   },
   "source": [
    "## 연습문제"
   ]
  },
  {
   "cell_type": "code",
   "execution_count": 142,
   "id": "76cd570a-e280-4d31-91bc-f3887dbcb3b1",
   "metadata": {},
   "outputs": [
    {
     "data": {
      "text/plain": [
       "array([1.1, 2.7, 0.7, 0.2, 2.7])"
      ]
     },
     "execution_count": 142,
     "metadata": {},
     "output_type": "execute_result"
    }
   ],
   "source": [
    "practice = np.array([[1.1, 7.1, 8.0, 2.1, 6.5, 7.2],\n",
    "                                [2.7, 5.2, 3.3, 9.0, 7.7, 2.8],\n",
    "                                [0.7, 8.8, 4.2, 8.9, 4.3, 7.4],\n",
    "                                [8.2, 1.1, 5.4, 2.9, 6.9, 0.2],\n",
    "                                [7.4, 4.8, 2.7, 3.1, 2.8, 8.9]])\n",
    "\n",
    "np.max(practice)\n",
    "practice.sum(axis=0)\n",
    "practice.sum(axis=0)\n",
    "practice.mean(axis=1)\n",
    "practice.min(axis=1)"
   ]
  },
  {
   "cell_type": "markdown",
   "id": "b61a9196-71ca-4456-978d-4cf1a9c769d9",
   "metadata": {},
   "source": [
    "## 연습문제"
   ]
  },
  {
   "cell_type": "code",
   "execution_count": 22,
   "id": "e4d0615e-e079-43b0-a236-ec525c01fd60",
   "metadata": {},
   "outputs": [
    {
     "data": {
      "text/plain": [
       "array([[  1,   4,   2,   3],\n",
       "       [ 46,  71,  99, 100],\n",
       "       [ 81, 100,  59,  90]])"
      ]
     },
     "execution_count": 22,
     "metadata": {},
     "output_type": "execute_result"
    }
   ],
   "source": [
    "scores = np.array([[ 1, 2 , 3 , 4],[46,99,100,71],[81,59,90,100]])\n",
    "k=np.argsort(scores[1,:]) # 영어 성적열 기준으로 인덱스 추출\n",
    "scores[:,k]"
   ]
  },
  {
   "cell_type": "markdown",
   "id": "933784f6-ceea-4851-9fc9-8c1d2dfbce80",
   "metadata": {},
   "source": [
    "## 연습문제"
   ]
  },
  {
   "cell_type": "code",
   "execution_count": 209,
   "id": "f2de8271-2cb6-4bec-aa96-169c6761baa2",
   "metadata": {},
   "outputs": [
    {
     "data": {
      "text/plain": [
       "0.56"
      ]
     },
     "execution_count": 209,
     "metadata": {},
     "output_type": "execute_result"
    }
   ],
   "source": [
    "np.random.seed(0)\n",
    "k = np.random.choice(2,100)\n",
    "sum(k)/len(k)"
   ]
  },
  {
   "cell_type": "code",
   "execution_count": 6,
   "id": "ab7a48be-1de2-437e-86f1-c50cc160119e",
   "metadata": {},
   "outputs": [
    {
     "data": {
      "text/plain": [
       "3.42"
      ]
     },
     "execution_count": 6,
     "metadata": {},
     "output_type": "execute_result"
    }
   ],
   "source": [
    "import numpy as np\n",
    "np.random.seed(0)\n",
    "a = np.random.randint(1,7,size=100)\n",
    "np.mean(a)"
   ]
  }
 ],
 "metadata": {
  "kernelspec": {
   "display_name": "Python 3 (ipykernel)",
   "language": "python",
   "name": "python3"
  },
  "language_info": {
   "codemirror_mode": {
    "name": "ipython",
    "version": 3
   },
   "file_extension": ".py",
   "mimetype": "text/x-python",
   "name": "python",
   "nbconvert_exporter": "python",
   "pygments_lexer": "ipython3",
   "version": "3.9.12"
  }
 },
 "nbformat": 4,
 "nbformat_minor": 5
}
