{
 "cells": [
  {
   "cell_type": "code",
   "execution_count": 1,
   "id": "b35389d5-4b67-477a-bc7a-d47888d31e32",
   "metadata": {},
   "outputs": [
    {
     "data": {
      "text/plain": [
       "'C:\\\\Users\\\\User\\\\Desktop\\\\boot camp\\\\파이썬 기초\\\\3.13 matplot 시각화'"
      ]
     },
     "execution_count": 1,
     "metadata": {},
     "output_type": "execute_result"
    }
   ],
   "source": [
    "%pwd"
   ]
  },
  {
   "cell_type": "code",
   "execution_count": 2,
   "id": "4763e6ef-1066-4abd-8443-38b4688fcd8d",
   "metadata": {},
   "outputs": [
    {
     "name": "stdout",
     "output_type": "stream",
     "text": [
      "C:\\Users\\User\\Desktop\\boot camp\n"
     ]
    }
   ],
   "source": [
    "%cd C:\\\\Users\\\\User\\\\Desktop\\\\boot camp"
   ]
  },
  {
   "cell_type": "code",
   "execution_count": 4,
   "id": "efdf81cc-c456-4f20-8bd8-99391a46cecb",
   "metadata": {},
   "outputs": [
    {
     "name": "stdout",
     "output_type": "stream",
     "text": [
      "Noto Sans KR\n",
      "NanumBarunpen\n",
      "NanumSquare Neo OTF Regular\n",
      "NanumBarunGothic\n",
      "NanumBarunGothicOTF\n",
      "NanumSquare Neo Light\n",
      "NanumGothicOTF Eco\n",
      "NanumSquareOTF_ac\n",
      "NanumMyeongjoOTF Eco\n",
      "NanumSquareOTF\n",
      "NanumSquareOTF_ac\n",
      "NanumSquare\n",
      "Noto Sans KR\n",
      "NanumMyeongjo\n",
      "Nanum Brush Script\n",
      "NanumMyeongjoOTF\n",
      "D2Coding ligature\n",
      "NanumGothic\n",
      "NanumMyeongjoOTF YetHangul\n",
      "D2Coding ligature\n",
      "NanumBarunGothic YetHangul\n",
      "NanumBarunpen\n",
      "NanumBarunpenOTF\n",
      "NanumSquare_ac\n",
      "NanumGothicOTF\n",
      "NanumBarunpenOTF\n",
      "NanumSquareRoundOTF\n",
      "NanumMyeongjo Eco\n",
      "NanumSquareRoundOTF\n",
      "NanumSquareRoundOTF\n",
      "NanumMyeongjo Eco\n",
      "NanumMyeongjo Eco\n",
      "NanumBarunGothicOTF YetHangul\n",
      "NanumBarunGothicOTF\n",
      "NanumSquareOTF_ac\n",
      "NanumSquare Neo OTF ExtraBold\n",
      "NanumSquare Neo ExtraBold\n",
      "NanumGothicOTF\n",
      "NanumMyeongjoOTF Eco\n",
      "Noto Sans KR\n",
      "NanumBarunGothic\n",
      "NanumMyeongjo\n",
      "NanumBarunGothic\n",
      "NanumGothicOTF\n",
      "NanumBarunGothicOTF\n",
      "NanumSquareOTF\n",
      "Nanum Pen Script OTF\n",
      "NanumSquare\n",
      "NanumGothicOTF\n",
      "NanumGothicOTF Eco\n",
      "D2Coding ligature\n",
      "NanumSquare_ac\n",
      "NanumSquareRound\n",
      "NanumGothicOTF Eco\n",
      "Noto Sans KR\n",
      "NanumGothic\n",
      "NanumGothic Eco\n",
      "NanumSquareRound\n",
      "NanumSquare_ac\n",
      "NanumGothic Eco\n",
      "NanumBarunGothicOTF\n",
      "NanumSquare Neo OTF Light\n",
      "Nanum Brush Script OTF\n",
      "NanumBarunGothic\n",
      "NanumSquare Neo Bold\n",
      "NanumSquareOTF\n",
      "NanumSquareOTF\n",
      "Noto Sans KR\n",
      "NanumSquareRound\n",
      "NanumGothic\n",
      "NanumSquareRoundOTF\n",
      "NanumSquare Neo OTF Heavy\n",
      "Nanum Pen Script\n",
      "NanumMyeongjoOTF\n",
      "NanumSquare Neo Heavy\n",
      "NanumSquare Neo Regular\n",
      "NanumSquare_ac\n",
      "D2Coding\n",
      "Noto Sans KR\n",
      "NanumSquareOTF_ac\n",
      "NanumSquare\n",
      "NanumMyeongjoOTF\n",
      "NanumSquareRound\n",
      "NanumMyeongjoOTF Eco\n",
      "NanumSquare Neo OTF Bold\n",
      "NanumGothic\n",
      "NanumGothic Eco\n",
      "NanumMyeongjo\n",
      "NanumMyeongjo YetHangul\n",
      "NanumSquare\n"
     ]
    }
   ],
   "source": [
    "import matplotlib as mpl\n",
    "import matplotlib.pyplot as plt\n",
    "# Add every font at the specified location\n",
    "font_dir = ['./fonts']\n",
    "for font in mpl.font_manager.findSystemFonts(fontpaths=font_dir):\n",
    "    print(mpl.font_manager.FontProperties(fname=font).get_name())\n",
    "    mpl.font_manager.fontManager.addfont(font)"
   ]
  },
  {
   "cell_type": "code",
   "execution_count": 5,
   "id": "becd4d01-269c-4d1a-890d-c5f0469b0b13",
   "metadata": {},
   "outputs": [
    {
     "name": "stdout",
     "output_type": "stream",
     "text": [
      "['Noto Sans KR']\n"
     ]
    }
   ],
   "source": [
    "# Set font family globally\n",
    "mpl.rcParams['font.family'] = 'Noto Sans KR'\n",
    "print(mpl.rcParams['font.family'])"
   ]
  },
  {
   "cell_type": "code",
   "execution_count": 6,
   "id": "c7715cf9-2cbf-45cc-92ff-a4aea80dc81b",
   "metadata": {},
   "outputs": [
    {
     "data": {
      "image/png": "[encoded data removed]",
      "text/plain": [
       "<Figure size 432x288 with 1 Axes>"
      ]
     },
     "metadata": {
      "needs_background": "light"
     },
     "output_type": "display_data"
    }
   ],
   "source": [
    "import matplotlib as mpl\n",
    "import matplotlib.pyplot as plt\n",
    "import numpy as np\n",
    "\n",
    "y = [2,3,1]\n",
    "x = ['가','나','다']\n",
    "plt.title('Bar chart')\n",
    "plt.bar(x,y)\n",
    "plt.xlabel('가나다')\n",
    "plt.ylabel('빈도 수')\n",
    "plt.show()"
   ]
  },
  {
   "cell_type": "code",
   "execution_count": 7,
   "id": "b33360c1-0e47-4699-8b6d-41e3dace4cff",
   "metadata": {},
   "outputs": [
    {
     "data": {
      "image/png": "[encoded data removed]",
      "text/plain": [
       "<Figure size 432x288 with 1 Axes>"
      ]
     },
     "metadata": {
      "needs_background": "light"
     },
     "output_type": "display_data"
    }
   ],
   "source": [
    "x = ['a','b','c']\n",
    "y = [2,3,1]\n",
    "colors = ['red','green','blue']\n",
    "\n",
    "plt.title('Bar Chart')\n",
    "plt.bar(x,y,color=colors)\n",
    "plt.xlabel('가나다')\n",
    "plt.ylabel('빈도 수')\n",
    "plt.show()"
   ]
  },
  {
   "cell_type": "code",
   "execution_count": 8,
   "id": "378fd888-ead2-4340-a3c9-e29da9d47777",
   "metadata": {},
   "outputs": [
    {
     "data": {
      "image/png": "[encoded data removed]",
      "text/plain": [
       "<Figure size 432x288 with 1 Axes>"
      ]
     },
     "metadata": {
      "needs_background": "light"
     },
     "output_type": "display_data"
    }
   ],
   "source": [
    "np.random.seed(0)\n",
    "\n",
    "people = ['몽룡','춘향','방자','횓단']\n",
    "performance = 3 + 10 * np.random.rand(len(people))\n",
    "error = np.random.rand(len(people))\n",
    "\n",
    "plt.title('Barh chart')\n",
    "plt.barh(people , performance , xerr=error , alpha=0.4)\n",
    "plt.xlabel('x라벨')\n",
    "plt.show()"
   ]
  },
  {
   "cell_type": "code",
   "execution_count": 9,
   "id": "491f0a0c-f2af-4c00-87a1-3b62377bf93d",
   "metadata": {},
   "outputs": [],
   "source": [
    "import seaborn as sns\n",
    "titanic = sns.load_dataset('titanic')"
   ]
  },
  {
   "cell_type": "code",
   "execution_count": 15,
   "id": "3e245503-11b5-407d-b795-ede4a01844bb",
   "metadata": {},
   "outputs": [
    {
     "data": {
      "text/plain": [
       "0    549\n",
       "1    342\n",
       "Name: survived, dtype: int64"
      ]
     },
     "execution_count": 15,
     "metadata": {},
     "output_type": "execute_result"
    }
   ],
   "source": [
    "titanic['survived'].value_counts()"
   ]
  },
  {
   "cell_type": "markdown",
   "id": "1cea88fc-1261-4df7-a787-ef2f3d2a6418",
   "metadata": {},
   "source": [
    "## 연습문제"
   ]
  },
  {
   "cell_type": "code",
   "execution_count": 41,
   "id": "7566ae47-28c8-43b1-a280-7bd35a9083cb",
   "metadata": {},
   "outputs": [
    {
     "data": {
      "image/png": "[encoded data removed]",
      "text/plain": [
       "<Figure size 432x288 with 1 Axes>"
      ]
     },
     "metadata": {
      "needs_background": "light"
     },
     "output_type": "display_data"
    }
   ],
   "source": [
    "x = ['사망자','생존자']\n",
    "y = titanic['survived'].value_counts()\n",
    "colors = ['red','green']\n",
    "\n",
    "plt.title('Bar Chart')\n",
    "plt.barh(x,y,color=colors) # 가로로 그림 (barh)\n",
    "plt.xlabel('인원수')\n",
    "plt.ylabel('타이타닉호 생존 여부')\n",
    "plt.show()"
   ]
  },
  {
   "cell_type": "code",
   "execution_count": 40,
   "id": "3a9099af-5384-4ac0-9033-ad31a4674747",
   "metadata": {},
   "outputs": [
    {
     "data": {
      "text/plain": [
       "0    549\n",
       "1    342\n",
       "Name: survived, dtype: int64"
      ]
     },
     "execution_count": 40,
     "metadata": {},
     "output_type": "execute_result"
    }
   ],
   "source": [
    "titanic['survived'].value_counts()"
   ]
  }
 ],
 "metadata": {
  "kernelspec": {
   "display_name": "Python 3 (ipykernel)",
   "language": "python",
   "name": "python3"
  },
  "language_info": {
   "codemirror_mode": {
    "name": "ipython",
    "version": 3
   },
   "file_extension": ".py",
   "mimetype": "text/x-python",
   "name": "python",
   "nbconvert_exporter": "python",
   "pygments_lexer": "ipython3",
   "version": "3.9.12"
  }
 },
 "nbformat": 4,
 "nbformat_minor": 5
}
