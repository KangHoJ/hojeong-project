{
 "cells": [
  {
   "cell_type": "markdown",
   "id": "d44b7b69-5957-4274-8b14-dcbd02ab4a77",
   "metadata": {},
   "source": [
    "- cut method"
   ]
  },
  {
   "cell_type": "code",
   "execution_count": 128,
   "id": "aafa1a29-8bff-42b1-97ec-889c54f692d3",
   "metadata": {},
   "outputs": [
    {
     "data": {
      "text/plain": [
       "[NaN, '미성년자', '미성년자', '쳥년', '쳥년', ..., '중년', '미성년자', '장년', '장년', NaN]\n",
       "Length: 12\n",
       "Categories (5, object): ['미성년자' < '쳥년' < '장년' < '중년' < '노년']"
      ]
     },
     "execution_count": 128,
     "metadata": {},
     "output_type": "execute_result"
    }
   ],
   "source": [
    "ages = [0,2,10,21,23,37,31,61,20,41,32,101]\n",
    "bins=[1,20,30,50,70,100]\n",
    "labels = [ '미성년자', '쳥년','장년','중년','노년']\n",
    "cats = pd.cut(ages , bins , labels=labels)\n",
    "cats # ages를 적용시키는데 1~20은 미성년자 , 20~30은 청년 등등으로 나눔 "
   ]
  },
  {
   "cell_type": "code",
   "execution_count": 129,
   "id": "3960a8dd-23bf-4b83-9bb4-5530a67dc638",
   "metadata": {},
   "outputs": [
    {
     "data": {
      "text/plain": [
       "['Q1', 'Q2', 'Q3', 'Q1', 'Q2', ..., 'Q2', 'Q4', 'Q1', 'Q3', 'Q4']\n",
       "Length: 1000\n",
       "Categories (4, object): ['Q1' < 'Q2' < 'Q3' < 'Q4']"
      ]
     },
     "execution_count": 129,
     "metadata": {},
     "output_type": "execute_result"
    }
   ],
   "source": [
    "data = np.random.randn(1000)\n",
    "cats = pd.qcut(data,4,labels=['Q1','Q2','Q3','Q4'])\n",
    "cats # 1000을 4구간으로 나눔 "
   ]
  }
 ],
 "metadata": {
  "kernelspec": {
   "display_name": "Python 3 (ipykernel)",
   "language": "python",
   "name": "python3"
  },
  "language_info": {
   "codemirror_mode": {
    "name": "ipython",
    "version": 3
   },
   "file_extension": ".py",
   "mimetype": "text/x-python",
   "name": "python",
   "nbconvert_exporter": "python",
   "pygments_lexer": "ipython3",
   "version": "3.9.12"
  }
 },
 "nbformat": 4,
 "nbformat_minor": 5
}
