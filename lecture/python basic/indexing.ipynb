{
 "cells": [
  {
   "cell_type": "markdown",
   "id": "9d4b52a2-a618-4bcf-a413-6618ee6a67e7",
   "metadata": {},
   "source": [
    "# indexing"
   ]
  },
  {
   "cell_type": "code",
   "execution_count": 1,
   "id": "18f8994d-2c9a-4816-8577-e3eb7e83ec74",
   "metadata": {},
   "outputs": [
    {
     "name": "stdout",
     "output_type": "stream",
     "text": [
      "py\n",
      "pto\n",
      "꺾\n",
      "꺾이지 않는 마음\n",
      "한요중\n",
      "한요중\n"
     ]
    }
   ],
   "source": [
    "word = 'python'\n",
    "print(word[0:2]) # 0~1 -> py\n",
    "print(word[::2]) # 증감 2 -> pto\n",
    "\n",
    "sentence = '중요한 것은 꺾이지 않는 마음'\n",
    "print(sentence[7])\n",
    "print(sentence[7:])\n",
    "print(sentence[0:3][::-1]) # 역으로 뒤집기 위해 [::-1]사용 (방법1)\n",
    "print(sentence[2::-1]) # 2부터 -1씩 감소 (방법2)\n"
   ]
  }
 ],
 "metadata": {
  "kernelspec": {
   "display_name": "Python 3 (ipykernel)",
   "language": "python",
   "name": "python3"
  },
  "language_info": {
   "codemirror_mode": {
    "name": "ipython",
    "version": 3
   },
   "file_extension": ".py",
   "mimetype": "text/x-python",
   "name": "python",
   "nbconvert_exporter": "python",
   "pygments_lexer": "ipython3",
   "version": "3.9.12"
  }
 },
 "nbformat": 4,
 "nbformat_minor": 5
}
