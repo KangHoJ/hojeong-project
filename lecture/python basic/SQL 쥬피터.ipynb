{
 "cells": [
  {
   "cell_type": "markdown",
   "id": "b47eb485-4983-4eac-aedc-7b70cb796d9c",
   "metadata": {},
   "source": [
    "## SQL 쥬피터"
   ]
  },
  {
   "cell_type": "code",
   "execution_count": 2,
   "id": "988120a5-4828-40cf-a165-e617af8c01b6",
   "metadata": {},
   "outputs": [],
   "source": [
    "import pymysql"
   ]
  },
  {
   "cell_type": "code",
   "execution_count": 16,
   "id": "19046744-14e3-4293-b511-e7ac4a87995b",
   "metadata": {},
   "outputs": [],
   "source": [
    "import pymysql.cursors\n",
    "\n",
    "# database 접속할 객체를 만듭니다.\n",
    "connection = pymysql.connect(host='localhost',\n",
    "                             user='root',\n",
    "                             password='python1234',\n",
    "                             database='python',\n",
    "                             cursorclass=pymysql.cursors.DictCursor)"
   ]
  },
  {
   "cell_type": "code",
   "execution_count": 14,
   "id": "97a55941-6403-4b14-9da1-426f165ed47e",
   "metadata": {},
   "outputs": [],
   "source": [
    "with connection:\n",
    "    with connection.cursor() as cursor:\n",
    "        # 새로운 값을 삽입합니다.\n",
    "        sql = \"INSERT INTO `users` (`email`, `password`) VALUES (%s, %s)\"\n",
    "        cursor.execute(sql, ('webmaster@python.org', 'very-secret'))\n",
    "\n",
    "    connection.commit()"
   ]
  },
  {
   "cell_type": "code",
   "execution_count": 17,
   "id": "2a472aa7-9c96-46c4-a37a-77f06350f8ab",
   "metadata": {},
   "outputs": [
    {
     "name": "stdout",
     "output_type": "stream",
     "text": [
      "{'id': 1, 'password': 'very-secret'}\n"
     ]
    }
   ],
   "source": [
    "with connection:    # with는 무조건 실행해야 하는것을 해줌 \n",
    "    with connection.cursor() as cursor:\n",
    "        # 데이터를 불러옵니다.\n",
    "        sql = \"SELECT `id`, `password` FROM `users` WHERE `email`=%s\"\n",
    "        cursor.execute(sql, ('webmaster@python.org',)) # =%s 가 하나이므로 한개하고 , \n",
    "        result = cursor.fetchone()  # fetchall 은 전체를 가져옴 \n",
    "        print(result)"
   ]
  }
 ],
 "metadata": {
  "kernelspec": {
   "display_name": "Python 3 (ipykernel)",
   "language": "python",
   "name": "python3"
  },
  "language_info": {
   "codemirror_mode": {
    "name": "ipython",
    "version": 3
   },
   "file_extension": ".py",
   "mimetype": "text/x-python",
   "name": "python",
   "nbconvert_exporter": "python",
   "pygments_lexer": "ipython3",
   "version": "3.9.12"
  }
 },
 "nbformat": 4,
 "nbformat_minor": 5
}
