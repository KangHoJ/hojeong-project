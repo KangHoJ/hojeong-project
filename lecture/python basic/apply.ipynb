{
 "cells": [
  {
   "cell_type": "markdown",
   "id": "f9d0c9e4-e1b6-473f-bfcf-fd3642ca641f",
   "metadata": {},
   "source": [
    "- aplly method"
   ]
  },
  {
   "cell_type": "code",
   "execution_count": 48,
   "id": "a8febe01-b639-42fe-a256-7a42314f91fb",
   "metadata": {},
   "outputs": [],
   "source": [
    "pokemons = pd.read_csv('datas/pokemon.csv',index_col=['Pokemon']).squeeze()"
   ]
  },
  {
   "cell_type": "code",
   "execution_count": 53,
   "id": "4e68c32e-9a61-438e-88a7-fbe5d11f9965",
   "metadata": {},
   "outputs": [
    {
     "data": {
      "text/plain": [
       "Multi     405\n",
       "Single    404\n",
       "Name: Type, dtype: int64"
      ]
     },
     "execution_count": 53,
     "metadata": {},
     "output_type": "execute_result"
    }
   ],
   "source": [
    "def singile_or_multil(type):\n",
    "    if '/'in type:\n",
    "        return \"Multi\"\n",
    "    return 'Single'\n",
    "\n",
    "pokemons.apply(singile_or_multil).value_counts()"
   ]
  },
  {
   "cell_type": "code",
   "execution_count": 64,
   "id": "52f0e4ec-6a78-4978-a588-7d5aed8f2936",
   "metadata": {},
   "outputs": [
    {
     "data": {
      "text/plain": [
       "A    12\n",
       "B    27\n",
       "dtype: int64"
      ]
     },
     "execution_count": 64,
     "metadata": {},
     "output_type": "execute_result"
    }
   ],
   "source": [
    "df = pd.DataFrame([[4,9]]*3,columns=['A','B'])\n",
    "df.apply(np.sqrt)\n",
    "df.apply(np.sum,axis='index') #세로로 (행끼리 더함)\n",
    "df.apply(np.sum,axis='rows') # 세로로 (행끼리 더함)\n",
    "df.apply(np.sum,axis=0) # 세로로 ( 행끼리 더함)"
   ]
  }
 ],
 "metadata": {
  "kernelspec": {
   "display_name": "Python 3 (ipykernel)",
   "language": "python",
   "name": "python3"
  },
  "language_info": {
   "codemirror_mode": {
    "name": "ipython",
    "version": 3
   },
   "file_extension": ".py",
   "mimetype": "text/x-python",
   "name": "python",
   "nbconvert_exporter": "python",
   "pygments_lexer": "ipython3",
   "version": "3.9.12"
  }
 },
 "nbformat": 4,
 "nbformat_minor": 5
}
