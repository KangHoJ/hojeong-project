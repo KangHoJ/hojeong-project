{
 "cells": [
  {
   "cell_type": "markdown",
   "id": "9464a242-b94c-4fce-8781-40064bbff7f6",
   "metadata": {},
   "source": [
    "## 연습문제(dict)"
   ]
  },
  {
   "cell_type": "code",
   "execution_count": null,
   "id": "c843e4a4-2488-481f-a20b-cde97d524568",
   "metadata": {},
   "outputs": [],
   "source": [
    "a = str(input(\"과일 이름을 입력하세요\"))\n",
    "dict = {'사과':1000 , '바나나':700 , '오렌지':1500 , '파인애플':2000} \n",
    "print('{}의 가격은 {}원 입니다.'.format(a,dict[a]))"
   ]
  },
  {
   "cell_type": "code",
   "execution_count": null,
   "id": "365d726f-e3c2-4cf4-a2f6-25691356eb46",
   "metadata": {},
   "outputs": [],
   "source": [
    "name = input(\"이름을 기입해주세요\").split(' ')\n",
    "weigth = input(\"몸무게를 입력해주세요\").split(' ')\n",
    "\n",
    "dict = { name[0] : weigth[0] , name[1] : weigth[1] , name[2] : weigth[2] , name[3] : weigth[3] }\n"
   ]
  },
  {
   "cell_type": "code",
   "execution_count": null,
   "id": "e3091f5e-b50d-4b06-b8d8-d92678294229",
   "metadata": {},
   "outputs": [],
   "source": [
    "name = input(\"이름을 기입해주세요\").split(' ')\n",
    "weigth = map(float, input(\"몸무게를 입력해주세요\").split(' ')) # 몸무게 입력받아서 분리한것 float적용 maping\n",
    "\n",
    "dic = dict(zip(name, weigth))   # zip함수를 이용해 알아서 매칭 하도록 함\n",
    "print(dic)"
   ]
  }
 ],
 "metadata": {
  "kernelspec": {
   "display_name": "Python 3 (ipykernel)",
   "language": "python",
   "name": "python3"
  },
  "language_info": {
   "codemirror_mode": {
    "name": "ipython",
    "version": 3
   },
   "file_extension": ".py",
   "mimetype": "text/x-python",
   "name": "python",
   "nbconvert_exporter": "python",
   "pygments_lexer": "ipython3",
   "version": "3.9.12"
  }
 },
 "nbformat": 4,
 "nbformat_minor": 5
}
