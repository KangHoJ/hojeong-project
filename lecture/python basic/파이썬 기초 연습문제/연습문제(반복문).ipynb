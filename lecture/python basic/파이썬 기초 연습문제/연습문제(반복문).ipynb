{
 "cells": [
  {
   "cell_type": "markdown",
   "id": "6ffad2b1-1d2a-41f3-afe4-ac1e4167abd4",
   "metadata": {},
   "source": [
    "## 연습문제(for)"
   ]
  },
  {
   "cell_type": "code",
   "execution_count": 1,
   "id": "39bd83e4-f77e-4685-aba3-7329e2464bb9",
   "metadata": {},
   "outputs": [
    {
     "name": "stdin",
     "output_type": "stream",
     "text": [
      "자연수 하나 입력해주세요 5\n"
     ]
    },
    {
     "name": "stdout",
     "output_type": "stream",
     "text": [
      "5\t5\t5\t5\t5\t\n",
      "4\t4\t4\t4\t\n",
      "3\t3\t3\t\n",
      "2\t2\t\n",
      "1\t\n"
     ]
    }
   ],
   "source": [
    "# 도움 받아서 풀었던 문제\n",
    "number = int(input(\"자연수 하나 입력해주세요\"))\n",
    "for i in range(number,0,-1):\n",
    "     print('{}\\t'.format(i)*i)"
   ]
  },
  {
   "cell_type": "code",
   "execution_count": 2,
   "id": "62218ac4-c167-430b-8f27-ad24186beeb0",
   "metadata": {},
   "outputs": [
    {
     "name": "stdin",
     "output_type": "stream",
     "text": [
      "자연수 하나 입력해주세요 5\n"
     ]
    },
    {
     "name": "stdout",
     "output_type": "stream",
     "text": [
      "5\t5\t5\t5\t5\t\n",
      "4\t4\t4\t4\t\n",
      "3\t3\t3\t\n",
      "2\t2\t\n",
      "1\t\n"
     ]
    }
   ],
   "source": [
    "# 도움 받아서 풀었던 문제(풀이2)\n",
    "number = int(input(\"자연수 하나 입력해주세요\"))\n",
    "for i in range(number ,0 , -1):\n",
    "    for j in range(i): \n",
    "        print(i,end='\\t') \n",
    "    print() # 2번쨰 for문 끝나고 줄바꿈해줌 "
   ]
  },
  {
   "cell_type": "code",
   "execution_count": 3,
   "id": "c26b33b2-4bec-4acf-8355-7016f39317fa",
   "metadata": {},
   "outputs": [
    {
     "name": "stdout",
     "output_type": "stream",
     "text": [
      "**********\n",
      "*        *\n",
      "*        *\n",
      "*        *\n",
      "*        *\n",
      "*        *\n",
      "*        *\n",
      "*        *\n",
      "*        *\n",
      "**********\n"
     ]
    }
   ],
   "source": [
    "# 겨우 풀었던문제\n",
    "a= '*'\n",
    "\n",
    "\n",
    "for i in range(10,0,-1):\n",
    "    if i == 10 or i == 1:\n",
    "        print('{}'.format(a)*10)\n",
    "    else:\n",
    "        print('{}'.format(a)*1 + \" \" * 8 + '{}'.format(a)*1)\n",
    "        "
   ]
  },
  {
   "cell_type": "code",
   "execution_count": 4,
   "id": "328e6ac1-0b58-4375-92e9-093463002f91",
   "metadata": {},
   "outputs": [
    {
     "name": "stdout",
     "output_type": "stream",
     "text": [
      "* * * * * * * * * * \n",
      "*                 *\n",
      "*                 *\n",
      "*                 *\n",
      "*                 *\n",
      "*                 *\n",
      "*                 *\n",
      "*                 *\n",
      "*                 *\n",
      "* * * * * * * * * * \n"
     ]
    }
   ],
   "source": [
    "for i in range(10):\n",
    "    if i ==0 or i==9:\n",
    "        print('* ' * 10)\n",
    "    else:\n",
    "        print('*                 *')"
   ]
  },
  {
   "cell_type": "code",
   "execution_count": 5,
   "id": "9918aeb2-ec50-4800-a58b-ffcbdf66b8ff",
   "metadata": {},
   "outputs": [
    {
     "name": "stdin",
     "output_type": "stream",
     "text": [
      "숫자를 입력하시오 5\n"
     ]
    },
    {
     "name": "stdout",
     "output_type": "stream",
     "text": [
      "1 + 3 + 5 = 9 \n"
     ]
    }
   ],
   "source": [
    "# 못풀었던 문제 정답(어려움)\n",
    "\n",
    "even = int(input(\"숫자를 입력하시오\"))\n",
    "result = 1\n",
    "str = '1'\n",
    "\n",
    "for i in range(3,even+1,2):\n",
    "    result +=i\n",
    "    str += ' + {}'.format(i)\n",
    "str += ' = {} '.format(result)\n",
    "print(str)"
   ]
  },
  {
   "cell_type": "code",
   "execution_count": 6,
   "id": "a56aa0b0-7a4e-4e9b-a6d7-5015f2385c76",
   "metadata": {},
   "outputs": [
    {
     "name": "stdin",
     "output_type": "stream",
     "text": [
      "계승을 구할 숫자를 입력하세요 5\n"
     ]
    },
    {
     "name": "stdout",
     "output_type": "stream",
     "text": [
      "120\n"
     ]
    }
   ],
   "source": [
    "number = int(input(\"계승을 구할 숫자를 입력하세요\"))\n",
    "result = 1\n",
    "for i in range(1,number+1,1):\n",
    "    result *= i\n",
    "\n",
    "print(result)"
   ]
  },
  {
   "cell_type": "code",
   "execution_count": 7,
   "id": "47c403f5-47b6-489d-a6b8-89a6686065a0",
   "metadata": {},
   "outputs": [
    {
     "name": "stdin",
     "output_type": "stream",
     "text": [
      "구구단을 알려드립니다.숫자를 입력하세요 5\n"
     ]
    },
    {
     "name": "stdout",
     "output_type": "stream",
     "text": [
      "5 * 1 = 5\n",
      "5 * 2 = 10\n",
      "5 * 3 = 15\n",
      "5 * 4 = 20\n",
      "5 * 5 = 25\n",
      "5 * 6 = 30\n",
      "5 * 7 = 35\n",
      "5 * 8 = 40\n",
      "5 * 9 = 45\n"
     ]
    }
   ],
   "source": [
    "number = int(input(\"구구단을 알려드립니다.숫자를 입력하세요\"))\n",
    "\n",
    "for i in range(1,10,1):\n",
    "    number * i\n",
    "    print('{} * {} = {}'.format(number,i,number * i))"
   ]
  },
  {
   "cell_type": "code",
   "execution_count": 8,
   "id": "5e473bad-2b85-423e-98b2-83d0436f8017",
   "metadata": {},
   "outputs": [
    {
     "name": "stdin",
     "output_type": "stream",
     "text": [
      "자연수를 입력해주세요 5\n"
     ]
    },
    {
     "name": "stdout",
     "output_type": "stream",
     "text": [
      "15\n"
     ]
    }
   ],
   "source": [
    "number = int(input(\"자연수를 입력해주세요\"))\n",
    "result =0\n",
    "for i in range(1,number+1,1):\n",
    "    result +=i\n",
    "    \n",
    "print(result)"
   ]
  },
  {
   "cell_type": "code",
   "execution_count": 9,
   "id": "ad67659a-96e8-45d6-81a5-16866bad3c19",
   "metadata": {},
   "outputs": [
    {
     "name": "stdout",
     "output_type": "stream",
     "text": [
      "* * * * * \n",
      "* * * * * \n",
      "* * * * * \n",
      "* * * * * \n",
      "* * * * * \n"
     ]
    }
   ],
   "source": [
    "for i in range(5):\n",
    "    print('* ' * 5)"
   ]
  },
  {
   "cell_type": "markdown",
   "id": "7dac8845-4f6b-460c-bbe7-fd334c730b14",
   "metadata": {},
   "source": [
    "## 연습문제(while)"
   ]
  },
  {
   "cell_type": "code",
   "execution_count": 10,
   "id": "43ed1742-7a6f-49a2-9ad5-fc78eaf62a96",
   "metadata": {},
   "outputs": [
    {
     "name": "stdout",
     "output_type": "stream",
     "text": [
      "2\t 4\t 6\t 8\t 10\t 12\t 14\t 16\t 18\t 20\t 22\t 24\t 26\t 28\t 30\t 32\t 34\t 36\t 38\t 40\t 42\t 44\t 46\t 48\t 50\t 52\t 54\t 56\t 58\t 60\t 62\t 64\t 66\t 68\t 70\t 72\t 74\t 76\t 78\t 80\t 82\t 84\t 86\t 88\t 90\t 92\t 94\t 96\t 98\t 100\t "
     ]
    }
   ],
   "source": [
    "i = 2\n",
    "while i <= 100 :\n",
    "    print('{}\\t'.format(i), end = \" \")\n",
    "    i +=2"
   ]
  },
  {
   "cell_type": "code",
   "execution_count": 11,
   "id": "43192170-11e8-457b-a85a-ee7fcc7c4ccc",
   "metadata": {},
   "outputs": [
    {
     "name": "stdin",
     "output_type": "stream",
     "text": [
      "구구단을 알려드립니다.숫자를 입력하세요 10\n"
     ]
    },
    {
     "name": "stdout",
     "output_type": "stream",
     "text": [
      "10 * 0 = 0\n",
      "10 * 1 = 10\n",
      "10 * 2 = 20\n",
      "10 * 3 = 30\n",
      "10 * 4 = 40\n",
      "10 * 5 = 50\n",
      "10 * 6 = 60\n",
      "10 * 7 = 70\n",
      "10 * 8 = 80\n",
      "10 * 9 = 90\n"
     ]
    }
   ],
   "source": [
    "number = int(input(\"구구단을 알려드립니다.숫자를 입력하세요\"))\n",
    "\n",
    "i = 0\n",
    "while i <10:\n",
    "    number * i\n",
    "    print('{} * {} = {}'.format(number,i,number * i))\n",
    "    i +=1"
   ]
  }
 ],
 "metadata": {
  "kernelspec": {
   "display_name": "Python 3 (ipykernel)",
   "language": "python",
   "name": "python3"
  },
  "language_info": {
   "codemirror_mode": {
    "name": "ipython",
    "version": 3
   },
   "file_extension": ".py",
   "mimetype": "text/x-python",
   "name": "python",
   "nbconvert_exporter": "python",
   "pygments_lexer": "ipython3",
   "version": "3.9.12"
  }
 },
 "nbformat": 4,
 "nbformat_minor": 5
}
