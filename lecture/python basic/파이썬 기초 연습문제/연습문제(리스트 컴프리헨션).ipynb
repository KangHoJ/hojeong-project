{
 "cells": [
  {
   "cell_type": "markdown",
   "id": "210c0258-aebc-4cf2-9fec-d3f06d2bd288",
   "metadata": {
    "tags": []
   },
   "source": [
    "## 각종 연습문제"
   ]
  },
  {
   "cell_type": "code",
   "execution_count": 39,
   "id": "0e0e39e4-02a0-4d90-b156-601ab5329f85",
   "metadata": {},
   "outputs": [
    {
     "name": "stdout",
     "output_type": "stream",
     "text": [
      "['aplha', 'bravo', 'delta', 'hotel', 'indea']\n"
     ]
    }
   ],
   "source": [
    "a = ['aplha','bravo','charlie','delta','echo','foxtrot','golf','hotel','indea']\n",
    "b = [ a[i] for i in range(len(a)) if len(a[i]) == 5 ]\n",
    "print(b)"
   ]
  },
  {
   "cell_type": "code",
   "execution_count": 40,
   "id": "c5e6d2cf-072a-447f-9e56-5d09bc6ffbe9",
   "metadata": {},
   "outputs": [
    {
     "name": "stdout",
     "output_type": "stream",
     "text": [
      "['aplha', 'bravo', 'delta', 'hotel', 'indea']\n"
     ]
    }
   ],
   "source": [
    "a = ['aplha','bravo','charlie','delta','echo','foxtrot','golf','hotel','indea']\n",
    "b = [ s for s in a if len(s) == 5 ] \n",
    "print(b)"
   ]
  },
  {
   "cell_type": "code",
   "execution_count": 89,
   "id": "2a7bea65-932b-4ed1-a44a-5ef48a840d8f",
   "metadata": {},
   "outputs": [
    {
     "name": "stdin",
     "output_type": "stream",
     "text": [
      "정수 두 개 입력하세요 11 19\n"
     ]
    },
    {
     "data": {
      "text/plain": [
       "[2048, 8192, 16384, 32768, 65536, 262144]"
      ]
     },
     "execution_count": 89,
     "metadata": {},
     "output_type": "execute_result"
    }
   ],
   "source": [
    "while True :\n",
    "    number,number2 = map(int, input(\"정수 두 개 입력하세요\").split(' '))\n",
    "    if number > number2:\n",
    "        print(\"첫 번째 입력 값은 두 번째 입력 값보다 작게 입력하세요.\")\n",
    "    elif number >= 20 and number <0 :\n",
    "        print(\"첫번째 값의 범위는 1~20입니다\")\n",
    "    elif number2 <10 and number >30 :\n",
    "        print(\"두번째 값의 범위는 1~20입니다\")\n",
    "    else : \n",
    "        break\n",
    "\n",
    "\n",
    "j = [2**i for i in range(number,number2,1)] \n",
    "del j[1] , j[-2]\n",
    "j"
   ]
  },
  {
   "cell_type": "code",
   "execution_count": 111,
   "id": "9f7d90a7-1f51-4742-898f-6b0279a8a787",
   "metadata": {},
   "outputs": [
    {
     "name": "stdin",
     "output_type": "stream",
     "text": [
      "2부터 입력하신 수까지의 모든 소수를 찾는 프로그램입니다. 찾는 범위를 입력하세요: 100\n"
     ]
    },
    {
     "name": "stdout",
     "output_type": "stream",
     "text": [
      "[100]\n"
     ]
    }
   ],
   "source": [
    "# 소수 구하기 문제 -> 못 풀었음\n",
    "\n",
    "number = int(input('2부터 입력하신 수까지의 모든 소수를 찾는 프로그램입니다. 찾는 범위를 입력하세요:'))\n",
    "\n",
    "result = []\n",
    "\n",
    "for j in range(2,number+1):\n",
    "    for k in range(1,number+1):\n",
    "        if number % number-k != 0  :\n",
    "            break     \n",
    "\n",
    "result.append(number) \n",
    "    \n",
    "print(result)"
   ]
  },
  {
   "cell_type": "code",
   "execution_count": 120,
   "id": "46aa8017-588e-48da-bade-e1b62fe75790",
   "metadata": {},
   "outputs": [
    {
     "name": "stdout",
     "output_type": "stream",
     "text": [
      "2부터 입력하신 수까지 ~\n"
     ]
    },
    {
     "name": "stdin",
     "output_type": "stream",
     "text": [
      "찾는 범위를 입력하세요 100\n"
     ]
    },
    {
     "name": "stdout",
     "output_type": "stream",
     "text": [
      "2 3 5 7 11 13 17 \n",
      "19 23 29 31 37 41 43 \n",
      "47 53 59 61 67 71 73 \n",
      "79 83 89 97 "
     ]
    }
   ],
   "source": [
    "print('2부터 입력하신 수까지 ~')\n",
    "inData = int(input('찾는 범위를 입력하세요'))\n",
    "i= 2\n",
    "line= 0\n",
    "while i <= inData:\n",
    "    j = 2\n",
    "    while j <= i :           # j랑 i랑 같아지는 시점까지 반복\n",
    "        if i % j ==0:        # i % j를 계속 나누게 되는데 자기자신을 나누기 전까지 0이 안니오면 반복 / 나오면 break\n",
    "            break\n",
    "        j +=1                \n",
    "    if i == j:\n",
    "        print(i , end = ' ')\n",
    "        \n",
    "        line = line +1\n",
    "        if line ==7:\n",
    "            line = 0\n",
    "            print()\n",
    "    i+=1"
   ]
  },
  {
   "cell_type": "markdown",
   "id": "21d13616-b005-4ca5-bdce-d43212b0be3b",
   "metadata": {},
   "source": [
    "- random "
   ]
  },
  {
   "cell_type": "code",
   "execution_count": 150,
   "id": "5e6e65f6-d8a9-4791-b1d2-5e860af2beb4",
   "metadata": {},
   "outputs": [
    {
     "name": "stdout",
     "output_type": "stream",
     "text": [
      "94\n"
     ]
    },
    {
     "name": "stdin",
     "output_type": "stream",
     "text": [
      "숫자를 입력하세요 1\n"
     ]
    },
    {
     "name": "stdout",
     "output_type": "stream",
     "text": [
      "그보다 작습니다\n"
     ]
    },
    {
     "name": "stdin",
     "output_type": "stream",
     "text": [
      "숫자를 입력하세요 94\n"
     ]
    },
    {
     "name": "stdout",
     "output_type": "stream",
     "text": [
      "맞췄습니다!\n",
      "2번만에 맞추셨습니다\n",
      "입력한 숫자는 [1, 94] 다음과 같습니다 \n"
     ]
    }
   ],
   "source": [
    "import random\n",
    "a = random.randint(1,100)\n",
    "print(a)\n",
    "\n",
    "list=[]\n",
    "\n",
    "while True :\n",
    "    number = int(input('숫자를 입력하세요'))\n",
    "    list.append(number)\n",
    "    if number < 1 or number > 100:\n",
    "        print('1~100 사이의 숫자를 입력하세요')\n",
    "    elif number < a:\n",
    "        print(\"그보다 작습니다\")\n",
    "    elif number > a:\n",
    "        print('그보다 큽니다')\n",
    "    elif number == a:\n",
    "        print('맞췄습니다!')\n",
    "        print('{}번만에 맞추셨습니다'.format(len(list)))\n",
    "        break\n",
    "\n",
    "print('입력한 숫자는 {} 다음과 같습니다 '.format(list))\n",
    "\n",
    "\n"
   ]
  }
 ],
 "metadata": {
  "kernelspec": {
   "display_name": "Python 3 (ipykernel)",
   "language": "python",
   "name": "python3"
  },
  "language_info": {
   "codemirror_mode": {
    "name": "ipython",
    "version": 3
   },
   "file_extension": ".py",
   "mimetype": "text/x-python",
   "name": "python",
   "nbconvert_exporter": "python",
   "pygments_lexer": "ipython3",
   "version": "3.9.12"
  }
 },
 "nbformat": 4,
 "nbformat_minor": 5
}
