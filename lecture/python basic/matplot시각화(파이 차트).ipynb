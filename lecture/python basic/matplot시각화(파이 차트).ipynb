{
 "cells": [
  {
   "cell_type": "markdown",
   "id": "20e51ab6-b0f0-442c-bd05-0e0284d14564",
   "metadata": {},
   "source": [
    "## 파이차트"
   ]
  },
  {
   "cell_type": "code",
   "execution_count": 2,
   "id": "c45f684d-3274-423a-86b2-20192f74541e",
   "metadata": {},
   "outputs": [
    {
     "data": {
      "text/plain": [
       "'C:\\\\Users\\\\User\\\\Desktop\\\\boot camp\\\\파이썬 기초\\\\3.13 matplot 시각화'"
      ]
     },
     "execution_count": 2,
     "metadata": {},
     "output_type": "execute_result"
    }
   ],
   "source": [
    "%pwd"
   ]
  },
  {
   "cell_type": "code",
   "execution_count": 3,
   "id": "8a57dea8-d2b2-45e1-8b2a-5926da31f780",
   "metadata": {},
   "outputs": [
    {
     "name": "stdout",
     "output_type": "stream",
     "text": [
      "C:\\Users\\User\\Desktop\\boot camp\n"
     ]
    }
   ],
   "source": [
    "%cd C:\\\\Users\\\\User\\\\Desktop\\\\boot camp"
   ]
  },
  {
   "cell_type": "code",
   "execution_count": 4,
   "id": "e12efd52-cdda-4880-b223-19197e1fa1dc",
   "metadata": {
    "collapsed": true,
    "jupyter": {
     "outputs_hidden": true
    },
    "tags": []
   },
   "outputs": [
    {
     "name": "stdout",
     "output_type": "stream",
     "text": [
      "NanumMyeongjo\n",
      "NanumBarunGothic\n",
      "Noto Sans KR\n",
      "NanumSquareOTF_ac\n",
      "NanumBarunGothic\n",
      "D2Coding ligature\n",
      "NanumSquare Neo OTF Light\n",
      "D2Coding ligature\n",
      "NanumMyeongjo Eco\n",
      "NanumSquare Neo Light\n",
      "NanumSquareRoundOTF\n",
      "NanumSquare Neo OTF ExtraBold\n",
      "NanumGothicOTF\n",
      "NanumSquareRoundOTF\n",
      "NanumBarunGothicOTF\n",
      "NanumMyeongjoOTF\n",
      "NanumGothic\n",
      "NanumSquare_ac\n",
      "NanumGothic\n",
      "NanumSquareRound\n",
      "NanumBarunpenOTF\n",
      "NanumSquareRoundOTF\n",
      "NanumBarunGothicOTF\n",
      "NanumSquare Neo OTF Heavy\n",
      "NanumSquareOTF\n",
      "NanumGothicOTF Eco\n",
      "NanumGothic\n",
      "Nanum Brush Script\n",
      "NanumBarunGothic\n",
      "NanumSquare Neo OTF Bold\n",
      "NanumSquareOTF_ac\n",
      "D2Coding\n",
      "Noto Sans KR\n",
      "NanumBarunpen\n",
      "NanumGothicOTF\n",
      "NanumBarunpenOTF\n",
      "NanumSquare\n",
      "NanumSquareOTF\n",
      "Noto Sans KR\n",
      "NanumGothicOTF\n",
      "NanumBarunGothicOTF\n",
      "NanumSquareRoundOTF\n",
      "NanumSquareRound\n",
      "NanumMyeongjoOTF\n",
      "NanumBarunpen\n",
      "NanumSquareOTF\n",
      "NanumGothic\n",
      "NanumSquareOTF_ac\n",
      "NanumMyeongjoOTF Eco\n",
      "NanumSquare Neo ExtraBold\n",
      "NanumBarunGothic YetHangul\n",
      "Noto Sans KR\n",
      "NanumSquare_ac\n",
      "NanumSquare\n",
      "NanumMyeongjoOTF Eco\n",
      "NanumGothicOTF Eco\n",
      "NanumGothicOTF\n",
      "NanumGothicOTF Eco\n",
      "NanumSquareOTF\n",
      "NanumSquare_ac\n",
      "NanumMyeongjoOTF Eco\n",
      "Noto Sans KR\n",
      "NanumSquare\n",
      "D2Coding ligature\n",
      "NanumSquare_ac\n",
      "NanumMyeongjo Eco\n",
      "Nanum Pen Script OTF\n",
      "NanumGothic Eco\n",
      "Nanum Pen Script\n",
      "NanumSquare Neo OTF Regular\n",
      "NanumSquare\n",
      "Nanum Brush Script OTF\n",
      "NanumSquare Neo Regular\n",
      "NanumBarunGothicOTF YetHangul\n",
      "NanumSquare Neo Bold\n",
      "NanumMyeongjo\n",
      "NanumMyeongjoOTF\n",
      "NanumGothic Eco\n",
      "NanumMyeongjo Eco\n",
      "Noto Sans KR\n",
      "NanumSquareOTF_ac\n",
      "NanumMyeongjoOTF YetHangul\n",
      "NanumSquareRound\n",
      "NanumBarunGothic\n",
      "NanumSquareRound\n",
      "NanumMyeongjo\n",
      "NanumGothic Eco\n",
      "NanumMyeongjo YetHangul\n",
      "NanumBarunGothicOTF\n",
      "NanumSquare Neo Heavy\n"
     ]
    }
   ],
   "source": [
    "import matplotlib as mpl\n",
    "import matplotlib.pyplot as plt\n",
    "# Add every font at the specified location\n",
    "font_dir = ['./fonts']\n",
    "for font in mpl.font_manager.findSystemFonts(fontpaths=font_dir):\n",
    "    print(mpl.font_manager.FontProperties(fname=font).get_name())\n",
    "    mpl.font_manager.fontManager.addfont(font)"
   ]
  },
  {
   "cell_type": "code",
   "execution_count": 6,
   "id": "dc4977d0-0bb9-4967-817e-bc3fc8f34828",
   "metadata": {},
   "outputs": [
    {
     "name": "stdout",
     "output_type": "stream",
     "text": [
      "['Noto Sans KR']\n"
     ]
    }
   ],
   "source": [
    "# Set font family globally\n",
    "mpl.rcParams['font.family'] = 'Noto Sans KR'\n",
    "print(mpl.rcParams['font.family'])"
   ]
  },
  {
   "cell_type": "code",
   "execution_count": 18,
   "id": "514d1485-8f12-4e14-9117-cc4191ebf635",
   "metadata": {},
   "outputs": [
    {
     "data": {
      "image/png": "[encoded data removed]",
      "text/plain": [
       "<Figure size 432x288 with 1 Axes>"
      ]
     },
     "metadata": {},
     "output_type": "display_data"
    }
   ],
   "source": [
    "labels = ['월세','전세','자가','기타']\n",
    "sizes = [15,30,45,10]\n",
    "colors = ['yellowgreen','gold','lightskyblue','lightcoral']\n",
    "explode = (0,0,0.1,0) # 튀어 나오게함\n",
    "plt.title('Pie Chart')\n",
    "plt.pie(sizes,explode=explode,labels=labels,colors=colors,autopct='%1.2f%%'\n",
    "        , shadow=True,startangle=90) \n",
    "# startangle=90은12시 방향에서 시작 , autopct 소수점 둘째 자리까지 의미 \n",
    "plt.show()"
   ]
  },
  {
   "cell_type": "code",
   "execution_count": 51,
   "id": "37e67a85-66f2-4b5d-a8ff-cc9fe6ee1be1",
   "metadata": {},
   "outputs": [
    {
     "data": {
      "text/plain": [
       "([<matplotlib.patches.Wedge at 0x28c6ff61430>,\n",
       "  <matplotlib.patches.Wedge at 0x28c6ff61dc0>,\n",
       "  <matplotlib.patches.Wedge at 0x28c6ff6f790>,\n",
       "  <matplotlib.patches.Wedge at 0x28c6ff7c160>,\n",
       "  <matplotlib.patches.Wedge at 0x28c6ff7caf0>],\n",
       " [Text(-1.0470597178403687, 0.5862302851917901, '장년'),\n",
       "  Text(-0.009679748866435222, -1.0999574093854194, '청년'),\n",
       "  Text(1.0734872759568532, 0.2400522200662493, '미성년자'),\n",
       "  Text(0.32885225983655986, 1.0496933796115835, '중년'),\n",
       "  Text(0.02419773087543018, 1.0997338177124865, '노년')],\n",
       " [Text(-0.6107848354068817, 0.3419676663618776, '33.8%'),\n",
       "  Text(-0.005279863018055575, -0.5999767687556832, '32.2%'),\n",
       "  Text(0.5855385141582835, 0.13093757458159053, '25.1%'),\n",
       "  Text(0.1793739599108508, 0.5725600252426818, '8.3%'),\n",
       "  Text(0.01319876229568919, 0.5998548096613562, '0.7%')])"
      ]
     },
     "execution_count": 51,
     "metadata": {},
     "output_type": "execute_result"
    },
    {
     "data": {
      "image/png": "[encoded data removed]",
      "text/plain": [
       "<Figure size 432x288 with 1 Axes>"
      ]
     },
     "metadata": {},
     "output_type": "display_data"
    }
   ],
   "source": [
    "import seaborn as sns\n",
    "import pandas as pd\n",
    "titanic = sns.load_dataset('titanic')\n",
    "age = titanic['age']\n",
    "bins = [0, 20, 30, 50, 70, 100]\n",
    "labels = [\"미성년자\", \"청년\", \"장년\", \"중년\", \"노년\"]\n",
    "explode = (0.1, 0, 0, 0, 0)\n",
    "colors = [\"yellowgreen\", \"gold\", \"lightskyblue\", \"lightcoral\", \"orange\"]\n",
    "cats=pd.cut(age , bins , labels=labels).dropna()\n",
    "cats2 = cats.value_counts()\n",
    "plt.pie(cats2,explode=explode,labels=cats2.index,colors=colors,autopct='%1.1f%%'\n",
    "        , shadow=True,startangle=90) "
   ]
  },
  {
   "cell_type": "code",
   "execution_count": null,
   "id": "6ce56f6a-4a15-4881-971b-7083c83b2ee8",
   "metadata": {},
   "outputs": [],
   "source": []
  },
  {
   "cell_type": "code",
   "execution_count": null,
   "id": "151e445f-df38-42b5-9f74-5791ddca3740",
   "metadata": {},
   "outputs": [],
   "source": []
  },
  {
   "cell_type": "code",
   "execution_count": null,
   "id": "e9e663e2-be3e-4ccd-aa19-47982eb87e83",
   "metadata": {},
   "outputs": [],
   "source": []
  },
  {
   "cell_type": "code",
   "execution_count": null,
   "id": "5779bebf-16fc-43c9-a10d-cba0d3ec7b43",
   "metadata": {},
   "outputs": [],
   "source": []
  }
 ],
 "metadata": {
  "kernelspec": {
   "display_name": "Python 3 (ipykernel)",
   "language": "python",
   "name": "python3"
  },
  "language_info": {
   "codemirror_mode": {
    "name": "ipython",
    "version": 3
   },
   "file_extension": ".py",
   "mimetype": "text/x-python",
   "name": "python",
   "nbconvert_exporter": "python",
   "pygments_lexer": "ipython3",
   "version": "3.9.12"
  }
 },
 "nbformat": 4,
 "nbformat_minor": 5
}
