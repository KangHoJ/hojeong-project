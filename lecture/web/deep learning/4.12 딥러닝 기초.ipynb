{
 "cells": [
  {
   "attachments": {},
   "cell_type": "markdown",
   "metadata": {
    "id": "-NT4rVMbeXM1"
   },
   "source": [
    "# Deep learning 기초"
   ]
  },
  {
   "cell_type": "code",
   "execution_count": 6,
   "metadata": {
    "executionInfo": {
     "elapsed": 441,
     "status": "ok",
     "timestamp": 1681269318795,
     "user": {
      "displayName": "강호정",
      "userId": "03873201153560303630"
     },
     "user_tz": -540
    },
    "id": "kQ-pg4jNXBYL"
   },
   "outputs": [],
   "source": [
    "import torch\n",
    "import numpy as np"
   ]
  },
  {
   "cell_type": "code",
   "execution_count": 2,
   "metadata": {
    "colab": {
     "base_uri": "https://localhost:8080/"
    },
    "executionInfo": {
     "elapsed": 22102,
     "status": "ok",
     "timestamp": 1681267810595,
     "user": {
      "displayName": "강호정",
      "userId": "03873201153560303630"
     },
     "user_tz": -540
    },
    "id": "EpxNCIwdXkK1",
    "outputId": "1048146a-6c28-4a10-ffeb-c23c259c738c"
   },
   "outputs": [
    {
     "name": "stdout",
     "output_type": "stream",
     "text": [
      "Mounted at /content/data\n"
     ]
    }
   ],
   "source": [
    "from google.colab import drive\n",
    "drive.mount('/content/data') # 드라이브 연결"
   ]
  },
  {
   "cell_type": "code",
   "execution_count": 3,
   "metadata": {
    "colab": {
     "base_uri": "https://localhost:8080/"
    },
    "executionInfo": {
     "elapsed": 275,
     "status": "ok",
     "timestamp": 1681267872405,
     "user": {
      "displayName": "강호정",
      "userId": "03873201153560303630"
     },
     "user_tz": -540
    },
    "id": "hqY4OoWAXkoc",
    "outputId": "85d6eb3c-8140-4455-e806-e8f7b2265a67"
   },
   "outputs": [
    {
     "data": {
      "text/plain": [
       "[[1, 2], [3, 4], [5, 6]]"
      ]
     },
     "execution_count": 3,
     "metadata": {},
     "output_type": "execute_result"
    }
   ],
   "source": [
    "data = [\n",
    "    [1,2],[3,4],[5,6]\n",
    "]\n",
    "data"
   ]
  },
  {
   "cell_type": "code",
   "execution_count": 4,
   "metadata": {
    "colab": {
     "base_uri": "https://localhost:8080/"
    },
    "executionInfo": {
     "elapsed": 3,
     "status": "ok",
     "timestamp": 1681267888376,
     "user": {
      "displayName": "강호정",
      "userId": "03873201153560303630"
     },
     "user_tz": -540
    },
    "id": "9X0QIOOlXksn",
    "outputId": "8ac3edb3-1b71-44d2-a392-dbd354d09a66"
   },
   "outputs": [
    {
     "data": {
      "text/plain": [
       "tensor([[1, 2],\n",
       "        [3, 4],\n",
       "        [5, 6]])"
      ]
     },
     "execution_count": 4,
     "metadata": {},
     "output_type": "execute_result"
    }
   ],
   "source": [
    "data_tensor = torch.tensor(data)\n",
    "data_tensor # tensor 가 붙으면 torch 형태로 바뀐거다 "
   ]
  },
  {
   "cell_type": "code",
   "execution_count": 8,
   "metadata": {
    "colab": {
     "base_uri": "https://localhost:8080/"
    },
    "executionInfo": {
     "elapsed": 3,
     "status": "ok",
     "timestamp": 1681269476769,
     "user": {
      "displayName": "강호정",
      "userId": "03873201153560303630"
     },
     "user_tz": -540
    },
    "id": "drOdtNH9Xkwc",
    "outputId": "ed6bec1f-595f-45b0-cba6-8cfae5b8d4fe"
   },
   "outputs": [
    {
     "name": "stdout",
     "output_type": "stream",
     "text": [
      "Numpy arr value: \n",
      " [[1 2]\n",
      " [3 4]\n",
      " [5 6]] \n",
      "\n",
      "Tensor arr_tensor value: \n",
      " tensor([[1, 2],\n",
      "        [3, 4],\n",
      "        [5, 6]])\n"
     ]
    }
   ],
   "source": [
    "arr = np.array(data) \n",
    "arr_tensor = torch.from_numpy(arr) # array를 tensor로 만듬 \n",
    "\n",
    "print(f'Numpy arr value: \\n {arr} \\n')\n",
    "print(f'Tensor arr_tensor value: \\n {arr_tensor}')"
   ]
  },
  {
   "cell_type": "code",
   "execution_count": 9,
   "metadata": {
    "colab": {
     "base_uri": "https://localhost:8080/"
    },
    "executionInfo": {
     "elapsed": 4,
     "status": "ok",
     "timestamp": 1681269485509,
     "user": {
      "displayName": "강호정",
      "userId": "03873201153560303630"
     },
     "user_tz": -540
    },
    "id": "6UtyLrSwchtn",
    "outputId": "e7374412-29e9-4350-91b0-2d0b7452d2cf"
   },
   "outputs": [
    {
     "name": "stdout",
     "output_type": "stream",
     "text": [
      "Numpy arr after * 2 operation: \n",
      " [[ 2  4]\n",
      " [ 6  8]\n",
      " [10 12]] \n",
      "\n",
      "Tensor arr_tensor value after modifying numpy array: \n",
      " tensor([[ 2,  4],\n",
      "        [ 6,  8],\n",
      "        [10, 12]])\n"
     ]
    }
   ],
   "source": [
    "np.multiply(arr, 2, out=arr)\n",
    "\n",
    "print(f'Numpy arr after * 2 operation: \\n {arr} \\n') # arr에 *2\n",
    "print(f'Tensor arr_tensor value after modifying numpy array: \\n {arr_tensor}')"
   ]
  },
  {
   "cell_type": "code",
   "execution_count": 10,
   "metadata": {
    "colab": {
     "base_uri": "https://localhost:8080/"
    },
    "executionInfo": {
     "elapsed": 12,
     "status": "ok",
     "timestamp": 1681269598424,
     "user": {
      "displayName": "강호정",
      "userId": "03873201153560303630"
     },
     "user_tz": -540
    },
    "id": "z9dC8HbmciLO",
    "outputId": "4532c03c-321a-48e8-a027-50030ef55aad"
   },
   "outputs": [
    {
     "data": {
      "text/plain": [
       "tensor([[1, 2],\n",
       "        [3, 4],\n",
       "        [5, 6]])"
      ]
     },
     "execution_count": 10,
     "metadata": {},
     "output_type": "execute_result"
    }
   ],
   "source": [
    "data_tensor"
   ]
  },
  {
   "cell_type": "code",
   "execution_count": 11,
   "metadata": {
    "colab": {
     "base_uri": "https://localhost:8080/"
    },
    "executionInfo": {
     "elapsed": 3,
     "status": "ok",
     "timestamp": 1681269624129,
     "user": {
      "displayName": "강호정",
      "userId": "03873201153560303630"
     },
     "user_tz": -540
    },
    "id": "bPRhJnUOciNx",
    "outputId": "b0a531e9-3ba7-44a8-ebad-3a916b23acda"
   },
   "outputs": [
    {
     "data": {
      "text/plain": [
       "tensor([[1, 1],\n",
       "        [1, 1],\n",
       "        [1, 1]])"
      ]
     },
     "execution_count": 11,
     "metadata": {},
     "output_type": "execute_result"
    }
   ],
   "source": [
    "x_ones = torch.ones_like(data_tensor) # 같은 shape에 1로 채움 \n",
    "x_ones"
   ]
  },
  {
   "cell_type": "code",
   "execution_count": 12,
   "metadata": {
    "colab": {
     "base_uri": "https://localhost:8080/"
    },
    "executionInfo": {
     "elapsed": 8,
     "status": "ok",
     "timestamp": 1681269660346,
     "user": {
      "displayName": "강호정",
      "userId": "03873201153560303630"
     },
     "user_tz": -540
    },
    "id": "nqH88KAzciQV",
    "outputId": "50e30193-9a73-4b91-b160-df00513cac84"
   },
   "outputs": [
    {
     "data": {
      "text/plain": [
       "tensor([[0.7079, 0.9968],\n",
       "        [0.0921, 0.4554],\n",
       "        [0.6910, 0.9102]])"
      ]
     },
     "execution_count": 12,
     "metadata": {},
     "output_type": "execute_result"
    }
   ],
   "source": [
    "x_rand = torch.rand_like(data_tensor,dtype=torch.float) # 랜덤으로 실수형 데이터 생성 \n",
    "x_rand"
   ]
  },
  {
   "cell_type": "code",
   "execution_count": 13,
   "metadata": {
    "colab": {
     "base_uri": "https://localhost:8080/"
    },
    "executionInfo": {
     "elapsed": 344,
     "status": "ok",
     "timestamp": 1681269820735,
     "user": {
      "displayName": "강호정",
      "userId": "03873201153560303630"
     },
     "user_tz": -540
    },
    "id": "4A9G_sCXciS3",
    "outputId": "8e5840a7-8df1-46b9-a104-e3d73dea4e55"
   },
   "outputs": [
    {
     "name": "stdout",
     "output_type": "stream",
     "text": [
      "Random Tensor:\n",
      " tensor([[0.6899, 0.2839],\n",
      "        [0.0265, 0.5530]])\n",
      "\n",
      "ones Tensor:\n",
      " tensor([[1., 1.],\n",
      "        [1., 1.]])\n",
      "\n",
      "Zeros Tensor:\n",
      " tensor([[0., 0.],\n",
      "        [0., 0.]])\n",
      "\n"
     ]
    }
   ],
   "source": [
    "shape = (2,2,)\n",
    "rand_tensor = torch.rand(shape)\n",
    "ones_tensor = torch.ones(shape)\n",
    "zeros_tensor = torch.zeros(shape)\n",
    "\n",
    "print(f'Random Tensor:\\n {rand_tensor}\\n')\n",
    "print(f'ones Tensor:\\n {ones_tensor}\\n')\n",
    "print(f'Zeros Tensor:\\n {zeros_tensor}\\n')"
   ]
  },
  {
   "cell_type": "code",
   "execution_count": 15,
   "metadata": {
    "colab": {
     "base_uri": "https://localhost:8080/"
    },
    "executionInfo": {
     "elapsed": 556,
     "status": "ok",
     "timestamp": 1681270117314,
     "user": {
      "displayName": "강호정",
      "userId": "03873201153560303630"
     },
     "user_tz": -540
    },
    "id": "kmdiZL70fat7",
    "outputId": "c1f94e6e-8b3b-40ba-a9b8-8198d807919d"
   },
   "outputs": [
    {
     "name": "stdout",
     "output_type": "stream",
     "text": [
      "Shape of tensor:torch.Size([3, 4])\n",
      "Datatype of tensor : torch.float32\n",
      "Device tensor is stored on cpu\n"
     ]
    }
   ],
   "source": [
    "tensor = torch.rand(3,4)\n",
    "\n",
    "print(f'Shape of tensor:{tensor.shape}')\n",
    "print(f'Datatype of tensor : {tensor.dtype}')\n",
    "print(f'Device tensor is stored on {tensor.device}')"
   ]
  },
  {
   "cell_type": "code",
   "execution_count": 16,
   "metadata": {
    "colab": {
     "base_uri": "https://localhost:8080/"
    },
    "executionInfo": {
     "elapsed": 5774,
     "status": "ok",
     "timestamp": 1681270447998,
     "user": {
      "displayName": "강호정",
      "userId": "03873201153560303630"
     },
     "user_tz": -540
    },
    "id": "Vj1Ml68_fa-z",
    "outputId": "cf3bb762-1c02-4453-aa96-684a09dccd27"
   },
   "outputs": [
    {
     "data": {
      "text/plain": [
       "device(type='cuda', index=0)"
      ]
     },
     "execution_count": 16,
     "metadata": {},
     "output_type": "execute_result"
    }
   ],
   "source": [
    "if torch.cuda.is_available():\n",
    "    tensor = tensor.to('cuda')\n",
    "  \n",
    "tensor.device"
   ]
  },
  {
   "cell_type": "code",
   "execution_count": null,
   "metadata": {
    "id": "tjTRsoTtfbCN"
   },
   "outputs": [],
   "source": []
  },
  {
   "cell_type": "code",
   "execution_count": null,
   "metadata": {
    "id": "_gfACfskh3Xa"
   },
   "outputs": [],
   "source": []
  },
  {
   "cell_type": "code",
   "execution_count": null,
   "metadata": {
    "id": "I9k-B6YpfbFm"
   },
   "outputs": [],
   "source": []
  },
  {
   "cell_type": "code",
   "execution_count": null,
   "metadata": {
    "id": "lZYnZBGofbI8"
   },
   "outputs": [],
   "source": []
  },
  {
   "cell_type": "code",
   "execution_count": null,
   "metadata": {
    "id": "WSyx9urSfbL4"
   },
   "outputs": [],
   "source": []
  },
  {
   "cell_type": "code",
   "execution_count": null,
   "metadata": {
    "id": "wHqFmA4SfbPH"
   },
   "outputs": [],
   "source": []
  },
  {
   "cell_type": "code",
   "execution_count": null,
   "metadata": {
    "id": "nxDQwykafbSD"
   },
   "outputs": [],
   "source": []
  }
 ],
 "metadata": {
  "accelerator": "GPU",
  "colab": {
   "authorship_tag": "ABX9TyN6w6fSfEF8Ju0Xz6D1SWPk",
   "provenance": [],
   "toc_visible": true
  },
  "gpuClass": "standard",
  "kernelspec": {
   "display_name": "Python 3 (ipykernel)",
   "language": "python",
   "name": "python3"
  },
  "language_info": {
   "codemirror_mode": {
    "name": "ipython",
    "version": 3
   },
   "file_extension": ".py",
   "mimetype": "text/x-python",
   "name": "python",
   "nbconvert_exporter": "python",
   "pygments_lexer": "ipython3",
   "version": "3.9.12"
  }
 },
 "nbformat": 4,
 "nbformat_minor": 4
}
