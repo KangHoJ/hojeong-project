{
 "cells": [
  {
   "cell_type": "markdown",
   "id": "a7d28460-cf95-453d-8fb4-69d52e8ccd79",
   "metadata": {
    "tags": []
   },
   "source": [
    "## 파이썬 기본"
   ]
  },
  {
   "cell_type": "code",
   "execution_count": 1,
   "id": "9e6e89f4-f369-4b44-9d84-050ad1614c15",
   "metadata": {},
   "outputs": [
    {
     "name": "stdout",
     "output_type": "stream",
     "text": [
      "1\n",
      "aasvsa\n"
     ]
    }
   ],
   "source": [
    "x=1\n",
    "text = \"aasvsa\"\n",
    "print(x)\n",
    "print(text)"
   ]
  },
  {
   "cell_type": "code",
   "execution_count": 17,
   "id": "9d03b948-d494-47d2-9009-595cb5404949",
   "metadata": {},
   "outputs": [
    {
     "name": "stdout",
     "output_type": "stream",
     "text": [
      "Hello, world!\n",
      "Hello, world!\n",
      "Python Programming\n",
      "\n",
      "Hello, world!\n",
      "Hello, world!\n",
      "Python Programming\n"
     ]
    }
   ],
   "source": [
    "a = 'Hello, world!'\n",
    "b = 'Python Programming'\n",
    "\n",
    "print(a)\n",
    "print(a)\n",
    "print(b)\n",
    "\n",
    "print(\"\")\n",
    "\n",
    "print(a+'\\n'+a+'\\n'+b)"
   ]
  },
  {
   "cell_type": "code",
   "execution_count": 27,
   "id": "34839930-cba1-49c6-ad89-ab2e49040a4f",
   "metadata": {},
   "outputs": [
    {
     "name": "stdout",
     "output_type": "stream",
     "text": [
      "89 28.2 3 1\n"
     ]
    }
   ],
   "source": [
    "a= 13 + (22-3) *4\n",
    "b= 13+((22-3)*4)/5\n",
    "c= 7//2 # 몫 구하기 \n",
    "d= 7%2 # 나머지 구하기\n",
    "print(a,b,c,d)"
   ]
  },
  {
   "cell_type": "code",
   "execution_count": 37,
   "id": "31de359c-b519-4fd6-b7f2-a7179749a0a5",
   "metadata": {},
   "outputs": [
    {
     "name": "stdout",
     "output_type": "stream",
     "text": [
      "가장 시끄러운 층은 = 7 층\n",
      "가장 시끄러운 층은 = 7층 \n"
     ]
    }
   ],
   "source": [
    "m=12\n",
    "a=int(0.2467 * m + 4.159)\n",
    "print('가장','시끄러운','층은','=',a,'층')\n",
    "print('가장 시끄러운 층은 = {}층 '.format(a))"
   ]
  },
  {
   "cell_type": "code",
   "execution_count": 38,
   "id": "4bcbc23f-79ec-4d6d-ac71-67d7cfad8296",
   "metadata": {},
   "outputs": [
    {
     "name": "stdout",
     "output_type": "stream",
     "text": [
      "냉장고 가격은 1272000 원 입니다\n"
     ]
    }
   ],
   "source": [
    "r = 53000 * 24\n",
    "print('냉장고 가격은 {} 원 입니다'.format(r))"
   ]
  },
  {
   "cell_type": "code",
   "execution_count": 48,
   "id": "e5305048-b220-4225-8a16-676b1f111f5f",
   "metadata": {},
   "outputs": [
    {
     "name": "stdout",
     "output_type": "stream",
     "text": [
      "총 지불 해야 할 금액은 16500000원 입니다.\n"
     ]
    }
   ],
   "source": [
    "people = 250\n",
    "tax = 0.1 * 20000 * people * 3 \n",
    "fee = (20000 * 3 * people) + tax     \n",
    "print('총 지불 해야 할 금액은 {}원 입니다.'.format(int(fee)))"
   ]
  },
  {
   "cell_type": "code",
   "execution_count": 47,
   "id": "8dce35d0-46a5-479a-98a5-d1d27768b3ac",
   "metadata": {},
   "outputs": [
    {
     "data": {
      "text/plain": [
       "'0b10110'"
      ]
     },
     "execution_count": 47,
     "metadata": {},
     "output_type": "execute_result"
    }
   ],
   "source": [
    "bin(22) # 22를 2진수로 표현 (ob뒤부터 )"
   ]
  },
  {
   "cell_type": "code",
   "execution_count": 57,
   "id": "11dbdf95-a9f8-416a-9a23-8edfb05e85ea",
   "metadata": {},
   "outputs": [
    {
     "name": "stdout",
     "output_type": "stream",
     "text": [
      "453.0\n"
     ]
    }
   ],
   "source": [
    "AP = 380\n",
    "print(AP * 0.6 + 225)"
   ]
  },
  {
   "cell_type": "code",
   "execution_count": 58,
   "id": "4d284c4f-6ce2-45cd-bf25-3244eed4d481",
   "metadata": {},
   "outputs": [
    {
     "name": "stdout",
     "output_type": "stream",
     "text": [
      "30\n"
     ]
    }
   ],
   "source": [
    "a= 10\n",
    "a+= 20\n",
    "print(a)"
   ]
  },
  {
   "cell_type": "code",
   "execution_count": 63,
   "id": "a5275d62-7f0a-4bea-a882-c479c29dfd3b",
   "metadata": {},
   "outputs": [
    {
     "name": "stdout",
     "output_type": "stream",
     "text": [
      "'안녕?'이라는 그 인사를 듣고 나는 '누구지?'라고 생각했다.\n"
     ]
    }
   ],
   "source": [
    "print(\"'안녕?'이라는 그 인사를 듣고 나는 '누구지?'라고 생각했다.\")\n",
    "print('\"안녕?\"이라는 그 인사를 듣고 나는 \\'누구지'\\라고 생각했다'"
   ]
  },
  {
   "cell_type": "code",
   "execution_count": null,
   "id": "5f9838ee-e025-4817-ab9c-253f2f98e034",
   "metadata": {},
   "outputs": [],
   "source": []
  },
  {
   "cell_type": "code",
   "execution_count": null,
   "id": "6cb0694a-4f8f-4371-91f5-1e89c06ed0c9",
   "metadata": {},
   "outputs": [],
   "source": []
  },
  {
   "cell_type": "code",
   "execution_count": null,
   "id": "144d22a8-c6e0-49d0-8846-de533b3fdf39",
   "metadata": {},
   "outputs": [],
   "source": []
  }
 ],
 "metadata": {
  "kernelspec": {
   "display_name": "Python 3 (ipykernel)",
   "language": "python",
   "name": "python3"
  },
  "language_info": {
   "codemirror_mode": {
    "name": "ipython",
    "version": 3
   },
   "file_extension": ".py",
   "mimetype": "text/x-python",
   "name": "python",
   "nbconvert_exporter": "python",
   "pygments_lexer": "ipython3",
   "version": "3.9.12"
  }
 },
 "nbformat": 4,
 "nbformat_minor": 5
}
