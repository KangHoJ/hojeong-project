{
 "cells": [
  {
   "cell_type": "markdown",
   "id": "f47c19f5-a0b2-4e3a-9906-2438f44e606d",
   "metadata": {},
   "source": [
    "### 어려웠던 문제"
   ]
  },
  {
   "cell_type": "markdown",
   "id": "7aa7042d-2577-4681-aeb3-dc12ef4dc169",
   "metadata": {},
   "source": [
    "- 삼각형으로 숫자 나열하기"
   ]
  },
  {
   "cell_type": "code",
   "execution_count": 7,
   "id": "7127c671-0a48-44f4-ab80-62142bcff6a6",
   "metadata": {},
   "outputs": [
    {
     "name": "stdin",
     "output_type": "stream",
     "text": [
      "숫자를 입력하세요 5\n"
     ]
    },
    {
     "name": "stdout",
     "output_type": "stream",
     "text": [
      "5\t5\t5\t5\t5\t\n",
      "4\t4\t4\t4\t\n",
      "3\t3\t3\t\n",
      "2\t2\t\n",
      "1\t\n"
     ]
    }
   ],
   "source": [
    "number = int(input('숫자를 입력하세요'))\n",
    "for i in range(number,0,-1):\n",
    "    print('{}\\t'.format(i)*i)\n",
    "    "
   ]
  },
  {
   "cell_type": "markdown",
   "id": "97f08b60-2052-4eca-a82e-da711f4852d6",
   "metadata": {},
   "source": [
    "- 홀수만 더하는것 구현하는 프로그램(다시 어려웠음)"
   ]
  },
  {
   "cell_type": "code",
   "execution_count": 36,
   "id": "5f631368-9654-4245-9749-5853e9be0528",
   "metadata": {},
   "outputs": [
    {
     "name": "stdin",
     "output_type": "stream",
     "text": [
      "숫자를 입력하세요 15\n"
     ]
    },
    {
     "name": "stdout",
     "output_type": "stream",
     "text": [
      "1 + 3 + 5 + 7 + 9 + 11 + 13 + 15 = 64 \n"
     ]
    }
   ],
   "source": [
    "a = int(input('숫자를 입력하세요'))\n",
    "\n",
    "result = 1\n",
    "str = '1'\n",
    "for i in range(3,a+1,2):\n",
    "    result += i\n",
    "    str += ' + {}'.format(i)\n",
    "    \n",
    "print(str + ' = {} '.format(result))"
   ]
  },
  {
   "cell_type": "markdown",
   "id": "eeaf9ff4-835e-4d46-af21-edda4897f7e3",
   "metadata": {},
   "source": [
    "- 딕셔너리 연습문제"
   ]
  },
  {
   "cell_type": "code",
   "execution_count": 2,
   "id": "964bde73-3030-415e-a1e4-d4f8ca9b5b26",
   "metadata": {},
   "outputs": [
    {
     "data": {
      "text/plain": [
       "1000"
      ]
     },
     "execution_count": 2,
     "metadata": {},
     "output_type": "execute_result"
    }
   ],
   "source": [
    "dict_list = dict(zip(['사과','오랜지','귤'],[1000,2000,3000]))\n",
    "dict_list['사과']"
   ]
  },
  {
   "cell_type": "code",
   "execution_count": 7,
   "id": "4dd65186-597e-430b-aa48-d54845276af2",
   "metadata": {},
   "outputs": [
    {
     "name": "stdin",
     "output_type": "stream",
     "text": [
      "이름을 입력해주세요 가 나 다 라\n",
      "나이를 입력해주세요 1 2 3 4\n"
     ]
    },
    {
     "data": {
      "text/plain": [
       "{'가': 1, '나': 2, '다': 3, '라': 4}"
      ]
     },
     "execution_count": 7,
     "metadata": {},
     "output_type": "execute_result"
    }
   ],
   "source": [
    "name = input('이름을 입력해주세요').split(' ')\n",
    "age = map(int,input('나이를 입력해주세요').split(' '))\n",
    "dict_a = dict(zip(name,age))\n",
    "dict_a"
   ]
  },
  {
   "cell_type": "markdown",
   "id": "0e2f3ce2-4e00-4316-a3f6-d681152c76b5",
   "metadata": {},
   "source": [
    "- 소수 문제"
   ]
  },
  {
   "cell_type": "code",
   "execution_count": 8,
   "id": "fa9724c5-9bbe-4724-9102-e0a522182946",
   "metadata": {},
   "outputs": [
    {
     "name": "stdout",
     "output_type": "stream",
     "text": [
      "2부터 입력하신 수까지 ~\n"
     ]
    },
    {
     "name": "stdin",
     "output_type": "stream",
     "text": [
      "찾는 범위를 입력하세요 30\n"
     ]
    },
    {
     "name": "stdout",
     "output_type": "stream",
     "text": [
      "2 3 5 7 11 13 17 \n",
      "19 23 29 "
     ]
    }
   ],
   "source": [
    "print('2부터 입력하신 수까지 ~')\n",
    "inData = int(input('찾는 범위를 입력하세요'))\n",
    "i= 2\n",
    "line= 0\n",
    "while i <= inData:\n",
    "    j = 2\n",
    "    while j <= i :           # j랑 i랑 같아지는 시점까지 반복\n",
    "        if i % j ==0:        # i % j를 계속 나누게 되는데 자기자신을 나누기 전까지 0이 안니오면 반복 / 나오면 break\n",
    "            break \n",
    "        j +=1                # 나오면 break 하고 +1 해주고 다시 j 2부터 시작            \n",
    "    if i == j:\n",
    "        print(i , end = ' ')\n",
    "        \n",
    "        line = line +1\n",
    "        if line ==7:\n",
    "            line = 0\n",
    "            print()\n",
    "    i+=1"
   ]
  },
  {
   "cell_type": "code",
   "execution_count": 12,
   "id": "d9377812-cfd6-42b6-ada3-042b2628e151",
   "metadata": {},
   "outputs": [
    {
     "name": "stdin",
     "output_type": "stream",
     "text": [
      "숫자를 입력하세요 5\n"
     ]
    },
    {
     "name": "stdout",
     "output_type": "stream",
     "text": [
      "5\n"
     ]
    }
   ],
   "source": [
    "number = int(input('숫자를 입력하세요'))\n",
    "\n",
    "for i in range(2,number+1,1):\n",
    "    if i % number ==0:\n",
    "        print(i)\n",
    "    else:\n",
    "        continue"
   ]
  }
 ],
 "metadata": {
  "kernelspec": {
   "display_name": "Python 3 (ipykernel)",
   "language": "python",
   "name": "python3"
  },
  "language_info": {
   "codemirror_mode": {
    "name": "ipython",
    "version": 3
   },
   "file_extension": ".py",
   "mimetype": "text/x-python",
   "name": "python",
   "nbconvert_exporter": "python",
   "pygments_lexer": "ipython3",
   "version": "3.9.12"
  }
 },
 "nbformat": 4,
 "nbformat_minor": 5
}
