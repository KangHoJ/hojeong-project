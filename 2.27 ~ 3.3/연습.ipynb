{
 "cells": [
  {
   "cell_type": "markdown",
   "id": "f47c19f5-a0b2-4e3a-9906-2438f44e606d",
   "metadata": {},
   "source": [
    "### 어려웠던 문제"
   ]
  },
  {
   "cell_type": "markdown",
   "id": "7aa7042d-2577-4681-aeb3-dc12ef4dc169",
   "metadata": {},
   "source": [
    "- 삼각형으로 숫자 나열하기"
   ]
  },
  {
   "cell_type": "code",
   "execution_count": 7,
   "id": "7127c671-0a48-44f4-ab80-62142bcff6a6",
   "metadata": {},
   "outputs": [
    {
     "name": "stdin",
     "output_type": "stream",
     "text": [
      "숫자를 입력하세요 5\n"
     ]
    },
    {
     "name": "stdout",
     "output_type": "stream",
     "text": [
      "5\t5\t5\t5\t5\t\n",
      "4\t4\t4\t4\t\n",
      "3\t3\t3\t\n",
      "2\t2\t\n",
      "1\t\n"
     ]
    }
   ],
   "source": [
    "number = int(input('숫자를 입력하세요'))\n",
    "for i in range(number,0,-1):\n",
    "    print('{}\\t'.format(i)*i)\n",
    "    "
   ]
  },
  {
   "cell_type": "markdown",
   "id": "97f08b60-2052-4eca-a82e-da711f4852d6",
   "metadata": {},
   "source": [
    "- 홀수만 더하는것 구현하는 프로그램(다시 어려웠음)"
   ]
  },
  {
   "cell_type": "code",
   "execution_count": 36,
   "id": "5f631368-9654-4245-9749-5853e9be0528",
   "metadata": {},
   "outputs": [
    {
     "name": "stdin",
     "output_type": "stream",
     "text": [
      "숫자를 입력하세요 15\n"
     ]
    },
    {
     "name": "stdout",
     "output_type": "stream",
     "text": [
      "1 + 3 + 5 + 7 + 9 + 11 + 13 + 15 = 64 \n"
     ]
    }
   ],
   "source": [
    "a = int(input('숫자를 입력하세요'))\n",
    "\n",
    "result = 1\n",
    "str = '1'\n",
    "for i in range(3,a+1,2):\n",
    "    result += i\n",
    "    str += ' + {}'.format(i)\n",
    "    \n",
    "print(str + ' = {} '.format(result))"
   ]
  },
  {
   "cell_type": "code",
   "execution_count": 43,
   "id": "7141d486-f1e5-44ba-b19c-52af12d4c3b8",
   "metadata": {},
   "outputs": [
    {
     "ename": "IndentationError",
     "evalue": "expected an indented block (1956564369.py, line 2)",
     "output_type": "error",
     "traceback": [
      "\u001b[1;36m  Input \u001b[1;32mIn [44]\u001b[1;36m\u001b[0m\n\u001b[1;33m    result = 0\u001b[0m\n\u001b[1;37m    ^\u001b[0m\n\u001b[1;31mIndentationError\u001b[0m\u001b[1;31m:\u001b[0m expected an indented block\n"
     ]
    }
   ],
   "source": [
    "result = 0\n",
    "def solution(n):\n",
    "    for i in range(1,n+1,2):\n",
    "        result += i \n",
    "    return result\n",
    "\n",
    "solution(5)"
   ]
  },
  {
   "cell_type": "code",
   "execution_count": 62,
   "id": "87e116d9-c0e2-4efe-9ee4-7cc36394565c",
   "metadata": {},
   "outputs": [
    {
     "ename": "SyntaxError",
     "evalue": "invalid syntax (3976789746.py, line 4)",
     "output_type": "error",
     "traceback": [
      "\u001b[1;36m  Input \u001b[1;32mIn [62]\u001b[1;36m\u001b[0m\n\u001b[1;33m    +=result.append(i)\u001b[0m\n\u001b[1;37m    ^\u001b[0m\n\u001b[1;31mSyntaxError\u001b[0m\u001b[1;31m:\u001b[0m invalid syntax\n"
     ]
    }
   ],
   "source": [
    "result = []\n",
    "n = int(input('숫자'))\n",
    "for i in range(1,n+1,2):\n",
    "     result.append(i)"
   ]
  },
  {
   "cell_type": "code",
   "execution_count": 63,
   "id": "a5435995-dfaf-4cd0-aee2-a988731e5f7d",
   "metadata": {},
   "outputs": [
    {
     "name": "stdin",
     "output_type": "stream",
     "text": [
      "숫자 10\n"
     ]
    },
    {
     "data": {
      "text/plain": [
       "[1, 3, 5, 7, 9]"
      ]
     },
     "execution_count": 63,
     "metadata": {},
     "output_type": "execute_result"
    }
   ],
   "source": [
    "n = int(input('숫자'))\n",
    "list(range(1,n+1,2))"
   ]
  }
 ],
 "metadata": {
  "kernelspec": {
   "display_name": "Python 3 (ipykernel)",
   "language": "python",
   "name": "python3"
  },
  "language_info": {
   "codemirror_mode": {
    "name": "ipython",
    "version": 3
   },
   "file_extension": ".py",
   "mimetype": "text/x-python",
   "name": "python",
   "nbconvert_exporter": "python",
   "pygments_lexer": "ipython3",
   "version": "3.9.12"
  }
 },
 "nbformat": 4,
 "nbformat_minor": 5
}
