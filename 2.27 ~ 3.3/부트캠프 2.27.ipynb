{
 "cells": [
  {
   "cell_type": "markdown",
   "id": "0cdfc0cc-ac40-4c3a-9c06-26a761d4bcdf",
   "metadata": {},
   "source": [
    "## 예외처리"
   ]
  },
  {
   "cell_type": "code",
   "execution_count": 2,
   "id": "8ebad3b2-c084-402e-8655-f5f4af1ac158",
   "metadata": {},
   "outputs": [
    {
     "name": "stdout",
     "output_type": "stream",
     "text": [
      "0으로 나눌수 없습니다\n"
     ]
    }
   ],
   "source": [
    "try:\n",
    "    result = 1123/0\n",
    "    print('실행이안됨')\n",
    "except:\n",
    "    print('0으로 나눌수 없습니다')"
   ]
  },
  {
   "cell_type": "code",
   "execution_count": 17,
   "id": "ff9b9dfe-26ec-4f83-9dea-910c220ecd67",
   "metadata": {},
   "outputs": [
    {
     "name": "stdin",
     "output_type": "stream",
     "text": [
      "숫자 두개를 입력하세요. das\n"
     ]
    },
    {
     "name": "stdout",
     "output_type": "stream",
     "text": [
      "값을 잘못 입력하셨습니다\n"
     ]
    }
   ],
   "source": [
    "try :\n",
    "    x , y = input('숫자 두개를 입력하세요.').split(',')\n",
    "except :\n",
    "    print('값을 잘못 입력하셨습니다')"
   ]
  },
  {
   "cell_type": "code",
   "execution_count": 19,
   "id": "a2bf4aab-ba2a-4df1-a562-a461df866e95",
   "metadata": {},
   "outputs": [
    {
     "name": "stderr",
     "output_type": "stream",
     "text": [
      "UsageError: Can't use statement directly after '%%time'!\n"
     ]
    }
   ],
   "source": [
    "%%time  #걸리는 시간 구함 \n",
    "\n",
    "a = []\n",
    "for i in range(1000):\n",
    "    a.append((_,_,_))"
   ]
  },
  {
   "cell_type": "code",
   "execution_count": null,
   "id": "d704d1a2-9c01-4058-b955-57123e4b8cf6",
   "metadata": {},
   "outputs": [
    {
     "name": "stdout",
     "output_type": "stream",
     "text": [
      "0으로 나눌 수 없습니다.\n",
      "division by zero\n"
     ]
    }
   ],
   "source": [
    "x = range(4)\n",
    "\n",
    "try:\n",
    "    for i in range(4):\n",
    "        y = 10 / x[i]\n",
    "except ZeroDivisionError as e:\n",
    "    print('0으로 나눌 수 없습니다.')\n",
    "    print(e)\n",
    "    \n",
    "except IndexError as e:\n",
    "    print('인덱스 에러 발생')\n",
    "    print(e)"
   ]
  },
  {
   "cell_type": "code",
   "execution_count": 21,
   "id": "f2a96847-86b2-491c-be21-e90bb11c628d",
   "metadata": {},
   "outputs": [
    {
     "name": "stdout",
     "output_type": "stream",
     "text": [
      "인덱스 에러 발생\n",
      "range object index out of range\n"
     ]
    }
   ],
   "source": [
    "x = range(1,4)\n",
    "\n",
    "try:\n",
    "    for i in range(4):\n",
    "        y = 10 / x[i]\n",
    "except ZeroDivisionError as e:\n",
    "    print('0으로 나눌 수 없습니다.')\n",
    "    print(e)\n",
    "    \n",
    "except IndexError as e:\n",
    "    print('인덱스 에러 발생')\n",
    "    print(e)"
   ]
  },
  {
   "cell_type": "code",
   "execution_count": 23,
   "id": "b6c8b976-9fdc-461e-bf5f-b48ff4b30fa1",
   "metadata": {},
   "outputs": [
    {
     "name": "stdout",
     "output_type": "stream",
     "text": [
      "에러 없이 실행되었습니다\n"
     ]
    }
   ],
   "source": [
    "x = range(1,5)\n",
    "\n",
    "try:\n",
    "    for i in range(4):\n",
    "        y = 10 / x[i]\n",
    "except ZeroDivisionError as e:\n",
    "    print('0으로 나눌 수 없습니다.')\n",
    "    print(e)   \n",
    "except IndexError as e:\n",
    "    print('인덱스 에러 발생')\n",
    "    print(e)\n",
    "else:\n",
    "    print('에러 없이 실행되었습니다')\n"
   ]
  },
  {
   "cell_type": "code",
   "execution_count": 41,
   "id": "e6e7b0d2-44b3-4953-99d6-307dfb93c2ec",
   "metadata": {},
   "outputs": [
    {
     "name": "stdin",
     "output_type": "stream",
     "text": [
      "값을 입력하세요 10 0\n"
     ]
    },
    {
     "name": "stdout",
     "output_type": "stream",
     "text": [
      "값을 잘못 입력하셨습니다\n",
      "프로그램을 종료합니다\n"
     ]
    }
   ],
   "source": [
    "try:\n",
    "    a,b = map(int,(input('값을 입력하세요')).split(','))\n",
    "    result = a/b\n",
    "\n",
    "except ZeroDivisionError :\n",
    "    print('0으로 나눌 수 없습니다')\n",
    "except ValueError :\n",
    "    print('값을 잘못 입력하셨습니다')\n",
    "else:\n",
    "    print(result)\n",
    "finally:\n",
    "    print('프로그램을 종료합니다')"
   ]
  },
  {
   "cell_type": "code",
   "execution_count": null,
   "id": "c1c8ea73-8e8e-4b5b-8b0d-c4c35b5a007e",
   "metadata": {},
   "outputs": [],
   "source": [
    "try:\n",
    "    raise KeyError\n",
    "finally:\n",
    "    print('무조건 실행됩니다.')\n",
    "    "
   ]
  },
  {
   "cell_type": "markdown",
   "id": "69e4cbbb-86bc-4c17-9a02-58c01121f874",
   "metadata": {},
   "source": [
    "## API 데이터 수집"
   ]
  },
  {
   "cell_type": "markdown",
   "id": "77dd8973-b855-478d-aed3-7f9f5b3c798f",
   "metadata": {},
   "source": [
    "- API에 대한 서벙서의 물리적인 접근으로부 시작\n",
    "- 서버는 모든 작업에 활용(웹서비스 제공 등)"
   ]
  },
  {
   "cell_type": "markdown",
   "id": "7e9e0212-6325-4219-a9b5-2d33006c4ab1",
   "metadata": {},
   "source": [
    "## HTTP"
   ]
  },
  {
   "cell_type": "markdown",
   "id": "ff0b84ce-d707-4eff-a6fe-3fc620ac55a0",
   "metadata": {},
   "source": [
    "- 네트워크 통신을 하기 위한 하나의 약속"
   ]
  },
  {
   "cell_type": "markdown",
   "id": "145e04c0-8113-4e8b-b8a9-7200d63dab3d",
   "metadata": {},
   "source": [
    "## URI"
   ]
  },
  {
   "cell_type": "markdown",
   "id": "21b7604a-20e6-422c-a1ef-5fa145fc212f",
   "metadata": {},
   "source": [
    "- 인터넷에 있는 자원을 나타내는 유일한 주소"
   ]
  },
  {
   "cell_type": "markdown",
   "id": "8bb29d14-04a3-4d15-b827-5b6cd583eb62",
   "metadata": {},
   "source": [
    "### 응답 콘텐츠 형식"
   ]
  },
  {
   "cell_type": "markdown",
   "id": "6f56533e-445c-4331-8a01-aba4ab5bbdce",
   "metadata": {},
   "source": [
    "- 직렬화 -> 객체를 연속된 bytes 등으로 변환(네크워크로 보내기 위해)\n",
    "- type -> JSON , XML\n",
    "- Json -> 정보를 알기위한 규격 라이브러리"
   ]
  },
  {
   "cell_type": "markdown",
   "id": "dd3118a0-335d-4224-bc00-ec2f9f0b6ff0",
   "metadata": {},
   "source": [
    "## API실습"
   ]
  },
  {
   "cell_type": "code",
   "execution_count": 57,
   "id": "656c6a88-7c8c-40cc-aff0-8346abb05f77",
   "metadata": {},
   "outputs": [
    {
     "name": "stdout",
     "output_type": "stream",
     "text": [
      "200\n"
     ]
    }
   ],
   "source": [
    "# get() 메서드 -> 첫번째는 URL , 두번쨰는 keyword\n",
    "import requests \n",
    "\n",
    "response = requests.get(\"https://api.github.com/repositories\",headers={'Accept': \"application/vnd.github+json\"})\n",
    "\n",
    "print(response.status_code) # 통신이 잘 되었는지 확인하는 코드 "
   ]
  },
  {
   "cell_type": "code",
   "execution_count": 65,
   "id": "958963c7-7b89-4a00-b712-3493551c18ab",
   "metadata": {},
   "outputs": [
    {
     "name": "stdout",
     "output_type": "stream",
     "text": [
      "인코딩 : utf-8\n",
      "콘텐처 타입: application/json; charset=utf-8\n",
      "서버 : GitHub.com\n"
     ]
    }
   ],
   "source": [
    "print('인코딩 : {}'.format(response.encoding))\n",
    "print('콘텐처 타입: {}'.format(response.headers['content-Type']))\n",
    "print('서버 : {}'.format(response.headers['server']))"
   ]
  },
  {
   "cell_type": "code",
   "execution_count": 68,
   "id": "d1367f0a-9ceb-4660-a716-18c5eb49394d",
   "metadata": {},
   "outputs": [
    {
     "name": "stdout",
     "output_type": "stream",
     "text": [
      "{\n",
      "  \"id\": 1,\n",
      "  \"node_id\": \"MDEwOlJlcG9zaXRvcnkx\",\n",
      "  \"name\": \"grit\",\n",
      "  \"full_name\": \"mojombo/grit\",\n",
      "  \"private\": false,\n",
      "  \"owner\": {\n",
      "    \"login\": \"mojombo\",\n",
      "    \"id\": 1,\n",
      "    \"node_id\": \"MDQ6VXNlcjE=\",\n",
      "\n"
     ]
    }
   ],
   "source": [
    "import json\n",
    "print(json.dumps(response.json()[0],indent=2)[:200]) # 딕셔너리 형태로 만들어서 200자만 봄"
   ]
  },
  {
   "cell_type": "code",
   "execution_count": 76,
   "id": "a83a4543-59f5-4593-8b60-4c55d70489db",
   "metadata": {},
   "outputs": [
    {
     "data": {
      "text/plain": [
       "{'Server': 'GitHub.com', 'Date': 'Mon, 27 Feb 2023 05:42:20 GMT', 'Content-Type': 'application/json; charset=utf-8', 'Cache-Control': 'public, max-age=60, s-maxage=60', 'Vary': 'Accept, Accept-Encoding, Accept, X-Requested-With', 'ETag': 'W/\"3c54a93639294e719c717ee9fb29aa31617be2a77aed1b49a769e1b1c9dd5ef5\"', 'X-GitHub-Media-Type': 'github.v3; format=json', 'Link': '<https://api.github.com/repositories?since=369>; rel=\"next\", <https://api.github.com/repositories{?since}>; rel=\"first\"', 'x-github-api-version-selected': '2022-11-28', 'Access-Control-Expose-Headers': 'ETag, Link, Location, Retry-After, X-GitHub-OTP, X-RateLimit-Limit, X-RateLimit-Remaining, X-RateLimit-Used, X-RateLimit-Resource, X-RateLimit-Reset, X-OAuth-Scopes, X-Accepted-OAuth-Scopes, X-Poll-Interval, X-GitHub-Media-Type, X-GitHub-SSO, X-GitHub-Request-Id, Deprecation, Sunset', 'Access-Control-Allow-Origin': '*', 'Strict-Transport-Security': 'max-age=31536000; includeSubdomains; preload', 'X-Frame-Options': 'deny', 'X-Content-Type-Options': 'nosniff', 'X-XSS-Protection': '0', 'Referrer-Policy': 'origin-when-cross-origin, strict-origin-when-cross-origin', 'Content-Security-Policy': \"default-src 'none'\", 'Content-Encoding': 'gzip', 'X-RateLimit-Limit': '60', 'X-RateLimit-Remaining': '19', 'X-RateLimit-Reset': '1677477481', 'X-RateLimit-Resource': 'core', 'X-RateLimit-Used': '41', 'Accept-Ranges': 'bytes', 'Transfer-Encoding': 'chunked', 'X-GitHub-Request-Id': 'DD92:4F39:3D53B9:55E410:63FC42BB'}"
      ]
     },
     "execution_count": 76,
     "metadata": {},
     "output_type": "execute_result"
    }
   ],
   "source": [
    "response.headers"
   ]
  },
  {
   "cell_type": "code",
   "execution_count": 81,
   "id": "04dd7319-70cf-4e58-b0c2-149d8e3d6480",
   "metadata": {},
   "outputs": [
    {
     "name": "stdout",
     "output_type": "stream",
     "text": [
      "422\n"
     ]
    }
   ],
   "source": [
    "response = requests.get('https://api.github.com/search/repositories')\n",
    "print(response.status_code) #서버가 처리를 못하는 요청인경우"
   ]
  },
  {
   "cell_type": "markdown",
   "id": "8f923f2c-4747-4755-b979-a2381c053e5b",
   "metadata": {},
   "source": [
    "### 새로운 API 가져오기"
   ]
  },
  {
   "cell_type": "markdown",
   "id": "4c560e0e-597e-400c-91e4-e076b192270f",
   "metadata": {},
   "source": [
    "- parames 적는 공식    params={'q: '찾는 규격 이름'+language:python'}"
   ]
  },
  {
   "cell_type": "code",
   "execution_count": 91,
   "id": "598b4dea-0ead-453a-b7b0-9d6361ccf39a",
   "metadata": {},
   "outputs": [
    {
     "name": "stdout",
     "output_type": "stream",
     "text": [
      "200\n"
     ]
    }
   ],
   "source": [
    "response = requests.get('https://api.github.com/search/repositories',\n",
    "                       params ={'q' :'data_science+language:python'},\n",
    "                        headers={'Accept':\"application/vnd.github+json\"})\n",
    "print(response.status_code)"
   ]
  },
  {
   "cell_type": "code",
   "execution_count": 92,
   "id": "fbf348ec-7dc1-4de2-a24d-dedd4de6d632",
   "metadata": {},
   "outputs": [
    {
     "data": {
      "text/plain": [
       "{'Server': 'GitHub.com', 'Date': 'Mon, 27 Feb 2023 07:12:31 GMT', 'Content-Type': 'application/json; charset=utf-8', 'Cache-Control': 'no-cache', 'Vary': 'Accept, Accept-Encoding, Accept, X-Requested-With', 'X-GitHub-Media-Type': 'github.v3; format=json', 'Link': '<https://api.github.com/search/repositories?q=data_science%2Blanguage%3Apython&page=2>; rel=\"next\", <https://api.github.com/search/repositories?q=data_science%2Blanguage%3Apython&page=34>; rel=\"last\"', 'x-github-api-version-selected': '2022-11-28', 'Access-Control-Expose-Headers': 'ETag, Link, Location, Retry-After, X-GitHub-OTP, X-RateLimit-Limit, X-RateLimit-Remaining, X-RateLimit-Used, X-RateLimit-Resource, X-RateLimit-Reset, X-OAuth-Scopes, X-Accepted-OAuth-Scopes, X-Poll-Interval, X-GitHub-Media-Type, X-GitHub-SSO, X-GitHub-Request-Id, Deprecation, Sunset', 'Access-Control-Allow-Origin': '*', 'Strict-Transport-Security': 'max-age=31536000; includeSubdomains; preload', 'X-Frame-Options': 'deny', 'X-Content-Type-Options': 'nosniff', 'X-XSS-Protection': '0', 'Referrer-Policy': 'origin-when-cross-origin, strict-origin-when-cross-origin', 'Content-Security-Policy': \"default-src 'none'\", 'Content-Encoding': 'gzip', 'X-RateLimit-Limit': '10', 'X-RateLimit-Remaining': '8', 'X-RateLimit-Reset': '1677481957', 'X-RateLimit-Resource': 'search', 'X-RateLimit-Used': '2', 'Accept-Ranges': 'bytes', 'Transfer-Encoding': 'chunked', 'X-GitHub-Request-Id': 'E226:5FB1:25736B:358455:63FC57DE'}"
      ]
     },
     "execution_count": 92,
     "metadata": {},
     "output_type": "execute_result"
    }
   ],
   "source": [
    "response.headers"
   ]
  },
  {
   "cell_type": "code",
   "execution_count": 93,
   "id": "2c3f4b73-52e9-46ac-89e4-6986d3ca4bc7",
   "metadata": {},
   "outputs": [
    {
     "data": {
      "text/plain": [
       "'application/json; charset=utf-8'"
      ]
     },
     "execution_count": 93,
     "metadata": {},
     "output_type": "execute_result"
    }
   ],
   "source": [
    "response.headers['content-Type'] #어떻게 생긴 애인지 확인 함 -> json으로 되어있음"
   ]
  },
  {
   "cell_type": "code",
   "execution_count": null,
   "id": "6386b3cb-709d-41e7-8be7-06f844c930cd",
   "metadata": {},
   "outputs": [],
   "source": [
    "import json #문자열을 파이썬의 자료형 형태로 변환해줌\n",
    "response.json() #response 를 json() 매서드를 활용해 dict 타입으로 변경"
   ]
  },
  {
   "cell_type": "code",
   "execution_count": 94,
   "id": "981d75ba-320d-4750-bf04-71e8e9b39cb2",
   "metadata": {},
   "outputs": [
    {
     "data": {
      "text/plain": [
       "dict_keys(['total_count', 'incomplete_results', 'items'])"
      ]
     },
     "execution_count": 94,
     "metadata": {},
     "output_type": "execute_result"
    }
   ],
   "source": [
    "response.json().keys()  # response 를 json으로 구조화 한것중 keys만 출력"
   ]
  },
  {
   "cell_type": "code",
   "execution_count": 98,
   "id": "83f2ee87-097d-45b0-ae1b-cd2bf1cbdd97",
   "metadata": {},
   "outputs": [
    {
     "data": {
      "text/plain": [
       "30"
      ]
     },
     "execution_count": 98,
     "metadata": {},
     "output_type": "execute_result"
    }
   ],
   "source": [
    "len(response.json()['items'])"
   ]
  },
  {
   "cell_type": "code",
   "execution_count": 103,
   "id": "6c90e6ec-4484-41f5-b6c8-1eddc79e1849",
   "metadata": {},
   "outputs": [
    {
     "data": {
      "text/plain": [
       "26382146"
      ]
     },
     "execution_count": 105,
     "metadata": {},
     "output_type": "execute_result"
    }
   ],
   "source": [
    "response.json()['items'][0]['name'] #items 중 -> 0번째 인덱스 중 -> name은 무엇인지"
   ]
  },
  {
   "cell_type": "code",
   "execution_count": 104,
   "id": "7fea9f8a-ee6a-4d25-aed7-29c4ca0d881c",
   "metadata": {},
   "outputs": [
    {
     "data": {
      "text/plain": [
       "26382146"
      ]
     },
     "execution_count": 104,
     "metadata": {},
     "output_type": "execute_result"
    }
   ],
   "source": [
    "response.json()['items'][0]['id'] #items 중 -> 0번쨰 인덱스 중 -> id는 무엇인지"
   ]
  },
  {
   "cell_type": "markdown",
   "id": "f2e61391-0d9a-484e-9f79-74b96a4e547d",
   "metadata": {},
   "source": [
    "## 새로운 API 가져오기(2) - Issues "
   ]
  },
  {
   "cell_type": "markdown",
   "id": "bd43de82-b73a-484f-9b2d-cdeee67f357b",
   "metadata": {},
   "source": [
    "- /repos/{owner}/{repo}/issues  (작성 형식)"
   ]
  },
  {
   "cell_type": "code",
   "execution_count": 148,
   "id": "953ab4a9-1d20-4b1a-b901-6f77d46cf7b1",
   "metadata": {},
   "outputs": [
    {
     "name": "stdout",
     "output_type": "stream",
     "text": [
      "403\n",
      "2\n"
     ]
    }
   ],
   "source": [
    "response = requests.get('https://api.github.com/repos/pytorch/pytorch/issues',\n",
    "                        headers={'Accept': \"application/vnd.github+json\"}) \n",
    "# get방식으로 가져오고 owner , repo 부분에 내가 가져오고 싶은 issue 정보 넣어 url 만들고 accept 넣으면 된다\n",
    "print(response.status_code) # 실행 잘 되었는지\n",
    "print(len(response.json())) # 총 30개만 가지고왔음"
   ]
  },
  {
   "cell_type": "code",
   "execution_count": 149,
   "id": "960f2f32-4fc7-46de-95c6-a5ea8aae4651",
   "metadata": {},
   "outputs": [
    {
     "data": {
      "text/plain": [
       "{}"
      ]
     },
     "execution_count": 149,
     "metadata": {},
     "output_type": "execute_result"
    }
   ],
   "source": [
    "response.links #응답 페이지 수에대한 세부 정보를 제공\n",
    "\n",
    "# next 는 30개 결과를 가져다주는 URL 제공\n",
    "# last 는 총 검색 결과가 몇 개 있는지를 나타내는 마지막 페이지 URL 제공"
   ]
  },
  {
   "cell_type": "code",
   "execution_count": 150,
   "id": "2a327978-bce0-427b-a985-257fff38b335",
   "metadata": {},
   "outputs": [],
   "source": [
    "# 다음 링크가 있다면 계속 API 호출하는 함수 만들기\n",
    "def get_all_pages(url, params=None, headers=None):\n",
    "    output_json=[] #결과를 담음\n",
    "    response = requests.get(url, params=params, headers=headers) # 요청을 함\n",
    "    if response.status_code == 200: # 성공이라면\n",
    "        output_json = response.json() # response.json() 결과를 담아라\n",
    "        if 'next' in response.links: \n",
    "            next_url = response.links['next']['url']\n",
    "            if next_url is not None:\n",
    "                output_json += get_all_pages(next_url, params, headers)\n",
    "    return output_json"
   ]
  },
  {
   "cell_type": "code",
   "execution_count": 151,
   "id": "6f464d24-b294-424c-bdb7-39345e62a3b3",
   "metadata": {},
   "outputs": [
    {
     "data": {
      "text/html": [
       "<div>\n",
       "<style scoped>\n",
       "    .dataframe tbody tr th:only-of-type {\n",
       "        vertical-align: middle;\n",
       "    }\n",
       "\n",
       "    .dataframe tbody tr th {\n",
       "        vertical-align: top;\n",
       "    }\n",
       "\n",
       "    .dataframe thead th {\n",
       "        text-align: right;\n",
       "    }\n",
       "</style>\n",
       "<table border=\"1\" class=\"dataframe\">\n",
       "  <thead>\n",
       "    <tr style=\"text-align: right;\">\n",
       "      <th></th>\n",
       "    </tr>\n",
       "  </thead>\n",
       "  <tbody>\n",
       "  </tbody>\n",
       "</table>\n",
       "</div>"
      ],
      "text/plain": [
       "Empty DataFrame\n",
       "Columns: []\n",
       "Index: []"
      ]
     },
     "execution_count": 151,
     "metadata": {},
     "output_type": "execute_result"
    }
   ],
   "source": [
    "import pandas as pd\n",
    "\n",
    "out = get_all_pages('https://api.github.com/repos/pytorch/pytorch/issues',params={'since': '2022-01-01T10:00:01Z',\n",
    "        'sorted': 'created','direction': 'desc'},headers={'Accept': \"application/vnd.github+json\"})\n",
    "\n",
    "# params 은 2022-01-01 이후에 데이터만 가지고오며 셍성된 것들중 내림차순으로 정렬을 한다\n",
    "\n",
    "df = pd.DataFrame(out) #호출값을 데이터 프레임으로 만듬 \n",
    "df['id','created_at','body']].sample(1) # id,created_at,body 컬럼을 가지는거 하나만 추출해봄 "
   ]
  },
  {
   "cell_type": "code",
   "execution_count": 157,
   "id": "6c42f18e-0c0f-463a-bb7d-d3463e7ffc2f",
   "metadata": {},
   "outputs": [
    {
     "name": "stdout",
     "output_type": "stream",
     "text": [
      "x-Ratelimit_limit 60\n",
      "x-Ratelimit_Remaining 0\n"
     ]
    }
   ],
   "source": [
    "print('x-Ratelimit_limit',response.headers['X-Ratelimit-Limit'])\n",
    "print('x-Ratelimit_Remaining',response.headers['X-Ratelimit-Remaining'])\n",
    "# 시간당 몇개 주는지 "
   ]
  },
  {
   "cell_type": "code",
   "execution_count": null,
   "id": "2b4a64bf-ce46-433f-af9e-10757ec08c89",
   "metadata": {},
   "outputs": [],
   "source": [
    "# 호출 속도 조절 코드 (속도 조절을 하지 않으면 어떤 api는 너무 빨라서 비정상적 접근이라 출력할수도있음)\n",
    "def handle_rate_limits(response):\n",
    "    now = datetime.now()\n",
    "    reset_time = dt.fromtimestamp(int(response.headers['X-RateLimit-Reset']))\n",
    "    remaining_requests = response.headers['X-Ratelimit-Remaining']\n",
    "    remaining_time =(reset_time-now).total_seconds()\n",
    "    intervals = remaining_time / (1.0 +int(remaining_requests))\n",
    "    \n",
    "    print('Sleeping for', intervals)\n",
    "    time.sleep(intervals)\n",
    "    return True"
   ]
  },
  {
   "cell_type": "code",
   "execution_count": null,
   "id": "9e517179-9941-497c-a62c-12b077148e9f",
   "metadata": {},
   "outputs": [],
   "source": []
  },
  {
   "cell_type": "code",
   "execution_count": null,
   "id": "7d12bb7e-a9e3-49f8-8d2c-bf90d0225ac0",
   "metadata": {},
   "outputs": [],
   "source": []
  },
  {
   "cell_type": "code",
   "execution_count": null,
   "id": "8256c8d7-db4d-4a13-8230-b74fe244a088",
   "metadata": {},
   "outputs": [],
   "source": []
  }
 ],
 "metadata": {
  "kernelspec": {
   "display_name": "Python 3 (ipykernel)",
   "language": "python",
   "name": "python3"
  },
  "language_info": {
   "codemirror_mode": {
    "name": "ipython",
    "version": 3
   },
   "file_extension": ".py",
   "mimetype": "text/x-python",
   "name": "python",
   "nbconvert_exporter": "python",
   "pygments_lexer": "ipython3",
   "version": "3.9.12"
  }
 },
 "nbformat": 4,
 "nbformat_minor": 5
}
