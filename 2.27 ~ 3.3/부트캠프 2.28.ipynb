{
 "cells": [
  {
   "cell_type": "markdown",
   "id": "795a70f3-c3bb-46ba-8af1-3e370b1c2478",
   "metadata": {},
   "source": [
    "## - API 실습 "
   ]
  },
  {
   "cell_type": "code",
   "execution_count": 17,
   "id": "bfc7e1ca-33d0-4d19-9711-ee80b6037127",
   "metadata": {},
   "outputs": [
    {
     "name": "stdout",
     "output_type": "stream",
     "text": [
      "200\n"
     ]
    }
   ],
   "source": [
    "import requests \n",
    "\n",
    "response = requests.get(  'http://api.kcisa.kr/openapi/service/rest/meta4/getKCPG0504?serviceKey=9404a613-7b01-4408-962b-0f5bc50c3e3b&numOfRows=100&pageNo=10' ,\n",
    "                        headers={'accept': 'application/json'})\n",
    "\n",
    "print(response.status_code)"
   ]
  },
  {
   "cell_type": "code",
   "execution_count": 18,
   "id": "f1d5ed1d-8e82-4e58-a047-c6a11c1fcb32",
   "metadata": {},
   "outputs": [
    {
     "data": {
      "text/plain": [
       "{'Server': 'nginx', 'Date': 'Tue, 28 Feb 2023 02:34:26 GMT', 'Content-Type': 'application/json; charset=utf-8', 'Transfer-Encoding': 'chunked', 'Connection': 'keep-alive', 'Vary': 'Accept-Encoding', 'X-Warever-Transaction-Id': '645ab748-5716-4d0c-9ab7-485716fd0ce4', 'X-Rate-Limit-Limit': '10', 'X-Rate-Limit-Remaining': '9', 'X-Rate-Limit-Reset': '1677551667368', 'X-Quota-Limit': '1000', 'X-Quota-Remaining': '997', 'X-Quota-Reset': '1677637245220', 'Content-Encoding': 'gzip'}"
      ]
     },
     "execution_count": 18,
     "metadata": {},
     "output_type": "execute_result"
    }
   ],
   "source": [
    "response.headers # 헤더 확인"
   ]
  },
  {
   "cell_type": "code",
   "execution_count": 20,
   "id": "fe4addff-e3ff-4a88-b26d-abcef99cfcc7",
   "metadata": {},
   "outputs": [
    {
     "data": {
      "text/plain": [
       "2"
      ]
     },
     "execution_count": 20,
     "metadata": {},
     "output_type": "execute_result"
    }
   ],
   "source": [
    "len(response.json()['response'])"
   ]
  },
  {
   "cell_type": "code",
   "execution_count": null,
   "id": "499945ac-e50f-4613-809e-7a61918fd53c",
   "metadata": {},
   "outputs": [],
   "source": [
    "response.json()['response']"
   ]
  },
  {
   "cell_type": "code",
   "execution_count": 34,
   "id": "f9607d4b-5420-4049-821b-b75732567e9e",
   "metadata": {},
   "outputs": [
    {
     "data": {
      "text/html": [
       "<div>\n",
       "<style scoped>\n",
       "    .dataframe tbody tr th:only-of-type {\n",
       "        vertical-align: middle;\n",
       "    }\n",
       "\n",
       "    .dataframe tbody tr th {\n",
       "        vertical-align: top;\n",
       "    }\n",
       "\n",
       "    .dataframe thead th {\n",
       "        text-align: right;\n",
       "    }\n",
       "</style>\n",
       "<table border=\"1\" class=\"dataframe\">\n",
       "  <thead>\n",
       "    <tr style=\"text-align: right;\">\n",
       "      <th></th>\n",
       "      <th>title</th>\n",
       "      <th>alternativeTitle</th>\n",
       "      <th>creator</th>\n",
       "      <th>regDate</th>\n",
       "      <th>collectionDb</th>\n",
       "      <th>subjectCategory</th>\n",
       "      <th>subjectKeyword</th>\n",
       "      <th>extent</th>\n",
       "      <th>description</th>\n",
       "      <th>spatialCoverage</th>\n",
       "      <th>temporalCoverage</th>\n",
       "      <th>person</th>\n",
       "      <th>language</th>\n",
       "      <th>sourceTitle</th>\n",
       "      <th>referenceIdentifier</th>\n",
       "      <th>rights</th>\n",
       "      <th>copyrightOthers</th>\n",
       "      <th>url</th>\n",
       "      <th>contributor</th>\n",
       "    </tr>\n",
       "  </thead>\n",
       "  <tbody>\n",
       "    <tr>\n",
       "      <th>0</th>\n",
       "      <td>제2회 국제전기자동차엑스포</td>\n",
       "      <td>None</td>\n",
       "      <td>대한민국 정책브리핑</td>\n",
       "      <td>2021-01-05 21:22:43</td>\n",
       "      <td>지역축제</td>\n",
       "      <td>기타</td>\n",
       "      <td>None</td>\n",
       "      <td>None</td>\n",
       "      <td>전기자동차 테스트베드로서 최적의 조건을 갖춘 인증사이트인 제주도는 2030년까지 도...</td>\n",
       "      <td>제주도 제주시</td>\n",
       "      <td>None</td>\n",
       "      <td>None</td>\n",
       "      <td>Kor</td>\n",
       "      <td>http://www.ievexpo.org/</td>\n",
       "      <td>http://www.mcst.go.kr/attachFiles/cultureInfoC...</td>\n",
       "      <td>담당부서/담당자:국제전기자동차엑스포 조직위원회 담당자 | 064-702-1580</td>\n",
       "      <td>None</td>\n",
       "      <td>http://www.mcst.go.kr/web/s_culture/festival/f...</td>\n",
       "      <td>None</td>\n",
       "    </tr>\n",
       "    <tr>\n",
       "      <th>1</th>\n",
       "      <td>목포 꽃피는 유달산 축제 2015</td>\n",
       "      <td>None</td>\n",
       "      <td>대한민국 정책브리핑</td>\n",
       "      <td>2021-01-05 21:22:43</td>\n",
       "      <td>지역축제</td>\n",
       "      <td>생태자원</td>\n",
       "      <td>None</td>\n",
       "      <td>None</td>\n",
       "      <td>목포시에서 유달산 꽃 개화시기에 맞춰 4월 초순경 ‘유달산 꽃 축제’를 개최한다. ...</td>\n",
       "      <td>전라남도 목포시</td>\n",
       "      <td>None</td>\n",
       "      <td>None</td>\n",
       "      <td>Kor</td>\n",
       "      <td>&lt;a href=\"http://tour.mokpo.go.kr/festival_even...</td>\n",
       "      <td>http://www.mcst.go.kr/attachFiles/cultureInfoC...</td>\n",
       "      <td>담당부서/담당자:목포시축제추진위원회 관리자 | 목포시 관광기획과 061-270-8442</td>\n",
       "      <td>None</td>\n",
       "      <td>http://www.mcst.go.kr/web/s_culture/festival/f...</td>\n",
       "      <td>None</td>\n",
       "    </tr>\n",
       "    <tr>\n",
       "      <th>2</th>\n",
       "      <td>팔공산 벚꽃축제 2015</td>\n",
       "      <td>None</td>\n",
       "      <td>대한민국 정책브리핑</td>\n",
       "      <td>2021-01-05 21:22:43</td>\n",
       "      <td>지역축제</td>\n",
       "      <td>생태자원</td>\n",
       "      <td>None</td>\n",
       "      <td>None</td>\n",
       "      <td>4월 ‘팔공산 벚꽃축제’가 팔공산 동화지구 상가 일대에서 열린다. 해마다 4월이면 ...</td>\n",
       "      <td>대구시 동구</td>\n",
       "      <td>None</td>\n",
       "      <td>None</td>\n",
       "      <td>Kor</td>\n",
       "      <td>&lt;a href=\"http://www.palgongsan.org/board/b_rea...</td>\n",
       "      <td>http://www.mcst.go.kr/attachFiles/cultureInfoC...</td>\n",
       "      <td>담당부서/담당자:null 관리자 | null</td>\n",
       "      <td>None</td>\n",
       "      <td>http://www.mcst.go.kr/web/s_culture/festival/f...</td>\n",
       "      <td>None</td>\n",
       "    </tr>\n",
       "    <tr>\n",
       "      <th>3</th>\n",
       "      <td>2015 울산조선해양축제</td>\n",
       "      <td>None</td>\n",
       "      <td>대한민국 정책브리핑</td>\n",
       "      <td>2021-01-05 21:22:43</td>\n",
       "      <td>지역축제</td>\n",
       "      <td>문화예술</td>\n",
       "      <td>None</td>\n",
       "      <td>None</td>\n",
       "      <td>○ 공연분야 - 일산비치콘서트(7. 24~ 7. 25) - 프린지공연(7. 24 ~...</td>\n",
       "      <td>울산시 동구</td>\n",
       "      <td>None</td>\n",
       "      <td>None</td>\n",
       "      <td>Kor</td>\n",
       "      <td>http://festival.donggu.ulsan.kr/ship</td>\n",
       "      <td>http://www.mcst.go.kr/attachFiles/cultureInfoC...</td>\n",
       "      <td>담당부서/담당자:동구청 문화체육과 윤정호 | 052-209-3472</td>\n",
       "      <td>None</td>\n",
       "      <td>http://www.mcst.go.kr/web/s_culture/festival/f...</td>\n",
       "      <td>None</td>\n",
       "    </tr>\n",
       "    <tr>\n",
       "      <th>4</th>\n",
       "      <td>2015 부안마실축제</td>\n",
       "      <td>None</td>\n",
       "      <td>대한민국 정책브리핑</td>\n",
       "      <td>2021-01-05 21:22:43</td>\n",
       "      <td>지역축제</td>\n",
       "      <td>종합</td>\n",
       "      <td>None</td>\n",
       "      <td>None</td>\n",
       "      <td>* 기 간 : 2015. 05. 01 ~ 05. 03 * 장 소 : 부안군 일원(주...</td>\n",
       "      <td>전라북도 부안군</td>\n",
       "      <td>None</td>\n",
       "      <td>None</td>\n",
       "      <td>Kor</td>\n",
       "      <td>www.buanmasil.com</td>\n",
       "      <td>http://www.mcst.go.kr/attachFiles/cultureInfoC...</td>\n",
       "      <td>담당부서/담당자:부안군청 문화관광과 신정승 | 063-580-3989</td>\n",
       "      <td>None</td>\n",
       "      <td>http://www.mcst.go.kr/web/s_culture/festival/f...</td>\n",
       "      <td>None</td>\n",
       "    </tr>\n",
       "    <tr>\n",
       "      <th>...</th>\n",
       "      <td>...</td>\n",
       "      <td>...</td>\n",
       "      <td>...</td>\n",
       "      <td>...</td>\n",
       "      <td>...</td>\n",
       "      <td>...</td>\n",
       "      <td>...</td>\n",
       "      <td>...</td>\n",
       "      <td>...</td>\n",
       "      <td>...</td>\n",
       "      <td>...</td>\n",
       "      <td>...</td>\n",
       "      <td>...</td>\n",
       "      <td>...</td>\n",
       "      <td>...</td>\n",
       "      <td>...</td>\n",
       "      <td>...</td>\n",
       "      <td>...</td>\n",
       "      <td>...</td>\n",
       "    </tr>\n",
       "    <tr>\n",
       "      <th>95</th>\n",
       "      <td>오산천 두바퀴 축제 2016</td>\n",
       "      <td>None</td>\n",
       "      <td>대한민국 정책브리핑</td>\n",
       "      <td>2021-01-05 21:22:44</td>\n",
       "      <td>지역축제</td>\n",
       "      <td>문화예술</td>\n",
       "      <td>None</td>\n",
       "      <td>None</td>\n",
       "      <td>달려라! 배워라! 즐겨라! 누려라! 친환경 건강도시 오산시와 함께하는 ‘오산천 두바...</td>\n",
       "      <td>경기도 오산시</td>\n",
       "      <td>None</td>\n",
       "      <td>None</td>\n",
       "      <td>Kor</td>\n",
       "      <td>&lt;a title=\"새창: 행사 홈페이지로 이동\" href=\"http://www.wh...</td>\n",
       "      <td>http://www.mcst.go.kr/attachFiles/cultureInfoC...</td>\n",
       "      <td>담당부서/담당자:(재)오산문화재단 관리자 | 031-379-9981</td>\n",
       "      <td>None</td>\n",
       "      <td>http://www.mcst.go.kr/web/s_culture/festival/f...</td>\n",
       "      <td>None</td>\n",
       "    </tr>\n",
       "    <tr>\n",
       "      <th>96</th>\n",
       "      <td>청산도 슬로우걷기 축제 2016</td>\n",
       "      <td>None</td>\n",
       "      <td>대한민국 정책브리핑</td>\n",
       "      <td>2021-01-05 21:22:44</td>\n",
       "      <td>지역축제</td>\n",
       "      <td>기타</td>\n",
       "      <td>None</td>\n",
       "      <td>None</td>\n",
       "      <td>아시아 최초 슬로시티로 지정된 완도군 청산도에서 &amp;lt;2016 청산도 슬로우걷기 ...</td>\n",
       "      <td>전라남도 완도군</td>\n",
       "      <td>None</td>\n",
       "      <td>None</td>\n",
       "      <td>Kor</td>\n",
       "      <td>&lt;a href=\"http://www.slowcitywando.com\" target=...</td>\n",
       "      <td>http://www.mcst.go.kr/attachFiles/cultureInfoC...</td>\n",
       "      <td>담당부서/담당자:청산도 슬로우걷기 축제 추진위원회 관리자 | 061-550-5431~3</td>\n",
       "      <td>None</td>\n",
       "      <td>http://www.mcst.go.kr/web/s_culture/festival/f...</td>\n",
       "      <td>None</td>\n",
       "    </tr>\n",
       "    <tr>\n",
       "      <th>97</th>\n",
       "      <td>의성세계연축제 2016</td>\n",
       "      <td>None</td>\n",
       "      <td>대한민국 정책브리핑</td>\n",
       "      <td>2021-01-05 21:22:44</td>\n",
       "      <td>지역축제</td>\n",
       "      <td>전통역사</td>\n",
       "      <td>None</td>\n",
       "      <td>None</td>\n",
       "      <td>2016년 4월 23일부터 24일까지 2일간 경북 의성군 안계면 위천둔치에서 의성군...</td>\n",
       "      <td>경상북도 의성군</td>\n",
       "      <td>None</td>\n",
       "      <td>None</td>\n",
       "      <td>Kor</td>\n",
       "      <td>&lt;a href=\"http://www.worldkitefestival.kr\" targ...</td>\n",
       "      <td>http://www.mcst.go.kr/attachFiles/cultureInfoC...</td>\n",
       "      <td>담당부서/담당자:의성군축제추진위원회 관리자 | 054-830-6359, 832-6096</td>\n",
       "      <td>None</td>\n",
       "      <td>http://www.mcst.go.kr/web/s_culture/festival/f...</td>\n",
       "      <td>None</td>\n",
       "    </tr>\n",
       "    <tr>\n",
       "      <th>98</th>\n",
       "      <td>치악산 산나물축제 2016</td>\n",
       "      <td>None</td>\n",
       "      <td>대한민국 정책브리핑</td>\n",
       "      <td>2021-01-05 21:22:44</td>\n",
       "      <td>지역축제</td>\n",
       "      <td>생태자원</td>\n",
       "      <td>None</td>\n",
       "      <td>None</td>\n",
       "      <td>치악산은 백두대간에서 남서쪽으로 내리닫는 차령산맥 남쪽 끝에 자리잡고 있는 원주의 ...</td>\n",
       "      <td>강원도 원주시</td>\n",
       "      <td>None</td>\n",
       "      <td>None</td>\n",
       "      <td>Kor</td>\n",
       "      <td>원주시청 문화관광 &lt;a href=\"http://tourism.wonju.go.kr\"...</td>\n",
       "      <td>http://www.mcst.go.kr/attachFiles/cultureInfoC...</td>\n",
       "      <td>담당부서/담당자:치악산산나물축제위원회 관리자 | 033-763-7411</td>\n",
       "      <td>None</td>\n",
       "      <td>http://www.mcst.go.kr/web/s_culture/festival/f...</td>\n",
       "      <td>None</td>\n",
       "    </tr>\n",
       "    <tr>\n",
       "      <th>99</th>\n",
       "      <td>지훈예술제 2016</td>\n",
       "      <td>None</td>\n",
       "      <td>대한민국 정책브리핑</td>\n",
       "      <td>2021-01-05 21:22:44</td>\n",
       "      <td>지역축제</td>\n",
       "      <td>문화예술</td>\n",
       "      <td>None</td>\n",
       "      <td>None</td>\n",
       "      <td>지훈 예술제는 한국 현대시의 주류를 완성한 청록파 시인이자 수필가이며 지조론 선비인...</td>\n",
       "      <td>경상북도 영양군</td>\n",
       "      <td>None</td>\n",
       "      <td>None</td>\n",
       "      <td>Kor</td>\n",
       "      <td>&lt;a href=\"http://jihun.yyg.go.kr/\" target=\"_bla...</td>\n",
       "      <td>http://www.mcst.go.kr/attachFiles/cultureInfoC...</td>\n",
       "      <td>담당부서/담당자:한국문인협회 관리자 | 054-683-0036</td>\n",
       "      <td>None</td>\n",
       "      <td>http://www.mcst.go.kr/web/s_culture/festival/f...</td>\n",
       "      <td>None</td>\n",
       "    </tr>\n",
       "  </tbody>\n",
       "</table>\n",
       "<p>100 rows × 19 columns</p>\n",
       "</div>"
      ],
      "text/plain": [
       "                 title alternativeTitle     creator              regDate  \\\n",
       "0       제2회 국제전기자동차엑스포             None  대한민국 정책브리핑  2021-01-05 21:22:43   \n",
       "1   목포 꽃피는 유달산 축제 2015             None  대한민국 정책브리핑  2021-01-05 21:22:43   \n",
       "2        팔공산 벚꽃축제 2015             None  대한민국 정책브리핑  2021-01-05 21:22:43   \n",
       "3        2015 울산조선해양축제             None  대한민국 정책브리핑  2021-01-05 21:22:43   \n",
       "4          2015 부안마실축제             None  대한민국 정책브리핑  2021-01-05 21:22:43   \n",
       "..                 ...              ...         ...                  ...   \n",
       "95     오산천 두바퀴 축제 2016             None  대한민국 정책브리핑  2021-01-05 21:22:44   \n",
       "96   청산도 슬로우걷기 축제 2016             None  대한민국 정책브리핑  2021-01-05 21:22:44   \n",
       "97        의성세계연축제 2016             None  대한민국 정책브리핑  2021-01-05 21:22:44   \n",
       "98      치악산 산나물축제 2016             None  대한민국 정책브리핑  2021-01-05 21:22:44   \n",
       "99          지훈예술제 2016             None  대한민국 정책브리핑  2021-01-05 21:22:44   \n",
       "\n",
       "   collectionDb subjectCategory subjectKeyword extent  \\\n",
       "0          지역축제              기타           None   None   \n",
       "1          지역축제            생태자원           None   None   \n",
       "2          지역축제            생태자원           None   None   \n",
       "3          지역축제            문화예술           None   None   \n",
       "4          지역축제              종합           None   None   \n",
       "..          ...             ...            ...    ...   \n",
       "95         지역축제            문화예술           None   None   \n",
       "96         지역축제              기타           None   None   \n",
       "97         지역축제            전통역사           None   None   \n",
       "98         지역축제            생태자원           None   None   \n",
       "99         지역축제            문화예술           None   None   \n",
       "\n",
       "                                          description spatialCoverage  \\\n",
       "0   전기자동차 테스트베드로서 최적의 조건을 갖춘 인증사이트인 제주도는 2030년까지 도...         제주도 제주시   \n",
       "1   목포시에서 유달산 꽃 개화시기에 맞춰 4월 초순경 ‘유달산 꽃 축제’를 개최한다. ...        전라남도 목포시   \n",
       "2   4월 ‘팔공산 벚꽃축제’가 팔공산 동화지구 상가 일대에서 열린다. 해마다 4월이면 ...          대구시 동구   \n",
       "3   ○ 공연분야 - 일산비치콘서트(7. 24~ 7. 25) - 프린지공연(7. 24 ~...          울산시 동구   \n",
       "4   * 기 간 : 2015. 05. 01 ~ 05. 03 * 장 소 : 부안군 일원(주...        전라북도 부안군   \n",
       "..                                                ...             ...   \n",
       "95  달려라! 배워라! 즐겨라! 누려라! 친환경 건강도시 오산시와 함께하는 ‘오산천 두바...         경기도 오산시   \n",
       "96  아시아 최초 슬로시티로 지정된 완도군 청산도에서 &lt;2016 청산도 슬로우걷기 ...        전라남도 완도군   \n",
       "97  2016년 4월 23일부터 24일까지 2일간 경북 의성군 안계면 위천둔치에서 의성군...        경상북도 의성군   \n",
       "98  치악산은 백두대간에서 남서쪽으로 내리닫는 차령산맥 남쪽 끝에 자리잡고 있는 원주의 ...         강원도 원주시   \n",
       "99  지훈 예술제는 한국 현대시의 주류를 완성한 청록파 시인이자 수필가이며 지조론 선비인...        경상북도 영양군   \n",
       "\n",
       "   temporalCoverage person language  \\\n",
       "0              None   None      Kor   \n",
       "1              None   None      Kor   \n",
       "2              None   None      Kor   \n",
       "3              None   None      Kor   \n",
       "4              None   None      Kor   \n",
       "..              ...    ...      ...   \n",
       "95             None   None      Kor   \n",
       "96             None   None      Kor   \n",
       "97             None   None      Kor   \n",
       "98             None   None      Kor   \n",
       "99             None   None      Kor   \n",
       "\n",
       "                                          sourceTitle  \\\n",
       "0                             http://www.ievexpo.org/   \n",
       "1   <a href=\"http://tour.mokpo.go.kr/festival_even...   \n",
       "2   <a href=\"http://www.palgongsan.org/board/b_rea...   \n",
       "3                http://festival.donggu.ulsan.kr/ship   \n",
       "4                                   www.buanmasil.com   \n",
       "..                                                ...   \n",
       "95  <a title=\"새창: 행사 홈페이지로 이동\" href=\"http://www.wh...   \n",
       "96  <a href=\"http://www.slowcitywando.com\" target=...   \n",
       "97  <a href=\"http://www.worldkitefestival.kr\" targ...   \n",
       "98  원주시청 문화관광 <a href=\"http://tourism.wonju.go.kr\"...   \n",
       "99  <a href=\"http://jihun.yyg.go.kr/\" target=\"_bla...   \n",
       "\n",
       "                                  referenceIdentifier  \\\n",
       "0   http://www.mcst.go.kr/attachFiles/cultureInfoC...   \n",
       "1   http://www.mcst.go.kr/attachFiles/cultureInfoC...   \n",
       "2   http://www.mcst.go.kr/attachFiles/cultureInfoC...   \n",
       "3   http://www.mcst.go.kr/attachFiles/cultureInfoC...   \n",
       "4   http://www.mcst.go.kr/attachFiles/cultureInfoC...   \n",
       "..                                                ...   \n",
       "95  http://www.mcst.go.kr/attachFiles/cultureInfoC...   \n",
       "96  http://www.mcst.go.kr/attachFiles/cultureInfoC...   \n",
       "97  http://www.mcst.go.kr/attachFiles/cultureInfoC...   \n",
       "98  http://www.mcst.go.kr/attachFiles/cultureInfoC...   \n",
       "99  http://www.mcst.go.kr/attachFiles/cultureInfoC...   \n",
       "\n",
       "                                              rights copyrightOthers  \\\n",
       "0       담당부서/담당자:국제전기자동차엑스포 조직위원회 담당자 | 064-702-1580            None   \n",
       "1   담당부서/담당자:목포시축제추진위원회 관리자 | 목포시 관광기획과 061-270-8442            None   \n",
       "2                           담당부서/담당자:null 관리자 | null            None   \n",
       "3              담당부서/담당자:동구청 문화체육과 윤정호 | 052-209-3472            None   \n",
       "4             담당부서/담당자:부안군청 문화관광과 신정승 | 063-580-3989            None   \n",
       "..                                               ...             ...   \n",
       "95             담당부서/담당자:(재)오산문화재단 관리자 | 031-379-9981            None   \n",
       "96  담당부서/담당자:청산도 슬로우걷기 축제 추진위원회 관리자 | 061-550-5431~3            None   \n",
       "97  담당부서/담당자:의성군축제추진위원회 관리자 | 054-830-6359, 832-6096            None   \n",
       "98           담당부서/담당자:치악산산나물축제위원회 관리자 | 033-763-7411            None   \n",
       "99                담당부서/담당자:한국문인협회 관리자 | 054-683-0036            None   \n",
       "\n",
       "                                                  url contributor  \n",
       "0   http://www.mcst.go.kr/web/s_culture/festival/f...        None  \n",
       "1   http://www.mcst.go.kr/web/s_culture/festival/f...        None  \n",
       "2   http://www.mcst.go.kr/web/s_culture/festival/f...        None  \n",
       "3   http://www.mcst.go.kr/web/s_culture/festival/f...        None  \n",
       "4   http://www.mcst.go.kr/web/s_culture/festival/f...        None  \n",
       "..                                                ...         ...  \n",
       "95  http://www.mcst.go.kr/web/s_culture/festival/f...        None  \n",
       "96  http://www.mcst.go.kr/web/s_culture/festival/f...        None  \n",
       "97  http://www.mcst.go.kr/web/s_culture/festival/f...        None  \n",
       "98  http://www.mcst.go.kr/web/s_culture/festival/f...        None  \n",
       "99  http://www.mcst.go.kr/web/s_culture/festival/f...        None  \n",
       "\n",
       "[100 rows x 19 columns]"
      ]
     },
     "execution_count": 34,
     "metadata": {},
     "output_type": "execute_result"
    }
   ],
   "source": [
    "import json\n",
    "a = response.json()['response']['body']['items']['item'] # response -> body -> items -> item \n",
    "pd.DataFrame(a)\n",
    "# print(json.dumps(response.json(),indent=2)[:200]) "
   ]
  },
  {
   "cell_type": "markdown",
   "id": "79016312-5439-4f55-80ae-d3e67975a912",
   "metadata": {},
   "source": [
    "## 한국은행 api"
   ]
  },
  {
   "cell_type": "code",
   "execution_count": null,
   "id": "79fea995-3747-41a3-9211-8c1629770ce9",
   "metadata": {},
   "outputs": [],
   "source": [
    "#20년부터 21년까지 월별 투자자별 주식거래를 받아보았다.\n",
    "key = ' '\n",
    "stock_key = '901Y055'\n",
    "stock_url = f'https://ecos.bok.or.kr/api/StatisticSearch/{key}/json/kr/1/10/{stock_key}/M/202001/202112/S22B/?/?/?'\n",
    "\n",
    "stock = rq.get(stock_url)\n",
    "print(stock.status_code)\n",
    "stock_dict = stock.json()\n",
    "print(stock_dict['StatisticSearch']['row'][0])"
   ]
  },
  {
   "cell_type": "code",
   "execution_count": null,
   "id": "90729d38-e30e-48dc-8aed-590cbaef78d5",
   "metadata": {},
   "outputs": [],
   "source": [
    "stock_df = pd.DataFrame(stock_dict['StatisticSearch']['row'])\n",
    "print(stock_df)"
   ]
  },
  {
   "cell_type": "markdown",
   "id": "7aabac8e-0dee-4d6f-bbf9-1a08d2ad0c36",
   "metadata": {},
   "source": [
    "### 웹 크롤링(Web crwaling) \n",
    "- 웹페이지를 발견하고 인덱싱\n",
    "- url , 하이퍼링크 페이지 확인"
   ]
  },
  {
   "cell_type": "markdown",
   "id": "1f977118-f70f-4a1d-be67-f8b8d8445e9e",
   "metadata": {},
   "source": [
    "### 웹 스크래핑\n",
    "- 웹 페이지로부터 데이터 추출\n",
    "- 특정 사이트 콘텐츠를 구조화된 형식으로 변환\n",
    "- HTML 문서에서 필요한 데이터 추출"
   ]
  },
  {
   "cell_type": "markdown",
   "id": "95f66596-d582-4e8a-ad37-dd1792c06cb0",
   "metadata": {},
   "source": [
    "### 크롤링 + 스크래핑\n",
    "- URL 생성 -> 다운로드 -> 데이터 추출 -> 데이터 저장\n",
    "\n",
    "URL을 생성 하는 과정에서 웹의 최상위에 존재하는 robots.txt 라는  파일을 찾고 그안에 프로토콜에 따라 적혀있는 옵션 확인\n"
   ]
  },
  {
   "cell_type": "markdown",
   "id": "4d392ea3-4336-4ea9-ab57-3329333f71e7",
   "metadata": {},
   "source": [
    "### Paser 종류\n",
    "- json -> json\n",
    "- xml -> xmltodict\n",
    "- html -> beautifulSoup"
   ]
  },
  {
   "cell_type": "markdown",
   "id": "d15467de-7b65-4cd2-b34b-b38ab72c36cf",
   "metadata": {},
   "source": [
    "## robots.txt 분석하기"
   ]
  },
  {
   "cell_type": "code",
   "execution_count": 2,
   "id": "59540098-0607-4149-820a-641bcb5d29a8",
   "metadata": {},
   "outputs": [
    {
     "data": {
      "text/plain": [
       "True"
      ]
     },
     "execution_count": 2,
     "metadata": {},
     "output_type": "execute_result"
    }
   ],
   "source": [
    "# User-agent가 특정 URL에 접근 가능한지 체크\n",
    "import urllib.robotparser\n",
    "rp = urllib.robotparser.RobotFileParser()\n",
    "rp.set_url('https://www.reuters.com/robots.txt')\n",
    "rp.read()\n",
    "\n",
    "rp.can_fetch(useragent='*', url='https://www.reuters.com/sitemap.xml')  #특정 useragent 가 url에 접근 가능한지 확인"
   ]
  },
  {
   "cell_type": "markdown",
   "id": "b0c91648-9194-4774-9962-33427ea7e144",
   "metadata": {},
   "source": [
    "### 연습문제(sitemap url을 확보)"
   ]
  },
  {
   "cell_type": "code",
   "execution_count": 3,
   "id": "da4499ad-b190-4fad-8446-4f6be9b34e1c",
   "metadata": {},
   "outputs": [
    {
     "data": {
      "text/plain": [
       "['https://www.reuters.com/arc/outboundfeeds/sitemap/?outputType=xml',\n",
       " 'https://www.reuters.com/arc/outboundfeeds/sitemap/?outputType=xml&from=100',\n",
       " 'https://www.reuters.com/arc/outboundfeeds/sitemap/?outputType=xml&from=200',\n",
       " 'https://www.reuters.com/arc/outboundfeeds/sitemap/?outputType=xml&from=300',\n",
       " 'https://www.reuters.com/arc/outboundfeeds/sitemap/?outputType=xml&from=400']"
      ]
     },
     "execution_count": 3,
     "metadata": {},
     "output_type": "execute_result"
    }
   ],
   "source": [
    "# XML 파서를 위한 모듈\n",
    "import xmltodict\n",
    "import requests\n",
    "\n",
    "sitemaps = rp.site_maps()\n",
    "sitemaps \n",
    "# 사이트 들어가보면 URL 정보를 갖는 loc , 최근 수정 시각정보를 갖는 lastmod 있음\n",
    "\n",
    "\n",
    "url = sitemaps[0]\n",
    "sitemaps = xmltodict.parse(requests.get(url).text)   # xmltodict을 이용한 xml형식일떄 sitemaps 추출\n",
    "\n",
    "a= sitemaps['sitemapindex']['sitemap']\n",
    "k = [ a[i]['loc'] for i in range(len(a)) ]     # sitemaps라는 큰 틀에서 여러 페이지들 추출 \n",
    "k[:5]"
   ]
  },
  {
   "cell_type": "code",
   "execution_count": 9,
   "id": "98776a55-8b59-4869-a0b1-b9fc23f7c619",
   "metadata": {},
   "outputs": [
    {
     "data": {
      "text/plain": [
       "['https://www.reuters.com/markets/europe/bayer-sees-lower-2023-operating-profit-cost-inflation-2023-02-28/',\n",
       " 'https://www.reuters.com/business/finance/oaktree-capital-seeks-raise-10-billion-new-fund-ft-2023-02-28/',\n",
       " 'https://www.reuters.com/markets/europe/global-markets-view-europe-2023-02-28/',\n",
       " 'https://www.reuters.com/business/retail-consumer/home-zara-fast-slow-fashion-collide-2023-02-28/',\n",
       " 'https://www.reuters.com/lifestyle/sports/england-captain-stokes-has-no-regrets-over-follow-on-2023-02-28/']"
      ]
     },
     "execution_count": 9,
     "metadata": {},
     "output_type": "execute_result"
    }
   ],
   "source": [
    "url = k[0]     # 여러 페이지중에서 하나를 가지고 와서\n",
    "news_dict = xmltodict.parse(requests.get(url).text)   \n",
    "b = news_dict['urlset']['url']              # 그 페이지의 url 값들을 추출\n",
    "k2 = [ b[i]['loc'] for i in range(len(b)) ] \n",
    "k2[:5]"
   ]
  },
  {
   "cell_type": "markdown",
   "id": "8c745400-ea63-401a-bd37-a27141b0a5b9",
   "metadata": {},
   "source": [
    "## - html 파일 만들기"
   ]
  },
  {
   "cell_type": "code",
   "execution_count": 14,
   "id": "e9417ca7-3994-45d2-81e0-cf11e5f4f416",
   "metadata": {},
   "outputs": [],
   "source": [
    "session = requests.Session()\n",
    "\n",
    "for url in k2[:5]:\n",
    "    file = url.split('/')[-2] + '.html'    # /로 분리해서 확장자 html 붙임 \n",
    "    \n",
    "    response = session.get(url)\n",
    "    if response.ok:               # 상태 200 체크하는거랑 비슷\n",
    "        with open('datas/'+file , 'w+b') as f:\n",
    "            f.write(response.text.encode('utf-8'))\n",
    "    else:\n",
    "        print('error with URL :'.format(url))\n"
   ]
  },
  {
   "cell_type": "code",
   "execution_count": 15,
   "id": "27996342-8407-4b3b-8c20-55a22e8679fa",
   "metadata": {},
   "outputs": [],
   "source": [
    "file = open('filename.txt','w') # 파일을 생성하고 w(쓰기모드)\n",
    "file.write('파일에 작성할 문자열') # 파일에 문자열 작성\n",
    "file.close() # 처리 끝나면 닫아주기 "
   ]
  },
  {
   "cell_type": "code",
   "execution_count": 16,
   "id": "a767e264-0787-400f-ad55-faba902565fc",
   "metadata": {},
   "outputs": [
    {
     "name": "stdout",
     "output_type": "stream",
     "text": [
      "파일에 작성할 문자열\n"
     ]
    }
   ],
   "source": [
    "with open('filename.txt','r') as file:  # 파일 읽어오기 r(읽기보드)\n",
    "    print(file.read())"
   ]
  },
  {
   "cell_type": "code",
   "execution_count": 17,
   "id": "675ed0b4-1959-4cba-ab9a-5c2af4599b6b",
   "metadata": {},
   "outputs": [
    {
     "data": {
      "text/plain": [
       "['./datas/bayer-sees-lower-2023-operating-profit-cost-inflation-2023-02-28.html',\n",
       " './datas/england-captain-stokes-has-no-regrets-over-follow-on-2023-02-28.html',\n",
       " './datas/global-markets-view-europe-2023-02-28.html',\n",
       " './datas/home-zara-fast-slow-fashion-collide-2023-02-28.html',\n",
       " './datas/oaktree-capital-seeks-raise-10-billion-new-fund-ft-2023-02-28.html']"
      ]
     },
     "execution_count": 17,
     "metadata": {},
     "output_type": "execute_result"
    }
   ],
   "source": [
    "import os\n",
    "path = './datas/'\n",
    "files = [path + file for file in os.listdir(path)] # os.listdir(path) -> 폴더 안에있는 파일들 목록 가져옴\n",
    "files"
   ]
  },
  {
   "cell_type": "markdown",
   "id": "a4928203-9422-450c-ba3b-0c95db3ce7fb",
   "metadata": {},
   "source": [
    "- BeautifulSoup"
   ]
  },
  {
   "cell_type": "code",
   "execution_count": null,
   "id": "c8d82dcb-6d78-4695-84ac-6ceca3aa65d5",
   "metadata": {},
   "outputs": [],
   "source": [
    "with open(files[2], 'r',encoding='utf-8') as f :\n",
    "    html = f.read()\n",
    "html"
   ]
  },
  {
   "cell_type": "code",
   "execution_count": 39,
   "id": "283652ca-27c5-475f-b5fd-06965a1ab324",
   "metadata": {},
   "outputs": [
    {
     "name": "stdout",
     "output_type": "stream",
     "text": [
      "Morning Bid: Market mood downbeat ahead of raft of data\n"
     ]
    }
   ],
   "source": [
    "## html은 BeautifulSoup\n",
    "\n",
    "from bs4 import BeautifulSoup\n",
    "soup = BeautifulSoup(html, 'html.parser')\n",
    "title = soup.select_one('#main-content > article > div.article__main__33WV2 > div.article__content__6hMn9 > header > div > div > h1')\n",
    "# select_one 이 아니라 select면 해당되는 것들 리스트로 가지고옴(one을 쓰면 해당되는것중 가장 첫번째를 불러온다)\n",
    "print(title.text) # 제목 불러오기 "
   ]
  },
  {
   "cell_type": "code",
   "execution_count": 33,
   "id": "5667ec9b-9b49-4024-9ac1-2a11f51f0354",
   "metadata": {},
   "outputs": [
    {
     "data": {
      "text/plain": [
       "<h1 class=\"text__text__1FZLe text__dark-grey__3Ml43 text__medium__1kbOh text__heading_3__1kDhc heading__base__2T28j heading__heading_3__3aL54 article-header__title__3Y2hh\" data-testid=\"Heading\">Morning Bid: Market mood downbeat ahead of raft of data</h1>"
      ]
     },
     "execution_count": 33,
     "metadata": {},
     "output_type": "execute_result"
    }
   ],
   "source": [
    "soup.h1 # .h1 을 조회하면 <h1>태그에 해당하는 객체를 가져올 수 있음"
   ]
  },
  {
   "cell_type": "code",
   "execution_count": 34,
   "id": "4fea8d8d-da6b-4a8a-8950-ae6a0d1b4ca0",
   "metadata": {},
   "outputs": [
    {
     "data": {
      "text/plain": [
       "'Morning Bid: Market mood downbeat ahead of raft of data'"
      ]
     },
     "execution_count": 34,
     "metadata": {},
     "output_type": "execute_result"
    }
   ],
   "source": [
    "soup.h1.text # 태그 사이에 있는 텍스트 값을 가져올 수 있음 "
   ]
  },
  {
   "cell_type": "code",
   "execution_count": 44,
   "id": "647502f1-2406-4222-8ab4-7c85407f7cd5",
   "metadata": {},
   "outputs": [
    {
     "data": {
      "text/plain": [
       "'A look at the day ahead in European and global markets from Anshuman Daga'"
      ]
     },
     "execution_count": 44,
     "metadata": {},
     "output_type": "execute_result"
    }
   ],
   "source": [
    "soup.select_one('#main-content > article > div.article__main__33WV2 > div.article__content__6hMn9 > div > div > div.article-body__content__17Yit.paywall-article > p:nth-child(2)').text\n",
    "# 본문 중 일부 불러오기 "
   ]
  },
  {
   "cell_type": "code",
   "execution_count": 41,
   "id": "b5d4f642-8eb8-4ee5-b898-45c7b24cece4",
   "metadata": {},
   "outputs": [
    {
     "data": {
      "text/plain": [
       "['A look at the day ahead in European and global markets from Anshuman Daga',\n",
       " \"The overarching downbeat mood among investors shows no signs of improving as markets become increasingly wary of a further rise in borrowing costs.Although U.S. markets took a breather and rose on Monday, they ended well below the day's highs and Asian markets were back in the red on Tuesday after gaining in early trade.\",\n",
       " \"Tuesday's U.S. consumer confidence data will be especially scrutinised for households' views on economic prospects and inflation expectations.\",\n",
       " 'Economists polled by Reuters expect a median reading of 109.5 on the index, which unexpectedly fell in January.',\n",
       " 'European markets will deal with CPI data due from France and Spain.',\n",
       " 'Despite sharp increases in interest rates by major central banks, predictions of economies worldwide falling into recession continue to miss the mark.',\n",
       " 'While inflation has eased a bit, providing some support to markets, a barrage of economic data suggests that inflation is stickier than expected, reinforcing the \"higher-for-longer\" rates view.',\n",
       " 'On Tuesday, sterling gave up some gains after rising by 0.98% against the dollar a day earlier, when it recorded its biggest daily gain in more than seven weeks.',\n",
       " 'British Prime Minister Rishi Sunak struck a deal with the European Union on post-Brexit trade rules for Northern Ireland.',\n",
       " 'Sunak immediately won plaudits from business groups who welcomed the easing of trade rules.',\n",
       " \"The news comes at a time when Britain's economy, which looked likely to fall into recession in early 2023, is showing some unexpected signs of recovery, raising questions about whether the Bank of England really is about to pause its run of interest rate increases.\",\n",
       " 'In Asia, incoming Bank of Japan Deputy Governor Shinichi Uchida brushed aside the chance of an immediate overhaul of ultra-loose monetary policy, suggesting that any review of its policy framework could take about a year.',\n",
       " \"Elsewhere, data showed that Japan's factory output shrank at the fastest pace in eight months in January as declining overseas demand took a heavy toll on key industries\",\n",
       " 'Key developments that could influence markets on Tuesday:',\n",
       " 'Europe economic data: France Feb prelim CPI, final Q4 GDP; Spain, Portugal Feb flash CPI; Germany Jan import prices',\n",
       " 'Europe results: Man, Abrdn, Ocado, Travis Perkins',\n",
       " 'U.S. economic data: Dec house price data, Feb Chicago PMI',\n",
       " 'U.S. earnings: Target Corp, Jones Lang LaSalle, Manchester United',\n",
       " 'Our Standards: The Thomson Reuters Trust Principles.']"
      ]
     },
     "execution_count": 41,
     "metadata": {},
     "output_type": "execute_result"
    }
   ],
   "source": [
    "r = soup.select('#main-content > article > div.article__main__33WV2 > div.article__content__6hMn9 > div > div > div.article-body__content__17Yit.paywall-article > p')\n",
    "\n",
    "r = [x.text for x in r]\n",
    "r"
   ]
  },
  {
   "cell_type": "code",
   "execution_count": 45,
   "id": "a2ef2d3b-4314-485a-b79e-fcdec039048d",
   "metadata": {},
   "outputs": [
    {
     "data": {
      "text/plain": [
       "'https://www.reuters.com/markets/europe/global-markets-view-europe-2023-02-28/'"
      ]
     },
     "execution_count": 45,
     "metadata": {},
     "output_type": "execute_result"
    }
   ],
   "source": [
    "soup.find('link',{'rel':'canonical'})['href']\n",
    "# 표준(canoncical URL)을 사용하여 값을 관리"
   ]
  },
  {
   "cell_type": "markdown",
   "id": "a7a0d42a-8028-4383-9675-75386bea9a9a",
   "metadata": {},
   "source": [
    "### HTML 문서의 표준화된 영역"
   ]
  },
  {
   "cell_type": "markdown",
   "id": "e4541fb9-3dc2-4466-98ec-8004c87d11a5",
   "metadata": {},
   "source": [
    "- 제목 : title 또는 h1 태그를 사용\n",
    "- 웹 페이지 요약 : meta name='description'\n",
    "- 구조화된 헤더 정보: OpenGraph(https://ogp.me)에서 표준화한 것으로 페이지의 소스코드에서 og: 부분을 찾는다. \n",
    "- 웹 페이지의 URL: link rel=”canonical”"
   ]
  }
 ],
 "metadata": {
  "kernelspec": {
   "display_name": "Python 3 (ipykernel)",
   "language": "python",
   "name": "python3"
  },
  "language_info": {
   "codemirror_mode": {
    "name": "ipython",
    "version": 3
   },
   "file_extension": ".py",
   "mimetype": "text/x-python",
   "name": "python",
   "nbconvert_exporter": "python",
   "pygments_lexer": "ipython3",
   "version": "3.9.12"
  }
 },
 "nbformat": 4,
 "nbformat_minor": 5
}
