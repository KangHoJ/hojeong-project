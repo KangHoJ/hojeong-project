{
 "cells": [
  {
   "cell_type": "markdown",
   "id": "e0587980-f3af-4667-9fb0-095092264015",
   "metadata": {},
   "source": [
    "# 넘파이 배열"
   ]
  },
  {
   "cell_type": "code",
   "execution_count": 2,
   "id": "3f341bcd-8900-4214-bc35-b0fdcc6bdea7",
   "metadata": {},
   "outputs": [
    {
     "data": {
      "text/plain": [
       "array([0, 1, 2, 3, 4, 5, 6, 7, 8, 9])"
      ]
     },
     "execution_count": 2,
     "metadata": {},
     "output_type": "execute_result"
    }
   ],
   "source": [
    "import numpy as np\n",
    "ar = np.array([i for i in range(10)])\n",
    "ar"
   ]
  },
  {
   "cell_type": "code",
   "execution_count": 4,
   "id": "2e76bdb0-8d37-4eeb-83e4-9ed23bd9cd81",
   "metadata": {},
   "outputs": [
    {
     "data": {
      "text/plain": [
       "array([ 0.1,  5. ,  4. , 12. ])"
      ]
     },
     "execution_count": 4,
     "metadata": {},
     "output_type": "execute_result"
    }
   ],
   "source": [
    "ar2 = np.array([0.1,5,4,12])\n",
    "ar2 "
   ]
  },
  {
   "cell_type": "markdown",
   "id": "5e992b1d-6b67-431a-93c6-4bce011abac0",
   "metadata": {},
   "source": [
    "## 1차원 배열 만들기"
   ]
  },
  {
   "cell_type": "markdown",
   "id": "aafcb24c-0eeb-4217-8fba-b12843316d39",
   "metadata": {},
   "source": [
    "## - 배열의 연산"
   ]
  },
  {
   "cell_type": "code",
   "execution_count": 7,
   "id": "8bab4b3e-e441-4b5b-9c6a-1121ab90898c",
   "metadata": {},
   "outputs": [
    {
     "data": {
      "text/plain": [
       "dtype('float32')"
      ]
     },
     "execution_count": 7,
     "metadata": {},
     "output_type": "execute_result"
    }
   ],
   "source": [
    "x = np.array([1,2,3],dtype='f')\n",
    "x[0] + x[1]"
   ]
  },
  {
   "cell_type": "code",
   "execution_count": 9,
   "id": "cd12f280-3088-4655-9718-10772987e412",
   "metadata": {},
   "outputs": [
    {
     "data": {
      "text/plain": [
       "'12'"
      ]
     },
     "execution_count": 9,
     "metadata": {},
     "output_type": "execute_result"
    }
   ],
   "source": [
    "x = np.array([1,2,3],dtype='U')\n",
    "x[0] + x[1]"
   ]
  },
  {
   "cell_type": "code",
   "execution_count": 10,
   "id": "9f17930b-0c2a-41ed-9404-2bd5502b4185",
   "metadata": {},
   "outputs": [
    {
     "ename": "TypeError",
     "evalue": "unsupported operand type(s) for /: 'list' and 'list'",
     "output_type": "error",
     "traceback": [
      "\u001b[1;31m---------------------------------------------------------------------------\u001b[0m",
      "\u001b[1;31mTypeError\u001b[0m                                 Traceback (most recent call last)",
      "Input \u001b[1;32mIn [10]\u001b[0m, in \u001b[0;36m<cell line: 3>\u001b[1;34m()\u001b[0m\n\u001b[0;32m      1\u001b[0m x\u001b[38;5;241m=\u001b[39m[\u001b[38;5;241m0\u001b[39m,\u001b[38;5;241m1\u001b[39m,\u001b[38;5;241m-\u001b[39m\u001b[38;5;241m1\u001b[39m,\u001b[38;5;241m0\u001b[39m]\n\u001b[0;32m      2\u001b[0m y\u001b[38;5;241m=\u001b[39m[\u001b[38;5;241m1\u001b[39m,\u001b[38;5;241m0\u001b[39m,\u001b[38;5;241m0\u001b[39m,\u001b[38;5;241m0\u001b[39m]\n\u001b[1;32m----> 3\u001b[0m \u001b[43mx\u001b[49m\u001b[38;5;241;43m/\u001b[39;49m\u001b[43my\u001b[49m\n",
      "\u001b[1;31mTypeError\u001b[0m: unsupported operand type(s) for /: 'list' and 'list'"
     ]
    }
   ],
   "source": [
    "x=[0,1,-1,0]\n",
    "y=[1,0,0,0]\n",
    "x/y # 계산 불가능"
   ]
  },
  {
   "cell_type": "code",
   "execution_count": 11,
   "id": "e9271629-0647-4a35-877d-e13a77411bbb",
   "metadata": {},
   "outputs": [
    {
     "name": "stderr",
     "output_type": "stream",
     "text": [
      "C:\\Users\\User\\AppData\\Local\\Temp\\ipykernel_6536\\3742454558.py:3: RuntimeWarning: divide by zero encountered in true_divide\n",
      "  xn/yn\n",
      "C:\\Users\\User\\AppData\\Local\\Temp\\ipykernel_6536\\3742454558.py:3: RuntimeWarning: invalid value encountered in true_divide\n",
      "  xn/yn\n"
     ]
    },
    {
     "data": {
      "text/plain": [
       "array([  0.,  inf, -inf,  nan])"
      ]
     },
     "execution_count": 11,
     "metadata": {},
     "output_type": "execute_result"
    }
   ],
   "source": [
    "xn = np.array(x)\n",
    "yn = np.array(y)\n",
    "xn/yn # 계산이 가능하다 "
   ]
  },
  {
   "cell_type": "code",
   "execution_count": 15,
   "id": "0b25c4ac-b719-4968-b061-dd1bb9110926",
   "metadata": {},
   "outputs": [
    {
     "data": {
      "text/plain": [
       "[1, 2, 3, 1, 2, 3, 10, 20, 30]"
      ]
     },
     "execution_count": 15,
     "metadata": {},
     "output_type": "execute_result"
    }
   ],
   "source": [
    "a = [1,2,3]\n",
    "b = [10,20,30]\n",
    "2 * a + b "
   ]
  },
  {
   "cell_type": "code",
   "execution_count": 16,
   "id": "2a6e18f8-e314-4819-973b-9d0547e352e1",
   "metadata": {},
   "outputs": [
    {
     "data": {
      "text/plain": [
       "array([12, 24, 36])"
      ]
     },
     "execution_count": 16,
     "metadata": {},
     "output_type": "execute_result"
    }
   ],
   "source": [
    "an = np.array(a)\n",
    "bn = np.array(b)\n",
    "2 * an + bn"
   ]
  },
  {
   "cell_type": "markdown",
   "id": "4b3cfb3a-4a76-4bfc-8064-cb150a2e91ff",
   "metadata": {},
   "source": [
    "## 2차원 배열 만들기"
   ]
  },
  {
   "cell_type": "code",
   "execution_count": 18,
   "id": "a1eb8e4f-5953-41cf-9a2c-e3611d71da4d",
   "metadata": {},
   "outputs": [
    {
     "data": {
      "text/plain": [
       "array([[0, 1, 2],\n",
       "       [3, 4, 5]])"
      ]
     },
     "execution_count": 18,
     "metadata": {},
     "output_type": "execute_result"
    }
   ],
   "source": [
    "c = np.array([[0,1,2],[3,4,5]])\n",
    "c"
   ]
  },
  {
   "cell_type": "code",
   "execution_count": 19,
   "id": "e49eed03-9fbd-49bd-9447-0d5861c10fe9",
   "metadata": {},
   "outputs": [
    {
     "name": "stdout",
     "output_type": "stream",
     "text": [
      "2\n",
      "3\n"
     ]
    }
   ],
   "source": [
    "print(len(c))\n",
    "print(len(c[0]))"
   ]
  },
  {
   "cell_type": "code",
   "execution_count": 21,
   "id": "8cc17300-547c-46d6-83f7-cb6e6073d4a5",
   "metadata": {},
   "outputs": [
    {
     "data": {
      "text/plain": [
       "array([[10, 20, 30, 40],\n",
       "       [50, 60, 70, 80]])"
      ]
     },
     "execution_count": 21,
     "metadata": {},
     "output_type": "execute_result"
    }
   ],
   "source": [
    "a = np.array([[10,20,30,40],[50,60,70,80]])\n",
    "a"
   ]
  },
  {
   "cell_type": "markdown",
   "id": "2b0d605e-0dbd-42fe-8393-25597afd8609",
   "metadata": {},
   "source": [
    "## 3차원 배열 만들기"
   ]
  },
  {
   "cell_type": "code",
   "execution_count": 24,
   "id": "9fbaa3d2-262c-40e5-8986-040127eb6e7b",
   "metadata": {},
   "outputs": [
    {
     "data": {
      "text/plain": [
       "array([[[ 1,  2,  3,  4],\n",
       "        [ 5,  6,  7,  8],\n",
       "        [ 9, 10, 11, 12]],\n",
       "\n",
       "       [[11, 12, 13, 14],\n",
       "        [15, 16, 17, 18],\n",
       "        [19, 20, 21, 22]]])"
      ]
     },
     "execution_count": 25,
     "metadata": {},
     "output_type": "execute_result"
    }
   ],
   "source": [
    "d = np.array([[[1,2,3,4],[5,6,7,8],[9,10,11,12]],\n",
    "            [[11,12,13,14],[15,16,17,18],[19,20,21,22]]])  #2*3*4 배열\n",
    "d"
   ]
  },
  {
   "cell_type": "code",
   "execution_count": 28,
   "id": "e875b992-d818-4e3b-874e-b90514e9d57e",
   "metadata": {},
   "outputs": [
    {
     "data": {
      "text/plain": [
       "(2, 3, 4)"
      ]
     },
     "execution_count": 28,
     "metadata": {},
     "output_type": "execute_result"
    }
   ],
   "source": [
    "len(d) , len(d[0]) , len(d[0][0]) "
   ]
  },
  {
   "cell_type": "code",
   "execution_count": 29,
   "id": "6de040a0-6f7d-419f-a4c4-e3489a1c7e92",
   "metadata": {},
   "outputs": [
    {
     "data": {
      "text/plain": [
       "3"
      ]
     },
     "execution_count": 29,
     "metadata": {},
     "output_type": "execute_result"
    }
   ],
   "source": [
    "d.ndim # 차원을 알려줌"
   ]
  },
  {
   "cell_type": "markdown",
   "id": "e109a9ad-3b95-40ab-9d31-feb7f467ff1a",
   "metadata": {},
   "source": [
    "## 배열의 인덱싱"
   ]
  },
  {
   "cell_type": "code",
   "execution_count": 30,
   "id": "d8f0bf30-cb6f-41f9-a342-48f69a4307cb",
   "metadata": {},
   "outputs": [
    {
     "name": "stdout",
     "output_type": "stream",
     "text": [
      "2\n",
      "4\n"
     ]
    }
   ],
   "source": [
    "a  = np.array([0,1,2,3,4])\n",
    "print(a[2]) # 2\n",
    "print(a[-1]) # 4"
   ]
  },
  {
   "cell_type": "code",
   "execution_count": null,
   "id": "45fe4a50-9e55-4491-bf7f-e2717215f011",
   "metadata": {},
   "outputs": [],
   "source": [
    "a = np.array([[0,1,2] ,[3,4,5]])\n",
    "a[0,0] # 0\n",
    "a[0,1] # 1\n",
    "a[-1,-1] # 5"
   ]
  },
  {
   "cell_type": "markdown",
   "id": "eaec530b-ca5e-4672-971e-e06903d51de2",
   "metadata": {},
   "source": [
    "## 배열의 슬라이싱"
   ]
  },
  {
   "cell_type": "code",
   "execution_count": 39,
   "id": "ea81d580-c257-43ba-9e2f-ced8cefff588",
   "metadata": {},
   "outputs": [
    {
     "data": {
      "text/plain": [
       "array([[0, 1],\n",
       "       [4, 5]])"
      ]
     },
     "execution_count": 39,
     "metadata": {},
     "output_type": "execute_result"
    }
   ],
   "source": [
    "a = np.array([[0,1,2,3],[4,5,6,7]])\n",
    "a[0, :] # 첫번째 행 전체 0,1,2,3\n",
    "a[:,1]  # 두번쨰 열 전체 1,5\n",
    "a[1,1:]  # 5,6,7\n",
    "a[:2,:2] #[0,1] , [4,5]"
   ]
  },
  {
   "cell_type": "code",
   "execution_count": 42,
   "id": "0a66ead8-9dd0-4b33-b13d-3be14d787445",
   "metadata": {},
   "outputs": [
    {
     "data": {
      "text/plain": [
       "[1, 2, 3]"
      ]
     },
     "execution_count": 42,
     "metadata": {},
     "output_type": "execute_result"
    }
   ],
   "source": [
    "lit = [[1,2,3,4] , [5,6,7,8]]\n",
    "lit[0][0:3]"
   ]
  },
  {
   "cell_type": "code",
   "execution_count": 57,
   "id": "83ae9765-cd8d-4cc2-bf62-2c37c60f4b73",
   "metadata": {},
   "outputs": [
    {
     "data": {
      "text/plain": [
       "array([[3, 4],\n",
       "       [8, 9]])"
      ]
     },
     "execution_count": 57,
     "metadata": {},
     "output_type": "execute_result"
    }
   ],
   "source": [
    "m = np.array([[0,1,2,3,4],[5,6,7,8,9],[10,11,12,13,14]])\n",
    "\n",
    "m[1,2] \n",
    "m[2,-1]\n",
    "m[1,1:3]\n",
    "m[1:3,2]\n",
    "m[0:2,3:5]"
   ]
  },
  {
   "cell_type": "markdown",
   "id": "d9a99589-2e6a-4e97-bd0a-05f99a5c433e",
   "metadata": {},
   "source": [
    "## 배열 생성"
   ]
  },
  {
   "cell_type": "code",
   "execution_count": 61,
   "id": "664951df-3c27-4db6-865e-ca4f136dae71",
   "metadata": {},
   "outputs": [
    {
     "data": {
      "text/plain": [
       "array([[0, 0],\n",
       "       [0, 0],\n",
       "       [0, 0],\n",
       "       [0, 0],\n",
       "       [0, 0]], dtype=int32)"
      ]
     },
     "execution_count": 61,
     "metadata": {},
     "output_type": "execute_result"
    }
   ],
   "source": [
    "c = np.zeros((5,2),dtype='i')\n",
    "c"
   ]
  },
  {
   "cell_type": "code",
   "execution_count": 73,
   "id": "b0c3253c-2524-4c52-84c2-88b639165559",
   "metadata": {},
   "outputs": [
    {
     "data": {
      "text/plain": [
       "array([0, 0, 0, 0, 0], dtype=uint32)"
      ]
     },
     "execution_count": 73,
     "metadata": {},
     "output_type": "execute_result"
    }
   ],
   "source": [
    "d = np.zeros(5 , dtype='u4')\n",
    "d"
   ]
  },
  {
   "cell_type": "code",
   "execution_count": 65,
   "id": "ef362c0b-da91-456e-a011-41d7f86d945d",
   "metadata": {},
   "outputs": [
    {
     "data": {
      "text/plain": [
       "array([[[1, 1, 1, 1],\n",
       "        [1, 1, 1, 1],\n",
       "        [1, 1, 1, 1]],\n",
       "\n",
       "       [[1, 1, 1, 1],\n",
       "        [1, 1, 1, 1],\n",
       "        [1, 1, 1, 1]]], dtype=int64)"
      ]
     },
     "execution_count": 65,
     "metadata": {},
     "output_type": "execute_result"
    }
   ],
   "source": [
    "e = np.ones((2,3,4),dtype='i8')\n",
    "e"
   ]
  },
  {
   "cell_type": "code",
   "execution_count": 66,
   "id": "0410492b-954c-4322-b9c5-e973160e404b",
   "metadata": {},
   "outputs": [
    {
     "data": {
      "text/plain": [
       "array([1., 1., 1.], dtype=float32)"
      ]
     },
     "execution_count": 66,
     "metadata": {},
     "output_type": "execute_result"
    }
   ],
   "source": [
    "f = np.ones_like(b,dtype='f') # 다른 배열과 같은 형태의 배열 1로 생성\n",
    "f"
   ]
  },
  {
   "cell_type": "code",
   "execution_count": 67,
   "id": "1310e0a4-4784-49da-95b5-8acb00cf36e1",
   "metadata": {},
   "outputs": [
    {
     "data": {
      "text/plain": [
       "array([[1.20146721e-311, 3.16202013e-322, 0.00000000e+000],\n",
       "       [0.00000000e+000, 1.06099790e-312, 1.21544426e-046],\n",
       "       [2.04040627e+184, 3.99777772e+175, 7.69887646e+169],\n",
       "       [3.57579757e-061, 1.69380911e-052, 1.00628941e-046]])"
      ]
     },
     "execution_count": 67,
     "metadata": {},
     "output_type": "execute_result"
    }
   ],
   "source": [
    "g = np.empty((4,3))\n",
    "g # 특정한 값으로 초기화 하지 않는 명령"
   ]
  },
  {
   "cell_type": "code",
   "execution_count": null,
   "id": "0e6f1841-0ce2-4ac5-843f-d4fe2691c2be",
   "metadata": {},
   "outputs": [],
   "source": [
    "np.arange(10)\n",
    "np.arange(3,21,2) # (시작 , 끝(포함x) , 단계)"
   ]
  },
  {
   "cell_type": "code",
   "execution_count": 25,
   "id": "9b0cbd9a-cbae-4237-80dc-94145799abb8",
   "metadata": {},
   "outputs": [
    {
     "data": {
      "text/plain": [
       "array([  0.,  25.,  50.,  75., 100.])"
      ]
     },
     "execution_count": 25,
     "metadata": {},
     "output_type": "execute_result"
    }
   ],
   "source": [
    "ex = np.linspace(0,100,5) # 100을 5개로 분할\n",
    "ex2 = np.logspace(0,100,5) # 로그 100을 5개로 분할\n",
    "ex"
   ]
  },
  {
   "cell_type": "code",
   "execution_count": 75,
   "id": "cee5e342-52c4-46f3-b6be-f9f5b759bebf",
   "metadata": {},
   "outputs": [
    {
     "data": {
      "text/plain": [
       "array([[1, 4],\n",
       "       [2, 5],\n",
       "       [3, 6]])"
      ]
     },
     "execution_count": 75,
     "metadata": {},
     "output_type": "execute_result"
    }
   ],
   "source": [
    "A = np.array([[1,2,3],[4,5,6]])\n",
    "A.T # 헹렬 변환 "
   ]
  },
  {
   "cell_type": "code",
   "execution_count": 77,
   "id": "c967bf26-2421-4b6a-aa91-51b4a6fb3241",
   "metadata": {},
   "outputs": [
    {
     "data": {
      "text/plain": [
       "array([[ 0,  1,  2,  3],\n",
       "       [ 4,  5,  6,  7],\n",
       "       [ 8,  9, 10, 11]])"
      ]
     },
     "execution_count": 77,
     "metadata": {},
     "output_type": "execute_result"
    }
   ],
   "source": [
    "a = np.arange(12)  # 배열의 크기 변경\n",
    "b = a.reshape(3,4) # 3,4 배열 만들어줌"
   ]
  },
  {
   "cell_type": "code",
   "execution_count": 78,
   "id": "f92cef9c-cc86-4c4a-8654-837807a395eb",
   "metadata": {},
   "outputs": [
    {
     "data": {
      "text/plain": [
       "array([[ 0,  1,  2,  3],\n",
       "       [ 4,  5,  6,  7],\n",
       "       [ 8,  9, 10, 11]])"
      ]
     },
     "execution_count": 78,
     "metadata": {},
     "output_type": "execute_result"
    }
   ],
   "source": [
    "a.reshape(3,-1) # 알아서 맞춰주는 느낌"
   ]
  },
  {
   "cell_type": "code",
   "execution_count": 23,
   "id": "32a80610-25fe-430b-a6aa-a78b0d305557",
   "metadata": {},
   "outputs": [
    {
     "data": {
      "text/plain": [
       "array([[['', '', ''],\n",
       "        ['', '', ''],\n",
       "        ['', '', '']],\n",
       "\n",
       "       [['', '', ''],\n",
       "        ['', '', ''],\n",
       "        ['', '', '']],\n",
       "\n",
       "       [['', '', ''],\n",
       "        ['', '', ''],\n",
       "        ['', '', '']]], dtype='<U10')"
      ]
     },
     "execution_count": 23,
     "metadata": {},
     "output_type": "execute_result"
    }
   ],
   "source": [
    "np.full((3,3,3), '',dtype='U10')"
   ]
  },
  {
   "cell_type": "markdown",
   "id": "68b16bd9-1efa-41c2-a818-72465d18982d",
   "metadata": {
    "tags": []
   },
   "source": [
    "## 배열의 크기 변형"
   ]
  },
  {
   "cell_type": "code",
   "execution_count": 80,
   "id": "863a9cf7-e1d9-478a-b882-2230e63086db",
   "metadata": {},
   "outputs": [
    {
     "data": {
      "text/plain": [
       "array([ 0,  1,  2,  3,  4,  5,  6,  7,  8,  9, 10, 11])"
      ]
     },
     "execution_count": 80,
     "metadata": {},
     "output_type": "execute_result"
    }
   ],
   "source": [
    "a.flatten() # 1차원 형태로 만들어줌\n",
    "a.ravel()# 1차원 형태로 만들어줌"
   ]
  },
  {
   "cell_type": "code",
   "execution_count": 81,
   "id": "32a8a30e-dbbb-491f-9485-7966262b2e4e",
   "metadata": {},
   "outputs": [
    {
     "data": {
      "text/plain": [
       "array([[ 0],\n",
       "       [ 1],\n",
       "       [ 2],\n",
       "       [ 3],\n",
       "       [ 4],\n",
       "       [ 5],\n",
       "       [ 6],\n",
       "       [ 7],\n",
       "       [ 8],\n",
       "       [ 9],\n",
       "       [10],\n",
       "       [11]])"
      ]
     },
     "execution_count": 81,
     "metadata": {},
     "output_type": "execute_result"
    }
   ],
   "source": [
    "a[:,np.newaxis] # 1차원 증가시키는 경우"
   ]
  },
  {
   "cell_type": "markdown",
   "id": "a919ae32-5ac7-44d1-bf7c-e0f96949e311",
   "metadata": {
    "jupyter": {
     "source_hidden": true
    },
    "tags": []
   },
   "source": [
    "## 배열 연결"
   ]
  },
  {
   "cell_type": "code",
   "execution_count": 85,
   "id": "ae8ae9b6-dafa-47d9-b81f-de969a4d46cc",
   "metadata": {},
   "outputs": [
    {
     "data": {
      "text/plain": [
       "array([[1., 1., 1., 0., 0., 0.],\n",
       "       [1., 1., 1., 0., 0., 0.],\n",
       "       [1., 1., 1., 0., 0., 0.]])"
      ]
     },
     "execution_count": 85,
     "metadata": {},
     "output_type": "execute_result"
    }
   ],
   "source": [
    "b1 = np.ones((3,3))\n",
    "b2 = np.zeros((3,3))\n",
    "np.hstack([b1,b2]) # 수평으로 합쳐줌(행의 개수가 같아야함)"
   ]
  },
  {
   "cell_type": "code",
   "execution_count": 86,
   "id": "e826fd8f-af05-43fc-9417-4c2a1aa51aad",
   "metadata": {},
   "outputs": [
    {
     "data": {
      "text/plain": [
       "array([[1., 1., 1.],\n",
       "       [1., 1., 1.],\n",
       "       [0., 0., 0.],\n",
       "       [0., 0., 0.],\n",
       "       [0., 0., 0.]])"
      ]
     },
     "execution_count": 86,
     "metadata": {},
     "output_type": "execute_result"
    }
   ],
   "source": [
    "a1 = np.ones((2,3))\n",
    "a2 = np.zeros((3,3))\n",
    "np.vstack([a1,a2]) # 수직으로 합쳐줌"
   ]
  },
  {
   "cell_type": "code",
   "execution_count": 87,
   "id": "d24d24dc-b14b-435c-a890-8f97a737bf2a",
   "metadata": {},
   "outputs": [
    {
     "data": {
      "text/plain": [
       "array([[[1., 0.],\n",
       "        [1., 0.],\n",
       "        [1., 0.],\n",
       "        [1., 0.]],\n",
       "\n",
       "       [[1., 0.],\n",
       "        [1., 0.],\n",
       "        [1., 0.],\n",
       "        [1., 0.]],\n",
       "\n",
       "       [[1., 0.],\n",
       "        [1., 0.],\n",
       "        [1., 0.],\n",
       "        [1., 0.]]])"
      ]
     },
     "execution_count": 87,
     "metadata": {},
     "output_type": "execute_result"
    }
   ],
   "source": [
    "c1 = np.ones((3,4))\n",
    "c2 = np.zeros((3,4))\n",
    "np.dstack([c1,c2]) #안쪽 원소의 차원 증가"
   ]
  },
  {
   "cell_type": "code",
   "execution_count": null,
   "id": "2afaeaab-21a7-4fa9-a058-94da80789a03",
   "metadata": {},
   "outputs": [],
   "source": [
    "np.stack([c1,c2],axis=0) # 가장 바깥 값이 2인 차원이 추가(통으로 추가)\n"
   ]
  },
  {
   "cell_type": "code",
   "execution_count": null,
   "id": "c0464f40-ca31-49ab-8b16-94f950f995f9",
   "metadata": {},
   "outputs": [],
   "source": [
    "d1 =  np.ones((4,5))\n",
    "d2 =  np.zeros((4,5))\n",
    "d3 = np.arange(20).reshape(4,5)"
   ]
  },
  {
   "cell_type": "code",
   "execution_count": 16,
   "id": "cd4588d6-ac14-42ed-a1d5-cd6d0e954494",
   "metadata": {},
   "outputs": [
    {
     "data": {
      "text/plain": [
       "array([[[ 1.,  1.,  1.,  1.,  1.],\n",
       "        [ 1.,  1.,  1.,  1.,  1.],\n",
       "        [ 1.,  1.,  1.,  1.,  1.],\n",
       "        [ 1.,  1.,  1.,  1.,  1.]],\n",
       "\n",
       "       [[ 0.,  0.,  0.,  0.,  0.],\n",
       "        [ 0.,  0.,  0.,  0.,  0.],\n",
       "        [ 0.,  0.,  0.,  0.,  0.],\n",
       "        [ 0.,  0.,  0.,  0.,  0.]],\n",
       "\n",
       "       [[ 0.,  1.,  2.,  3.,  4.],\n",
       "        [ 5.,  6.,  7.,  8.,  9.],\n",
       "        [10., 11., 12., 13., 14.],\n",
       "        [15., 16., 17., 18., 19.]]])"
      ]
     },
     "execution_count": 16,
     "metadata": {},
     "output_type": "execute_result"
    }
   ],
   "source": [
    "np.stack([d1,d2,d3],axis=0)"
   ]
  },
  {
   "cell_type": "code",
   "execution_count": 17,
   "id": "54f06baf-720f-4e7f-9ede-9755daa6520c",
   "metadata": {},
   "outputs": [
    {
     "data": {
      "text/plain": [
       "(3, 4, 5)"
      ]
     },
     "execution_count": 17,
     "metadata": {},
     "output_type": "execute_result"
    }
   ],
   "source": [
    "np.stack([d1,d2,d3],axis=0).shape"
   ]
  },
  {
   "cell_type": "code",
   "execution_count": 93,
   "id": "bda3e967-eb7d-4a15-828e-686cfd765f7e",
   "metadata": {},
   "outputs": [
    {
     "data": {
      "text/plain": [
       "array([[[ 1.,  1.,  1.,  1.,  1.],\n",
       "        [ 0.,  0.,  0.,  0.,  0.],\n",
       "        [ 0.,  1.,  2.,  3.,  4.]],\n",
       "\n",
       "       [[ 1.,  1.,  1.,  1.,  1.],\n",
       "        [ 0.,  0.,  0.,  0.,  0.],\n",
       "        [ 5.,  6.,  7.,  8.,  9.]],\n",
       "\n",
       "       [[ 1.,  1.,  1.,  1.,  1.],\n",
       "        [ 0.,  0.,  0.,  0.,  0.],\n",
       "        [10., 11., 12., 13., 14.]],\n",
       "\n",
       "       [[ 1.,  1.,  1.,  1.,  1.],\n",
       "        [ 0.,  0.,  0.,  0.,  0.],\n",
       "        [15., 16., 17., 18., 19.]]])"
      ]
     },
     "execution_count": 93,
     "metadata": {},
     "output_type": "execute_result"
    }
   ],
   "source": [
    "np.stack([d1,d2,d3],axis=1) #가로 "
   ]
  },
  {
   "cell_type": "code",
   "execution_count": 18,
   "id": "9162a8a1-726c-4ba2-95cd-1a6bf1fa4784",
   "metadata": {},
   "outputs": [
    {
     "data": {
      "text/plain": [
       "(4, 3, 5)"
      ]
     },
     "execution_count": 18,
     "metadata": {},
     "output_type": "execute_result"
    }
   ],
   "source": [
    "np.stack([d1,d2,d3],axis=1).shape"
   ]
  },
  {
   "cell_type": "code",
   "execution_count": 94,
   "id": "7c3f558a-025e-4966-aa17-ba65198f6028",
   "metadata": {},
   "outputs": [
    {
     "data": {
      "text/plain": [
       "array([[[ 1.,  0.,  0.],\n",
       "        [ 1.,  0.,  1.],\n",
       "        [ 1.,  0.,  2.],\n",
       "        [ 1.,  0.,  3.],\n",
       "        [ 1.,  0.,  4.]],\n",
       "\n",
       "       [[ 1.,  0.,  5.],\n",
       "        [ 1.,  0.,  6.],\n",
       "        [ 1.,  0.,  7.],\n",
       "        [ 1.,  0.,  8.],\n",
       "        [ 1.,  0.,  9.]],\n",
       "\n",
       "       [[ 1.,  0., 10.],\n",
       "        [ 1.,  0., 11.],\n",
       "        [ 1.,  0., 12.],\n",
       "        [ 1.,  0., 13.],\n",
       "        [ 1.,  0., 14.]],\n",
       "\n",
       "       [[ 1.,  0., 15.],\n",
       "        [ 1.,  0., 16.],\n",
       "        [ 1.,  0., 17.],\n",
       "        [ 1.,  0., 18.],\n",
       "        [ 1.,  0., 19.]]])"
      ]
     },
     "execution_count": 94,
     "metadata": {},
     "output_type": "execute_result"
    }
   ],
   "source": [
    "np.stack([d1,d2,d3],axis=2) #세로"
   ]
  },
  {
   "cell_type": "code",
   "execution_count": 19,
   "id": "497bae52-9b28-4d9a-9630-7bd77a7ba5c7",
   "metadata": {},
   "outputs": [
    {
     "data": {
      "text/plain": [
       "(4, 5, 3)"
      ]
     },
     "execution_count": 19,
     "metadata": {},
     "output_type": "execute_result"
    }
   ],
   "source": [
    "np.stack([d1,d2,d3],axis=2).shape"
   ]
  },
  {
   "cell_type": "code",
   "execution_count": null,
   "id": "8128cb36-c75f-45e4-880b-91f0429c56a8",
   "metadata": {},
   "outputs": [],
   "source": [
    "a = np.array([0,1,2],[3,4,5]])\n",
    "np.tile(a,2) # 반복을 시켜줌 "
   ]
  },
  {
   "cell_type": "markdown",
   "id": "98bc6ab0-0ba2-4a35-8afa-bc27544424c0",
   "metadata": {},
   "source": [
    "## 연습문제"
   ]
  },
  {
   "cell_type": "code",
   "execution_count": 122,
   "id": "376d2d06-bfd5-47c9-9840-b39ce5cb5bea",
   "metadata": {},
   "outputs": [
    {
     "data": {
      "text/plain": [
       "array([[  0.,   0.,   0.,   1.,   1.],\n",
       "       [  0.,   0.,   0.,   1.,   1.],\n",
       "       [  0.,   0.,   0.,   1.,   1.],\n",
       "       [ 10.,  20.,  30.,  40.,  50.],\n",
       "       [ 60.,  70.,  80.,  90., 100.],\n",
       "       [110., 120., 130., 140., 150.],\n",
       "       [  0.,   0.,   0.,   1.,   1.],\n",
       "       [  0.,   0.,   0.,   1.,   1.],\n",
       "       [  0.,   0.,   0.,   1.,   1.],\n",
       "       [ 10.,  20.,  30.,  40.,  50.],\n",
       "       [ 60.,  70.,  80.,  90., 100.],\n",
       "       [110., 120., 130., 140., 150.]])"
      ]
     },
     "execution_count": 122,
     "metadata": {},
     "output_type": "execute_result"
    }
   ],
   "source": [
    "a =  np.ones((3,2))\n",
    "b =  np.zeros((3,3))\n",
    "c = np.arange(10,160,10).reshape(3,5)\n",
    "k = np.hstack([b,a])\n",
    "k2 = np.vstack([k,c])\n",
    "k3 = np.tile(k2,(2,1))\n",
    "k3"
   ]
  },
  {
   "cell_type": "markdown",
   "id": "2ac9e785-0d7a-459f-ba7f-c0c7bc0b69fe",
   "metadata": {},
   "source": [
    "## 벡터화 연산"
   ]
  },
  {
   "cell_type": "code",
   "execution_count": 124,
   "id": "e26e25d0-9de9-46e6-948b-e03274f254fe",
   "metadata": {},
   "outputs": [
    {
     "data": {
      "text/plain": [
       "array([10002, 10004, 10006, ..., 29996, 29998, 30000])"
      ]
     },
     "execution_count": 124,
     "metadata": {},
     "output_type": "execute_result"
    }
   ],
   "source": [
    "x = np.arange(1,10001)\n",
    "y = np.arange(10001, 20001)\n",
    "\n",
    "z = x+y\n",
    "z"
   ]
  },
  {
   "cell_type": "code",
   "execution_count": 126,
   "id": "9897768a-86a5-43df-b803-5f5977998976",
   "metadata": {},
   "outputs": [
    {
     "data": {
      "text/plain": [
       "array([False,  True, False,  True])"
      ]
     },
     "execution_count": 126,
     "metadata": {},
     "output_type": "execute_result"
    }
   ],
   "source": [
    "a = np.array([1,2,3,4])\n",
    "b = np.array([4,2,2,4])\n",
    "c = np.array([1,2,3,4])\n",
    "\n",
    "np.all(a == b) # 다 같으면 TRUE , 아니면 FALSE"
   ]
  },
  {
   "cell_type": "markdown",
   "id": "957f0e20-d4ce-40fc-9234-898ff1929412",
   "metadata": {},
   "source": [
    "## 차원 축소 연산"
   ]
  },
  {
   "cell_type": "code",
   "execution_count": 128,
   "id": "55e86cfc-5041-429c-9a5d-9c17d57967ff",
   "metadata": {},
   "outputs": [
    {
     "data": {
      "text/plain": [
       "10"
      ]
     },
     "execution_count": 128,
     "metadata": {},
     "output_type": "execute_result"
    }
   ],
   "source": [
    "x = np.array([1,2,3,4])\n",
    "np.sum(x)"
   ]
  },
  {
   "cell_type": "code",
   "execution_count": 131,
   "id": "42c83bc1-f699-435c-b3d2-9491b386305f",
   "metadata": {},
   "outputs": [
    {
     "data": {
      "text/plain": [
       "array([ 6, 22, 38])"
      ]
     },
     "execution_count": 131,
     "metadata": {},
     "output_type": "execute_result"
    }
   ],
   "source": [
    "x = np.arange(12).reshape(3,-1)\n",
    "x.sum(axis=0) # 세로로 더한다 (행간 더한다)\n",
    "x.sum(axis=1) # 가로로 더한다 (열간 더한다)"
   ]
  },
  {
   "cell_type": "code",
   "execution_count": 134,
   "id": "3f9a06a3-71a4-4d6a-8163-14f994c0af41",
   "metadata": {},
   "outputs": [
    {
     "data": {
      "text/plain": [
       "0"
      ]
     },
     "execution_count": 134,
     "metadata": {},
     "output_type": "execute_result"
    }
   ],
   "source": [
    "x = np.arange(20).reshape(2,5,-1)\n",
    "np.min(x)\n",
    "x.min(axis=0)\n",
    "np.min(x,axis=1)\n",
    "x.min(axis=2)"
   ]
  },
  {
   "cell_type": "code",
   "execution_count": null,
   "id": "d32a1135-b19e-4149-aab6-244b1f8e58d1",
   "metadata": {},
   "outputs": [],
   "source": [
    "x = np.arange(20).reshape(2,5,-1)\n",
    "np.argmin(x)\n",
    "x.argmin(axis=0)\n",
    "np.argmin(x,axis=1)\n",
    "x.argmin(axis=2)            # 해당 배열의 제일 작은 값의 인덱스를 반환"
   ]
  },
  {
   "cell_type": "code",
   "execution_count": null,
   "id": "d4766245-df0d-4b17-b556-1fa445837985",
   "metadata": {},
   "outputs": [],
   "source": [
    "x = np.arange(20).reshape(2,5,-1)\n",
    "np.max(x)\n",
    "x.max(axis=0)\n",
    "np.max(x,axis=1)\n",
    "x.mix(axis=2)"
   ]
  },
  {
   "cell_type": "code",
   "execution_count": null,
   "id": "37235ff1-f192-46fa-b8bf-c5b3ccd012c1",
   "metadata": {},
   "outputs": [],
   "source": [
    "x = np.arange(20).reshape(2,5,-1)\n",
    "np.argmax(x)\n",
    "x.argmax(axis=0)\n",
    "np.argmax(x,axis=1)\n",
    "x.argmax(axis=2)"
   ]
  },
  {
   "cell_type": "code",
   "execution_count": null,
   "id": "7b9878d0-6bac-43b8-ad7b-d31ef9d17c2e",
   "metadata": {},
   "outputs": [],
   "source": [
    "x.mean() # 평균 구하기\n",
    "np.median(x) # 중앙값 구하기 "
   ]
  },
  {
   "cell_type": "code",
   "execution_count": 135,
   "id": "8c74e538-5034-401c-9099-58ae50fd99dc",
   "metadata": {},
   "outputs": [
    {
     "data": {
      "text/plain": [
       "True"
      ]
     },
     "execution_count": 135,
     "metadata": {},
     "output_type": "execute_result"
    }
   ],
   "source": [
    "a = np.array([1,2,3,2])\n",
    "b = np.array([2,2,3,2])\n",
    "c = np.array([6,4,4,5])\n",
    "((a<=b) & (b<=c)).all()"
   ]
  },
  {
   "cell_type": "markdown",
   "id": "72b35552-02b0-4e35-be9b-3b497cb80238",
   "metadata": {
    "tags": []
   },
   "source": [
    "## 연습문제"
   ]
  },
  {
   "cell_type": "code",
   "execution_count": 142,
   "id": "dbd50bfa-700f-4781-aed4-681b81f624d0",
   "metadata": {},
   "outputs": [
    {
     "data": {
      "text/plain": [
       "array([1.1, 2.7, 0.7, 0.2, 2.7])"
      ]
     },
     "execution_count": 142,
     "metadata": {},
     "output_type": "execute_result"
    }
   ],
   "source": [
    "practice = np.array([[1.1, 7.1, 8.0, 2.1, 6.5, 7.2],\n",
    "                                [2.7, 5.2, 3.3, 9.0, 7.7, 2.8],\n",
    "                                [0.7, 8.8, 4.2, 8.9, 4.3, 7.4],\n",
    "                                [8.2, 1.1, 5.4, 2.9, 6.9, 0.2],\n",
    "                                [7.4, 4.8, 2.7, 3.1, 2.8, 8.9]])\n",
    "\n",
    "np.max(practice)\n",
    "practice.sum(axis=0)\n",
    "practice.sum(axis=0)\n",
    "practice.mean(axis=1)\n",
    "practice.min(axis=1)"
   ]
  },
  {
   "cell_type": "markdown",
   "id": "169ac364-b913-43f6-b73a-2d4a5de6569b",
   "metadata": {},
   "source": [
    "## 정렬"
   ]
  },
  {
   "cell_type": "code",
   "execution_count": 143,
   "id": "5d6b1d48-e7df-406c-8e11-f548444a353a",
   "metadata": {},
   "outputs": [
    {
     "data": {
      "text/plain": [
       "array([2, 3, 1, 0], dtype=int64)"
      ]
     },
     "execution_count": 143,
     "metadata": {},
     "output_type": "execute_result"
    }
   ],
   "source": [
    "a = np.array([42,38,12,25])\n",
    "j=np.argsort(a)\n",
    "j   # 숫자 작은거 순서대로 인덱스만 추출해줌"
   ]
  },
  {
   "cell_type": "code",
   "execution_count": 144,
   "id": "b0d7b6e0-38d1-4c79-8d7f-d2c707caeb36",
   "metadata": {},
   "outputs": [
    {
     "data": {
      "text/plain": [
       "array([12, 25, 38, 42])"
      ]
     },
     "execution_count": 144,
     "metadata": {},
     "output_type": "execute_result"
    }
   ],
   "source": [
    "a[j]"
   ]
  },
  {
   "cell_type": "code",
   "execution_count": 145,
   "id": "4bb2756d-3532-4d7f-a223-095e4c9db60f",
   "metadata": {},
   "outputs": [
    {
     "data": {
      "text/plain": [
       "array([12, 25, 38, 42])"
      ]
     },
     "execution_count": 145,
     "metadata": {},
     "output_type": "execute_result"
    }
   ],
   "source": [
    "np.sort(a)"
   ]
  },
  {
   "cell_type": "code",
   "execution_count": 147,
   "id": "baf9b751-08aa-4593-aca5-78d418b04551",
   "metadata": {},
   "outputs": [
    {
     "name": "stdout",
     "output_type": "stream",
     "text": [
      "[1 4 5]\n",
      "[[1 2 1]\n",
      " [3 4 3]\n",
      " [5 6 5]]\n"
     ]
    }
   ],
   "source": [
    "a = np.array([[1,2],[3,4],[5,6]])\n",
    "print(a[[0,1,2], [0,1,0]])  # 0,1,2 -> 행  /  0,1,0 -> 열  따라서 1,4,5\n",
    "print(a[:, [0,1,0]])   # : -> 행 / 0,1,0 -> 열 (행이 0일때 0,1,0값 , 행이1일때 0,1,0값 , 행이 2일대 0,1,0값)"
   ]
  },
  {
   "cell_type": "markdown",
   "id": "c83dc26b-c3b1-4830-8f32-ca9b0fda3fe0",
   "metadata": {},
   "source": [
    "## 연습문제"
   ]
  },
  {
   "cell_type": "code",
   "execution_count": 22,
   "id": "738f35be-b568-434f-a0df-40f2f7dc75f8",
   "metadata": {},
   "outputs": [
    {
     "data": {
      "text/plain": [
       "array([[  1,   4,   2,   3],\n",
       "       [ 46,  71,  99, 100],\n",
       "       [ 81, 100,  59,  90]])"
      ]
     },
     "execution_count": 22,
     "metadata": {},
     "output_type": "execute_result"
    }
   ],
   "source": [
    "scores = np.array([[ 1, 2 , 3 , 4],[46,99,100,71],[81,59,90,100]])\n",
    "k=np.argsort(scores[1,:]) # 영어 성적열 기준으로 인덱스 추출\n",
    "scores[:,k]"
   ]
  },
  {
   "cell_type": "markdown",
   "id": "a2f8acf7-c6d8-4268-981b-1f57a4275330",
   "metadata": {},
   "source": [
    "## 시드 설정하기"
   ]
  },
  {
   "cell_type": "code",
   "execution_count": 189,
   "id": "da960cb1-88ba-4321-b7de-fbf146926947",
   "metadata": {},
   "outputs": [
    {
     "data": {
      "text/plain": [
       "array([0.5488135 , 0.71518937, 0.60276338, 0.54488318, 0.4236548 ,\n",
       "       0.64589411, 0.43758721, 0.891773  , 0.96366276, 0.38344152])"
      ]
     },
     "execution_count": 189,
     "metadata": {},
     "output_type": "execute_result"
    }
   ],
   "source": [
    "np.random.seed(0)\n",
    "np.random.rand(10)\n",
    "np.random.seed(0)\n",
    "np.random.rand(10)\n",
    "# 시드가 같으면 같은 숫자가 만들어진다 "
   ]
  },
  {
   "cell_type": "markdown",
   "id": "29f9b53e-da7b-45d0-ba5c-cb850c045fbe",
   "metadata": {},
   "source": [
    "## 데이터 순서 바꾸기"
   ]
  },
  {
   "cell_type": "code",
   "execution_count": 196,
   "id": "62c27e10-b46f-41df-8f3f-2024d77eb753",
   "metadata": {},
   "outputs": [
    {
     "data": {
      "text/plain": [
       "array([0, 9, 2, 3, 5, 6, 7, 1, 8, 4])"
      ]
     },
     "execution_count": 196,
     "metadata": {},
     "output_type": "execute_result"
    }
   ],
   "source": [
    "x = np.arange(10)\n",
    "np.random.shuffle(x)\n",
    "x"
   ]
  },
  {
   "cell_type": "markdown",
   "id": "12284b4e-f83b-4c8e-96a1-6893e8fed3da",
   "metadata": {},
   "source": [
    "## 데이터 샘플링"
   ]
  },
  {
   "cell_type": "code",
   "execution_count": null,
   "id": "c5952dd5-c274-4898-8c04-c8fdc36fb054",
   "metadata": {},
   "outputs": [],
   "source": [
    "np.random.chocie(5,5,replace=False) # 5개중에서 5개 뽑는데 같은거 안뽑음 (비복원)  / True 면 복원\n",
    "np.random.choice(5,3,replace=False) # 5개중에서 3개만 선택 (비복원) / True 면 복원\n",
    "np.random.choice(5,10) # 반복해서 10개 선택 (복원)\n",
    "np.random.choice(5,10, p=[0.1,0,0.3,0.6,0]) # 10개 뽑는데 각각 확률도 지정"
   ]
  },
  {
   "cell_type": "code",
   "execution_count": null,
   "id": "8769d44d-f3f6-4958-87dc-993019d4bf92",
   "metadata": {},
   "outputs": [],
   "source": [
    "np.random.rand(10) # 0~1사이 균일한 확률분포 실수 난수 생성\n",
    "np.random.rand(3,5) # 0~1사이 균일한 확률분포 실수 난수(3,5) 형태로 생성\n",
    "np.random.randn(10) # 평균이 0이고 표준편차가 1인 표준정규분포 난수 생성\n",
    "np.random.randn(3,5) # 평균이 0이고 표준편차가 1인 표준정규분포 난수 (3,5)형태로 생성 "
   ]
  },
  {
   "cell_type": "code",
   "execution_count": null,
   "id": "02b1847b-8bc1-4901-9466-9b0497c0cbf7",
   "metadata": {},
   "outputs": [],
   "source": [
    "np.random.randint(10,size=10) # 10미만 10개 뽑기\n",
    "np.random.randint(10,20,size=10) # 10 ~ 20 사이 10개 뽑기 \n",
    "np.random.randint(10,20,size=(3,5)) # 10~20사이 (3.5)로 뽑기"
   ]
  },
  {
   "cell_type": "markdown",
   "id": "a9bd9399-ceaf-4f0e-b7ca-c800633a852b",
   "metadata": {},
   "source": [
    "## 연습문제"
   ]
  },
  {
   "cell_type": "code",
   "execution_count": 209,
   "id": "c94beb46-84de-43ce-b277-5b7292597f03",
   "metadata": {},
   "outputs": [
    {
     "data": {
      "text/plain": [
       "0.56"
      ]
     },
     "execution_count": 209,
     "metadata": {},
     "output_type": "execute_result"
    }
   ],
   "source": [
    "np.random.seed(0)\n",
    "k = np.random.choice(2,100)\n",
    "sum(k)/len(k)"
   ]
  },
  {
   "cell_type": "code",
   "execution_count": 6,
   "id": "5361d3b7-d606-40db-83e9-a1328555f7cb",
   "metadata": {},
   "outputs": [
    {
     "data": {
      "text/plain": [
       "3.42"
      ]
     },
     "execution_count": 6,
     "metadata": {},
     "output_type": "execute_result"
    }
   ],
   "source": [
    "import numpy as np\n",
    "np.random.seed(0)\n",
    "a = np.random.randint(1,7,size=100)\n",
    "np.mean(a)"
   ]
  },
  {
   "cell_type": "markdown",
   "id": "611d5aa2-1178-4fc7-b3e6-4fa40b794f86",
   "metadata": {},
   "source": [
    "## 정수 데이터 카운팅"
   ]
  },
  {
   "cell_type": "code",
   "execution_count": 214,
   "id": "2089ca73-9c1f-4150-994b-f54060772807",
   "metadata": {},
   "outputs": [
    {
     "data": {
      "text/plain": [
       "array([2, 2, 1], dtype=int64)"
      ]
     },
     "execution_count": 214,
     "metadata": {},
     "output_type": "execute_result"
    }
   ],
   "source": [
    "np.unique([11,11,2,2,34,34])\n",
    "a = np.array(['a','b','b','c','a'])\n",
    "index , count = np.unique(a,return_counts=True)\n",
    "index\n",
    "count"
   ]
  },
  {
   "cell_type": "code",
   "execution_count": 215,
   "id": "8783b105-828f-4455-8594-740723c1e3d8",
   "metadata": {},
   "outputs": [
    {
     "data": {
      "text/plain": [
       "array([0, 2, 3, 1, 0, 0], dtype=int64)"
      ]
     },
     "execution_count": 215,
     "metadata": {},
     "output_type": "execute_result"
    }
   ],
   "source": [
    "np.bincount([1,1,2,2,2,3,],minlength=6) # 0부터 6-1=5 숫자에 대해 각각 카운트를 해줌 \n",
    "# 0 1번 / 1 2번 / 2 3번 / 3 1번 / 4,5 0번 "
   ]
  },
  {
   "cell_type": "code",
   "execution_count": null,
   "id": "51fda8d2-fdce-4fb5-b9da-c73c325c2dac",
   "metadata": {},
   "outputs": [],
   "source": []
  },
  {
   "cell_type": "code",
   "execution_count": null,
   "id": "8352ce0d-0634-4e82-af48-6b73706543e9",
   "metadata": {},
   "outputs": [],
   "source": []
  }
 ],
 "metadata": {
  "kernelspec": {
   "display_name": "Python 3 (ipykernel)",
   "language": "python",
   "name": "python3"
  },
  "language_info": {
   "codemirror_mode": {
    "name": "ipython",
    "version": 3
   },
   "file_extension": ".py",
   "mimetype": "text/x-python",
   "name": "python",
   "nbconvert_exporter": "python",
   "pygments_lexer": "ipython3",
   "version": "3.9.12"
  }
 },
 "nbformat": 4,
 "nbformat_minor": 5
}
