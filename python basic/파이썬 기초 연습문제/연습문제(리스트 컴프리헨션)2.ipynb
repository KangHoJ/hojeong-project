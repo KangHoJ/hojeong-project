{
 "cells": [
  {
   "cell_type": "code",
   "execution_count": 43,
   "id": "b27254d3-1ff0-4361-9131-afb6049014be",
   "metadata": {},
   "outputs": [
    {
     "data": {
      "text/plain": [
       "21.11111111111111"
      ]
     },
     "execution_count": 43,
     "metadata": {},
     "output_type": "execute_result"
    }
   ],
   "source": [
    "def to_celsius(fahrenheit):\n",
    "    '''\n",
    "    섭씨 온도를 구하기 공식\n",
    "    '''\n",
    "    return (fahrenheit - 32) * 5 / 9\n",
    "\n",
    "to_celsius(70)"
   ]
  },
  {
   "cell_type": "code",
   "execution_count": 65,
   "id": "3ebf0bbe-f311-46ee-907d-b4edc97c06e7",
   "metadata": {},
   "outputs": [
    {
     "name": "stdout",
     "output_type": "stream",
     "text": [
      "number가 짝수면 '짝수', 홀수면 '홀수' 반환\n",
      "짝수\n",
      "홀수\n",
      "None\n"
     ]
    }
   ],
   "source": [
    "def odd_even(number):\n",
    "    '''number가 짝수면 '짝수', 홀수면 '홀수' 반환'''\n",
    "    if type(number) != int or (type(number)==int and number < 0 ) :\n",
    "        return \n",
    "    elif number % 2 == 0:\n",
    "        return '짝수'\n",
    "    elif number % 2 !=0:\n",
    "        return '홀수'\n",
    "    else:\n",
    "        return \n",
    "\n",
    "print(odd_even.__doc__)\n",
    "print(odd_even(10))\n",
    "print(odd_even(9))\n",
    "print(odd_even('가'))"
   ]
  }
 ],
 "metadata": {
  "kernelspec": {
   "display_name": "Python 3 (ipykernel)",
   "language": "python",
   "name": "python3"
  },
  "language_info": {
   "codemirror_mode": {
    "name": "ipython",
    "version": 3
   },
   "file_extension": ".py",
   "mimetype": "text/x-python",
   "name": "python",
   "nbconvert_exporter": "python",
   "pygments_lexer": "ipython3",
   "version": "3.9.12"
  }
 },
 "nbformat": 4,
 "nbformat_minor": 5
}
