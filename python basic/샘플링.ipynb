{
 "cells": [
  {
   "cell_type": "markdown",
   "id": "c5d0ce6e-e4d6-4891-92cb-02b78933001e",
   "metadata": {},
   "source": [
    "## 시드 설정하기"
   ]
  },
  {
   "cell_type": "code",
   "execution_count": 189,
   "id": "271afa80-40f4-41c2-a45a-49c51f885dc4",
   "metadata": {},
   "outputs": [
    {
     "data": {
      "text/plain": [
       "array([0.5488135 , 0.71518937, 0.60276338, 0.54488318, 0.4236548 ,\n",
       "       0.64589411, 0.43758721, 0.891773  , 0.96366276, 0.38344152])"
      ]
     },
     "execution_count": 189,
     "metadata": {},
     "output_type": "execute_result"
    }
   ],
   "source": [
    "np.random.seed(0)\n",
    "np.random.rand(10)\n",
    "np.random.seed(0)\n",
    "np.random.rand(10)\n",
    "# 시드가 같으면 같은 숫자가 만들어진다 "
   ]
  },
  {
   "cell_type": "markdown",
   "id": "6cba2796-8ceb-4d33-b344-9aa84a116ce1",
   "metadata": {},
   "source": [
    "## 데이터 샘플링"
   ]
  },
  {
   "cell_type": "code",
   "execution_count": null,
   "id": "bc6d3ad2-e2f5-4de5-83a5-2023e0c79365",
   "metadata": {},
   "outputs": [],
   "source": [
    "np.random.chocie(5,5,replace=False) # 5개중에서 5개 뽑는데 같은거 안뽑음 (비복원)  / True 면 복원\n",
    "np.random.choice(5,3,replace=False) # 5개중에서 3개만 선택 (비복원) / True 면 복원\n",
    "np.random.choice(5,10) # 반복해서 10개 선택 (복원)\n",
    "np.random.choice(5,10, p=[0.1,0,0.3,0.6,0]) # 10개 뽑는데 각각 확률도 지정"
   ]
  },
  {
   "cell_type": "code",
   "execution_count": null,
   "id": "dfe3dd7f-ba88-4a33-b891-7d75ac848f34",
   "metadata": {},
   "outputs": [],
   "source": [
    "np.random.rand(10) # 0~1사이 균일한 확률분포 실수 난수 생성\n",
    "np.random.rand(3,5) # 0~1사이 균일한 확률분포 실수 난수(3,5) 형태로 생성\n",
    "np.random.randn(10) # 평균이 0이고 표준편차가 1인 표준정규분포 난수 생성\n",
    "np.random.randn(3,5) # 평균이 0이고 표준편차가 1인 표준정규분포 난수 (3,5)형태로 생성 "
   ]
  },
  {
   "cell_type": "code",
   "execution_count": null,
   "id": "360ecff3-e60a-43fd-a214-37c553b01d1e",
   "metadata": {},
   "outputs": [],
   "source": [
    "np.random.randint(10,size=10) # 10미만 10개 뽑기\n",
    "np.random.randint(10,20,size=10) # 10 ~ 20 사이 10개 뽑기 \n",
    "np.random.randint(10,20,size=(3,5)) # 10~20사이 (3.5)로 뽑기"
   ]
  }
 ],
 "metadata": {
  "kernelspec": {
   "display_name": "Python 3 (ipykernel)",
   "language": "python",
   "name": "python3"
  },
  "language_info": {
   "codemirror_mode": {
    "name": "ipython",
    "version": 3
   },
   "file_extension": ".py",
   "mimetype": "text/x-python",
   "name": "python",
   "nbconvert_exporter": "python",
   "pygments_lexer": "ipython3",
   "version": "3.9.12"
  }
 },
 "nbformat": 4,
 "nbformat_minor": 5
}
