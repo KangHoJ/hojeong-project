{
 "cells": [
  {
   "cell_type": "markdown",
   "id": "d705f42b-e257-48e2-93e6-d87b32cd97a0",
   "metadata": {
    "tags": []
   },
   "source": [
    "# while문"
   ]
  },
  {
   "cell_type": "code",
   "execution_count": 1,
   "id": "1080cf5a-350e-4261-943a-93e04f242c8f",
   "metadata": {},
   "outputs": [
    {
     "name": "stdout",
     "output_type": "stream",
     "text": [
      "Hello world\n",
      "Hello world\n",
      "Hello world\n"
     ]
    }
   ],
   "source": [
    "i = 0\n",
    "while i < 3:\n",
    "    print('Hello world')\n",
    "    i +=1"
   ]
  },
  {
   "cell_type": "code",
   "execution_count": 4,
   "id": "06005eab-548a-45a0-b893-7c969b3ea72c",
   "metadata": {},
   "outputs": [
    {
     "name": "stdin",
     "output_type": "stream",
     "text": [
      "반복할 횟수를 입력하세요: 3\n"
     ]
    },
    {
     "name": "stdout",
     "output_type": "stream",
     "text": [
      "hello 3\n",
      "hello 2\n",
      "hello 1\n"
     ]
    }
   ],
   "source": [
    "count = int(input(\"반복할 횟수를 입력하세요:\"))\n",
    "\n",
    "while count >0:\n",
    "    print('hello',count)\n",
    "    count -=1\n",
    "    "
   ]
  },
  {
   "cell_type": "code",
   "execution_count": 5,
   "id": "78c0a4d2-5ae8-4f86-8a96-df176e3b377f",
   "metadata": {},
   "outputs": [
    {
     "name": "stdout",
     "output_type": "stream",
     "text": [
      "87\n",
      "22\n",
      "31\n",
      "98\n"
     ]
    }
   ],
   "source": [
    "a= [ 87,22,31,98]\n",
    "\n",
    "i=0\n",
    "\n",
    "while i < len(a):\n",
    "    print(a[i])\n",
    "    i +=1\n",
    "# 인덱싱을 할 때는 정확한 범위의 인덱스에 접근해야 한다"
   ]
  }
 ],
 "metadata": {
  "kernelspec": {
   "display_name": "Python 3 (ipykernel)",
   "language": "python",
   "name": "python3"
  },
  "language_info": {
   "codemirror_mode": {
    "name": "ipython",
    "version": 3
   },
   "file_extension": ".py",
   "mimetype": "text/x-python",
   "name": "python",
   "nbconvert_exporter": "python",
   "pygments_lexer": "ipython3",
   "version": "3.9.12"
  }
 },
 "nbformat": 4,
 "nbformat_minor": 5
}
