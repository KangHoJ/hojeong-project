{
 "cells": [
  {
   "cell_type": "markdown",
   "id": "f3e34e6b-2ce0-4fab-a960-efae9b57bcd1",
   "metadata": {
    "tags": []
   },
   "source": [
    "## 리스트 컴프리헨션"
   ]
  },
  {
   "cell_type": "code",
   "execution_count": 3,
   "id": "e92c642d-1310-4683-ad35-da9a860d80a8",
   "metadata": {},
   "outputs": [
    {
     "name": "stdout",
     "output_type": "stream",
     "text": [
      "[0, 2, 4, 6, 8]\n"
     ]
    }
   ],
   "source": [
    "list_p = [ i for i in range(10) if i % 2 ==0]\n",
    "print(list_p)"
   ]
  },
  {
   "cell_type": "code",
   "execution_count": 5,
   "id": "b8b7674d-196c-4b59-8289-fa89a7246788",
   "metadata": {
    "scrolled": true
   },
   "outputs": [
    {
     "name": "stdout",
     "output_type": "stream",
     "text": [
      "1\n",
      "2\n",
      "3\n",
      "4\n",
      "5\n",
      "3\n",
      "4\n"
     ]
    }
   ],
   "source": [
    "a = [[1,2,3,4,5],[3,4]]\n",
    "for item in a:   #요소 두개를 가져옴\n",
    "    for i in item: # 요소 하나당 다 뽑아냄 \n",
    "        print(i)"
   ]
  },
  {
   "cell_type": "code",
   "execution_count": 8,
   "id": "7c915dfc-a0a7-46cb-8cda-8e67baafd43b",
   "metadata": {},
   "outputs": [
    {
     "name": "stdout",
     "output_type": "stream",
     "text": [
      "[1, 2, 3, 4, 5]\n",
      "2\n"
     ]
    }
   ],
   "source": [
    "print(a[0])\n",
    "print(a[0][1])"
   ]
  },
  {
   "cell_type": "code",
   "execution_count": 1,
   "id": "23794e11-4b47-4c11-ba8b-51da0f3ec05b",
   "metadata": {},
   "outputs": [
    {
     "data": {
      "text/plain": [
       "2"
      ]
     },
     "execution_count": 1,
     "metadata": {},
     "output_type": "execute_result"
    }
   ],
   "source": [
    "easy_list = [[1,2,3,4,5],[3,4]]\n",
    "i = 0 \n",
    "\n",
    "while i <len(easy_list):\n",
    "    j = 0\n",
    "    while j < len(easy_list[i]):\n",
    "        print(easy_list[i][j])\n",
    "        j +=1\n",
    "    i+=1\n",
    "    "
   ]
  },
  {
   "cell_type": "code",
   "execution_count": 10,
   "id": "b2aba95d-e0df-439a-883d-fb187cb655f7",
   "metadata": {},
   "outputs": [],
   "source": [
    "gen = ( i for i in range(10))"
   ]
  },
  {
   "cell_type": "code",
   "execution_count": 11,
   "id": "0c5fbb66-9078-4d9e-b888-73dfa9ca7d8c",
   "metadata": {},
   "outputs": [
    {
     "data": {
      "text/plain": [
       "generator"
      ]
     },
     "execution_count": 11,
     "metadata": {},
     "output_type": "execute_result"
    }
   ],
   "source": [
    "type(gen)"
   ]
  },
  {
   "cell_type": "code",
   "execution_count": 12,
   "id": "9bf3f834-e208-4452-9285-53c25ef66a86",
   "metadata": {},
   "outputs": [
    {
     "data": {
      "text/plain": [
       "tuple"
      ]
     },
     "execution_count": 12,
     "metadata": {},
     "output_type": "execute_result"
    }
   ],
   "source": [
    "tup = tuple(i for i in range(10))\n",
    "type(tup)"
   ]
  },
  {
   "cell_type": "code",
   "execution_count": 16,
   "id": "ec8c702c-29ba-40d9-9241-e22a89b1688a",
   "metadata": {},
   "outputs": [
    {
     "data": {
      "text/plain": [
       "list"
      ]
     },
     "execution_count": 16,
     "metadata": {},
     "output_type": "execute_result"
    }
   ],
   "source": [
    "lis = list(i for i in range(10))\n",
    "type(lis)"
   ]
  }
 ],
 "metadata": {
  "kernelspec": {
   "display_name": "Python 3 (ipykernel)",
   "language": "python",
   "name": "python3"
  },
  "language_info": {
   "codemirror_mode": {
    "name": "ipython",
    "version": 3
   },
   "file_extension": ".py",
   "mimetype": "text/x-python",
   "name": "python",
   "nbconvert_exporter": "python",
   "pygments_lexer": "ipython3",
   "version": "3.9.12"
  }
 },
 "nbformat": 4,
 "nbformat_minor": 5
}
