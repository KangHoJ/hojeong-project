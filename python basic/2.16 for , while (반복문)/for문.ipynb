{
 "cells": [
  {
   "cell_type": "markdown",
   "id": "e830f0a8-a737-4b72-83e4-64608be5b6f3",
   "metadata": {},
   "source": [
    "## for문"
   ]
  },
  {
   "cell_type": "code",
   "execution_count": 1,
   "id": "9c906318-ea93-47fe-85e7-d5e9cf1f8383",
   "metadata": {},
   "outputs": [
    {
     "data": {
      "text/plain": [
       "[0, 1, 2, 3, 4, 5, 6, 7]"
      ]
     },
     "execution_count": 1,
     "metadata": {},
     "output_type": "execute_result"
    }
   ],
   "source": [
    "# range(시작하는숫자(포함),끝숫자(미포함),증감)\n",
    "list(range(0,8,1))"
   ]
  },
  {
   "cell_type": "code",
   "execution_count": 2,
   "id": "de3117fb-f4d4-4f14-84ec-b406f0241a21",
   "metadata": {},
   "outputs": [
    {
     "name": "stdout",
     "output_type": "stream",
     "text": [
      "[2, 4, 6, 8, 10, 12, 14, 16, 18, 20, 22, 24, 26, 28, 30, 32, 34, 36, 38, 40, 42, 44, 46, 48, 50, 52, 54, 56, 58, 60, 62, 64, 66, 68, 70, 72, 74, 76, 78, 80, 82, 84, 86, 88, 90, 92, 94, 96, 98]\n"
     ]
    }
   ],
   "source": [
    "even_number = list(range(2,100,2))\n",
    "print(even_number)"
   ]
  },
  {
   "cell_type": "code",
   "execution_count": 3,
   "id": "9e92e52c-58ce-4d4b-88af-d926bc6f948e",
   "metadata": {},
   "outputs": [
    {
     "name": "stdout",
     "output_type": "stream",
     "text": [
      "hello world 1\n",
      "hello world 2\n",
      "hello world 3\n",
      "hello world 4\n",
      "hello world 5\n",
      "hello world 6\n",
      "hello world 7\n",
      "hello world 8\n",
      "hello world 9\n",
      "hello world 10\n",
      "끝\n"
     ]
    }
   ],
   "source": [
    "for i in range(1,11,1):\n",
    "    print('hello world {}'.format(i))\n",
    "print('끝')"
   ]
  },
  {
   "cell_type": "code",
   "execution_count": 4,
   "id": "8cb24cdd-fe95-4b64-87bf-2bf6919ce2df",
   "metadata": {},
   "outputs": [
    {
     "name": "stdin",
     "output_type": "stream",
     "text": [
      "인사 몇 번 해드릴까요? 5\n"
     ]
    },
    {
     "name": "stdout",
     "output_type": "stream",
     "text": [
      "Hello world\n",
      "Hello world\n",
      "Hello world\n",
      "Hello world\n",
      "Hello world\n"
     ]
    }
   ],
   "source": [
    "k = int(input(\"인사 몇 번 해드릴까요?\"))\n",
    "for i in range(k):\n",
    "    print(\"Hello world\")"
   ]
  },
  {
   "cell_type": "code",
   "execution_count": 5,
   "id": "19fb5f44-0a62-467b-9c9f-a2052aa35b42",
   "metadata": {},
   "outputs": [
    {
     "data": {
      "text/plain": [
       "[-10, -40, -70]"
      ]
     },
     "execution_count": 5,
     "metadata": {},
     "output_type": "execute_result"
    }
   ],
   "source": [
    "list(range(5,10,1))\n",
    "list(range(0,10,3))\n",
    "list(range(-10,-71,-30))\n"
   ]
  },
  {
   "cell_type": "code",
   "execution_count": 6,
   "id": "b05bbae2-2db4-4ad4-982f-96deebc04635",
   "metadata": {},
   "outputs": [
    {
     "name": "stdout",
     "output_type": "stream",
     "text": [
      "1 3 5 7 9 "
     ]
    }
   ],
   "source": [
    "for i in range(1,11,2):\n",
    "    print(i,end=' ')"
   ]
  },
  {
   "cell_type": "code",
   "execution_count": 7,
   "id": "84a13bb3-1860-4128-9d40-a7aa58f842f7",
   "metadata": {},
   "outputs": [
    {
     "name": "stdout",
     "output_type": "stream",
     "text": [
      "일이삼사오육"
     ]
    }
   ],
   "source": [
    "for ik in  \"일이삼사오육\": # in으로 문자열 접근 가능\n",
    "    print(ik, end='')"
   ]
  },
  {
   "cell_type": "code",
   "execution_count": 8,
   "id": "c4906506-b3c4-48ad-ad48-5ddfb10b2614",
   "metadata": {},
   "outputs": [
    {
     "name": "stdout",
     "output_type": "stream",
     "text": [
      "육오사삼이일"
     ]
    }
   ],
   "source": [
    "for ik in reversed(\"일이삼사오육\"):\n",
    "    print(ik,end = \"\")"
   ]
  },
  {
   "cell_type": "code",
   "execution_count": 9,
   "id": "6a3aeb1a-eeb1-4d39-8a04-1c3a771aaac7",
   "metadata": {},
   "outputs": [
    {
     "name": "stdout",
     "output_type": "stream",
     "text": [
      "100 -420 250 1030 210 770 240 "
     ]
    }
   ],
   "source": [
    "x = [10,-42,25,103,21,77,24]\n",
    "for k in x:\n",
    "    print(k*10,end=\" \")"
   ]
  }
 ],
 "metadata": {
  "kernelspec": {
   "display_name": "Python 3 (ipykernel)",
   "language": "python",
   "name": "python3"
  },
  "language_info": {
   "codemirror_mode": {
    "name": "ipython",
    "version": 3
   },
   "file_extension": ".py",
   "mimetype": "text/x-python",
   "name": "python",
   "nbconvert_exporter": "python",
   "pygments_lexer": "ipython3",
   "version": "3.9.12"
  }
 },
 "nbformat": 4,
 "nbformat_minor": 5
}
