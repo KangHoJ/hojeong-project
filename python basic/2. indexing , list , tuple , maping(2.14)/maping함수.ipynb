{
 "cells": [
  {
   "cell_type": "markdown",
   "id": "d59e412f-de18-4ded-8edc-37c6e5681e39",
   "metadata": {},
   "source": [
    "## maping"
   ]
  },
  {
   "cell_type": "code",
   "execution_count": null,
   "id": "ec757f8f-c806-4b33-bde6-c30c255f9431",
   "metadata": {},
   "outputs": [],
   "source": [
    "a = [1.2 , 2.5 , 3.7 , 4.6]\n",
    "a = list(map(int,a)) # a라는 요소들을 int를 적용시켜 list로 변환시킴\n",
    "print(a)"
   ]
  }
 ],
 "metadata": {
  "kernelspec": {
   "display_name": "Python 3 (ipykernel)",
   "language": "python",
   "name": "python3"
  },
  "language_info": {
   "codemirror_mode": {
    "name": "ipython",
    "version": 3
   },
   "file_extension": ".py",
   "mimetype": "text/x-python",
   "name": "python",
   "nbconvert_exporter": "python",
   "pygments_lexer": "ipython3",
   "version": "3.9.12"
  }
 },
 "nbformat": 4,
 "nbformat_minor": 5
}
