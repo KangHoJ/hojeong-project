{
 "cells": [
  {
   "cell_type": "markdown",
   "id": "d2ad3e4b-e610-438b-bc54-7f2813cbd5c0",
   "metadata": {
    "tags": []
   },
   "source": [
    "## 예외처리"
   ]
  },
  {
   "cell_type": "code",
   "execution_count": 2,
   "id": "6e353fa2-f295-4af6-9adb-8e76b48bb152",
   "metadata": {},
   "outputs": [
    {
     "name": "stdout",
     "output_type": "stream",
     "text": [
      "0으로 나눌수 없습니다\n"
     ]
    }
   ],
   "source": [
    "try:\n",
    "    result = 1123/0\n",
    "    print('실행이안됨')\n",
    "except:\n",
    "    print('0으로 나눌수 없습니다')"
   ]
  },
  {
   "cell_type": "code",
   "execution_count": 17,
   "id": "a8bb36d0-9fb2-4589-b149-95931ed15fc9",
   "metadata": {},
   "outputs": [
    {
     "name": "stdin",
     "output_type": "stream",
     "text": [
      "숫자 두개를 입력하세요. das\n"
     ]
    },
    {
     "name": "stdout",
     "output_type": "stream",
     "text": [
      "값을 잘못 입력하셨습니다\n"
     ]
    }
   ],
   "source": [
    "try :\n",
    "    x , y = input('숫자 두개를 입력하세요.').split(',')\n",
    "except :\n",
    "    print('값을 잘못 입력하셨습니다')"
   ]
  },
  {
   "cell_type": "code",
   "execution_count": 19,
   "id": "822dbbe5-d6a7-4a44-ba61-ab8ec7688f7b",
   "metadata": {},
   "outputs": [
    {
     "name": "stderr",
     "output_type": "stream",
     "text": [
      "UsageError: Can't use statement directly after '%%time'!\n"
     ]
    }
   ],
   "source": [
    "%%time  #걸리는 시간 구함 \n",
    "\n",
    "a = []\n",
    "for i in range(1000):\n",
    "    a.append((_,_,_))"
   ]
  },
  {
   "cell_type": "code",
   "execution_count": null,
   "id": "9dbfe8fe-6d19-4568-afdc-c6df90f74556",
   "metadata": {},
   "outputs": [
    {
     "name": "stdout",
     "output_type": "stream",
     "text": [
      "0으로 나눌 수 없습니다.\n",
      "division by zero\n"
     ]
    }
   ],
   "source": [
    "x = range(4)\n",
    "\n",
    "try:\n",
    "    for i in range(4):\n",
    "        y = 10 / x[i]\n",
    "except ZeroDivisionError as e:\n",
    "    print('0으로 나눌 수 없습니다.')\n",
    "    print(e)\n",
    "    \n",
    "except IndexError as e:\n",
    "    print('인덱스 에러 발생')\n",
    "    print(e)"
   ]
  },
  {
   "cell_type": "code",
   "execution_count": 21,
   "id": "4bc3b7f4-d4b4-4d69-adfa-234ed2ae6a0f",
   "metadata": {},
   "outputs": [
    {
     "name": "stdout",
     "output_type": "stream",
     "text": [
      "인덱스 에러 발생\n",
      "range object index out of range\n"
     ]
    }
   ],
   "source": [
    "x = range(1,4)\n",
    "\n",
    "try:\n",
    "    for i in range(4):\n",
    "        y = 10 / x[i]\n",
    "except ZeroDivisionError as e:\n",
    "    print('0으로 나눌 수 없습니다.')\n",
    "    print(e)\n",
    "    \n",
    "except IndexError as e:\n",
    "    print('인덱스 에러 발생')\n",
    "    print(e)"
   ]
  },
  {
   "cell_type": "code",
   "execution_count": 23,
   "id": "2c99e24e-0533-412b-8a90-1b4400c10027",
   "metadata": {},
   "outputs": [
    {
     "name": "stdout",
     "output_type": "stream",
     "text": [
      "에러 없이 실행되었습니다\n"
     ]
    }
   ],
   "source": [
    "x = range(1,5)\n",
    "\n",
    "try:\n",
    "    for i in range(4):\n",
    "        y = 10 / x[i]\n",
    "except ZeroDivisionError as e:\n",
    "    print('0으로 나눌 수 없습니다.')\n",
    "    print(e)   \n",
    "except IndexError as e:\n",
    "    print('인덱스 에러 발생')\n",
    "    print(e)\n",
    "else:\n",
    "    print('에러 없이 실행되었습니다')\n"
   ]
  },
  {
   "cell_type": "code",
   "execution_count": 41,
   "id": "6f3ff2c3-b610-46c5-b390-b0062284db5c",
   "metadata": {},
   "outputs": [
    {
     "name": "stdin",
     "output_type": "stream",
     "text": [
      "값을 입력하세요 10 0\n"
     ]
    },
    {
     "name": "stdout",
     "output_type": "stream",
     "text": [
      "값을 잘못 입력하셨습니다\n",
      "프로그램을 종료합니다\n"
     ]
    }
   ],
   "source": [
    "try:\n",
    "    a,b = map(int,(input('값을 입력하세요')).split(','))\n",
    "    result = a/b\n",
    "\n",
    "except ZeroDivisionError :\n",
    "    print('0으로 나눌 수 없습니다')\n",
    "except ValueError :\n",
    "    print('값을 잘못 입력하셨습니다')\n",
    "else:\n",
    "    print(result)\n",
    "finally:\n",
    "    print('프로그램을 종료합니다')"
   ]
  },
  {
   "cell_type": "code",
   "execution_count": null,
   "id": "e2c5b7ce-5cd0-484c-bade-80c1f9f48d97",
   "metadata": {},
   "outputs": [],
   "source": [
    "try:\n",
    "    raise KeyError\n",
    "finally:\n",
    "    print('무조건 실행됩니다.')\n",
    "    "
   ]
  }
 ],
 "metadata": {
  "kernelspec": {
   "display_name": "Python 3 (ipykernel)",
   "language": "python",
   "name": "python3"
  },
  "language_info": {
   "codemirror_mode": {
    "name": "ipython",
    "version": 3
   },
   "file_extension": ".py",
   "mimetype": "text/x-python",
   "name": "python",
   "nbconvert_exporter": "python",
   "pygments_lexer": "ipython3",
   "version": "3.9.12"
  }
 },
 "nbformat": 4,
 "nbformat_minor": 5
}
