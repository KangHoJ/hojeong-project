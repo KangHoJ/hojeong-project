{
 "cells": [
  {
   "cell_type": "markdown",
   "id": "be3ffa01-e9b9-4526-94ab-9cd425317b45",
   "metadata": {},
   "source": [
    "## 연습문제"
   ]
  },
  {
   "cell_type": "code",
   "execution_count": 1,
   "id": "89b6cc02-c201-4a40-a093-3a78c1d3891e",
   "metadata": {},
   "outputs": [
    {
     "name": "stdin",
     "output_type": "stream",
     "text": [
      "경기장은 어디입니까? 가\n",
      "이긴 팀은 어디 입니까? 나\n",
      "진 팀은 어디 입니까? 다\n",
      "우수 선수는 누구입니까? 라\n",
      "스코어는 몇대 몇 입니까? 5\n"
     ]
    },
    {
     "name": "stdout",
     "output_type": "stream",
     "text": [
      "속보 나가 5로 승리 ... \n",
      "오늘 고척 경기장에서 야구 경기가 있었습니다 .\n",
      "나와 다는 치열한 공방전을 펼첬습니다.\n",
      "이 경기에서 라가 맹확약을 했습니다.\n",
      "그 끝내 나가 다를 5로 승리하였습니다.\n",
      "기사 끝\n"
     ]
    }
   ],
   "source": [
    "stadium = input(\"경기장은 어디입니까?\")\n",
    "win = input(\"이긴 팀은 어디 입니까?\")\n",
    "lose = input(\"진 팀은 어디 입니까?\")     \n",
    "player = input(\"우수 선수는 누구입니까?\")\n",
    "score = input('스코어는 몇대 몇 입니까?')\n",
    "              \n",
    "print(\"속보 {}가 {}로 승리 ... \\n오늘 고척 경기장에서 야구 경기가 있었습니다 .\\n{}와 {}는 치열한 공방전을 펼첬습니다.\\n이 경기에서 {}가 맹확약을 했습니다.\\n그 끝내 {}가 {}를 {}로 승리하였습니다.\\n기사 끝\".format(win,score,win,lose,player,win,lose,score))"
   ]
  },
  {
   "cell_type": "code",
   "execution_count": 2,
   "id": "2ab5937c-3ee6-4f77-aace-5c2af56b91f5",
   "metadata": {},
   "outputs": [
    {
     "name": "stdin",
     "output_type": "stream",
     "text": [
      "hh:mm:ss 의 형태로 시간을 입력해주세요 11:22:33\n"
     ]
    },
    {
     "name": "stdout",
     "output_type": "stream",
     "text": [
      "시 : 11\n",
      "분 : 22 \n",
      "초 : 33\n"
     ]
    }
   ],
   "source": [
    "time = input('hh:mm:ss 의 형태로 시간을 입력해주세요')\n",
    "t= time.split(':')\n",
    "print('시 : {}\\n분 : {} \\n초 : {}'.format(t[0],t[1],t[2]))"
   ]
  },
  {
   "cell_type": "markdown",
   "id": "fc19ae0c-d880-4268-8052-3b81653e5a2e",
   "metadata": {},
   "source": [
    "## 연습문제 (maping)"
   ]
  },
  {
   "cell_type": "code",
   "execution_count": 5,
   "id": "c7ca5e07-d714-4b93-92d6-654791d17c73",
   "metadata": {},
   "outputs": [
    {
     "name": "stdin",
     "output_type": "stream",
     "text": [
      "국어,영어,수학,과학 점수를 입력해주세요 15,15,15,15\n"
     ]
    },
    {
     "name": "stdout",
     "output_type": "stream",
     "text": [
      "평균 점수는 15.0점입니다\n"
     ]
    }
   ],
   "source": [
    "kor,eng,mat,sci = input(\"국어,영어,수학,과학 점수를 입력해주세요\").split(',')\n",
    "a = [kor,eng,mat,sci]\n",
    "a = list(map(int,a)) #리스트 모두에 int적용\n",
    "avg = (a[0]+a[1]+a[2]+a[3]) / len(a)\n",
    "print(\"평균 점수는 {}점입니다\".format(avg))"
   ]
  },
  {
   "cell_type": "code",
   "execution_count": null,
   "id": "fd6ad729-62e0-492c-8c15-2dc82135ed2a",
   "metadata": {},
   "outputs": [],
   "source": [
    "kor,eng,mat,sci = input(\"국어,영어,수학,과학 점수를 입력해주세요\").split(',')\n",
    "a=list(map(int,(kor,eng,mat,sci)))\n",
    "avg = (a[0]+a[1]+a[2]+a[3]) / len(a)\n",
    "print(\"평균 점수는 {}점입니다\".format(avg))"
   ]
  },
  {
   "cell_type": "code",
   "execution_count": null,
   "id": "7396df9c-8474-48ed-adad-5a92d8b32b2a",
   "metadata": {},
   "outputs": [],
   "source": [
    "apple , orange = input('사과와 귤을 몇개 드릴까요?').split(',')\n",
    "a = list(map(int,(apple,orange)))\n",
    "total = 1000 * a[0] + 200 * a[1]  \n",
    "print('총 가격은 {}원입니다.'.format(total))"
   ]
  }
 ],
 "metadata": {
  "kernelspec": {
   "display_name": "Python 3 (ipykernel)",
   "language": "python",
   "name": "python3"
  },
  "language_info": {
   "codemirror_mode": {
    "name": "ipython",
    "version": 3
   },
   "file_extension": ".py",
   "mimetype": "text/x-python",
   "name": "python",
   "nbconvert_exporter": "python",
   "pygments_lexer": "ipython3",
   "version": "3.9.12"
  }
 },
 "nbformat": 4,
 "nbformat_minor": 5
}
