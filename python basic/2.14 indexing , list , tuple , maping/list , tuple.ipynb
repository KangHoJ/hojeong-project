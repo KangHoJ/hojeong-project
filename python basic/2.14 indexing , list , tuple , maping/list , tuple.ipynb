{
 "cells": [
  {
   "cell_type": "markdown",
   "id": "e87e2af1-582a-4bd7-bbb4-956f5a61b532",
   "metadata": {},
   "source": [
    "## list"
   ]
  },
  {
   "cell_type": "code",
   "execution_count": 1,
   "id": "37f0ba7b-27c6-4d6f-a79f-2f811942b726",
   "metadata": {},
   "outputs": [
    {
     "name": "stdout",
     "output_type": "stream",
     "text": [
      "[1, 4, 9, 16, 25]\n",
      "1\n",
      "25\n",
      "[1, 4, 9, 16, 25, 2, 3, 4, 5]\n",
      "[1, 4, 9, 16, 25, 1, 4, 9, 16, 25, 1, 4, 9, 16, 25]\n"
     ]
    },
    {
     "data": {
      "text/plain": [
       "'c'"
      ]
     },
     "execution_count": 1,
     "metadata": {},
     "output_type": "execute_result"
    }
   ],
   "source": [
    "s = [1**1 , 2**2 , 3**2 , 4**2 , 5**2]\n",
    "print(s)\n",
    "print(s[0])\n",
    "print(s[-1])\n",
    "print(s + [2,3,4,5])\n",
    "print(s *3)\n",
    "\n",
    "s[1:3] = [10,10] # 리스트는 값 변경 가능\n",
    "s\n",
    "\n",
    "a = [ 'a' , 'b' , 'c']\n",
    "n = [ 1,2,3]\n",
    "x = [a,n]\n",
    "x[0][2] #a 라는 묶금안에 c를 출력 \n"
   ]
  },
  {
   "cell_type": "code",
   "execution_count": 2,
   "id": "9b24d720-3102-4794-87cc-e9385d3816b0",
   "metadata": {},
   "outputs": [
    {
     "name": "stdout",
     "output_type": "stream",
     "text": [
      "True\n",
      "False\n",
      "[]\n"
     ]
    }
   ],
   "source": [
    "numbers = [1,2,3,4,5,6,7]\n",
    "print(5 in numbers)\n",
    "print(10 in numbers)\n",
    "\n",
    "#추가\n",
    "numbers.append(8)\n",
    "numbers.insert(4,0) # index 4 위치에 0을 넣겠다 \n",
    "numbers.extend([9,10,11]) # 뒤에 9,10,11 추가해줌\n",
    "#삭제\n",
    "numbers.remove(1) #0을 삭제하는데 중복시 가장 앞에있는것만 삭제\n",
    "numbers.pop() # 요소를 제거를 하고 반환(인자 없으면 가장 마지막 제거)\n",
    "#조회\n",
    "numbers.index(4) # 4가 index 어디 위치해 있는지 찾아줌 \n",
    "numbers.count(4) # 4가 리스트 안에 몇개 있는지\n",
    "#변경 \n",
    "numbers.sort() # 리스트 정렬 \n",
    "numbers.reverse() # 순서가 뒤집힌다 \n",
    "numbers.clear() #리스트를 비워준다 \n",
    "\n",
    "# 튜플에서는 index , count 만 사용가능\n",
    "print(numbers)"
   ]
  },
  {
   "cell_type": "code",
   "execution_count": 3,
   "id": "3ab32308-c217-476e-a922-629921fd44e2",
   "metadata": {},
   "outputs": [
    {
     "data": {
      "text/plain": [
       "False"
      ]
     },
     "execution_count": 3,
     "metadata": {},
     "output_type": "execute_result"
    }
   ],
   "source": [
    "sc = [88,73,89,59,77]\n",
    "sc[0]>60 and sc[1]>60 and sc[2]>60 and sc[3]>60 and sc[4]>60 "
   ]
  },
  {
   "cell_type": "code",
   "execution_count": 4,
   "id": "da180fd4-c10a-44b9-a305-c61dd4d4b596",
   "metadata": {},
   "outputs": [
    {
     "name": "stdout",
     "output_type": "stream",
     "text": [
      "<class 'list'>\n",
      "['1', '2', '3']\n"
     ]
    }
   ],
   "source": [
    "result = '1,2,3'.split(',')\n",
    "print(type(result)) #split 으로 쪼개면 list 형으로 나온다\n",
    "print(result)"
   ]
  },
  {
   "cell_type": "markdown",
   "id": "1285952e-3376-49dc-ac11-cebc14521638",
   "metadata": {},
   "source": [
    "## tuple"
   ]
  },
  {
   "cell_type": "code",
   "execution_count": 5,
   "id": "3ad674c6-1bd1-4ba6-845f-a07a6bec6079",
   "metadata": {},
   "outputs": [
    {
     "name": "stdout",
     "output_type": "stream",
     "text": [
      "(1, 2, 3, 4, 5, 'hello')\n"
     ]
    }
   ],
   "source": [
    "t = (1,2,3,4,5,'hello')\n",
    "print(t)"
   ]
  },
  {
   "cell_type": "code",
   "execution_count": 6,
   "id": "f96d6df5-d06c-429e-a059-2b335186b7f5",
   "metadata": {},
   "outputs": [
    {
     "name": "stdin",
     "output_type": "stream",
     "text": [
      "이름을 입력하시오 강호정\n"
     ]
    },
    {
     "name": "stdout",
     "output_type": "stream",
     "text": [
      "강호정 씨 안녕하세요 ?\n",
      "파이썬에 오신 것을 환영합니다\n"
     ]
    },
    {
     "name": "stdin",
     "output_type": "stream",
     "text": [
      "첫 번째 정수를 입력하세요: 1\n",
      "두 번째 정수를 입력하세요: 2\n"
     ]
    },
    {
     "name": "stdout",
     "output_type": "stream",
     "text": [
      "1 과 2의 합은 3입니다\n"
     ]
    }
   ],
   "source": [
    "name = input('이름을 입력하시오')\n",
    "print(name, \"씨 안녕하세요 ?\\n파이썬에 오신 것을 환영합니다\")\n",
    "a= int(input('첫 번째 정수를 입력하세요:'))\n",
    "b= int(input('두 번째 정수를 입력하세요:'))\n",
    "# print(a,'과',b,'의 합은',a+b,'입니다.') # 방법 1 \n",
    "print('{} 과 {}의 합은 {}입니다'.format(a,b,a+b)) # 방법 2"
   ]
  },
  {
   "cell_type": "code",
   "execution_count": null,
   "id": "52edaa5f-3f4a-4f69-ad84-630964841aff",
   "metadata": {},
   "outputs": [],
   "source": []
  },
  {
   "cell_type": "code",
   "execution_count": null,
   "id": "4033c07c-35f2-446d-9ccc-fe63d9f621e8",
   "metadata": {},
   "outputs": [],
   "source": []
  }
 ],
 "metadata": {
  "kernelspec": {
   "display_name": "Python 3 (ipykernel)",
   "language": "python",
   "name": "python3"
  },
  "language_info": {
   "codemirror_mode": {
    "name": "ipython",
    "version": 3
   },
   "file_extension": ".py",
   "mimetype": "text/x-python",
   "name": "python",
   "nbconvert_exporter": "python",
   "pygments_lexer": "ipython3",
   "version": "3.9.12"
  }
 },
 "nbformat": 4,
 "nbformat_minor": 5
}
