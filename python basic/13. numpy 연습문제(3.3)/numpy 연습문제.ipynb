{
 "cells": [
  {
   "cell_type": "code",
   "execution_count": 1,
   "id": "0f4b58cb-2ce7-42c5-9ab0-8d5fb8611372",
   "metadata": {
    "jupyter": {
     "source_hidden": true
    },
    "tags": []
   },
   "outputs": [],
   "source": [
    "import numpy as np"
   ]
  },
  {
   "cell_type": "markdown",
   "id": "fa8e35c2-eda7-4600-aa94-b051da93ce1a",
   "metadata": {},
   "source": [
    "## 연습문제\n"
   ]
  },
  {
   "cell_type": "code",
   "execution_count": 5,
   "id": "58e5fcf6-1662-4a64-87e7-2588cd66b84d",
   "metadata": {},
   "outputs": [
    {
     "data": {
      "text/plain": [
       "array([[ 8, 10, 12],\n",
       "       [14, 16, 18]])"
      ]
     },
     "execution_count": 5,
     "metadata": {},
     "output_type": "execute_result"
    }
   ],
   "source": [
    "a = np.array([[1,2,3],[4,5,6]])\n",
    "b = np.array(([7,8,9],[10,11,12]))\n",
    "a+b\n",
    "\n"
   ]
  },
  {
   "cell_type": "code",
   "execution_count": 12,
   "id": "b6c7177c-00aa-4ff5-b0b8-43fec8fb1d8d",
   "metadata": {},
   "outputs": [
    {
     "data": {
      "text/plain": [
       "array([[ 8, 10, 12],\n",
       "       [14, 16, 18]])"
      ]
     },
     "execution_count": 12,
     "metadata": {},
     "output_type": "execute_result"
    }
   ],
   "source": [
    "a = np.arange(1,7).reshape(2,3)\n",
    "b= np.arange(7,13).reshape(2,3)\n",
    "a+b"
   ]
  },
  {
   "cell_type": "code",
   "execution_count": 19,
   "id": "ebdf3e41-9ab7-40bd-8cfc-bc2fec5243fa",
   "metadata": {},
   "outputs": [
    {
     "data": {
      "text/plain": [
       "array([ 3,  6,  9, 12, 15, 18, 21, 24, 27])"
      ]
     },
     "execution_count": 19,
     "metadata": {},
     "output_type": "execute_result"
    }
   ],
   "source": [
    "a = np.array([i*3 for i in range(1,10)])\n",
    "a "
   ]
  },
  {
   "cell_type": "code",
   "execution_count": 24,
   "id": "21ef74a6-f293-4a89-aca8-e67f1c85de3a",
   "metadata": {},
   "outputs": [
    {
     "data": {
      "text/plain": [
       "array([0., 0., 0., 0., 1., 0., 0., 0., 0., 0.])"
      ]
     },
     "execution_count": 24,
     "metadata": {},
     "output_type": "execute_result"
    }
   ],
   "source": [
    "c = np.zeros(10)\n",
    "c[4]=1\n",
    "c"
   ]
  },
  {
   "cell_type": "code",
   "execution_count": 46,
   "id": "b51a25ee-a7eb-4e63-995e-c22630394842",
   "metadata": {},
   "outputs": [
    {
     "data": {
      "text/plain": [
       "array([49, 48, 47, 46, 45, 44, 43, 42, 41, 40, 39, 38, 37, 36, 35, 34, 33,\n",
       "       32, 31, 30, 29, 28, 27, 26, 25, 24, 23, 22, 21, 20, 19, 18, 17, 16,\n",
       "       15, 14, 13, 12, 11, 10,  9,  8,  7,  6,  5,  4,  3,  2,  1,  0])"
      ]
     },
     "execution_count": 46,
     "metadata": {},
     "output_type": "execute_result"
    }
   ],
   "source": [
    "d = np.arange(50)\n",
    "d[::-1] # 마지막 숫자가 증감인데 -1 이면 역순으로 가져오게된다  처음:끝-1:증감"
   ]
  },
  {
   "cell_type": "code",
   "execution_count": 48,
   "id": "b4eb6899-df90-45f5-93d0-dfb8e4277ee8",
   "metadata": {},
   "outputs": [
    {
     "data": {
      "text/plain": [
       "array([[['', '', ''],\n",
       "        ['', '', ''],\n",
       "        ['', '', '']],\n",
       "\n",
       "       [['', '', ''],\n",
       "        ['', '', ''],\n",
       "        ['', '', '']],\n",
       "\n",
       "       [['', '', ''],\n",
       "        ['', '', ''],\n",
       "        ['', '', '']]], dtype='<U10')"
      ]
     },
     "execution_count": 48,
     "metadata": {},
     "output_type": "execute_result"
    }
   ],
   "source": [
    "np.empty((3,3,3),dtype='U10')"
   ]
  },
  {
   "cell_type": "code",
   "execution_count": 49,
   "id": "7a6f9695-d05f-46c0-b84f-db3f2568fe6c",
   "metadata": {},
   "outputs": [
    {
     "data": {
      "text/plain": [
       "array([[['', '', ''],\n",
       "        ['', '', ''],\n",
       "        ['', '', '']],\n",
       "\n",
       "       [['', '', ''],\n",
       "        ['', '', ''],\n",
       "        ['', '', '']],\n",
       "\n",
       "       [['', '', ''],\n",
       "        ['', '', ''],\n",
       "        ['', '', '']]], dtype='<U10')"
      ]
     },
     "execution_count": 49,
     "metadata": {},
     "output_type": "execute_result"
    }
   ],
   "source": [
    "np.full((3,3,3), '',dtype='U10')"
   ]
  },
  {
   "cell_type": "code",
   "execution_count": 51,
   "id": "9b404b6b-2a65-470b-acda-b9df715c442c",
   "metadata": {},
   "outputs": [
    {
     "data": {
      "text/plain": [
       "array([[['playdata', 'playdata', 'playdata'],\n",
       "        ['playdata', 'playdata', 'playdata'],\n",
       "        ['playdata', 'playdata', 'playdata']],\n",
       "\n",
       "       [['playdata', 'playdata', 'playdata'],\n",
       "        ['playdata', 'playdata', 'playdata'],\n",
       "        ['playdata', 'playdata', 'playdata']],\n",
       "\n",
       "       [['playdata', 'playdata', 'playdata'],\n",
       "        ['playdata', 'playdata', 'playdata'],\n",
       "        ['playdata', 'playdata', 'playdata']]], dtype='<U8')"
      ]
     },
     "execution_count": 51,
     "metadata": {},
     "output_type": "execute_result"
    }
   ],
   "source": [
    "np.full((3,3,3), 'playdata',dtype='U8')"
   ]
  },
  {
   "cell_type": "code",
   "execution_count": 58,
   "id": "f7aa0417-fc3e-4b96-8f5c-7ded417c64f4",
   "metadata": {},
   "outputs": [
    {
     "data": {
      "text/plain": [
       "array([[[ 2,  4,  6,  8, 10],\n",
       "        [12, 14, 16, 18, 20]],\n",
       "\n",
       "       [[22, 24, 26, 28, 30],\n",
       "        [32, 34, 36, 38, 40]]])"
      ]
     },
     "execution_count": 58,
     "metadata": {},
     "output_type": "execute_result"
    }
   ],
   "source": [
    "k = np.array([i for i in range(1,41) if i % 2 == 0]).reshape(2,2,5)\n",
    "k"
   ]
  },
  {
   "cell_type": "code",
   "execution_count": 87,
   "id": "f10ef418-df82-4c6e-afb0-1784dfecad98",
   "metadata": {},
   "outputs": [
    {
     "data": {
      "text/plain": [
       "array([[False,  True,  True],\n",
       "       [False,  True,  True],\n",
       "       [ True,  True,  True]])"
      ]
     },
     "execution_count": 87,
     "metadata": {},
     "output_type": "execute_result"
    }
   ],
   "source": [
    "np.random.seed(0)\n",
    "k = np.random.randint(2,size=9)\n",
    "k.astype('bool').reshape(3,3)"
   ]
  },
  {
   "cell_type": "code",
   "execution_count": 76,
   "id": "0bd4c6be-cbfc-4e8a-877d-e0757a171331",
   "metadata": {},
   "outputs": [
    {
     "data": {
      "text/plain": [
       "array([[1., 0., 0., 0.],\n",
       "       [0., 1., 0., 0.],\n",
       "       [0., 0., 1., 0.],\n",
       "       [0., 0., 0., 1.]])"
      ]
     },
     "execution_count": 76,
     "metadata": {},
     "output_type": "execute_result"
    }
   ],
   "source": [
    "np.eye(4)"
   ]
  },
  {
   "cell_type": "code",
   "execution_count": 91,
   "id": "ce9ca5e2-40e7-414c-8e6e-0d11c0043a3c",
   "metadata": {},
   "outputs": [
    {
     "data": {
      "text/plain": [
       "array([5, 7, 6, 5, 4, 6, 4, 8, 9, 3])"
      ]
     },
     "execution_count": 91,
     "metadata": {},
     "output_type": "execute_result"
    }
   ],
   "source": [
    "np.random.seed(0)\n",
    "k2 =np.random.rand(10) * 10\n",
    "k2.astype('int')"
   ]
  },
  {
   "cell_type": "code",
   "execution_count": 137,
   "id": "c443c365-c601-4318-9db6-8e730b1b05c2",
   "metadata": {},
   "outputs": [
    {
     "data": {
      "text/plain": [
       "array([[1., 1., 1., 1., 1., 1., 1., 1., 1., 1.],\n",
       "       [1., 0., 0., 0., 0., 0., 0., 0., 0., 1.],\n",
       "       [1., 0., 0., 0., 0., 0., 0., 0., 0., 1.],\n",
       "       [1., 0., 0., 0., 0., 0., 0., 0., 0., 1.],\n",
       "       [1., 0., 0., 0., 0., 0., 0., 0., 0., 1.],\n",
       "       [1., 0., 0., 0., 0., 0., 0., 0., 0., 1.],\n",
       "       [1., 0., 0., 0., 0., 0., 0., 0., 0., 1.],\n",
       "       [1., 0., 0., 0., 0., 0., 0., 0., 0., 1.],\n",
       "       [1., 0., 0., 0., 0., 0., 0., 0., 0., 1.],\n",
       "       [1., 1., 1., 1., 1., 1., 1., 1., 1., 1.]])"
      ]
     },
     "execution_count": 137,
     "metadata": {},
     "output_type": "execute_result"
    }
   ],
   "source": [
    "g = np.ones((10,10))\n",
    "g[1:-1,1:-1] = 0\n",
    "g"
   ]
  },
  {
   "cell_type": "code",
   "execution_count": 119,
   "id": "51aafb4a-fd75-4cb0-a4c8-acfe680c9e2d",
   "metadata": {},
   "outputs": [
    {
     "data": {
      "text/plain": [
       "array([[0., 0., 0., 0., 0., 0., 0., 0., 0., 0.],\n",
       "       [0., 1., 1., 1., 1., 1., 1., 1., 1., 0.],\n",
       "       [0., 1., 1., 1., 1., 1., 1., 1., 1., 0.],\n",
       "       [0., 1., 1., 1., 1., 1., 1., 1., 1., 0.],\n",
       "       [0., 1., 1., 1., 1., 1., 1., 1., 1., 0.],\n",
       "       [0., 1., 1., 1., 1., 1., 1., 1., 1., 0.],\n",
       "       [0., 1., 1., 1., 1., 1., 1., 1., 1., 0.],\n",
       "       [0., 1., 1., 1., 1., 1., 1., 1., 1., 0.],\n",
       "       [0., 1., 1., 1., 1., 1., 1., 1., 1., 0.],\n",
       "       [0., 0., 0., 0., 0., 0., 0., 0., 0., 0.]])"
      ]
     },
     "execution_count": 136,
     "metadata": {},
     "output_type": "execute_result"
    }
   ],
   "source": [
    "g2 = np.ones((10,10))\n",
    "g2[0:-1,[0,-1]] = 0 \n",
    "g2[[0,-1],:] =0\n",
    "g2"
   ]
  },
  {
   "cell_type": "code",
   "execution_count": 177,
   "id": "ed093310-3482-41c1-8aad-540fb8327467",
   "metadata": {},
   "outputs": [
    {
     "data": {
      "text/plain": [
       "array([[1., 0., 1., 0., 1., 0., 1., 0.],\n",
       "       [0., 1., 0., 1., 0., 1., 0., 1.],\n",
       "       [1., 0., 1., 0., 1., 0., 1., 0.],\n",
       "       [0., 1., 0., 1., 0., 1., 0., 1.],\n",
       "       [1., 0., 1., 0., 1., 0., 1., 0.],\n",
       "       [0., 1., 0., 1., 0., 1., 0., 1.],\n",
       "       [1., 0., 1., 0., 1., 0., 1., 0.],\n",
       "       [0., 1., 0., 1., 0., 1., 0., 1.]])"
      ]
     },
     "execution_count": 177,
     "metadata": {},
     "output_type": "execute_result"
    }
   ],
   "source": [
    "k = np.ones((8,8))\n",
    "k[1:8:2,0:7:2] =0\n",
    "k[0:7:2,1:8:2] =0  # 슬라이싱으로 증감 표현이 가능하다\n",
    "k"
   ]
  },
  {
   "cell_type": "code",
   "execution_count": 11,
   "id": "06967801-48f9-4262-bc05-2cce49869413",
   "metadata": {},
   "outputs": [
    {
     "data": {
      "text/plain": [
       "array([[1., 0., 1., 0., 1., 0., 1., 0.],\n",
       "       [0., 1., 0., 1., 0., 1., 0., 1.],\n",
       "       [1., 0., 1., 0., 1., 0., 1., 0.],\n",
       "       [0., 1., 0., 1., 0., 1., 0., 1.],\n",
       "       [1., 0., 1., 0., 1., 0., 1., 0.],\n",
       "       [0., 1., 0., 1., 0., 1., 0., 1.],\n",
       "       [1., 0., 1., 0., 1., 0., 1., 0.],\n",
       "       [0., 1., 0., 1., 0., 1., 0., 1.]])"
      ]
     },
     "execution_count": 11,
     "metadata": {},
     "output_type": "execute_result"
    }
   ],
   "source": [
    "a = np.eye(2)\n",
    "np.tile(a,(4,4))"
   ]
  },
  {
   "cell_type": "code",
   "execution_count": 178,
   "id": "7102f5e1-a086-4e3b-ab5a-ba00c55e3e1d",
   "metadata": {},
   "outputs": [
    {
     "data": {
      "text/plain": [
       "array([ 1,  2,  3, -4, -5, -6,  7,  8,  9, 10])"
      ]
     },
     "execution_count": 178,
     "metadata": {},
     "output_type": "execute_result"
    }
   ],
   "source": [
    "a = np.arange(1,11)\n",
    "a2 = np.array([-i if i>3 and i <7 else i for i in range(1,11)])\n",
    "a2"
   ]
  },
  {
   "cell_type": "code",
   "execution_count": 24,
   "id": "2e6614ce-4c6c-45ff-b075-da1c4d716b52",
   "metadata": {},
   "outputs": [
    {
     "name": "stdout",
     "output_type": "stream",
     "text": [
      "[ 0  1  2  3 -4 -5 -6  7  8  9 10]\n"
     ]
    }
   ],
   "source": [
    "## 다른방법\n",
    "a = np.arange(11)\n",
    "a[(3<a) & (7>a)] *=-1\n",
    "print(a)"
   ]
  },
  {
   "cell_type": "code",
   "execution_count": 181,
   "id": "1155f581-e1cf-4f44-b5a1-32ce896f440b",
   "metadata": {},
   "outputs": [
    {
     "data": {
      "text/plain": [
       "1683"
      ]
     },
     "execution_count": 181,
     "metadata": {},
     "output_type": "execute_result"
    }
   ],
   "source": [
    "a3 = np.array([i for i in range(1,101) if i % 3 == 0 ])\n",
    "np.sum(a3)"
   ]
  },
  {
   "cell_type": "code",
   "execution_count": 31,
   "id": "261058f5-01ef-4ed1-8dd5-f59e360995b2",
   "metadata": {},
   "outputs": [
    {
     "data": {
      "text/plain": [
       "array([0.1, 0.2, 0.3, 0.4, 0.5, 0.6, 0.7, 0.8, 0.9])"
      ]
     },
     "execution_count": 31,
     "metadata": {},
     "output_type": "execute_result"
    }
   ],
   "source": [
    "k = np.linspace(0.1,0.9,9)\n",
    "k"
   ]
  },
  {
   "cell_type": "code",
   "execution_count": 13,
   "id": "4c04e46a-21d4-405d-b51d-2bf30781a4ed",
   "metadata": {},
   "outputs": [
    {
     "name": "stdin",
     "output_type": "stream",
     "text": [
      "자연수만 입력해주세요. 4\n"
     ]
    },
    {
     "data": {
      "text/plain": [
       "array([[12, 14, 17, 34, 37, 43],\n",
       "       [ 1,  5, 18, 20, 21, 40],\n",
       "       [10, 15, 20, 23, 26, 39],\n",
       "       [ 6,  7, 10, 12, 15, 26]])"
      ]
     },
     "metadata": {},
     "output_type": "display_data"
    }
   ],
   "source": [
    "# 풀이1\n",
    "while True:\n",
    "    number = int(input(\"자연수만 입력해주세요.\"))\n",
    "    try:\n",
    "        if number <=0:\n",
    "            continue;\n",
    "        k = [np.random.choice(range(1, 46), size=6, replace=False) for _ in range(number)]\n",
    "        display(np.sort(k)) # 보여주는 명령어 \n",
    "        break;\n",
    "    except ValueError:\n",
    "        continue;"
   ]
  },
  {
   "cell_type": "code",
   "execution_count": null,
   "id": "c0f16996-5b64-44b2-a627-1a19c203d31a",
   "metadata": {},
   "outputs": [
    {
     "name": "stdin",
     "output_type": "stream",
     "text": [
      "로또 몇개 드릴까요? 5\n"
     ]
    },
    {
     "name": "stdout",
     "output_type": "stream",
     "text": [
      "자연수만 입력하세요\n"
     ]
    }
   ],
   "source": [
    "# 풀이 2\n",
    "while True:\n",
    "    try:\n",
    "        count = int(input('로또 몇개 드릴까요?'))\n",
    "        if count <=0:\n",
    "            raise Error\n",
    "        lottos = [np.sort(np.random.chocie(range(1,46),size=6,replace=False)) for i in range(count)]\n",
    "        display(lottos)\n",
    "        break\n",
    "    except:\n",
    "        print('자연수만 입력하세요')"
   ]
  },
  {
   "cell_type": "code",
   "execution_count": 3,
   "id": "8611f79d-ba9c-4835-baf4-9d24e8ded6db",
   "metadata": {},
   "outputs": [
    {
     "data": {
      "text/plain": [
       "8"
      ]
     },
     "execution_count": 3,
     "metadata": {},
     "output_type": "execute_result"
    }
   ],
   "source": [
    "resp_time = np. array([158, 85, 205, 24, 42, 175, 188, 149, 153, 171, 137, 55, 108,\n",
    "199, 177, 209, 218, 76, 103, 189, 110, 192, 136, 119, 4, 102,\n",
    "177, 212, 110, 37, 163, 32, 77, 22, 125, 184, 46, 139, 72,\n",
    "168, 133, 209, 148, 47, 102, 65, 160, 56, 11, 96, 169, 118,\n",
    "55, 135, 217, 49, 100, 85, 179, 15, 139, 199, 124, 142, 15,\n",
    "49, 168, 171, 168, 177, 147, 23, 199, 26, 51, 42, 90, 128,\n",
    "186, 169, 129, 70, 198, 111, 81, 150, 17, 177, 201, 10, 75,\n",
    "199, 55, 151, 183, 152, 119, 193, 110, 204])\n",
    "\n",
    "len(resp_time[resp_time>200])\n",
    "(resp_time>200).sum()"
   ]
  },
  {
   "cell_type": "code",
   "execution_count": 6,
   "id": "72887870-b73a-4afc-ac87-1899abe981b8",
   "metadata": {},
   "outputs": [
    {
     "data": {
      "text/plain": [
       "218"
      ]
     },
     "execution_count": 6,
     "metadata": {},
     "output_type": "execute_result"
    }
   ],
   "source": [
    "np.quantile(resp_time,0.25) # 1분위수\n",
    "np.quantile(resp_time,0.5)  # 2분위수 \n",
    "np.quantile(resp_time,0.75) # 3분위수\n",
    "np.quantile(resp_time,1)    # 4분위수"
   ]
  },
  {
   "cell_type": "code",
   "execution_count": 50,
   "id": "419ce20b-fc87-44e8-af19-a1f24dadce12",
   "metadata": {},
   "outputs": [
    {
     "name": "stdout",
     "output_type": "stream",
     "text": [
      "뽀로로가 81표로 반장으로 선출 되었습니다\n"
     ]
    }
   ],
   "source": [
    "p = [\"뽀로로\", \"루피\", \"크롱\"]\n",
    "result = np.array([2, 1, 2, 2, 2, 2, 0, 2, 1, 1, 0, 0, 2, 0, 0, 1, 1, 2, 2, 2, 1, 1,\n",
    "1, 2, 0, 2, 2, 0, 1, 1, 0, 2, 1, 0, 1, 2, 0, 0, 1, 0, 1, 1, 1, 2,\n",
    "1, 1, 1, 0, 0, 0, 0, 1, 0, 0, 2, 0, 2, 2, 0, 0, 1, 1, 1, 0, 0, 2,\n",
    "2, 1, 0, 1, 2, 0, 2, 0, 0, 0, 2, 0, 0, 0, 0, 0, 1, 2, 1, 1, 2, 0,\n",
    "2, 0, 0, 0, 0, 2, 1, 2, 0, 2, 0, 0, 1, 0, 1, 2, 1, 2, 0, 2, 2, 1,\n",
    "2, 0, 0, 1, 1, 0, 1, 2, 1, 2, 0, 2, 2, 2, 2, 0, 2, 2, 0, 2, 0, 2,\n",
    "1, 1, 2, 1, 1, 0, 0, 1, 0, 0, 0, 2, 2, 0, 2, 0, 0, 0, 2, 0, 0, 0,\n",
    "2, 0, 1, 2, 1, 0, 2, 0, 0, 1, 2, 1, 1, 2, 2, 0, 0, 0, 0, 2, 2, 1,\n",
    "0, 1, 1, 2, 2, 1, 0, 0, 2, 0, 0, 0, 2, 0, 2, 2, 0, 2, 1, 0, 0, 2,\n",
    "0, 1])\n",
    "\n",
    "a=len(result[result==0]) \n",
    "b=len(result[result==1]) \n",
    "c=len(result[result==2]) \n",
    "\n",
    "d = {a:p[0],b:p[1],c:p[2]}\n",
    "\n",
    "print('{}가 {}표로 반장으로 선출 되었습니다'.format(d[max(d)],max(d)))"
   ]
  },
  {
   "cell_type": "code",
   "execution_count": 66,
   "id": "bd313e5d-bf48-45ef-b8c6-07e02a486358",
   "metadata": {},
   "outputs": [
    {
     "name": "stdout",
     "output_type": "stream",
     "text": [
      "뽀로로가 81표로 반장으로 선출되었습니다.\n"
     ]
    }
   ],
   "source": [
    "# 다른 풀이 \n",
    "a = np.bincount(result, minlength=3)\n",
    "b = a.argmax()\n",
    "print(f\"{p[b]}가 {a[b]}표로 반장으로 선출되었습니다.\")"
   ]
  },
  {
   "cell_type": "code",
   "execution_count": 68,
   "id": "5d71605f-c58c-427f-8240-6acc32f102cb",
   "metadata": {},
   "outputs": [
    {
     "name": "stdout",
     "output_type": "stream",
     "text": [
      "뽀로로가 81표로 반장으로 선출되었습니다.\n"
     ]
    }
   ],
   "source": [
    "# 다른 풀이2\n",
    "index, count = np.unique(result, return_counts=True)\n",
    "winner = count.argmax()\n",
    "\n",
    "print(f\"{p[winner]}가 {np.max(count)}표로 반장으로 선출되었습니다.\")"
   ]
  },
  {
   "cell_type": "code",
   "execution_count": 69,
   "id": "9927089d-430c-4f44-b784-bf8337f30427",
   "metadata": {},
   "outputs": [
    {
     "name": "stdout",
     "output_type": "stream",
     "text": [
      "뽀로로가 81표로 반장으로 선출되었습니다.\n"
     ]
    }
   ],
   "source": [
    "# 다른 풀이3\n",
    "count = np.bincount(result , minlength=3)\n",
    "winner_index = count.argmax()\n",
    "print(f'{p[winner_index]}가 {count[winner_index]}표로 반장으로 선출되었습니다.')"
   ]
  },
  {
   "cell_type": "code",
   "execution_count": 1,
   "id": "3ff4c21f-453a-4d2f-bf20-b614444368e6",
   "metadata": {},
   "outputs": [],
   "source": [
    "import numpy as np"
   ]
  },
  {
   "cell_type": "markdown",
   "id": "5d7a8fd4-e58d-44a1-aac4-f0f6dd48eec5",
   "metadata": {},
   "source": [
    "## 연습문제\n"
   ]
  },
  {
   "cell_type": "code",
   "execution_count": 5,
   "id": "bed19bdf-df74-497b-83ab-ec8e2fcab1e0",
   "metadata": {},
   "outputs": [
    {
     "data": {
      "text/plain": [
       "array([[ 8, 10, 12],\n",
       "       [14, 16, 18]])"
      ]
     },
     "execution_count": 5,
     "metadata": {},
     "output_type": "execute_result"
    }
   ],
   "source": [
    "a = np.array([[1,2,3],[4,5,6]])\n",
    "b = np.array(([7,8,9],[10,11,12]))\n",
    "a+b\n",
    "\n"
   ]
  },
  {
   "cell_type": "code",
   "execution_count": 12,
   "id": "de3a7313-1b3c-47e4-acdc-fc5405d49ea7",
   "metadata": {},
   "outputs": [
    {
     "data": {
      "text/plain": [
       "array([[ 8, 10, 12],\n",
       "       [14, 16, 18]])"
      ]
     },
     "execution_count": 12,
     "metadata": {},
     "output_type": "execute_result"
    }
   ],
   "source": [
    "a = np.arange(1,7).reshape(2,3)\n",
    "b= np.arange(7,13).reshape(2,3)\n",
    "a+b"
   ]
  },
  {
   "cell_type": "code",
   "execution_count": 19,
   "id": "e43365fc-38c1-42d0-90bd-6e35affa7ce4",
   "metadata": {},
   "outputs": [
    {
     "data": {
      "text/plain": [
       "array([ 3,  6,  9, 12, 15, 18, 21, 24, 27])"
      ]
     },
     "execution_count": 19,
     "metadata": {},
     "output_type": "execute_result"
    }
   ],
   "source": [
    "a = np.array([i*3 for i in range(1,10)])\n",
    "a "
   ]
  },
  {
   "cell_type": "code",
   "execution_count": 24,
   "id": "bb22f623-5a62-4c11-8138-f1432a896084",
   "metadata": {},
   "outputs": [
    {
     "data": {
      "text/plain": [
       "array([0., 0., 0., 0., 1., 0., 0., 0., 0., 0.])"
      ]
     },
     "execution_count": 24,
     "metadata": {},
     "output_type": "execute_result"
    }
   ],
   "source": [
    "c = np.zeros(10)\n",
    "c[4]=1\n",
    "c"
   ]
  },
  {
   "cell_type": "code",
   "execution_count": 46,
   "id": "9d581615-5ab0-496c-8ba6-b4166c7ae2fc",
   "metadata": {},
   "outputs": [
    {
     "data": {
      "text/plain": [
       "array([49, 48, 47, 46, 45, 44, 43, 42, 41, 40, 39, 38, 37, 36, 35, 34, 33,\n",
       "       32, 31, 30, 29, 28, 27, 26, 25, 24, 23, 22, 21, 20, 19, 18, 17, 16,\n",
       "       15, 14, 13, 12, 11, 10,  9,  8,  7,  6,  5,  4,  3,  2,  1,  0])"
      ]
     },
     "execution_count": 46,
     "metadata": {},
     "output_type": "execute_result"
    }
   ],
   "source": [
    "d = np.arange(50)\n",
    "d[::-1] # 마지막 숫자가 증감인데 -1 이면 역순으로 가져오게된다  처음:끝-1:증감"
   ]
  },
  {
   "cell_type": "code",
   "execution_count": 48,
   "id": "a7a6d111-002e-4fc9-b0c2-7a71c2e259bb",
   "metadata": {},
   "outputs": [
    {
     "data": {
      "text/plain": [
       "array([[['', '', ''],\n",
       "        ['', '', ''],\n",
       "        ['', '', '']],\n",
       "\n",
       "       [['', '', ''],\n",
       "        ['', '', ''],\n",
       "        ['', '', '']],\n",
       "\n",
       "       [['', '', ''],\n",
       "        ['', '', ''],\n",
       "        ['', '', '']]], dtype='<U10')"
      ]
     },
     "execution_count": 48,
     "metadata": {},
     "output_type": "execute_result"
    }
   ],
   "source": [
    "np.empty((3,3,3),dtype='U10')"
   ]
  },
  {
   "cell_type": "code",
   "execution_count": 49,
   "id": "086f2eba-06ad-4c05-a499-2b19943b2d0d",
   "metadata": {},
   "outputs": [
    {
     "data": {
      "text/plain": [
       "array([[['', '', ''],\n",
       "        ['', '', ''],\n",
       "        ['', '', '']],\n",
       "\n",
       "       [['', '', ''],\n",
       "        ['', '', ''],\n",
       "        ['', '', '']],\n",
       "\n",
       "       [['', '', ''],\n",
       "        ['', '', ''],\n",
       "        ['', '', '']]], dtype='<U10')"
      ]
     },
     "execution_count": 49,
     "metadata": {},
     "output_type": "execute_result"
    }
   ],
   "source": [
    "np.full((3,3,3), '',dtype='U10')"
   ]
  },
  {
   "cell_type": "code",
   "execution_count": 51,
   "id": "09f0003d-4b29-4a7b-b2bb-93068faa0343",
   "metadata": {},
   "outputs": [
    {
     "data": {
      "text/plain": [
       "array([[['playdata', 'playdata', 'playdata'],\n",
       "        ['playdata', 'playdata', 'playdata'],\n",
       "        ['playdata', 'playdata', 'playdata']],\n",
       "\n",
       "       [['playdata', 'playdata', 'playdata'],\n",
       "        ['playdata', 'playdata', 'playdata'],\n",
       "        ['playdata', 'playdata', 'playdata']],\n",
       "\n",
       "       [['playdata', 'playdata', 'playdata'],\n",
       "        ['playdata', 'playdata', 'playdata'],\n",
       "        ['playdata', 'playdata', 'playdata']]], dtype='<U8')"
      ]
     },
     "execution_count": 51,
     "metadata": {},
     "output_type": "execute_result"
    }
   ],
   "source": [
    "np.full((3,3,3), 'playdata',dtype='U8')"
   ]
  },
  {
   "cell_type": "code",
   "execution_count": 58,
   "id": "5cb99a46-8f41-4dba-be72-3d3ff7bbf25b",
   "metadata": {},
   "outputs": [
    {
     "data": {
      "text/plain": [
       "array([[[ 2,  4,  6,  8, 10],\n",
       "        [12, 14, 16, 18, 20]],\n",
       "\n",
       "       [[22, 24, 26, 28, 30],\n",
       "        [32, 34, 36, 38, 40]]])"
      ]
     },
     "execution_count": 58,
     "metadata": {},
     "output_type": "execute_result"
    }
   ],
   "source": [
    "k = np.array([i for i in range(1,41) if i % 2 == 0]).reshape(2,2,5)\n",
    "k"
   ]
  },
  {
   "cell_type": "code",
   "execution_count": 87,
   "id": "90f4f643-8a7b-440d-a284-9360c0431ab5",
   "metadata": {},
   "outputs": [
    {
     "data": {
      "text/plain": [
       "array([[False,  True,  True],\n",
       "       [False,  True,  True],\n",
       "       [ True,  True,  True]])"
      ]
     },
     "execution_count": 87,
     "metadata": {},
     "output_type": "execute_result"
    }
   ],
   "source": [
    "np.random.seed(0)\n",
    "k = np.random.randint(2,size=9)\n",
    "k.astype('bool').reshape(3,3)"
   ]
  },
  {
   "cell_type": "code",
   "execution_count": 76,
   "id": "853b4f10-6701-4113-b4d6-a317f6275350",
   "metadata": {},
   "outputs": [
    {
     "data": {
      "text/plain": [
       "array([[1., 0., 0., 0.],\n",
       "       [0., 1., 0., 0.],\n",
       "       [0., 0., 1., 0.],\n",
       "       [0., 0., 0., 1.]])"
      ]
     },
     "execution_count": 76,
     "metadata": {},
     "output_type": "execute_result"
    }
   ],
   "source": [
    "np.eye(4)"
   ]
  },
  {
   "cell_type": "code",
   "execution_count": 91,
   "id": "12c8eb1c-c6b3-46c0-996e-a34f5975c52c",
   "metadata": {},
   "outputs": [
    {
     "data": {
      "text/plain": [
       "array([5, 7, 6, 5, 4, 6, 4, 8, 9, 3])"
      ]
     },
     "execution_count": 91,
     "metadata": {},
     "output_type": "execute_result"
    }
   ],
   "source": [
    "np.random.seed(0)\n",
    "k2 =np.random.rand(10) * 10\n",
    "k2.astype('int')"
   ]
  },
  {
   "cell_type": "code",
   "execution_count": 137,
   "id": "d4dc1cb7-34ee-4ada-bbd6-6e979d87a6ec",
   "metadata": {},
   "outputs": [
    {
     "data": {
      "text/plain": [
       "array([[1., 1., 1., 1., 1., 1., 1., 1., 1., 1.],\n",
       "       [1., 0., 0., 0., 0., 0., 0., 0., 0., 1.],\n",
       "       [1., 0., 0., 0., 0., 0., 0., 0., 0., 1.],\n",
       "       [1., 0., 0., 0., 0., 0., 0., 0., 0., 1.],\n",
       "       [1., 0., 0., 0., 0., 0., 0., 0., 0., 1.],\n",
       "       [1., 0., 0., 0., 0., 0., 0., 0., 0., 1.],\n",
       "       [1., 0., 0., 0., 0., 0., 0., 0., 0., 1.],\n",
       "       [1., 0., 0., 0., 0., 0., 0., 0., 0., 1.],\n",
       "       [1., 0., 0., 0., 0., 0., 0., 0., 0., 1.],\n",
       "       [1., 1., 1., 1., 1., 1., 1., 1., 1., 1.]])"
      ]
     },
     "execution_count": 137,
     "metadata": {},
     "output_type": "execute_result"
    }
   ],
   "source": [
    "g = np.ones((10,10))\n",
    "g[1:-1,1:-1] = 0\n",
    "g"
   ]
  },
  {
   "cell_type": "code",
   "execution_count": 119,
   "id": "c688fa86-24ff-4aa7-b107-a9fcbe117c21",
   "metadata": {},
   "outputs": [
    {
     "data": {
      "text/plain": [
       "array([[0., 0., 0., 0., 0., 0., 0., 0., 0., 0.],\n",
       "       [0., 1., 1., 1., 1., 1., 1., 1., 1., 0.],\n",
       "       [0., 1., 1., 1., 1., 1., 1., 1., 1., 0.],\n",
       "       [0., 1., 1., 1., 1., 1., 1., 1., 1., 0.],\n",
       "       [0., 1., 1., 1., 1., 1., 1., 1., 1., 0.],\n",
       "       [0., 1., 1., 1., 1., 1., 1., 1., 1., 0.],\n",
       "       [0., 1., 1., 1., 1., 1., 1., 1., 1., 0.],\n",
       "       [0., 1., 1., 1., 1., 1., 1., 1., 1., 0.],\n",
       "       [0., 1., 1., 1., 1., 1., 1., 1., 1., 0.],\n",
       "       [0., 0., 0., 0., 0., 0., 0., 0., 0., 0.]])"
      ]
     },
     "execution_count": 136,
     "metadata": {},
     "output_type": "execute_result"
    }
   ],
   "source": [
    "g2 = np.ones((10,10))\n",
    "g2[0:-1,[0,-1]] = 0 \n",
    "g2[[0,-1],:] =0\n",
    "g2"
   ]
  },
  {
   "cell_type": "code",
   "execution_count": 177,
   "id": "8ddc1b09-8351-4f89-b427-10d89131ded9",
   "metadata": {},
   "outputs": [
    {
     "data": {
      "text/plain": [
       "array([[1., 0., 1., 0., 1., 0., 1., 0.],\n",
       "       [0., 1., 0., 1., 0., 1., 0., 1.],\n",
       "       [1., 0., 1., 0., 1., 0., 1., 0.],\n",
       "       [0., 1., 0., 1., 0., 1., 0., 1.],\n",
       "       [1., 0., 1., 0., 1., 0., 1., 0.],\n",
       "       [0., 1., 0., 1., 0., 1., 0., 1.],\n",
       "       [1., 0., 1., 0., 1., 0., 1., 0.],\n",
       "       [0., 1., 0., 1., 0., 1., 0., 1.]])"
      ]
     },
     "execution_count": 177,
     "metadata": {},
     "output_type": "execute_result"
    }
   ],
   "source": [
    "k = np.ones((8,8))\n",
    "k[1:8:2,0:7:2] =0\n",
    "k[0:7:2,1:8:2] =0  # 슬라이싱으로 증감 표현이 가능하다\n",
    "k"
   ]
  },
  {
   "cell_type": "code",
   "execution_count": 11,
   "id": "0d5e871c-e8a5-4066-8734-513a2a78b186",
   "metadata": {},
   "outputs": [
    {
     "data": {
      "text/plain": [
       "array([[1., 0., 1., 0., 1., 0., 1., 0.],\n",
       "       [0., 1., 0., 1., 0., 1., 0., 1.],\n",
       "       [1., 0., 1., 0., 1., 0., 1., 0.],\n",
       "       [0., 1., 0., 1., 0., 1., 0., 1.],\n",
       "       [1., 0., 1., 0., 1., 0., 1., 0.],\n",
       "       [0., 1., 0., 1., 0., 1., 0., 1.],\n",
       "       [1., 0., 1., 0., 1., 0., 1., 0.],\n",
       "       [0., 1., 0., 1., 0., 1., 0., 1.]])"
      ]
     },
     "execution_count": 11,
     "metadata": {},
     "output_type": "execute_result"
    }
   ],
   "source": [
    "a = np.eye(2)\n",
    "np.tile(a,(4,4))"
   ]
  },
  {
   "cell_type": "code",
   "execution_count": 178,
   "id": "5d36a6f2-bd3f-44b6-8fee-93a86ac5494e",
   "metadata": {},
   "outputs": [
    {
     "data": {
      "text/plain": [
       "array([ 1,  2,  3, -4, -5, -6,  7,  8,  9, 10])"
      ]
     },
     "execution_count": 178,
     "metadata": {},
     "output_type": "execute_result"
    }
   ],
   "source": [
    "a = np.arange(1,11)\n",
    "a2 = np.array([-i if i>3 and i <7 else i for i in range(1,11)])\n",
    "a2"
   ]
  },
  {
   "cell_type": "code",
   "execution_count": 24,
   "id": "19c07b5f-76d6-4e4c-9df7-a54c88d174dd",
   "metadata": {},
   "outputs": [
    {
     "name": "stdout",
     "output_type": "stream",
     "text": [
      "[ 0  1  2  3 -4 -5 -6  7  8  9 10]\n"
     ]
    }
   ],
   "source": [
    "## 다른방법\n",
    "a = np.arange(11)\n",
    "a[(3<a) & (7>a)] *=-1\n",
    "print(a)"
   ]
  },
  {
   "cell_type": "code",
   "execution_count": 181,
   "id": "a2717681-6266-4a53-ae5e-54f53f8039cb",
   "metadata": {},
   "outputs": [
    {
     "data": {
      "text/plain": [
       "1683"
      ]
     },
     "execution_count": 181,
     "metadata": {},
     "output_type": "execute_result"
    }
   ],
   "source": [
    "a3 = np.array([i for i in range(1,101) if i % 3 == 0 ])\n",
    "np.sum(a3)"
   ]
  },
  {
   "cell_type": "code",
   "execution_count": 31,
   "id": "b82b94db-4412-4b8a-9368-3a6ee3719e34",
   "metadata": {},
   "outputs": [
    {
     "data": {
      "text/plain": [
       "array([0.1, 0.2, 0.3, 0.4, 0.5, 0.6, 0.7, 0.8, 0.9])"
      ]
     },
     "execution_count": 31,
     "metadata": {},
     "output_type": "execute_result"
    }
   ],
   "source": [
    "k = np.linspace(0.1,0.9,9)\n",
    "k"
   ]
  },
  {
   "cell_type": "code",
   "execution_count": 13,
   "id": "9489c3f5-5c3a-4d66-86df-b64aeb361beb",
   "metadata": {},
   "outputs": [
    {
     "name": "stdin",
     "output_type": "stream",
     "text": [
      "자연수만 입력해주세요. 4\n"
     ]
    },
    {
     "data": {
      "text/plain": [
       "array([[12, 14, 17, 34, 37, 43],\n",
       "       [ 1,  5, 18, 20, 21, 40],\n",
       "       [10, 15, 20, 23, 26, 39],\n",
       "       [ 6,  7, 10, 12, 15, 26]])"
      ]
     },
     "metadata": {},
     "output_type": "display_data"
    }
   ],
   "source": [
    "# 풀이1\n",
    "while True:\n",
    "    number = int(input(\"자연수만 입력해주세요.\"))\n",
    "    try:\n",
    "        if number <=0:\n",
    "            continue;\n",
    "        k = [np.random.choice(range(1, 46), size=6, replace=False) for _ in range(number)]\n",
    "        display(np.sort(k)) # 보여주는 명령어 \n",
    "        break;\n",
    "    except ValueError:\n",
    "        continue;"
   ]
  },
  {
   "cell_type": "code",
   "execution_count": null,
   "id": "e1677761-650b-4ed7-b4ed-dadd927b49f0",
   "metadata": {},
   "outputs": [
    {
     "name": "stdin",
     "output_type": "stream",
     "text": [
      "로또 몇개 드릴까요? 5\n"
     ]
    },
    {
     "name": "stdout",
     "output_type": "stream",
     "text": [
      "자연수만 입력하세요\n"
     ]
    }
   ],
   "source": [
    "# 풀이 2\n",
    "while True:\n",
    "    try:\n",
    "        count = int(input('로또 몇개 드릴까요?'))\n",
    "        if count <=0:\n",
    "            raise Error\n",
    "        lottos = [np.sort(np.random.chocie(range(1,46),size=6,replace=False)) for i in range(count)]\n",
    "        display(lottos)\n",
    "        break\n",
    "    except:\n",
    "        print('자연수만 입력하세요')"
   ]
  },
  {
   "cell_type": "code",
   "execution_count": 3,
   "id": "87e8e09d-c11c-483f-a41e-7e7826fd1644",
   "metadata": {},
   "outputs": [
    {
     "data": {
      "text/plain": [
       "8"
      ]
     },
     "execution_count": 3,
     "metadata": {},
     "output_type": "execute_result"
    }
   ],
   "source": [
    "resp_time = np. array([158, 85, 205, 24, 42, 175, 188, 149, 153, 171, 137, 55, 108,\n",
    "199, 177, 209, 218, 76, 103, 189, 110, 192, 136, 119, 4, 102,\n",
    "177, 212, 110, 37, 163, 32, 77, 22, 125, 184, 46, 139, 72,\n",
    "168, 133, 209, 148, 47, 102, 65, 160, 56, 11, 96, 169, 118,\n",
    "55, 135, 217, 49, 100, 85, 179, 15, 139, 199, 124, 142, 15,\n",
    "49, 168, 171, 168, 177, 147, 23, 199, 26, 51, 42, 90, 128,\n",
    "186, 169, 129, 70, 198, 111, 81, 150, 17, 177, 201, 10, 75,\n",
    "199, 55, 151, 183, 152, 119, 193, 110, 204])\n",
    "\n",
    "len(resp_time[resp_time>200])\n",
    "(resp_time>200).sum()"
   ]
  },
  {
   "cell_type": "code",
   "execution_count": 6,
   "id": "1595c61f-db8e-46b8-9ceb-7a784002edad",
   "metadata": {},
   "outputs": [
    {
     "data": {
      "text/plain": [
       "218"
      ]
     },
     "execution_count": 6,
     "metadata": {},
     "output_type": "execute_result"
    }
   ],
   "source": [
    "np.quantile(resp_time,0.25) # 1분위수\n",
    "np.quantile(resp_time,0.5)  # 2분위수 \n",
    "np.quantile(resp_time,0.75) # 3분위수\n",
    "np.quantile(resp_time,1)    # 4분위수"
   ]
  },
  {
   "cell_type": "code",
   "execution_count": 50,
   "id": "9865bcf3-f351-45bf-8618-e43abad44dc6",
   "metadata": {},
   "outputs": [
    {
     "name": "stdout",
     "output_type": "stream",
     "text": [
      "뽀로로가 81표로 반장으로 선출 되었습니다\n"
     ]
    }
   ],
   "source": [
    "p = [\"뽀로로\", \"루피\", \"크롱\"]\n",
    "result = np.array([2, 1, 2, 2, 2, 2, 0, 2, 1, 1, 0, 0, 2, 0, 0, 1, 1, 2, 2, 2, 1, 1,\n",
    "1, 2, 0, 2, 2, 0, 1, 1, 0, 2, 1, 0, 1, 2, 0, 0, 1, 0, 1, 1, 1, 2,\n",
    "1, 1, 1, 0, 0, 0, 0, 1, 0, 0, 2, 0, 2, 2, 0, 0, 1, 1, 1, 0, 0, 2,\n",
    "2, 1, 0, 1, 2, 0, 2, 0, 0, 0, 2, 0, 0, 0, 0, 0, 1, 2, 1, 1, 2, 0,\n",
    "2, 0, 0, 0, 0, 2, 1, 2, 0, 2, 0, 0, 1, 0, 1, 2, 1, 2, 0, 2, 2, 1,\n",
    "2, 0, 0, 1, 1, 0, 1, 2, 1, 2, 0, 2, 2, 2, 2, 0, 2, 2, 0, 2, 0, 2,\n",
    "1, 1, 2, 1, 1, 0, 0, 1, 0, 0, 0, 2, 2, 0, 2, 0, 0, 0, 2, 0, 0, 0,\n",
    "2, 0, 1, 2, 1, 0, 2, 0, 0, 1, 2, 1, 1, 2, 2, 0, 0, 0, 0, 2, 2, 1,\n",
    "0, 1, 1, 2, 2, 1, 0, 0, 2, 0, 0, 0, 2, 0, 2, 2, 0, 2, 1, 0, 0, 2,\n",
    "0, 1])\n",
    "\n",
    "a=len(result[result==0]) \n",
    "b=len(result[result==1]) \n",
    "c=len(result[result==2]) \n",
    "\n",
    "d = {a:p[0],b:p[1],c:p[2]}\n",
    "\n",
    "print('{}가 {}표로 반장으로 선출 되었습니다'.format(d[max(d)],max(d)))"
   ]
  },
  {
   "cell_type": "code",
   "execution_count": 66,
   "id": "928595ee-d2fe-4b26-a4f5-3617e5f43dfa",
   "metadata": {},
   "outputs": [
    {
     "name": "stdout",
     "output_type": "stream",
     "text": [
      "뽀로로가 81표로 반장으로 선출되었습니다.\n"
     ]
    }
   ],
   "source": [
    "# 다른 풀이 \n",
    "a = np.bincount(result, minlength=3)\n",
    "b = a.argmax()\n",
    "print(f\"{p[b]}가 {a[b]}표로 반장으로 선출되었습니다.\")"
   ]
  },
  {
   "cell_type": "code",
   "execution_count": 68,
   "id": "95018f64-79ee-408d-8ca3-ed83f20337e0",
   "metadata": {},
   "outputs": [
    {
     "name": "stdout",
     "output_type": "stream",
     "text": [
      "뽀로로가 81표로 반장으로 선출되었습니다.\n"
     ]
    }
   ],
   "source": [
    "# 다른 풀이2\n",
    "index, count = np.unique(result, return_counts=True)\n",
    "winner = count.argmax()\n",
    "\n",
    "print(f\"{p[winner]}가 {np.max(count)}표로 반장으로 선출되었습니다.\")"
   ]
  },
  {
   "cell_type": "code",
   "execution_count": 69,
   "id": "e517dab3-a1d5-469b-84fa-8c48b3b8c741",
   "metadata": {},
   "outputs": [
    {
     "name": "stdout",
     "output_type": "stream",
     "text": [
      "뽀로로가 81표로 반장으로 선출되었습니다.\n"
     ]
    }
   ],
   "source": [
    "# 다른 풀이3\n",
    "count = np.bincount(result , minlength=3)\n",
    "winner_index = count.argmax()\n",
    "print(f'{p[winner_index]}가 {count[winner_index]}표로 반장으로 선출되었습니다.')"
   ]
  }
 ],
 "metadata": {
  "kernelspec": {
   "display_name": "Python 3 (ipykernel)",
   "language": "python",
   "name": "python3"
  },
  "language_info": {
   "codemirror_mode": {
    "name": "ipython",
    "version": 3
   },
   "file_extension": ".py",
   "mimetype": "text/x-python",
   "name": "python",
   "nbconvert_exporter": "python",
   "pygments_lexer": "ipython3",
   "version": "3.9.12"
  }
 },
 "nbformat": 4,
 "nbformat_minor": 5
}
