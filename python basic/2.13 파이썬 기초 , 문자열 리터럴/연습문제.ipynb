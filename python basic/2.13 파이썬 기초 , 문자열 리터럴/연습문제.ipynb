{
 "cells": [
  {
   "cell_type": "markdown",
   "id": "b9d2d7e3-5704-4ac2-adad-94fa85f52375",
   "metadata": {},
   "source": [
    "## 연습문제"
   ]
  },
  {
   "cell_type": "code",
   "execution_count": 1,
   "id": "e326f1dd-d78b-484d-9fe6-432a1a044d64",
   "metadata": {},
   "outputs": [
    {
     "name": "stdout",
     "output_type": "stream",
     "text": [
      "총 지불 해야 할 금액은 16500000원 입니다.\n"
     ]
    }
   ],
   "source": [
    "people = 250\n",
    "tax = 0.1 * 20000 * people * 3 \n",
    "fee = (20000 * 3 * people) + tax     \n",
    "print('총 지불 해야 할 금액은 {}원 입니다.'.format(int(fee)))"
   ]
  }
 ],
 "metadata": {
  "kernelspec": {
   "display_name": "Python 3 (ipykernel)",
   "language": "python",
   "name": "python3"
  },
  "language_info": {
   "codemirror_mode": {
    "name": "ipython",
    "version": 3
   },
   "file_extension": ".py",
   "mimetype": "text/x-python",
   "name": "python",
   "nbconvert_exporter": "python",
   "pygments_lexer": "ipython3",
   "version": "3.9.12"
  }
 },
 "nbformat": 4,
 "nbformat_minor": 5
}
