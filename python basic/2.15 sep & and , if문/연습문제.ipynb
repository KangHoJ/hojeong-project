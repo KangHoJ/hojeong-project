{
 "cells": [
  {
   "cell_type": "markdown",
   "id": "c01a8cb2-efcd-4536-9335-9877a91ceeb7",
   "metadata": {},
   "source": [
    "## 연습문제"
   ]
  },
  {
   "cell_type": "code",
   "execution_count": 1,
   "id": "febcc548-cd52-4889-bdab-4241e78f1818",
   "metadata": {},
   "outputs": [
    {
     "name": "stdout",
     "output_type": "stream",
     "text": [
      " 오늘의 날짜를 알려드립니다 !\n",
      "2023년 3월 12일 입니다.\n",
      "\n"
     ]
    }
   ],
   "source": [
    "import time\n",
    "\n",
    "today = ''' 오늘의 날짜를 알려드립니다 !\n",
    "{}년 {}월 {}일 입니다.\n",
    "'''.format(time.localtime().tm_year,\n",
    "           time.localtime().tm_mon,\n",
    "           time.localtime().tm_mday)\n",
    "\n",
    "print(today)"
   ]
  },
  {
   "cell_type": "markdown",
   "id": "b9d2532e-0469-431c-9448-b8b46e19c784",
   "metadata": {},
   "source": [
    "## 연습문제(if문)"
   ]
  },
  {
   "cell_type": "code",
   "execution_count": 2,
   "id": "9b0a4381-7acb-4ca7-948f-4737f8ab4e62",
   "metadata": {},
   "outputs": [
    {
     "name": "stdout",
     "output_type": "stream",
     "text": [
      "오우 불혹을 넘기셨군요\n",
      "감사합니다.\n"
     ]
    }
   ],
   "source": [
    "age = 40\n",
    "\n",
    "if 20 <= age <30:\n",
    "    print(\"20대 입니다.\")\n",
    "elif 30 <= age < 40:\n",
    "    print(\"30대 입니다.\")\n",
    "else:\n",
    "    print(\"오우 불혹을 넘기셨군요\")\n",
    "    \n",
    "print(\"감사합니다.\")"
   ]
  },
  {
   "cell_type": "code",
   "execution_count": 3,
   "id": "093a308a-1162-4296-9a5b-b1fbf6deda9b",
   "metadata": {},
   "outputs": [
    {
     "name": "stdin",
     "output_type": "stream",
     "text": [
      "아이디를 입력하세요: 15\n",
      "회원 등급을 입력해주세요 1\n"
     ]
    },
    {
     "name": "stdout",
     "output_type": "stream",
     "text": [
      "제한적인 권한을 갖습니다.\n"
     ]
    }
   ],
   "source": [
    "user = input(\"아이디를 입력하세요:\")\n",
    "\n",
    "if user == 'admin':\n",
    "    print(\"최고 관리자, 모든 권한을 갖습니다.\")\n",
    "    \n",
    "else:\n",
    "    number = int(input(\"회원 등급을 입력해주세요\"))\n",
    "    if number >= 1 and number <=3:\n",
    "        print(\"제한적인 권한을 갖습니다.\")\n",
    "    else:\n",
    "        print(\"권한이 없습니다.\")"
   ]
  },
  {
   "cell_type": "code",
   "execution_count": 4,
   "id": "d76714ce-ec3b-431e-9682-2dc74025c7e9",
   "metadata": {},
   "outputs": [
    {
     "name": "stdin",
     "output_type": "stream",
     "text": [
      "자연수 하나 입력해주세요: 5\n"
     ]
    },
    {
     "name": "stdout",
     "output_type": "stream",
     "text": [
      "0\n"
     ]
    }
   ],
   "source": [
    "a = input(\"자연수 하나 입력해주세요:\")\n",
    "b = int(a)-50\n",
    "\n",
    "if b >= 0:\n",
    "    print(b)\n",
    "    \n",
    "elif b < 0:\n",
    "    print(0)\n"
   ]
  },
  {
   "cell_type": "code",
   "execution_count": 5,
   "id": "572510a6-94c8-4b32-a43c-b37acd193bdc",
   "metadata": {},
   "outputs": [
    {
     "name": "stdin",
     "output_type": "stream",
     "text": [
      "자연수 하나 입력해주세요: 5\n"
     ]
    },
    {
     "name": "stdout",
     "output_type": "stream",
     "text": [
      "홀수입니다\n"
     ]
    }
   ],
   "source": [
    "number = int(input(\"자연수 하나 입력해주세요:\"))\n",
    "\n",
    "if number % 2 == 0 :\n",
    "    print(\"짝수입니다\")\n",
    "else:\n",
    "    print(\"홀수입니다\")\n"
   ]
  },
  {
   "cell_type": "code",
   "execution_count": null,
   "id": "7189d695-434e-41c9-89bf-f772a4ffa279",
   "metadata": {
    "jupyter": {
     "source_hidden": true
    },
    "tags": []
   },
   "outputs": [],
   "source": [
    "# 방법1\n",
    "a = int(input(\"소프트웨어 설계 점수를 입력하세요\"))\n",
    "b = int(input(\"소프트웨어 개발 점수를 입력하세요\"))\n",
    "c = int(input(\"데이터베이스 구축 점수를 입력하세요\"))\n",
    "d = int(input(\"프로그래밍 언어 활용 점수를 입력하세요\"))\n",
    "e = int(input(\"정보시스템 구축 점수를 입력하세요\"))\n",
    "avg = (a+b+c+d+e)/5\n",
    "\n",
    "if a >100 or a<0  or b >100 or b<0 or c>100 or c<0 or d>100 or d<0 or e>100 or e<0:\n",
    "    print(\"잘못된 점수입니다\")    \n",
    "elif avg >=60:\n",
    "    print(\"합격\")\n",
    "else:\n",
    "    print(\"불합격\")"
   ]
  },
  {
   "cell_type": "code",
   "execution_count": 6,
   "id": "80c0f466-e2b5-4c4c-b249-3159573fb9f1",
   "metadata": {},
   "outputs": [
    {
     "name": "stdin",
     "output_type": "stream",
     "text": [
      "소프트웨어 설계 점수를 입력하세요 150\n",
      "소프트웨어 개발 점수를 입력하세요 10\n",
      "데이터베이스 구축 점수를 입력하세요 515\n",
      "프로그래밍 언어 활용 점수를 입력하세요 15\n",
      "정보시스템 구축 점수를 입력하세요 265\n"
     ]
    },
    {
     "name": "stdout",
     "output_type": "stream",
     "text": [
      "잘못된 함수입니다\n"
     ]
    }
   ],
   "source": [
    "# 방벙 2 \n",
    "a = int(input(\"소프트웨어 설계 점수를 입력하세요\"))\n",
    "b = int(input(\"소프트웨어 개발 점수를 입력하세요\"))\n",
    "c = int(input(\"데이터베이스 구축 점수를 입력하세요\"))\n",
    "d = int(input(\"프로그래밍 언어 활용 점수를 입력하세요\"))\n",
    "e = int(input(\"정보시스템 구축 점수를 입력하세요\"))\n",
    "\n",
    "k = [a,b,c,d,e]\n",
    "\n",
    "if max(k)>100 or min(k)<0:\n",
    "    print(\"잘못된 함수입니다\")\n",
    "elif sum(k)/len(k)>=60:\n",
    "    print(\"합격\")\n",
    "else:\n",
    "    print(\"불합격\")"
   ]
  },
  {
   "cell_type": "code",
   "execution_count": null,
   "id": "8a5bba43-7584-4bac-b74e-45ca8fc63697",
   "metadata": {},
   "outputs": [
    {
     "name": "stdin",
     "output_type": "stream",
     "text": [
      "현재 물의 온도를 입력해주세요: 100\n"
     ]
    },
    {
     "name": "stdout",
     "output_type": "stream",
     "text": [
      "기체로 예상됩니다\n"
     ]
    }
   ],
   "source": [
    "water = float(input(\"현재 물의 온도를 입력해주세요:\")) # 물의 상태가 정수가 아닌 숫자를 입력할수도 있으므로 float 을 붙여줌\n",
    "              \n",
    "if water >= 100:\n",
    "    print(\"기체로 예상됩니다\")\n",
    "elif water >=0:\n",
    "    print(\"액체로 예상됩니다\")\n",
    "else:\n",
    "    print(\"고체로 예상됩니다\")"
   ]
  },
  {
   "cell_type": "code",
   "execution_count": null,
   "id": "1ab5a5f6-fd84-4a4b-bbcd-2529d7578b60",
   "metadata": {},
   "outputs": [
    {
     "name": "stdin",
     "output_type": "stream",
     "text": [
      "자신의 나이를 입력하세요 1500\n"
     ]
    },
    {
     "name": "stdout",
     "output_type": "stream",
     "text": [
      "1500원\n"
     ]
    }
   ],
   "source": [
    "age = int(input(\"자신의 나이를 입력하세요\"))\n",
    "\n",
    "if age >= 19:\n",
    "    print('1500원')\n",
    "elif age >= 12: \n",
    "    print(\"1100원\")\n",
    "elif age >=6:\n",
    "    print(\"800원\")\n",
    "else:\n",
    "    print(\"무료입니다\")"
   ]
  },
  {
   "cell_type": "code",
   "execution_count": 10,
   "id": "a35820c2-1884-4e69-92bd-9af0cf7952e9",
   "metadata": {},
   "outputs": [
    {
     "name": "stdin",
     "output_type": "stream",
     "text": [
      "발주 수량을 입력하세요: 1500\n"
     ]
    },
    {
     "name": "stdout",
     "output_type": "stream",
     "text": [
      "1500개를 주문하셨습니다.\n",
      "적용 할인율은 5% 입니다\n",
      "총 발주 금액은 14250.0 입니다\n"
     ]
    }
   ],
   "source": [
    "a = int(input(\"발주 수량을 입력하세요:\"))\n",
    "b= 10\n",
    "      \n",
    "if a > 2000:\n",
    "    print(\"{}개를 주문하셨습니다.\".format(a))\n",
    "    print(\"적용 할인율은 {}% 입니다\".format(20))\n",
    "    print('총 발주 금액은 {} 입니다'.format(a*b-(a*b*0.2)))\n",
    "elif a > 1500:\n",
    "    print(\"{}개를 주문하셨습니다.\".format(a))\n",
    "    print(\"적용 할인율은 {}% 입니다\".format(10))\n",
    "    print('총 발주 금액은 {} 입니다'.format(a*b-(a*b*0.1)))\n",
    "elif a > 1000:\n",
    "    print(\"{}개를 주문하셨습니다.\".format(a))\n",
    "    print(\"적용 할인율은 {}% 입니다\".format(5))\n",
    "    print('총 발주 금액은 {} 입니다'.format(a*b-(a*b*0.05)))\n",
    "else:\n",
    "    print(\"{}개를 주문하셨습니다.\".format(a))\n",
    "    print(\"적용 할인율은 {}% 입니다\".format(0))\n",
    "    print('총 발주 금액은 {} 입니다'.format(a*b))\n"
   ]
  },
  {
   "cell_type": "code",
   "execution_count": 11,
   "id": "cb7fe6a4-9f55-4d1d-ab93-8792b11b6e95",
   "metadata": {},
   "outputs": [
    {
     "name": "stdin",
     "output_type": "stream",
     "text": [
      "주민번호 뒷자리를 입력하세요: 1234567\n"
     ]
    },
    {
     "name": "stdout",
     "output_type": "stream",
     "text": [
      "남자입니다\n"
     ]
    }
   ],
   "source": [
    "j = input(\"주민번호 뒷자리를 입력하세요:\")\n",
    "\n",
    "\n",
    "if len(j) != 7:\n",
    "    print(\"자리수를 잘못 입력했습니다\")\n",
    "elif j[0] == '1' or j[0] == '3' :\n",
    "    print(\"남자입니다\")\n",
    "elif j[0] == '2' or j[0] == '4' :\n",
    "    print(\"여자입니다\")\n",
    "else: \n",
    "    print(\"잘못된입력입니다\")\n"
   ]
  },
  {
   "cell_type": "code",
   "execution_count": 12,
   "id": "5b00debb-cc87-4ca4-a49e-14b67ebae50a",
   "metadata": {},
   "outputs": [
    {
     "name": "stdin",
     "output_type": "stream",
     "text": [
      "확인할 연도를 입력하세요 2023\n"
     ]
    },
    {
     "name": "stdout",
     "output_type": "stream",
     "text": [
      "평년입니다\n"
     ]
    }
   ],
   "source": [
    "year = int(input(\"확인할 연도를 입력하세요\"))\n",
    "\n",
    "if year % 100 == 0 and year % 400 != 0:\n",
    "    print('평년입니다')\n",
    "\n",
    "elif year % 4 ==0:\n",
    "    print(\"윤년입니다\")\n",
    "       \n",
    "else:\n",
    "    print(\"평년입니다\")"
   ]
  },
  {
   "cell_type": "code",
   "execution_count": null,
   "id": "c0360ad9-e60d-4eb2-bcd6-20c57b706c23",
   "metadata": {},
   "outputs": [
    {
     "name": "stdin",
     "output_type": "stream",
     "text": [
      "발주 수량을 입력하세요: \n"
     ]
    },
    {
     "ename": "ValueError",
     "evalue": "invalid literal for int() with base 10: ''",
     "output_type": "error",
     "traceback": [
      "\u001b[1;31m---------------------------------------------------------------------------\u001b[0m",
      "\u001b[1;31mValueError\u001b[0m                                Traceback (most recent call last)",
      "Input \u001b[1;32mIn [9]\u001b[0m, in \u001b[0;36m<cell line: 1>\u001b[1;34m()\u001b[0m\n\u001b[1;32m----> 1\u001b[0m a \u001b[38;5;241m=\u001b[39m \u001b[38;5;28;43mint\u001b[39;49m\u001b[43m(\u001b[49m\u001b[38;5;28;43minput\u001b[39;49m\u001b[43m(\u001b[49m\u001b[38;5;124;43m\"\u001b[39;49m\u001b[38;5;124;43m발주 수량을 입력하세요:\u001b[39;49m\u001b[38;5;124;43m\"\u001b[39;49m\u001b[43m)\u001b[49m\u001b[43m)\u001b[49m\n\u001b[0;32m      2\u001b[0m b\u001b[38;5;241m=\u001b[39m \u001b[38;5;241m10\u001b[39m\n\u001b[0;32m      4\u001b[0m \u001b[38;5;28;01mif\u001b[39;00m a \u001b[38;5;241m>\u001b[39m \u001b[38;5;241m2000\u001b[39m:\n",
      "\u001b[1;31mValueError\u001b[0m: invalid literal for int() with base 10: ''"
     ]
    }
   ],
   "source": [
    "a = int(input(\"발주 수량을 입력하세요:\"))\n",
    "b= 10\n",
    "      \n",
    "if a > 2000:\n",
    "    print(\"{}개를 주문하셨습니다.\".format(a))\n",
    "    print(\"적용 할인율은 {}% 입니다\".format(20))\n",
    "    print('총 발주 금액은 {} 입니다'.format(a*b-(a*b*0.2)))\n",
    "elif a > 1500:\n",
    "    print(\"{}개를 주문하셨습니다.\".format(a))\n",
    "    print(\"적용 할인율은 {}% 입니다\".format(10))\n",
    "    print('총 발주 금액은 {} 입니다'.format(a*b-(a*b*0.1)))\n",
    "elif a > 1000:\n",
    "    print(\"{}개를 주문하셨습니다.\".format(a))\n",
    "    print(\"적용 할인율은 {}% 입니다\".format(5))\n",
    "    print('총 발주 금액은 {} 입니다'.format(a*b-(a*b*0.05)))\n",
    "else:\n",
    "    print(\"{}개를 주문하셨습니다.\".format(a))\n",
    "    print(\"적용 할인율은 {}% 입니다\".format(0))\n",
    "    print('총 발주 금액은 {} 입니다'.format(a*b))\n"
   ]
  },
  {
   "cell_type": "code",
   "execution_count": null,
   "id": "b6e2a38c-c81b-44b9-a4e2-7ee7776cc978",
   "metadata": {},
   "outputs": [],
   "source": [
    "j = input(\"주민번호 뒷자리를 입력하세요:\")\n",
    "\n",
    "\n",
    "if len(j) != 7:\n",
    "    print(\"자리수를 잘못 입력했습니다\")\n",
    "elif j[0] == '1' or j[0] == '3' :\n",
    "    print(\"남자입니다\")\n",
    "elif j[0] == '2' or j[0] == '4' :\n",
    "    print(\"여자입니다\")\n",
    "else: \n",
    "    print(\"잘못된입력입니다\")\n"
   ]
  },
  {
   "cell_type": "code",
   "execution_count": null,
   "id": "b6f4575b-a2a1-4b8a-9724-716a1ac46672",
   "metadata": {},
   "outputs": [],
   "source": [
    "year = int(input(\"확인할 연도를 입력하세요\"))\n",
    "\n",
    "if year % 100 == 0 and year % 400 != 0:\n",
    "    print('평년입니다')\n",
    "\n",
    "elif year % 4 ==0:\n",
    "    print(\"윤년입니다\")\n",
    "       \n",
    "else:\n",
    "    print(\"평년입니다\")"
   ]
  }
 ],
 "metadata": {
  "kernelspec": {
   "display_name": "Python 3 (ipykernel)",
   "language": "python",
   "name": "python3"
  },
  "language_info": {
   "codemirror_mode": {
    "name": "ipython",
    "version": 3
   },
   "file_extension": ".py",
   "mimetype": "text/x-python",
   "name": "python",
   "nbconvert_exporter": "python",
   "pygments_lexer": "ipython3",
   "version": "3.9.12"
  }
 },
 "nbformat": 4,
 "nbformat_minor": 5
}
