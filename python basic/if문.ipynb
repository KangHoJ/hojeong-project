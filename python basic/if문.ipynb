{
 "cells": [
  {
   "cell_type": "markdown",
   "id": "490deefe-87d5-4e37-8bb6-919201a8f51f",
   "metadata": {},
   "source": [
    "# if문"
   ]
  },
  {
   "cell_type": "code",
   "execution_count": 1,
   "id": "08769e39-d278-4c11-8475-f0e1780d85d9",
   "metadata": {},
   "outputs": [
    {
     "name": "stdout",
     "output_type": "stream",
     "text": [
      "input_value4는 정수입니다.\n"
     ]
    }
   ],
   "source": [
    "input_value4 =8\n",
    "if type(input_value4) is int:\n",
    "    print(\"input_value4는 정수입니다.\") # 정수가 맞으면 출력 "
   ]
  },
  {
   "cell_type": "code",
   "execution_count": 2,
   "id": "1aa749ee-0534-429e-b074-94b0c8a76212",
   "metadata": {},
   "outputs": [
    {
     "name": "stdout",
     "output_type": "stream",
     "text": [
      "10보다 큽니다\n"
     ]
    }
   ],
   "source": [
    "c= 11\n",
    "\n",
    "if c > 10:\n",
    "    print('10보다 큽니다')\n",
    "elif c < 5:\n",
    "    print('10보다 작고 , 5보다도 작습니다')\n",
    "elif True:\n",
    "    print(\"10보다 작고 , 5보단 큽니다\")"
   ]
  }
 ],
 "metadata": {
  "kernelspec": {
   "display_name": "Python 3 (ipykernel)",
   "language": "python",
   "name": "python3"
  },
  "language_info": {
   "codemirror_mode": {
    "name": "ipython",
    "version": 3
   },
   "file_extension": ".py",
   "mimetype": "text/x-python",
   "name": "python",
   "nbconvert_exporter": "python",
   "pygments_lexer": "ipython3",
   "version": "3.9.12"
  }
 },
 "nbformat": 4,
 "nbformat_minor": 5
}
