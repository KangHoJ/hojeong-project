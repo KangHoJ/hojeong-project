{
 "cells": [
  {
   "cell_type": "markdown",
   "id": "1f6ec743-7738-41e1-9f65-8a91247e25cd",
   "metadata": {},
   "source": [
    "### 다양한 조작법 "
   ]
  },
  {
   "cell_type": "code",
   "execution_count": 2,
   "id": "6d412fd3-b07e-4cdb-b882-ffde27ac06f6",
   "metadata": {},
   "outputs": [
    {
     "data": {
      "text/html": [
       "<div>\n",
       "<style scoped>\n",
       "    .dataframe tbody tr th:only-of-type {\n",
       "        vertical-align: middle;\n",
       "    }\n",
       "\n",
       "    .dataframe tbody tr th {\n",
       "        vertical-align: top;\n",
       "    }\n",
       "\n",
       "    .dataframe thead th {\n",
       "        text-align: right;\n",
       "    }\n",
       "</style>\n",
       "<table border=\"1\" class=\"dataframe\">\n",
       "  <thead>\n",
       "    <tr style=\"text-align: right;\">\n",
       "      <th></th>\n",
       "      <th>Team</th>\n",
       "      <th>Position</th>\n",
       "      <th>Birthday</th>\n",
       "      <th>Salary</th>\n",
       "    </tr>\n",
       "    <tr>\n",
       "      <th>Name</th>\n",
       "      <th></th>\n",
       "      <th></th>\n",
       "      <th></th>\n",
       "      <th></th>\n",
       "    </tr>\n",
       "  </thead>\n",
       "  <tbody>\n",
       "    <tr>\n",
       "      <th>Stephen Curry</th>\n",
       "      <td>Golden State Warriors</td>\n",
       "      <td>PG</td>\n",
       "      <td>1988-03-14</td>\n",
       "      <td>40231758</td>\n",
       "    </tr>\n",
       "  </tbody>\n",
       "</table>\n",
       "</div>"
      ],
      "text/plain": [
       "                                Team Position   Birthday    Salary\n",
       "Name                                                              \n",
       "Stephen Curry  Golden State Warriors       PG 1988-03-14  40231758"
      ]
     },
     "execution_count": 2,
     "metadata": {},
     "output_type": "execute_result"
    }
   ],
   "source": [
    "import pandas as pd\n",
    "import numpy as np\n",
    "nba = pd.read_csv('datas/nba.csv',parse_dates=['Birthday'],index_col='Name')\n",
    "nba.nlargest(1,columns=['Salary'])\n",
    "# salary열 기준으로 가장 큰 것 하나 추출"
   ]
  },
  {
   "cell_type": "code",
   "execution_count": 21,
   "id": "5dedf76b-c861-4dc8-9d72-9d2782c1251f",
   "metadata": {},
   "outputs": [
    {
     "data": {
      "text/plain": [
       "1445697"
      ]
     },
     "execution_count": 21,
     "metadata": {},
     "output_type": "execute_result"
    }
   ],
   "source": [
    "nba.loc['Shake Milton'] # 인덱스를 name으로 설정했으니 이름 조회 가능\n",
    "nba['Salary'].loc['Shake Milton'] # 특정 선수의 특정 컬럼을 볼 수 있다\n",
    "nba['Salary'].at['Shake Milton']"
   ]
  },
  {
   "cell_type": "code",
   "execution_count": 15,
   "id": "6c6878de-40ed-48ee-b62a-cd09284a12d7",
   "metadata": {},
   "outputs": [],
   "source": [
    "nba.rename(columns={'Salary':'Pay'},inplace=True)\n",
    "# 칼럼 이름 변경"
   ]
  }
 ],
 "metadata": {
  "kernelspec": {
   "display_name": "Python 3 (ipykernel)",
   "language": "python",
   "name": "python3"
  },
  "language_info": {
   "codemirror_mode": {
    "name": "ipython",
    "version": 3
   },
   "file_extension": ".py",
   "mimetype": "text/x-python",
   "name": "python",
   "nbconvert_exporter": "python",
   "pygments_lexer": "ipython3",
   "version": "3.9.12"
  }
 },
 "nbformat": 4,
 "nbformat_minor": 5
}
