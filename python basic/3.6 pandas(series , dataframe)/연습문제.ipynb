{
 "cells": [
  {
   "cell_type": "markdown",
   "id": "ccf9d0d8-36d4-417b-a68c-510acb7d0f01",
   "metadata": {},
   "source": [
    "### 연습문제"
   ]
  },
  {
   "cell_type": "code",
   "execution_count": 82,
   "id": "a154df99-3bde-4e17-8320-3bd1dbe4867e",
   "metadata": {},
   "outputs": [
    {
     "name": "stdout",
     "output_type": "stream",
     "text": [
      "인천의 인구는 300만이 넘습니다.\n",
      "대구의 인구는 300만이 넘습니다.\n"
     ]
    }
   ],
   "source": [
    "for k,v in s4.items():\n",
    "    if v >3000000:\n",
    "        print(f'{k}의 인구는 300만이 넘습니다.')"
   ]
  },
  {
   "cell_type": "markdown",
   "id": "0d17b53b-94bd-4f68-b76c-cc5d827ab238",
   "metadata": {},
   "source": [
    "### 연습문제"
   ]
  },
  {
   "cell_type": "code",
   "execution_count": 47,
   "id": "007a7e40-1c7c-4e96-a1df-aafa86b3adbd",
   "metadata": {},
   "outputs": [
    {
     "data": {
      "text/plain": [
       "인천    2890451\n",
       "dtype: int64"
      ]
     },
     "execution_count": 47,
     "metadata": {},
     "output_type": "execute_result"
    }
   ],
   "source": [
    "s4[[2]]"
   ]
  },
  {
   "cell_type": "code",
   "execution_count": 48,
   "id": "eb95a429-fd6d-4908-a241-793d74f1d830",
   "metadata": {},
   "outputs": [
    {
     "data": {
      "text/plain": [
       "부산    3448737\n",
       "인천    2890451\n",
       "dtype: int64"
      ]
     },
     "execution_count": 48,
     "metadata": {},
     "output_type": "execute_result"
    }
   ],
   "source": [
    "s4[1:3]"
   ]
  },
  {
   "cell_type": "code",
   "execution_count": 54,
   "id": "657336d4-bfe4-491d-a7ef-0dd997c63fed",
   "metadata": {},
   "outputs": [
    {
     "data": {
      "text/plain": [
       "부산    3448737\n",
       "인천    2890451\n",
       "대구    2466052\n",
       "dtype: int64"
      ]
     },
     "execution_count": 54,
     "metadata": {},
     "output_type": "execute_result"
    }
   ],
   "source": [
    "s4[[1,2,3]]"
   ]
  },
  {
   "cell_type": "markdown",
   "id": "707c6d02-63d2-437b-b036-fa4e9b432886",
   "metadata": {},
   "source": [
    "### 연습문제"
   ]
  },
  {
   "cell_type": "code",
   "execution_count": 124,
   "id": "23117dd1-d408-4eb9-bef2-1b39fac4e303",
   "metadata": {},
   "outputs": [
    {
     "data": {
      "text/plain": [
       "서울    272830.0\n",
       "dtype: float64"
      ]
     },
     "execution_count": 124,
     "metadata": {},
     "output_type": "execute_result"
    }
   ],
   "source": [
    "c = pd.Series({'서울':9904312,'부산':3448737,'인천':2890451,'대구':2466052}) #2015년 인구\n",
    "c2 = pd.Series({'서울':9631482,'부산':3393191,'인천':2632035,'대전':1490158}) # 2010년 인구\n",
    "rk = c-c2\n",
    "rk2 = rk[rk.notnull()]\n",
    "rk3 = rk2.argmax() # 최대값의 index를 반환해줌 \n",
    "rk2[[rk3]]"
   ]
  },
  {
   "cell_type": "markdown",
   "id": "ee20fed2-4f2d-469c-84e5-be02de84473a",
   "metadata": {},
   "source": [
    "### 연습문제"
   ]
  },
  {
   "cell_type": "code",
   "execution_count": 114,
   "id": "803ae99f-0927-4a57-b2e9-685eef1d7e81",
   "metadata": {},
   "outputs": [
    {
     "data": {
      "text/plain": [
       "부산    1.63\n",
       "서울    2.83\n",
       "인천    9.82\n",
       "dtype: float64"
      ]
     },
     "execution_count": 114,
     "metadata": {},
     "output_type": "execute_result"
    }
   ],
   "source": [
    "rs['서울'] = 2.83 \n",
    "rs['인천'] = 9.82\n",
    "rs\n",
    "\n",
    "#방법 2\n",
    "rs['서울':'인천'] = (2.83,9.82)\n",
    "rs"
   ]
  },
  {
   "cell_type": "markdown",
   "id": "245d34c4-c9c3-48eb-b385-1730249d61ef",
   "metadata": {},
   "source": [
    "### 연습문제"
   ]
  },
  {
   "cell_type": "code",
   "execution_count": 122,
   "id": "ebd6f431-c92a-4345-ac71-e16d3a39cc2b",
   "metadata": {},
   "outputs": [
    {
     "data": {
      "text/plain": [
       "카카오      60200\n",
       "삼성전자     61200\n",
       "네이버     200100\n",
       "dtype: int64"
      ]
     },
     "execution_count": 122,
     "metadata": {},
     "output_type": "execute_result"
    }
   ],
   "source": [
    "fin1 = {\"카카오\":60010, \"삼성전자\":61000, \"LG전자\": 90000}\n",
    "fin2_value = [60200, 61200, 200100]\n",
    "fin2_index = [\"카카오\", \"삼성전자\", \"네이버\"]\n",
    "\n",
    "ser_finance1 = pd.Series(fin1)\n",
    "ser_finance2 = pd.Series(fin2_value,fin2_index)"
   ]
  },
  {
   "cell_type": "markdown",
   "id": "4df28c55-ea79-4ada-acc5-a01a51130320",
   "metadata": {},
   "source": [
    "### 연습문제"
   ]
  },
  {
   "cell_type": "code",
   "execution_count": 194,
   "id": "63f63cbc-e220-4b84-84b2-0777871f6252",
   "metadata": {},
   "outputs": [
    {
     "name": "stdout",
     "output_type": "stream",
     "text": [
      "LG전자      NaN\n",
      "네이버       NaN\n",
      "삼성전자   -200.0\n",
      "카카오    -190.0\n",
      "dtype: float64\n"
     ]
    },
    {
     "data": {
      "text/plain": [
       "LG전자         NaN\n",
       "네이버          NaN\n",
       "삼성전자    0.996732\n",
       "카카오     0.996844\n",
       "dtype: float64"
      ]
     },
     "execution_count": 194,
     "metadata": {},
     "output_type": "execute_result"
    }
   ],
   "source": [
    "ser_finance1 - ser_finance2\n",
    "ser_finance1 + ser_finance2\n",
    "ser_finance1 * ser_finance2\n",
    "ser_finance1 / ser_finance2\n",
    "# 결과가 모두다 float형태로 나오는데 Nan이 있기 때문에"
   ]
  },
  {
   "cell_type": "markdown",
   "id": "20ce77f7-68d0-4878-9af1-848bade37171",
   "metadata": {},
   "source": [
    "### 연습문제"
   ]
  },
  {
   "cell_type": "code",
   "execution_count": 126,
   "id": "853ed85b-e841-444d-a414-ef198fccdc07",
   "metadata": {
    "tags": []
   },
   "outputs": [
    {
     "data": {
      "text/plain": [
       "삼성전자   -200.0\n",
       "카카오    -190.0\n",
       "dtype: float64"
      ]
     },
     "execution_count": 126,
     "metadata": {},
     "output_type": "execute_result"
    }
   ],
   "source": [
    "result = ser_finance1 - ser_finance2\n",
    "result[result.notnull()]"
   ]
  },
  {
   "cell_type": "markdown",
   "id": "5331709f-96ed-4279-9d3b-52a5849ae49c",
   "metadata": {},
   "source": [
    "### 연습문제"
   ]
  },
  {
   "cell_type": "code",
   "execution_count": 264,
   "id": "f333e8c9-c148-4ec1-b6f0-deca1ee4087c",
   "metadata": {},
   "outputs": [
    {
     "data": {
      "text/html": [
       "<div>\n",
       "<style scoped>\n",
       "    .dataframe tbody tr th:only-of-type {\n",
       "        vertical-align: middle;\n",
       "    }\n",
       "\n",
       "    .dataframe tbody tr th {\n",
       "        vertical-align: top;\n",
       "    }\n",
       "\n",
       "    .dataframe thead th {\n",
       "        text-align: right;\n",
       "    }\n",
       "</style>\n",
       "<table border=\"1\" class=\"dataframe\">\n",
       "  <thead>\n",
       "    <tr style=\"text-align: right;\">\n",
       "      <th></th>\n",
       "      <th>이름</th>\n",
       "      <th>네이버 리뷰수</th>\n",
       "      <th>블로그 리뷰수</th>\n",
       "      <th>평점</th>\n",
       "      <th>오픈시간</th>\n",
       "      <th>종료시간</th>\n",
       "      <th>휴무일</th>\n",
       "      <th>가격</th>\n",
       "      <th>거리</th>\n",
       "      <th>죵료시간점수</th>\n",
       "      <th>거리점수</th>\n",
       "      <th>가격점수</th>\n",
       "      <th>최종점수</th>\n",
       "    </tr>\n",
       "  </thead>\n",
       "  <tbody>\n",
       "    <tr>\n",
       "      <th>헬스장1</th>\n",
       "      <td>바디앤짐</td>\n",
       "      <td>81</td>\n",
       "      <td>73</td>\n",
       "      <td>4.30</td>\n",
       "      <td>06시</td>\n",
       "      <td>24시</td>\n",
       "      <td>매달2,4번째 일요일</td>\n",
       "      <td>3개월21만원</td>\n",
       "      <td>302</td>\n",
       "      <td>3.0</td>\n",
       "      <td>1.0</td>\n",
       "      <td>3.0</td>\n",
       "      <td>2.8</td>\n",
       "    </tr>\n",
       "    <tr>\n",
       "      <th>헬스장2</th>\n",
       "      <td>프레토휘트니스</td>\n",
       "      <td>75</td>\n",
       "      <td>107</td>\n",
       "      <td>4.27</td>\n",
       "      <td>06시</td>\n",
       "      <td>24시</td>\n",
       "      <td>매달2,4번째 일요일</td>\n",
       "      <td>3개월22만원</td>\n",
       "      <td>269</td>\n",
       "      <td>3.0</td>\n",
       "      <td>2.0</td>\n",
       "      <td>2.0</td>\n",
       "      <td>2.7</td>\n",
       "    </tr>\n",
       "    <tr>\n",
       "      <th>헬스장3</th>\n",
       "      <td>비비짐</td>\n",
       "      <td>54</td>\n",
       "      <td>36</td>\n",
       "      <td>5.00</td>\n",
       "      <td>06</td>\n",
       "      <td>23시</td>\n",
       "      <td>매달1,3,5번쨰 일요일</td>\n",
       "      <td>3개월24만원</td>\n",
       "      <td>449</td>\n",
       "      <td>2.0</td>\n",
       "      <td>1.0</td>\n",
       "      <td>1.0</td>\n",
       "      <td>1.5</td>\n",
       "    </tr>\n",
       "    <tr>\n",
       "      <th>헬스장4</th>\n",
       "      <td>바디디자인샵</td>\n",
       "      <td>12</td>\n",
       "      <td>2</td>\n",
       "      <td>4.83</td>\n",
       "      <td>06시</td>\n",
       "      <td>22시</td>\n",
       "      <td>매주일요일</td>\n",
       "      <td>3개월24만원</td>\n",
       "      <td>235</td>\n",
       "      <td>1.0</td>\n",
       "      <td>2.0</td>\n",
       "      <td>1.0</td>\n",
       "      <td>1.6</td>\n",
       "    </tr>\n",
       "  </tbody>\n",
       "</table>\n",
       "</div>"
      ],
      "text/plain": [
       "           이름  네이버 리뷰수  블로그 리뷰수    평점 오픈시간 종료시간            휴무일       가격   거리  \\\n",
       "헬스장1     바디앤짐       81       73  4.30  06시  24시    매달2,4번째 일요일  3개월21만원  302   \n",
       "헬스장2  프레토휘트니스       75      107  4.27  06시  24시    매달2,4번째 일요일  3개월22만원  269   \n",
       "헬스장3      비비짐       54       36  5.00   06  23시  매달1,3,5번쨰 일요일  3개월24만원  449   \n",
       "헬스장4   바디디자인샵       12        2  4.83  06시  22시          매주일요일  3개월24만원  235   \n",
       "\n",
       "      죵료시간점수  거리점수  가격점수  최종점수  \n",
       "헬스장1     3.0   1.0   3.0   2.8  \n",
       "헬스장2     3.0   2.0   2.0   2.7  \n",
       "헬스장3     2.0   1.0   1.0   1.5  \n",
       "헬스장4     1.0   2.0   1.0   1.6  "
      ]
     },
     "execution_count": 264,
     "metadata": {},
     "output_type": "execute_result"
    }
   ],
   "source": [
    "data = {\n",
    "    \"이름\" : ['바디앤짐', '프레토휘트니스', '비비짐', '바디디자인샵'],\n",
    "    \"네이버 리뷰수\" : [81, 75, 54,12],\n",
    "    \"블로그 리뷰수\" : [73, 107, 36, 2],\n",
    "    \"평점\" : [4.3, 4.27, 5, 4.83],\n",
    "    \"오픈시간\" : [\"06시\", \"06시\", \"06\", \"06시\"],\n",
    "    \"종료시간\" :['24시','24시' , '23시', '22시'],\n",
    "    '휴무일' : ['매달2,4번째 일요일','매달2,4번째 일요일','매달1,3,5번쨰 일요일','매주일요일'],\n",
    "    '가격' : ['3개월21만원' , '3개월22만원','3개월24만원','3개월24만원'],\n",
    "    '거리' : [302,269,449,235]\n",
    "}\n",
    "columns = [\"이름\", \"네이버 리뷰수\", \"블로그 리뷰수\", \"평점\", \"오픈시간\", \"종료시간\",'휴무일','가격','거리']\n",
    "index = ['헬스장1','헬스장2','헬스장3','헬스장4']\n",
    "df = pd.DataFrame(data, index = index, columns = columns)\n",
    "df\n",
    "\n",
    "\n",
    "df.loc[df['종료시간']=='24시','죵료시간점수'] =3\n",
    "df.loc[df['종료시간']=='23시','죵료시간점수'] =2\n",
    "df.loc[df['종료시간']=='22시','죵료시간점수'] =1\n",
    "df\n",
    "\n",
    "df.loc[df['거리']<=300,'거리점수'] =2\n",
    "df.loc[df['거리']>300,'거리점수']=1\n",
    "df\n",
    "\n",
    "df.loc[df['가격']=='3개월24만원','가격점수'] =1\n",
    "df.loc[df['가격']=='3개월22만원','가격점수'] =2\n",
    "df.loc[df['가격']=='3개월21만원','가격점수'] =3\n",
    "df\n",
    "\n",
    "df['최종점수'] = df['죵료시간점수'] * 0.3 +df['거리점수'] * 0.4 +df['가격점수'] * 0.5\n",
    "df"
   ]
  },
  {
   "cell_type": "markdown",
   "id": "f377ea8c-93b1-48db-a12d-1d1c2fb899cb",
   "metadata": {
    "tags": []
   },
   "source": [
    "### 연습문제"
   ]
  },
  {
   "cell_type": "code",
   "execution_count": 290,
   "id": "e071b68e-1352-4d27-a276-fa30a96ded2e",
   "metadata": {},
   "outputs": [
    {
     "data": {
      "text/plain": [
       "국어    70\n",
       "영어    60\n",
       "수학    80\n",
       "Name: 향단, dtype: int64"
      ]
     },
     "execution_count": 290,
     "metadata": {},
     "output_type": "execute_result"
    }
   ],
   "source": [
    "df['수학'] #1번\n",
    "df[['국어','영어']] #2번\n",
    "df['평균'] = (df['국어'] + df['영어'] + df['수학']) / 3 #3번\n",
    "df[:1] #4번\n",
    "df2 = df.T\n",
    "df2\n",
    "df2['향단']"
   ]
  },
  {
   "cell_type": "code",
   "execution_count": 230,
   "id": "899353d4-44d0-4d32-8ddf-5129d046ab6f",
   "metadata": {},
   "outputs": [
    {
     "data": {
      "text/html": [
       "<div>\n",
       "<style scoped>\n",
       "    .dataframe tbody tr th:only-of-type {\n",
       "        vertical-align: middle;\n",
       "    }\n",
       "\n",
       "    .dataframe tbody tr th {\n",
       "        vertical-align: top;\n",
       "    }\n",
       "\n",
       "    .dataframe thead th {\n",
       "        text-align: right;\n",
       "    }\n",
       "</style>\n",
       "<table border=\"1\" class=\"dataframe\">\n",
       "  <thead>\n",
       "    <tr style=\"text-align: right;\">\n",
       "      <th></th>\n",
       "      <th>A</th>\n",
       "      <th>B</th>\n",
       "      <th>C</th>\n",
       "      <th>D</th>\n",
       "    </tr>\n",
       "  </thead>\n",
       "  <tbody>\n",
       "    <tr>\n",
       "      <th>2013-02-26</th>\n",
       "      <td>1.764052</td>\n",
       "      <td>0.400157</td>\n",
       "      <td>0.978738</td>\n",
       "      <td>2.240893</td>\n",
       "    </tr>\n",
       "    <tr>\n",
       "      <th>2013-02-27</th>\n",
       "      <td>1.867558</td>\n",
       "      <td>-0.977278</td>\n",
       "      <td>0.950088</td>\n",
       "      <td>-0.151357</td>\n",
       "    </tr>\n",
       "    <tr>\n",
       "      <th>2013-02-28</th>\n",
       "      <td>-0.103219</td>\n",
       "      <td>0.410599</td>\n",
       "      <td>0.144044</td>\n",
       "      <td>1.454274</td>\n",
       "    </tr>\n",
       "    <tr>\n",
       "      <th>2013-03-01</th>\n",
       "      <td>0.761038</td>\n",
       "      <td>0.121675</td>\n",
       "      <td>0.443863</td>\n",
       "      <td>0.333674</td>\n",
       "    </tr>\n",
       "    <tr>\n",
       "      <th>2013-03-02</th>\n",
       "      <td>1.494079</td>\n",
       "      <td>-0.205158</td>\n",
       "      <td>0.313068</td>\n",
       "      <td>-0.854096</td>\n",
       "    </tr>\n",
       "    <tr>\n",
       "      <th>2013-03-03</th>\n",
       "      <td>-2.552990</td>\n",
       "      <td>0.653619</td>\n",
       "      <td>0.864436</td>\n",
       "      <td>-0.742165</td>\n",
       "    </tr>\n",
       "  </tbody>\n",
       "</table>\n",
       "</div>"
      ],
      "text/plain": [
       "                   A         B         C         D\n",
       "2013-02-26  1.764052  0.400157  0.978738  2.240893\n",
       "2013-02-27  1.867558 -0.977278  0.950088 -0.151357\n",
       "2013-02-28 -0.103219  0.410599  0.144044  1.454274\n",
       "2013-03-01  0.761038  0.121675  0.443863  0.333674\n",
       "2013-03-02  1.494079 -0.205158  0.313068 -0.854096\n",
       "2013-03-03 -2.552990  0.653619  0.864436 -0.742165"
      ]
     },
     "execution_count": 230,
     "metadata": {},
     "output_type": "execute_result"
    }
   ],
   "source": [
    "np.random.seed(0)\n",
    "data = np.random.randn(24).reshape(6,4)\n",
    "index = pd.date_range('20130226',periods=6)\n",
    "columns=['A','B','C','D']\n",
    "df = pd.DataFrame(data,index,columns)\n",
    "df"
   ]
  }
 ],
 "metadata": {
  "kernelspec": {
   "display_name": "Python 3 (ipykernel)",
   "language": "python",
   "name": "python3"
  },
  "language_info": {
   "codemirror_mode": {
    "name": "ipython",
    "version": 3
   },
   "file_extension": ".py",
   "mimetype": "text/x-python",
   "name": "python",
   "nbconvert_exporter": "python",
   "pygments_lexer": "ipython3",
   "version": "3.9.12"
  }
 },
 "nbformat": 4,
 "nbformat_minor": 5
}
