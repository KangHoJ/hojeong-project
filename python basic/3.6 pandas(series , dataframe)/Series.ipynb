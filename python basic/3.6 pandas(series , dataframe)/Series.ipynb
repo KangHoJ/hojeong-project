{
 "cells": [
  {
   "cell_type": "markdown",
   "id": "34ec86f0-8380-49bd-b7be-ab94db44deea",
   "metadata": {},
   "source": [
    "## Series"
   ]
  },
  {
   "cell_type": "code",
   "execution_count": 5,
   "id": "0c980ac4-950a-47b8-a17b-e2ee07714861",
   "metadata": {},
   "outputs": [
    {
     "data": {
      "text/plain": [
       "1    하나\n",
       "2     둘\n",
       "3     셋\n",
       "dtype: object"
      ]
     },
     "execution_count": 5,
     "metadata": {},
     "output_type": "execute_result"
    }
   ],
   "source": [
    "import pandas as pd\n",
    "s = pd.Series(['하나','둘','셋'],index = [i for i in range(1,4)])\n",
    "s"
   ]
  },
  {
   "cell_type": "code",
   "execution_count": 6,
   "id": "b2a5a21d-0d5c-4d30-aa2d-8b4b1842fc74",
   "metadata": {},
   "outputs": [
    {
     "data": {
      "text/plain": [
       "서울    9904312\n",
       "부산    3448737\n",
       "인천    2890451\n",
       "대구    2466052\n",
       "dtype: int64"
      ]
     },
     "execution_count": 6,
     "metadata": {},
     "output_type": "execute_result"
    }
   ],
   "source": [
    "s2 = pd.Series([9_904_312, 3_448_737,2_890_451,2_466_052],index=['서울','부산','인천','대구'])\n",
    "s2"
   ]
  },
  {
   "cell_type": "code",
   "execution_count": 10,
   "id": "1d4e95d2-1a3f-45aa-b91c-b1f354517910",
   "metadata": {},
   "outputs": [
    {
     "data": {
      "text/plain": [
       "0    10\n",
       "1    20\n",
       "2    30\n",
       "3    40\n",
       "4    50\n",
       "5    60\n",
       "6    70\n",
       "7    80\n",
       "8    90\n",
       "dtype: int64"
      ]
     },
     "execution_count": 10,
     "metadata": {},
     "output_type": "execute_result"
    }
   ],
   "source": [
    "s3 = pd.Series([10,20,30,40,50,60,70,80,90],index=None)\n",
    "s3"
   ]
  },
  {
   "cell_type": "code",
   "execution_count": 24,
   "id": "2b11fe47-485a-4ddb-8d9b-bf56da85ebed",
   "metadata": {},
   "outputs": [
    {
     "name": "stdout",
     "output_type": "stream",
     "text": [
      "RangeIndex(start=0, stop=9, step=1, name='도시')\n",
      "[10 20 30 40 50 60 70 80 90]\n"
     ]
    },
    {
     "data": {
      "text/plain": [
       "numpy.ndarray"
      ]
     },
     "execution_count": 24,
     "metadata": {},
     "output_type": "execute_result"
    }
   ],
   "source": [
    "print(s3.index)\n",
    "print(s3.values)\n",
    "type(s3.values) # 값이 ndarray 형태 "
   ]
  },
  {
   "cell_type": "code",
   "execution_count": 30,
   "id": "d1b51ee5-ce8d-427c-9860-6d97ea4d68ce",
   "metadata": {},
   "outputs": [
    {
     "data": {
      "text/plain": [
       "도시\n",
       "0    False\n",
       "1    False\n",
       "2    False\n",
       "3    False\n",
       "4    False\n",
       "5     True\n",
       "6     True\n",
       "7     True\n",
       "8     True\n",
       "Name: 인구, dtype: bool"
      ]
     },
     "execution_count": 30,
     "metadata": {},
     "output_type": "execute_result"
    }
   ],
   "source": [
    "s3[s3>50].count()\n",
    "# 방법 2  sum(s3>50)"
   ]
  },
  {
   "cell_type": "code",
   "execution_count": 21,
   "id": "2489ab24-9c0d-4dec-bdfd-9a736a9b6011",
   "metadata": {},
   "outputs": [
    {
     "data": {
      "text/plain": [
       "도시\n",
       "0    10\n",
       "1    20\n",
       "2    30\n",
       "3    40\n",
       "4    50\n",
       "5    60\n",
       "6    70\n",
       "7    80\n",
       "8    90\n",
       "Name: 인구, dtype: int64"
      ]
     },
     "execution_count": 21,
     "metadata": {},
     "output_type": "execute_result"
    }
   ],
   "source": [
    "s3.name='인구'       #데이터 이름 주기\n",
    "s3.index.name='도시' #index에 이름 주기 \n",
    "s3"
   ]
  },
  {
   "cell_type": "code",
   "execution_count": 22,
   "id": "f2199ca7-8228-4eda-af54-27fc884ae974",
   "metadata": {},
   "outputs": [
    {
     "data": {
      "text/plain": [
       "a    1\n",
       "b    2\n",
       "c    3\n",
       "dtype: int64"
      ]
     },
     "execution_count": 22,
     "metadata": {},
     "output_type": "execute_result"
    }
   ],
   "source": [
    "d = {'a':1 , 'b':2 , 'c':3}  # 딕셔너리 series 로 만들기 \n",
    "ser = pd.Series(data=d,index=['a','b','c'])\n",
    "ser"
   ]
  },
  {
   "cell_type": "code",
   "execution_count": null,
   "id": "22c3e4e8-e045-4c9a-a2a7-b2fa276076bf",
   "metadata": {},
   "outputs": [
    {
     "data": {
      "text/plain": [
       "x   NaN\n",
       "y   NaN\n",
       "z   NaN\n",
       "dtype: float64"
      ]
     },
     "execution_count": 23,
     "metadata": {},
     "output_type": "execute_result"
    }
   ],
   "source": [
    "d = {'a':1 , 'b':2 , 'c':3}  \n",
    "ser = pd.Series(data=d,index=['x','y','z'])\n",
    "ser # 딕셔너리로 series만들면 index 가 딕셔너리의 key로 자동지정"
   ]
  },
  {
   "cell_type": "code",
   "execution_count": 265,
   "id": "627970ee-3a68-4d9e-9db3-74f4cd47d525",
   "metadata": {},
   "outputs": [
    {
     "data": {
      "text/plain": [
       "서울    1904312\n",
       "부산    1448737\n",
       "인천    3890451\n",
       "대구    4466052\n",
       "dtype: int64"
      ]
     },
     "execution_count": 265,
     "metadata": {},
     "output_type": "execute_result"
    }
   ],
   "source": [
    "s4 = pd.Series({'서울':1_904_312,'부산':1_448_737,'인천':3_890_451,'대구':4_466_052})\n",
    "s4"
   ]
  },
  {
   "cell_type": "code",
   "execution_count": 27,
   "id": "5ddde8e8-8f5e-47bd-b43f-317b8ffde07b",
   "metadata": {
    "tags": []
   },
   "outputs": [
    {
     "data": {
      "text/plain": [
       "철수     88\n",
       "영희     95\n",
       "길동    100\n",
       "몽룡     34\n",
       "dtype: int64"
      ]
     },
     "execution_count": 27,
     "metadata": {},
     "output_type": "execute_result"
    }
   ],
   "source": [
    "s5 = pd.Series({'철수':88,'영희':95,'길동':100,'몽룡':34})\n",
    "s5"
   ]
  },
  {
   "cell_type": "code",
   "execution_count": 31,
   "id": "bcfda8bc-efb1-49c2-8743-6f0cb265f1b8",
   "metadata": {},
   "outputs": [
    {
     "data": {
      "text/plain": [
       "True"
      ]
     },
     "execution_count": 31,
     "metadata": {},
     "output_type": "execute_result"
    }
   ],
   "source": [
    "'철수' in s5"
   ]
  },
  {
   "cell_type": "code",
   "execution_count": 66,
   "id": "3bcf81db-9eb0-42eb-9b32-86df6cf14a17",
   "metadata": {},
   "outputs": [
    {
     "data": {
      "text/plain": [
       "True"
      ]
     },
     "execution_count": 66,
     "metadata": {},
     "output_type": "execute_result"
    }
   ],
   "source": [
    "88 in s5.values"
   ]
  },
  {
   "cell_type": "code",
   "execution_count": 64,
   "id": "9312d201-d5f5-4bf4-ac0c-c3d9cc9fa910",
   "metadata": {},
   "outputs": [
    {
     "data": {
      "text/plain": [
       "{0: '영',\n",
       " 1: '일',\n",
       " 2: '이',\n",
       " 3: '삼',\n",
       " 4: '사',\n",
       " 5: '오',\n",
       " 6: '육',\n",
       " 7: '칠',\n",
       " 8: '팔',\n",
       " 9: '구'}"
      ]
     },
     "execution_count": 64,
     "metadata": {},
     "output_type": "execute_result"
    }
   ],
   "source": [
    "test = dict(zip(range(10),list('영일이삼사오육칠팔구')))\n",
    "test"
   ]
  },
  {
   "cell_type": "code",
   "execution_count": 33,
   "id": "42afc882-5539-4bf1-8611-230071e42fa8",
   "metadata": {},
   "outputs": [
    {
     "name": "stdout",
     "output_type": "stream",
     "text": [
      "철수 88\n",
      "영희 95\n",
      "길동 100\n",
      "몽룡 34\n"
     ]
    }
   ],
   "source": [
    "for k,v in s5.items():\n",
    "    print(f'{k} {v}')"
   ]
  },
  {
   "cell_type": "code",
   "execution_count": 76,
   "id": "c0b8c0ae-03bc-48aa-9c5c-77c3e230240b",
   "metadata": {},
   "outputs": [
    {
     "name": "stdout",
     "output_type": "stream",
     "text": [
      "88\n",
      "95\n",
      "100\n",
      "34\n"
     ]
    }
   ],
   "source": [
    "for _ , v in s5.items(): # values 만 가져오고 싶을떄 \n",
    "    print(f'{v}')"
   ]
  },
  {
   "cell_type": "markdown",
   "id": "4ea1b4e8-7156-49ad-a8e3-c8032da605f1",
   "metadata": {},
   "source": [
    "### series 슬라이싱"
   ]
  },
  {
   "cell_type": "code",
   "execution_count": 266,
   "id": "96e69732-f3f8-48a6-a8be-cec6b940e1de",
   "metadata": {},
   "outputs": [
    {
     "data": {
      "text/plain": [
       "(1448737, 1448737)"
      ]
     },
     "execution_count": 266,
     "metadata": {},
     "output_type": "execute_result"
    }
   ],
   "source": [
    "s4[1] ,s4['부산'] # 슬라이싱도 가능하다(값을 가져올떄)"
   ]
  },
  {
   "cell_type": "code",
   "execution_count": 45,
   "id": "d539cfaf-6843-499b-81d1-f015afb231ac",
   "metadata": {},
   "outputs": [
    {
     "data": {
      "text/plain": [
       "서울    1904312\n",
       "대구    4466052\n",
       "부산    1448737\n",
       "dtype: int64"
      ]
     },
     "execution_count": 267,
     "metadata": {},
     "output_type": "execute_result"
    }
   ],
   "source": [
    "s4[[0,3,1]]\n",
    "s4[['서울','대구','부산']]"
   ]
  },
  {
   "cell_type": "code",
   "execution_count": 46,
   "id": "3f7a3137-21cb-43a4-b766-a198c6a361c1",
   "metadata": {
    "jupyter": {
     "source_hidden": true
    },
    "tags": []
   },
   "outputs": [
    {
     "data": {
      "text/plain": [
       "서울    9904312\n",
       "dtype: int64"
      ]
     },
     "execution_count": 46,
     "metadata": {},
     "output_type": "execute_result"
    }
   ],
   "source": [
    "s4[[0]] #하나의 series를 가져올떄"
   ]
  },
  {
   "cell_type": "markdown",
   "id": "d9589f79-582b-4b48-b9a6-fe63f884a701",
   "metadata": {},
   "source": [
    "### series 연산"
   ]
  },
  {
   "cell_type": "code",
   "execution_count": 55,
   "id": "8fa224f6-4ae9-457d-bb17-a9be4d6ae5f8",
   "metadata": {},
   "outputs": [
    {
     "data": {
      "text/plain": [
       "도시\n",
       "서울     999999\n",
       "부산    3333333\n",
       "인천    2222222\n",
       "대구    1111111\n",
       "Name: 인구, dtype: int64"
      ]
     },
     "execution_count": 55,
     "metadata": {},
     "output_type": "execute_result"
    }
   ],
   "source": [
    "a= pd.Series([999999,3333333,2222222,1111111],index=['서울','부산','인천','대구'])\n",
    "a.name='인구'\n",
    "a.index.name='도시'\n",
    "a"
   ]
  },
  {
   "cell_type": "code",
   "execution_count": 61,
   "id": "b4c88357-2327-4438-970b-cbc57734590d",
   "metadata": {},
   "outputs": [
    {
     "data": {
      "text/plain": [
       "서울    5555555\n",
       "부산    3333333\n",
       "인천    2222222\n",
       "대전    1542353\n",
       "dtype: int64"
      ]
     },
     "execution_count": 61,
     "metadata": {},
     "output_type": "execute_result"
    }
   ],
   "source": [
    "a2 = pd.Series({'서울':5555555,'부산':3333333,'인천':2222222,'대전':1542353})\n",
    "a2"
   ]
  },
  {
   "cell_type": "code",
   "execution_count": 84,
   "id": "906890a9-c890-4261-86a9-00ff648f0d62",
   "metadata": {},
   "outputs": [
    {
     "data": {
      "text/plain": [
       "대구          NaN\n",
       "대전          NaN\n",
       "부산          0.0\n",
       "서울   -4555556.0\n",
       "인천          0.0\n",
       "dtype: float64"
      ]
     },
     "execution_count": 84,
     "metadata": {},
     "output_type": "execute_result"
    }
   ],
   "source": [
    "k = a-a2 # 한쪽에 없는 값은 NAN으로 나옴\n",
    "k"
   ]
  },
  {
   "cell_type": "code",
   "execution_count": 85,
   "id": "49c4659d-ba4d-4209-a2cf-477f8f23ea00",
   "metadata": {},
   "outputs": [
    {
     "data": {
      "text/plain": [
       "대구     True\n",
       "대전     True\n",
       "부산    False\n",
       "서울    False\n",
       "인천    False\n",
       "dtype: bool"
      ]
     },
     "execution_count": 85,
     "metadata": {},
     "output_type": "execute_result"
    }
   ],
   "source": [
    "k.isnull() # null값 있으면 True"
   ]
  },
  {
   "cell_type": "code",
   "execution_count": 86,
   "id": "e95c5ba8-c554-4e2b-baeb-6601eb828d4d",
   "metadata": {},
   "outputs": [
    {
     "data": {
      "text/plain": [
       "대구    False\n",
       "대전    False\n",
       "부산     True\n",
       "서울     True\n",
       "인천     True\n",
       "dtype: bool"
      ]
     },
     "execution_count": 86,
     "metadata": {},
     "output_type": "execute_result"
    }
   ],
   "source": [
    "k.notnull()"
   ]
  },
  {
   "cell_type": "code",
   "execution_count": 89,
   "id": "5a7db169-5a71-4bb6-98c5-0eeb57afbdac",
   "metadata": {},
   "outputs": [
    {
     "data": {
      "text/plain": [
       "부산          0.0\n",
       "서울   -4555556.0\n",
       "인천          0.0\n",
       "dtype: float64"
      ]
     },
     "execution_count": 89,
     "metadata": {},
     "output_type": "execute_result"
    }
   ],
   "source": [
    "k[k.notnull()] # null이 아닌값들 출력 "
   ]
  },
  {
   "cell_type": "code",
   "execution_count": null,
   "id": "1440ce64-1973-4167-81df-14e19df94a4b",
   "metadata": {},
   "outputs": [],
   "source": [
    "del rs['서울']"
   ]
  },
  {
   "cell_type": "markdown",
   "id": "0f0e7568-efcb-4cd4-93fb-adc944470b77",
   "metadata": {},
   "source": [
    "### 가벼운 실습"
   ]
  },
  {
   "cell_type": "code",
   "execution_count": 94,
   "id": "aa8c4caf-6355-44d1-824f-03376ed4537f",
   "metadata": {},
   "outputs": [
    {
     "data": {
      "text/plain": [
       "부산    1.636984\n",
       "서울    2.832690\n",
       "인천    9.818107\n",
       "dtype: float64"
      ]
     },
     "execution_count": 94,
     "metadata": {},
     "output_type": "execute_result"
    }
   ],
   "source": [
    "c = pd.Series({'서울':9904312,'부산':3448737,'인천':2890451,'대구':2466052}) #2015년 인구\n",
    "c2 = pd.Series({'서울':9631482,'부산':3393191,'인천':2632035,'대전':1490158}) # 2010년 인구\n",
    "rs = (c-c2) / c2*100 # 인구 증가율\n",
    "rs = rs[rs.notnull()] # null이 아닌 즉 TRUE인 값에 대해서만 출력 \n",
    "rs"
   ]
  }
 ],
 "metadata": {
  "kernelspec": {
   "display_name": "Python 3 (ipykernel)",
   "language": "python",
   "name": "python3"
  },
  "language_info": {
   "codemirror_mode": {
    "name": "ipython",
    "version": 3
   },
   "file_extension": ".py",
   "mimetype": "text/x-python",
   "name": "python",
   "nbconvert_exporter": "python",
   "pygments_lexer": "ipython3",
   "version": "3.9.12"
  }
 },
 "nbformat": 4,
 "nbformat_minor": 5
}
