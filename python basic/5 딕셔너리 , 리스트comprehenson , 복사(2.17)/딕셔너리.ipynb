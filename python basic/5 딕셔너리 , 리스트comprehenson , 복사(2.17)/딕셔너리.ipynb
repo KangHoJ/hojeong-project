{
 "cells": [
  {
   "cell_type": "markdown",
   "id": "0750d745-c2b3-4c81-b5ea-e233ae67c17c",
   "metadata": {},
   "source": [
    "# 딕셔너리"
   ]
  },
  {
   "cell_type": "code",
   "execution_count": 1,
   "id": "38aeed79-5db5-40e1-9a73-23ee23438982",
   "metadata": {},
   "outputs": [
    {
     "name": "stdout",
     "output_type": "stream",
     "text": [
      "{'a': 'last value'}\n"
     ]
    }
   ],
   "source": [
    "dic_var = {\"a\": \"value\" , \"a\":\"last value\"}\n",
    "print(dic_var)"
   ]
  },
  {
   "cell_type": "code",
   "execution_count": 2,
   "id": "6842ee86-9675-4510-a453-34d68816733e",
   "metadata": {},
   "outputs": [
    {
     "name": "stdout",
     "output_type": "stream",
     "text": [
      "[<class 'str'>, <class 'int'>, <class 'float'>]\n",
      "[<class 'str'>, <class 'str'>, <class 'str'>]\n"
     ]
    }
   ],
   "source": [
    "dic_var = {'key':'value',\n",
    "           1 : 'value2',\n",
    "           1.1 : 'value3',\n",
    "           True : 'value4'}\n",
    "print(list(map(type, dic_var.keys())))# 각각을 type 찍어보는거 적용 \n",
    "print(list(map(type, dic_var.values())))"
   ]
  },
  {
   "cell_type": "code",
   "execution_count": 3,
   "id": "8576a98f-56d9-450e-a7b0-eb05847a6aa0",
   "metadata": {},
   "outputs": [
    {
     "name": "stdout",
     "output_type": "stream",
     "text": [
      "{'key': 'value', 1: False, 1.1: 1.1, ('key', 1, 1.1, True): ('key', 1, 1.1, True), 'list': [1, '가', 1.1, True], 'dict': {'key': 'value', 'keys': 'value2'}, 'set': {'key', 'value'}}\n"
     ]
    }
   ],
   "source": [
    "dic_var2 = {'key':'value',\n",
    "            1:1,\n",
    "            1.1:1.1,\n",
    "            True: False,\n",
    "            ('key',1,1.1,True) : ('key', 1,1.1,True),\n",
    "            \"list\":[1,'가',1.1,True],\n",
    "            'dict':{'key':'value', 'keys':'value2'},\n",
    "            'set' : {'key','value'}}\n",
    "print(dic_var2)"
   ]
  },
  {
   "cell_type": "code",
   "execution_count": 4,
   "id": "e741070a-ab9d-4d71-9b1a-c0f1e4faa597",
   "metadata": {},
   "outputs": [
    {
     "name": "stdout",
     "output_type": "stream",
     "text": [
      "{'key1': 'value1', 'key2': 'value2', 'key3': 'value3'}\n"
     ]
    }
   ],
   "source": [
    "dict_a = dict(key1='value1',key2='value2',key3='value3')\n",
    "print(dict_a)"
   ]
  },
  {
   "cell_type": "code",
   "execution_count": 5,
   "id": "5b5cd800-8044-42a3-8cd3-799316650662",
   "metadata": {},
   "outputs": [
    {
     "name": "stdout",
     "output_type": "stream",
     "text": [
      "{'a': 'valuea', 'key2': 'value', 'key3': 'value3'}\n",
      "valuea\n"
     ]
    }
   ],
   "source": [
    "dict_b = dict(zip(['a','key2','key3'],['valuea','value','value3']))\n",
    "print(dict_b) # 만들어진 dict_b 출력\n",
    "print(dict_b['a']) #인덱싱 방법 "
   ]
  },
  {
   "cell_type": "code",
   "execution_count": null,
   "id": "8260f9cc-4c3f-4ca1-9430-69c555fa390e",
   "metadata": {},
   "outputs": [
    {
     "name": "stdout",
     "output_type": "stream",
     "text": [
      "{'a': 'super value', 'key2': 'value', 'key3': 'value3'}\n"
     ]
    }
   ],
   "source": [
    "dict_b['a'] = 'super value' # 딕셔너리 변경\n",
    "print(dict_b)"
   ]
  },
  {
   "cell_type": "code",
   "execution_count": 12,
   "id": "1b1c708d-0ac1-4521-94cb-1d70e19564de",
   "metadata": {},
   "outputs": [
    {
     "name": "stdout",
     "output_type": "stream",
     "text": [
      "False\n",
      "False\n"
     ]
    },
    {
     "ename": "KeyError",
     "evalue": "'a'",
     "output_type": "error",
     "traceback": [
      "\u001b[1;31m---------------------------------------------------------------------------\u001b[0m",
      "\u001b[1;31mKeyError\u001b[0m                                  Traceback (most recent call last)",
      "Input \u001b[1;32mIn [12]\u001b[0m, in \u001b[0;36m<cell line: 3>\u001b[1;34m()\u001b[0m\n\u001b[0;32m      1\u001b[0m \u001b[38;5;28mprint\u001b[39m(\u001b[38;5;124m'\u001b[39m\u001b[38;5;124ma\u001b[39m\u001b[38;5;124m'\u001b[39m \u001b[38;5;129;01min\u001b[39;00m dict_b) \u001b[38;5;66;03m# 딕셔너리안에 'a'라는키가 있는지 찾는다\u001b[39;00m\n\u001b[0;32m      2\u001b[0m \u001b[38;5;28mprint\u001b[39m(\u001b[38;5;124m'\u001b[39m\u001b[38;5;124ma\u001b[39m\u001b[38;5;124m'\u001b[39m \u001b[38;5;129;01min\u001b[39;00m dict_b\u001b[38;5;241m.\u001b[39mvalues()) \u001b[38;5;66;03m#  딕셔너리안에 'a'라는 value가 있는지 찾는다\u001b[39;00m\n\u001b[1;32m----> 3\u001b[0m \u001b[38;5;28;01mdel\u001b[39;00m dict_b[\u001b[38;5;124m'\u001b[39m\u001b[38;5;124ma\u001b[39m\u001b[38;5;124m'\u001b[39m] \u001b[38;5;66;03m# 딕서너리중 'a' 삭제\u001b[39;00m\n\u001b[0;32m      4\u001b[0m \u001b[38;5;28mlen\u001b[39m(dict_b)\n",
      "\u001b[1;31mKeyError\u001b[0m: 'a'"
     ]
    }
   ],
   "source": [
    "print('a' in dict_b) # 딕셔너리안에 'a'라는키가 있는지 찾는다\n",
    "print('a' in dict_b.values()) #  딕셔너리안에 'a'라는 value가 있는지 찾는다\n",
    "del dict_b['a'] # 딕서너리중 'a' 삭제\n",
    "len(dict_b) # 크기"
   ]
  }
 ],
 "metadata": {
  "kernelspec": {
   "display_name": "Python 3 (ipykernel)",
   "language": "python",
   "name": "python3"
  },
  "language_info": {
   "codemirror_mode": {
    "name": "ipython",
    "version": 3
   },
   "file_extension": ".py",
   "mimetype": "text/x-python",
   "name": "python",
   "nbconvert_exporter": "python",
   "pygments_lexer": "ipython3",
   "version": "3.9.12"
  }
 },
 "nbformat": 4,
 "nbformat_minor": 5
}
