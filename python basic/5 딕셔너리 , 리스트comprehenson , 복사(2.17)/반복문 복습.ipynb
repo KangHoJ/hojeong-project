{
 "cells": [
  {
   "cell_type": "markdown",
   "id": "da525139-45f0-4264-bfed-85e882c1c646",
   "metadata": {},
   "source": [
    "# 복습"
   ]
  },
  {
   "cell_type": "code",
   "execution_count": 1,
   "id": "d105222d-3e07-4002-bd36-7fbe5ec07557",
   "metadata": {},
   "outputs": [
    {
     "name": "stdout",
     "output_type": "stream",
     "text": [
      "1 2 3 4 5 6 7 8 9 10 "
     ]
    }
   ],
   "source": [
    "for i in range(1,11,1):\n",
    "    print(\"{}\".format(i) , end =\" \" )"
   ]
  },
  {
   "cell_type": "code",
   "execution_count": 2,
   "id": "47ccdd99-42ac-46b2-952e-29a6b2b268dd",
   "metadata": {},
   "outputs": [
    {
     "name": "stdout",
     "output_type": "stream",
     "text": [
      "1 2 3 4 5 6 7 8 9 10 "
     ]
    }
   ],
   "source": [
    "i = 1\n",
    "while i < 11 : \n",
    "    print(i,end =\" \")\n",
    "    i+=1\n",
    "    "
   ]
  },
  {
   "cell_type": "code",
   "execution_count": 3,
   "id": "d21d6ad4-eaa9-4c96-8275-9abdd55513e3",
   "metadata": {},
   "outputs": [
    {
     "name": "stdout",
     "output_type": "stream",
     "text": [
      "79.0\n"
     ]
    }
   ],
   "source": [
    "class_a = (70, 60, 55, 75, 95, 90, 80, 80, 85, 100)\n",
    "\n",
    "i = 0\n",
    "result = 0\n",
    "\n",
    "while i < len(class_a):\n",
    "    result += class_a[i]\n",
    "    i +=1\n",
    "\n",
    "print(result/len(class_a))\n",
    "    \n",
    "    \n"
   ]
  },
  {
   "cell_type": "code",
   "execution_count": 4,
   "id": "68d816ec-1362-44cf-830f-b4cd1540e477",
   "metadata": {},
   "outputs": [
    {
     "name": "stdout",
     "output_type": "stream",
     "text": [
      "5050\n"
     ]
    }
   ],
   "source": [
    "i = 0\n",
    "total = 0\n",
    "while True:\n",
    "    total += i\n",
    "    i += 1\n",
    "    if i == 101:\n",
    "        break\n",
    "    \n",
    "print(total)    "
   ]
  },
  {
   "cell_type": "code",
   "execution_count": 6,
   "id": "e31670a2-89d8-4afd-a4f8-4190ca9bf873",
   "metadata": {},
   "outputs": [
    {
     "name": "stdin",
     "output_type": "stream",
     "text": [
      "a를 입력하면 종료됩니다. a\n"
     ]
    },
    {
     "name": "stdout",
     "output_type": "stream",
     "text": [
      "프로그램을 종료합니다\n"
     ]
    }
   ],
   "source": [
    "while True:\n",
    "    input_value = input(\"a를 입력하면 종료됩니다.\")\n",
    "    if input_value == 'a':\n",
    "        break\n",
    "print(\"프로그램을 종료합니다\")"
   ]
  },
  {
   "cell_type": "code",
   "execution_count": 7,
   "id": "adf1c064-540b-4a28-9e78-c21dcfa714b5",
   "metadata": {},
   "outputs": [
    {
     "name": "stdout",
     "output_type": "stream",
     "text": [
      "1\t3\t5\t7\t9\t11\t13\t15\t17\t19\t21\t23\t25\t27\t29\t31\t33\t35\t37\t39\t41\t43\t45\t47\t49\t51\t53\t55\t57\t59\t61\t63\t65\t67\t69\t71\t73\t75\t77\t79\t81\t83\t85\t87\t89\t91\t93\t95\t97\t99\t"
     ]
    }
   ],
   "source": [
    "for i in range(100):\n",
    "    if i % 2 ==0:\n",
    "        continue      # i % 2 가 0이면 건너뛴다 (반복문 루프에서 continue는 아래를 실행안하고 루프 처음으로 감)\n",
    "    print(i , end='\\t')\n",
    "    "
   ]
  },
  {
   "cell_type": "code",
   "execution_count": 8,
   "id": "759236e6-4dbd-4793-abca-51d77bf002bc",
   "metadata": {},
   "outputs": [
    {
     "name": "stdin",
     "output_type": "stream",
     "text": [
      "시작하는 정수입력 1\n",
      "끝나는 정수입력 5\n"
     ]
    },
    {
     "name": "stdout",
     "output_type": "stream",
     "text": [
      "1부터 5까지의 합은 15입니다.\n"
     ]
    }
   ],
   "source": [
    "n= int(input(\"시작하는 정수입력\"))\n",
    "m= int(input(\"끝나는 정수입력\"))\n",
    "\n",
    "total = 0\n",
    "for i in range(n,m+1):\n",
    "    total +=i\n",
    "print(\"{}부터 {}까지의 합은 {}입니다.\".format(n,m,total))"
   ]
  },
  {
   "cell_type": "code",
   "execution_count": 9,
   "id": "e027dc14-2496-49dd-a900-9a500ca61d16",
   "metadata": {},
   "outputs": [
    {
     "name": "stdin",
     "output_type": "stream",
     "text": [
      "시작하는 정수입력 1\n",
      "끝나는 정수입력 5\n"
     ]
    },
    {
     "name": "stdout",
     "output_type": "stream",
     "text": [
      "1 부터 5까지 합은 15입니다\n"
     ]
    }
   ],
   "source": [
    "n= int(input(\"시작하는 정수입력\"))\n",
    "m= int(input(\"끝나는 정수입력\"))\n",
    "\n",
    "i = n\n",
    "total = 0\n",
    "while i <=m:\n",
    "    total +=i\n",
    "    i+=1\n",
    "print('{} 부터 {}까지 합은 {}입니다'.format(n,m,total))"
   ]
  }
 ],
 "metadata": {
  "kernelspec": {
   "display_name": "Python 3 (ipykernel)",
   "language": "python",
   "name": "python3"
  },
  "language_info": {
   "codemirror_mode": {
    "name": "ipython",
    "version": 3
   },
   "file_extension": ".py",
   "mimetype": "text/x-python",
   "name": "python",
   "nbconvert_exporter": "python",
   "pygments_lexer": "ipython3",
   "version": "3.9.12"
  }
 },
 "nbformat": 4,
 "nbformat_minor": 5
}
