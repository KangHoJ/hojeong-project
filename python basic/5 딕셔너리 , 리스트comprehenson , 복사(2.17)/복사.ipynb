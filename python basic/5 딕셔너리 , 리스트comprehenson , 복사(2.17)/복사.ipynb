{
 "cells": [
  {
   "cell_type": "markdown",
   "id": "bd161120-c3b9-482a-9632-fccca1b9b7bc",
   "metadata": {
    "tags": []
   },
   "source": [
    "## - 슬라이싱(복사)"
   ]
  },
  {
   "cell_type": "code",
   "execution_count": 59,
   "id": "083b8c30-06ae-4374-b4fd-a7ae7c10c170",
   "metadata": {},
   "outputs": [
    {
     "name": "stdout",
     "output_type": "stream",
     "text": [
      "2263436774528\n",
      "2263436909696\n",
      "False\n",
      "True\n"
     ]
    }
   ],
   "source": [
    "old_list = list(range(10))\n",
    "new_list = old_list[:]\n",
    "\n",
    "print(id(old_list))\n",
    "print(id(new_list))\n",
    "print(old_list is new_list)\n",
    "print(old_list == new_list)"
   ]
  },
  {
   "cell_type": "markdown",
   "id": "e6148fae-f07a-4161-ba0a-85f58d70ae11",
   "metadata": {},
   "source": [
    "- int복사 일떄"
   ]
  },
  {
   "cell_type": "code",
   "execution_count": 1,
   "id": "640e4fd1-d273-4e73-a8f6-429b26076acc",
   "metadata": {},
   "outputs": [],
   "source": [
    "row = [0]\n",
    "a = []\n",
    "for i in range(3): # row가 만들어져있고 for문이 반복될떄 마다 들어가게 된다 .\n",
    "    a.append(row)"
   ]
  },
  {
   "cell_type": "code",
   "execution_count": 2,
   "id": "35676030-3302-4f6e-9f10-58ef4e10bf1a",
   "metadata": {},
   "outputs": [
    {
     "name": "stdout",
     "output_type": "stream",
     "text": [
      "2624227823104\n",
      "2624227823104\n",
      "2624227823104\n"
     ]
    }
   ],
   "source": [
    "print(id(a[0]))\n",
    "print(id(a[1]))\n",
    "print(id(a[2]))\n",
    "# 3개가 같다 ."
   ]
  },
  {
   "cell_type": "code",
   "execution_count": 5,
   "id": "e5512fc1-a010-4c1e-83eb-1947962b295c",
   "metadata": {},
   "outputs": [
    {
     "data": {
      "text/plain": [
       "[[], [], []]"
      ]
     },
     "execution_count": 5,
     "metadata": {},
     "output_type": "execute_result"
    }
   ],
   "source": [
    "b = []\n",
    "for i in range(3):\n",
    "    row = []       # for 문이 반복될 때마아다 리스트를 새로 만든다 \n",
    "    b.append(row)"
   ]
  },
  {
   "cell_type": "code",
   "execution_count": 35,
   "id": "713d3ae4-cbb8-4a0a-9636-d770cb3591ed",
   "metadata": {},
   "outputs": [
    {
     "name": "stdout",
     "output_type": "stream",
     "text": [
      "1840292927552\n",
      "1840292928128\n",
      "1840292874688\n"
     ]
    }
   ],
   "source": [
    "print(id(b[0]))\n",
    "print(id(b[1]))\n",
    "print(id(b[2]))\n",
    "# 3개가 다른 리스트를 가지게 만들어져서 값이 다르다."
   ]
  },
  {
   "cell_type": "code",
   "execution_count": 36,
   "id": "8a87dd4a-9b99-4e9d-9e5f-d5984a8c3690",
   "metadata": {},
   "outputs": [
    {
     "data": {
      "text/plain": [
       "True"
      ]
     },
     "execution_count": 36,
     "metadata": {},
     "output_type": "execute_result"
    }
   ],
   "source": [
    "e = 256\n",
    "f = 256\n",
    "e is f  # 같다"
   ]
  },
  {
   "cell_type": "code",
   "execution_count": 37,
   "id": "2c222d9a-18aa-40ec-8559-c2fc3dc03f1a",
   "metadata": {},
   "outputs": [
    {
     "data": {
      "text/plain": [
       "False"
      ]
     },
     "execution_count": 37,
     "metadata": {},
     "output_type": "execute_result"
    }
   ],
   "source": [
    "g = 257\n",
    "h = 257\n",
    "g is h # 다르다 "
   ]
  },
  {
   "cell_type": "markdown",
   "id": "a61e10f0-e372-4f22-a9f3-28245d4dfd94",
   "metadata": {},
   "source": [
    "- 리스트 안에 리스트가 들어간 경우(얕은 복사) -> 주소 복사"
   ]
  },
  {
   "cell_type": "code",
   "execution_count": 52,
   "id": "7e49055a-dd2b-4034-865d-f277b355caac",
   "metadata": {},
   "outputs": [
    {
     "data": {
      "text/plain": [
       "False"
      ]
     },
     "execution_count": 52,
     "metadata": {},
     "output_type": "execute_result"
    }
   ],
   "source": [
    "l1 = [1,2,[3,4]]\n",
    "l2 = l1.copy()\n",
    "l1 is l2 # 다르다"
   ]
  },
  {
   "cell_type": "code",
   "execution_count": 54,
   "id": "d8810b7c-2fba-4463-b062-89c17fe34619",
   "metadata": {},
   "outputs": [
    {
     "data": {
      "text/plain": [
       "True"
      ]
     },
     "execution_count": 54,
     "metadata": {},
     "output_type": "execute_result"
    }
   ],
   "source": [
    "l1[-1] is l2[-1] #주소를 복사해 버리니까 같다  "
   ]
  },
  {
   "cell_type": "code",
   "execution_count": 55,
   "id": "58412419-8070-4346-9dfd-22e1e6b27266",
   "metadata": {},
   "outputs": [
    {
     "data": {
      "text/plain": [
       "False"
      ]
     },
     "execution_count": 55,
     "metadata": {},
     "output_type": "execute_result"
    }
   ],
   "source": [
    "l3 = [1,2,[3,4]]\n",
    "l4 = l3[:]\n",
    "l3 is l4 # 다르다 "
   ]
  },
  {
   "cell_type": "code",
   "execution_count": 56,
   "id": "ae28af72-3a47-43f9-a9ef-7afca9cc2b9c",
   "metadata": {},
   "outputs": [
    {
     "data": {
      "text/plain": [
       "True"
      ]
     },
     "execution_count": 56,
     "metadata": {},
     "output_type": "execute_result"
    }
   ],
   "source": [
    "l3[-1] is l4[-1] #주소를 복사해 버리니까 같다 "
   ]
  },
  {
   "cell_type": "markdown",
   "id": "98e09188-6f5e-47d6-a156-0317204cb00a",
   "metadata": {},
   "source": [
    "- 리스트 안에 리스트가 들어간 경우(깊은 복사) -> 다 복사"
   ]
  },
  {
   "cell_type": "code",
   "execution_count": 39,
   "id": "1719281c-2396-4ca1-bc50-d6cd6e7adc6a",
   "metadata": {},
   "outputs": [
    {
     "name": "stdout",
     "output_type": "stream",
     "text": [
      "False\n"
     ]
    }
   ],
   "source": [
    "import copy\n",
    "list_n = [[9,10] , [11,12]]\n",
    "list_o = copy.deepcopy(list_n)\n",
    "print(list_n[0] is list_o)"
   ]
  },
  {
   "cell_type": "code",
   "execution_count": 42,
   "id": "0906a48d-986a-43c7-a9dd-136299aa39a3",
   "metadata": {},
   "outputs": [
    {
     "name": "stdout",
     "output_type": "stream",
     "text": [
      "[[9, 999], [11, 12]]\n",
      "[[9, 10], [11, 12]]\n"
     ]
    }
   ],
   "source": [
    "list_n[0][1] = 999\n",
    "print(list_n)\n",
    "print(list_o)\n",
    "# 서로 완전히 다른 객체라 복사 된것에 영향을 미치 않는다 "
   ]
  }
 ],
 "metadata": {
  "kernelspec": {
   "display_name": "Python 3 (ipykernel)",
   "language": "python",
   "name": "python3"
  },
  "language_info": {
   "codemirror_mode": {
    "name": "ipython",
    "version": 3
   },
   "file_extension": ".py",
   "mimetype": "text/x-python",
   "name": "python",
   "nbconvert_exporter": "python",
   "pygments_lexer": "ipython3",
   "version": "3.9.12"
  }
 },
 "nbformat": 4,
 "nbformat_minor": 5
}
