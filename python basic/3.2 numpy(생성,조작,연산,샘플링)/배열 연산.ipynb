{
 "cells": [
  {
   "cell_type": "markdown",
   "id": "78cc6e79-b377-414d-a8d7-9dccd463ac46",
   "metadata": {},
   "source": [
    "## 벡터화 연산"
   ]
  },
  {
   "cell_type": "code",
   "execution_count": 124,
   "id": "a2a9ef06-b739-42f9-ae3a-dfd8f9c66c53",
   "metadata": {},
   "outputs": [
    {
     "data": {
      "text/plain": [
       "array([10002, 10004, 10006, ..., 29996, 29998, 30000])"
      ]
     },
     "execution_count": 124,
     "metadata": {},
     "output_type": "execute_result"
    }
   ],
   "source": [
    "x = np.arange(1,10001)\n",
    "y = np.arange(10001, 20001)\n",
    "\n",
    "z = x+y\n",
    "z"
   ]
  },
  {
   "cell_type": "code",
   "execution_count": 126,
   "id": "e8a6d3f5-1cfb-4593-9c93-d2f54e035124",
   "metadata": {},
   "outputs": [
    {
     "data": {
      "text/plain": [
       "array([False,  True, False,  True])"
      ]
     },
     "execution_count": 126,
     "metadata": {},
     "output_type": "execute_result"
    }
   ],
   "source": [
    "a = np.array([1,2,3,4])\n",
    "b = np.array([4,2,2,4])\n",
    "c = np.array([1,2,3,4])\n",
    "\n",
    "np.all(a == b) # 다 같으면 TRUE , 아니면 FALSE"
   ]
  },
  {
   "cell_type": "markdown",
   "id": "c79d0e13-6fd9-45d0-9fe8-41064f483148",
   "metadata": {},
   "source": [
    "## 차원 축소 연산"
   ]
  },
  {
   "cell_type": "code",
   "execution_count": 128,
   "id": "10cf3fec-dafa-4d5d-b945-5e82dfe6969b",
   "metadata": {},
   "outputs": [
    {
     "data": {
      "text/plain": [
       "10"
      ]
     },
     "execution_count": 128,
     "metadata": {},
     "output_type": "execute_result"
    }
   ],
   "source": [
    "x = np.array([1,2,3,4])\n",
    "np.sum(x)"
   ]
  },
  {
   "cell_type": "code",
   "execution_count": 131,
   "id": "b65a5aa2-21cb-486c-9683-e4467dce2faa",
   "metadata": {},
   "outputs": [
    {
     "data": {
      "text/plain": [
       "array([ 6, 22, 38])"
      ]
     },
     "execution_count": 131,
     "metadata": {},
     "output_type": "execute_result"
    }
   ],
   "source": [
    "x = np.arange(12).reshape(3,-1)\n",
    "x.sum(axis=0) # 세로로 더한다 (행간 더한다)\n",
    "x.sum(axis=1) # 가로로 더한다 (열간 더한다)"
   ]
  },
  {
   "cell_type": "code",
   "execution_count": 134,
   "id": "6ecacb9f-be75-4258-98ab-7755b3394920",
   "metadata": {},
   "outputs": [
    {
     "data": {
      "text/plain": [
       "0"
      ]
     },
     "execution_count": 134,
     "metadata": {},
     "output_type": "execute_result"
    }
   ],
   "source": [
    "x = np.arange(20).reshape(2,5,-1)\n",
    "np.min(x)\n",
    "x.min(axis=0)\n",
    "np.min(x,axis=1)\n",
    "x.min(axis=2)"
   ]
  },
  {
   "cell_type": "code",
   "execution_count": null,
   "id": "4ac83cdc-94c5-467e-aab3-b74af503cafa",
   "metadata": {},
   "outputs": [],
   "source": [
    "x = np.arange(20).reshape(2,5,-1)\n",
    "np.argmin(x)\n",
    "x.argmin(axis=0)\n",
    "np.argmin(x,axis=1)\n",
    "x.argmin(axis=2)            # 해당 배열의 제일 작은 값의 인덱스를 반환"
   ]
  },
  {
   "cell_type": "code",
   "execution_count": null,
   "id": "c4f50c99-04b4-43c4-ab3a-97040aca0ca4",
   "metadata": {},
   "outputs": [],
   "source": [
    "x = np.arange(20).reshape(2,5,-1)\n",
    "np.max(x)\n",
    "x.max(axis=0)\n",
    "np.max(x,axis=1)\n",
    "x.mix(axis=2)"
   ]
  },
  {
   "cell_type": "code",
   "execution_count": null,
   "id": "4ba7c01f-29a4-49e1-8009-f28e55dc867b",
   "metadata": {},
   "outputs": [],
   "source": [
    "x = np.arange(20).reshape(2,5,-1)\n",
    "np.argmax(x)\n",
    "x.argmax(axis=0)\n",
    "np.argmax(x,axis=1)\n",
    "x.argmax(axis=2)"
   ]
  },
  {
   "cell_type": "code",
   "execution_count": null,
   "id": "a5fd3fd8-020e-40c2-a120-2cddd3a67d57",
   "metadata": {},
   "outputs": [],
   "source": [
    "x.mean() # 평균 구하기\n",
    "np.median(x) # 중앙값 구하기 "
   ]
  },
  {
   "cell_type": "code",
   "execution_count": 135,
   "id": "ee85d63c-2ed2-4d06-8260-c3909343e380",
   "metadata": {},
   "outputs": [
    {
     "data": {
      "text/plain": [
       "True"
      ]
     },
     "execution_count": 135,
     "metadata": {},
     "output_type": "execute_result"
    }
   ],
   "source": [
    "a = np.array([1,2,3,2])\n",
    "b = np.array([2,2,3,2])\n",
    "c = np.array([6,4,4,5])\n",
    "((a<=b) & (b<=c)).all()"
   ]
  }
 ],
 "metadata": {
  "kernelspec": {
   "display_name": "Python 3 (ipykernel)",
   "language": "python",
   "name": "python3"
  },
  "language_info": {
   "codemirror_mode": {
    "name": "ipython",
    "version": 3
   },
   "file_extension": ".py",
   "mimetype": "text/x-python",
   "name": "python",
   "nbconvert_exporter": "python",
   "pygments_lexer": "ipython3",
   "version": "3.9.12"
  }
 },
 "nbformat": 4,
 "nbformat_minor": 5
}
