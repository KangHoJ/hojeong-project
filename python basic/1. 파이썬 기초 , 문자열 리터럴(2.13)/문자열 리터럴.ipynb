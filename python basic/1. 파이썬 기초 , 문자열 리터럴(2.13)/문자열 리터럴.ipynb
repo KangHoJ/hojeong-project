{
 "cells": [
  {
   "cell_type": "markdown",
   "id": "63e1fef2-38a8-49fc-965a-38fe136ef055",
   "metadata": {},
   "source": [
    "## 문자열 리터럴"
   ]
  },
  {
   "cell_type": "code",
   "execution_count": 1,
   "id": "8897238b-83be-4981-bda6-f529b7693baf",
   "metadata": {},
   "outputs": [
    {
     "name": "stdout",
     "output_type": "stream",
     "text": [
      "'안녕?'이라는 그 인사를 듣고 나는 '누구지?'라고 생각했다.\n",
      "\"안녕?\"이라는 그 인사를 듣고 나는 '누구지'라고 생각했다\n"
     ]
    }
   ],
   "source": [
    "print(\"'안녕?'이라는 그 인사를 듣고 나는 '누구지?'라고 생각했다.\")\n",
    "print('\"안녕?\"이라는 그 인사를 듣고 나는 \\'누구지\\'라고 생각했다')\n",
    "# \\는 \"\" 두개 사용 가능하도록 한다 ."
   ]
  },
  {
   "cell_type": "code",
   "execution_count": 2,
   "id": "ab0c4af1-9a2d-47e1-bab4-260e7b1de3e3",
   "metadata": {},
   "outputs": [
    {
     "name": "stdout",
     "output_type": "stream",
     "text": [
      "c:\n",
      "name\n",
      "c:\\nname\n",
      " \n",
      "안녕하새요 , \n",
      "나는 파이썬을 공부하고 있습니다 . \n",
      "반갑습니다 \n",
      "\n",
      "안녕하새요 , \n",
      "나는 파이썬을 공부하고 있습니다 . \n",
      "반갑습니다\n",
      " \n",
      "\"안녕하세요\" , \n",
      "나는 파이썬을 공부하고 있습니다 . \n",
      "반갑습니다\n"
     ]
    }
   ],
   "source": [
    "s0 = 'c:\\nname' # \\n 을 줄바꿈 용도로 사용할떄 \n",
    "\n",
    "s1 = r'c:\\nname' # \\n 문자 그대로 사용하고 싶을떄\n",
    "\n",
    "s2 = \"\"\" \n",
    "안녕하새요 , \n",
    "나는 파이썬을 공부하고 있습니다 . \n",
    "반갑습니다 \n",
    "\"\"\" # 3중 따옴표(\"\"\")를 사용하면 자동으로 줄바꿈\n",
    "\n",
    "\n",
    "s3 = \"\"\"\\\n",
    "안녕하새요 , \n",
    "나는 파이썬을 공부하고 있습니다 . \n",
    "반갑습니다\\\n",
    "\"\"\" # \\를 사용해서 줄바꿈을 막음\n",
    "\n",
    "s4 = \"\"\" \n",
    "\\\"안녕하세요\" , \n",
    "나는 파이썬을 공부하고 있습니다 . \n",
    "반갑습니다\\\n",
    "\"\"\"\n",
    "print(s0)\n",
    "print(s1)\n",
    "print(s2)\n",
    "print(s3)\n",
    "print(s4)"
   ]
  }
 ],
 "metadata": {
  "kernelspec": {
   "display_name": "Python 3 (ipykernel)",
   "language": "python",
   "name": "python3"
  },
  "language_info": {
   "codemirror_mode": {
    "name": "ipython",
    "version": 3
   },
   "file_extension": ".py",
   "mimetype": "text/x-python",
   "name": "python",
   "nbconvert_exporter": "python",
   "pygments_lexer": "ipython3",
   "version": "3.9.12"
  }
 },
 "nbformat": 4,
 "nbformat_minor": 5
}
