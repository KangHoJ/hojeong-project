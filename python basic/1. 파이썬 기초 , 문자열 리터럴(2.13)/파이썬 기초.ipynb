{
 "cells": [
  {
   "cell_type": "markdown",
   "id": "2297f471-ff23-4056-bb03-ccb4c18a42f3",
   "metadata": {},
   "source": [
    "## 파이썬 기초"
   ]
  },
  {
   "cell_type": "code",
   "execution_count": 1,
   "id": "4774520e-ab01-4eef-8207-3840f45f846c",
   "metadata": {},
   "outputs": [
    {
     "name": "stdout",
     "output_type": "stream",
     "text": [
      "Hello, world!\n",
      "Hello, world!\n",
      "Python Programming\n",
      "\n",
      "Hello, world!\n",
      "Hello, world!\n",
      "Python Programming\n"
     ]
    }
   ],
   "source": [
    "a = 'Hello, world!'\n",
    "b = 'Python Programming'\n",
    "\n",
    "print(a)\n",
    "print(a)\n",
    "print(b)\n",
    "\n",
    "print(\"\")\n",
    "\n",
    "print(a+'\\n'+a+'\\n'+b)"
   ]
  },
  {
   "cell_type": "code",
   "execution_count": 2,
   "id": "b273f543-2373-49b7-a698-227dcd16861a",
   "metadata": {},
   "outputs": [
    {
     "name": "stdout",
     "output_type": "stream",
     "text": [
      "89 28.2 3 1\n"
     ]
    }
   ],
   "source": [
    "a= 13 + (22-3) *4\n",
    "b= 13+((22-3)*4)/5\n",
    "c= 7//2 # 몫 구하기 \n",
    "d= 7%2 # 나머지 구하기\n",
    "print(a,b,c,d)"
   ]
  },
  {
   "cell_type": "code",
   "execution_count": 3,
   "id": "2d935f32-e511-41e4-829d-fe51a176d5da",
   "metadata": {},
   "outputs": [
    {
     "name": "stdout",
     "output_type": "stream",
     "text": [
      "가장 시끄러운 층은 = 7 층\n",
      "가장 시끄러운 층은 = 7층 \n"
     ]
    }
   ],
   "source": [
    "m=12\n",
    "a=int(0.2467 * m + 4.159)\n",
    "print('가장','시끄러운','층은','=',a,'층')\n",
    "print('가장 시끄러운 층은 = {}층 '.format(a))"
   ]
  }
 ],
 "metadata": {
  "kernelspec": {
   "display_name": "Python 3 (ipykernel)",
   "language": "python",
   "name": "python3"
  },
  "language_info": {
   "codemirror_mode": {
    "name": "ipython",
    "version": 3
   },
   "file_extension": ".py",
   "mimetype": "text/x-python",
   "name": "python",
   "nbconvert_exporter": "python",
   "pygments_lexer": "ipython3",
   "version": "3.9.12"
  }
 },
 "nbformat": 4,
 "nbformat_minor": 5
}
