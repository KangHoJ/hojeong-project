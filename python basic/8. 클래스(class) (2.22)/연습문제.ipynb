{
 "cells": [
  {
   "cell_type": "code",
   "execution_count": 68,
   "id": "076674ea-3633-40a7-891d-38f4c9eab585",
   "metadata": {},
   "outputs": [
    {
     "name": "stdin",
     "output_type": "stream",
     "text": [
      "체력을 입력하세요 10\n",
      "마나를 입력하세요 10\n",
      "AP를 입력하세요 10\n"
     ]
    },
    {
     "name": "stdout",
     "output_type": "stream",
     "text": [
      "티버 : 피해량 406.5\n"
     ]
    }
   ],
   "source": [
    "# 못풀었음 \n",
    "class Annie:\n",
    "    def __init__(self):\n",
    "        self.hp = input('체력을 입력하세요')\n",
    "        self.mp = input('마나를 입력하세요')\n",
    "        self.ap = input('AP를 입력하세요')\n",
    "        \n",
    "    def tibbers(self):\n",
    "        self.damage = float(self.ap) * 0.65 + 400\n",
    "        \n",
    "tiber = Annie()\n",
    "tiber.tibbers()\n",
    "print('티버 : 피해량 {}'.format(tiber.damage))        \n"
   ]
  }
 ],
 "metadata": {
  "kernelspec": {
   "display_name": "Python 3 (ipykernel)",
   "language": "python",
   "name": "python3"
  },
  "language_info": {
   "codemirror_mode": {
    "name": "ipython",
    "version": 3
   },
   "file_extension": ".py",
   "mimetype": "text/x-python",
   "name": "python",
   "nbconvert_exporter": "python",
   "pygments_lexer": "ipython3",
   "version": "3.9.12"
  }
 },
 "nbformat": 4,
 "nbformat_minor": 5
}
