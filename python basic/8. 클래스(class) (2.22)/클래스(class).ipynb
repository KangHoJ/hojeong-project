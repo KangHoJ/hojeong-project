{
 "cells": [
  {
   "cell_type": "markdown",
   "id": "1e3aba7c-3fe8-4dea-9a01-1bf3bfeedd9c",
   "metadata": {},
   "source": [
    "### 클래스(class)"
   ]
  },
  {
   "cell_type": "code",
   "execution_count": 7,
   "id": "b161a2b2-a26a-4188-90b9-94f424320f1e",
   "metadata": {},
   "outputs": [],
   "source": [
    "class student:\n",
    "    def __init__(self): # 생성자 : 객체가 최초 생성될떄 단 한 번 실행되는 메서드 \n",
    "        self.name = '홍길동' #self라는 것은 내 자신의 인스턴스\n"
   ]
  },
  {
   "cell_type": "code",
   "execution_count": 8,
   "id": "07971a87-6386-4be0-8538-82d5f027651c",
   "metadata": {},
   "outputs": [],
   "source": [
    "s1 = student() # class로 부터 객체가 생성\n",
    "\n",
    "s2 = student()\n",
    "\n",
    "\n",
    "# 각각 객체가 만들어짐 "
   ]
  },
  {
   "cell_type": "code",
   "execution_count": 9,
   "id": "bfb72f2f-6704-49a0-9b80-7a5d9c5e462a",
   "metadata": {},
   "outputs": [
    {
     "name": "stdout",
     "output_type": "stream",
     "text": [
      "홍길동\n",
      "홍길동\n"
     ]
    }
   ],
   "source": [
    "print(s1.name)\n",
    "print(s2.name)"
   ]
  },
  {
   "cell_type": "code",
   "execution_count": 1,
   "id": "6d3ec3d2-65e7-4ddc-9c17-bfcef1926a3c",
   "metadata": {},
   "outputs": [
    {
     "name": "stdout",
     "output_type": "stream",
     "text": [
      "안녕하세요\n"
     ]
    }
   ],
   "source": [
    "class person:\n",
    "    def __init__(self):   # james = person() 처럼 인스턴스를 만들떄 호출되는 메서드\n",
    "        self.hello ='안녕하세요' # hello처럼 속성을 추가 \n",
    "    def greeting(self):\n",
    "        print(self.hello)\n",
    "        \n",
    "james = person()\n",
    "james.greeting()"
   ]
  },
  {
   "cell_type": "code",
   "execution_count": 16,
   "id": "d236e33e-740e-4f22-91e7-8745eec289cb",
   "metadata": {},
   "outputs": [],
   "source": [
    "class Person:\n",
    "    def __init__(self,name,age):\n",
    "        self.a = name\n",
    "        self.b = age\n",
    "        \n"
   ]
  },
  {
   "cell_type": "code",
   "execution_count": 22,
   "id": "d714a0ca-00f8-433c-9e11-1384fa34127f",
   "metadata": {},
   "outputs": [
    {
     "name": "stdout",
     "output_type": "stream",
     "text": [
      "홍길동\n",
      "22\n"
     ]
    }
   ],
   "source": [
    "p1 = Person('홍길동',22)\n",
    "print(p1.a)\n",
    "print(p1.b)"
   ]
  },
  {
   "cell_type": "code",
   "execution_count": 23,
   "id": "2107d912-676a-4897-83cf-8cb4e2e635a0",
   "metadata": {},
   "outputs": [
    {
     "name": "stdout",
     "output_type": "stream",
     "text": [
      "홍길다\n",
      "32\n"
     ]
    }
   ],
   "source": [
    "p2 = Person('홍길다',32)\n",
    "print(p2.a)\n",
    "print(p2.b)"
   ]
  },
  {
   "cell_type": "code",
   "execution_count": null,
   "id": "afb91ed6-9372-4c82-b8d3-413f5389bee8",
   "metadata": {},
   "outputs": [],
   "source": [
    "class Person:\n",
    "    def __init__(self,name,age,address):\n",
    "        self.hello = '안녕하세요'\n",
    "        self.name = name\n",
    "        self.age = age\n",
    "        self.address = address\n",
    "        \n",
    "    def greeting(self):\n",
    "        print('{}제 이름은 {}입니다.'.format(self.hello,self.name))\n",
    "    \n",
    "\n",
    "maria = person('마리아',20,'서울시 서초구 반포동')\n",
    "maria.greeting()\n",
    "\n",
    "print('이름',maria.name)\n",
    "print('이름',maria.age)\n",
    "print('이름',maria.address)"
   ]
  },
  {
   "cell_type": "code",
   "execution_count": 42,
   "id": "7c5c00b1-7289-4670-9ce5-6070af04808f",
   "metadata": {},
   "outputs": [
    {
     "name": "stdin",
     "output_type": "stream",
     "text": [
      "이름은 무엇인가요? 1\n",
      "나이은 무엇인가요? 1\n",
      "주소은 무엇인가요? 1\n",
      "이름은 무엇인가요? 1\n",
      "나이은 무엇인가요? 1\n",
      "주소은 무엇인가요? 1\n"
     ]
    },
    {
     "name": "stdout",
     "output_type": "stream",
     "text": [
      "첫번쨰 이름: 마리아 \n",
      "첫번쨰 이름: 20 \n",
      "첫번쨰 이름: 서울시 강남구 \n",
      "두번쨰 이름: 제임스 \n",
      "두번쨰 이름: 21 \n",
      "두번쨰 이름: 서울시 구로구 \n"
     ]
    }
   ],
   "source": [
    "# 어떠한 값을 입력하더라도 정의된 값으로 출력된다 .\n",
    "class person:\n",
    "    def __init__(self,name,age,address):\n",
    "        self.name = name\n",
    "        self.age = age\n",
    "        self.address = address\n",
    "        \n",
    "        \n",
    "    def greeting(self):\n",
    "        input('이름은 무엇인가요?')\n",
    "        input('나이은 무엇인가요?')\n",
    "        input('주소은 무엇인가요?')\n",
    "        \n",
    "        \n",
    "    \n",
    "maria = person('마리아',20,'서울시 강남구')\n",
    "maria.greeting()\n",
    "james = person('제임스',21,'서울시 구로구')\n",
    "james.greeting()\n",
    "\n",
    "\n",
    "print('첫번쨰 이름: {} '.format(maria.name))\n",
    "print('첫번쨰 이름: {} '.format(maria.age))\n",
    "print('첫번쨰 이름: {} '.format(maria.address))\n",
    "print('두번쨰 이름: {} '.format(james.name))\n",
    "print('두번쨰 이름: {} '.format(james.age))\n",
    "print('두번쨰 이름: {} '.format(james.address))\n"
   ]
  },
  {
   "cell_type": "code",
   "execution_count": 47,
   "id": "ca2ec752-bf39-40c4-be75-0922a3e0f0bc",
   "metadata": {},
   "outputs": [
    {
     "name": "stdin",
     "output_type": "stream",
     "text": [
      "이름은 무엇인가요? 마리아\n",
      "나이은 무엇인가요? 20\n",
      "주소은 무엇인가요? 서울시 강남구\n",
      "이름은 무엇인가요? 제임스\n",
      "나이은 무엇인가요? 21\n",
      "주소은 무엇인가요? 서울시 구로구\n"
     ]
    },
    {
     "name": "stdout",
     "output_type": "stream",
     "text": [
      "첫번쨰 이름: 마리아 \n",
      "첫번쨰 이름: 20 \n",
      "첫번쨰 이름: 서울시 강남구 \n",
      "두번쨰 이름: 제임스 \n",
      "두번쨰 이름: 21 \n",
      "두번쨰 이름: 서울시 구로구 \n"
     ]
    }
   ],
   "source": [
    "# 방법 2 -> 입력한 값을 출력할 수 있게 해줌 \n",
    "class person:\n",
    "    def __init__(self):\n",
    "        pass\n",
    "        \n",
    "    def greeting(self):\n",
    "        self.name = input('이름은 무엇인가요?')\n",
    "        self.age = input('나이은 무엇인가요?')\n",
    "        self.address = input('주소은 무엇인가요?')\n",
    "        \n",
    "        \n",
    "    \n",
    "maria = person()\n",
    "maria.greeting()\n",
    "james = person()\n",
    "james.greeting()\n",
    "\n",
    "\n",
    "print('첫번쨰 이름: {} '.format(maria.name))\n",
    "print('첫번쨰 이름: {} '.format(maria.age))\n",
    "print('첫번쨰 이름: {} '.format(maria.address))\n",
    "print('두번쨰 이름: {} '.format(james.name))\n",
    "print('두번쨰 이름: {} '.format(james.age))\n",
    "print('두번쨰 이름: {} '.format(james.address))\n"
   ]
  }
 ],
 "metadata": {
  "kernelspec": {
   "display_name": "Python 3 (ipykernel)",
   "language": "python",
   "name": "python3"
  },
  "language_info": {
   "codemirror_mode": {
    "name": "ipython",
    "version": 3
   },
   "file_extension": ".py",
   "mimetype": "text/x-python",
   "name": "python",
   "nbconvert_exporter": "python",
   "pygments_lexer": "ipython3",
   "version": "3.9.12"
  }
 },
 "nbformat": 4,
 "nbformat_minor": 5
}
