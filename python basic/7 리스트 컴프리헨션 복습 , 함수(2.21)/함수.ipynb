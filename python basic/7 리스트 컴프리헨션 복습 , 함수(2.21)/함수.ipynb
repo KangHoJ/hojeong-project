{
 "cells": [
  {
   "cell_type": "markdown",
   "id": "2dc9832c-2e41-48a6-a686-76df25e2ea85",
   "metadata": {},
   "source": [
    "## 함수"
   ]
  },
  {
   "cell_type": "code",
   "execution_count": null,
   "id": "69bec28f-f538-4282-ad27-2f3fa9c9d58d",
   "metadata": {},
   "outputs": [],
   "source": [
    "'''\n",
    "def 함수명(인자,인자,...)\n",
    "        함수 코드 ..\n",
    "        return 반환값  ( 함수를 빠져나가는 느낌)\n",
    "\n",
    "- 메서드는 객체의 종류에따라 쓸 수 있는것이 달라진다\n",
    "'''"
   ]
  },
  {
   "cell_type": "code",
   "execution_count": null,
   "id": "f9dc0474-c014-4333-b2c8-0fb5c0469efa",
   "metadata": {},
   "outputs": [],
   "source": [
    "'''\n",
    "\n",
    "함수인자 \n",
    "- 위치-키워드(positional or keyword)\n",
    "- 위치 전용(positional-only) ->  / 문자를 기준으로 좌측에 위치한 인자\n",
    "- 키워드 전용(keyword-only)  ->  * 문자를 기준으로 우측에 위치한 인자\n",
    "- 가변 위치(var positional)  ->  위치 매개변수를 개수에 상관없이 받을 수 있음 ( 변수명 앞에 *를 붙여 표기) \n",
    "- 가변 키워드(var keyword)   ->  변수명 앞에 **를 붙여 표기\n"
   ]
  },
  {
   "cell_type": "code",
   "execution_count": 28,
   "id": "bd58e445-28cf-4fc5-a54a-552d815b5def",
   "metadata": {},
   "outputs": [],
   "source": [
    "def print_ten(some_str):\n",
    "    ''' print('hello')를 열번 출력합니다.'''\n",
    "    for i in range(3):\n",
    "        print('hello')\n"
   ]
  },
  {
   "cell_type": "code",
   "execution_count": 29,
   "id": "1d41623d-c474-433a-9129-c9f716e5bc4d",
   "metadata": {},
   "outputs": [
    {
     "name": "stdout",
     "output_type": "stream",
     "text": [
      "hello\n",
      "hello\n",
      "hello\n"
     ]
    }
   ],
   "source": [
    "print_ten('문자열')"
   ]
  },
  {
   "cell_type": "code",
   "execution_count": 26,
   "id": "f16c0904-3df6-49ce-89ba-d938741d6802",
   "metadata": {},
   "outputs": [
    {
     "name": "stdout",
     "output_type": "stream",
     "text": [
      " print('hello')를 열번 출력합니다.\n"
     ]
    }
   ],
   "source": [
    "print(print_ten.__doc__)"
   ]
  },
  {
   "cell_type": "code",
   "execution_count": 31,
   "id": "8374e9c3-bdcb-48ad-98b9-9bbc473777e1",
   "metadata": {},
   "outputs": [
    {
     "name": "stdout",
     "output_type": "stream",
     "text": [
      "파이썬씨 안녕하세요.약 32일 되었습니다.\n"
     ]
    }
   ],
   "source": [
    "def greeting(name,age): # name , age는 파라미터\n",
    "    print('{}씨 안녕하세요.약 {}일 되었습니다.'.format(name,age))\n",
    "greeting('파이썬',32) # 파이썬,32는 argument"
   ]
  },
  {
   "cell_type": "code",
   "execution_count": 32,
   "id": "244b3ad4-0638-4549-bf1d-33a0b4a69bae",
   "metadata": {},
   "outputs": [
    {
     "name": "stdout",
     "output_type": "stream",
     "text": [
      "파이썬씨 안녕하세요.약 32일 되었습니다.\n",
      "파이썬씨 안녕하세요.약 32일 되었습니다.\n",
      "파이썬씨 안녕하세요.약 32일 되었습니다.\n",
      "파이썬씨 안녕하세요.약 32일 되었습니다.\n"
     ]
    }
   ],
   "source": [
    "# 위치 or 키워드 인자\n",
    "greeting('파이썬',32)\n",
    "greeting(name='파이썬',age=32)\n",
    "greeting('파이썬', age=32)\n",
    "greeting(age =32 , name='파이썬')"
   ]
  },
  {
   "cell_type": "code",
   "execution_count": 33,
   "id": "680661f0-614d-4d23-87a5-46d1093c1166",
   "metadata": {},
   "outputs": [
    {
     "name": "stdout",
     "output_type": "stream",
     "text": [
      "값만 입력해야 합니다\n"
     ]
    }
   ],
   "source": [
    "# 위치 전용 인자\n",
    "def posonly(posonly,/):\n",
    "    print(posonly)\n",
    "\n",
    "posonly('값만 입력해야 합니다')"
   ]
  },
  {
   "cell_type": "code",
   "execution_count": 34,
   "id": "5712d934-5d58-4047-a630-8e9a1d97d8ea",
   "metadata": {},
   "outputs": [
    {
     "name": "stdout",
     "output_type": "stream",
     "text": [
      "키워드로만 입력해야 합니다.\n"
     ]
    }
   ],
   "source": [
    "# 키워드 전용 인자\n",
    "def keyonly(*,keyonly='default'):\n",
    "    print(keyonly)\n",
    "keyonly(keyonly='키워드로만 입력해야 합니다.')"
   ]
  },
  {
   "cell_type": "code",
   "execution_count": 1,
   "id": "4af694de-cfc4-4d32-8242-b8fba48fb3b0",
   "metadata": {},
   "outputs": [
    {
     "name": "stdout",
     "output_type": "stream",
     "text": [
      "<class 'tuple'>\n",
      "15\n"
     ]
    }
   ],
   "source": [
    "# 가변 위치 인자\n",
    "def var_positional(*args):\n",
    "    print(type(args))\n",
    "    return sum([i for i in args])\n",
    "\n",
    "print(var_positional(1,2,3,4,5))"
   ]
  },
  {
   "cell_type": "code",
   "execution_count": 2,
   "id": "adfcf960-427a-4416-91f0-d4cce44a7a3c",
   "metadata": {},
   "outputs": [
    {
     "name": "stdout",
     "output_type": "stream",
     "text": [
      "<class 'dict'>\n",
      "{'key': 'value', 'key2': 'value2'}\n"
     ]
    }
   ],
   "source": [
    "# 가변 키워드 인자\n",
    "def var_keywowrd(**kargs):\n",
    "    print(type(kargs))\n",
    "    return kargs\n",
    "\n",
    "print(var_keywowrd(key='value',key2='value2'))"
   ]
  },
  {
   "cell_type": "code",
   "execution_count": 39,
   "id": "4be44909-19c8-4dcd-9f8d-7e1811678ddd",
   "metadata": {},
   "outputs": [
    {
     "data": {
      "text/plain": [
       "90"
      ]
     },
     "execution_count": 40,
     "metadata": {},
     "output_type": "execute_result"
    }
   ],
   "source": [
    "def plus_ten(number):\n",
    "    return number +10\n",
    "\n",
    "plus_ten(70)"
   ]
  },
  {
   "cell_type": "code",
   "execution_count": 77,
   "id": "368857b1-cefa-4300-99b6-a98f6ae0aa8e",
   "metadata": {},
   "outputs": [
    {
     "data": {
      "text/plain": [
       "'평년'"
      ]
     },
     "execution_count": 77,
     "metadata": {},
     "output_type": "execute_result"
    }
   ],
   "source": [
    "def chcek_leap_year(year):\n",
    "    if year % 100 == 0 and year % 400 != 0:\n",
    "        return \"평년\"\n",
    "    elif year % 4 == 0:\n",
    "        return \"윤년\"\n",
    "    else :\n",
    "        return '평년'\n",
    "    \n",
    "\n",
    "chcek_leap_year(1900)"
   ]
  },
  {
   "cell_type": "code",
   "execution_count": 87,
   "id": "604265bc-d276-49fd-91db-37a7274ba613",
   "metadata": {},
   "outputs": [
    {
     "data": {
      "text/plain": [
       "30"
      ]
     },
     "execution_count": 87,
     "metadata": {},
     "output_type": "execute_result"
    }
   ],
   "source": [
    "def days(m):\n",
    "        if m in [1,3,4,7,8,10,12] :\n",
    "            return 31\n",
    "        elif m in [4,6,9,11]  :\n",
    "            return 30\n",
    "        elif m == 2:\n",
    "            return 28\n",
    "\n",
    "days(11)"
   ]
  },
  {
   "cell_type": "code",
   "execution_count": 92,
   "id": "5d9fb5d6-7818-4543-995f-6babce850694",
   "metadata": {},
   "outputs": [
    {
     "data": {
      "text/plain": [
       "29"
      ]
     },
     "execution_count": 92,
     "metadata": {},
     "output_type": "execute_result"
    }
   ],
   "source": [
    "def days(y,m):\n",
    "    if m in [1,3,4,7,8,10,12] :\n",
    "        return 31\n",
    "    elif m in [4,6,9,11] :\n",
    "        return 30\n",
    "    elif (y % 100 == 0 and y % 400 != 0 or y % 4 != 0) and m ==2 :\n",
    "        return 28\n",
    "    elif (y % 4 ==0) and m==2 :\n",
    "        return 29\n",
    "    \n",
    "days(2000,2)"
   ]
  },
  {
   "cell_type": "code",
   "execution_count": null,
   "id": "67bfe8f0-8c4f-4991-a06e-3f13667be419",
   "metadata": {},
   "outputs": [],
   "source": [
    "'''\n",
    "변수의 범위 - 전역 변수(global variable) , 지역 변수\n",
    "\n",
    "\n",
    "- global 키워드는 전역 변수를 매칭해준다\n",
    "- 중첩된 함수마다 같은 이름의 변수가 있다면 nonlocal 키워드를 사용하면 가장 가까운 변수 매칭\n",
    "- 변수를 찾을때 좁은범위 -> 넓은범위로 찾는다 "
   ]
  },
  {
   "cell_type": "code",
   "execution_count": 94,
   "id": "c1f81fef-1d52-4dbe-9672-90ae580784fe",
   "metadata": {},
   "outputs": [
    {
     "name": "stdout",
     "output_type": "stream",
     "text": [
      "global 키워드 활용해서 변경 완료\n"
     ]
    }
   ],
   "source": [
    "global_variable = '변경이 됩니까?'\n",
    "\n",
    "def heartbreaker():\n",
    "    global global_variable  # global 을 사용하여 접근 \n",
    "    global_variable = 'global 키워드 활용해서 변경 완료'\n",
    "    \n",
    "heartbreaker()\n",
    "print(global_variable)"
   ]
  }
 ],
 "metadata": {
  "kernelspec": {
   "display_name": "Python 3 (ipykernel)",
   "language": "python",
   "name": "python3"
  },
  "language_info": {
   "codemirror_mode": {
    "name": "ipython",
    "version": 3
   },
   "file_extension": ".py",
   "mimetype": "text/x-python",
   "name": "python",
   "nbconvert_exporter": "python",
   "pygments_lexer": "ipython3",
   "version": "3.9.12"
  }
 },
 "nbformat": 4,
 "nbformat_minor": 5
}
