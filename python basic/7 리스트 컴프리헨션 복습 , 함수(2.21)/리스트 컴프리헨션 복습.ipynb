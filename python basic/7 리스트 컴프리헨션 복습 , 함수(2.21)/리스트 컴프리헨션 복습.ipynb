{
 "cells": [
  {
   "cell_type": "code",
   "execution_count": 10,
   "id": "373ef6c0-e755-4400-ba39-43d3471cc30d",
   "metadata": {},
   "outputs": [
    {
     "data": {
      "text/plain": [
       "{15, 30, 45, 60, 75, 90}"
      ]
     },
     "execution_count": 10,
     "metadata": {},
     "output_type": "execute_result"
    }
   ],
   "source": [
    "set_3 = { i for i in range(1,100) if i % 3 == 0 }\n",
    "set_5 = { i for i in range(1,100) if i % 5 == 0}\n",
    "result_set = set_3 & set_5\n",
    "result_set"
   ]
  },
  {
   "cell_type": "code",
   "execution_count": 21,
   "id": "bdd9e0ef-213e-45d9-9343-1c9d1e019151",
   "metadata": {},
   "outputs": [
    {
     "name": "stdout",
     "output_type": "stream",
     "text": [
      "개인정보 조회, 구매 관리, 근태 관리, 시스템 관리, 인사 관리, 회계 관리, "
     ]
    }
   ],
   "source": [
    "role_admin = (\"회계 관리\", \"인사 관리\", \"구매 관리\", \"시스템 관리\")\n",
    "role_hr = (\"인사 관리\", \"개인정보 조회\", \"회계 관리\", \"근태 관리\")\n",
    "role_user = (\"개인정보 조회\", \"근태 관리\")\n",
    "role_set = role_admin + role_hr + role_user\n",
    "set_role=set(role_set)\n",
    "k=list(set_role)\n",
    "k.sort()\n",
    "for i in range(len(k)):\n",
    "    print(k[i]+ ',',end=' ')"
   ]
  },
  {
   "cell_type": "code",
   "execution_count": 71,
   "id": "dbb54f32-b6cd-48f0-bdd8-51dcecc57336",
   "metadata": {},
   "outputs": [
    {
     "name": "stdin",
     "output_type": "stream",
     "text": [
      "숫자를 입력하세요 10\n"
     ]
    }
   ],
   "source": [
    "number = input('숫자를 입력하세요')"
   ]
  },
  {
   "cell_type": "code",
   "execution_count": 72,
   "id": "47fb296e-a398-427a-b061-50ddb38979b4",
   "metadata": {},
   "outputs": [
    {
     "data": {
      "text/plain": [
       "10"
      ]
     },
     "execution_count": 72,
     "metadata": {},
     "output_type": "execute_result"
    }
   ],
   "source": [
    "int(float(number))"
   ]
  },
  {
   "cell_type": "markdown",
   "id": "b8913f50-f429-4ef6-9890-1990b706c8d3",
   "metadata": {},
   "source": [
    "# 람다"
   ]
  },
  {
   "cell_type": "code",
   "execution_count": 95,
   "id": "ca86457c-e59d-459c-ba9a-51abfe6767d4",
   "metadata": {},
   "outputs": [
    {
     "data": {
      "text/plain": [
       "20"
      ]
     },
     "execution_count": 95,
     "metadata": {},
     "output_type": "execute_result"
    }
   ],
   "source": [
    "# 람다(lambda)\n",
    "#lambda[parameters]:expression\n",
    "(lambda x: x + 10)(10)"
   ]
  },
  {
   "cell_type": "code",
   "execution_count": 96,
   "id": "2a08448f-854d-442e-b966-559958e9567e",
   "metadata": {},
   "outputs": [
    {
     "name": "stdout",
     "output_type": "stream",
     "text": [
      "20\n"
     ]
    }
   ],
   "source": [
    "twice = lambda x: x*2\n",
    "print(twice(10))"
   ]
  },
  {
   "cell_type": "code",
   "execution_count": null,
   "id": "6a323b13-7d6c-4e12-b0e8-6a1ee94cd862",
   "metadata": {},
   "outputs": [],
   "source": [
    "'''\n",
    "조건 표현식 (if 랑 else를 한번에 사용하는법)\n",
    "-> True일때 값 if 조건식 else False일떄 값 "
   ]
  },
  {
   "cell_type": "code",
   "execution_count": 3,
   "id": "77b57bcc-ca84-4d0c-9eaf-d2f685443d29",
   "metadata": {},
   "outputs": [
    {
     "data": {
      "text/plain": [
       "'B'"
      ]
     },
     "execution_count": 3,
     "metadata": {},
     "output_type": "execute_result"
    }
   ],
   "source": [
    "score = 90\n",
    "'A' if 90<score<=100 else 'B' if 80 < score else 'C'"
   ]
  },
  {
   "cell_type": "code",
   "execution_count": 99,
   "id": "2d4ff30e-b978-4bc3-92db-8cd4e7411c8d",
   "metadata": {},
   "outputs": [
    {
     "name": "stdout",
     "output_type": "stream",
     "text": [
      "[2, 8, 18, 32, 50]\n"
     ]
    }
   ],
   "source": [
    "a = [ i for i in range(1,6)]\n",
    "b = [ j for j in range(2,11,2)]\n",
    "print(list(map(lambda x,y: x*y , a,b)))"
   ]
  },
  {
   "cell_type": "code",
   "execution_count": 100,
   "id": "0945eec3-7d3e-4c26-9470-d462a035956f",
   "metadata": {},
   "outputs": [
    {
     "data": {
      "text/plain": [
       "[3, 9, 9]"
      ]
     },
     "execution_count": 100,
     "metadata": {},
     "output_type": "execute_result"
    }
   ],
   "source": [
    "a = [ 3,2,8,22,10,7,0,11,9,9]\n",
    "list(filter(lambda x: x % 3 ==0 and 0 < x < 10 , a)) \n",
    "# filter 를 통해 True 값이면 출력해줌 "
   ]
  }
 ],
 "metadata": {
  "kernelspec": {
   "display_name": "Python 3 (ipykernel)",
   "language": "python",
   "name": "python3"
  },
  "language_info": {
   "codemirror_mode": {
    "name": "ipython",
    "version": 3
   },
   "file_extension": ".py",
   "mimetype": "text/x-python",
   "name": "python",
   "nbconvert_exporter": "python",
   "pygments_lexer": "ipython3",
   "version": "3.9.12"
  }
 },
 "nbformat": 4,
 "nbformat_minor": 5
}
